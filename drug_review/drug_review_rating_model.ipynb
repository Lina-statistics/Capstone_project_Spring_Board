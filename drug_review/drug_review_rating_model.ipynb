{
 "cells": [
  {
   "cell_type": "markdown",
   "id": "b5145f03",
   "metadata": {},
   "source": [
    "## Part IV bag of words NLP rating model\n",
    "\n",
    "### 4.1 modeling using tfidf transformed data"
   ]
  },
  {
   "cell_type": "code",
   "execution_count": 1,
   "id": "e137b054",
   "metadata": {},
   "outputs": [],
   "source": [
    "import re\n",
    "import nltk\n",
    "import numpy as np\n",
    "import pandas as pd\n",
    "import matplotlib.pyplot as plt\n",
    "import seaborn as sns"
   ]
  },
  {
   "cell_type": "code",
   "execution_count": 2,
   "id": "36d21a63",
   "metadata": {},
   "outputs": [],
   "source": [
    "from sklearn.linear_model import ElasticNet, ElasticNetCV\n",
    "from sklearn.tree import DecisionTreeRegressor\n",
    "from xgboost import XGBRegressor\n",
    "from sklearn.svm import SVR\n",
    "from numpy import arange\n",
    "from sklearn.metrics import mean_squared_error, mean_absolute_error, r2_score\n",
    "from sklearn.model_selection import RandomizedSearchCV"
   ]
  },
  {
   "cell_type": "code",
   "execution_count": 3,
   "id": "edf607b4",
   "metadata": {},
   "outputs": [],
   "source": [
    "#load data and scale data\n",
    "X_train=pd.read_csv('data/tfidf_train_X.csv')\n",
    "y_train=pd.read_csv('data/y_train.csv')\n",
    "X_test=pd.read_csv('data/tfidf_test_X.csv')\n",
    "y_test=pd.read_csv('data/y_test.csv')"
   ]
  },
  {
   "cell_type": "code",
   "execution_count": 4,
   "id": "f8fbc373",
   "metadata": {},
   "outputs": [],
   "source": [
    "from sklearn.preprocessing import StandardScaler\n",
    "from sklearn.model_selection import cross_validate\n",
    "st_scaler=StandardScaler()\n",
    "X_train_s=st_scaler.fit_transform(X_train)\n",
    "X_test_s=st_scaler.transform(X_test)"
   ]
  },
  {
   "cell_type": "code",
   "execution_count": 5,
   "id": "d4ca8daa",
   "metadata": {},
   "outputs": [
    {
     "data": {
      "text/plain": [
       "(41191, 298)"
      ]
     },
     "execution_count": 5,
     "metadata": {},
     "output_type": "execute_result"
    }
   ],
   "source": [
    "X_train_s.shape"
   ]
  },
  {
   "cell_type": "code",
   "execution_count": 6,
   "id": "8d147b40",
   "metadata": {},
   "outputs": [
    {
     "data": {
      "text/plain": [
       "(41191, 1)"
      ]
     },
     "execution_count": 6,
     "metadata": {},
     "output_type": "execute_result"
    }
   ],
   "source": [
    "y_train.shape"
   ]
  },
  {
   "cell_type": "markdown",
   "id": "1138f939",
   "metadata": {},
   "source": [
    "#### 4.1.1 Regularized Linear regression model"
   ]
  },
  {
   "cell_type": "markdown",
   "id": "18b76413",
   "metadata": {},
   "source": [
    " ElasticNet regularization applies both L1-norm and L2-norm regularization to penalize the coefficients in a regression model.  ElasticNetCV is a cross-validation class that can search multiple alpha values and applies the best one. We'll define the model with alphas value and fit it with xtrain and ytrain data. More details about ElasticNet model can be found [here](https://machinelearningmastery.com/elastic-net-regression-in-python/)."
   ]
  },
  {
   "cell_type": "code",
   "execution_count": 7,
   "id": "15c85a1c",
   "metadata": {},
   "outputs": [
    {
     "name": "stdout",
     "output_type": "stream",
     "text": [
      "0.01\n",
      "0.28\n",
      "Runtime of the program is 194.99249267578125\n"
     ]
    }
   ],
   "source": [
    "import warnings\n",
    "warnings.filterwarnings(\"ignore\")\n",
    "import time\n",
    "alphas = [0.0001, 0.001, 0.01, 0.1, 0.4, 0.8, 1, 10, 100]\n",
    "l1_ratios = arange(0, 1, 0.01)\n",
    "start=time.time()\n",
    "en_cv=ElasticNetCV(alphas=alphas, l1_ratio=l1_ratios, cv=5, n_jobs=-1)\n",
    "best_m = en_cv.fit(X_train_s, y_train)\n",
    "end=time.time()\n",
    "print(best_m.alpha_)\n",
    "print(best_m.l1_ratio_)\n",
    "print(f\"Runtime of the program is {end - start}\")"
   ]
  },
  {
   "cell_type": "code",
   "execution_count": 8,
   "id": "41a8fccc",
   "metadata": {
    "scrolled": true
   },
   "outputs": [
    {
     "name": "stdout",
     "output_type": "stream",
     "text": [
      "MSE: 6.117673\n",
      "MAE:1.993788\n",
      "R^2: 0.429545\n"
     ]
    }
   ],
   "source": [
    "y_pre = best_m.predict(X_test_s)\n",
    "mse=mean_squared_error(y_test, y_pre)\n",
    "mae=mean_absolute_error(y_test, y_pre)\n",
    "r2 = r2_score(y_test, y_pre)\n",
    "print('MSE: %f' % mse)\n",
    "print('MAE:%f'% mae)\n",
    "print('R^2: %f' % r2)"
   ]
  },
  {
   "cell_type": "code",
   "execution_count": 9,
   "id": "ff07b7dd",
   "metadata": {},
   "outputs": [
    {
     "name": "stdout",
     "output_type": "stream",
     "text": [
      "286 features, reduction of 4.03%\n"
     ]
    },
    {
     "data": {
      "text/plain": [
       "<AxesSubplot:>"
      ]
     },
     "execution_count": 9,
     "metadata": {},
     "output_type": "execute_result"
    },
    {
     "data": {
      "image/png": "[encoded data removed]",
      "text/plain": [
       "<Figure size 432x288 with 1 Axes>"
      ]
     },
     "metadata": {
      "needs_background": "light"
     },
     "output_type": "display_data"
    }
   ],
   "source": [
    "#important features in the models\n",
    "feature_importance = pd.Series(index = X_train.columns, data = np.abs(best_m.coef_))\n",
    "N_se_feature = (feature_importance>0).sum()\n",
    "print('{0:d} features, reduction of {1:2.2f}%'.format(N_se_feature,(1-N_se_feature/len(feature_importance))*100))\n",
    "feature_importance.sort_values().tail(10).plot(kind = 'bar')"
   ]
  },
  {
   "cell_type": "markdown",
   "id": "b5de8b92",
   "metadata": {},
   "source": [
    "No wonder the result is not good. love, insert, remov and period are listed as the top important features in the model. We can connect them with birth control drugs only."
   ]
  },
  {
   "cell_type": "markdown",
   "id": "1d7998ed",
   "metadata": {},
   "source": [
    "#### 4.1.2 Decision tree model"
   ]
  },
  {
   "cell_type": "code",
   "execution_count": 10,
   "id": "e43f0c5d",
   "metadata": {},
   "outputs": [
    {
     "name": "stdout",
     "output_type": "stream",
     "text": [
      "BEST PARAMS {'max_depth': 200}\n",
      "Runtime of the program is 173.41510486602783\n"
     ]
    }
   ],
   "source": [
    "param_grid = {'max_depth':[4,8,12, 20, 100, 200]}\n",
    "start=time.time()\n",
    "tree_cv = RandomizedSearchCV(DecisionTreeRegressor(criterion='mse'), param_grid , cv=5, random_state=42)\n",
    "tree_cv.fit(X_train_s,y_train)\n",
    "end=time.time()\n",
    "print(\"BEST PARAMS\", tree_cv.best_params_)\n",
    "print(f\"Runtime of the program is {end - start}\")"
   ]
  },
  {
   "cell_type": "code",
   "execution_count": 11,
   "id": "283dd8a9",
   "metadata": {},
   "outputs": [],
   "source": [
    "def DecisionTreeRegressor_R(train_x, train_y, test_x, test_y, max_depth):\n",
    "    decision = DecisionTreeRegressor(criterion='mse', max_depth=max_depth)\n",
    "    decision.fit(train_x, train_y)\n",
    "    train_pred = decision.predict(train_x)\n",
    "    test_pred = decision.predict(test_x)\n",
    "    test_mse = mean_squared_error(test_y, test_pred)\n",
    "    test_mae = mean_absolute_error(test_y, test_pred)\n",
    "    test_r2 = r2_score(test_y, test_pred)      \n",
    "    print(\"test set results: MSE: %f, MAE: %f, R^2: %f\" % (test_mse, test_mae, test_r2))     "
   ]
  },
  {
   "cell_type": "code",
   "execution_count": 12,
   "id": "d8844311",
   "metadata": {},
   "outputs": [
    {
     "name": "stdout",
     "output_type": "stream",
     "text": [
      "test set results: MSE: 5.008383, MAE: 0.971111, R^2: 0.532983\n"
     ]
    }
   ],
   "source": [
    "DecisionTreeRegressor_R(X_train_s, y_train, X_test_s, y_test, 100)"
   ]
  },
  {
   "cell_type": "code",
   "execution_count": 14,
   "id": "0188f162",
   "metadata": {},
   "outputs": [
    {
     "data": {
      "text/plain": [
       "<AxesSubplot:>"
      ]
     },
     "execution_count": 14,
     "metadata": {},
     "output_type": "execute_result"
    },
    {
     "data": {
      "image/png": "[encoded data removed]",
      "text/plain": [
       "<Figure size 432x288 with 1 Axes>"
      ]
     },
     "metadata": {
      "needs_background": "light"
     },
     "output_type": "display_data"
    }
   ],
   "source": [
    "tree = DecisionTreeRegressor(criterion='mse', max_depth=200)\n",
    "tree.fit(X_train_s,y_train)\n",
    "feature_importance = pd.Series(index = X_train.columns, data = np.abs(tree.feature_importances_))\n",
    "feature_importance.sort_values().tail(10).plot(kind = 'bar')"
   ]
  },
  {
   "cell_type": "markdown",
   "id": "f9a7e801",
   "metadata": {},
   "source": [
    "Decision tree gave us better results than linear regression. But it is still not a good model considering the low r2 values for the test set. Similar to linear regression, usefulcount, textblob_polarity, vader_compound are listed as the top features."
   ]
  },
  {
   "cell_type": "markdown",
   "id": "02b04160",
   "metadata": {},
   "source": [
    "#### 4.1.3 support vector machine for regression"
   ]
  },
  {
   "cell_type": "code",
   "execution_count": 15,
   "id": "094091f1",
   "metadata": {},
   "outputs": [
    {
     "name": "stdout",
     "output_type": "stream",
     "text": [
      "Runtime of the program is 1963.2922508716583\n"
     ]
    }
   ],
   "source": [
    "start=time.time()\n",
    "regressor = SVR(kernel = 'rbf')\n",
    "regressor.fit(X_train_s, y_train)\n",
    "y_pred = regressor.predict(X_test_s)\n",
    "end=time.time()\n",
    "print(f\"Runtime of the program is {end - start}\")"
   ]
  },
  {
   "cell_type": "code",
   "execution_count": 16,
   "id": "ec5703bc",
   "metadata": {},
   "outputs": [
    {
     "name": "stdout",
     "output_type": "stream",
     "text": [
      "MSE: 6.117673\n",
      "MAE:1.993788\n",
      "R^2: 0.429545\n"
     ]
    }
   ],
   "source": [
    "mse=mean_squared_error(y_test, y_pre)\n",
    "mae=mean_absolute_error(y_test, y_pre)\n",
    "r2 = r2_score(y_test, y_pre)\n",
    "print('MSE: %f' % mse)\n",
    "print('MAE:%f'% mae)\n",
    "print('R^2: %f' % r2)"
   ]
  },
  {
   "cell_type": "markdown",
   "id": "2379dcbc",
   "metadata": {},
   "source": [
    "People usually suggested to use linear kernels if the number of features is larger than the number of observations in the dataset (otherwise RBF might be a better choice). But RBF, Radial Basis Function, based SVM is really time-consuming."
   ]
  },
  {
   "cell_type": "markdown",
   "id": "e5053c4a",
   "metadata": {},
   "source": [
    "### 4.2 model using tfidf LSA transformed data"
   ]
  },
  {
   "cell_type": "markdown",
   "id": "8af8b38e",
   "metadata": {},
   "source": [
    "#### 4.2.1 regularized linear regression"
   ]
  },
  {
   "cell_type": "code",
   "execution_count": 18,
   "id": "aee8dfee",
   "metadata": {},
   "outputs": [],
   "source": [
    "#load data and scale data\n",
    "X_train=pd.read_csv('data/tfidf_lsa_train_X.csv')\n",
    "X_test=pd.read_csv('data/tfidf_lsa_test_X.csv')\n",
    "X_train_s=st_scaler.fit_transform(X_train)\n",
    "X_test_s=st_scaler.transform(X_test)"
   ]
  },
  {
   "cell_type": "code",
   "execution_count": 19,
   "id": "1d2ce3a4",
   "metadata": {},
   "outputs": [
    {
     "name": "stdout",
     "output_type": "stream",
     "text": [
      "0.001\n",
      "0.86\n",
      "Runtime of the program is 52.71996283531189\n"
     ]
    }
   ],
   "source": [
    "start=time.time()\n",
    "en_cv=ElasticNetCV(alphas=alphas, l1_ratio=l1_ratios, cv=5, n_jobs=-1)\n",
    "best_m = en_cv.fit(X_train_s, y_train)\n",
    "end=time.time()\n",
    "print(best_m.alpha_)\n",
    "print(best_m.l1_ratio_)\n",
    "print(f\"Runtime of the program is {end - start}\")"
   ]
  },
  {
   "cell_type": "code",
   "execution_count": 20,
   "id": "7aa43d45",
   "metadata": {},
   "outputs": [
    {
     "name": "stdout",
     "output_type": "stream",
     "text": [
      "MSE: 6.382285\n",
      "MAE:2.043237\n",
      "R^2: 0.404871\n"
     ]
    }
   ],
   "source": [
    "y_pre = best_m.predict(X_test_s)\n",
    "mse=mean_squared_error(y_test, y_pre)\n",
    "mae=mean_absolute_error(y_test, y_pre)\n",
    "r2 = r2_score(y_test, y_pre)\n",
    "print('MSE: %f' % mse)\n",
    "print('MAE:%f'% mae)\n",
    "print('R^2: %f' % r2)"
   ]
  },
  {
   "cell_type": "code",
   "execution_count": 21,
   "id": "e69b847f",
   "metadata": {},
   "outputs": [
    {
     "name": "stdout",
     "output_type": "stream",
     "text": [
      "110 features, reduction of 0.00%\n"
     ]
    },
    {
     "data": {
      "text/plain": [
       "<AxesSubplot:>"
      ]
     },
     "execution_count": 21,
     "metadata": {},
     "output_type": "execute_result"
    },
    {
     "data": {
      "image/png": "[encoded data removed]",
      "text/plain": [
       "<Figure size 432x288 with 1 Axes>"
      ]
     },
     "metadata": {
      "needs_background": "light"
     },
     "output_type": "display_data"
    }
   ],
   "source": [
    "feature_importance = pd.Series(index = X_train.columns, data = np.abs(best_m.coef_))\n",
    "N_se_feature = (feature_importance>0).sum()\n",
    "print('{0:d} features, reduction of {1:2.2f}%'.format(N_se_feature,(1-N_se_feature/len(feature_importance))*100))\n",
    "feature_importance.sort_values().tail(10).plot(kind = 'bar')"
   ]
  },
  {
   "cell_type": "markdown",
   "id": "8a1f08a2",
   "metadata": {},
   "source": [
    "#### 4.2.2 Decision tree"
   ]
  },
  {
   "cell_type": "code",
   "execution_count": 22,
   "id": "540eec51",
   "metadata": {},
   "outputs": [
    {
     "name": "stdout",
     "output_type": "stream",
     "text": [
      "BEST PARAMS {'max_depth': 200}\n",
      "Runtime of the program is 138.5398907661438\n"
     ]
    }
   ],
   "source": [
    "param_grid = {'max_depth':[4,8,12, 20, 100, 200]}\n",
    "start=time.time()\n",
    "tree_cv = RandomizedSearchCV(DecisionTreeRegressor(criterion='mse'), param_grid , cv=5, random_state=42)\n",
    "tree_cv.fit(X_train_s,y_train)\n",
    "end=time.time()\n",
    "print(\"BEST PARAMS\", tree_cv.best_params_)\n",
    "print(f\"Runtime of the program is {end - start}\")"
   ]
  },
  {
   "cell_type": "code",
   "execution_count": 23,
   "id": "a2e166b5",
   "metadata": {},
   "outputs": [
    {
     "name": "stdout",
     "output_type": "stream",
     "text": [
      "test set results: MSE: 5.246743, MAE: 1.004758, R^2: 0.510757\n"
     ]
    }
   ],
   "source": [
    "DecisionTreeRegressor_R(X_train_s, y_train, X_test_s, y_test, 100)"
   ]
  },
  {
   "cell_type": "code",
   "execution_count": 25,
   "id": "a3d093ef",
   "metadata": {},
   "outputs": [
    {
     "data": {
      "text/plain": [
       "<AxesSubplot:>"
      ]
     },
     "execution_count": 25,
     "metadata": {},
     "output_type": "execute_result"
    },
    {
     "data": {
      "image/png": "[encoded data removed]",
      "text/plain": [
       "<Figure size 432x288 with 1 Axes>"
      ]
     },
     "metadata": {
      "needs_background": "light"
     },
     "output_type": "display_data"
    }
   ],
   "source": [
    "tree = DecisionTreeRegressor(criterion='mse', max_depth=200)\n",
    "tree.fit(X_train_s,y_train)\n",
    "feature_importance = pd.Series(index = X_train.columns, data = np.abs(tree.feature_importances_))\n",
    "feature_importance.sort_values().tail(10).plot(kind = 'bar')"
   ]
  },
  {
   "cell_type": "markdown",
   "id": "7111e635",
   "metadata": {},
   "source": [
    "#### 4.2.3 support vector machine"
   ]
  },
  {
   "cell_type": "markdown",
   "id": "82a3fec0",
   "metadata": {},
   "source": [
    "There are three important hyperparameters in SVM:  “kernel”, “gamma” and “C”\n",
    "kernel:rbf, poly, sigmoid\n",
    "gamma: Higher the value of gamma, higher possibility of overfitting.\n",
    "C: Penalty parameter of the error term. It helps to controls the trade-off between accuracy and overfitting"
   ]
  },
  {
   "cell_type": "code",
   "execution_count": 26,
   "id": "ae05b2a9",
   "metadata": {},
   "outputs": [
    {
     "name": "stdout",
     "output_type": "stream",
     "text": [
      "Runtime of the program is 804.5845630168915\n"
     ]
    }
   ],
   "source": [
    "from sklearn.svm import SVR\n",
    "start=time.time()\n",
    "regressor = SVR(kernel = 'rbf')\n",
    "regressor.fit(X_train_s, y_train)\n",
    "y_pred = regressor.predict(X_test_s)\n",
    "end=time.time()\n",
    "print(f\"Runtime of the program is {end - start}\")"
   ]
  },
  {
   "cell_type": "code",
   "execution_count": 27,
   "id": "8a1eb332",
   "metadata": {},
   "outputs": [
    {
     "name": "stdout",
     "output_type": "stream",
     "text": [
      "MSE: 6.382285\n",
      "MAE:2.043237\n",
      "R^2: 0.404871\n"
     ]
    }
   ],
   "source": [
    "mse=mean_squared_error(y_test, y_pre)\n",
    "mae=mean_absolute_error(y_test, y_pre)\n",
    "r2 = r2_score(y_test, y_pre)\n",
    "print('MSE: %f' % mse)\n",
    "print('MAE:%f'% mae)\n",
    "print('R^2: %f' % r2)"
   ]
  },
  {
   "cell_type": "markdown",
   "id": "296c8fd3",
   "metadata": {},
   "source": [
    "SVM is very time-consuming."
   ]
  },
  {
   "cell_type": "markdown",
   "id": "c1c1c282",
   "metadata": {},
   "source": [
    "I have to give up developing NLP regression model using ensembled algorithms like random forest or gradient boosting because they are really time-consuming. Let's try convert the problem into classification. We will convert the rating data into two levels, positive and negative. Hopefully, it can make our life easier."
   ]
  },
  {
   "cell_type": "code",
   "execution_count": 28,
   "id": "c676dc42",
   "metadata": {},
   "outputs": [
    {
     "data": {
      "text/html": [
       "<div>\n",
       "<style scoped>\n",
       "    .dataframe tbody tr th:only-of-type {\n",
       "        vertical-align: middle;\n",
       "    }\n",
       "\n",
       "    .dataframe tbody tr th {\n",
       "        vertical-align: top;\n",
       "    }\n",
       "\n",
       "    .dataframe thead th {\n",
       "        text-align: right;\n",
       "    }\n",
       "</style>\n",
       "<table border=\"1\" class=\"dataframe\">\n",
       "  <thead>\n",
       "    <tr style=\"text-align: right;\">\n",
       "      <th></th>\n",
       "      <th>rating</th>\n",
       "      <th>rating_class</th>\n",
       "    </tr>\n",
       "  </thead>\n",
       "  <tbody>\n",
       "    <tr>\n",
       "      <th>0</th>\n",
       "      <td>10.0</td>\n",
       "      <td>1.0</td>\n",
       "    </tr>\n",
       "    <tr>\n",
       "      <th>1</th>\n",
       "      <td>5.0</td>\n",
       "      <td>1.0</td>\n",
       "    </tr>\n",
       "    <tr>\n",
       "      <th>2</th>\n",
       "      <td>5.0</td>\n",
       "      <td>1.0</td>\n",
       "    </tr>\n",
       "    <tr>\n",
       "      <th>3</th>\n",
       "      <td>9.0</td>\n",
       "      <td>1.0</td>\n",
       "    </tr>\n",
       "    <tr>\n",
       "      <th>4</th>\n",
       "      <td>9.0</td>\n",
       "      <td>1.0</td>\n",
       "    </tr>\n",
       "  </tbody>\n",
       "</table>\n",
       "</div>"
      ],
      "text/plain": [
       "   rating  rating_class\n",
       "0    10.0           1.0\n",
       "1     5.0           1.0\n",
       "2     5.0           1.0\n",
       "3     9.0           1.0\n",
       "4     9.0           1.0"
      ]
     },
     "execution_count": 28,
     "metadata": {},
     "output_type": "execute_result"
    }
   ],
   "source": [
    "y_train.loc[(y_train['rating'] >= 5), 'rating_class'] = 1\n",
    "y_train.loc[(y_train['rating'] < 5), 'rating_class'] = 0\n",
    "y_train.head()"
   ]
  },
  {
   "cell_type": "code",
   "execution_count": 29,
   "id": "24a8a8bc",
   "metadata": {},
   "outputs": [
    {
     "data": {
      "text/html": [
       "<div>\n",
       "<style scoped>\n",
       "    .dataframe tbody tr th:only-of-type {\n",
       "        vertical-align: middle;\n",
       "    }\n",
       "\n",
       "    .dataframe tbody tr th {\n",
       "        vertical-align: top;\n",
       "    }\n",
       "\n",
       "    .dataframe thead th {\n",
       "        text-align: right;\n",
       "    }\n",
       "</style>\n",
       "<table border=\"1\" class=\"dataframe\">\n",
       "  <thead>\n",
       "    <tr style=\"text-align: right;\">\n",
       "      <th></th>\n",
       "      <th>rating</th>\n",
       "      <th>rating_class</th>\n",
       "    </tr>\n",
       "  </thead>\n",
       "  <tbody>\n",
       "    <tr>\n",
       "      <th>0</th>\n",
       "      <td>10.0</td>\n",
       "      <td>1.0</td>\n",
       "    </tr>\n",
       "    <tr>\n",
       "      <th>1</th>\n",
       "      <td>8.0</td>\n",
       "      <td>1.0</td>\n",
       "    </tr>\n",
       "    <tr>\n",
       "      <th>2</th>\n",
       "      <td>3.0</td>\n",
       "      <td>0.0</td>\n",
       "    </tr>\n",
       "    <tr>\n",
       "      <th>3</th>\n",
       "      <td>1.0</td>\n",
       "      <td>0.0</td>\n",
       "    </tr>\n",
       "    <tr>\n",
       "      <th>4</th>\n",
       "      <td>9.0</td>\n",
       "      <td>1.0</td>\n",
       "    </tr>\n",
       "  </tbody>\n",
       "</table>\n",
       "</div>"
      ],
      "text/plain": [
       "   rating  rating_class\n",
       "0    10.0           1.0\n",
       "1     8.0           1.0\n",
       "2     3.0           0.0\n",
       "3     1.0           0.0\n",
       "4     9.0           1.0"
      ]
     },
     "execution_count": 29,
     "metadata": {},
     "output_type": "execute_result"
    }
   ],
   "source": [
    "y_test.loc[(y_test['rating'] >= 5), 'rating_class'] = 1\n",
    "y_test.loc[(y_test['rating'] < 5), 'rating_class'] = 0\n",
    "y_test.head()"
   ]
  },
  {
   "cell_type": "code",
   "execution_count": 30,
   "id": "7490a2a6",
   "metadata": {},
   "outputs": [
    {
     "data": {
      "text/html": [
       "<div>\n",
       "<style scoped>\n",
       "    .dataframe tbody tr th:only-of-type {\n",
       "        vertical-align: middle;\n",
       "    }\n",
       "\n",
       "    .dataframe tbody tr th {\n",
       "        vertical-align: top;\n",
       "    }\n",
       "\n",
       "    .dataframe thead th {\n",
       "        text-align: right;\n",
       "    }\n",
       "</style>\n",
       "<table border=\"1\" class=\"dataframe\">\n",
       "  <thead>\n",
       "    <tr style=\"text-align: right;\">\n",
       "      <th></th>\n",
       "      <th>rating_class</th>\n",
       "    </tr>\n",
       "  </thead>\n",
       "  <tbody>\n",
       "    <tr>\n",
       "      <th>0</th>\n",
       "      <td>1.0</td>\n",
       "    </tr>\n",
       "    <tr>\n",
       "      <th>1</th>\n",
       "      <td>1.0</td>\n",
       "    </tr>\n",
       "    <tr>\n",
       "      <th>2</th>\n",
       "      <td>1.0</td>\n",
       "    </tr>\n",
       "    <tr>\n",
       "      <th>3</th>\n",
       "      <td>1.0</td>\n",
       "    </tr>\n",
       "    <tr>\n",
       "      <th>4</th>\n",
       "      <td>1.0</td>\n",
       "    </tr>\n",
       "  </tbody>\n",
       "</table>\n",
       "</div>"
      ],
      "text/plain": [
       "   rating_class\n",
       "0           1.0\n",
       "1           1.0\n",
       "2           1.0\n",
       "3           1.0\n",
       "4           1.0"
      ]
     },
     "execution_count": 30,
     "metadata": {},
     "output_type": "execute_result"
    }
   ],
   "source": [
    "y_train_c=y_train.drop(columns=['rating'])\n",
    "y_test_c=y_test.drop(columns=['rating'])\n",
    "y_train_c.head()"
   ]
  },
  {
   "cell_type": "code",
   "execution_count": 31,
   "id": "2b9ad5cc",
   "metadata": {},
   "outputs": [],
   "source": [
    "y_train_c.to_csv('data/y_train_c', index=False)\n",
    "y_test_c.to_csv('data/y_test_c', index=False)"
   ]
  }
 ],
 "metadata": {
  "kernelspec": {
   "display_name": "Python 3",
   "language": "python",
   "name": "python3"
  },
  "language_info": {
   "codemirror_mode": {
    "name": "ipython",
    "version": 3
   },
   "file_extension": ".py",
   "mimetype": "text/x-python",
   "name": "python",
   "nbconvert_exporter": "python",
   "pygments_lexer": "ipython3",
   "version": "3.8.8"
  }
 },
 "nbformat": 4,
 "nbformat_minor": 5
}
