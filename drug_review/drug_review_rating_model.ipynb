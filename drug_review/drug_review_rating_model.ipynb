{
 "cells": [
  {
   "cell_type": "markdown",
   "id": "b5145f03",
   "metadata": {},
   "source": [
    "## Part IV bag of words NLP rating model\n",
    "\n",
    "### 4.1 modeling using tfidf transformed data"
   ]
  },
  {
   "cell_type": "code",
   "execution_count": 1,
   "id": "e137b054",
   "metadata": {},
   "outputs": [],
   "source": [
    "import re\n",
    "import nltk\n",
    "import numpy as np\n",
    "import pandas as pd\n",
    "import matplotlib.pyplot as plt\n",
    "import seaborn as sns"
   ]
  },
  {
   "cell_type": "code",
   "execution_count": 2,
   "id": "36d21a63",
   "metadata": {},
   "outputs": [],
   "source": [
    "from sklearn.linear_model import LinearRegression\n",
    "from sklearn.linear_model import Lasso\n",
    "from sklearn.tree import DecisionTreeRegressor\n",
    "from sklearn.ensemble import RandomForestRegressor, GradientBoostingRegressor\n",
    "from xgboost import XGBRegressor\n",
    "from sklearn.metrics import mean_squared_error, mean_absolute_error, r2_score\n",
    "from sklearn.model_selection import RandomizedSearchCV"
   ]
  },
  {
   "cell_type": "code",
   "execution_count": 3,
   "id": "edf607b4",
   "metadata": {},
   "outputs": [],
   "source": [
    "#load data and scale data\n",
    "X_train=pd.read_csv('data/tfidf_train_X.csv')\n",
    "y_train=pd.read_csv('data/y_train.csv')\n",
    "X_test=pd.read_csv('data/tfidf_test_X.csv')\n",
    "y_test=pd.read_csv('data/y_test.csv')"
   ]
  },
  {
   "cell_type": "code",
   "execution_count": 4,
   "id": "f8fbc373",
   "metadata": {},
   "outputs": [],
   "source": [
    "from sklearn.preprocessing import StandardScaler\n",
    "from sklearn.model_selection import cross_validate\n",
    "st_scaler=StandardScaler()\n",
    "X_train_s=st_scaler.fit_transform(X_train)\n",
    "X_test_s=st_scaler.transform(X_test)"
   ]
  },
  {
   "cell_type": "code",
   "execution_count": 6,
   "id": "d4ca8daa",
   "metadata": {},
   "outputs": [
    {
     "data": {
      "text/plain": [
       "(41191, 298)"
      ]
     },
     "execution_count": 6,
     "metadata": {},
     "output_type": "execute_result"
    }
   ],
   "source": [
    "X_train_s.shape"
   ]
  },
  {
   "cell_type": "code",
   "execution_count": 7,
   "id": "8d147b40",
   "metadata": {},
   "outputs": [
    {
     "data": {
      "text/plain": [
       "(41191, 1)"
      ]
     },
     "execution_count": 7,
     "metadata": {},
     "output_type": "execute_result"
    }
   ],
   "source": [
    "y_train.shape"
   ]
  },
  {
   "cell_type": "markdown",
   "id": "1138f939",
   "metadata": {},
   "source": [
    "#### 4.1.1 Regularized Linear regression model"
   ]
  },
  {
   "cell_type": "markdown",
   "id": "18b76413",
   "metadata": {},
   "source": [
    " ElasticNet regularization applies both L1-norm and L2-norm regularization to penalize the coefficients in a regression model.  ElasticNetCV is a cross-validation class that can search multiple alpha values and applies the best one. We'll define the model with alphas value and fit it with xtrain and ytrain data. More details about ElasticNet model can be found [here](https://machinelearningmastery.com/elastic-net-regression-in-python/)."
   ]
  },
  {
   "cell_type": "code",
   "execution_count": 8,
   "id": "15c85a1c",
   "metadata": {},
   "outputs": [
    {
     "name": "stdout",
     "output_type": "stream",
     "text": [
      "0.01\n",
      "0.28\n",
      "Runtime of the program is 211.95075511932373\n"
     ]
    }
   ],
   "source": [
    "import warnings\n",
    "warnings.filterwarnings(\"ignore\")\n",
    "import time\n",
    "from numpy import arange\n",
    "from sklearn.linear_model import ElasticNet, ElasticNetCV\n",
    "alphas = [0.0001, 0.001, 0.01, 0.1, 0.4, 0.8, 1, 10, 100]\n",
    "l1_ratios = arange(0, 1, 0.01)\n",
    "start=time.time()\n",
    "en_cv=ElasticNetCV(alphas=alphas, l1_ratio=l1_ratios, cv=5, n_jobs=-1)\n",
    "best_m = en_cv.fit(X_train_s, y_train)\n",
    "end=time.time()\n",
    "print(best_m.alpha_)\n",
    "print(best_m.l1_ratio_)\n",
    "print(f\"Runtime of the program is {end - start}\")"
   ]
  },
  {
   "cell_type": "code",
   "execution_count": 10,
   "id": "41a8fccc",
   "metadata": {
    "scrolled": true
   },
   "outputs": [
    {
     "name": "stdout",
     "output_type": "stream",
     "text": [
      "MSE: 6.117673\n",
      "MAE:1.993788\n",
      "R^2: 0.429545\n"
     ]
    }
   ],
   "source": [
    "y_pre = best_m.predict(X_test_s)\n",
    "mse=mean_squared_error(y_test, y_pre)\n",
    "mae=mean_absolute_error(y_test, y_pre)\n",
    "r2 = r2_score(y_test, y_pre)\n",
    "print('MSE: %f' % mse)\n",
    "print('MAE:%f'% mae)\n",
    "print('R^2: %f' % r2)"
   ]
  },
  {
   "cell_type": "markdown",
   "id": "1d7998ed",
   "metadata": {},
   "source": [
    "#### 4.1.2 Decision tree model"
   ]
  },
  {
   "cell_type": "code",
   "execution_count": 11,
   "id": "e43f0c5d",
   "metadata": {},
   "outputs": [
    {
     "name": "stdout",
     "output_type": "stream",
     "text": [
      "BEST PARAMS {'max_depth': 100}\n",
      "Runtime of the program is 140.427734375\n"
     ]
    }
   ],
   "source": [
    "param_grid = {'max_depth':[4,8,12, 20, 100, 200]}\n",
    "start=time.time()\n",
    "tree_cv = RandomizedSearchCV(DecisionTreeRegressor(criterion='mse'), param_grid , cv=5, random_state=42)\n",
    "tree_cv.fit(X_train_s,y_train)\n",
    "end=time.time()\n",
    "print(\"BEST PARAMS\", tree_cv.best_params_)\n",
    "print(f\"Runtime of the program is {end - start}\")"
   ]
  },
  {
   "cell_type": "code",
   "execution_count": 12,
   "id": "283dd8a9",
   "metadata": {},
   "outputs": [],
   "source": [
    "def DecisionTreeRegressor_R(train_x, train_y, test_x, test_y, max_depth):\n",
    "    decision = DecisionTreeRegressor(criterion='mse', max_depth=max_depth)\n",
    "    decision.fit(train_x, train_y)\n",
    "    train_pred = decision.predict(train_x)\n",
    "    test_pred = decision.predict(test_x)\n",
    "    test_mse = mean_squared_error(test_y, test_pred)\n",
    "    test_mae = mean_absolute_error(test_y, test_pred)\n",
    "    test_r2 = r2_score(test_y, test_pred)      \n",
    "    print(\"test set results: MSE: %f, MAE: %f, R^2: %f\" % (test_mse, test_mae, test_r2))     "
   ]
  },
  {
   "cell_type": "code",
   "execution_count": 13,
   "id": "d8844311",
   "metadata": {},
   "outputs": [
    {
     "name": "stdout",
     "output_type": "stream",
     "text": [
      "test set results: MSE: 5.030418, MAE: 0.970715, R^2: 0.530928\n"
     ]
    }
   ],
   "source": [
    "DecisionTreeRegressor_R(X_train_s, y_train, X_test_s, y_test, 100)"
   ]
  },
  {
   "cell_type": "markdown",
   "id": "02b04160",
   "metadata": {},
   "source": [
    "#### 4.1.3 support vector machine for regression"
   ]
  },
  {
   "cell_type": "code",
   "execution_count": null,
   "id": "094091f1",
   "metadata": {},
   "outputs": [],
   "source": [
    "from sklearn.svm import SVR\n",
    "regressor = SVR(kernel = 'rbf')"
   ]
  },
  {
   "cell_type": "markdown",
   "id": "e5053c4a",
   "metadata": {},
   "source": [
    "### 4.2 model using tfidf LSA transformed data"
   ]
  },
  {
   "cell_type": "markdown",
   "id": "8af8b38e",
   "metadata": {},
   "source": [
    "#### 4.2.1 regularized linear regression"
   ]
  },
  {
   "cell_type": "code",
   "execution_count": 15,
   "id": "aee8dfee",
   "metadata": {},
   "outputs": [],
   "source": [
    "#load data and scale data\n",
    "X_train=pd.read_csv('data/tfidf_lsa_train_X.csv')\n",
    "X_test=pd.read_csv('data/tfidf_lsa_test_X.csv')\n",
    "X_train_s=st_scaler.fit_transform(X_train)\n",
    "X_test_s=st_scaler.transform(X_test)"
   ]
  },
  {
   "cell_type": "code",
   "execution_count": 16,
   "id": "1d2ce3a4",
   "metadata": {},
   "outputs": [
    {
     "name": "stdout",
     "output_type": "stream",
     "text": [
      "0.001\n",
      "0.86\n",
      "Runtime of the program is 57.23660707473755\n"
     ]
    }
   ],
   "source": [
    "start=time.time()\n",
    "en_cv=ElasticNetCV(alphas=alphas, l1_ratio=l1_ratios, cv=5, n_jobs=-1)\n",
    "best_m = en_cv.fit(X_train_s, y_train)\n",
    "end=time.time()\n",
    "print(best_m.alpha_)\n",
    "print(best_m.l1_ratio_)\n",
    "print(f\"Runtime of the program is {end - start}\")"
   ]
  },
  {
   "cell_type": "code",
   "execution_count": 17,
   "id": "7aa43d45",
   "metadata": {},
   "outputs": [
    {
     "name": "stdout",
     "output_type": "stream",
     "text": [
      "MSE: 6.382285\n",
      "MAE:2.043237\n",
      "R^2: 0.404871\n"
     ]
    }
   ],
   "source": [
    "y_pre = best_m.predict(X_test_s)\n",
    "mse=mean_squared_error(y_test, y_pre)\n",
    "mae=mean_absolute_error(y_test, y_pre)\n",
    "r2 = r2_score(y_test, y_pre)\n",
    "print('MSE: %f' % mse)\n",
    "print('MAE:%f'% mae)\n",
    "print('R^2: %f' % r2)"
   ]
  },
  {
   "cell_type": "markdown",
   "id": "8a1f08a2",
   "metadata": {},
   "source": [
    "#### 4.2.2 Decision tree"
   ]
  },
  {
   "cell_type": "code",
   "execution_count": 18,
   "id": "540eec51",
   "metadata": {},
   "outputs": [
    {
     "name": "stdout",
     "output_type": "stream",
     "text": [
      "BEST PARAMS {'max_depth': 100}\n",
      "Runtime of the program is 139.65390825271606\n"
     ]
    }
   ],
   "source": [
    "param_grid = {'max_depth':[4,8,12, 20, 100, 200]}\n",
    "start=time.time()\n",
    "tree_cv = RandomizedSearchCV(DecisionTreeRegressor(criterion='mse'), param_grid , cv=5, random_state=42)\n",
    "tree_cv.fit(X_train_s,y_train)\n",
    "end=time.time()\n",
    "print(\"BEST PARAMS\", tree_cv.best_params_)\n",
    "print(f\"Runtime of the program is {end - start}\")"
   ]
  },
  {
   "cell_type": "code",
   "execution_count": 19,
   "id": "a2e166b5",
   "metadata": {},
   "outputs": [
    {
     "name": "stdout",
     "output_type": "stream",
     "text": [
      "test set results: MSE: 5.282316, MAE: 1.010309, R^2: 0.507440\n"
     ]
    }
   ],
   "source": [
    "DecisionTreeRegressor_R(X_train_s, y_train, X_test_s, y_test, 100)"
   ]
  },
  {
   "cell_type": "markdown",
   "id": "7111e635",
   "metadata": {},
   "source": [
    "#### 4.2.3 support vector machine"
   ]
  },
  {
   "cell_type": "markdown",
   "id": "82a3fec0",
   "metadata": {},
   "source": [
    "There are three important hyperparameters in SVM:  “kernel”, “gamma” and “C”\n",
    "kernel:rbf, poly, sigmoid\n",
    "gamma: Higher the value of gamma, higher possibility of overfitting.\n",
    "C: Penalty parameter of the error term. It helps to controls the trade-off between accuracy and overfitting"
   ]
  },
  {
   "cell_type": "code",
   "execution_count": 22,
   "id": "ae05b2a9",
   "metadata": {},
   "outputs": [
    {
     "name": "stdout",
     "output_type": "stream",
     "text": [
      "Runtime of the program is 904.2150647640228\n"
     ]
    }
   ],
   "source": [
    "from sklearn.svm import SVR\n",
    "start=time.time()\n",
    "regressor = SVR(kernel = 'rbf')\n",
    "regressor.fit(X_train_s, y_train)\n",
    "y_pred = regressor.predict(X_test_s)\n",
    "end=time.time()\n",
    "print(f\"Runtime of the program is {end - start}\")"
   ]
  },
  {
   "cell_type": "code",
   "execution_count": 23,
   "id": "8a1eb332",
   "metadata": {},
   "outputs": [
    {
     "name": "stdout",
     "output_type": "stream",
     "text": [
      "MSE: 6.382285\n",
      "MAE:2.043237\n",
      "R^2: 0.404871\n"
     ]
    }
   ],
   "source": [
    "mse=mean_squared_error(y_test, y_pre)\n",
    "mae=mean_absolute_error(y_test, y_pre)\n",
    "r2 = r2_score(y_test, y_pre)\n",
    "print('MSE: %f' % mse)\n",
    "print('MAE:%f'% mae)\n",
    "print('R^2: %f' % r2)"
   ]
  },
  {
   "cell_type": "markdown",
   "id": "296c8fd3",
   "metadata": {},
   "source": [
    "SVM is very time-consuming."
   ]
  },
  {
   "cell_type": "markdown",
   "id": "c1c1c282",
   "metadata": {},
   "source": [
    "I need give up developing NLP regression model using ensembled algorithms like random forest or gradient boosting because they are really time-consuming. Let's try convert the problem into classification. We will convert the rating data into three levels, positive and negative. Hopefully, it can make our life easier."
   ]
  },
  {
   "cell_type": "code",
   "execution_count": 30,
   "id": "c676dc42",
   "metadata": {},
   "outputs": [
    {
     "data": {
      "text/html": [
       "<div>\n",
       "<style scoped>\n",
       "    .dataframe tbody tr th:only-of-type {\n",
       "        vertical-align: middle;\n",
       "    }\n",
       "\n",
       "    .dataframe tbody tr th {\n",
       "        vertical-align: top;\n",
       "    }\n",
       "\n",
       "    .dataframe thead th {\n",
       "        text-align: right;\n",
       "    }\n",
       "</style>\n",
       "<table border=\"1\" class=\"dataframe\">\n",
       "  <thead>\n",
       "    <tr style=\"text-align: right;\">\n",
       "      <th></th>\n",
       "      <th>rating</th>\n",
       "      <th>rating_class</th>\n",
       "    </tr>\n",
       "  </thead>\n",
       "  <tbody>\n",
       "    <tr>\n",
       "      <th>0</th>\n",
       "      <td>10.0</td>\n",
       "      <td>1.0</td>\n",
       "    </tr>\n",
       "    <tr>\n",
       "      <th>1</th>\n",
       "      <td>5.0</td>\n",
       "      <td>1.0</td>\n",
       "    </tr>\n",
       "    <tr>\n",
       "      <th>2</th>\n",
       "      <td>5.0</td>\n",
       "      <td>1.0</td>\n",
       "    </tr>\n",
       "    <tr>\n",
       "      <th>3</th>\n",
       "      <td>9.0</td>\n",
       "      <td>1.0</td>\n",
       "    </tr>\n",
       "    <tr>\n",
       "      <th>4</th>\n",
       "      <td>9.0</td>\n",
       "      <td>1.0</td>\n",
       "    </tr>\n",
       "  </tbody>\n",
       "</table>\n",
       "</div>"
      ],
      "text/plain": [
       "   rating  rating_class\n",
       "0    10.0           1.0\n",
       "1     5.0           1.0\n",
       "2     5.0           1.0\n",
       "3     9.0           1.0\n",
       "4     9.0           1.0"
      ]
     },
     "execution_count": 30,
     "metadata": {},
     "output_type": "execute_result"
    }
   ],
   "source": [
    "y_train.loc[(y_train['rating'] >= 5), 'rating_class'] = 1\n",
    "y_train.loc[(y_train['rating'] < 5), 'rating_class'] = 0\n",
    "y_train.head()"
   ]
  },
  {
   "cell_type": "code",
   "execution_count": 31,
   "id": "24a8a8bc",
   "metadata": {},
   "outputs": [
    {
     "data": {
      "text/html": [
       "<div>\n",
       "<style scoped>\n",
       "    .dataframe tbody tr th:only-of-type {\n",
       "        vertical-align: middle;\n",
       "    }\n",
       "\n",
       "    .dataframe tbody tr th {\n",
       "        vertical-align: top;\n",
       "    }\n",
       "\n",
       "    .dataframe thead th {\n",
       "        text-align: right;\n",
       "    }\n",
       "</style>\n",
       "<table border=\"1\" class=\"dataframe\">\n",
       "  <thead>\n",
       "    <tr style=\"text-align: right;\">\n",
       "      <th></th>\n",
       "      <th>rating</th>\n",
       "      <th>rating_class</th>\n",
       "    </tr>\n",
       "  </thead>\n",
       "  <tbody>\n",
       "    <tr>\n",
       "      <th>0</th>\n",
       "      <td>10.0</td>\n",
       "      <td>1.0</td>\n",
       "    </tr>\n",
       "    <tr>\n",
       "      <th>1</th>\n",
       "      <td>8.0</td>\n",
       "      <td>1.0</td>\n",
       "    </tr>\n",
       "    <tr>\n",
       "      <th>2</th>\n",
       "      <td>3.0</td>\n",
       "      <td>0.0</td>\n",
       "    </tr>\n",
       "    <tr>\n",
       "      <th>3</th>\n",
       "      <td>1.0</td>\n",
       "      <td>0.0</td>\n",
       "    </tr>\n",
       "    <tr>\n",
       "      <th>4</th>\n",
       "      <td>9.0</td>\n",
       "      <td>1.0</td>\n",
       "    </tr>\n",
       "  </tbody>\n",
       "</table>\n",
       "</div>"
      ],
      "text/plain": [
       "   rating  rating_class\n",
       "0    10.0           1.0\n",
       "1     8.0           1.0\n",
       "2     3.0           0.0\n",
       "3     1.0           0.0\n",
       "4     9.0           1.0"
      ]
     },
     "execution_count": 31,
     "metadata": {},
     "output_type": "execute_result"
    }
   ],
   "source": [
    "y_test.loc[(y_test['rating'] >= 5), 'rating_class'] = 1\n",
    "y_test.loc[(y_test['rating'] < 5), 'rating_class'] = 0\n",
    "y_test.head()"
   ]
  },
  {
   "cell_type": "code",
   "execution_count": 32,
   "id": "7490a2a6",
   "metadata": {},
   "outputs": [
    {
     "data": {
      "text/html": [
       "<div>\n",
       "<style scoped>\n",
       "    .dataframe tbody tr th:only-of-type {\n",
       "        vertical-align: middle;\n",
       "    }\n",
       "\n",
       "    .dataframe tbody tr th {\n",
       "        vertical-align: top;\n",
       "    }\n",
       "\n",
       "    .dataframe thead th {\n",
       "        text-align: right;\n",
       "    }\n",
       "</style>\n",
       "<table border=\"1\" class=\"dataframe\">\n",
       "  <thead>\n",
       "    <tr style=\"text-align: right;\">\n",
       "      <th></th>\n",
       "      <th>rating_class</th>\n",
       "    </tr>\n",
       "  </thead>\n",
       "  <tbody>\n",
       "    <tr>\n",
       "      <th>0</th>\n",
       "      <td>1.0</td>\n",
       "    </tr>\n",
       "    <tr>\n",
       "      <th>1</th>\n",
       "      <td>1.0</td>\n",
       "    </tr>\n",
       "    <tr>\n",
       "      <th>2</th>\n",
       "      <td>1.0</td>\n",
       "    </tr>\n",
       "    <tr>\n",
       "      <th>3</th>\n",
       "      <td>1.0</td>\n",
       "    </tr>\n",
       "    <tr>\n",
       "      <th>4</th>\n",
       "      <td>1.0</td>\n",
       "    </tr>\n",
       "  </tbody>\n",
       "</table>\n",
       "</div>"
      ],
      "text/plain": [
       "   rating_class\n",
       "0           1.0\n",
       "1           1.0\n",
       "2           1.0\n",
       "3           1.0\n",
       "4           1.0"
      ]
     },
     "execution_count": 32,
     "metadata": {},
     "output_type": "execute_result"
    }
   ],
   "source": [
    "y_train_c=y_train.drop(columns=['rating'])\n",
    "y_test_c=y_test.drop(columns=['rating'])\n",
    "y_train_c.head()"
   ]
  },
  {
   "cell_type": "code",
   "execution_count": 38,
   "id": "2b9ad5cc",
   "metadata": {},
   "outputs": [],
   "source": [
    "y_train_c.to_csv('data/y_train_c', index=False)\n",
    "y_test_c.to_csv('data/y_test_c', index=False)"
   ]
  }
 ],
 "metadata": {
  "kernelspec": {
   "display_name": "Python 3",
   "language": "python",
   "name": "python3"
  },
  "language_info": {
   "codemirror_mode": {
    "name": "ipython",
    "version": 3
   },
   "file_extension": ".py",
   "mimetype": "text/x-python",
   "name": "python",
   "nbconvert_exporter": "python",
   "pygments_lexer": "ipython3",
   "version": "3.8.8"
  }
 },
 "nbformat": 4,
 "nbformat_minor": 5
}
