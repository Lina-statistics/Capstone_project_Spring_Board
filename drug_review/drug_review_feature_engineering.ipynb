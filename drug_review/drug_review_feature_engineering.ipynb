{
 "cells": [
  {
   "cell_type": "markdown",
   "id": "d25e66d7",
   "metadata": {},
   "source": [
    "## Part III: feature engineering\n",
    "\n",
    "#### In this section, we will pre-processing the review data and perform feature engineering for the rating model development. Because there are totally 916 conditions covered in this set, we will select the top 3 of them as our study dataset, birth control, pain and depression. \n",
    "\n",
    "### 3.1 data pre-processing"
   ]
  },
  {
   "cell_type": "code",
   "execution_count": 1,
   "id": "daaa8443",
   "metadata": {},
   "outputs": [],
   "source": [
    "import re\n",
    "import nltk\n",
    "import numpy as np\n",
    "import pandas as pd\n",
    "from bs4 import BeautifulSoup\n",
    "import matplotlib.pyplot as plt\n",
    "import seaborn as sns"
   ]
  },
  {
   "cell_type": "code",
   "execution_count": 2,
   "id": "4c1a39d8",
   "metadata": {},
   "outputs": [
    {
     "data": {
      "text/html": [
       "<div>\n",
       "<style scoped>\n",
       "    .dataframe tbody tr th:only-of-type {\n",
       "        vertical-align: middle;\n",
       "    }\n",
       "\n",
       "    .dataframe tbody tr th {\n",
       "        vertical-align: top;\n",
       "    }\n",
       "\n",
       "    .dataframe thead th {\n",
       "        text-align: right;\n",
       "    }\n",
       "</style>\n",
       "<table border=\"1\" class=\"dataframe\">\n",
       "  <thead>\n",
       "    <tr style=\"text-align: right;\">\n",
       "      <th></th>\n",
       "      <th>drugName</th>\n",
       "      <th>condition</th>\n",
       "      <th>review</th>\n",
       "      <th>rating</th>\n",
       "      <th>date</th>\n",
       "      <th>usefulCount</th>\n",
       "      <th>year</th>\n",
       "      <th>month</th>\n",
       "      <th>weekday</th>\n",
       "      <th>clean_re</th>\n",
       "      <th>sent_len</th>\n",
       "      <th>word_len</th>\n",
       "    </tr>\n",
       "  </thead>\n",
       "  <tbody>\n",
       "    <tr>\n",
       "      <th>163740</th>\n",
       "      <td>Mirtazapine</td>\n",
       "      <td>Depression</td>\n",
       "      <td>\"I&amp;#039;ve tried a few antidepressants over th...</td>\n",
       "      <td>10.0</td>\n",
       "      <td>2012-02-28</td>\n",
       "      <td>22</td>\n",
       "      <td>2012</td>\n",
       "      <td>2</td>\n",
       "      <td>1</td>\n",
       "      <td>ve antidepressants years citalopram fluoxetine...</td>\n",
       "      <td>4</td>\n",
       "      <td>81</td>\n",
       "    </tr>\n",
       "    <tr>\n",
       "      <th>206473</th>\n",
       "      <td>Mesalamine</td>\n",
       "      <td>Crohn's Disease, Maintenance</td>\n",
       "      <td>\"My son has Crohn&amp;#039;s disease and has done ...</td>\n",
       "      <td>8.0</td>\n",
       "      <td>2009-05-17</td>\n",
       "      <td>17</td>\n",
       "      <td>2009</td>\n",
       "      <td>5</td>\n",
       "      <td>6</td>\n",
       "      <td>son crohn disease asacol complaints show side ...</td>\n",
       "      <td>4</td>\n",
       "      <td>55</td>\n",
       "    </tr>\n",
       "    <tr>\n",
       "      <th>159672</th>\n",
       "      <td>Bactrim</td>\n",
       "      <td>Urinary Tract Infection</td>\n",
       "      <td>\"Quick reduction of symptoms\"</td>\n",
       "      <td>9.0</td>\n",
       "      <td>2017-09-29</td>\n",
       "      <td>3</td>\n",
       "      <td>2017</td>\n",
       "      <td>9</td>\n",
       "      <td>4</td>\n",
       "      <td>quick reduction symptoms</td>\n",
       "      <td>1</td>\n",
       "      <td>6</td>\n",
       "    </tr>\n",
       "  </tbody>\n",
       "</table>\n",
       "</div>"
      ],
      "text/plain": [
       "           drugName                     condition  \\\n",
       "163740  Mirtazapine                    Depression   \n",
       "206473   Mesalamine  Crohn's Disease, Maintenance   \n",
       "159672      Bactrim       Urinary Tract Infection   \n",
       "\n",
       "                                                   review  rating        date  \\\n",
       "163740  \"I&#039;ve tried a few antidepressants over th...    10.0  2012-02-28   \n",
       "206473  \"My son has Crohn&#039;s disease and has done ...     8.0  2009-05-17   \n",
       "159672                      \"Quick reduction of symptoms\"     9.0  2017-09-29   \n",
       "\n",
       "        usefulCount  year  month  weekday  \\\n",
       "163740           22  2012      2        1   \n",
       "206473           17  2009      5        6   \n",
       "159672            3  2017      9        4   \n",
       "\n",
       "                                                 clean_re  sent_len  word_len  \n",
       "163740  ve antidepressants years citalopram fluoxetine...         4        81  \n",
       "206473  son crohn disease asacol complaints show side ...         4        55  \n",
       "159672                           quick reduction symptoms         1         6  "
      ]
     },
     "execution_count": 2,
     "metadata": {},
     "output_type": "execute_result"
    }
   ],
   "source": [
    "df=pd.read_csv('data/df_EDA.csv', index_col=0)\n",
    "df.head(3)"
   ]
  },
  {
   "cell_type": "code",
   "execution_count": 3,
   "id": "a63e19bb",
   "metadata": {},
   "outputs": [],
   "source": [
    "#We need different text preprocessing for feature engineering, so we delete the previous one, clean_re\n",
    "#From section 2, we found sent_len is not informative as word_len. Thus we delete it from the data set and use word_len to evaluate the length of the review.\n",
    "df1=df.drop(['clean_re', 'sent_len'], axis=1)\n",
    "df1=df1[df1.condition.isin(['Birth Control', 'Depression', 'Pain'])]"
   ]
  },
  {
   "cell_type": "code",
   "execution_count": 4,
   "id": "52faddb2",
   "metadata": {},
   "outputs": [
    {
     "name": "stdout",
     "output_type": "stream",
     "text": [
      "The original data set dimension is 213869, 12\n",
      "The dimension of the reduced data set exclusively for the top 3 conditions is 58845, 10\n"
     ]
    }
   ],
   "source": [
    "print('The original data set dimension is ' + str(df.shape).strip('()'))\n",
    "print('The dimension of the reduced data set exclusively for the top 3 conditions is '+ str(df1.shape).strip('()'))"
   ]
  },
  {
   "cell_type": "code",
   "execution_count": 5,
   "id": "67b8ad08",
   "metadata": {
    "scrolled": true
   },
   "outputs": [
    {
     "data": {
      "text/plain": [
       "<AxesSubplot:>"
      ]
     },
     "execution_count": 5,
     "metadata": {},
     "output_type": "execute_result"
    },
    {
     "data": {
      "image/png": "[encoded data removed]",
      "text/plain": [
       "<Figure size 432x288 with 1 Axes>"
      ]
     },
     "metadata": {
      "needs_background": "light"
     },
     "output_type": "display_data"
    }
   ],
   "source": [
    "df1.rating.hist()"
   ]
  },
  {
   "cell_type": "markdown",
   "id": "679228dd",
   "metadata": {},
   "source": [
    "The rating of these reviews is not evenly distributed. Most revews have high rating 8~10 "
   ]
  },
  {
   "cell_type": "markdown",
   "id": "60e88192",
   "metadata": {},
   "source": [
    "## 3.2 feature engineering\n",
    "\n",
    "### 3.2.1 use NLTK pre-trained sentiment analyzer, VADER, to get the sentiment indicator as predictor"
   ]
  },
  {
   "cell_type": "markdown",
   "id": "ed1114d5",
   "metadata": {},
   "source": [
    "NLTK has a built-in sentiment analyzer called VADER (Valence Aware Dictionary and sEntiment Reasoner).We can use it to extract the sentiment information in the review"
   ]
  },
  {
   "cell_type": "code",
   "execution_count": 6,
   "id": "5d429f6e",
   "metadata": {},
   "outputs": [
    {
     "name": "stderr",
     "output_type": "stream",
     "text": [
      "[nltk_data] Downloading package vader_lexicon to\n",
      "[nltk_data]     C:\\Users\\gln_d\\AppData\\Roaming\\nltk_data...\n",
      "[nltk_data]   Package vader_lexicon is already up-to-date!\n"
     ]
    }
   ],
   "source": [
    "#Using NLTK’s Pre-Trained Sentiment Analyzer, VADER (Valence Aware Dictionary and sEntiment Reasoner)\n",
    "import nltk\n",
    "nltk.download([\"vader_lexicon\"])\n",
    "from nltk.sentiment.vader import SentimentIntensityAnalyzer\n",
    "sid_analyzer = SentimentIntensityAnalyzer()"
   ]
  },
  {
   "cell_type": "code",
   "execution_count": 7,
   "id": "81be51a7",
   "metadata": {
    "scrolled": true
   },
   "outputs": [
    {
     "data": {
      "text/plain": [
       "'\"I&#039;ve tried a few antidepressants over the years (citalopram, fluoxetine, amitriptyline), but none of those helped with my depression, insomnia &amp; anxiety. My doctor suggested and changed me onto 45mg mirtazapine and this medicine has saved my life. Thankfully I have had no side effects especially the most common - weight gain, I&#039;ve actually lost alot of weight. I still have suicidal thoughts but mirtazapine has saved me.\"'"
      ]
     },
     "execution_count": 7,
     "metadata": {},
     "output_type": "execute_result"
    }
   ],
   "source": [
    "#Let's test dis_analyzer using nltk.sentiment.vader\n",
    "df1.review.iloc[0]"
   ]
  },
  {
   "cell_type": "code",
   "execution_count": 8,
   "id": "9134dd42",
   "metadata": {},
   "outputs": [
    {
     "data": {
      "text/plain": [
       "{'neg': 0.212, 'neu': 0.61, 'pos': 0.178, 'compound': -0.4596}"
      ]
     },
     "execution_count": 8,
     "metadata": {},
     "output_type": "execute_result"
    }
   ],
   "source": [
    "sid_analyzer.polarity_scores(df1.review.iloc[0])"
   ]
  },
  {
   "cell_type": "code",
   "execution_count": 9,
   "id": "157231a4",
   "metadata": {},
   "outputs": [],
   "source": [
    "#use compound score as sentiment indicator\n",
    "def sentiment_vader(review):\n",
    "    c=sid_analyzer.polarity_scores(review).get('compound')\n",
    "    return c   "
   ]
  },
  {
   "cell_type": "code",
   "execution_count": 10,
   "id": "3142a4b4",
   "metadata": {},
   "outputs": [
    {
     "data": {
      "text/plain": [
       "0.9559"
      ]
     },
     "execution_count": 10,
     "metadata": {},
     "output_type": "execute_result"
    }
   ],
   "source": [
    "sentiment_vader(df1.review.iloc[1])"
   ]
  },
  {
   "cell_type": "code",
   "execution_count": 11,
   "id": "0d7d8e68",
   "metadata": {
    "scrolled": true
   },
   "outputs": [],
   "source": [
    "df1['vader_compound']=[sentiment_vader(i) for i in df1.review]"
   ]
  },
  {
   "cell_type": "code",
   "execution_count": 12,
   "id": "3cd8d002",
   "metadata": {},
   "outputs": [
    {
     "data": {
      "text/html": [
       "<div>\n",
       "<style scoped>\n",
       "    .dataframe tbody tr th:only-of-type {\n",
       "        vertical-align: middle;\n",
       "    }\n",
       "\n",
       "    .dataframe tbody tr th {\n",
       "        vertical-align: top;\n",
       "    }\n",
       "\n",
       "    .dataframe thead th {\n",
       "        text-align: right;\n",
       "    }\n",
       "</style>\n",
       "<table border=\"1\" class=\"dataframe\">\n",
       "  <thead>\n",
       "    <tr style=\"text-align: right;\">\n",
       "      <th></th>\n",
       "      <th>drugName</th>\n",
       "      <th>condition</th>\n",
       "      <th>review</th>\n",
       "      <th>rating</th>\n",
       "      <th>date</th>\n",
       "      <th>usefulCount</th>\n",
       "      <th>year</th>\n",
       "      <th>month</th>\n",
       "      <th>weekday</th>\n",
       "      <th>word_len</th>\n",
       "      <th>vader_compound</th>\n",
       "    </tr>\n",
       "  </thead>\n",
       "  <tbody>\n",
       "    <tr>\n",
       "      <th>163740</th>\n",
       "      <td>Mirtazapine</td>\n",
       "      <td>Depression</td>\n",
       "      <td>\"I&amp;#039;ve tried a few antidepressants over th...</td>\n",
       "      <td>10.0</td>\n",
       "      <td>2012-02-28</td>\n",
       "      <td>22</td>\n",
       "      <td>2012</td>\n",
       "      <td>2</td>\n",
       "      <td>1</td>\n",
       "      <td>81</td>\n",
       "      <td>-0.4596</td>\n",
       "    </tr>\n",
       "    <tr>\n",
       "      <th>97768</th>\n",
       "      <td>Cyclafem 1 / 35</td>\n",
       "      <td>Birth Control</td>\n",
       "      <td>\"I have been on this birth control for one cyc...</td>\n",
       "      <td>9.0</td>\n",
       "      <td>2015-10-22</td>\n",
       "      <td>4</td>\n",
       "      <td>2015</td>\n",
       "      <td>10</td>\n",
       "      <td>3</td>\n",
       "      <td>157</td>\n",
       "      <td>0.9559</td>\n",
       "    </tr>\n",
       "    <tr>\n",
       "      <th>215892</th>\n",
       "      <td>Copper</td>\n",
       "      <td>Birth Control</td>\n",
       "      <td>\"I&amp;#039;ve had the copper coil for about 3 mon...</td>\n",
       "      <td>6.0</td>\n",
       "      <td>2016-06-06</td>\n",
       "      <td>1</td>\n",
       "      <td>2016</td>\n",
       "      <td>6</td>\n",
       "      <td>0</td>\n",
       "      <td>114</td>\n",
       "      <td>-0.5998</td>\n",
       "    </tr>\n",
       "    <tr>\n",
       "      <th>71428</th>\n",
       "      <td>Levora</td>\n",
       "      <td>Birth Control</td>\n",
       "      <td>\"I was on this pill for almost two years. It d...</td>\n",
       "      <td>2.0</td>\n",
       "      <td>2011-04-16</td>\n",
       "      <td>3</td>\n",
       "      <td>2011</td>\n",
       "      <td>4</td>\n",
       "      <td>5</td>\n",
       "      <td>101</td>\n",
       "      <td>-0.8901</td>\n",
       "    </tr>\n",
       "    <tr>\n",
       "      <th>79865</th>\n",
       "      <td>Blisovi Fe 1 / 20</td>\n",
       "      <td>Birth Control</td>\n",
       "      <td>\"I absolutely love this product and recommend ...</td>\n",
       "      <td>10.0</td>\n",
       "      <td>2017-11-03</td>\n",
       "      <td>4</td>\n",
       "      <td>2017</td>\n",
       "      <td>11</td>\n",
       "      <td>4</td>\n",
       "      <td>95</td>\n",
       "      <td>0.4468</td>\n",
       "    </tr>\n",
       "  </tbody>\n",
       "</table>\n",
       "</div>"
      ],
      "text/plain": [
       "                 drugName      condition  \\\n",
       "163740        Mirtazapine     Depression   \n",
       "97768     Cyclafem 1 / 35  Birth Control   \n",
       "215892             Copper  Birth Control   \n",
       "71428              Levora  Birth Control   \n",
       "79865   Blisovi Fe 1 / 20  Birth Control   \n",
       "\n",
       "                                                   review  rating        date  \\\n",
       "163740  \"I&#039;ve tried a few antidepressants over th...    10.0  2012-02-28   \n",
       "97768   \"I have been on this birth control for one cyc...     9.0  2015-10-22   \n",
       "215892  \"I&#039;ve had the copper coil for about 3 mon...     6.0  2016-06-06   \n",
       "71428   \"I was on this pill for almost two years. It d...     2.0  2011-04-16   \n",
       "79865   \"I absolutely love this product and recommend ...    10.0  2017-11-03   \n",
       "\n",
       "        usefulCount  year  month  weekday  word_len  vader_compound  \n",
       "163740           22  2012      2        1        81         -0.4596  \n",
       "97768             4  2015     10        3       157          0.9559  \n",
       "215892            1  2016      6        0       114         -0.5998  \n",
       "71428             3  2011      4        5       101         -0.8901  \n",
       "79865             4  2017     11        4        95          0.4468  "
      ]
     },
     "execution_count": 12,
     "metadata": {},
     "output_type": "execute_result"
    }
   ],
   "source": [
    "df1.head()"
   ]
  },
  {
   "cell_type": "markdown",
   "id": "e8894231",
   "metadata": {},
   "source": [
    "### 3.2.2 use textblob pre-trained sentiment analyzer, TextBlob, to extract sentiment information as candidate features\n",
    "\n",
    "Polarity is float which lies in the range of [-1,1]. where 1 means positive statement and -1 means a negative statement. Subjective sentences generally refer to personal opinion, emotion or judgment whereas objective refers to factual information. Subjectivity is also a float which lies in the range of [0,1]. The detail can be found https://www.analyticsvidhya.com/blog/2018/02/natural-language-processing-for-beginners-using-textblob/"
   ]
  },
  {
   "cell_type": "code",
   "execution_count": 13,
   "id": "a6256e8f",
   "metadata": {},
   "outputs": [
    {
     "data": {
      "text/plain": [
       "Sentiment(polarity=0.275, subjectivity=0.8194444444444444)"
      ]
     },
     "execution_count": 13,
     "metadata": {},
     "output_type": "execute_result"
    }
   ],
   "source": [
    "from textblob import TextBlob\n",
    "blob = TextBlob(\"This restaurant was great, but I'm not sure if I'll go there again.\")\n",
    "blob.sentiment"
   ]
  },
  {
   "cell_type": "code",
   "execution_count": 14,
   "id": "945387f7",
   "metadata": {},
   "outputs": [
    {
     "data": {
      "text/plain": [
       "0.275"
      ]
     },
     "execution_count": 14,
     "metadata": {},
     "output_type": "execute_result"
    }
   ],
   "source": [
    "blob.sentiment.polarity"
   ]
  },
  {
   "cell_type": "code",
   "execution_count": 15,
   "id": "e2745a1a",
   "metadata": {},
   "outputs": [],
   "source": [
    "df1['textblob_polarity']=[TextBlob(i).sentiment.polarity for i in df1.review]"
   ]
  },
  {
   "cell_type": "code",
   "execution_count": 16,
   "id": "e5dd4e3c",
   "metadata": {},
   "outputs": [],
   "source": [
    "df1['textblob_subjectivity']=[TextBlob(i).sentiment.subjectivity for i in df1.review]"
   ]
  },
  {
   "cell_type": "markdown",
   "id": "c28a29fc",
   "metadata": {},
   "source": [
    "### 3.2.3 importance of the features\n",
    "Let's check the trends of rating with the other predictors first and get a general idea about their correlations. It is different from the previously calculating corr. We will use the average or median of the predictors or rating to do the evaluation."
   ]
  },
  {
   "cell_type": "code",
   "execution_count": 21,
   "id": "92e61095",
   "metadata": {},
   "outputs": [
    {
     "data": {
      "text/plain": [
       "Text(0.5, 1.0, 'vader_compound median vs. rating')"
      ]
     },
     "execution_count": 21,
     "metadata": {},
     "output_type": "execute_result"
    },
    {
     "data": {
      "image/png": "[encoded data removed]",
      "text/plain": [
       "<Figure size 1080x576 with 2 Axes>"
      ]
     },
     "metadata": {
      "needs_background": "light"
     },
     "output_type": "display_data"
    }
   ],
   "source": [
    "va_rating_mean=df1.groupby('rating').vader_compound.mean()\n",
    "va_rating_median=df1.groupby('rating').vader_compound.median()\n",
    "f, (ax1, ax2)=plt.subplots(1,2,figsize=(15, 8), sharex=True)\n",
    "sns.scatterplot(data=va_rating_mean.reset_index(), x='rating', y='vader_compound', ax=ax1)\n",
    "ax1.set_title('vader_compound mean vs. rating')\n",
    "sns.scatterplot(data=va_rating_median.reset_index(), x='rating', y='vader_compound', ax=ax2)\n",
    "ax2.set_title('vader_compound median vs. rating')"
   ]
  },
  {
   "cell_type": "code",
   "execution_count": 22,
   "id": "ae5dd13d",
   "metadata": {},
   "outputs": [
    {
     "data": {
      "text/plain": [
       "Text(0.5, 1.0, 'textblob_polarity_median vs. rating')"
      ]
     },
     "execution_count": 22,
     "metadata": {},
     "output_type": "execute_result"
    },
    {
     "data": {
      "image/png": "[encoded data removed]",
      "text/plain": [
       "<Figure size 1080x576 with 2 Axes>"
      ]
     },
     "metadata": {
      "needs_background": "light"
     },
     "output_type": "display_data"
    }
   ],
   "source": [
    "po_rating_mean=df1.groupby('rating').textblob_polarity.mean()\n",
    "po_rating_median=df1.groupby('rating').textblob_polarity.median()\n",
    "f, (ax1, ax2)=plt.subplots(1,2,figsize=(15, 8), sharex=True)\n",
    "sns.scatterplot(data=po_rating_mean.reset_index(), x='rating', y='textblob_polarity', ax=ax1)\n",
    "ax1.set_title('textblob_polarity mean vs. rating')\n",
    "sns.scatterplot(data=po_rating_median.reset_index(), x='rating', y='textblob_polarity', ax=ax2)\n",
    "ax2.set_title('textblob_polarity_median vs. rating')"
   ]
  },
  {
   "cell_type": "code",
   "execution_count": 23,
   "id": "9a7fd488",
   "metadata": {},
   "outputs": [
    {
     "data": {
      "text/plain": [
       "Text(0.5, 1.0, 'textblob_subjectivity median vs. rating')"
      ]
     },
     "execution_count": 23,
     "metadata": {},
     "output_type": "execute_result"
    },
    {
     "data": {
      "image/png": "[encoded data removed]",
      "text/plain": [
       "<Figure size 1080x576 with 2 Axes>"
      ]
     },
     "metadata": {
      "needs_background": "light"
     },
     "output_type": "display_data"
    }
   ],
   "source": [
    "sub_rating_mean=df1.groupby('rating').textblob_subjectivity.mean()\n",
    "sub_rating_median=df1.groupby('rating').textblob_subjectivity.median()\n",
    "f, (ax1, ax2)=plt.subplots(1,2,figsize=(15, 8), sharex=True)\n",
    "sns.scatterplot(data=sub_rating_mean.reset_index(), x='rating', y='textblob_subjectivity', ax=ax1)\n",
    "ax1.set_title('textblob_subjectivity mean vs. rating')\n",
    "sns.scatterplot(data=sub_rating_median.reset_index(), x='rating', y='textblob_subjectivity', ax=ax2)\n",
    "ax2.set_title('textblob_subjectivity median vs. rating')"
   ]
  },
  {
   "cell_type": "code",
   "execution_count": 24,
   "id": "e6d9d2a9",
   "metadata": {},
   "outputs": [
    {
     "data": {
      "text/plain": [
       "Text(0.5, 1.0, 'usefulcount median vs. rating')"
      ]
     },
     "execution_count": 24,
     "metadata": {},
     "output_type": "execute_result"
    },
    {
     "data": {
      "image/png": "[encoded data removed]",
      "text/plain": [
       "<Figure size 1080x576 with 2 Axes>"
      ]
     },
     "metadata": {
      "needs_background": "light"
     },
     "output_type": "display_data"
    }
   ],
   "source": [
    "f, (ax1, ax2)=plt.subplots(1,2,figsize=(15, 8), sharex=True)\n",
    "sns.scatterplot(data=df.groupby('rating').usefulCount.mean().reset_index(), x='rating', y='usefulCount', ax=ax1)\n",
    "ax1.set_title('usefulcount mean vs. rating')\n",
    "sns.scatterplot(data=df.groupby('rating').usefulCount.median().reset_index(), x='rating', y='usefulCount', ax=ax2)\n",
    "ax2.set_title('usefulcount median vs. rating')"
   ]
  },
  {
   "cell_type": "code",
   "execution_count": 25,
   "id": "7ab63e0a",
   "metadata": {},
   "outputs": [
    {
     "data": {
      "text/plain": [
       "Text(0.5, 1.0, 'rating median vs. year')"
      ]
     },
     "execution_count": 25,
     "metadata": {},
     "output_type": "execute_result"
    },
    {
     "data": {
      "image/png": "[encoded data removed]",
      "text/plain": [
       "<Figure size 1080x576 with 2 Axes>"
      ]
     },
     "metadata": {
      "needs_background": "light"
     },
     "output_type": "display_data"
    }
   ],
   "source": [
    "f, (ax1, ax2)=plt.subplots(1,2,figsize=(15, 8), sharex=True)\n",
    "sns.scatterplot(data=df.groupby('year').rating.mean().reset_index(), x='year', y='rating', ax=ax1)\n",
    "ax1.set_title('rating mean vs. year')\n",
    "sns.scatterplot(data=df.groupby('year').rating.median().reset_index(), x='year', y='rating', ax=ax2)\n",
    "ax2.set_title('rating median vs. year')"
   ]
  },
  {
   "cell_type": "code",
   "execution_count": 26,
   "id": "4562539f",
   "metadata": {},
   "outputs": [
    {
     "data": {
      "text/plain": [
       "Text(0.5, 1.0, 'rating median vs. month')"
      ]
     },
     "execution_count": 26,
     "metadata": {},
     "output_type": "execute_result"
    },
    {
     "data": {
      "image/png": "[encoded data removed]",
      "text/plain": [
       "<Figure size 1080x576 with 2 Axes>"
      ]
     },
     "metadata": {
      "needs_background": "light"
     },
     "output_type": "display_data"
    }
   ],
   "source": [
    "f, (ax1, ax2)=plt.subplots(1,2,figsize=(15, 8), sharex=True)\n",
    "sns.scatterplot(data=df.groupby('month').rating.mean().reset_index(), x='month', y='rating', ax=ax1)\n",
    "sns.scatterplot(data=df.groupby('month').rating.median().reset_index(), x='month', y='rating', ax=ax2)\n",
    "ax1.set_title('rating mean vs. month')\n",
    "ax2.set_title('rating median vs. month')"
   ]
  },
  {
   "cell_type": "code",
   "execution_count": 29,
   "id": "991d4a3d",
   "metadata": {},
   "outputs": [
    {
     "data": {
      "text/plain": [
       "Text(0.5, 1.0, 'rating median vs. weekday')"
      ]
     },
     "execution_count": 29,
     "metadata": {},
     "output_type": "execute_result"
    },
    {
     "data": {
      "image/png": "[encoded data removed]",
      "text/plain": [
       "<Figure size 1080x576 with 2 Axes>"
      ]
     },
     "metadata": {
      "needs_background": "light"
     },
     "output_type": "display_data"
    }
   ],
   "source": [
    "f, (ax1, ax2)=plt.subplots(1,2,figsize=(15, 8), sharex=True)\n",
    "sns.scatterplot(data=df.groupby('weekday').rating.mean().reset_index(), x='weekday', y='rating', ax=ax1)\n",
    "sns.scatterplot(data=df.groupby('weekday').rating.median().reset_index(), x='weekday', y='rating', ax=ax2)\n",
    "ax1.set_title('rating mean vs. weekday')\n",
    "ax2.set_title('rating median vs. weekday')"
   ]
  },
  {
   "cell_type": "code",
   "execution_count": 30,
   "id": "dc6f27c3",
   "metadata": {},
   "outputs": [
    {
     "data": {
      "text/plain": [
       "Text(0.5, 1.0, 'word_len median vs. rating')"
      ]
     },
     "execution_count": 30,
     "metadata": {},
     "output_type": "execute_result"
    },
    {
     "data": {
      "image/png": "[encoded data removed]",
      "text/plain": [
       "<Figure size 1080x576 with 2 Axes>"
      ]
     },
     "metadata": {
      "needs_background": "light"
     },
     "output_type": "display_data"
    }
   ],
   "source": [
    "f, (ax1, ax2)=plt.subplots(1,2,figsize=(15, 8), sharex=True)\n",
    "sns.scatterplot(data=df.groupby('rating').word_len.mean().reset_index(), x='rating', y='word_len', ax=ax1)\n",
    "sns.scatterplot(data=df.groupby('rating').word_len.median().reset_index(), x='rating', y='word_len', ax=ax2)\n",
    "ax1.set_title('word_len mean vs. rating')\n",
    "ax2.set_title('word_len median vs. rating')"
   ]
  },
  {
   "cell_type": "markdown",
   "id": "49ca3656",
   "metadata": {},
   "source": [
    "Well, the scatter plot gave us miscellaneous trends. We found the obvious positive correlations between rating with three predictors, vader_compound, textblob_polarity, and usefulCount. As for the other features, their plot are complicated. That's why We decided to keep all of them in the model at this step temporarily."
   ]
  },
  {
   "cell_type": "markdown",
   "id": "7b2cce75",
   "metadata": {},
   "source": [
    "### 3.2.4 dataset split for training and testing"
   ]
  },
  {
   "cell_type": "code",
   "execution_count": 86,
   "id": "ced5ca70",
   "metadata": {},
   "outputs": [
    {
     "data": {
      "text/plain": [
       "507"
      ]
     },
     "execution_count": 86,
     "metadata": {},
     "output_type": "execute_result"
    }
   ],
   "source": [
    "#convert categorical variables into dummy variables\n",
    "df1.drugName.nunique()"
   ]
  },
  {
   "cell_type": "code",
   "execution_count": 87,
   "id": "629d3d81",
   "metadata": {},
   "outputs": [],
   "source": [
    "y=df1.rating\n",
    "X=df1.drop(columns=['date', 'rating', 'drugName'])"
   ]
  },
  {
   "cell_type": "code",
   "execution_count": 88,
   "id": "a2d76ac5",
   "metadata": {},
   "outputs": [
    {
     "data": {
      "text/html": [
       "<div>\n",
       "<style scoped>\n",
       "    .dataframe tbody tr th:only-of-type {\n",
       "        vertical-align: middle;\n",
       "    }\n",
       "\n",
       "    .dataframe tbody tr th {\n",
       "        vertical-align: top;\n",
       "    }\n",
       "\n",
       "    .dataframe thead th {\n",
       "        text-align: right;\n",
       "    }\n",
       "</style>\n",
       "<table border=\"1\" class=\"dataframe\">\n",
       "  <thead>\n",
       "    <tr style=\"text-align: right;\">\n",
       "      <th></th>\n",
       "      <th>condition</th>\n",
       "      <th>review</th>\n",
       "      <th>usefulCount</th>\n",
       "      <th>year</th>\n",
       "      <th>month</th>\n",
       "      <th>weekday</th>\n",
       "      <th>word_len</th>\n",
       "      <th>vader_compound</th>\n",
       "      <th>textblob_polarity</th>\n",
       "      <th>textblob_subjectivity</th>\n",
       "    </tr>\n",
       "  </thead>\n",
       "  <tbody>\n",
       "    <tr>\n",
       "      <th>163740</th>\n",
       "      <td>Depression</td>\n",
       "      <td>\"I&amp;#039;ve tried a few antidepressants over th...</td>\n",
       "      <td>22</td>\n",
       "      <td>2012</td>\n",
       "      <td>2</td>\n",
       "      <td>1</td>\n",
       "      <td>81</td>\n",
       "      <td>-0.4596</td>\n",
       "      <td>0.000000</td>\n",
       "      <td>0.440000</td>\n",
       "    </tr>\n",
       "    <tr>\n",
       "      <th>97768</th>\n",
       "      <td>Birth Control</td>\n",
       "      <td>\"I have been on this birth control for one cyc...</td>\n",
       "      <td>4</td>\n",
       "      <td>2015</td>\n",
       "      <td>10</td>\n",
       "      <td>3</td>\n",
       "      <td>157</td>\n",
       "      <td>0.9559</td>\n",
       "      <td>0.260926</td>\n",
       "      <td>0.550463</td>\n",
       "    </tr>\n",
       "    <tr>\n",
       "      <th>215892</th>\n",
       "      <td>Birth Control</td>\n",
       "      <td>\"I&amp;#039;ve had the copper coil for about 3 mon...</td>\n",
       "      <td>1</td>\n",
       "      <td>2016</td>\n",
       "      <td>6</td>\n",
       "      <td>0</td>\n",
       "      <td>114</td>\n",
       "      <td>-0.5998</td>\n",
       "      <td>-0.110663</td>\n",
       "      <td>0.618027</td>\n",
       "    </tr>\n",
       "    <tr>\n",
       "      <th>71428</th>\n",
       "      <td>Birth Control</td>\n",
       "      <td>\"I was on this pill for almost two years. It d...</td>\n",
       "      <td>3</td>\n",
       "      <td>2011</td>\n",
       "      <td>4</td>\n",
       "      <td>5</td>\n",
       "      <td>101</td>\n",
       "      <td>-0.8901</td>\n",
       "      <td>-0.005889</td>\n",
       "      <td>0.546889</td>\n",
       "    </tr>\n",
       "    <tr>\n",
       "      <th>79865</th>\n",
       "      <td>Birth Control</td>\n",
       "      <td>\"I absolutely love this product and recommend ...</td>\n",
       "      <td>4</td>\n",
       "      <td>2017</td>\n",
       "      <td>11</td>\n",
       "      <td>4</td>\n",
       "      <td>95</td>\n",
       "      <td>0.4468</td>\n",
       "      <td>0.071667</td>\n",
       "      <td>0.578333</td>\n",
       "    </tr>\n",
       "  </tbody>\n",
       "</table>\n",
       "</div>"
      ],
      "text/plain": [
       "            condition                                             review  \\\n",
       "163740     Depression  \"I&#039;ve tried a few antidepressants over th...   \n",
       "97768   Birth Control  \"I have been on this birth control for one cyc...   \n",
       "215892  Birth Control  \"I&#039;ve had the copper coil for about 3 mon...   \n",
       "71428   Birth Control  \"I was on this pill for almost two years. It d...   \n",
       "79865   Birth Control  \"I absolutely love this product and recommend ...   \n",
       "\n",
       "        usefulCount  year  month  weekday  word_len  vader_compound  \\\n",
       "163740           22  2012      2        1        81         -0.4596   \n",
       "97768             4  2015     10        3       157          0.9559   \n",
       "215892            1  2016      6        0       114         -0.5998   \n",
       "71428             3  2011      4        5       101         -0.8901   \n",
       "79865             4  2017     11        4        95          0.4468   \n",
       "\n",
       "        textblob_polarity  textblob_subjectivity  \n",
       "163740           0.000000               0.440000  \n",
       "97768            0.260926               0.550463  \n",
       "215892          -0.110663               0.618027  \n",
       "71428           -0.005889               0.546889  \n",
       "79865            0.071667               0.578333  "
      ]
     },
     "execution_count": 88,
     "metadata": {},
     "output_type": "execute_result"
    }
   ],
   "source": [
    "X.head()"
   ]
  },
  {
   "cell_type": "code",
   "execution_count": 89,
   "id": "71d73da1",
   "metadata": {},
   "outputs": [
    {
     "data": {
      "text/html": [
       "<div>\n",
       "<style scoped>\n",
       "    .dataframe tbody tr th:only-of-type {\n",
       "        vertical-align: middle;\n",
       "    }\n",
       "\n",
       "    .dataframe tbody tr th {\n",
       "        vertical-align: top;\n",
       "    }\n",
       "\n",
       "    .dataframe thead th {\n",
       "        text-align: right;\n",
       "    }\n",
       "</style>\n",
       "<table border=\"1\" class=\"dataframe\">\n",
       "  <thead>\n",
       "    <tr style=\"text-align: right;\">\n",
       "      <th></th>\n",
       "      <th>condition</th>\n",
       "      <th>review</th>\n",
       "      <th>usefulCount</th>\n",
       "      <th>year</th>\n",
       "      <th>month</th>\n",
       "      <th>weekday</th>\n",
       "      <th>word_len</th>\n",
       "      <th>vader_compound</th>\n",
       "      <th>textblob_polarity</th>\n",
       "      <th>textblob_subjectivity</th>\n",
       "      <th>con_1</th>\n",
       "      <th>con_2</th>\n",
       "    </tr>\n",
       "  </thead>\n",
       "  <tbody>\n",
       "    <tr>\n",
       "      <th>163740</th>\n",
       "      <td>Depression</td>\n",
       "      <td>\"I&amp;#039;ve tried a few antidepressants over th...</td>\n",
       "      <td>22</td>\n",
       "      <td>2012</td>\n",
       "      <td>2</td>\n",
       "      <td>1</td>\n",
       "      <td>81</td>\n",
       "      <td>-0.4596</td>\n",
       "      <td>0.000000</td>\n",
       "      <td>0.440000</td>\n",
       "      <td>1</td>\n",
       "      <td>0</td>\n",
       "    </tr>\n",
       "    <tr>\n",
       "      <th>97768</th>\n",
       "      <td>Birth Control</td>\n",
       "      <td>\"I have been on this birth control for one cyc...</td>\n",
       "      <td>4</td>\n",
       "      <td>2015</td>\n",
       "      <td>10</td>\n",
       "      <td>3</td>\n",
       "      <td>157</td>\n",
       "      <td>0.9559</td>\n",
       "      <td>0.260926</td>\n",
       "      <td>0.550463</td>\n",
       "      <td>0</td>\n",
       "      <td>0</td>\n",
       "    </tr>\n",
       "    <tr>\n",
       "      <th>215892</th>\n",
       "      <td>Birth Control</td>\n",
       "      <td>\"I&amp;#039;ve had the copper coil for about 3 mon...</td>\n",
       "      <td>1</td>\n",
       "      <td>2016</td>\n",
       "      <td>6</td>\n",
       "      <td>0</td>\n",
       "      <td>114</td>\n",
       "      <td>-0.5998</td>\n",
       "      <td>-0.110663</td>\n",
       "      <td>0.618027</td>\n",
       "      <td>0</td>\n",
       "      <td>0</td>\n",
       "    </tr>\n",
       "    <tr>\n",
       "      <th>71428</th>\n",
       "      <td>Birth Control</td>\n",
       "      <td>\"I was on this pill for almost two years. It d...</td>\n",
       "      <td>3</td>\n",
       "      <td>2011</td>\n",
       "      <td>4</td>\n",
       "      <td>5</td>\n",
       "      <td>101</td>\n",
       "      <td>-0.8901</td>\n",
       "      <td>-0.005889</td>\n",
       "      <td>0.546889</td>\n",
       "      <td>0</td>\n",
       "      <td>0</td>\n",
       "    </tr>\n",
       "    <tr>\n",
       "      <th>79865</th>\n",
       "      <td>Birth Control</td>\n",
       "      <td>\"I absolutely love this product and recommend ...</td>\n",
       "      <td>4</td>\n",
       "      <td>2017</td>\n",
       "      <td>11</td>\n",
       "      <td>4</td>\n",
       "      <td>95</td>\n",
       "      <td>0.4468</td>\n",
       "      <td>0.071667</td>\n",
       "      <td>0.578333</td>\n",
       "      <td>0</td>\n",
       "      <td>0</td>\n",
       "    </tr>\n",
       "  </tbody>\n",
       "</table>\n",
       "</div>"
      ],
      "text/plain": [
       "            condition                                             review  \\\n",
       "163740     Depression  \"I&#039;ve tried a few antidepressants over th...   \n",
       "97768   Birth Control  \"I have been on this birth control for one cyc...   \n",
       "215892  Birth Control  \"I&#039;ve had the copper coil for about 3 mon...   \n",
       "71428   Birth Control  \"I was on this pill for almost two years. It d...   \n",
       "79865   Birth Control  \"I absolutely love this product and recommend ...   \n",
       "\n",
       "        usefulCount  year  month  weekday  word_len  vader_compound  \\\n",
       "163740           22  2012      2        1        81         -0.4596   \n",
       "97768             4  2015     10        3       157          0.9559   \n",
       "215892            1  2016      6        0       114         -0.5998   \n",
       "71428             3  2011      4        5       101         -0.8901   \n",
       "79865             4  2017     11        4        95          0.4468   \n",
       "\n",
       "        textblob_polarity  textblob_subjectivity  con_1  con_2  \n",
       "163740           0.000000               0.440000      1      0  \n",
       "97768            0.260926               0.550463      0      0  \n",
       "215892          -0.110663               0.618027      0      0  \n",
       "71428           -0.005889               0.546889      0      0  \n",
       "79865            0.071667               0.578333      0      0  "
      ]
     },
     "execution_count": 89,
     "metadata": {},
     "output_type": "execute_result"
    }
   ],
   "source": [
    "#convert 'condition' into dummy variable\n",
    "con_dummy=pd.get_dummies(X.condition, drop_first=True)\n",
    "con_dummy.rename(columns={'Depression':'con_1', 'Pain':'con_2'}, inplace=True)\n",
    "X=pd.concat([X, con_dummy], axis=1)\n",
    "X.head()"
   ]
  },
  {
   "cell_type": "code",
   "execution_count": 90,
   "id": "c841bd0e",
   "metadata": {},
   "outputs": [
    {
     "data": {
      "text/html": [
       "<div>\n",
       "<style scoped>\n",
       "    .dataframe tbody tr th:only-of-type {\n",
       "        vertical-align: middle;\n",
       "    }\n",
       "\n",
       "    .dataframe tbody tr th {\n",
       "        vertical-align: top;\n",
       "    }\n",
       "\n",
       "    .dataframe thead th {\n",
       "        text-align: right;\n",
       "    }\n",
       "</style>\n",
       "<table border=\"1\" class=\"dataframe\">\n",
       "  <thead>\n",
       "    <tr style=\"text-align: right;\">\n",
       "      <th></th>\n",
       "      <th>review</th>\n",
       "      <th>usefulCount</th>\n",
       "      <th>year</th>\n",
       "      <th>month</th>\n",
       "      <th>weekday</th>\n",
       "      <th>word_len</th>\n",
       "      <th>vader_compound</th>\n",
       "      <th>textblob_polarity</th>\n",
       "      <th>textblob_subjectivity</th>\n",
       "      <th>con_1</th>\n",
       "      <th>con_2</th>\n",
       "    </tr>\n",
       "  </thead>\n",
       "  <tbody>\n",
       "    <tr>\n",
       "      <th>163740</th>\n",
       "      <td>\"I&amp;#039;ve tried a few antidepressants over th...</td>\n",
       "      <td>22</td>\n",
       "      <td>2012</td>\n",
       "      <td>2</td>\n",
       "      <td>1</td>\n",
       "      <td>81</td>\n",
       "      <td>-0.4596</td>\n",
       "      <td>0.000000</td>\n",
       "      <td>0.440000</td>\n",
       "      <td>1</td>\n",
       "      <td>0</td>\n",
       "    </tr>\n",
       "    <tr>\n",
       "      <th>97768</th>\n",
       "      <td>\"I have been on this birth control for one cyc...</td>\n",
       "      <td>4</td>\n",
       "      <td>2015</td>\n",
       "      <td>10</td>\n",
       "      <td>3</td>\n",
       "      <td>157</td>\n",
       "      <td>0.9559</td>\n",
       "      <td>0.260926</td>\n",
       "      <td>0.550463</td>\n",
       "      <td>0</td>\n",
       "      <td>0</td>\n",
       "    </tr>\n",
       "    <tr>\n",
       "      <th>215892</th>\n",
       "      <td>\"I&amp;#039;ve had the copper coil for about 3 mon...</td>\n",
       "      <td>1</td>\n",
       "      <td>2016</td>\n",
       "      <td>6</td>\n",
       "      <td>0</td>\n",
       "      <td>114</td>\n",
       "      <td>-0.5998</td>\n",
       "      <td>-0.110663</td>\n",
       "      <td>0.618027</td>\n",
       "      <td>0</td>\n",
       "      <td>0</td>\n",
       "    </tr>\n",
       "    <tr>\n",
       "      <th>71428</th>\n",
       "      <td>\"I was on this pill for almost two years. It d...</td>\n",
       "      <td>3</td>\n",
       "      <td>2011</td>\n",
       "      <td>4</td>\n",
       "      <td>5</td>\n",
       "      <td>101</td>\n",
       "      <td>-0.8901</td>\n",
       "      <td>-0.005889</td>\n",
       "      <td>0.546889</td>\n",
       "      <td>0</td>\n",
       "      <td>0</td>\n",
       "    </tr>\n",
       "    <tr>\n",
       "      <th>79865</th>\n",
       "      <td>\"I absolutely love this product and recommend ...</td>\n",
       "      <td>4</td>\n",
       "      <td>2017</td>\n",
       "      <td>11</td>\n",
       "      <td>4</td>\n",
       "      <td>95</td>\n",
       "      <td>0.4468</td>\n",
       "      <td>0.071667</td>\n",
       "      <td>0.578333</td>\n",
       "      <td>0</td>\n",
       "      <td>0</td>\n",
       "    </tr>\n",
       "  </tbody>\n",
       "</table>\n",
       "</div>"
      ],
      "text/plain": [
       "                                                   review  usefulCount  year  \\\n",
       "163740  \"I&#039;ve tried a few antidepressants over th...           22  2012   \n",
       "97768   \"I have been on this birth control for one cyc...            4  2015   \n",
       "215892  \"I&#039;ve had the copper coil for about 3 mon...            1  2016   \n",
       "71428   \"I was on this pill for almost two years. It d...            3  2011   \n",
       "79865   \"I absolutely love this product and recommend ...            4  2017   \n",
       "\n",
       "        month  weekday  word_len  vader_compound  textblob_polarity  \\\n",
       "163740      2        1        81         -0.4596           0.000000   \n",
       "97768      10        3       157          0.9559           0.260926   \n",
       "215892      6        0       114         -0.5998          -0.110663   \n",
       "71428       4        5       101         -0.8901          -0.005889   \n",
       "79865      11        4        95          0.4468           0.071667   \n",
       "\n",
       "        textblob_subjectivity  con_1  con_2  \n",
       "163740               0.440000      1      0  \n",
       "97768                0.550463      0      0  \n",
       "215892               0.618027      0      0  \n",
       "71428                0.546889      0      0  \n",
       "79865                0.578333      0      0  "
      ]
     },
     "execution_count": 90,
     "metadata": {},
     "output_type": "execute_result"
    }
   ],
   "source": [
    "X=X.drop(columns=['condition'])\n",
    "#depression if con_1=1, pain if con_2=1, birth control if con_1 and con_2 both =0\n",
    "X.head()"
   ]
  },
  {
   "cell_type": "code",
   "execution_count": 91,
   "id": "f21bca89",
   "metadata": {
    "scrolled": false
   },
   "outputs": [
    {
     "data": {
      "text/plain": [
       "review                    object\n",
       "usefulCount                int64\n",
       "year                       int64\n",
       "month                      int64\n",
       "weekday                    int64\n",
       "word_len                   int64\n",
       "vader_compound           float64\n",
       "textblob_polarity        float64\n",
       "textblob_subjectivity    float64\n",
       "con_1                      uint8\n",
       "con_2                      uint8\n",
       "dtype: object"
      ]
     },
     "execution_count": 91,
     "metadata": {},
     "output_type": "execute_result"
    }
   ],
   "source": [
    "X.dtypes"
   ]
  },
  {
   "cell_type": "code",
   "execution_count": 92,
   "id": "d17fcfce",
   "metadata": {},
   "outputs": [
    {
     "data": {
      "text/plain": [
       "review                   0\n",
       "usefulCount              0\n",
       "year                     0\n",
       "month                    0\n",
       "weekday                  0\n",
       "word_len                 0\n",
       "vader_compound           0\n",
       "textblob_polarity        0\n",
       "textblob_subjectivity    0\n",
       "con_1                    0\n",
       "con_2                    0\n",
       "dtype: int64"
      ]
     },
     "execution_count": 92,
     "metadata": {},
     "output_type": "execute_result"
    }
   ],
   "source": [
    "X.isna().sum()"
   ]
  },
  {
   "cell_type": "code",
   "execution_count": 93,
   "id": "aabb2540",
   "metadata": {},
   "outputs": [
    {
     "data": {
      "text/plain": [
       "570"
      ]
     },
     "execution_count": 93,
     "metadata": {},
     "output_type": "execute_result"
    }
   ],
   "source": [
    "#we will use the same stopwords for text data normalization as in EDA analysis\n",
    "import requests\n",
    "url = 'http://members.unine.ch/jacques.savoy/clef/englishST.txt'\n",
    "r = requests.get(url)\n",
    "with open('./data/englishST.txt', 'wb') as f:\n",
    "    f.write(r.content)\n",
    "stop_words = []\n",
    "with open('data/englishST.txt', 'r') as f:\n",
    "    [stop_words.append(word) for line in f for word in line.split()]\n",
    "stopwords=set(stop_words)\n",
    "len(stopwords)"
   ]
  },
  {
   "cell_type": "code",
   "execution_count": 94,
   "id": "404065ef",
   "metadata": {},
   "outputs": [],
   "source": [
    "stopwords_update=stopwords|{'ain', 'aren', 'couldn', 'didn', 'doesn', 'don', 'hadn', 'hasn', 'haven', 'isn', 'll', 'mon', 'shouldn', 've', 'wasn', 'weren', 'won', 'wouldn'}"
   ]
  },
  {
   "cell_type": "code",
   "execution_count": 95,
   "id": "5ec83572",
   "metadata": {},
   "outputs": [],
   "source": [
    "#we need clean the review for LSA analysis\n",
    "from nltk.stem.porter import PorterStemmer\n",
    "p_stemmer = PorterStemmer()\n",
    "def clean_review_LSA(review):\n",
    "    review_text = BeautifulSoup(review, 'html.parser').get_text() #remove html tags\n",
    "    letters_only = re.sub('[^a-zA-Z]', ' ', review_text) #substitute all non-letter symbols with space\n",
    "    words = letters_only.lower().split() #convert all element in the string into lower case\n",
    "    useful_w=[w for w in words if not w in stopwords_update] #remove the most common stop words\n",
    "    long_w=[w for w in useful_w if len(w) > 2] # remove the short words with length <=2\n",
    "    stemmed_tokens = [p_stemmer.stem(i) for i in long_w]\n",
    "    return( ' '.join(stemmed_tokens)) #join stemmed token use space "
   ]
  },
  {
   "cell_type": "code",
   "execution_count": 96,
   "id": "0a550c03",
   "metadata": {},
   "outputs": [
    {
     "data": {
      "text/plain": [
       "163740    antidepress year citalopram fluoxetin amitript...\n",
       "97768     birth control cycl read review type similar bi...\n",
       "Name: clean_review_LSA, dtype: object"
      ]
     },
     "execution_count": 96,
     "metadata": {},
     "output_type": "execute_result"
    }
   ],
   "source": [
    "X['clean_review_LSA'] = [clean_review_LSA(i) for i in X.review]\n",
    "X.clean_review_LSA[:2]#check the results"
   ]
  },
  {
   "cell_type": "code",
   "execution_count": 97,
   "id": "877597d8",
   "metadata": {},
   "outputs": [],
   "source": [
    "X=X.drop(columns=['review'])"
   ]
  },
  {
   "cell_type": "code",
   "execution_count": 98,
   "id": "cde8bed9",
   "metadata": {},
   "outputs": [],
   "source": [
    "from sklearn.model_selection import train_test_split\n",
    "X_train, X_test, y_train, y_test = train_test_split(X, y, test_size=0.3, random_state=42, stratify=y)"
   ]
  },
  {
   "cell_type": "code",
   "execution_count": 119,
   "id": "d7f45c17",
   "metadata": {},
   "outputs": [
    {
     "data": {
      "text/plain": [
       "(41191,)"
      ]
     },
     "execution_count": 119,
     "metadata": {},
     "output_type": "execute_result"
    }
   ],
   "source": [
    "y_train.shape"
   ]
  },
  {
   "cell_type": "markdown",
   "id": "97ae774c",
   "metadata": {},
   "source": [
    "### 3.2.5 TfidfVectorizer transform review data and use it directly as X for modeling development. \n",
    "The corresponding data set is tfidf_train_df, tfidf_test_df. There are totally 288 predictors"
   ]
  },
  {
   "cell_type": "code",
   "execution_count": 99,
   "id": "edc5cd86",
   "metadata": {},
   "outputs": [
    {
     "data": {
      "text/html": [
       "<div>\n",
       "<style scoped>\n",
       "    .dataframe tbody tr th:only-of-type {\n",
       "        vertical-align: middle;\n",
       "    }\n",
       "\n",
       "    .dataframe tbody tr th {\n",
       "        vertical-align: top;\n",
       "    }\n",
       "\n",
       "    .dataframe thead th {\n",
       "        text-align: right;\n",
       "    }\n",
       "</style>\n",
       "<table border=\"1\" class=\"dataframe\">\n",
       "  <thead>\n",
       "    <tr style=\"text-align: right;\">\n",
       "      <th></th>\n",
       "      <th>usefulCount</th>\n",
       "      <th>year</th>\n",
       "      <th>month</th>\n",
       "      <th>weekday</th>\n",
       "      <th>word_len</th>\n",
       "      <th>vader_compound</th>\n",
       "      <th>textblob_polarity</th>\n",
       "      <th>textblob_subjectivity</th>\n",
       "      <th>con_1</th>\n",
       "      <th>con_2</th>\n",
       "      <th>clean_review_LSA</th>\n",
       "    </tr>\n",
       "  </thead>\n",
       "  <tbody>\n",
       "    <tr>\n",
       "      <th>168161</th>\n",
       "      <td>18</td>\n",
       "      <td>2012</td>\n",
       "      <td>5</td>\n",
       "      <td>3</td>\n",
       "      <td>159</td>\n",
       "      <td>-0.6610</td>\n",
       "      <td>0.159259</td>\n",
       "      <td>0.415741</td>\n",
       "      <td>0</td>\n",
       "      <td>0</td>\n",
       "      <td>jolessa year placebo pill period year doctor o...</td>\n",
       "    </tr>\n",
       "    <tr>\n",
       "      <th>226229</th>\n",
       "      <td>0</td>\n",
       "      <td>2015</td>\n",
       "      <td>9</td>\n",
       "      <td>6</td>\n",
       "      <td>106</td>\n",
       "      <td>0.9460</td>\n",
       "      <td>0.292857</td>\n",
       "      <td>0.642857</td>\n",
       "      <td>0</td>\n",
       "      <td>0</td>\n",
       "      <td>pretti iffi implant juli heal perfectli coupl ...</td>\n",
       "    </tr>\n",
       "    <tr>\n",
       "      <th>124826</th>\n",
       "      <td>2</td>\n",
       "      <td>2015</td>\n",
       "      <td>11</td>\n",
       "      <td>2</td>\n",
       "      <td>87</td>\n",
       "      <td>0.4465</td>\n",
       "      <td>-0.000417</td>\n",
       "      <td>0.493333</td>\n",
       "      <td>0</td>\n",
       "      <td>0</td>\n",
       "      <td>brand horribl side effect pill work thought fi...</td>\n",
       "    </tr>\n",
       "    <tr>\n",
       "      <th>62295</th>\n",
       "      <td>44</td>\n",
       "      <td>2013</td>\n",
       "      <td>1</td>\n",
       "      <td>6</td>\n",
       "      <td>97</td>\n",
       "      <td>0.9423</td>\n",
       "      <td>0.125000</td>\n",
       "      <td>0.550758</td>\n",
       "      <td>1</td>\n",
       "      <td>0</td>\n",
       "      <td>day felt relax yawn day woke promptli hour sle...</td>\n",
       "    </tr>\n",
       "    <tr>\n",
       "      <th>192400</th>\n",
       "      <td>13</td>\n",
       "      <td>2015</td>\n",
       "      <td>1</td>\n",
       "      <td>6</td>\n",
       "      <td>171</td>\n",
       "      <td>0.6052</td>\n",
       "      <td>0.004512</td>\n",
       "      <td>0.433097</td>\n",
       "      <td>0</td>\n",
       "      <td>0</td>\n",
       "      <td>ya year ago stop problem clear acn mild start ...</td>\n",
       "    </tr>\n",
       "  </tbody>\n",
       "</table>\n",
       "</div>"
      ],
      "text/plain": [
       "        usefulCount  year  month  weekday  word_len  vader_compound  \\\n",
       "168161           18  2012      5        3       159         -0.6610   \n",
       "226229            0  2015      9        6       106          0.9460   \n",
       "124826            2  2015     11        2        87          0.4465   \n",
       "62295            44  2013      1        6        97          0.9423   \n",
       "192400           13  2015      1        6       171          0.6052   \n",
       "\n",
       "        textblob_polarity  textblob_subjectivity  con_1  con_2  \\\n",
       "168161           0.159259               0.415741      0      0   \n",
       "226229           0.292857               0.642857      0      0   \n",
       "124826          -0.000417               0.493333      0      0   \n",
       "62295            0.125000               0.550758      1      0   \n",
       "192400           0.004512               0.433097      0      0   \n",
       "\n",
       "                                         clean_review_LSA  \n",
       "168161  jolessa year placebo pill period year doctor o...  \n",
       "226229  pretti iffi implant juli heal perfectli coupl ...  \n",
       "124826  brand horribl side effect pill work thought fi...  \n",
       "62295   day felt relax yawn day woke promptli hour sle...  \n",
       "192400  ya year ago stop problem clear acn mild start ...  "
      ]
     },
     "execution_count": 99,
     "metadata": {},
     "output_type": "execute_result"
    }
   ],
   "source": [
    "X_train.head(5)"
   ]
  },
  {
   "cell_type": "code",
   "execution_count": 100,
   "id": "6ed6e70a",
   "metadata": {},
   "outputs": [
    {
     "data": {
      "text/plain": [
       "(41191, 11)"
      ]
     },
     "execution_count": 100,
     "metadata": {},
     "output_type": "execute_result"
    }
   ],
   "source": [
    "X_train.shape"
   ]
  },
  {
   "cell_type": "code",
   "execution_count": 101,
   "id": "e2231fb0",
   "metadata": {},
   "outputs": [
    {
     "data": {
      "text/plain": [
       "(41191, 288)"
      ]
     },
     "execution_count": 101,
     "metadata": {},
     "output_type": "execute_result"
    }
   ],
   "source": [
    "#How to select the best parameter for TfidfVectorizer?\n",
    "from sklearn.feature_extraction.text import TfidfVectorizer\n",
    "vec = TfidfVectorizer(max_df = 0.9, min_df = 0.02, smooth_idf=True, ngram_range=(1,2)) #add ngram 2 becasue bigram did give us more information about customer experience from section 2\n",
    "X_train_tfidf = vec.fit_transform(X_train['clean_review_LSA'])\n",
    "X_train_tfidf.shape"
   ]
  },
  {
   "cell_type": "code",
   "execution_count": 102,
   "id": "6970d699",
   "metadata": {},
   "outputs": [
    {
     "data": {
      "text/plain": [
       "scipy.sparse.csr.csr_matrix"
      ]
     },
     "execution_count": 102,
     "metadata": {},
     "output_type": "execute_result"
    }
   ],
   "source": [
    "type(X_train_tfidf)"
   ]
  },
  {
   "cell_type": "code",
   "execution_count": 103,
   "id": "beb3feb5",
   "metadata": {},
   "outputs": [],
   "source": [
    "tfidf_train_df = pd.DataFrame(X_train_tfidf.toarray(), columns=vec.get_feature_names(), index=X_train.index)"
   ]
  },
  {
   "cell_type": "code",
   "execution_count": 104,
   "id": "1952ce52",
   "metadata": {},
   "outputs": [
    {
     "data": {
      "text/html": [
       "<div>\n",
       "<style scoped>\n",
       "    .dataframe tbody tr th:only-of-type {\n",
       "        vertical-align: middle;\n",
       "    }\n",
       "\n",
       "    .dataframe tbody tr th {\n",
       "        vertical-align: top;\n",
       "    }\n",
       "\n",
       "    .dataframe thead th {\n",
       "        text-align: right;\n",
       "    }\n",
       "</style>\n",
       "<table border=\"1\" class=\"dataframe\">\n",
       "  <thead>\n",
       "    <tr style=\"text-align: right;\">\n",
       "      <th></th>\n",
       "      <th>absolut</th>\n",
       "      <th>acn</th>\n",
       "      <th>activ</th>\n",
       "      <th>adjust</th>\n",
       "      <th>affect</th>\n",
       "      <th>ago</th>\n",
       "      <th>amaz</th>\n",
       "      <th>antidepress</th>\n",
       "      <th>anxieti</th>\n",
       "      <th>anymor</th>\n",
       "      <th>...</th>\n",
       "      <th>wonder</th>\n",
       "      <th>work</th>\n",
       "      <th>work great</th>\n",
       "      <th>worri</th>\n",
       "      <th>wors</th>\n",
       "      <th>worst</th>\n",
       "      <th>worth</th>\n",
       "      <th>year</th>\n",
       "      <th>year ago</th>\n",
       "      <th>zoloft</th>\n",
       "    </tr>\n",
       "  </thead>\n",
       "  <tbody>\n",
       "    <tr>\n",
       "      <th>168161</th>\n",
       "      <td>0.0</td>\n",
       "      <td>0.164172</td>\n",
       "      <td>0.0</td>\n",
       "      <td>0.0</td>\n",
       "      <td>0.0</td>\n",
       "      <td>0.00000</td>\n",
       "      <td>0.0</td>\n",
       "      <td>0.0</td>\n",
       "      <td>0.0</td>\n",
       "      <td>0.0</td>\n",
       "      <td>...</td>\n",
       "      <td>0.0</td>\n",
       "      <td>0.000000</td>\n",
       "      <td>0.0</td>\n",
       "      <td>0.0</td>\n",
       "      <td>0.0</td>\n",
       "      <td>0.0</td>\n",
       "      <td>0.000000</td>\n",
       "      <td>0.557675</td>\n",
       "      <td>0.000000</td>\n",
       "      <td>0.0</td>\n",
       "    </tr>\n",
       "    <tr>\n",
       "      <th>226229</th>\n",
       "      <td>0.0</td>\n",
       "      <td>0.000000</td>\n",
       "      <td>0.0</td>\n",
       "      <td>0.0</td>\n",
       "      <td>0.0</td>\n",
       "      <td>0.00000</td>\n",
       "      <td>0.0</td>\n",
       "      <td>0.0</td>\n",
       "      <td>0.0</td>\n",
       "      <td>0.0</td>\n",
       "      <td>...</td>\n",
       "      <td>0.0</td>\n",
       "      <td>0.000000</td>\n",
       "      <td>0.0</td>\n",
       "      <td>0.0</td>\n",
       "      <td>0.0</td>\n",
       "      <td>0.0</td>\n",
       "      <td>0.000000</td>\n",
       "      <td>0.000000</td>\n",
       "      <td>0.000000</td>\n",
       "      <td>0.0</td>\n",
       "    </tr>\n",
       "    <tr>\n",
       "      <th>124826</th>\n",
       "      <td>0.0</td>\n",
       "      <td>0.000000</td>\n",
       "      <td>0.0</td>\n",
       "      <td>0.0</td>\n",
       "      <td>0.0</td>\n",
       "      <td>0.00000</td>\n",
       "      <td>0.0</td>\n",
       "      <td>0.0</td>\n",
       "      <td>0.0</td>\n",
       "      <td>0.0</td>\n",
       "      <td>...</td>\n",
       "      <td>0.0</td>\n",
       "      <td>0.154974</td>\n",
       "      <td>0.0</td>\n",
       "      <td>0.0</td>\n",
       "      <td>0.0</td>\n",
       "      <td>0.0</td>\n",
       "      <td>0.255881</td>\n",
       "      <td>0.000000</td>\n",
       "      <td>0.000000</td>\n",
       "      <td>0.0</td>\n",
       "    </tr>\n",
       "    <tr>\n",
       "      <th>62295</th>\n",
       "      <td>0.0</td>\n",
       "      <td>0.000000</td>\n",
       "      <td>0.0</td>\n",
       "      <td>0.0</td>\n",
       "      <td>0.0</td>\n",
       "      <td>0.00000</td>\n",
       "      <td>0.0</td>\n",
       "      <td>0.0</td>\n",
       "      <td>0.0</td>\n",
       "      <td>0.0</td>\n",
       "      <td>...</td>\n",
       "      <td>0.0</td>\n",
       "      <td>0.196509</td>\n",
       "      <td>0.0</td>\n",
       "      <td>0.0</td>\n",
       "      <td>0.0</td>\n",
       "      <td>0.0</td>\n",
       "      <td>0.000000</td>\n",
       "      <td>0.161499</td>\n",
       "      <td>0.000000</td>\n",
       "      <td>0.0</td>\n",
       "    </tr>\n",
       "    <tr>\n",
       "      <th>192400</th>\n",
       "      <td>0.0</td>\n",
       "      <td>0.127561</td>\n",
       "      <td>0.0</td>\n",
       "      <td>0.0</td>\n",
       "      <td>0.0</td>\n",
       "      <td>0.13653</td>\n",
       "      <td>0.0</td>\n",
       "      <td>0.0</td>\n",
       "      <td>0.0</td>\n",
       "      <td>0.0</td>\n",
       "      <td>...</td>\n",
       "      <td>0.0</td>\n",
       "      <td>0.000000</td>\n",
       "      <td>0.0</td>\n",
       "      <td>0.0</td>\n",
       "      <td>0.0</td>\n",
       "      <td>0.0</td>\n",
       "      <td>0.000000</td>\n",
       "      <td>0.086662</td>\n",
       "      <td>0.188945</td>\n",
       "      <td>0.0</td>\n",
       "    </tr>\n",
       "  </tbody>\n",
       "</table>\n",
       "<p>5 rows × 288 columns</p>\n",
       "</div>"
      ],
      "text/plain": [
       "        absolut       acn  activ  adjust  affect      ago  amaz  antidepress  \\\n",
       "168161      0.0  0.164172    0.0     0.0     0.0  0.00000   0.0          0.0   \n",
       "226229      0.0  0.000000    0.0     0.0     0.0  0.00000   0.0          0.0   \n",
       "124826      0.0  0.000000    0.0     0.0     0.0  0.00000   0.0          0.0   \n",
       "62295       0.0  0.000000    0.0     0.0     0.0  0.00000   0.0          0.0   \n",
       "192400      0.0  0.127561    0.0     0.0     0.0  0.13653   0.0          0.0   \n",
       "\n",
       "        anxieti  anymor  ...  wonder      work  work great  worri  wors  \\\n",
       "168161      0.0     0.0  ...     0.0  0.000000         0.0    0.0   0.0   \n",
       "226229      0.0     0.0  ...     0.0  0.000000         0.0    0.0   0.0   \n",
       "124826      0.0     0.0  ...     0.0  0.154974         0.0    0.0   0.0   \n",
       "62295       0.0     0.0  ...     0.0  0.196509         0.0    0.0   0.0   \n",
       "192400      0.0     0.0  ...     0.0  0.000000         0.0    0.0   0.0   \n",
       "\n",
       "        worst     worth      year  year ago  zoloft  \n",
       "168161    0.0  0.000000  0.557675  0.000000     0.0  \n",
       "226229    0.0  0.000000  0.000000  0.000000     0.0  \n",
       "124826    0.0  0.255881  0.000000  0.000000     0.0  \n",
       "62295     0.0  0.000000  0.161499  0.000000     0.0  \n",
       "192400    0.0  0.000000  0.086662  0.188945     0.0  \n",
       "\n",
       "[5 rows x 288 columns]"
      ]
     },
     "execution_count": 104,
     "metadata": {},
     "output_type": "execute_result"
    }
   ],
   "source": [
    "tfidf_train_df.head()"
   ]
  },
  {
   "cell_type": "code",
   "execution_count": 105,
   "id": "e5ddd2f1",
   "metadata": {},
   "outputs": [],
   "source": [
    "X_test_tfidf=vec.transform(X_test['clean_review_LSA'])\n",
    "tfidf_test_df = pd.DataFrame(X_test_tfidf.toarray(), columns=vec.get_feature_names(), index=X_test.index)"
   ]
  },
  {
   "cell_type": "code",
   "execution_count": 106,
   "id": "7a7a76ba",
   "metadata": {},
   "outputs": [],
   "source": [
    "#Combine predictors in X with the tfidf extracted features as the predictor\n",
    "tfidf_train_X=pd.concat([X_train.drop(columns=['clean_review_LSA']),tfidf_train_df], axis=1)\n",
    "tfidf_test_X=pd.concat([X_test.drop(columns=['clean_review_LSA']),tfidf_test_df], axis=1)"
   ]
  },
  {
   "cell_type": "code",
   "execution_count": 107,
   "id": "375f1e8b",
   "metadata": {},
   "outputs": [
    {
     "data": {
      "text/plain": [
       "(41191, 298)"
      ]
     },
     "execution_count": 107,
     "metadata": {},
     "output_type": "execute_result"
    }
   ],
   "source": [
    "tfidf_train_X.shape"
   ]
  },
  {
   "cell_type": "code",
   "execution_count": 108,
   "id": "33369649",
   "metadata": {},
   "outputs": [
    {
     "data": {
      "text/plain": [
       "(17654, 298)"
      ]
     },
     "execution_count": 108,
     "metadata": {},
     "output_type": "execute_result"
    }
   ],
   "source": [
    "tfidf_test_X.shape"
   ]
  },
  {
   "cell_type": "code",
   "execution_count": 109,
   "id": "ff28bd3a",
   "metadata": {},
   "outputs": [
    {
     "data": {
      "text/plain": [
       "usefulCount    0\n",
       "year           0\n",
       "month          0\n",
       "weekday        0\n",
       "word_len       0\n",
       "              ..\n",
       "worst          0\n",
       "worth          0\n",
       "year           0\n",
       "year ago       0\n",
       "zoloft         0\n",
       "Length: 298, dtype: int64"
      ]
     },
     "execution_count": 109,
     "metadata": {},
     "output_type": "execute_result"
    }
   ],
   "source": [
    "tfidf_train_X.isnull().sum()"
   ]
  },
  {
   "cell_type": "markdown",
   "id": "70f45129",
   "metadata": {},
   "source": [
    "### 3.2.6  use Latent sematic analysis (LSA) to extract information from the review as features for modeling\n",
    "\n",
    "Generally speaking, topic modeling is a text mining technique identifying keywords to summarize large collections of textual information. It helps in discovering hidden topics in the document, and organize the unstructured text data. In this project, we are going to apply it as a feature generator.\n",
    "\n",
    "In the following steps, we will do dimension reduction using truncated SVD (aka LSA). It performs linear dimension reduction in a different way of PCA. It does not center the data before computing the singular value decomposition, which means it can work on sparse matrices efficiently."
   ]
  },
  {
   "cell_type": "code",
   "execution_count": 110,
   "id": "857fb5e2",
   "metadata": {},
   "outputs": [
    {
     "data": {
      "text/plain": [
       "0.6239055405476756"
      ]
     },
     "execution_count": 110,
     "metadata": {},
     "output_type": "execute_result"
    }
   ],
   "source": [
    "# Here we will extract 100 componets for experiment because it can explain more than 60% of original variance in the review data\n",
    "from sklearn.decomposition import TruncatedSVD\n",
    "svd_model = TruncatedSVD(n_components=100, algorithm='randomized', n_iter=100, random_state=42)\n",
    "svd_model.fit(tfidf_train_df)\n",
    "svd_model.explained_variance_ratio_.sum()"
   ]
  },
  {
   "cell_type": "code",
   "execution_count": 111,
   "id": "65cd069b",
   "metadata": {},
   "outputs": [],
   "source": [
    "tfidf_lsa_train = svd_model.fit_transform(tfidf_train_df)\n",
    "tfidf_lsa_test = svd_model.transform(tfidf_test_df)"
   ]
  },
  {
   "cell_type": "code",
   "execution_count": 112,
   "id": "9d25114b",
   "metadata": {
    "scrolled": true
   },
   "outputs": [
    {
     "data": {
      "text/plain": [
       "numpy.ndarray"
      ]
     },
     "execution_count": 112,
     "metadata": {},
     "output_type": "execute_result"
    }
   ],
   "source": [
    "type(tfidf_lsa_train)"
   ]
  },
  {
   "cell_type": "code",
   "execution_count": 113,
   "id": "0a461a2b",
   "metadata": {},
   "outputs": [],
   "source": [
    "tfidf_lsa_train_df = pd.DataFrame(tfidf_lsa_train, columns=['component '+str(i) for i in range(100)], index=X_train.index)\n",
    "tfidf_lsa_test_df = pd.DataFrame(tfidf_lsa_test, columns=['component '+str(i) for i in range(100)], index=X_test.index)                                  "
   ]
  },
  {
   "cell_type": "code",
   "execution_count": 114,
   "id": "8ca5c4c7",
   "metadata": {},
   "outputs": [],
   "source": [
    "#Combine predictors in X with the lsa extracted features as the predictor\n",
    "tfidf_lsa_train_X=pd.concat([X_train.drop(columns=['clean_review_LSA']),tfidf_lsa_train_df], axis=1)\n",
    "tfidf_lsa_test_X=pd.concat([X_test.drop(columns=['clean_review_LSA']),tfidf_lsa_test_df], axis=1)"
   ]
  },
  {
   "cell_type": "code",
   "execution_count": 115,
   "id": "2bd8709f",
   "metadata": {},
   "outputs": [
    {
     "data": {
      "text/plain": [
       "(41191, 110)"
      ]
     },
     "execution_count": 115,
     "metadata": {},
     "output_type": "execute_result"
    }
   ],
   "source": [
    "tfidf_lsa_train_X.shape"
   ]
  },
  {
   "cell_type": "code",
   "execution_count": 116,
   "id": "a0efb07f",
   "metadata": {},
   "outputs": [
    {
     "data": {
      "text/plain": [
       "(17654, 110)"
      ]
     },
     "execution_count": 116,
     "metadata": {},
     "output_type": "execute_result"
    }
   ],
   "source": [
    "tfidf_lsa_test_X.shape"
   ]
  },
  {
   "cell_type": "markdown",
   "id": "e1b21c0a",
   "metadata": {},
   "source": [
    "### 3.2.7 export data for modelling"
   ]
  },
  {
   "cell_type": "code",
   "execution_count": 117,
   "id": "03360ab7",
   "metadata": {},
   "outputs": [
    {
     "data": {
      "text/plain": [
       "<AxesSubplot:>"
      ]
     },
     "execution_count": 117,
     "metadata": {},
     "output_type": "execute_result"
    },
    {
     "data": {
      "image/png": "[encoded data removed]",
      "text/plain": [
       "<Figure size 792x648 with 2 Axes>"
      ]
     },
     "metadata": {
      "needs_background": "light"
     },
     "output_type": "display_data"
    }
   ],
   "source": [
    "#let's check the correlation between predictors\n",
    "import seaborn as sns\n",
    "corr=pd.concat([X.drop(columns=['clean_review_LSA']), y], axis=1).corr()\n",
    "mask = np.triu(np.ones_like(corr, dtype=bool))\n",
    "f, ax = plt.subplots(figsize=(11, 9))\n",
    "cmap = sns.diverging_palette(230, 20, as_cmap=True)\n",
    "sns.heatmap(corr, mask=mask, cmap=cmap, vmax=.3, center=0, square=True, linewidths=.5, cbar_kws={\"shrink\": .5})\n",
    "#There is no obvious correlation between features in this study"
   ]
  },
  {
   "cell_type": "code",
   "execution_count": 120,
   "id": "e72f9c6a",
   "metadata": {},
   "outputs": [],
   "source": [
    "tfidf_lsa_test_X.to_csv('data/tfidf_lsa_test_X.csv', index=False)\n",
    "tfidf_lsa_train_X.to_csv('data/tfidf_lsa_train_X.csv', index=False)\n",
    "tfidf_train_X.to_csv('data/tfidf_train_X.csv', index=False)\n",
    "tfidf_test_X.to_csv('data/tfidf_test_X.csv', index=False)\n",
    "y_train.to_csv('data/y_train.csv', index=False)\n",
    "y_test.to_csv('data/y_test.csv', index=False)"
   ]
  }
 ],
 "metadata": {
  "kernelspec": {
   "display_name": "Python 3",
   "language": "python",
   "name": "python3"
  },
  "language_info": {
   "codemirror_mode": {
    "name": "ipython",
    "version": 3
   },
   "file_extension": ".py",
   "mimetype": "text/x-python",
   "name": "python",
   "nbconvert_exporter": "python",
   "pygments_lexer": "ipython3",
   "version": "3.8.8"
  }
 },
 "nbformat": 4,
 "nbformat_minor": 5
}
