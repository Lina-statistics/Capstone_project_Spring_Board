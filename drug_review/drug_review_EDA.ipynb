{
 "cells": [
  {
   "cell_type": "markdown",
   "metadata": {},
   "source": [
    "## Part I: EDA for the training data set of drug reviews"
   ]
  },
  {
   "cell_type": "code",
   "execution_count": 1,
   "metadata": {},
   "outputs": [],
   "source": [
    "import pandas as pd\n",
    "import numpy as np\n",
    "import seaborn as sns\n",
    "import matplotlib.pyplot as plt\n",
    "import altair as alt\n",
    "import datetime"
   ]
  },
  {
   "cell_type": "code",
   "execution_count": 2,
   "metadata": {},
   "outputs": [],
   "source": [
    "url='data/drugsComTest_raw.tsv'\n",
    "df=pd.read_csv(url, sep=\"\\t\", index_col=0)"
   ]
  },
  {
   "cell_type": "code",
   "execution_count": 3,
   "metadata": {},
   "outputs": [
    {
     "data": {
      "text/html": [
       "<div>\n",
       "<style scoped>\n",
       "    .dataframe tbody tr th:only-of-type {\n",
       "        vertical-align: middle;\n",
       "    }\n",
       "\n",
       "    .dataframe tbody tr th {\n",
       "        vertical-align: top;\n",
       "    }\n",
       "\n",
       "    .dataframe thead th {\n",
       "        text-align: right;\n",
       "    }\n",
       "</style>\n",
       "<table border=\"1\" class=\"dataframe\">\n",
       "  <thead>\n",
       "    <tr style=\"text-align: right;\">\n",
       "      <th></th>\n",
       "      <th>drugName</th>\n",
       "      <th>condition</th>\n",
       "      <th>review</th>\n",
       "      <th>rating</th>\n",
       "      <th>date</th>\n",
       "      <th>usefulCount</th>\n",
       "    </tr>\n",
       "  </thead>\n",
       "  <tbody>\n",
       "    <tr>\n",
       "      <th>163740</th>\n",
       "      <td>Mirtazapine</td>\n",
       "      <td>Depression</td>\n",
       "      <td>\"I&amp;#039;ve tried a few antidepressants over th...</td>\n",
       "      <td>10.0</td>\n",
       "      <td>February 28, 2012</td>\n",
       "      <td>22</td>\n",
       "    </tr>\n",
       "    <tr>\n",
       "      <th>206473</th>\n",
       "      <td>Mesalamine</td>\n",
       "      <td>Crohn's Disease, Maintenance</td>\n",
       "      <td>\"My son has Crohn&amp;#039;s disease and has done ...</td>\n",
       "      <td>8.0</td>\n",
       "      <td>May 17, 2009</td>\n",
       "      <td>17</td>\n",
       "    </tr>\n",
       "    <tr>\n",
       "      <th>159672</th>\n",
       "      <td>Bactrim</td>\n",
       "      <td>Urinary Tract Infection</td>\n",
       "      <td>\"Quick reduction of symptoms\"</td>\n",
       "      <td>9.0</td>\n",
       "      <td>September 29, 2017</td>\n",
       "      <td>3</td>\n",
       "    </tr>\n",
       "  </tbody>\n",
       "</table>\n",
       "</div>"
      ],
      "text/plain": [
       "           drugName                     condition  \\\n",
       "163740  Mirtazapine                    Depression   \n",
       "206473   Mesalamine  Crohn's Disease, Maintenance   \n",
       "159672      Bactrim       Urinary Tract Infection   \n",
       "\n",
       "                                                   review  rating  \\\n",
       "163740  \"I&#039;ve tried a few antidepressants over th...    10.0   \n",
       "206473  \"My son has Crohn&#039;s disease and has done ...     8.0   \n",
       "159672                      \"Quick reduction of symptoms\"     9.0   \n",
       "\n",
       "                      date  usefulCount  \n",
       "163740   February 28, 2012           22  \n",
       "206473        May 17, 2009           17  \n",
       "159672  September 29, 2017            3  "
      ]
     },
     "execution_count": 3,
     "metadata": {},
     "output_type": "execute_result"
    }
   ],
   "source": [
    "df.head(3)"
   ]
  },
  {
   "cell_type": "code",
   "execution_count": 4,
   "metadata": {
    "scrolled": true
   },
   "outputs": [
    {
     "data": {
      "text/plain": [
       "(53766, 6)"
      ]
     },
     "execution_count": 4,
     "metadata": {},
     "output_type": "execute_result"
    }
   ],
   "source": [
    "df.shape"
   ]
  },
  {
   "cell_type": "code",
   "execution_count": 5,
   "metadata": {},
   "outputs": [
    {
     "data": {
      "text/plain": [
       "drugName         0\n",
       "condition      295\n",
       "review           0\n",
       "rating           0\n",
       "date             0\n",
       "usefulCount      0\n",
       "dtype: int64"
      ]
     },
     "execution_count": 5,
     "metadata": {},
     "output_type": "execute_result"
    }
   ],
   "source": [
    "df.isna().sum()"
   ]
  },
  {
   "cell_type": "code",
   "execution_count": 6,
   "metadata": {},
   "outputs": [
    {
     "data": {
      "text/plain": [
       "(53471, 6)"
      ]
     },
     "execution_count": 6,
     "metadata": {},
     "output_type": "execute_result"
    }
   ],
   "source": [
    "#remove samples with missing conditions\n",
    "df_new=df.dropna(0, how='any')\n",
    "df_new.shape"
   ]
  },
  {
   "cell_type": "markdown",
   "metadata": {},
   "source": [
    "### 1. date \n",
    "\n",
    "  **Qs:**\n",
    "  \n",
    "<span style='color:Blue'>Is there any trend for year, month or weekday when people tend to write drug review online?</span>  "
   ]
  },
  {
   "cell_type": "code",
   "execution_count": 7,
   "metadata": {},
   "outputs": [
    {
     "data": {
      "text/plain": [
       "Index(['drugName', 'condition', 'review', 'rating', 'date', 'usefulCount'], dtype='object')"
      ]
     },
     "execution_count": 7,
     "metadata": {},
     "output_type": "execute_result"
    }
   ],
   "source": [
    "import warnings\n",
    "warnings.filterwarnings(\"ignore\")\n",
    "df_new.columns"
   ]
  },
  {
   "cell_type": "code",
   "execution_count": 8,
   "metadata": {},
   "outputs": [
    {
     "data": {
      "text/plain": [
       "163740   2012-02-28\n",
       "206473   2009-05-17\n",
       "159672   2017-09-29\n",
       "39293    2017-03-05\n",
       "97768    2015-10-22\n",
       "Name: date, dtype: datetime64[ns]"
      ]
     },
     "execution_count": 8,
     "metadata": {},
     "output_type": "execute_result"
    }
   ],
   "source": [
    "import datetime\n",
    "df_new.date=pd.to_datetime(df_new.date)\n",
    "df_new.date[:5]"
   ]
  },
  {
   "cell_type": "code",
   "execution_count": 9,
   "metadata": {},
   "outputs": [],
   "source": [
    "#we can check the time_series distribution for drugs \n",
    "df_new['year']=df_new.date.dt.year\n",
    "df_new['month']=df_new.date.dt.month\n",
    "df_new['weekday']=df_new.date.dt.weekday"
   ]
  },
  {
   "cell_type": "code",
   "execution_count": 10,
   "metadata": {},
   "outputs": [
    {
     "data": {
      "text/plain": [
       "Index(['drugName', 'condition', 'review', 'rating', 'date', 'usefulCount',\n",
       "       'year', 'month', 'weekday'],\n",
       "      dtype='object')"
      ]
     },
     "execution_count": 10,
     "metadata": {},
     "output_type": "execute_result"
    }
   ],
   "source": [
    "df_new.columns"
   ]
  },
  {
   "cell_type": "code",
   "execution_count": 11,
   "metadata": {},
   "outputs": [
    {
     "data": {
      "text/plain": [
       "2016    11739\n",
       "2017     9216\n",
       "2015     9009\n",
       "2013     4065\n",
       "2014     4040\n",
       "2009     3969\n",
       "2011     3710\n",
       "2012     3335\n",
       "2010     2759\n",
       "2008     1629\n",
       "Name: year, dtype: int64"
      ]
     },
     "execution_count": 11,
     "metadata": {},
     "output_type": "execute_result"
    }
   ],
   "source": [
    "df_new.year.value_counts()"
   ]
  },
  {
   "cell_type": "code",
   "execution_count": 12,
   "metadata": {},
   "outputs": [
    {
     "data": {
      "text/plain": [
       "8     4902\n",
       "3     4691\n",
       "1     4668\n",
       "7     4642\n",
       "10    4568\n",
       "11    4531\n",
       "4     4460\n",
       "9     4384\n",
       "5     4292\n",
       "6     4171\n",
       "12    4091\n",
       "2     4071\n",
       "Name: month, dtype: int64"
      ]
     },
     "execution_count": 12,
     "metadata": {},
     "output_type": "execute_result"
    }
   ],
   "source": [
    "df_new.month.value_counts()"
   ]
  },
  {
   "cell_type": "code",
   "execution_count": 13,
   "metadata": {},
   "outputs": [
    {
     "data": {
      "text/plain": [
       "2    8405\n",
       "1    8296\n",
       "3    8056\n",
       "0    8004\n",
       "4    7385\n",
       "5    6674\n",
       "6    6651\n",
       "Name: weekday, dtype: int64"
      ]
     },
     "execution_count": 13,
     "metadata": {},
     "output_type": "execute_result"
    }
   ],
   "source": [
    "df_new.weekday.value_counts()"
   ]
  },
  {
   "cell_type": "markdown",
   "metadata": {},
   "source": [
    "<span style='color:Blue'>The amount of reviews has been greatly increased since 2015. But people didn't show any obvious preference to write reviews on certain month or certain weekday. </span>"
   ]
  },
  {
   "cell_type": "markdown",
   "metadata": {},
   "source": [
    "### 2. condition\n",
    "\n",
    "   **Qs:**\n",
    "     <span style='color:Blue'>How many related conditions were mentioned in this data set? \n",
    "     What's the top conditions with most reviews? Is there any time dependent trend for condition?</span>"
   ]
  },
  {
   "cell_type": "code",
   "execution_count": 14,
   "metadata": {},
   "outputs": [
    {
     "data": {
      "text/plain": [
       "708"
      ]
     },
     "execution_count": 14,
     "metadata": {},
     "output_type": "execute_result"
    }
   ],
   "source": [
    "conditions=df_new.condition.unique().tolist()\n",
    "len(conditions)"
   ]
  },
  {
   "cell_type": "code",
   "execution_count": 15,
   "metadata": {},
   "outputs": [],
   "source": [
    "def top_con(y):\n",
    "    r=df_new[df_new.year==y].condition.value_counts().head(10)\n",
    "    new=r.to_frame().reset_index()\n",
    "    new.columns=['condition','count']\n",
    "    year=pd.Series([y, y, y, y, y, y, y, y, y, y]).T\n",
    "    new['year']=year\n",
    "    return new"
   ]
  },
  {
   "cell_type": "code",
   "execution_count": 16,
   "metadata": {},
   "outputs": [
    {
     "data": {
      "text/html": [
       "<div>\n",
       "<style scoped>\n",
       "    .dataframe tbody tr th:only-of-type {\n",
       "        vertical-align: middle;\n",
       "    }\n",
       "\n",
       "    .dataframe tbody tr th {\n",
       "        vertical-align: top;\n",
       "    }\n",
       "\n",
       "    .dataframe thead th {\n",
       "        text-align: right;\n",
       "    }\n",
       "</style>\n",
       "<table border=\"1\" class=\"dataframe\">\n",
       "  <thead>\n",
       "    <tr style=\"text-align: right;\">\n",
       "      <th></th>\n",
       "      <th>condition</th>\n",
       "      <th>count</th>\n",
       "      <th>year</th>\n",
       "    </tr>\n",
       "  </thead>\n",
       "  <tbody>\n",
       "    <tr>\n",
       "      <th>0</th>\n",
       "      <td>Birth Control</td>\n",
       "      <td>1904</td>\n",
       "      <td>2015</td>\n",
       "    </tr>\n",
       "    <tr>\n",
       "      <th>1</th>\n",
       "      <td>Depression</td>\n",
       "      <td>413</td>\n",
       "      <td>2015</td>\n",
       "    </tr>\n",
       "    <tr>\n",
       "      <th>2</th>\n",
       "      <td>Acne</td>\n",
       "      <td>354</td>\n",
       "      <td>2015</td>\n",
       "    </tr>\n",
       "    <tr>\n",
       "      <th>3</th>\n",
       "      <td>Obesity</td>\n",
       "      <td>353</td>\n",
       "      <td>2015</td>\n",
       "    </tr>\n",
       "    <tr>\n",
       "      <th>4</th>\n",
       "      <td>Anxiety</td>\n",
       "      <td>290</td>\n",
       "      <td>2015</td>\n",
       "    </tr>\n",
       "    <tr>\n",
       "      <th>5</th>\n",
       "      <td>Weight Loss</td>\n",
       "      <td>239</td>\n",
       "      <td>2015</td>\n",
       "    </tr>\n",
       "    <tr>\n",
       "      <th>6</th>\n",
       "      <td>Insomnia</td>\n",
       "      <td>231</td>\n",
       "      <td>2015</td>\n",
       "    </tr>\n",
       "    <tr>\n",
       "      <th>7</th>\n",
       "      <td>Emergency Contraception</td>\n",
       "      <td>211</td>\n",
       "      <td>2015</td>\n",
       "    </tr>\n",
       "    <tr>\n",
       "      <th>8</th>\n",
       "      <td>Bipolar Disorde</td>\n",
       "      <td>208</td>\n",
       "      <td>2015</td>\n",
       "    </tr>\n",
       "    <tr>\n",
       "      <th>9</th>\n",
       "      <td>Pain</td>\n",
       "      <td>178</td>\n",
       "      <td>2015</td>\n",
       "    </tr>\n",
       "  </tbody>\n",
       "</table>\n",
       "</div>"
      ],
      "text/plain": [
       "                 condition  count  year\n",
       "0            Birth Control   1904  2015\n",
       "1               Depression    413  2015\n",
       "2                     Acne    354  2015\n",
       "3                  Obesity    353  2015\n",
       "4                  Anxiety    290  2015\n",
       "5              Weight Loss    239  2015\n",
       "6                 Insomnia    231  2015\n",
       "7  Emergency Contraception    211  2015\n",
       "8          Bipolar Disorde    208  2015\n",
       "9                     Pain    178  2015"
      ]
     },
     "execution_count": 16,
     "metadata": {},
     "output_type": "execute_result"
    }
   ],
   "source": [
    "top_con(2015)"
   ]
  },
  {
   "cell_type": "code",
   "execution_count": 17,
   "metadata": {},
   "outputs": [],
   "source": [
    "top_condition_year=pd.concat([top_con(y) for y in range(2008, 2018)], ignore_index=True)"
   ]
  },
  {
   "cell_type": "code",
   "execution_count": 18,
   "metadata": {},
   "outputs": [
    {
     "data": {
      "text/html": [
       "\n",
       "<div id=\"altair-viz-f8080cca038c445ebab5a072fd7c0bcd\"></div>\n",
       "<script type=\"text/javascript\">\n",
       "  (function(spec, embedOpt){\n",
       "    let outputDiv = document.currentScript.previousElementSibling;\n",
       "    if (outputDiv.id !== \"altair-viz-f8080cca038c445ebab5a072fd7c0bcd\") {\n",
       "      outputDiv = document.getElementById(\"altair-viz-f8080cca038c445ebab5a072fd7c0bcd\");\n",
       "    }\n",
       "    const paths = {\n",
       "      \"vega\": \"https://cdn.jsdelivr.net/npm//vega@5?noext\",\n",
       "      \"vega-lib\": \"https://cdn.jsdelivr.net/npm//vega-lib?noext\",\n",
       "      \"vega-lite\": \"https://cdn.jsdelivr.net/npm//vega-lite@4.8.1?noext\",\n",
       "      \"vega-embed\": \"https://cdn.jsdelivr.net/npm//vega-embed@6?noext\",\n",
       "    };\n",
       "\n",
       "    function loadScript(lib) {\n",
       "      return new Promise(function(resolve, reject) {\n",
       "        var s = document.createElement('script');\n",
       "        s.src = paths[lib];\n",
       "        s.async = true;\n",
       "        s.onload = () => resolve(paths[lib]);\n",
       "        s.onerror = () => reject(`Error loading script: ${paths[lib]}`);\n",
       "        document.getElementsByTagName(\"head\")[0].appendChild(s);\n",
       "      });\n",
       "    }\n",
       "\n",
       "    function showError(err) {\n",
       "      outputDiv.innerHTML = `<div class=\"error\" style=\"color:red;\">${err}</div>`;\n",
       "      throw err;\n",
       "    }\n",
       "\n",
       "    function displayChart(vegaEmbed) {\n",
       "      vegaEmbed(outputDiv, spec, embedOpt)\n",
       "        .catch(err => showError(`Javascript Error: ${err.message}<br>This usually means there's a typo in your chart specification. See the javascript console for the full traceback.`));\n",
       "    }\n",
       "\n",
       "    if(typeof define === \"function\" && define.amd) {\n",
       "      requirejs.config({paths});\n",
       "      require([\"vega-embed\"], displayChart, err => showError(`Error loading script: ${err.message}`));\n",
       "    } else if (typeof vegaEmbed === \"function\") {\n",
       "      displayChart(vegaEmbed);\n",
       "    } else {\n",
       "      loadScript(\"vega\")\n",
       "        .then(() => loadScript(\"vega-lite\"))\n",
       "        .then(() => loadScript(\"vega-embed\"))\n",
       "        .catch(showError)\n",
       "        .then(() => displayChart(vegaEmbed));\n",
       "    }\n",
       "  })({\"config\": {\"view\": {\"continuousWidth\": 400, \"continuousHeight\": 300}}, \"hconcat\": [{\"mark\": \"bar\", \"encoding\": {\"x\": {\"type\": \"quantitative\", \"field\": \"count\"}, \"y\": {\"type\": \"nominal\", \"field\": \"condition\"}}, \"transform\": [{\"filter\": {\"selection\": \"selector001\"}}]}, {\"mark\": \"point\", \"encoding\": {\"color\": {\"condition\": {\"type\": \"nominal\", \"field\": \"year\", \"legend\": null, \"selection\": \"selector001\"}, \"value\": \"lightgray\"}, \"y\": {\"type\": \"nominal\", \"field\": \"year\"}}, \"selection\": {\"selector001\": {\"type\": \"multi\", \"encodings\": [\"color\"]}}}], \"data\": {\"name\": \"data-dce1ef1b7260df0a71b1d067fec2b30d\"}, \"$schema\": \"https://vega.github.io/schema/vega-lite/v4.8.1.json\", \"datasets\": {\"data-dce1ef1b7260df0a71b1d067fec2b30d\": [{\"condition\": \"Pain\", \"count\": 229, \"year\": 2008}, {\"condition\": \"Depression\", \"count\": 111, \"year\": 2008}, {\"condition\": \"Anxiety\", \"count\": 69, \"year\": 2008}, {\"condition\": \"ADHD\", \"count\": 53, \"year\": 2008}, {\"condition\": \"High Blood Pressure\", \"count\": 53, \"year\": 2008}, {\"condition\": \"Bipolar Disorde\", \"count\": 42, \"year\": 2008}, {\"condition\": \"Migraine\", \"count\": 41, \"year\": 2008}, {\"condition\": \"Not Listed / Othe\", \"count\": 38, \"year\": 2008}, {\"condition\": \"Birth Control\", \"count\": 38, \"year\": 2008}, {\"condition\": \"Insomnia\", \"count\": 35, \"year\": 2008}, {\"condition\": \"Pain\", \"count\": 425, \"year\": 2009}, {\"condition\": \"Birth Control\", \"count\": 298, \"year\": 2009}, {\"condition\": \"Depression\", \"count\": 288, \"year\": 2009}, {\"condition\": \"Anxiety\", \"count\": 160, \"year\": 2009}, {\"condition\": \"High Blood Pressure\", \"count\": 154, \"year\": 2009}, {\"condition\": \"ibromyalgia\", \"count\": 135, \"year\": 2009}, {\"condition\": \"Bipolar Disorde\", \"count\": 128, \"year\": 2009}, {\"condition\": \"ADHD\", \"count\": 128, \"year\": 2009}, {\"condition\": \"Insomnia\", \"count\": 101, \"year\": 2009}, {\"condition\": \"Acne\", \"count\": 85, \"year\": 2009}, {\"condition\": \"Birth Control\", \"count\": 369, \"year\": 2010}, {\"condition\": \"Pain\", \"count\": 208, \"year\": 2010}, {\"condition\": \"Depression\", \"count\": 198, \"year\": 2010}, {\"condition\": \"Anxiety\", \"count\": 111, \"year\": 2010}, {\"condition\": \"Bipolar Disorde\", \"count\": 101, \"year\": 2010}, {\"condition\": \"ADHD\", \"count\": 93, \"year\": 2010}, {\"condition\": \"Acne\", \"count\": 87, \"year\": 2010}, {\"condition\": \"Insomnia\", \"count\": 83, \"year\": 2010}, {\"condition\": \"High Blood Pressure\", \"count\": 65, \"year\": 2010}, {\"condition\": \"ibromyalgia\", \"count\": 53, \"year\": 2010}, {\"condition\": \"Birth Control\", \"count\": 625, \"year\": 2011}, {\"condition\": \"Depression\", \"count\": 302, \"year\": 2011}, {\"condition\": \"Pain\", \"count\": 253, \"year\": 2011}, {\"condition\": \"Anxiety\", \"count\": 169, \"year\": 2011}, {\"condition\": \"Bipolar Disorde\", \"count\": 126, \"year\": 2011}, {\"condition\": \"ADHD\", \"count\": 126, \"year\": 2011}, {\"condition\": \"Acne\", \"count\": 114, \"year\": 2011}, {\"condition\": \"Insomnia\", \"count\": 87, \"year\": 2011}, {\"condition\": \"High Blood Pressure\", \"count\": 62, \"year\": 2011}, {\"condition\": \"ibromyalgia\", \"count\": 61, \"year\": 2011}, {\"condition\": \"Birth Control\", \"count\": 655, \"year\": 2012}, {\"condition\": \"Depression\", \"count\": 295, \"year\": 2012}, {\"condition\": \"Pain\", \"count\": 147, \"year\": 2012}, {\"condition\": \"Anxiety\", \"count\": 142, \"year\": 2012}, {\"condition\": \"Bipolar Disorde\", \"count\": 101, \"year\": 2012}, {\"condition\": \"Acne\", \"count\": 90, \"year\": 2012}, {\"condition\": \"ADHD\", \"count\": 82, \"year\": 2012}, {\"condition\": \"Insomnia\", \"count\": 78, \"year\": 2012}, {\"condition\": \"High Blood Pressure\", \"count\": 60, \"year\": 2012}, {\"condition\": \"Diabetes, Type 2\", \"count\": 52, \"year\": 2012}, {\"condition\": \"Birth Control\", \"count\": 605, \"year\": 2013}, {\"condition\": \"Depression\", \"count\": 324, \"year\": 2013}, {\"condition\": \"Anxiety\", \"count\": 166, \"year\": 2013}, {\"condition\": \"Acne\", \"count\": 159, \"year\": 2013}, {\"condition\": \"Bipolar Disorde\", \"count\": 157, \"year\": 2013}, {\"condition\": \"Pain\", \"count\": 139, \"year\": 2013}, {\"condition\": \"Weight Loss\", \"count\": 104, \"year\": 2013}, {\"condition\": \"Chronic Pain\", \"count\": 97, \"year\": 2013}, {\"condition\": \"Insomnia\", \"count\": 92, \"year\": 2013}, {\"condition\": \"ADHD\", \"count\": 85, \"year\": 2013}, {\"condition\": \"Birth Control\", \"count\": 646, \"year\": 2014}, {\"condition\": \"Depression\", \"count\": 262, \"year\": 2014}, {\"condition\": \"Acne\", \"count\": 178, \"year\": 2014}, {\"condition\": \"Anxiety\", \"count\": 170, \"year\": 2014}, {\"condition\": \"Weight Loss\", \"count\": 139, \"year\": 2014}, {\"condition\": \"Bipolar Disorde\", \"count\": 107, \"year\": 2014}, {\"condition\": \"Pain\", \"count\": 94, \"year\": 2014}, {\"condition\": \"ADHD\", \"count\": 82, \"year\": 2014}, {\"condition\": \"Insomnia\", \"count\": 75, \"year\": 2014}, {\"condition\": \"Major Depressive Disorde\", \"count\": 72, \"year\": 2014}, {\"condition\": \"Birth Control\", \"count\": 1904, \"year\": 2015}, {\"condition\": \"Depression\", \"count\": 413, \"year\": 2015}, {\"condition\": \"Acne\", \"count\": 354, \"year\": 2015}, {\"condition\": \"Obesity\", \"count\": 353, \"year\": 2015}, {\"condition\": \"Anxiety\", \"count\": 290, \"year\": 2015}, {\"condition\": \"Weight Loss\", \"count\": 239, \"year\": 2015}, {\"condition\": \"Insomnia\", \"count\": 231, \"year\": 2015}, {\"condition\": \"Emergency Contraception\", \"count\": 211, \"year\": 2015}, {\"condition\": \"Bipolar Disorde\", \"count\": 208, \"year\": 2015}, {\"condition\": \"Pain\", \"count\": 178, \"year\": 2015}, {\"condition\": \"Birth Control\", \"count\": 2499, \"year\": 2016}, {\"condition\": \"Depression\", \"count\": 523, \"year\": 2016}, {\"condition\": \"Acne\", \"count\": 460, \"year\": 2016}, {\"condition\": \"Anxiety\", \"count\": 378, \"year\": 2016}, {\"condition\": \"Vaginal Yeast Infection\", \"count\": 317, \"year\": 2016}, {\"condition\": \"Emergency Contraception\", \"count\": 299, \"year\": 2016}, {\"condition\": \"Obesity\", \"count\": 296, \"year\": 2016}, {\"condition\": \"Weight Loss\", \"count\": 278, \"year\": 2016}, {\"condition\": \"Insomnia\", \"count\": 272, \"year\": 2016}, {\"condition\": \"Pain\", \"count\": 259, \"year\": 2016}, {\"condition\": \"Birth Control\", \"count\": 2009, \"year\": 2017}, {\"condition\": \"Depression\", \"count\": 379, \"year\": 2017}, {\"condition\": \"Weight Loss\", \"count\": 319, \"year\": 2017}, {\"condition\": \"Acne\", \"count\": 294, \"year\": 2017}, {\"condition\": \"Vaginal Yeast Infection\", \"count\": 277, \"year\": 2017}, {\"condition\": \"Obesity\", \"count\": 261, \"year\": 2017}, {\"condition\": \"Anxiety\", \"count\": 253, \"year\": 2017}, {\"condition\": \"Diabetes, Type 2\", \"count\": 187, \"year\": 2017}, {\"condition\": \"Emergency Contraception\", \"count\": 186, \"year\": 2017}, {\"condition\": \"Bipolar Disorde\", \"count\": 186, \"year\": 2017}]}}, {\"mode\": \"vega-lite\"});\n",
       "</script>"
      ],
      "text/plain": [
       "alt.HConcatChart(...)"
      ]
     },
     "execution_count": 18,
     "metadata": {},
     "output_type": "execute_result"
    }
   ],
   "source": [
    "#Check the change of top conditions during 2007 to 2017\n",
    "click = alt.selection_multi(encodings=['color'])\n",
    "\n",
    "scatter = alt.Chart(top_condition_year).mark_bar().encode(\n",
    "    x='count',\n",
    "    y='condition'\n",
    ").transform_filter(\n",
    "    click\n",
    ")\n",
    "\n",
    "hist = alt.Chart(top_condition_year).mark_point().encode(\n",
    "    y='year:N',\n",
    "    color=alt.condition(click, 'year:N', alt.value('lightgray'), legend=None)\n",
    ").add_selection(\n",
    "    click\n",
    ")\n",
    "\n",
    "scatter | hist"
   ]
  },
  {
   "cell_type": "code",
   "execution_count": 19,
   "metadata": {},
   "outputs": [
    {
     "data": {
      "text/plain": [
       "Index(['Birth Control', 'Depression', 'Pain', 'Anxiety'], dtype='object')"
      ]
     },
     "execution_count": 19,
     "metadata": {},
     "output_type": "execute_result"
    }
   ],
   "source": [
    "#top_4_condition\n",
    "top_4_con=df_new.condition.value_counts().head(4)\n",
    "top_4_con.index"
   ]
  },
  {
   "cell_type": "markdown",
   "metadata": {},
   "source": [
    "<span style='color:blue'>There are totally 708 conditions in this data set. Among them, birth control, depression, pain and anxiety are the top 4 based on the total review counts between 2008 and 2017. In 2008, pain was the primary conditions in these reviews, but birth control and depression became the dominant ones from 2010 to 2017.</span>"
   ]
  },
  {
   "cell_type": "markdown",
   "metadata": {},
   "source": [
    "### 3. drugName\n",
    "\n",
    "   **Qs:**\n",
    " <span style='color:Blue'>How many drugs were included in this datset? Which drugs have most reviews? What are the top drugs with high ratings? Which drugs in the top condition categories have most reviews? Are there multiple drugs used for the same condition? Are there multiple conditions using the same drug?</span>\n",
    "   \n",
    "   #### 3.1 check drugs without differentiation of condition\n"
   ]
  },
  {
   "cell_type": "code",
   "execution_count": 20,
   "metadata": {},
   "outputs": [
    {
     "data": {
      "text/plain": [
       "2635"
      ]
     },
     "execution_count": 20,
     "metadata": {},
     "output_type": "execute_result"
    }
   ],
   "source": [
    "drugs=df_new.drugName.unique().tolist()\n",
    "len(drugs)"
   ]
  },
  {
   "cell_type": "code",
   "execution_count": 21,
   "metadata": {},
   "outputs": [
    {
     "data": {
      "text/plain": [
       "Levonorgestrel                        1265\n",
       "Etonogestrel                          1081\n",
       "Ethinyl estradiol / norethindrone      869\n",
       "Nexplanon                              736\n",
       "Ethinyl estradiol / norgestimate       649\n",
       "Ethinyl estradiol / levonorgestrel     591\n",
       "Phentermine                            539\n",
       "Sertraline                             506\n",
       "Escitalopram                           452\n",
       "Mirena                                 431\n",
       "Implanon                               404\n",
       "Gabapentin                             367\n",
       "Bupropion                              343\n",
       "Miconazole                             343\n",
       "Venlafaxine                            320\n",
       "Duloxetine                             320\n",
       "Tramadol                               316\n",
       "Clonazepam                             315\n",
       "Citalopram                             312\n",
       "Medroxyprogesterone                    302\n",
       "Name: drugName, dtype: int64"
      ]
     },
     "execution_count": 21,
     "metadata": {},
     "output_type": "execute_result"
    }
   ],
   "source": [
    "#the top 20 drugs in this data set\n",
    "drug_top_20_list=df_new.drugName.value_counts().head(20)\n",
    "drug_top_20_list"
   ]
  },
  {
   "cell_type": "code",
   "execution_count": 22,
   "metadata": {},
   "outputs": [
    {
     "data": {
      "text/plain": [
       "(10461, 9)"
      ]
     },
     "execution_count": 22,
     "metadata": {},
     "output_type": "execute_result"
    }
   ],
   "source": [
    "drug_top_20=df_new[df_new.drugName.isin(drug_top_20_list.index)]\n",
    "drug_top_20.shape"
   ]
  },
  {
   "cell_type": "code",
   "execution_count": 23,
   "metadata": {},
   "outputs": [
    {
     "data": {
      "text/html": [
       "<div>\n",
       "<style scoped>\n",
       "    .dataframe tbody tr th:only-of-type {\n",
       "        vertical-align: middle;\n",
       "    }\n",
       "\n",
       "    .dataframe tbody tr th {\n",
       "        vertical-align: top;\n",
       "    }\n",
       "\n",
       "    .dataframe thead th {\n",
       "        text-align: right;\n",
       "    }\n",
       "</style>\n",
       "<table border=\"1\" class=\"dataframe\">\n",
       "  <thead>\n",
       "    <tr style=\"text-align: right;\">\n",
       "      <th></th>\n",
       "      <th></th>\n",
       "      <th>review</th>\n",
       "      <th>rating</th>\n",
       "      <th>date</th>\n",
       "      <th>usefulCount</th>\n",
       "      <th>year</th>\n",
       "      <th>month</th>\n",
       "      <th>weekday</th>\n",
       "    </tr>\n",
       "    <tr>\n",
       "      <th>drugName</th>\n",
       "      <th>condition</th>\n",
       "      <th></th>\n",
       "      <th></th>\n",
       "      <th></th>\n",
       "      <th></th>\n",
       "      <th></th>\n",
       "      <th></th>\n",
       "      <th></th>\n",
       "    </tr>\n",
       "  </thead>\n",
       "  <tbody>\n",
       "    <tr>\n",
       "      <th rowspan=\"14\" valign=\"top\">Bupropion</th>\n",
       "      <th>ADHD</th>\n",
       "      <td>14</td>\n",
       "      <td>14</td>\n",
       "      <td>14</td>\n",
       "      <td>14</td>\n",
       "      <td>14</td>\n",
       "      <td>14</td>\n",
       "      <td>14</td>\n",
       "    </tr>\n",
       "    <tr>\n",
       "      <th>Anxiety</th>\n",
       "      <td>20</td>\n",
       "      <td>20</td>\n",
       "      <td>20</td>\n",
       "      <td>20</td>\n",
       "      <td>20</td>\n",
       "      <td>20</td>\n",
       "      <td>20</td>\n",
       "    </tr>\n",
       "    <tr>\n",
       "      <th>Bipolar Disorde</th>\n",
       "      <td>9</td>\n",
       "      <td>9</td>\n",
       "      <td>9</td>\n",
       "      <td>9</td>\n",
       "      <td>9</td>\n",
       "      <td>9</td>\n",
       "      <td>9</td>\n",
       "    </tr>\n",
       "    <tr>\n",
       "      <th>Depression</th>\n",
       "      <td>198</td>\n",
       "      <td>198</td>\n",
       "      <td>198</td>\n",
       "      <td>198</td>\n",
       "      <td>198</td>\n",
       "      <td>198</td>\n",
       "      <td>198</td>\n",
       "    </tr>\n",
       "    <tr>\n",
       "      <th>Major Depressive Disorde</th>\n",
       "      <td>28</td>\n",
       "      <td>28</td>\n",
       "      <td>28</td>\n",
       "      <td>28</td>\n",
       "      <td>28</td>\n",
       "      <td>28</td>\n",
       "      <td>28</td>\n",
       "    </tr>\n",
       "    <tr>\n",
       "      <th>Migraine Prevention</th>\n",
       "      <td>1</td>\n",
       "      <td>1</td>\n",
       "      <td>1</td>\n",
       "      <td>1</td>\n",
       "      <td>1</td>\n",
       "      <td>1</td>\n",
       "      <td>1</td>\n",
       "    </tr>\n",
       "    <tr>\n",
       "      <th>Not Listed / Othe</th>\n",
       "      <td>1</td>\n",
       "      <td>1</td>\n",
       "      <td>1</td>\n",
       "      <td>1</td>\n",
       "      <td>1</td>\n",
       "      <td>1</td>\n",
       "      <td>1</td>\n",
       "    </tr>\n",
       "    <tr>\n",
       "      <th>Obesity</th>\n",
       "      <td>1</td>\n",
       "      <td>1</td>\n",
       "      <td>1</td>\n",
       "      <td>1</td>\n",
       "      <td>1</td>\n",
       "      <td>1</td>\n",
       "      <td>1</td>\n",
       "    </tr>\n",
       "    <tr>\n",
       "      <th>Panic Disorde</th>\n",
       "      <td>3</td>\n",
       "      <td>3</td>\n",
       "      <td>3</td>\n",
       "      <td>3</td>\n",
       "      <td>3</td>\n",
       "      <td>3</td>\n",
       "      <td>3</td>\n",
       "    </tr>\n",
       "    <tr>\n",
       "      <th>Persistent Depressive Disorde</th>\n",
       "      <td>1</td>\n",
       "      <td>1</td>\n",
       "      <td>1</td>\n",
       "      <td>1</td>\n",
       "      <td>1</td>\n",
       "      <td>1</td>\n",
       "      <td>1</td>\n",
       "    </tr>\n",
       "    <tr>\n",
       "      <th>Premenstrual Dysphoric Disorde</th>\n",
       "      <td>1</td>\n",
       "      <td>1</td>\n",
       "      <td>1</td>\n",
       "      <td>1</td>\n",
       "      <td>1</td>\n",
       "      <td>1</td>\n",
       "      <td>1</td>\n",
       "    </tr>\n",
       "    <tr>\n",
       "      <th>Seasonal Affective Disorde</th>\n",
       "      <td>3</td>\n",
       "      <td>3</td>\n",
       "      <td>3</td>\n",
       "      <td>3</td>\n",
       "      <td>3</td>\n",
       "      <td>3</td>\n",
       "      <td>3</td>\n",
       "    </tr>\n",
       "    <tr>\n",
       "      <th>Sexual Dysfunction, SSRI Induced</th>\n",
       "      <td>11</td>\n",
       "      <td>11</td>\n",
       "      <td>11</td>\n",
       "      <td>11</td>\n",
       "      <td>11</td>\n",
       "      <td>11</td>\n",
       "      <td>11</td>\n",
       "    </tr>\n",
       "    <tr>\n",
       "      <th>Smoking Cessation</th>\n",
       "      <td>52</td>\n",
       "      <td>52</td>\n",
       "      <td>52</td>\n",
       "      <td>52</td>\n",
       "      <td>52</td>\n",
       "      <td>52</td>\n",
       "      <td>52</td>\n",
       "    </tr>\n",
       "    <tr>\n",
       "      <th rowspan=\"6\" valign=\"top\">Citalopram</th>\n",
       "      <th>Agitation</th>\n",
       "      <td>1</td>\n",
       "      <td>1</td>\n",
       "      <td>1</td>\n",
       "      <td>1</td>\n",
       "      <td>1</td>\n",
       "      <td>1</td>\n",
       "      <td>1</td>\n",
       "    </tr>\n",
       "    <tr>\n",
       "      <th>Anxiety and Stress</th>\n",
       "      <td>143</td>\n",
       "      <td>143</td>\n",
       "      <td>143</td>\n",
       "      <td>143</td>\n",
       "      <td>143</td>\n",
       "      <td>143</td>\n",
       "      <td>143</td>\n",
       "    </tr>\n",
       "    <tr>\n",
       "      <th>Bipolar Disorde</th>\n",
       "      <td>1</td>\n",
       "      <td>1</td>\n",
       "      <td>1</td>\n",
       "      <td>1</td>\n",
       "      <td>1</td>\n",
       "      <td>1</td>\n",
       "      <td>1</td>\n",
       "    </tr>\n",
       "    <tr>\n",
       "      <th>Depression</th>\n",
       "      <td>125</td>\n",
       "      <td>125</td>\n",
       "      <td>125</td>\n",
       "      <td>125</td>\n",
       "      <td>125</td>\n",
       "      <td>125</td>\n",
       "      <td>125</td>\n",
       "    </tr>\n",
       "    <tr>\n",
       "      <th>Generalized Anxiety Disorde</th>\n",
       "      <td>20</td>\n",
       "      <td>20</td>\n",
       "      <td>20</td>\n",
       "      <td>20</td>\n",
       "      <td>20</td>\n",
       "      <td>20</td>\n",
       "      <td>20</td>\n",
       "    </tr>\n",
       "    <tr>\n",
       "      <th>Hot Flashes</th>\n",
       "      <td>1</td>\n",
       "      <td>1</td>\n",
       "      <td>1</td>\n",
       "      <td>1</td>\n",
       "      <td>1</td>\n",
       "      <td>1</td>\n",
       "      <td>1</td>\n",
       "    </tr>\n",
       "  </tbody>\n",
       "</table>\n",
       "</div>"
      ],
      "text/plain": [
       "                                             review  rating  date  \\\n",
       "drugName   condition                                                \n",
       "Bupropion  ADHD                                  14      14    14   \n",
       "           Anxiety                               20      20    20   \n",
       "           Bipolar Disorde                        9       9     9   \n",
       "           Depression                           198     198   198   \n",
       "           Major Depressive Disorde              28      28    28   \n",
       "           Migraine Prevention                    1       1     1   \n",
       "           Not Listed / Othe                      1       1     1   \n",
       "           Obesity                                1       1     1   \n",
       "           Panic Disorde                          3       3     3   \n",
       "           Persistent Depressive Disorde          1       1     1   \n",
       "           Premenstrual Dysphoric Disorde         1       1     1   \n",
       "           Seasonal Affective Disorde             3       3     3   \n",
       "           Sexual Dysfunction, SSRI Induced      11      11    11   \n",
       "           Smoking Cessation                     52      52    52   \n",
       "Citalopram Agitation                              1       1     1   \n",
       "           Anxiety and Stress                   143     143   143   \n",
       "           Bipolar Disorde                        1       1     1   \n",
       "           Depression                           125     125   125   \n",
       "           Generalized Anxiety Disorde           20      20    20   \n",
       "           Hot Flashes                            1       1     1   \n",
       "\n",
       "                                             usefulCount  year  month  weekday  \n",
       "drugName   condition                                                            \n",
       "Bupropion  ADHD                                       14    14     14       14  \n",
       "           Anxiety                                    20    20     20       20  \n",
       "           Bipolar Disorde                             9     9      9        9  \n",
       "           Depression                                198   198    198      198  \n",
       "           Major Depressive Disorde                   28    28     28       28  \n",
       "           Migraine Prevention                         1     1      1        1  \n",
       "           Not Listed / Othe                           1     1      1        1  \n",
       "           Obesity                                     1     1      1        1  \n",
       "           Panic Disorde                               3     3      3        3  \n",
       "           Persistent Depressive Disorde               1     1      1        1  \n",
       "           Premenstrual Dysphoric Disorde              1     1      1        1  \n",
       "           Seasonal Affective Disorde                  3     3      3        3  \n",
       "           Sexual Dysfunction, SSRI Induced           11    11     11       11  \n",
       "           Smoking Cessation                          52    52     52       52  \n",
       "Citalopram Agitation                                   1     1      1        1  \n",
       "           Anxiety and Stress                        143   143    143      143  \n",
       "           Bipolar Disorde                             1     1      1        1  \n",
       "           Depression                                125   125    125      125  \n",
       "           Generalized Anxiety Disorde                20    20     20       20  \n",
       "           Hot Flashes                                 1     1      1        1  "
      ]
     },
     "execution_count": 23,
     "metadata": {},
     "output_type": "execute_result"
    }
   ],
   "source": [
    "drug_top_20.groupby(['drugName','condition']).count().head(20)"
   ]
  },
  {
   "cell_type": "code",
   "execution_count": 24,
   "metadata": {},
   "outputs": [],
   "source": [
    "def top_drug(y):\n",
    "    r=df_new[df_new.year==y].drugName.value_counts().head(10)\n",
    "    new=r.to_frame().reset_index()\n",
    "    new.columns=['drugName','count']\n",
    "    year=pd.Series([y, y, y, y, y, y, y, y, y, y]).T\n",
    "    new['year']=year\n",
    "    return new"
   ]
  },
  {
   "cell_type": "code",
   "execution_count": 25,
   "metadata": {},
   "outputs": [],
   "source": [
    "top_drug_year=pd.concat([top_drug(y) for y in range(2008, 2018)], ignore_index=True)"
   ]
  },
  {
   "cell_type": "code",
   "execution_count": 26,
   "metadata": {},
   "outputs": [
    {
     "data": {
      "text/html": [
       "\n",
       "<div id=\"altair-viz-08b10209a42e4ef0aac3414bda2139f5\"></div>\n",
       "<script type=\"text/javascript\">\n",
       "  (function(spec, embedOpt){\n",
       "    let outputDiv = document.currentScript.previousElementSibling;\n",
       "    if (outputDiv.id !== \"altair-viz-08b10209a42e4ef0aac3414bda2139f5\") {\n",
       "      outputDiv = document.getElementById(\"altair-viz-08b10209a42e4ef0aac3414bda2139f5\");\n",
       "    }\n",
       "    const paths = {\n",
       "      \"vega\": \"https://cdn.jsdelivr.net/npm//vega@5?noext\",\n",
       "      \"vega-lib\": \"https://cdn.jsdelivr.net/npm//vega-lib?noext\",\n",
       "      \"vega-lite\": \"https://cdn.jsdelivr.net/npm//vega-lite@4.8.1?noext\",\n",
       "      \"vega-embed\": \"https://cdn.jsdelivr.net/npm//vega-embed@6?noext\",\n",
       "    };\n",
       "\n",
       "    function loadScript(lib) {\n",
       "      return new Promise(function(resolve, reject) {\n",
       "        var s = document.createElement('script');\n",
       "        s.src = paths[lib];\n",
       "        s.async = true;\n",
       "        s.onload = () => resolve(paths[lib]);\n",
       "        s.onerror = () => reject(`Error loading script: ${paths[lib]}`);\n",
       "        document.getElementsByTagName(\"head\")[0].appendChild(s);\n",
       "      });\n",
       "    }\n",
       "\n",
       "    function showError(err) {\n",
       "      outputDiv.innerHTML = `<div class=\"error\" style=\"color:red;\">${err}</div>`;\n",
       "      throw err;\n",
       "    }\n",
       "\n",
       "    function displayChart(vegaEmbed) {\n",
       "      vegaEmbed(outputDiv, spec, embedOpt)\n",
       "        .catch(err => showError(`Javascript Error: ${err.message}<br>This usually means there's a typo in your chart specification. See the javascript console for the full traceback.`));\n",
       "    }\n",
       "\n",
       "    if(typeof define === \"function\" && define.amd) {\n",
       "      requirejs.config({paths});\n",
       "      require([\"vega-embed\"], displayChart, err => showError(`Error loading script: ${err.message}`));\n",
       "    } else if (typeof vegaEmbed === \"function\") {\n",
       "      displayChart(vegaEmbed);\n",
       "    } else {\n",
       "      loadScript(\"vega\")\n",
       "        .then(() => loadScript(\"vega-lite\"))\n",
       "        .then(() => loadScript(\"vega-embed\"))\n",
       "        .catch(showError)\n",
       "        .then(() => displayChart(vegaEmbed));\n",
       "    }\n",
       "  })({\"config\": {\"view\": {\"continuousWidth\": 400, \"continuousHeight\": 300}}, \"hconcat\": [{\"data\": {\"name\": \"data-fa6ee7d358f9eec48bb595a7a056d04c\"}, \"mark\": \"bar\", \"encoding\": {\"x\": {\"type\": \"quantitative\", \"field\": \"count\"}, \"y\": {\"type\": \"nominal\", \"field\": \"drugName\"}}, \"transform\": [{\"filter\": {\"selection\": \"selector002\"}}]}, {\"data\": {\"name\": \"data-dce1ef1b7260df0a71b1d067fec2b30d\"}, \"mark\": \"point\", \"encoding\": {\"color\": {\"condition\": {\"type\": \"nominal\", \"field\": \"year\", \"legend\": null, \"selection\": \"selector002\"}, \"value\": \"lightgray\"}, \"y\": {\"type\": \"nominal\", \"field\": \"year\"}}, \"selection\": {\"selector002\": {\"type\": \"multi\", \"encodings\": [\"color\"]}}}], \"$schema\": \"https://vega.github.io/schema/vega-lite/v4.8.1.json\", \"datasets\": {\"data-fa6ee7d358f9eec48bb595a7a056d04c\": [{\"drugName\": \"Phentermine\", \"count\": 24, \"year\": 2008}, {\"drugName\": \"Escitalopram\", \"count\": 21, \"year\": 2008}, {\"drugName\": \"Tramadol\", \"count\": 21, \"year\": 2008}, {\"drugName\": \"Acetaminophen / hydrocodone\", \"count\": 20, \"year\": 2008}, {\"drugName\": \"Buprenorphine / naloxone\", \"count\": 19, \"year\": 2008}, {\"drugName\": \"Acetaminophen / oxycodone\", \"count\": 19, \"year\": 2008}, {\"drugName\": \"Alprazolam\", \"count\": 18, \"year\": 2008}, {\"drugName\": \"Clonazepam\", \"count\": 18, \"year\": 2008}, {\"drugName\": \"Oxycodone\", \"count\": 17, \"year\": 2008}, {\"drugName\": \"Methadone\", \"count\": 14, \"year\": 2008}, {\"drugName\": \"Phentermine\", \"count\": 67, \"year\": 2009}, {\"drugName\": \"Tramadol\", \"count\": 50, \"year\": 2009}, {\"drugName\": \"Pristiq\", \"count\": 43, \"year\": 2009}, {\"drugName\": \"Cymbalta\", \"count\": 39, \"year\": 2009}, {\"drugName\": \"Desvenlafaxine\", \"count\": 36, \"year\": 2009}, {\"drugName\": \"Chantix\", \"count\": 35, \"year\": 2009}, {\"drugName\": \"Oxycodone\", \"count\": 35, \"year\": 2009}, {\"drugName\": \"Alprazolam\", \"count\": 34, \"year\": 2009}, {\"drugName\": \"Milnacipran\", \"count\": 34, \"year\": 2009}, {\"drugName\": \"Acetaminophen / hydrocodone\", \"count\": 33, \"year\": 2009}, {\"drugName\": \"Implanon\", \"count\": 53, \"year\": 2010}, {\"drugName\": \"Etonogestrel\", \"count\": 47, \"year\": 2010}, {\"drugName\": \"Ethinyl estradiol / levonorgestrel\", \"count\": 43, \"year\": 2010}, {\"drugName\": \"Ethinyl estradiol / norgestimate\", \"count\": 33, \"year\": 2010}, {\"drugName\": \"Loestrin 24 Fe\", \"count\": 33, \"year\": 2010}, {\"drugName\": \"Ethinyl estradiol / norethindrone\", \"count\": 32, \"year\": 2010}, {\"drugName\": \"Sertraline\", \"count\": 27, \"year\": 2010}, {\"drugName\": \"Escitalopram\", \"count\": 27, \"year\": 2010}, {\"drugName\": \"Desvenlafaxine\", \"count\": 25, \"year\": 2010}, {\"drugName\": \"Tramadol\", \"count\": 23, \"year\": 2010}, {\"drugName\": \"Implanon\", \"count\": 65, \"year\": 2011}, {\"drugName\": \"Levonorgestrel\", \"count\": 58, \"year\": 2011}, {\"drugName\": \"Mirena\", \"count\": 55, \"year\": 2011}, {\"drugName\": \"Ethinyl estradiol / norgestimate\", \"count\": 48, \"year\": 2011}, {\"drugName\": \"Ethinyl estradiol / levonorgestrel\", \"count\": 46, \"year\": 2011}, {\"drugName\": \"Ethinyl estradiol / norethindrone\", \"count\": 45, \"year\": 2011}, {\"drugName\": \"Etonogestrel\", \"count\": 44, \"year\": 2011}, {\"drugName\": \"Duloxetine\", \"count\": 40, \"year\": 2011}, {\"drugName\": \"NuvaRing\", \"count\": 38, \"year\": 2011}, {\"drugName\": \"Cymbalta\", \"count\": 36, \"year\": 2011}, {\"drugName\": \"Ethinyl estradiol / norethindrone\", \"count\": 63, \"year\": 2012}, {\"drugName\": \"Mirena\", \"count\": 59, \"year\": 2012}, {\"drugName\": \"Implanon\", \"count\": 53, \"year\": 2012}, {\"drugName\": \"Levonorgestrel\", \"count\": 52, \"year\": 2012}, {\"drugName\": \"Etonogestrel\", \"count\": 52, \"year\": 2012}, {\"drugName\": \"Ethinyl estradiol / norgestimate\", \"count\": 44, \"year\": 2012}, {\"drugName\": \"Sertraline\", \"count\": 43, \"year\": 2012}, {\"drugName\": \"Ethinyl estradiol / levonorgestrel\", \"count\": 41, \"year\": 2012}, {\"drugName\": \"Viibryd\", \"count\": 36, \"year\": 2012}, {\"drugName\": \"Loestrin 24 Fe\", \"count\": 33, \"year\": 2012}, {\"drugName\": \"Etonogestrel\", \"count\": 65, \"year\": 2013}, {\"drugName\": \"Ethinyl estradiol / norethindrone\", \"count\": 65, \"year\": 2013}, {\"drugName\": \"Ethinyl estradiol / levonorgestrel\", \"count\": 49, \"year\": 2013}, {\"drugName\": \"Sertraline\", \"count\": 47, \"year\": 2013}, {\"drugName\": \"Lexapro\", \"count\": 44, \"year\": 2013}, {\"drugName\": \"Ethinyl estradiol / norgestimate\", \"count\": 43, \"year\": 2013}, {\"drugName\": \"Clonazepam\", \"count\": 42, \"year\": 2013}, {\"drugName\": \"Levonorgestrel\", \"count\": 39, \"year\": 2013}, {\"drugName\": \"Escitalopram\", \"count\": 37, \"year\": 2013}, {\"drugName\": \"Implanon\", \"count\": 35, \"year\": 2013}, {\"drugName\": \"Etonogestrel\", \"count\": 90, \"year\": 2014}, {\"drugName\": \"Levonorgestrel\", \"count\": 67, \"year\": 2014}, {\"drugName\": \"Ethinyl estradiol / norethindrone\", \"count\": 57, \"year\": 2014}, {\"drugName\": \"Ethinyl estradiol / norgestimate\", \"count\": 56, \"year\": 2014}, {\"drugName\": \"Nexplanon\", \"count\": 55, \"year\": 2014}, {\"drugName\": \"Belviq\", \"count\": 51, \"year\": 2014}, {\"drugName\": \"Lorcaserin\", \"count\": 47, \"year\": 2014}, {\"drugName\": \"Sertraline\", \"count\": 41, \"year\": 2014}, {\"drugName\": \"Phentermine\", \"count\": 41, \"year\": 2014}, {\"drugName\": \"Bupropion\", \"count\": 41, \"year\": 2014}, {\"drugName\": \"Levonorgestrel\", \"count\": 293, \"year\": 2015}, {\"drugName\": \"Etonogestrel\", \"count\": 259, \"year\": 2015}, {\"drugName\": \"Nexplanon\", \"count\": 210, \"year\": 2015}, {\"drugName\": \"Ethinyl estradiol / norethindrone\", \"count\": 175, \"year\": 2015}, {\"drugName\": \"Phentermine\", \"count\": 120, \"year\": 2015}, {\"drugName\": \"Contrave\", \"count\": 109, \"year\": 2015}, {\"drugName\": \"Ethinyl estradiol / norgestimate\", \"count\": 106, \"year\": 2015}, {\"drugName\": \"Bupropion / naltrexone\", \"count\": 103, \"year\": 2015}, {\"drugName\": \"Ethinyl estradiol / levonorgestrel\", \"count\": 101, \"year\": 2015}, {\"drugName\": \"Medroxyprogesterone\", \"count\": 94, \"year\": 2015}, {\"drugName\": \"Levonorgestrel\", \"count\": 372, \"year\": 2016}, {\"drugName\": \"Etonogestrel\", \"count\": 316, \"year\": 2016}, {\"drugName\": \"Nexplanon\", \"count\": 267, \"year\": 2016}, {\"drugName\": \"Ethinyl estradiol / norethindrone\", \"count\": 229, \"year\": 2016}, {\"drugName\": \"Ethinyl estradiol / norgestimate\", \"count\": 162, \"year\": 2016}, {\"drugName\": \"Ethinyl estradiol / levonorgestrel\", \"count\": 135, \"year\": 2016}, {\"drugName\": \"Miconazole\", \"count\": 133, \"year\": 2016}, {\"drugName\": \"Tioconazole\", \"count\": 119, \"year\": 2016}, {\"drugName\": \"Skyla\", \"count\": 117, \"year\": 2016}, {\"drugName\": \"Sertraline\", \"count\": 111, \"year\": 2016}, {\"drugName\": \"Levonorgestrel\", \"count\": 332, \"year\": 2017}, {\"drugName\": \"Etonogestrel\", \"count\": 189, \"year\": 2017}, {\"drugName\": \"Nexplanon\", \"count\": 173, \"year\": 2017}, {\"drugName\": \"Ethinyl estradiol / norethindrone\", \"count\": 172, \"year\": 2017}, {\"drugName\": \"Ethinyl estradiol / norgestimate\", \"count\": 141, \"year\": 2017}, {\"drugName\": \"Miconazole\", \"count\": 126, \"year\": 2017}, {\"drugName\": \"Contrave\", \"count\": 108, \"year\": 2017}, {\"drugName\": \"Bupropion / naltrexone\", \"count\": 107, \"year\": 2017}, {\"drugName\": \"Ethinyl estradiol / levonorgestrel\", \"count\": 106, \"year\": 2017}, {\"drugName\": \"Sertraline\", \"count\": 97, \"year\": 2017}], \"data-dce1ef1b7260df0a71b1d067fec2b30d\": [{\"condition\": \"Pain\", \"count\": 229, \"year\": 2008}, {\"condition\": \"Depression\", \"count\": 111, \"year\": 2008}, {\"condition\": \"Anxiety\", \"count\": 69, \"year\": 2008}, {\"condition\": \"ADHD\", \"count\": 53, \"year\": 2008}, {\"condition\": \"High Blood Pressure\", \"count\": 53, \"year\": 2008}, {\"condition\": \"Bipolar Disorde\", \"count\": 42, \"year\": 2008}, {\"condition\": \"Migraine\", \"count\": 41, \"year\": 2008}, {\"condition\": \"Not Listed / Othe\", \"count\": 38, \"year\": 2008}, {\"condition\": \"Birth Control\", \"count\": 38, \"year\": 2008}, {\"condition\": \"Insomnia\", \"count\": 35, \"year\": 2008}, {\"condition\": \"Pain\", \"count\": 425, \"year\": 2009}, {\"condition\": \"Birth Control\", \"count\": 298, \"year\": 2009}, {\"condition\": \"Depression\", \"count\": 288, \"year\": 2009}, {\"condition\": \"Anxiety\", \"count\": 160, \"year\": 2009}, {\"condition\": \"High Blood Pressure\", \"count\": 154, \"year\": 2009}, {\"condition\": \"ibromyalgia\", \"count\": 135, \"year\": 2009}, {\"condition\": \"Bipolar Disorde\", \"count\": 128, \"year\": 2009}, {\"condition\": \"ADHD\", \"count\": 128, \"year\": 2009}, {\"condition\": \"Insomnia\", \"count\": 101, \"year\": 2009}, {\"condition\": \"Acne\", \"count\": 85, \"year\": 2009}, {\"condition\": \"Birth Control\", \"count\": 369, \"year\": 2010}, {\"condition\": \"Pain\", \"count\": 208, \"year\": 2010}, {\"condition\": \"Depression\", \"count\": 198, \"year\": 2010}, {\"condition\": \"Anxiety\", \"count\": 111, \"year\": 2010}, {\"condition\": \"Bipolar Disorde\", \"count\": 101, \"year\": 2010}, {\"condition\": \"ADHD\", \"count\": 93, \"year\": 2010}, {\"condition\": \"Acne\", \"count\": 87, \"year\": 2010}, {\"condition\": \"Insomnia\", \"count\": 83, \"year\": 2010}, {\"condition\": \"High Blood Pressure\", \"count\": 65, \"year\": 2010}, {\"condition\": \"ibromyalgia\", \"count\": 53, \"year\": 2010}, {\"condition\": \"Birth Control\", \"count\": 625, \"year\": 2011}, {\"condition\": \"Depression\", \"count\": 302, \"year\": 2011}, {\"condition\": \"Pain\", \"count\": 253, \"year\": 2011}, {\"condition\": \"Anxiety\", \"count\": 169, \"year\": 2011}, {\"condition\": \"Bipolar Disorde\", \"count\": 126, \"year\": 2011}, {\"condition\": \"ADHD\", \"count\": 126, \"year\": 2011}, {\"condition\": \"Acne\", \"count\": 114, \"year\": 2011}, {\"condition\": \"Insomnia\", \"count\": 87, \"year\": 2011}, {\"condition\": \"High Blood Pressure\", \"count\": 62, \"year\": 2011}, {\"condition\": \"ibromyalgia\", \"count\": 61, \"year\": 2011}, {\"condition\": \"Birth Control\", \"count\": 655, \"year\": 2012}, {\"condition\": \"Depression\", \"count\": 295, \"year\": 2012}, {\"condition\": \"Pain\", \"count\": 147, \"year\": 2012}, {\"condition\": \"Anxiety\", \"count\": 142, \"year\": 2012}, {\"condition\": \"Bipolar Disorde\", \"count\": 101, \"year\": 2012}, {\"condition\": \"Acne\", \"count\": 90, \"year\": 2012}, {\"condition\": \"ADHD\", \"count\": 82, \"year\": 2012}, {\"condition\": \"Insomnia\", \"count\": 78, \"year\": 2012}, {\"condition\": \"High Blood Pressure\", \"count\": 60, \"year\": 2012}, {\"condition\": \"Diabetes, Type 2\", \"count\": 52, \"year\": 2012}, {\"condition\": \"Birth Control\", \"count\": 605, \"year\": 2013}, {\"condition\": \"Depression\", \"count\": 324, \"year\": 2013}, {\"condition\": \"Anxiety\", \"count\": 166, \"year\": 2013}, {\"condition\": \"Acne\", \"count\": 159, \"year\": 2013}, {\"condition\": \"Bipolar Disorde\", \"count\": 157, \"year\": 2013}, {\"condition\": \"Pain\", \"count\": 139, \"year\": 2013}, {\"condition\": \"Weight Loss\", \"count\": 104, \"year\": 2013}, {\"condition\": \"Chronic Pain\", \"count\": 97, \"year\": 2013}, {\"condition\": \"Insomnia\", \"count\": 92, \"year\": 2013}, {\"condition\": \"ADHD\", \"count\": 85, \"year\": 2013}, {\"condition\": \"Birth Control\", \"count\": 646, \"year\": 2014}, {\"condition\": \"Depression\", \"count\": 262, \"year\": 2014}, {\"condition\": \"Acne\", \"count\": 178, \"year\": 2014}, {\"condition\": \"Anxiety\", \"count\": 170, \"year\": 2014}, {\"condition\": \"Weight Loss\", \"count\": 139, \"year\": 2014}, {\"condition\": \"Bipolar Disorde\", \"count\": 107, \"year\": 2014}, {\"condition\": \"Pain\", \"count\": 94, \"year\": 2014}, {\"condition\": \"ADHD\", \"count\": 82, \"year\": 2014}, {\"condition\": \"Insomnia\", \"count\": 75, \"year\": 2014}, {\"condition\": \"Major Depressive Disorde\", \"count\": 72, \"year\": 2014}, {\"condition\": \"Birth Control\", \"count\": 1904, \"year\": 2015}, {\"condition\": \"Depression\", \"count\": 413, \"year\": 2015}, {\"condition\": \"Acne\", \"count\": 354, \"year\": 2015}, {\"condition\": \"Obesity\", \"count\": 353, \"year\": 2015}, {\"condition\": \"Anxiety\", \"count\": 290, \"year\": 2015}, {\"condition\": \"Weight Loss\", \"count\": 239, \"year\": 2015}, {\"condition\": \"Insomnia\", \"count\": 231, \"year\": 2015}, {\"condition\": \"Emergency Contraception\", \"count\": 211, \"year\": 2015}, {\"condition\": \"Bipolar Disorde\", \"count\": 208, \"year\": 2015}, {\"condition\": \"Pain\", \"count\": 178, \"year\": 2015}, {\"condition\": \"Birth Control\", \"count\": 2499, \"year\": 2016}, {\"condition\": \"Depression\", \"count\": 523, \"year\": 2016}, {\"condition\": \"Acne\", \"count\": 460, \"year\": 2016}, {\"condition\": \"Anxiety\", \"count\": 378, \"year\": 2016}, {\"condition\": \"Vaginal Yeast Infection\", \"count\": 317, \"year\": 2016}, {\"condition\": \"Emergency Contraception\", \"count\": 299, \"year\": 2016}, {\"condition\": \"Obesity\", \"count\": 296, \"year\": 2016}, {\"condition\": \"Weight Loss\", \"count\": 278, \"year\": 2016}, {\"condition\": \"Insomnia\", \"count\": 272, \"year\": 2016}, {\"condition\": \"Pain\", \"count\": 259, \"year\": 2016}, {\"condition\": \"Birth Control\", \"count\": 2009, \"year\": 2017}, {\"condition\": \"Depression\", \"count\": 379, \"year\": 2017}, {\"condition\": \"Weight Loss\", \"count\": 319, \"year\": 2017}, {\"condition\": \"Acne\", \"count\": 294, \"year\": 2017}, {\"condition\": \"Vaginal Yeast Infection\", \"count\": 277, \"year\": 2017}, {\"condition\": \"Obesity\", \"count\": 261, \"year\": 2017}, {\"condition\": \"Anxiety\", \"count\": 253, \"year\": 2017}, {\"condition\": \"Diabetes, Type 2\", \"count\": 187, \"year\": 2017}, {\"condition\": \"Emergency Contraception\", \"count\": 186, \"year\": 2017}, {\"condition\": \"Bipolar Disorde\", \"count\": 186, \"year\": 2017}]}}, {\"mode\": \"vega-lite\"});\n",
       "</script>"
      ],
      "text/plain": [
       "alt.HConcatChart(...)"
      ]
     },
     "execution_count": 26,
     "metadata": {},
     "output_type": "execute_result"
    }
   ],
   "source": [
    "#Check the change of top drugs during 2007 to 2017\n",
    "click = alt.selection_multi(encodings=['color'])\n",
    "\n",
    "scatter = alt.Chart(top_drug_year).mark_bar().encode(\n",
    "    x='count',\n",
    "    y='drugName'\n",
    ").transform_filter(\n",
    "    click\n",
    ")\n",
    "\n",
    "hist = alt.Chart(top_condition_year).mark_point().encode(\n",
    "    y='year:N',\n",
    "    color=alt.condition(click, 'year:N', alt.value('lightgray'), legend=None)\n",
    ").add_selection(\n",
    "    click\n",
    ")\n",
    "\n",
    "scatter | hist"
   ]
  },
  {
   "cell_type": "markdown",
   "metadata": {},
   "source": [
    "<span style='color:blue'>One drug can be used for multiple conditions. Between 2008 and 2017, the most reviewed drugs switched from pain killer as the top reviewed drugs to birth control pills as dominant ones.</span>"
   ]
  },
  {
   "cell_type": "markdown",
   "metadata": {},
   "source": [
    "#### 3.2 Check drugName within the same condition"
   ]
  },
  {
   "cell_type": "code",
   "execution_count": 27,
   "metadata": {},
   "outputs": [
    {
     "data": {
      "text/plain": [
       "Birth Control      9648\n",
       "Depression         3095\n",
       "Pain               2100\n",
       "Anxiety            1908\n",
       "Acne               1847\n",
       "Bipolar Disorde    1380\n",
       "Weight Loss        1248\n",
       "Insomnia           1231\n",
       "Obesity            1189\n",
       "ADHD               1126\n",
       "Name: condition, dtype: int64"
      ]
     },
     "execution_count": 27,
     "metadata": {},
     "output_type": "execute_result"
    }
   ],
   "source": [
    "condition_top_10=df_new.condition.value_counts().head(10)\n",
    "condition_top_10"
   ]
  },
  {
   "cell_type": "code",
   "execution_count": 28,
   "metadata": {},
   "outputs": [
    {
     "data": {
      "text/html": [
       "<div>\n",
       "<style scoped>\n",
       "    .dataframe tbody tr th:only-of-type {\n",
       "        vertical-align: middle;\n",
       "    }\n",
       "\n",
       "    .dataframe tbody tr th {\n",
       "        vertical-align: top;\n",
       "    }\n",
       "\n",
       "    .dataframe thead th {\n",
       "        text-align: right;\n",
       "    }\n",
       "</style>\n",
       "<table border=\"1\" class=\"dataframe\">\n",
       "  <thead>\n",
       "    <tr style=\"text-align: right;\">\n",
       "      <th></th>\n",
       "      <th></th>\n",
       "    </tr>\n",
       "    <tr>\n",
       "      <th>condition</th>\n",
       "      <th>drugName</th>\n",
       "    </tr>\n",
       "  </thead>\n",
       "  <tbody>\n",
       "    <tr>\n",
       "      <th rowspan=\"10\" valign=\"top\">ADHD</th>\n",
       "      <th>Adderall</th>\n",
       "    </tr>\n",
       "    <tr>\n",
       "      <th>Adderall XR</th>\n",
       "    </tr>\n",
       "    <tr>\n",
       "      <th>Adzenys XR-ODT</th>\n",
       "    </tr>\n",
       "    <tr>\n",
       "      <th>Amphetamine</th>\n",
       "    </tr>\n",
       "    <tr>\n",
       "      <th>Amphetamine / dextroamphetamine</th>\n",
       "    </tr>\n",
       "    <tr>\n",
       "      <th>Aptensio XR</th>\n",
       "    </tr>\n",
       "    <tr>\n",
       "      <th>Armodafinil</th>\n",
       "    </tr>\n",
       "    <tr>\n",
       "      <th>Atomoxetine</th>\n",
       "    </tr>\n",
       "    <tr>\n",
       "      <th>Budeprion XL</th>\n",
       "    </tr>\n",
       "    <tr>\n",
       "      <th>Bupropion</th>\n",
       "    </tr>\n",
       "  </tbody>\n",
       "</table>\n",
       "</div>"
      ],
      "text/plain": [
       "Empty DataFrame\n",
       "Columns: []\n",
       "Index: [(ADHD, Adderall), (ADHD, Adderall XR), (ADHD, Adzenys XR-ODT), (ADHD, Amphetamine), (ADHD, Amphetamine / dextroamphetamine), (ADHD, Aptensio XR), (ADHD, Armodafinil), (ADHD, Atomoxetine), (ADHD, Budeprion XL), (ADHD, Bupropion)]"
      ]
     },
     "execution_count": 28,
     "metadata": {},
     "output_type": "execute_result"
    }
   ],
   "source": [
    "condition_top_10_drug=df_new[df_new.condition.isin(condition_top_10.index)][['drugName', 'condition']]\n",
    "condition_top_10_drug.groupby(['condition','drugName']).sum().head(10)"
   ]
  },
  {
   "cell_type": "markdown",
   "metadata": {},
   "source": [
    "<span style='color:blue'>Similarly, one condition can be treated by different drugs. From the customers point of view, we choose drug based on conditions. </span>"
   ]
  },
  {
   "cell_type": "markdown",
   "metadata": {},
   "source": [
    "### 4. rating\n",
    "\n",
    "  **Qs:**\n",
    "How is the rating distributed in this dataset across date? Which rating have the most reviews? Do drugs treated certain condition have highest rating? Is high rating revews necessarily associated with high usefulCounts? "
   ]
  },
  {
   "cell_type": "code",
   "execution_count": 29,
   "metadata": {
    "scrolled": true
   },
   "outputs": [
    {
     "data": {
      "text/html": [
       "<div>\n",
       "<style scoped>\n",
       "    .dataframe tbody tr th:only-of-type {\n",
       "        vertical-align: middle;\n",
       "    }\n",
       "\n",
       "    .dataframe tbody tr th {\n",
       "        vertical-align: top;\n",
       "    }\n",
       "\n",
       "    .dataframe thead th {\n",
       "        text-align: right;\n",
       "    }\n",
       "</style>\n",
       "<table border=\"1\" class=\"dataframe\">\n",
       "  <thead>\n",
       "    <tr style=\"text-align: right;\">\n",
       "      <th></th>\n",
       "      <th>rating</th>\n",
       "      <th>count</th>\n",
       "    </tr>\n",
       "  </thead>\n",
       "  <tbody>\n",
       "    <tr>\n",
       "      <th>0</th>\n",
       "      <td>10.0</td>\n",
       "      <td>16937</td>\n",
       "    </tr>\n",
       "    <tr>\n",
       "      <th>1</th>\n",
       "      <td>9.0</td>\n",
       "      <td>9120</td>\n",
       "    </tr>\n",
       "    <tr>\n",
       "      <th>2</th>\n",
       "      <td>1.0</td>\n",
       "      <td>7265</td>\n",
       "    </tr>\n",
       "    <tr>\n",
       "      <th>3</th>\n",
       "      <td>8.0</td>\n",
       "      <td>6118</td>\n",
       "    </tr>\n",
       "    <tr>\n",
       "      <th>4</th>\n",
       "      <td>7.0</td>\n",
       "      <td>3075</td>\n",
       "    </tr>\n",
       "    <tr>\n",
       "      <th>5</th>\n",
       "      <td>5.0</td>\n",
       "      <td>2691</td>\n",
       "    </tr>\n",
       "    <tr>\n",
       "      <th>6</th>\n",
       "      <td>2.0</td>\n",
       "      <td>2324</td>\n",
       "    </tr>\n",
       "    <tr>\n",
       "      <th>7</th>\n",
       "      <td>3.0</td>\n",
       "      <td>2197</td>\n",
       "    </tr>\n",
       "    <tr>\n",
       "      <th>8</th>\n",
       "      <td>6.0</td>\n",
       "      <td>2102</td>\n",
       "    </tr>\n",
       "    <tr>\n",
       "      <th>9</th>\n",
       "      <td>4.0</td>\n",
       "      <td>1642</td>\n",
       "    </tr>\n",
       "  </tbody>\n",
       "</table>\n",
       "</div>"
      ],
      "text/plain": [
       "   rating  count\n",
       "0    10.0  16937\n",
       "1     9.0   9120\n",
       "2     1.0   7265\n",
       "3     8.0   6118\n",
       "4     7.0   3075\n",
       "5     5.0   2691\n",
       "6     2.0   2324\n",
       "7     3.0   2197\n",
       "8     6.0   2102\n",
       "9     4.0   1642"
      ]
     },
     "execution_count": 29,
     "metadata": {},
     "output_type": "execute_result"
    }
   ],
   "source": [
    "rating_dist=round(df_new.rating.value_counts(),2)\n",
    "rating=rating_dist.to_frame().reset_index()\n",
    "rating.columns=['rating', 'count']\n",
    "rating"
   ]
  },
  {
   "cell_type": "code",
   "execution_count": 30,
   "metadata": {},
   "outputs": [
    {
     "data": {
      "text/html": [
       "<div>\n",
       "<style scoped>\n",
       "    .dataframe tbody tr th:only-of-type {\n",
       "        vertical-align: middle;\n",
       "    }\n",
       "\n",
       "    .dataframe tbody tr th {\n",
       "        vertical-align: top;\n",
       "    }\n",
       "\n",
       "    .dataframe thead th {\n",
       "        text-align: right;\n",
       "    }\n",
       "</style>\n",
       "<table border=\"1\" class=\"dataframe\">\n",
       "  <thead>\n",
       "    <tr style=\"text-align: right;\">\n",
       "      <th></th>\n",
       "      <th>rating</th>\n",
       "      <th>relative_count</th>\n",
       "    </tr>\n",
       "  </thead>\n",
       "  <tbody>\n",
       "    <tr>\n",
       "      <th>0</th>\n",
       "      <td>10.0</td>\n",
       "      <td>0.32</td>\n",
       "    </tr>\n",
       "    <tr>\n",
       "      <th>1</th>\n",
       "      <td>9.0</td>\n",
       "      <td>0.17</td>\n",
       "    </tr>\n",
       "    <tr>\n",
       "      <th>2</th>\n",
       "      <td>1.0</td>\n",
       "      <td>0.14</td>\n",
       "    </tr>\n",
       "    <tr>\n",
       "      <th>3</th>\n",
       "      <td>8.0</td>\n",
       "      <td>0.11</td>\n",
       "    </tr>\n",
       "    <tr>\n",
       "      <th>4</th>\n",
       "      <td>7.0</td>\n",
       "      <td>0.06</td>\n",
       "    </tr>\n",
       "    <tr>\n",
       "      <th>5</th>\n",
       "      <td>5.0</td>\n",
       "      <td>0.05</td>\n",
       "    </tr>\n",
       "    <tr>\n",
       "      <th>6</th>\n",
       "      <td>2.0</td>\n",
       "      <td>0.04</td>\n",
       "    </tr>\n",
       "    <tr>\n",
       "      <th>7</th>\n",
       "      <td>3.0</td>\n",
       "      <td>0.04</td>\n",
       "    </tr>\n",
       "    <tr>\n",
       "      <th>8</th>\n",
       "      <td>6.0</td>\n",
       "      <td>0.04</td>\n",
       "    </tr>\n",
       "    <tr>\n",
       "      <th>9</th>\n",
       "      <td>4.0</td>\n",
       "      <td>0.03</td>\n",
       "    </tr>\n",
       "  </tbody>\n",
       "</table>\n",
       "</div>"
      ],
      "text/plain": [
       "   rating  relative_count\n",
       "0    10.0            0.32\n",
       "1     9.0            0.17\n",
       "2     1.0            0.14\n",
       "3     8.0            0.11\n",
       "4     7.0            0.06\n",
       "5     5.0            0.05\n",
       "6     2.0            0.04\n",
       "7     3.0            0.04\n",
       "8     6.0            0.04\n",
       "9     4.0            0.03"
      ]
     },
     "execution_count": 30,
     "metadata": {},
     "output_type": "execute_result"
    }
   ],
   "source": [
    "rating_dist_re=round(df_new.rating.value_counts(normalize=True),2)\n",
    "rating_re=rating_dist_re.to_frame().reset_index()\n",
    "rating_re.columns=['rating', 'relative_count']\n",
    "rating_re"
   ]
  },
  {
   "cell_type": "markdown",
   "metadata": {},
   "source": [
    "<span style='color:blue'>Totally, the reviews with rating >= 9 are primary in this dataset, which account for ~50% of the original data set.  </span>"
   ]
  },
  {
   "cell_type": "code",
   "execution_count": 31,
   "metadata": {},
   "outputs": [],
   "source": [
    "#check condition distribution across rating\n",
    "def top_condition(y):\n",
    "    r=df_new[df_new.rating==y].condition.value_counts().head(10)\n",
    "    new=r.to_frame().reset_index()\n",
    "    new.columns=['condition','count']\n",
    "    rating=pd.Series([y,y,y,y,y,y,y,y,y,y]).T\n",
    "    new['rating']=rating\n",
    "    return new"
   ]
  },
  {
   "cell_type": "code",
   "execution_count": 32,
   "metadata": {},
   "outputs": [
    {
     "data": {
      "text/html": [
       "<div>\n",
       "<style scoped>\n",
       "    .dataframe tbody tr th:only-of-type {\n",
       "        vertical-align: middle;\n",
       "    }\n",
       "\n",
       "    .dataframe tbody tr th {\n",
       "        vertical-align: top;\n",
       "    }\n",
       "\n",
       "    .dataframe thead th {\n",
       "        text-align: right;\n",
       "    }\n",
       "</style>\n",
       "<table border=\"1\" class=\"dataframe\">\n",
       "  <thead>\n",
       "    <tr style=\"text-align: right;\">\n",
       "      <th></th>\n",
       "      <th>condition</th>\n",
       "      <th>count</th>\n",
       "      <th>rating</th>\n",
       "    </tr>\n",
       "  </thead>\n",
       "  <tbody>\n",
       "    <tr>\n",
       "      <th>0</th>\n",
       "      <td>Birth Control</td>\n",
       "      <td>1493</td>\n",
       "      <td>1</td>\n",
       "    </tr>\n",
       "    <tr>\n",
       "      <th>1</th>\n",
       "      <td>Vaginal Yeast Infection</td>\n",
       "      <td>379</td>\n",
       "      <td>1</td>\n",
       "    </tr>\n",
       "    <tr>\n",
       "      <th>2</th>\n",
       "      <td>Depression</td>\n",
       "      <td>356</td>\n",
       "      <td>1</td>\n",
       "    </tr>\n",
       "    <tr>\n",
       "      <th>3</th>\n",
       "      <td>Insomnia</td>\n",
       "      <td>240</td>\n",
       "      <td>1</td>\n",
       "    </tr>\n",
       "    <tr>\n",
       "      <th>4</th>\n",
       "      <td>Abnormal Uterine Bleeding</td>\n",
       "      <td>235</td>\n",
       "      <td>1</td>\n",
       "    </tr>\n",
       "    <tr>\n",
       "      <th>5</th>\n",
       "      <td>Pain</td>\n",
       "      <td>212</td>\n",
       "      <td>1</td>\n",
       "    </tr>\n",
       "    <tr>\n",
       "      <th>6</th>\n",
       "      <td>Anxiety</td>\n",
       "      <td>183</td>\n",
       "      <td>1</td>\n",
       "    </tr>\n",
       "    <tr>\n",
       "      <th>7</th>\n",
       "      <td>Acne</td>\n",
       "      <td>179</td>\n",
       "      <td>1</td>\n",
       "    </tr>\n",
       "    <tr>\n",
       "      <th>8</th>\n",
       "      <td>Bipolar Disorde</td>\n",
       "      <td>178</td>\n",
       "      <td>1</td>\n",
       "    </tr>\n",
       "    <tr>\n",
       "      <th>9</th>\n",
       "      <td>High Blood Pressure</td>\n",
       "      <td>126</td>\n",
       "      <td>1</td>\n",
       "    </tr>\n",
       "  </tbody>\n",
       "</table>\n",
       "</div>"
      ],
      "text/plain": [
       "                   condition  count  rating\n",
       "0              Birth Control   1493       1\n",
       "1    Vaginal Yeast Infection    379       1\n",
       "2                 Depression    356       1\n",
       "3                   Insomnia    240       1\n",
       "4  Abnormal Uterine Bleeding    235       1\n",
       "5                       Pain    212       1\n",
       "6                    Anxiety    183       1\n",
       "7                       Acne    179       1\n",
       "8            Bipolar Disorde    178       1\n",
       "9        High Blood Pressure    126       1"
      ]
     },
     "execution_count": 32,
     "metadata": {},
     "output_type": "execute_result"
    }
   ],
   "source": [
    "top_condition(1)"
   ]
  },
  {
   "cell_type": "code",
   "execution_count": 33,
   "metadata": {},
   "outputs": [],
   "source": [
    "top_condition_rating=pd.concat([top_condition(y) for y in range(1, 11)], ignore_index=True)"
   ]
  },
  {
   "cell_type": "code",
   "execution_count": 34,
   "metadata": {},
   "outputs": [
    {
     "data": {
      "text/html": [
       "\n",
       "<div id=\"altair-viz-6e531ac4c65b4fefb10dac1fb5bd631c\"></div>\n",
       "<script type=\"text/javascript\">\n",
       "  (function(spec, embedOpt){\n",
       "    let outputDiv = document.currentScript.previousElementSibling;\n",
       "    if (outputDiv.id !== \"altair-viz-6e531ac4c65b4fefb10dac1fb5bd631c\") {\n",
       "      outputDiv = document.getElementById(\"altair-viz-6e531ac4c65b4fefb10dac1fb5bd631c\");\n",
       "    }\n",
       "    const paths = {\n",
       "      \"vega\": \"https://cdn.jsdelivr.net/npm//vega@5?noext\",\n",
       "      \"vega-lib\": \"https://cdn.jsdelivr.net/npm//vega-lib?noext\",\n",
       "      \"vega-lite\": \"https://cdn.jsdelivr.net/npm//vega-lite@4.8.1?noext\",\n",
       "      \"vega-embed\": \"https://cdn.jsdelivr.net/npm//vega-embed@6?noext\",\n",
       "    };\n",
       "\n",
       "    function loadScript(lib) {\n",
       "      return new Promise(function(resolve, reject) {\n",
       "        var s = document.createElement('script');\n",
       "        s.src = paths[lib];\n",
       "        s.async = true;\n",
       "        s.onload = () => resolve(paths[lib]);\n",
       "        s.onerror = () => reject(`Error loading script: ${paths[lib]}`);\n",
       "        document.getElementsByTagName(\"head\")[0].appendChild(s);\n",
       "      });\n",
       "    }\n",
       "\n",
       "    function showError(err) {\n",
       "      outputDiv.innerHTML = `<div class=\"error\" style=\"color:red;\">${err}</div>`;\n",
       "      throw err;\n",
       "    }\n",
       "\n",
       "    function displayChart(vegaEmbed) {\n",
       "      vegaEmbed(outputDiv, spec, embedOpt)\n",
       "        .catch(err => showError(`Javascript Error: ${err.message}<br>This usually means there's a typo in your chart specification. See the javascript console for the full traceback.`));\n",
       "    }\n",
       "\n",
       "    if(typeof define === \"function\" && define.amd) {\n",
       "      requirejs.config({paths});\n",
       "      require([\"vega-embed\"], displayChart, err => showError(`Error loading script: ${err.message}`));\n",
       "    } else if (typeof vegaEmbed === \"function\") {\n",
       "      displayChart(vegaEmbed);\n",
       "    } else {\n",
       "      loadScript(\"vega\")\n",
       "        .then(() => loadScript(\"vega-lite\"))\n",
       "        .then(() => loadScript(\"vega-embed\"))\n",
       "        .catch(showError)\n",
       "        .then(() => displayChart(vegaEmbed));\n",
       "    }\n",
       "  })({\"config\": {\"view\": {\"continuousWidth\": 400, \"continuousHeight\": 300}}, \"hconcat\": [{\"mark\": \"bar\", \"encoding\": {\"x\": {\"type\": \"quantitative\", \"field\": \"count\"}, \"y\": {\"type\": \"nominal\", \"field\": \"condition\"}}, \"transform\": [{\"filter\": {\"selection\": \"selector003\"}}]}, {\"mark\": \"point\", \"encoding\": {\"color\": {\"condition\": {\"type\": \"nominal\", \"field\": \"rating\", \"legend\": null, \"selection\": \"selector003\"}, \"value\": \"lightgray\"}, \"y\": {\"type\": \"nominal\", \"field\": \"rating\"}}, \"selection\": {\"selector003\": {\"type\": \"multi\", \"encodings\": [\"color\"]}}}], \"data\": {\"name\": \"data-ff75c68fa3210f4c2fdae1314c6054b9\"}, \"$schema\": \"https://vega.github.io/schema/vega-lite/v4.8.1.json\", \"datasets\": {\"data-ff75c68fa3210f4c2fdae1314c6054b9\": [{\"condition\": \"Birth Control\", \"count\": 1493, \"rating\": 1}, {\"condition\": \"Vaginal Yeast Infection\", \"count\": 379, \"rating\": 1}, {\"condition\": \"Depression\", \"count\": 356, \"rating\": 1}, {\"condition\": \"Insomnia\", \"count\": 240, \"rating\": 1}, {\"condition\": \"Abnormal Uterine Bleeding\", \"count\": 235, \"rating\": 1}, {\"condition\": \"Pain\", \"count\": 212, \"rating\": 1}, {\"condition\": \"Anxiety\", \"count\": 183, \"rating\": 1}, {\"condition\": \"Acne\", \"count\": 179, \"rating\": 1}, {\"condition\": \"Bipolar Disorde\", \"count\": 178, \"rating\": 1}, {\"condition\": \"High Blood Pressure\", \"count\": 126, \"rating\": 1}, {\"condition\": \"Birth Control\", \"count\": 722, \"rating\": 2}, {\"condition\": \"Depression\", \"count\": 130, \"rating\": 2}, {\"condition\": \"Acne\", \"count\": 79, \"rating\": 2}, {\"condition\": \"Pain\", \"count\": 55, \"rating\": 2}, {\"condition\": \"High Blood Pressure\", \"count\": 55, \"rating\": 2}, {\"condition\": \"Bipolar Disorde\", \"count\": 53, \"rating\": 2}, {\"condition\": \"Anxiety\", \"count\": 51, \"rating\": 2}, {\"condition\": \"Insomnia\", \"count\": 46, \"rating\": 2}, {\"condition\": \"Abnormal Uterine Bleeding\", \"count\": 44, \"rating\": 2}, {\"condition\": \"Vaginal Yeast Infection\", \"count\": 43, \"rating\": 2}, {\"condition\": \"Birth Control\", \"count\": 676, \"rating\": 3}, {\"condition\": \"Depression\", \"count\": 119, \"rating\": 3}, {\"condition\": \"Pain\", \"count\": 64, \"rating\": 3}, {\"condition\": \"Acne\", \"count\": 60, \"rating\": 3}, {\"condition\": \"Abnormal Uterine Bleeding\", \"count\": 57, \"rating\": 3}, {\"condition\": \"Anxiety\", \"count\": 55, \"rating\": 3}, {\"condition\": \"Bipolar Disorde\", \"count\": 53, \"rating\": 3}, {\"condition\": \"Insomnia\", \"count\": 48, \"rating\": 3}, {\"condition\": \"ADHD\", \"count\": 48, \"rating\": 3}, {\"condition\": \"Vaginal Yeast Infection\", \"count\": 47, \"rating\": 3}, {\"condition\": \"Birth Control\", \"count\": 530, \"rating\": 4}, {\"condition\": \"Depression\", \"count\": 88, \"rating\": 4}, {\"condition\": \"Acne\", \"count\": 49, \"rating\": 4}, {\"condition\": \"Pain\", \"count\": 48, \"rating\": 4}, {\"condition\": \"Anxiety\", \"count\": 40, \"rating\": 4}, {\"condition\": \"High Blood Pressure\", \"count\": 37, \"rating\": 4}, {\"condition\": \"Insomnia\", \"count\": 37, \"rating\": 4}, {\"condition\": \"ADHD\", \"count\": 36, \"rating\": 4}, {\"condition\": \"Bipolar Disorde\", \"count\": 36, \"rating\": 4}, {\"condition\": \"Abnormal Uterine Bleeding\", \"count\": 33, \"rating\": 4}, {\"condition\": \"Birth Control\", \"count\": 770, \"rating\": 5}, {\"condition\": \"Depression\", \"count\": 126, \"rating\": 5}, {\"condition\": \"Acne\", \"count\": 87, \"rating\": 5}, {\"condition\": \"Anxiety\", \"count\": 71, \"rating\": 5}, {\"condition\": \"Bipolar Disorde\", \"count\": 64, \"rating\": 5}, {\"condition\": \"Pain\", \"count\": 59, \"rating\": 5}, {\"condition\": \"High Blood Pressure\", \"count\": 56, \"rating\": 5}, {\"condition\": \"Obesity\", \"count\": 55, \"rating\": 5}, {\"condition\": \"ADHD\", \"count\": 52, \"rating\": 5}, {\"condition\": \"Vaginal Yeast Infection\", \"count\": 51, \"rating\": 5}, {\"condition\": \"Birth Control\", \"count\": 494, \"rating\": 6}, {\"condition\": \"Depression\", \"count\": 136, \"rating\": 6}, {\"condition\": \"Acne\", \"count\": 74, \"rating\": 6}, {\"condition\": \"Pain\", \"count\": 63, \"rating\": 6}, {\"condition\": \"Bipolar Disorde\", \"count\": 63, \"rating\": 6}, {\"condition\": \"Obesity\", \"count\": 55, \"rating\": 6}, {\"condition\": \"Anxiety\", \"count\": 54, \"rating\": 6}, {\"condition\": \"ADHD\", \"count\": 54, \"rating\": 6}, {\"condition\": \"Insomnia\", \"count\": 51, \"rating\": 6}, {\"condition\": \"High Blood Pressure\", \"count\": 44, \"rating\": 6}, {\"condition\": \"Birth Control\", \"count\": 625, \"rating\": 7}, {\"condition\": \"Depression\", \"count\": 247, \"rating\": 7}, {\"condition\": \"Pain\", \"count\": 124, \"rating\": 7}, {\"condition\": \"Acne\", \"count\": 117, \"rating\": 7}, {\"condition\": \"Anxiety\", \"count\": 101, \"rating\": 7}, {\"condition\": \"Bipolar Disorde\", \"count\": 81, \"rating\": 7}, {\"condition\": \"ADHD\", \"count\": 81, \"rating\": 7}, {\"condition\": \"Weight Loss\", \"count\": 61, \"rating\": 7}, {\"condition\": \"Obesity\", \"count\": 58, \"rating\": 7}, {\"condition\": \"Anxiety and Stress\", \"count\": 55, \"rating\": 7}, {\"condition\": \"Birth Control\", \"count\": 997, \"rating\": 8}, {\"condition\": \"Depression\", \"count\": 411, \"rating\": 8}, {\"condition\": \"Pain\", \"count\": 312, \"rating\": 8}, {\"condition\": \"Anxiety\", \"count\": 225, \"rating\": 8}, {\"condition\": \"Acne\", \"count\": 209, \"rating\": 8}, {\"condition\": \"Bipolar Disorde\", \"count\": 204, \"rating\": 8}, {\"condition\": \"ADHD\", \"count\": 174, \"rating\": 8}, {\"condition\": \"Obesity\", \"count\": 148, \"rating\": 8}, {\"condition\": \"Insomnia\", \"count\": 139, \"rating\": 8}, {\"condition\": \"Weight Loss\", \"count\": 137, \"rating\": 8}, {\"condition\": \"Birth Control\", \"count\": 1364, \"rating\": 9}, {\"condition\": \"Depression\", \"count\": 621, \"rating\": 9}, {\"condition\": \"Pain\", \"count\": 449, \"rating\": 9}, {\"condition\": \"Anxiety\", \"count\": 421, \"rating\": 9}, {\"condition\": \"Acne\", \"count\": 403, \"rating\": 9}, {\"condition\": \"Bipolar Disorde\", \"count\": 275, \"rating\": 9}, {\"condition\": \"ADHD\", \"count\": 240, \"rating\": 9}, {\"condition\": \"Weight Loss\", \"count\": 224, \"rating\": 9}, {\"condition\": \"Obesity\", \"count\": 219, \"rating\": 9}, {\"condition\": \"Insomnia\", \"count\": 213, \"rating\": 9}, {\"condition\": \"Birth Control\", \"count\": 1977, \"rating\": 10}, {\"condition\": \"Depression\", \"count\": 861, \"rating\": 10}, {\"condition\": \"Pain\", \"count\": 714, \"rating\": 10}, {\"condition\": \"Anxiety\", \"count\": 707, \"rating\": 10}, {\"condition\": \"Acne\", \"count\": 590, \"rating\": 10}, {\"condition\": \"Weight Loss\", \"count\": 567, \"rating\": 10}, {\"condition\": \"Emergency Contraception\", \"count\": 502, \"rating\": 10}, {\"condition\": \"Obesity\", \"count\": 463, \"rating\": 10}, {\"condition\": \"Smoking Cessation\", \"count\": 394, \"rating\": 10}, {\"condition\": \"Bipolar Disorde\", \"count\": 373, \"rating\": 10}]}}, {\"mode\": \"vega-lite\"});\n",
       "</script>"
      ],
      "text/plain": [
       "alt.HConcatChart(...)"
      ]
     },
     "execution_count": 34,
     "metadata": {},
     "output_type": "execute_result"
    }
   ],
   "source": [
    "#Check the change of top conditions across rating\n",
    "click = alt.selection_multi(encodings=['color'])\n",
    "\n",
    "scatter = alt.Chart(top_condition_rating).mark_bar().encode(\n",
    "    x='count',\n",
    "    y='condition'\n",
    ").transform_filter(\n",
    "    click\n",
    ")\n",
    "\n",
    "hist = alt.Chart(top_condition_rating).mark_point().encode(\n",
    "    y='rating:N',\n",
    "    color=alt.condition(click, 'rating:N', alt.value('lightgray'), legend=None)\n",
    ").add_selection(\n",
    "    click\n",
    ")\n",
    "\n",
    "scatter | hist"
   ]
  },
  {
   "cell_type": "markdown",
   "metadata": {
    "scrolled": true
   },
   "source": [
    "<span style='color:blue'> birth control and depression are the top 2 condition regardless of the rating levels.</span>"
   ]
  },
  {
   "cell_type": "code",
   "execution_count": 35,
   "metadata": {},
   "outputs": [],
   "source": [
    "#Let's check rating change with date\n",
    "def rating_year(y):\n",
    "    r=df_new[df_new.year==y].rating.value_counts().head(10)\n",
    "    new=r.to_frame().reset_index()\n",
    "    new.columns=['rating','count']\n",
    "    year=pd.Series([y,y,y,y,y,y,y,y,y,y]).T\n",
    "    new['year']=year\n",
    "    return new"
   ]
  },
  {
   "cell_type": "code",
   "execution_count": 36,
   "metadata": {},
   "outputs": [
    {
     "data": {
      "text/html": [
       "<div>\n",
       "<style scoped>\n",
       "    .dataframe tbody tr th:only-of-type {\n",
       "        vertical-align: middle;\n",
       "    }\n",
       "\n",
       "    .dataframe tbody tr th {\n",
       "        vertical-align: top;\n",
       "    }\n",
       "\n",
       "    .dataframe thead th {\n",
       "        text-align: right;\n",
       "    }\n",
       "</style>\n",
       "<table border=\"1\" class=\"dataframe\">\n",
       "  <thead>\n",
       "    <tr style=\"text-align: right;\">\n",
       "      <th></th>\n",
       "      <th>rating</th>\n",
       "      <th>count</th>\n",
       "      <th>year</th>\n",
       "    </tr>\n",
       "  </thead>\n",
       "  <tbody>\n",
       "    <tr>\n",
       "      <th>0</th>\n",
       "      <td>10.0</td>\n",
       "      <td>739</td>\n",
       "      <td>2008</td>\n",
       "    </tr>\n",
       "    <tr>\n",
       "      <th>1</th>\n",
       "      <td>9.0</td>\n",
       "      <td>429</td>\n",
       "      <td>2008</td>\n",
       "    </tr>\n",
       "    <tr>\n",
       "      <th>2</th>\n",
       "      <td>8.0</td>\n",
       "      <td>266</td>\n",
       "      <td>2008</td>\n",
       "    </tr>\n",
       "    <tr>\n",
       "      <th>3</th>\n",
       "      <td>7.0</td>\n",
       "      <td>94</td>\n",
       "      <td>2008</td>\n",
       "    </tr>\n",
       "    <tr>\n",
       "      <th>4</th>\n",
       "      <td>6.0</td>\n",
       "      <td>33</td>\n",
       "      <td>2008</td>\n",
       "    </tr>\n",
       "    <tr>\n",
       "      <th>5</th>\n",
       "      <td>5.0</td>\n",
       "      <td>24</td>\n",
       "      <td>2008</td>\n",
       "    </tr>\n",
       "    <tr>\n",
       "      <th>6</th>\n",
       "      <td>1.0</td>\n",
       "      <td>15</td>\n",
       "      <td>2008</td>\n",
       "    </tr>\n",
       "    <tr>\n",
       "      <th>7</th>\n",
       "      <td>4.0</td>\n",
       "      <td>12</td>\n",
       "      <td>2008</td>\n",
       "    </tr>\n",
       "    <tr>\n",
       "      <th>8</th>\n",
       "      <td>2.0</td>\n",
       "      <td>9</td>\n",
       "      <td>2008</td>\n",
       "    </tr>\n",
       "    <tr>\n",
       "      <th>9</th>\n",
       "      <td>3.0</td>\n",
       "      <td>8</td>\n",
       "      <td>2008</td>\n",
       "    </tr>\n",
       "  </tbody>\n",
       "</table>\n",
       "</div>"
      ],
      "text/plain": [
       "   rating  count  year\n",
       "0    10.0    739  2008\n",
       "1     9.0    429  2008\n",
       "2     8.0    266  2008\n",
       "3     7.0     94  2008\n",
       "4     6.0     33  2008\n",
       "5     5.0     24  2008\n",
       "6     1.0     15  2008\n",
       "7     4.0     12  2008\n",
       "8     2.0      9  2008\n",
       "9     3.0      8  2008"
      ]
     },
     "execution_count": 36,
     "metadata": {},
     "output_type": "execute_result"
    }
   ],
   "source": [
    "rating_year(2008)"
   ]
  },
  {
   "cell_type": "code",
   "execution_count": 37,
   "metadata": {},
   "outputs": [
    {
     "data": {
      "text/html": [
       "<div>\n",
       "<style scoped>\n",
       "    .dataframe tbody tr th:only-of-type {\n",
       "        vertical-align: middle;\n",
       "    }\n",
       "\n",
       "    .dataframe tbody tr th {\n",
       "        vertical-align: top;\n",
       "    }\n",
       "\n",
       "    .dataframe thead th {\n",
       "        text-align: right;\n",
       "    }\n",
       "</style>\n",
       "<table border=\"1\" class=\"dataframe\">\n",
       "  <thead>\n",
       "    <tr style=\"text-align: right;\">\n",
       "      <th></th>\n",
       "      <th>rating</th>\n",
       "      <th>count</th>\n",
       "      <th>year</th>\n",
       "    </tr>\n",
       "  </thead>\n",
       "  <tbody>\n",
       "    <tr>\n",
       "      <th>0</th>\n",
       "      <td>10.0</td>\n",
       "      <td>739</td>\n",
       "      <td>2008</td>\n",
       "    </tr>\n",
       "    <tr>\n",
       "      <th>1</th>\n",
       "      <td>9.0</td>\n",
       "      <td>429</td>\n",
       "      <td>2008</td>\n",
       "    </tr>\n",
       "    <tr>\n",
       "      <th>2</th>\n",
       "      <td>8.0</td>\n",
       "      <td>266</td>\n",
       "      <td>2008</td>\n",
       "    </tr>\n",
       "    <tr>\n",
       "      <th>3</th>\n",
       "      <td>7.0</td>\n",
       "      <td>94</td>\n",
       "      <td>2008</td>\n",
       "    </tr>\n",
       "    <tr>\n",
       "      <th>4</th>\n",
       "      <td>6.0</td>\n",
       "      <td>33</td>\n",
       "      <td>2008</td>\n",
       "    </tr>\n",
       "    <tr>\n",
       "      <th>5</th>\n",
       "      <td>5.0</td>\n",
       "      <td>24</td>\n",
       "      <td>2008</td>\n",
       "    </tr>\n",
       "    <tr>\n",
       "      <th>6</th>\n",
       "      <td>1.0</td>\n",
       "      <td>15</td>\n",
       "      <td>2008</td>\n",
       "    </tr>\n",
       "    <tr>\n",
       "      <th>7</th>\n",
       "      <td>4.0</td>\n",
       "      <td>12</td>\n",
       "      <td>2008</td>\n",
       "    </tr>\n",
       "    <tr>\n",
       "      <th>8</th>\n",
       "      <td>2.0</td>\n",
       "      <td>9</td>\n",
       "      <td>2008</td>\n",
       "    </tr>\n",
       "    <tr>\n",
       "      <th>9</th>\n",
       "      <td>3.0</td>\n",
       "      <td>8</td>\n",
       "      <td>2008</td>\n",
       "    </tr>\n",
       "    <tr>\n",
       "      <th>10</th>\n",
       "      <td>10.0</td>\n",
       "      <td>1266</td>\n",
       "      <td>2009</td>\n",
       "    </tr>\n",
       "    <tr>\n",
       "      <th>11</th>\n",
       "      <td>9.0</td>\n",
       "      <td>817</td>\n",
       "      <td>2009</td>\n",
       "    </tr>\n",
       "    <tr>\n",
       "      <th>12</th>\n",
       "      <td>8.0</td>\n",
       "      <td>542</td>\n",
       "      <td>2009</td>\n",
       "    </tr>\n",
       "    <tr>\n",
       "      <th>13</th>\n",
       "      <td>1.0</td>\n",
       "      <td>356</td>\n",
       "      <td>2009</td>\n",
       "    </tr>\n",
       "    <tr>\n",
       "      <th>14</th>\n",
       "      <td>7.0</td>\n",
       "      <td>220</td>\n",
       "      <td>2009</td>\n",
       "    </tr>\n",
       "    <tr>\n",
       "      <th>15</th>\n",
       "      <td>5.0</td>\n",
       "      <td>190</td>\n",
       "      <td>2009</td>\n",
       "    </tr>\n",
       "    <tr>\n",
       "      <th>16</th>\n",
       "      <td>3.0</td>\n",
       "      <td>158</td>\n",
       "      <td>2009</td>\n",
       "    </tr>\n",
       "    <tr>\n",
       "      <th>17</th>\n",
       "      <td>6.0</td>\n",
       "      <td>145</td>\n",
       "      <td>2009</td>\n",
       "    </tr>\n",
       "    <tr>\n",
       "      <th>18</th>\n",
       "      <td>2.0</td>\n",
       "      <td>139</td>\n",
       "      <td>2009</td>\n",
       "    </tr>\n",
       "    <tr>\n",
       "      <th>19</th>\n",
       "      <td>4.0</td>\n",
       "      <td>136</td>\n",
       "      <td>2009</td>\n",
       "    </tr>\n",
       "  </tbody>\n",
       "</table>\n",
       "</div>"
      ],
      "text/plain": [
       "    rating  count  year\n",
       "0     10.0    739  2008\n",
       "1      9.0    429  2008\n",
       "2      8.0    266  2008\n",
       "3      7.0     94  2008\n",
       "4      6.0     33  2008\n",
       "5      5.0     24  2008\n",
       "6      1.0     15  2008\n",
       "7      4.0     12  2008\n",
       "8      2.0      9  2008\n",
       "9      3.0      8  2008\n",
       "10    10.0   1266  2009\n",
       "11     9.0    817  2009\n",
       "12     8.0    542  2009\n",
       "13     1.0    356  2009\n",
       "14     7.0    220  2009\n",
       "15     5.0    190  2009\n",
       "16     3.0    158  2009\n",
       "17     6.0    145  2009\n",
       "18     2.0    139  2009\n",
       "19     4.0    136  2009"
      ]
     },
     "execution_count": 37,
     "metadata": {},
     "output_type": "execute_result"
    }
   ],
   "source": [
    "rating_count_year=pd.concat([rating_year(y) for y in range(2008, 2018)], ignore_index=True)\n",
    "rating_count_year.head(20)"
   ]
  },
  {
   "cell_type": "code",
   "execution_count": 38,
   "metadata": {},
   "outputs": [
    {
     "data": {
      "text/html": [
       "\n",
       "<div id=\"altair-viz-7f9b50fa2a92417a8aa360c9d18ab697\"></div>\n",
       "<script type=\"text/javascript\">\n",
       "  (function(spec, embedOpt){\n",
       "    let outputDiv = document.currentScript.previousElementSibling;\n",
       "    if (outputDiv.id !== \"altair-viz-7f9b50fa2a92417a8aa360c9d18ab697\") {\n",
       "      outputDiv = document.getElementById(\"altair-viz-7f9b50fa2a92417a8aa360c9d18ab697\");\n",
       "    }\n",
       "    const paths = {\n",
       "      \"vega\": \"https://cdn.jsdelivr.net/npm//vega@5?noext\",\n",
       "      \"vega-lib\": \"https://cdn.jsdelivr.net/npm//vega-lib?noext\",\n",
       "      \"vega-lite\": \"https://cdn.jsdelivr.net/npm//vega-lite@4.8.1?noext\",\n",
       "      \"vega-embed\": \"https://cdn.jsdelivr.net/npm//vega-embed@6?noext\",\n",
       "    };\n",
       "\n",
       "    function loadScript(lib) {\n",
       "      return new Promise(function(resolve, reject) {\n",
       "        var s = document.createElement('script');\n",
       "        s.src = paths[lib];\n",
       "        s.async = true;\n",
       "        s.onload = () => resolve(paths[lib]);\n",
       "        s.onerror = () => reject(`Error loading script: ${paths[lib]}`);\n",
       "        document.getElementsByTagName(\"head\")[0].appendChild(s);\n",
       "      });\n",
       "    }\n",
       "\n",
       "    function showError(err) {\n",
       "      outputDiv.innerHTML = `<div class=\"error\" style=\"color:red;\">${err}</div>`;\n",
       "      throw err;\n",
       "    }\n",
       "\n",
       "    function displayChart(vegaEmbed) {\n",
       "      vegaEmbed(outputDiv, spec, embedOpt)\n",
       "        .catch(err => showError(`Javascript Error: ${err.message}<br>This usually means there's a typo in your chart specification. See the javascript console for the full traceback.`));\n",
       "    }\n",
       "\n",
       "    if(typeof define === \"function\" && define.amd) {\n",
       "      requirejs.config({paths});\n",
       "      require([\"vega-embed\"], displayChart, err => showError(`Error loading script: ${err.message}`));\n",
       "    } else if (typeof vegaEmbed === \"function\") {\n",
       "      displayChart(vegaEmbed);\n",
       "    } else {\n",
       "      loadScript(\"vega\")\n",
       "        .then(() => loadScript(\"vega-lite\"))\n",
       "        .then(() => loadScript(\"vega-embed\"))\n",
       "        .catch(showError)\n",
       "        .then(() => displayChart(vegaEmbed));\n",
       "    }\n",
       "  })({\"config\": {\"view\": {\"continuousWidth\": 400, \"continuousHeight\": 300}}, \"hconcat\": [{\"mark\": \"bar\", \"encoding\": {\"x\": {\"type\": \"quantitative\", \"field\": \"rating\"}, \"y\": {\"type\": \"quantitative\", \"field\": \"count\"}}, \"transform\": [{\"filter\": {\"selection\": \"selector004\"}}]}, {\"mark\": \"point\", \"encoding\": {\"color\": {\"condition\": {\"type\": \"nominal\", \"field\": \"year\", \"legend\": null, \"selection\": \"selector004\"}, \"value\": \"lightgray\"}, \"y\": {\"type\": \"nominal\", \"field\": \"year\"}}, \"selection\": {\"selector004\": {\"type\": \"multi\", \"encodings\": [\"color\"]}}}], \"data\": {\"name\": \"data-9836fcbedd98eee3c708eac982837fdb\"}, \"$schema\": \"https://vega.github.io/schema/vega-lite/v4.8.1.json\", \"datasets\": {\"data-9836fcbedd98eee3c708eac982837fdb\": [{\"rating\": 10.0, \"count\": 739, \"year\": 2008}, {\"rating\": 9.0, \"count\": 429, \"year\": 2008}, {\"rating\": 8.0, \"count\": 266, \"year\": 2008}, {\"rating\": 7.0, \"count\": 94, \"year\": 2008}, {\"rating\": 6.0, \"count\": 33, \"year\": 2008}, {\"rating\": 5.0, \"count\": 24, \"year\": 2008}, {\"rating\": 1.0, \"count\": 15, \"year\": 2008}, {\"rating\": 4.0, \"count\": 12, \"year\": 2008}, {\"rating\": 2.0, \"count\": 9, \"year\": 2008}, {\"rating\": 3.0, \"count\": 8, \"year\": 2008}, {\"rating\": 10.0, \"count\": 1266, \"year\": 2009}, {\"rating\": 9.0, \"count\": 817, \"year\": 2009}, {\"rating\": 8.0, \"count\": 542, \"year\": 2009}, {\"rating\": 1.0, \"count\": 356, \"year\": 2009}, {\"rating\": 7.0, \"count\": 220, \"year\": 2009}, {\"rating\": 5.0, \"count\": 190, \"year\": 2009}, {\"rating\": 3.0, \"count\": 158, \"year\": 2009}, {\"rating\": 6.0, \"count\": 145, \"year\": 2009}, {\"rating\": 2.0, \"count\": 139, \"year\": 2009}, {\"rating\": 4.0, \"count\": 136, \"year\": 2009}, {\"rating\": 10.0, \"count\": 863, \"year\": 2010}, {\"rating\": 9.0, \"count\": 607, \"year\": 2010}, {\"rating\": 8.0, \"count\": 353, \"year\": 2010}, {\"rating\": 7.0, \"count\": 190, \"year\": 2010}, {\"rating\": 1.0, \"count\": 188, \"year\": 2010}, {\"rating\": 5.0, \"count\": 161, \"year\": 2010}, {\"rating\": 6.0, \"count\": 126, \"year\": 2010}, {\"rating\": 2.0, \"count\": 96, \"year\": 2010}, {\"rating\": 3.0, \"count\": 93, \"year\": 2010}, {\"rating\": 4.0, \"count\": 82, \"year\": 2010}, {\"rating\": 10.0, \"count\": 1207, \"year\": 2011}, {\"rating\": 9.0, \"count\": 719, \"year\": 2011}, {\"rating\": 8.0, \"count\": 512, \"year\": 2011}, {\"rating\": 7.0, \"count\": 262, \"year\": 2011}, {\"rating\": 1.0, \"count\": 231, \"year\": 2011}, {\"rating\": 5.0, \"count\": 207, \"year\": 2011}, {\"rating\": 6.0, \"count\": 176, \"year\": 2011}, {\"rating\": 3.0, \"count\": 175, \"year\": 2011}, {\"rating\": 4.0, \"count\": 115, \"year\": 2011}, {\"rating\": 2.0, \"count\": 106, \"year\": 2011}, {\"rating\": 10.0, \"count\": 1106, \"year\": 2012}, {\"rating\": 9.0, \"count\": 699, \"year\": 2012}, {\"rating\": 8.0, \"count\": 437, \"year\": 2012}, {\"rating\": 1.0, \"count\": 235, \"year\": 2012}, {\"rating\": 7.0, \"count\": 220, \"year\": 2012}, {\"rating\": 5.0, \"count\": 150, \"year\": 2012}, {\"rating\": 6.0, \"count\": 135, \"year\": 2012}, {\"rating\": 3.0, \"count\": 134, \"year\": 2012}, {\"rating\": 2.0, \"count\": 126, \"year\": 2012}, {\"rating\": 4.0, \"count\": 93, \"year\": 2012}, {\"rating\": 10.0, \"count\": 1705, \"year\": 2013}, {\"rating\": 9.0, \"count\": 829, \"year\": 2013}, {\"rating\": 8.0, \"count\": 513, \"year\": 2013}, {\"rating\": 7.0, \"count\": 253, \"year\": 2013}, {\"rating\": 1.0, \"count\": 177, \"year\": 2013}, {\"rating\": 6.0, \"count\": 161, \"year\": 2013}, {\"rating\": 5.0, \"count\": 134, \"year\": 2013}, {\"rating\": 2.0, \"count\": 104, \"year\": 2013}, {\"rating\": 3.0, \"count\": 102, \"year\": 2013}, {\"rating\": 4.0, \"count\": 87, \"year\": 2013}, {\"rating\": 10.0, \"count\": 1607, \"year\": 2014}, {\"rating\": 9.0, \"count\": 832, \"year\": 2014}, {\"rating\": 8.0, \"count\": 514, \"year\": 2014}, {\"rating\": 7.0, \"count\": 241, \"year\": 2014}, {\"rating\": 1.0, \"count\": 196, \"year\": 2014}, {\"rating\": 6.0, \"count\": 170, \"year\": 2014}, {\"rating\": 5.0, \"count\": 162, \"year\": 2014}, {\"rating\": 3.0, \"count\": 126, \"year\": 2014}, {\"rating\": 2.0, \"count\": 101, \"year\": 2014}, {\"rating\": 4.0, \"count\": 91, \"year\": 2014}, {\"rating\": 10.0, \"count\": 2857, \"year\": 2015}, {\"rating\": 9.0, \"count\": 1469, \"year\": 2015}, {\"rating\": 1.0, \"count\": 1271, \"year\": 2015}, {\"rating\": 8.0, \"count\": 966, \"year\": 2015}, {\"rating\": 7.0, \"count\": 534, \"year\": 2015}, {\"rating\": 5.0, \"count\": 477, \"year\": 2015}, {\"rating\": 2.0, \"count\": 410, \"year\": 2015}, {\"rating\": 3.0, \"count\": 377, \"year\": 2015}, {\"rating\": 6.0, \"count\": 347, \"year\": 2015}, {\"rating\": 4.0, \"count\": 301, \"year\": 2015}, {\"rating\": 10.0, \"count\": 3180, \"year\": 2016}, {\"rating\": 1.0, \"count\": 2475, \"year\": 2016}, {\"rating\": 9.0, \"count\": 1569, \"year\": 2016}, {\"rating\": 8.0, \"count\": 1117, \"year\": 2016}, {\"rating\": 2.0, \"count\": 665, \"year\": 2016}, {\"rating\": 5.0, \"count\": 640, \"year\": 2016}, {\"rating\": 7.0, \"count\": 600, \"year\": 2016}, {\"rating\": 3.0, \"count\": 586, \"year\": 2016}, {\"rating\": 6.0, \"count\": 509, \"year\": 2016}, {\"rating\": 4.0, \"count\": 398, \"year\": 2016}, {\"rating\": 10.0, \"count\": 2407, \"year\": 2017}, {\"rating\": 1.0, \"count\": 2121, \"year\": 2017}, {\"rating\": 9.0, \"count\": 1150, \"year\": 2017}, {\"rating\": 8.0, \"count\": 898, \"year\": 2017}, {\"rating\": 2.0, \"count\": 568, \"year\": 2017}, {\"rating\": 5.0, \"count\": 546, \"year\": 2017}, {\"rating\": 7.0, \"count\": 461, \"year\": 2017}, {\"rating\": 3.0, \"count\": 438, \"year\": 2017}, {\"rating\": 4.0, \"count\": 327, \"year\": 2017}, {\"rating\": 6.0, \"count\": 300, \"year\": 2017}]}}, {\"mode\": \"vega-lite\"});\n",
       "</script>"
      ],
      "text/plain": [
       "alt.HConcatChart(...)"
      ]
     },
     "execution_count": 38,
     "metadata": {},
     "output_type": "execute_result"
    }
   ],
   "source": [
    "#Check the change of rating across year\n",
    "click = alt.selection_multi(encodings=['color'])\n",
    "\n",
    "scatter = alt.Chart(rating_count_year).mark_bar().encode(\n",
    "    x='rating',\n",
    "    y='count'\n",
    ").transform_filter(\n",
    "    click\n",
    ")\n",
    "\n",
    "hist = alt.Chart(rating_count_year).mark_point().encode(\n",
    "    y='year:N',\n",
    "    color=alt.condition(click, 'year:N', alt.value('lightgray'), legend=None)\n",
    ").add_selection(\n",
    "    click\n",
    ")\n",
    "\n",
    "scatter | hist"
   ]
  },
  {
   "cell_type": "markdown",
   "metadata": {},
   "source": [
    "<span style='color:blue'> The interesting thing is reviews with low ratings becomes the primary contributor as time goes one. Although there was very limited low-rating reviews in 2008, there were a lot in 2018. Are people becoming picky or the drug become less effective? </span>"
   ]
  },
  {
   "cell_type": "markdown",
   "metadata": {},
   "source": [
    "### 5. usefulCount"
   ]
  },
  {
   "cell_type": "code",
   "execution_count": 39,
   "metadata": {},
   "outputs": [
    {
     "data": {
      "text/html": [
       "\n",
       "<div id=\"altair-viz-d852b6be07ee4d5ba5b050d5a1f36b4a\"></div>\n",
       "<script type=\"text/javascript\">\n",
       "  (function(spec, embedOpt){\n",
       "    let outputDiv = document.currentScript.previousElementSibling;\n",
       "    if (outputDiv.id !== \"altair-viz-d852b6be07ee4d5ba5b050d5a1f36b4a\") {\n",
       "      outputDiv = document.getElementById(\"altair-viz-d852b6be07ee4d5ba5b050d5a1f36b4a\");\n",
       "    }\n",
       "    const paths = {\n",
       "      \"vega\": \"https://cdn.jsdelivr.net/npm//vega@5?noext\",\n",
       "      \"vega-lib\": \"https://cdn.jsdelivr.net/npm//vega-lib?noext\",\n",
       "      \"vega-lite\": \"https://cdn.jsdelivr.net/npm//vega-lite@4.8.1?noext\",\n",
       "      \"vega-embed\": \"https://cdn.jsdelivr.net/npm//vega-embed@6?noext\",\n",
       "    };\n",
       "\n",
       "    function loadScript(lib) {\n",
       "      return new Promise(function(resolve, reject) {\n",
       "        var s = document.createElement('script');\n",
       "        s.src = paths[lib];\n",
       "        s.async = true;\n",
       "        s.onload = () => resolve(paths[lib]);\n",
       "        s.onerror = () => reject(`Error loading script: ${paths[lib]}`);\n",
       "        document.getElementsByTagName(\"head\")[0].appendChild(s);\n",
       "      });\n",
       "    }\n",
       "\n",
       "    function showError(err) {\n",
       "      outputDiv.innerHTML = `<div class=\"error\" style=\"color:red;\">${err}</div>`;\n",
       "      throw err;\n",
       "    }\n",
       "\n",
       "    function displayChart(vegaEmbed) {\n",
       "      vegaEmbed(outputDiv, spec, embedOpt)\n",
       "        .catch(err => showError(`Javascript Error: ${err.message}<br>This usually means there's a typo in your chart specification. See the javascript console for the full traceback.`));\n",
       "    }\n",
       "\n",
       "    if(typeof define === \"function\" && define.amd) {\n",
       "      requirejs.config({paths});\n",
       "      require([\"vega-embed\"], displayChart, err => showError(`Error loading script: ${err.message}`));\n",
       "    } else if (typeof vegaEmbed === \"function\") {\n",
       "      displayChart(vegaEmbed);\n",
       "    } else {\n",
       "      loadScript(\"vega\")\n",
       "        .then(() => loadScript(\"vega-lite\"))\n",
       "        .then(() => loadScript(\"vega-embed\"))\n",
       "        .catch(showError)\n",
       "        .then(() => displayChart(vegaEmbed));\n",
       "    }\n",
       "  })({\"config\": {\"view\": {\"continuousWidth\": 400, \"continuousHeight\": 300}}, \"data\": {\"name\": \"data-a8a753a5b2dec5db9f666aec7f8ca451\"}, \"mark\": \"point\", \"encoding\": {\"tooltip\": [{\"type\": \"quantitative\", \"field\": \"usefulCount\"}, {\"type\": \"quantitative\", \"field\": \"counts\"}], \"x\": {\"type\": \"quantitative\", \"field\": \"usefulCount\"}, \"y\": {\"type\": \"quantitative\", \"field\": \"counts\"}}, \"selection\": {\"selector005\": {\"type\": \"interval\", \"bind\": \"scales\", \"encodings\": [\"x\", \"y\"]}}, \"$schema\": \"https://vega.github.io/schema/vega-lite/v4.8.1.json\", \"datasets\": {\"data-a8a753a5b2dec5db9f666aec7f8ca451\": [{\"usefulCount\": 2, \"counts\": 2125}, {\"usefulCount\": 3, \"counts\": 2124}, {\"usefulCount\": 1, \"counts\": 2064}, {\"usefulCount\": 0, \"counts\": 2049}, {\"usefulCount\": 4, \"counts\": 2025}, {\"usefulCount\": 5, \"counts\": 1974}, {\"usefulCount\": 6, \"counts\": 1771}, {\"usefulCount\": 7, \"counts\": 1664}, {\"usefulCount\": 8, \"counts\": 1558}, {\"usefulCount\": 9, \"counts\": 1464}, {\"usefulCount\": 10, \"counts\": 1387}, {\"usefulCount\": 12, \"counts\": 1304}, {\"usefulCount\": 11, \"counts\": 1269}, {\"usefulCount\": 13, \"counts\": 1185}, {\"usefulCount\": 14, \"counts\": 1093}, {\"usefulCount\": 15, \"counts\": 1036}, {\"usefulCount\": 16, \"counts\": 1026}, {\"usefulCount\": 17, \"counts\": 950}, {\"usefulCount\": 18, \"counts\": 897}, {\"usefulCount\": 19, \"counts\": 875}, {\"usefulCount\": 22, \"counts\": 811}, {\"usefulCount\": 20, \"counts\": 800}, {\"usefulCount\": 21, \"counts\": 791}, {\"usefulCount\": 23, \"counts\": 750}, {\"usefulCount\": 24, \"counts\": 706}, {\"usefulCount\": 25, \"counts\": 665}, {\"usefulCount\": 26, \"counts\": 649}, {\"usefulCount\": 27, \"counts\": 649}, {\"usefulCount\": 28, \"counts\": 622}, {\"usefulCount\": 29, \"counts\": 541}, {\"usefulCount\": 33, \"counts\": 522}, {\"usefulCount\": 32, \"counts\": 515}, {\"usefulCount\": 31, \"counts\": 508}, {\"usefulCount\": 30, \"counts\": 499}, {\"usefulCount\": 34, \"counts\": 483}, {\"usefulCount\": 35, \"counts\": 452}, {\"usefulCount\": 37, \"counts\": 419}, {\"usefulCount\": 36, \"counts\": 417}, {\"usefulCount\": 38, \"counts\": 412}, {\"usefulCount\": 39, \"counts\": 368}, {\"usefulCount\": 43, \"counts\": 364}, {\"usefulCount\": 40, \"counts\": 358}, {\"usefulCount\": 42, \"counts\": 354}, {\"usefulCount\": 41, \"counts\": 341}, {\"usefulCount\": 45, \"counts\": 314}, {\"usefulCount\": 46, \"counts\": 308}, {\"usefulCount\": 44, \"counts\": 301}, {\"usefulCount\": 47, \"counts\": 294}, {\"usefulCount\": 48, \"counts\": 264}, {\"usefulCount\": 55, \"counts\": 262}, {\"usefulCount\": 51, \"counts\": 248}, {\"usefulCount\": 50, \"counts\": 245}, {\"usefulCount\": 49, \"counts\": 240}, {\"usefulCount\": 53, \"counts\": 220}, {\"usefulCount\": 59, \"counts\": 218}, {\"usefulCount\": 52, \"counts\": 216}, {\"usefulCount\": 54, \"counts\": 210}, {\"usefulCount\": 58, \"counts\": 200}, {\"usefulCount\": 61, \"counts\": 197}, {\"usefulCount\": 62, \"counts\": 191}, {\"usefulCount\": 56, \"counts\": 186}, {\"usefulCount\": 57, \"counts\": 182}, {\"usefulCount\": 64, \"counts\": 168}, {\"usefulCount\": 65, \"counts\": 166}, {\"usefulCount\": 68, \"counts\": 156}, {\"usefulCount\": 69, \"counts\": 153}, {\"usefulCount\": 60, \"counts\": 153}, {\"usefulCount\": 63, \"counts\": 149}, {\"usefulCount\": 70, \"counts\": 147}, {\"usefulCount\": 66, \"counts\": 137}, {\"usefulCount\": 67, \"counts\": 133}, {\"usefulCount\": 72, \"counts\": 133}, {\"usefulCount\": 75, \"counts\": 131}, {\"usefulCount\": 77, \"counts\": 125}, {\"usefulCount\": 73, \"counts\": 124}, {\"usefulCount\": 74, \"counts\": 119}, {\"usefulCount\": 80, \"counts\": 114}, {\"usefulCount\": 79, \"counts\": 112}, {\"usefulCount\": 71, \"counts\": 108}, {\"usefulCount\": 76, \"counts\": 104}, {\"usefulCount\": 78, \"counts\": 103}, {\"usefulCount\": 85, \"counts\": 91}, {\"usefulCount\": 81, \"counts\": 90}, {\"usefulCount\": 88, \"counts\": 85}, {\"usefulCount\": 86, \"counts\": 85}, {\"usefulCount\": 83, \"counts\": 84}, {\"usefulCount\": 82, \"counts\": 82}, {\"usefulCount\": 84, \"counts\": 82}, {\"usefulCount\": 95, \"counts\": 76}, {\"usefulCount\": 93, \"counts\": 73}, {\"usefulCount\": 87, \"counts\": 71}, {\"usefulCount\": 101, \"counts\": 68}, {\"usefulCount\": 97, \"counts\": 67}, {\"usefulCount\": 102, \"counts\": 66}, {\"usefulCount\": 89, \"counts\": 63}, {\"usefulCount\": 92, \"counts\": 63}, {\"usefulCount\": 96, \"counts\": 62}, {\"usefulCount\": 98, \"counts\": 60}, {\"usefulCount\": 90, \"counts\": 58}, {\"usefulCount\": 105, \"counts\": 58}, {\"usefulCount\": 109, \"counts\": 58}, {\"usefulCount\": 113, \"counts\": 56}, {\"usefulCount\": 103, \"counts\": 56}, {\"usefulCount\": 91, \"counts\": 54}, {\"usefulCount\": 104, \"counts\": 54}, {\"usefulCount\": 94, \"counts\": 53}, {\"usefulCount\": 106, \"counts\": 49}, {\"usefulCount\": 99, \"counts\": 49}, {\"usefulCount\": 117, \"counts\": 47}, {\"usefulCount\": 100, \"counts\": 47}, {\"usefulCount\": 110, \"counts\": 45}, {\"usefulCount\": 118, \"counts\": 45}, {\"usefulCount\": 107, \"counts\": 43}, {\"usefulCount\": 111, \"counts\": 41}, {\"usefulCount\": 124, \"counts\": 40}, {\"usefulCount\": 116, \"counts\": 39}, {\"usefulCount\": 108, \"counts\": 37}, {\"usefulCount\": 114, \"counts\": 37}, {\"usefulCount\": 126, \"counts\": 36}, {\"usefulCount\": 120, \"counts\": 36}, {\"usefulCount\": 115, \"counts\": 34}, {\"usefulCount\": 121, \"counts\": 33}, {\"usefulCount\": 134, \"counts\": 33}, {\"usefulCount\": 123, \"counts\": 33}, {\"usefulCount\": 122, \"counts\": 31}, {\"usefulCount\": 119, \"counts\": 29}, {\"usefulCount\": 112, \"counts\": 28}, {\"usefulCount\": 131, \"counts\": 27}, {\"usefulCount\": 125, \"counts\": 27}, {\"usefulCount\": 130, \"counts\": 27}, {\"usefulCount\": 141, \"counts\": 26}, {\"usefulCount\": 132, \"counts\": 26}, {\"usefulCount\": 127, \"counts\": 23}, {\"usefulCount\": 133, \"counts\": 23}, {\"usefulCount\": 140, \"counts\": 23}, {\"usefulCount\": 128, \"counts\": 22}, {\"usefulCount\": 139, \"counts\": 21}, {\"usefulCount\": 142, \"counts\": 21}, {\"usefulCount\": 129, \"counts\": 21}, {\"usefulCount\": 135, \"counts\": 21}, {\"usefulCount\": 144, \"counts\": 21}, {\"usefulCount\": 152, \"counts\": 20}, {\"usefulCount\": 138, \"counts\": 19}, {\"usefulCount\": 147, \"counts\": 19}, {\"usefulCount\": 151, \"counts\": 19}, {\"usefulCount\": 145, \"counts\": 18}, {\"usefulCount\": 149, \"counts\": 18}, {\"usefulCount\": 137, \"counts\": 18}, {\"usefulCount\": 157, \"counts\": 17}, {\"usefulCount\": 146, \"counts\": 17}, {\"usefulCount\": 168, \"counts\": 16}, {\"usefulCount\": 163, \"counts\": 16}, {\"usefulCount\": 154, \"counts\": 16}, {\"usefulCount\": 165, \"counts\": 15}, {\"usefulCount\": 136, \"counts\": 15}, {\"usefulCount\": 155, \"counts\": 15}, {\"usefulCount\": 159, \"counts\": 15}, {\"usefulCount\": 161, \"counts\": 14}, {\"usefulCount\": 156, \"counts\": 13}, {\"usefulCount\": 185, \"counts\": 13}, {\"usefulCount\": 153, \"counts\": 13}, {\"usefulCount\": 172, \"counts\": 13}, {\"usefulCount\": 184, \"counts\": 13}, {\"usefulCount\": 158, \"counts\": 12}, {\"usefulCount\": 175, \"counts\": 12}, {\"usefulCount\": 182, \"counts\": 12}, {\"usefulCount\": 187, \"counts\": 12}, {\"usefulCount\": 190, \"counts\": 12}, {\"usefulCount\": 150, \"counts\": 11}, {\"usefulCount\": 174, \"counts\": 11}, {\"usefulCount\": 143, \"counts\": 11}, {\"usefulCount\": 213, \"counts\": 10}, {\"usefulCount\": 186, \"counts\": 10}, {\"usefulCount\": 180, \"counts\": 10}, {\"usefulCount\": 176, \"counts\": 10}, {\"usefulCount\": 160, \"counts\": 10}, {\"usefulCount\": 148, \"counts\": 10}, {\"usefulCount\": 167, \"counts\": 10}, {\"usefulCount\": 193, \"counts\": 9}, {\"usefulCount\": 169, \"counts\": 9}, {\"usefulCount\": 194, \"counts\": 9}, {\"usefulCount\": 183, \"counts\": 9}, {\"usefulCount\": 173, \"counts\": 8}, {\"usefulCount\": 201, \"counts\": 8}, {\"usefulCount\": 197, \"counts\": 8}, {\"usefulCount\": 164, \"counts\": 8}, {\"usefulCount\": 209, \"counts\": 7}, {\"usefulCount\": 181, \"counts\": 7}, {\"usefulCount\": 170, \"counts\": 7}, {\"usefulCount\": 162, \"counts\": 7}, {\"usefulCount\": 199, \"counts\": 7}, {\"usefulCount\": 179, \"counts\": 6}, {\"usefulCount\": 166, \"counts\": 6}, {\"usefulCount\": 178, \"counts\": 6}, {\"usefulCount\": 202, \"counts\": 6}, {\"usefulCount\": 196, \"counts\": 6}, {\"usefulCount\": 192, \"counts\": 6}, {\"usefulCount\": 177, \"counts\": 6}, {\"usefulCount\": 218, \"counts\": 6}, {\"usefulCount\": 223, \"counts\": 6}, {\"usefulCount\": 204, \"counts\": 6}, {\"usefulCount\": 216, \"counts\": 6}, {\"usefulCount\": 189, \"counts\": 6}, {\"usefulCount\": 212, \"counts\": 5}, {\"usefulCount\": 226, \"counts\": 5}, {\"usefulCount\": 234, \"counts\": 5}, {\"usefulCount\": 220, \"counts\": 5}, {\"usefulCount\": 211, \"counts\": 5}, {\"usefulCount\": 228, \"counts\": 5}, {\"usefulCount\": 203, \"counts\": 5}, {\"usefulCount\": 205, \"counts\": 5}, {\"usefulCount\": 191, \"counts\": 5}, {\"usefulCount\": 188, \"counts\": 5}, {\"usefulCount\": 219, \"counts\": 4}, {\"usefulCount\": 200, \"counts\": 4}, {\"usefulCount\": 171, \"counts\": 4}, {\"usefulCount\": 247, \"counts\": 4}, {\"usefulCount\": 206, \"counts\": 4}, {\"usefulCount\": 198, \"counts\": 4}, {\"usefulCount\": 208, \"counts\": 4}, {\"usefulCount\": 308, \"counts\": 4}, {\"usefulCount\": 253, \"counts\": 4}, {\"usefulCount\": 210, \"counts\": 4}, {\"usefulCount\": 239, \"counts\": 4}, {\"usefulCount\": 221, \"counts\": 3}, {\"usefulCount\": 282, \"counts\": 3}, {\"usefulCount\": 254, \"counts\": 3}, {\"usefulCount\": 246, \"counts\": 3}, {\"usefulCount\": 315, \"counts\": 3}, {\"usefulCount\": 207, \"counts\": 3}, {\"usefulCount\": 262, \"counts\": 3}, {\"usefulCount\": 269, \"counts\": 3}, {\"usefulCount\": 229, \"counts\": 3}, {\"usefulCount\": 292, \"counts\": 3}, {\"usefulCount\": 235, \"counts\": 3}, {\"usefulCount\": 261, \"counts\": 3}, {\"usefulCount\": 236, \"counts\": 3}, {\"usefulCount\": 245, \"counts\": 3}, {\"usefulCount\": 195, \"counts\": 3}, {\"usefulCount\": 214, \"counts\": 3}, {\"usefulCount\": 270, \"counts\": 3}, {\"usefulCount\": 249, \"counts\": 2}, {\"usefulCount\": 268, \"counts\": 2}, {\"usefulCount\": 217, \"counts\": 2}, {\"usefulCount\": 237, \"counts\": 2}, {\"usefulCount\": 332, \"counts\": 2}, {\"usefulCount\": 310, \"counts\": 2}, {\"usefulCount\": 250, \"counts\": 2}, {\"usefulCount\": 299, \"counts\": 2}, {\"usefulCount\": 266, \"counts\": 2}, {\"usefulCount\": 233, \"counts\": 2}, {\"usefulCount\": 294, \"counts\": 2}, {\"usefulCount\": 316, \"counts\": 2}, {\"usefulCount\": 283, \"counts\": 2}, {\"usefulCount\": 358, \"counts\": 2}, {\"usefulCount\": 324, \"counts\": 2}, {\"usefulCount\": 484, \"counts\": 2}, {\"usefulCount\": 291, \"counts\": 2}, {\"usefulCount\": 371, \"counts\": 2}, {\"usefulCount\": 695, \"counts\": 2}, {\"usefulCount\": 227, \"counts\": 2}, {\"usefulCount\": 414, \"counts\": 2}, {\"usefulCount\": 368, \"counts\": 2}, {\"usefulCount\": 286, \"counts\": 2}, {\"usefulCount\": 248, \"counts\": 2}, {\"usefulCount\": 240, \"counts\": 2}, {\"usefulCount\": 256, \"counts\": 2}, {\"usefulCount\": 224, \"counts\": 2}, {\"usefulCount\": 280, \"counts\": 2}, {\"usefulCount\": 275, \"counts\": 2}, {\"usefulCount\": 448, \"counts\": 1}, {\"usefulCount\": 384, \"counts\": 1}, {\"usefulCount\": 252, \"counts\": 1}, {\"usefulCount\": 230, \"counts\": 1}, {\"usefulCount\": 255, \"counts\": 1}, {\"usefulCount\": 486, \"counts\": 1}, {\"usefulCount\": 485, \"counts\": 1}, {\"usefulCount\": 289, \"counts\": 1}, {\"usefulCount\": 389, \"counts\": 1}, {\"usefulCount\": 225, \"counts\": 1}, {\"usefulCount\": 513, \"counts\": 1}, {\"usefulCount\": 322, \"counts\": 1}, {\"usefulCount\": 644, \"counts\": 1}, {\"usefulCount\": 285, \"counts\": 1}, {\"usefulCount\": 317, \"counts\": 1}, {\"usefulCount\": 222, \"counts\": 1}, {\"usefulCount\": 381, \"counts\": 1}, {\"usefulCount\": 295, \"counts\": 1}, {\"usefulCount\": 231, \"counts\": 1}, {\"usefulCount\": 585, \"counts\": 1}, {\"usefulCount\": 327, \"counts\": 1}, {\"usefulCount\": 305, \"counts\": 1}, {\"usefulCount\": 440, \"counts\": 1}, {\"usefulCount\": 344, \"counts\": 1}, {\"usefulCount\": 312, \"counts\": 1}, {\"usefulCount\": 272, \"counts\": 1}, {\"usefulCount\": 304, \"counts\": 1}, {\"usefulCount\": 273, \"counts\": 1}, {\"usefulCount\": 243, \"counts\": 1}, {\"usefulCount\": 303, \"counts\": 1}, {\"usefulCount\": 279, \"counts\": 1}, {\"usefulCount\": 215, \"counts\": 1}, {\"usefulCount\": 307, \"counts\": 1}, {\"usefulCount\": 340, \"counts\": 1}, {\"usefulCount\": 949, \"counts\": 1}, {\"usefulCount\": 470, \"counts\": 1}, {\"usefulCount\": 559, \"counts\": 1}, {\"usefulCount\": 302, \"counts\": 1}, {\"usefulCount\": 359, \"counts\": 1}, {\"usefulCount\": 680, \"counts\": 1}, {\"usefulCount\": 232, \"counts\": 1}, {\"usefulCount\": 264, \"counts\": 1}, {\"usefulCount\": 251, \"counts\": 1}, {\"usefulCount\": 296, \"counts\": 1}, {\"usefulCount\": 328, \"counts\": 1}, {\"usefulCount\": 424, \"counts\": 1}, {\"usefulCount\": 406, \"counts\": 1}, {\"usefulCount\": 238, \"counts\": 1}, {\"usefulCount\": 730, \"counts\": 1}, {\"usefulCount\": 267, \"counts\": 1}, {\"usefulCount\": 345, \"counts\": 1}, {\"usefulCount\": 313, \"counts\": 1}, {\"usefulCount\": 281, \"counts\": 1}, {\"usefulCount\": 621, \"counts\": 1}, {\"usefulCount\": 287, \"counts\": 1}]}}, {\"mode\": \"vega-lite\"});\n",
       "</script>"
      ],
      "text/plain": [
       "alt.Chart(...)"
      ]
     },
     "execution_count": 39,
     "metadata": {},
     "output_type": "execute_result"
    }
   ],
   "source": [
    "usefulCount_dist=df_new.usefulCount.value_counts().to_frame().reset_index()\n",
    "usefulCount_dist.columns=['usefulCount', 'counts']\n",
    "alt.Chart(usefulCount_dist).mark_point().encode(\n",
    "    x='usefulCount:Q',\n",
    "    y='counts:Q',\n",
    "    tooltip=('usefulCount', 'counts')\n",
    ").interactive()"
   ]
  },
  {
   "cell_type": "markdown",
   "metadata": {},
   "source": [
    "<span style='color:blue'>Most reviews have low usefulCounts less than 100. The highest usefulCounts is 730 and the lowest is 3 </span>"
   ]
  },
  {
   "cell_type": "code",
   "execution_count": 40,
   "metadata": {},
   "outputs": [],
   "source": [
    "def usefulCount_rating(y):\n",
    "    r=df_new[df_new.rating==y].usefulCount.value_counts()\n",
    "    new=r.to_frame().reset_index()\n",
    "    new.columns=['usefulCount','count']\n",
    "    rating=pd.Series([y]*len(new)).T\n",
    "    new['rating']=rating\n",
    "    return new"
   ]
  },
  {
   "cell_type": "code",
   "execution_count": 41,
   "metadata": {},
   "outputs": [
    {
     "data": {
      "text/html": [
       "<div>\n",
       "<style scoped>\n",
       "    .dataframe tbody tr th:only-of-type {\n",
       "        vertical-align: middle;\n",
       "    }\n",
       "\n",
       "    .dataframe tbody tr th {\n",
       "        vertical-align: top;\n",
       "    }\n",
       "\n",
       "    .dataframe thead th {\n",
       "        text-align: right;\n",
       "    }\n",
       "</style>\n",
       "<table border=\"1\" class=\"dataframe\">\n",
       "  <thead>\n",
       "    <tr style=\"text-align: right;\">\n",
       "      <th></th>\n",
       "      <th>usefulCount</th>\n",
       "      <th>count</th>\n",
       "      <th>rating</th>\n",
       "    </tr>\n",
       "  </thead>\n",
       "  <tbody>\n",
       "    <tr>\n",
       "      <th>0</th>\n",
       "      <td>2</td>\n",
       "      <td>471</td>\n",
       "      <td>1</td>\n",
       "    </tr>\n",
       "    <tr>\n",
       "      <th>1</th>\n",
       "      <td>3</td>\n",
       "      <td>419</td>\n",
       "      <td>1</td>\n",
       "    </tr>\n",
       "    <tr>\n",
       "      <th>2</th>\n",
       "      <td>4</td>\n",
       "      <td>401</td>\n",
       "      <td>1</td>\n",
       "    </tr>\n",
       "    <tr>\n",
       "      <th>3</th>\n",
       "      <td>5</td>\n",
       "      <td>401</td>\n",
       "      <td>1</td>\n",
       "    </tr>\n",
       "    <tr>\n",
       "      <th>4</th>\n",
       "      <td>1</td>\n",
       "      <td>394</td>\n",
       "      <td>1</td>\n",
       "    </tr>\n",
       "    <tr>\n",
       "      <th>5</th>\n",
       "      <td>0</td>\n",
       "      <td>380</td>\n",
       "      <td>1</td>\n",
       "    </tr>\n",
       "    <tr>\n",
       "      <th>6</th>\n",
       "      <td>6</td>\n",
       "      <td>339</td>\n",
       "      <td>1</td>\n",
       "    </tr>\n",
       "    <tr>\n",
       "      <th>7</th>\n",
       "      <td>7</td>\n",
       "      <td>306</td>\n",
       "      <td>1</td>\n",
       "    </tr>\n",
       "    <tr>\n",
       "      <th>8</th>\n",
       "      <td>8</td>\n",
       "      <td>268</td>\n",
       "      <td>1</td>\n",
       "    </tr>\n",
       "    <tr>\n",
       "      <th>9</th>\n",
       "      <td>10</td>\n",
       "      <td>264</td>\n",
       "      <td>1</td>\n",
       "    </tr>\n",
       "    <tr>\n",
       "      <th>10</th>\n",
       "      <td>9</td>\n",
       "      <td>229</td>\n",
       "      <td>1</td>\n",
       "    </tr>\n",
       "    <tr>\n",
       "      <th>11</th>\n",
       "      <td>12</td>\n",
       "      <td>220</td>\n",
       "      <td>1</td>\n",
       "    </tr>\n",
       "    <tr>\n",
       "      <th>12</th>\n",
       "      <td>11</td>\n",
       "      <td>213</td>\n",
       "      <td>1</td>\n",
       "    </tr>\n",
       "    <tr>\n",
       "      <th>13</th>\n",
       "      <td>14</td>\n",
       "      <td>163</td>\n",
       "      <td>1</td>\n",
       "    </tr>\n",
       "    <tr>\n",
       "      <th>14</th>\n",
       "      <td>16</td>\n",
       "      <td>158</td>\n",
       "      <td>1</td>\n",
       "    </tr>\n",
       "    <tr>\n",
       "      <th>15</th>\n",
       "      <td>15</td>\n",
       "      <td>153</td>\n",
       "      <td>1</td>\n",
       "    </tr>\n",
       "    <tr>\n",
       "      <th>16</th>\n",
       "      <td>13</td>\n",
       "      <td>151</td>\n",
       "      <td>1</td>\n",
       "    </tr>\n",
       "    <tr>\n",
       "      <th>17</th>\n",
       "      <td>17</td>\n",
       "      <td>140</td>\n",
       "      <td>1</td>\n",
       "    </tr>\n",
       "    <tr>\n",
       "      <th>18</th>\n",
       "      <td>18</td>\n",
       "      <td>135</td>\n",
       "      <td>1</td>\n",
       "    </tr>\n",
       "    <tr>\n",
       "      <th>19</th>\n",
       "      <td>20</td>\n",
       "      <td>123</td>\n",
       "      <td>1</td>\n",
       "    </tr>\n",
       "  </tbody>\n",
       "</table>\n",
       "</div>"
      ],
      "text/plain": [
       "    usefulCount  count  rating\n",
       "0             2    471       1\n",
       "1             3    419       1\n",
       "2             4    401       1\n",
       "3             5    401       1\n",
       "4             1    394       1\n",
       "5             0    380       1\n",
       "6             6    339       1\n",
       "7             7    306       1\n",
       "8             8    268       1\n",
       "9            10    264       1\n",
       "10            9    229       1\n",
       "11           12    220       1\n",
       "12           11    213       1\n",
       "13           14    163       1\n",
       "14           16    158       1\n",
       "15           15    153       1\n",
       "16           13    151       1\n",
       "17           17    140       1\n",
       "18           18    135       1\n",
       "19           20    123       1"
      ]
     },
     "execution_count": 41,
     "metadata": {},
     "output_type": "execute_result"
    }
   ],
   "source": [
    "usefulCount_count_rating=pd.concat([usefulCount_rating(y) for y in range(1, 11)], ignore_index=True)\n",
    "usefulCount_count_rating.head(20)"
   ]
  },
  {
   "cell_type": "code",
   "execution_count": 42,
   "metadata": {},
   "outputs": [
    {
     "data": {
      "text/html": [
       "\n",
       "<div id=\"altair-viz-5faead9ba11e46cfab901c2cf2e89e95\"></div>\n",
       "<script type=\"text/javascript\">\n",
       "  (function(spec, embedOpt){\n",
       "    let outputDiv = document.currentScript.previousElementSibling;\n",
       "    if (outputDiv.id !== \"altair-viz-5faead9ba11e46cfab901c2cf2e89e95\") {\n",
       "      outputDiv = document.getElementById(\"altair-viz-5faead9ba11e46cfab901c2cf2e89e95\");\n",
       "    }\n",
       "    const paths = {\n",
       "      \"vega\": \"https://cdn.jsdelivr.net/npm//vega@5?noext\",\n",
       "      \"vega-lib\": \"https://cdn.jsdelivr.net/npm//vega-lib?noext\",\n",
       "      \"vega-lite\": \"https://cdn.jsdelivr.net/npm//vega-lite@4.8.1?noext\",\n",
       "      \"vega-embed\": \"https://cdn.jsdelivr.net/npm//vega-embed@6?noext\",\n",
       "    };\n",
       "\n",
       "    function loadScript(lib) {\n",
       "      return new Promise(function(resolve, reject) {\n",
       "        var s = document.createElement('script');\n",
       "        s.src = paths[lib];\n",
       "        s.async = true;\n",
       "        s.onload = () => resolve(paths[lib]);\n",
       "        s.onerror = () => reject(`Error loading script: ${paths[lib]}`);\n",
       "        document.getElementsByTagName(\"head\")[0].appendChild(s);\n",
       "      });\n",
       "    }\n",
       "\n",
       "    function showError(err) {\n",
       "      outputDiv.innerHTML = `<div class=\"error\" style=\"color:red;\">${err}</div>`;\n",
       "      throw err;\n",
       "    }\n",
       "\n",
       "    function displayChart(vegaEmbed) {\n",
       "      vegaEmbed(outputDiv, spec, embedOpt)\n",
       "        .catch(err => showError(`Javascript Error: ${err.message}<br>This usually means there's a typo in your chart specification. See the javascript console for the full traceback.`));\n",
       "    }\n",
       "\n",
       "    if(typeof define === \"function\" && define.amd) {\n",
       "      requirejs.config({paths});\n",
       "      require([\"vega-embed\"], displayChart, err => showError(`Error loading script: ${err.message}`));\n",
       "    } else if (typeof vegaEmbed === \"function\") {\n",
       "      displayChart(vegaEmbed);\n",
       "    } else {\n",
       "      loadScript(\"vega\")\n",
       "        .then(() => loadScript(\"vega-lite\"))\n",
       "        .then(() => loadScript(\"vega-embed\"))\n",
       "        .catch(showError)\n",
       "        .then(() => displayChart(vegaEmbed));\n",
       "    }\n",
       "  })({\"config\": {\"view\": {\"continuousWidth\": 400, \"continuousHeight\": 300}}, \"hconcat\": [{\"mark\": \"point\", \"encoding\": {\"tooltip\": [{\"type\": \"quantitative\", \"field\": \"usefulCount\"}, {\"type\": \"quantitative\", \"field\": \"count\"}], \"x\": {\"type\": \"quantitative\", \"field\": \"usefulCount\"}, \"y\": {\"type\": \"quantitative\", \"field\": \"count\"}}, \"selection\": {\"selector007\": {\"type\": \"interval\", \"bind\": \"scales\", \"encodings\": [\"x\", \"y\"]}}, \"transform\": [{\"filter\": {\"selection\": \"selector006\"}}]}, {\"mark\": \"point\", \"encoding\": {\"color\": {\"condition\": {\"type\": \"nominal\", \"field\": \"rating\", \"legend\": null, \"selection\": \"selector006\"}, \"value\": \"lightgray\"}, \"y\": {\"type\": \"nominal\", \"field\": \"rating\"}}, \"selection\": {\"selector006\": {\"type\": \"multi\", \"encodings\": [\"color\"]}}}], \"data\": {\"name\": \"data-6a0ed9d4c0a07002225616902779620d\"}, \"$schema\": \"https://vega.github.io/schema/vega-lite/v4.8.1.json\", \"datasets\": {\"data-6a0ed9d4c0a07002225616902779620d\": [{\"usefulCount\": 2, \"count\": 471, \"rating\": 1}, {\"usefulCount\": 3, \"count\": 419, \"rating\": 1}, {\"usefulCount\": 4, \"count\": 401, \"rating\": 1}, {\"usefulCount\": 5, \"count\": 401, \"rating\": 1}, {\"usefulCount\": 1, \"count\": 394, \"rating\": 1}, {\"usefulCount\": 0, \"count\": 380, \"rating\": 1}, {\"usefulCount\": 6, \"count\": 339, \"rating\": 1}, {\"usefulCount\": 7, \"count\": 306, \"rating\": 1}, {\"usefulCount\": 8, \"count\": 268, \"rating\": 1}, {\"usefulCount\": 10, \"count\": 264, \"rating\": 1}, {\"usefulCount\": 9, \"count\": 229, \"rating\": 1}, {\"usefulCount\": 12, \"count\": 220, \"rating\": 1}, {\"usefulCount\": 11, \"count\": 213, \"rating\": 1}, {\"usefulCount\": 14, \"count\": 163, \"rating\": 1}, {\"usefulCount\": 16, \"count\": 158, \"rating\": 1}, {\"usefulCount\": 15, \"count\": 153, \"rating\": 1}, {\"usefulCount\": 13, \"count\": 151, \"rating\": 1}, {\"usefulCount\": 17, \"count\": 140, \"rating\": 1}, {\"usefulCount\": 18, \"count\": 135, \"rating\": 1}, {\"usefulCount\": 20, \"count\": 123, \"rating\": 1}, {\"usefulCount\": 19, \"count\": 122, \"rating\": 1}, {\"usefulCount\": 22, \"count\": 99, \"rating\": 1}, {\"usefulCount\": 21, \"count\": 95, \"rating\": 1}, {\"usefulCount\": 25, \"count\": 95, \"rating\": 1}, {\"usefulCount\": 23, \"count\": 94, \"rating\": 1}, {\"usefulCount\": 24, \"count\": 89, \"rating\": 1}, {\"usefulCount\": 26, \"count\": 76, \"rating\": 1}, {\"usefulCount\": 28, \"count\": 73, \"rating\": 1}, {\"usefulCount\": 27, \"count\": 65, \"rating\": 1}, {\"usefulCount\": 31, \"count\": 65, \"rating\": 1}, {\"usefulCount\": 29, \"count\": 63, \"rating\": 1}, {\"usefulCount\": 32, \"count\": 63, \"rating\": 1}, {\"usefulCount\": 30, \"count\": 59, \"rating\": 1}, {\"usefulCount\": 35, \"count\": 50, \"rating\": 1}, {\"usefulCount\": 34, \"count\": 49, \"rating\": 1}, {\"usefulCount\": 33, \"count\": 45, \"rating\": 1}, {\"usefulCount\": 36, \"count\": 42, \"rating\": 1}, {\"usefulCount\": 37, \"count\": 42, \"rating\": 1}, {\"usefulCount\": 38, \"count\": 33, \"rating\": 1}, {\"usefulCount\": 42, \"count\": 32, \"rating\": 1}, {\"usefulCount\": 43, \"count\": 30, \"rating\": 1}, {\"usefulCount\": 40, \"count\": 30, \"rating\": 1}, {\"usefulCount\": 47, \"count\": 28, \"rating\": 1}, {\"usefulCount\": 41, \"count\": 26, \"rating\": 1}, {\"usefulCount\": 55, \"count\": 25, \"rating\": 1}, {\"usefulCount\": 39, \"count\": 22, \"rating\": 1}, {\"usefulCount\": 45, \"count\": 21, \"rating\": 1}, {\"usefulCount\": 44, \"count\": 21, \"rating\": 1}, {\"usefulCount\": 51, \"count\": 20, \"rating\": 1}, {\"usefulCount\": 46, \"count\": 19, \"rating\": 1}, {\"usefulCount\": 48, \"count\": 19, \"rating\": 1}, {\"usefulCount\": 59, \"count\": 18, \"rating\": 1}, {\"usefulCount\": 68, \"count\": 13, \"rating\": 1}, {\"usefulCount\": 57, \"count\": 12, \"rating\": 1}, {\"usefulCount\": 58, \"count\": 11, \"rating\": 1}, {\"usefulCount\": 50, \"count\": 11, \"rating\": 1}, {\"usefulCount\": 52, \"count\": 11, \"rating\": 1}, {\"usefulCount\": 62, \"count\": 10, \"rating\": 1}, {\"usefulCount\": 61, \"count\": 9, \"rating\": 1}, {\"usefulCount\": 54, \"count\": 9, \"rating\": 1}, {\"usefulCount\": 63, \"count\": 8, \"rating\": 1}, {\"usefulCount\": 53, \"count\": 8, \"rating\": 1}, {\"usefulCount\": 60, \"count\": 8, \"rating\": 1}, {\"usefulCount\": 69, \"count\": 8, \"rating\": 1}, {\"usefulCount\": 49, \"count\": 8, \"rating\": 1}, {\"usefulCount\": 64, \"count\": 7, \"rating\": 1}, {\"usefulCount\": 74, \"count\": 7, \"rating\": 1}, {\"usefulCount\": 65, \"count\": 7, \"rating\": 1}, {\"usefulCount\": 56, \"count\": 7, \"rating\": 1}, {\"usefulCount\": 82, \"count\": 6, \"rating\": 1}, {\"usefulCount\": 78, \"count\": 6, \"rating\": 1}, {\"usefulCount\": 75, \"count\": 6, \"rating\": 1}, {\"usefulCount\": 67, \"count\": 6, \"rating\": 1}, {\"usefulCount\": 91, \"count\": 4, \"rating\": 1}, {\"usefulCount\": 86, \"count\": 4, \"rating\": 1}, {\"usefulCount\": 81, \"count\": 4, \"rating\": 1}, {\"usefulCount\": 98, \"count\": 4, \"rating\": 1}, {\"usefulCount\": 87, \"count\": 4, \"rating\": 1}, {\"usefulCount\": 79, \"count\": 4, \"rating\": 1}, {\"usefulCount\": 72, \"count\": 4, \"rating\": 1}, {\"usefulCount\": 71, \"count\": 3, \"rating\": 1}, {\"usefulCount\": 96, \"count\": 3, \"rating\": 1}, {\"usefulCount\": 85, \"count\": 3, \"rating\": 1}, {\"usefulCount\": 126, \"count\": 3, \"rating\": 1}, {\"usefulCount\": 77, \"count\": 3, \"rating\": 1}, {\"usefulCount\": 73, \"count\": 3, \"rating\": 1}, {\"usefulCount\": 84, \"count\": 3, \"rating\": 1}, {\"usefulCount\": 136, \"count\": 3, \"rating\": 1}, {\"usefulCount\": 66, \"count\": 3, \"rating\": 1}, {\"usefulCount\": 70, \"count\": 3, \"rating\": 1}, {\"usefulCount\": 94, \"count\": 3, \"rating\": 1}, {\"usefulCount\": 122, \"count\": 2, \"rating\": 1}, {\"usefulCount\": 106, \"count\": 2, \"rating\": 1}, {\"usefulCount\": 76, \"count\": 2, \"rating\": 1}, {\"usefulCount\": 118, \"count\": 2, \"rating\": 1}, {\"usefulCount\": 88, \"count\": 2, \"rating\": 1}, {\"usefulCount\": 102, \"count\": 2, \"rating\": 1}, {\"usefulCount\": 109, \"count\": 2, \"rating\": 1}, {\"usefulCount\": 108, \"count\": 2, \"rating\": 1}, {\"usefulCount\": 112, \"count\": 2, \"rating\": 1}, {\"usefulCount\": 140, \"count\": 2, \"rating\": 1}, {\"usefulCount\": 89, \"count\": 2, \"rating\": 1}, {\"usefulCount\": 93, \"count\": 2, \"rating\": 1}, {\"usefulCount\": 123, \"count\": 2, \"rating\": 1}, {\"usefulCount\": 197, \"count\": 2, \"rating\": 1}, {\"usefulCount\": 105, \"count\": 2, \"rating\": 1}, {\"usefulCount\": 83, \"count\": 2, \"rating\": 1}, {\"usefulCount\": 141, \"count\": 2, \"rating\": 1}, {\"usefulCount\": 133, \"count\": 2, \"rating\": 1}, {\"usefulCount\": 95, \"count\": 2, \"rating\": 1}, {\"usefulCount\": 103, \"count\": 1, \"rating\": 1}, {\"usefulCount\": 163, \"count\": 1, \"rating\": 1}, {\"usefulCount\": 143, \"count\": 1, \"rating\": 1}, {\"usefulCount\": 111, \"count\": 1, \"rating\": 1}, {\"usefulCount\": 127, \"count\": 1, \"rating\": 1}, {\"usefulCount\": 139, \"count\": 1, \"rating\": 1}, {\"usefulCount\": 99, \"count\": 1, \"rating\": 1}, {\"usefulCount\": 209, \"count\": 1, \"rating\": 1}, {\"usefulCount\": 470, \"count\": 1, \"rating\": 1}, {\"usefulCount\": 206, \"count\": 1, \"rating\": 1}, {\"usefulCount\": 80, \"count\": 1, \"rating\": 1}, {\"usefulCount\": 104, \"count\": 1, \"rating\": 1}, {\"usefulCount\": 144, \"count\": 1, \"rating\": 1}, {\"usefulCount\": 152, \"count\": 1, \"rating\": 1}, {\"usefulCount\": 184, \"count\": 1, \"rating\": 1}, {\"usefulCount\": 200, \"count\": 1, \"rating\": 1}, {\"usefulCount\": 97, \"count\": 1, \"rating\": 1}, {\"usefulCount\": 101, \"count\": 1, \"rating\": 1}, {\"usefulCount\": 113, \"count\": 1, \"rating\": 1}, {\"usefulCount\": 125, \"count\": 1, \"rating\": 1}, {\"usefulCount\": 137, \"count\": 1, \"rating\": 1}, {\"usefulCount\": 157, \"count\": 1, \"rating\": 1}, {\"usefulCount\": 165, \"count\": 1, \"rating\": 1}, {\"usefulCount\": 169, \"count\": 1, \"rating\": 1}, {\"usefulCount\": 110, \"count\": 1, \"rating\": 1}, {\"usefulCount\": 138, \"count\": 1, \"rating\": 1}, {\"usefulCount\": 146, \"count\": 1, \"rating\": 1}, {\"usefulCount\": 174, \"count\": 1, \"rating\": 1}, {\"usefulCount\": 186, \"count\": 1, \"rating\": 1}, {\"usefulCount\": 183, \"count\": 1, \"rating\": 1}, {\"usefulCount\": 1, \"count\": 162, \"rating\": 2}, {\"usefulCount\": 3, \"count\": 161, \"rating\": 2}, {\"usefulCount\": 2, \"count\": 147, \"rating\": 2}, {\"usefulCount\": 4, \"count\": 140, \"rating\": 2}, {\"usefulCount\": 5, \"count\": 126, \"rating\": 2}, {\"usefulCount\": 0, \"count\": 118, \"rating\": 2}, {\"usefulCount\": 7, \"count\": 109, \"rating\": 2}, {\"usefulCount\": 6, \"count\": 99, \"rating\": 2}, {\"usefulCount\": 8, \"count\": 76, \"rating\": 2}, {\"usefulCount\": 14, \"count\": 63, \"rating\": 2}, {\"usefulCount\": 9, \"count\": 62, \"rating\": 2}, {\"usefulCount\": 13, \"count\": 60, \"rating\": 2}, {\"usefulCount\": 10, \"count\": 55, \"rating\": 2}, {\"usefulCount\": 11, \"count\": 53, \"rating\": 2}, {\"usefulCount\": 15, \"count\": 49, \"rating\": 2}, {\"usefulCount\": 12, \"count\": 46, \"rating\": 2}, {\"usefulCount\": 16, \"count\": 42, \"rating\": 2}, {\"usefulCount\": 22, \"count\": 41, \"rating\": 2}, {\"usefulCount\": 18, \"count\": 38, \"rating\": 2}, {\"usefulCount\": 23, \"count\": 38, \"rating\": 2}, {\"usefulCount\": 20, \"count\": 37, \"rating\": 2}, {\"usefulCount\": 24, \"count\": 34, \"rating\": 2}, {\"usefulCount\": 17, \"count\": 34, \"rating\": 2}, {\"usefulCount\": 21, \"count\": 33, \"rating\": 2}, {\"usefulCount\": 19, \"count\": 31, \"rating\": 2}, {\"usefulCount\": 26, \"count\": 28, \"rating\": 2}, {\"usefulCount\": 27, \"count\": 26, \"rating\": 2}, {\"usefulCount\": 25, \"count\": 26, \"rating\": 2}, {\"usefulCount\": 28, \"count\": 22, \"rating\": 2}, {\"usefulCount\": 33, \"count\": 20, \"rating\": 2}, {\"usefulCount\": 35, \"count\": 19, \"rating\": 2}, {\"usefulCount\": 29, \"count\": 16, \"rating\": 2}, {\"usefulCount\": 32, \"count\": 15, \"rating\": 2}, {\"usefulCount\": 36, \"count\": 15, \"rating\": 2}, {\"usefulCount\": 30, \"count\": 15, \"rating\": 2}, {\"usefulCount\": 34, \"count\": 13, \"rating\": 2}, {\"usefulCount\": 47, \"count\": 12, \"rating\": 2}, {\"usefulCount\": 48, \"count\": 11, \"rating\": 2}, {\"usefulCount\": 38, \"count\": 11, \"rating\": 2}, {\"usefulCount\": 39, \"count\": 10, \"rating\": 2}, {\"usefulCount\": 49, \"count\": 10, \"rating\": 2}, {\"usefulCount\": 63, \"count\": 10, \"rating\": 2}, {\"usefulCount\": 51, \"count\": 9, \"rating\": 2}, {\"usefulCount\": 40, \"count\": 8, \"rating\": 2}, {\"usefulCount\": 53, \"count\": 8, \"rating\": 2}, {\"usefulCount\": 46, \"count\": 8, \"rating\": 2}, {\"usefulCount\": 31, \"count\": 8, \"rating\": 2}, {\"usefulCount\": 37, \"count\": 7, \"rating\": 2}, {\"usefulCount\": 50, \"count\": 6, \"rating\": 2}, {\"usefulCount\": 41, \"count\": 6, \"rating\": 2}, {\"usefulCount\": 45, \"count\": 6, \"rating\": 2}, {\"usefulCount\": 68, \"count\": 5, \"rating\": 2}, {\"usefulCount\": 42, \"count\": 5, \"rating\": 2}, {\"usefulCount\": 83, \"count\": 5, \"rating\": 2}, {\"usefulCount\": 56, \"count\": 5, \"rating\": 2}, {\"usefulCount\": 59, \"count\": 5, \"rating\": 2}, {\"usefulCount\": 55, \"count\": 4, \"rating\": 2}, {\"usefulCount\": 71, \"count\": 4, \"rating\": 2}, {\"usefulCount\": 44, \"count\": 4, \"rating\": 2}, {\"usefulCount\": 52, \"count\": 4, \"rating\": 2}, {\"usefulCount\": 92, \"count\": 4, \"rating\": 2}, {\"usefulCount\": 65, \"count\": 3, \"rating\": 2}, {\"usefulCount\": 54, \"count\": 3, \"rating\": 2}, {\"usefulCount\": 60, \"count\": 3, \"rating\": 2}, {\"usefulCount\": 43, \"count\": 3, \"rating\": 2}, {\"usefulCount\": 100, \"count\": 3, \"rating\": 2}, {\"usefulCount\": 82, \"count\": 3, \"rating\": 2}, {\"usefulCount\": 61, \"count\": 3, \"rating\": 2}, {\"usefulCount\": 67, \"count\": 2, \"rating\": 2}, {\"usefulCount\": 85, \"count\": 2, \"rating\": 2}, {\"usefulCount\": 69, \"count\": 2, \"rating\": 2}, {\"usefulCount\": 77, \"count\": 2, \"rating\": 2}, {\"usefulCount\": 72, \"count\": 2, \"rating\": 2}, {\"usefulCount\": 58, \"count\": 2, \"rating\": 2}, {\"usefulCount\": 62, \"count\": 2, \"rating\": 2}, {\"usefulCount\": 120, \"count\": 2, \"rating\": 2}, {\"usefulCount\": 109, \"count\": 2, \"rating\": 2}, {\"usefulCount\": 113, \"count\": 2, \"rating\": 2}, {\"usefulCount\": 66, \"count\": 2, \"rating\": 2}, {\"usefulCount\": 98, \"count\": 2, \"rating\": 2}, {\"usefulCount\": 88, \"count\": 2, \"rating\": 2}, {\"usefulCount\": 89, \"count\": 2, \"rating\": 2}, {\"usefulCount\": 141, \"count\": 2, \"rating\": 2}, {\"usefulCount\": 76, \"count\": 2, \"rating\": 2}, {\"usefulCount\": 70, \"count\": 2, \"rating\": 2}, {\"usefulCount\": 87, \"count\": 1, \"rating\": 2}, {\"usefulCount\": 193, \"count\": 1, \"rating\": 2}, {\"usefulCount\": 125, \"count\": 1, \"rating\": 2}, {\"usefulCount\": 155, \"count\": 1, \"rating\": 2}, {\"usefulCount\": 121, \"count\": 1, \"rating\": 2}, {\"usefulCount\": 81, \"count\": 1, \"rating\": 2}, {\"usefulCount\": 105, \"count\": 1, \"rating\": 2}, {\"usefulCount\": 103, \"count\": 1, \"rating\": 2}, {\"usefulCount\": 115, \"count\": 1, \"rating\": 2}, {\"usefulCount\": 292, \"count\": 1, \"rating\": 2}, {\"usefulCount\": 73, \"count\": 1, \"rating\": 2}, {\"usefulCount\": 57, \"count\": 1, \"rating\": 2}, {\"usefulCount\": 262, \"count\": 1, \"rating\": 2}, {\"usefulCount\": 190, \"count\": 1, \"rating\": 2}, {\"usefulCount\": 168, \"count\": 1, \"rating\": 2}, {\"usefulCount\": 150, \"count\": 1, \"rating\": 2}, {\"usefulCount\": 112, \"count\": 1, \"rating\": 2}, {\"usefulCount\": 110, \"count\": 1, \"rating\": 2}, {\"usefulCount\": 108, \"count\": 1, \"rating\": 2}, {\"usefulCount\": 102, \"count\": 1, \"rating\": 2}, {\"usefulCount\": 86, \"count\": 1, \"rating\": 2}, {\"usefulCount\": 84, \"count\": 1, \"rating\": 2}, {\"usefulCount\": 74, \"count\": 1, \"rating\": 2}, {\"usefulCount\": 64, \"count\": 1, \"rating\": 2}, {\"usefulCount\": 317, \"count\": 1, \"rating\": 2}, {\"usefulCount\": 0, \"count\": 143, \"rating\": 3}, {\"usefulCount\": 1, \"count\": 141, \"rating\": 3}, {\"usefulCount\": 4, \"count\": 130, \"rating\": 3}, {\"usefulCount\": 3, \"count\": 129, \"rating\": 3}, {\"usefulCount\": 2, \"count\": 128, \"rating\": 3}, {\"usefulCount\": 5, \"count\": 104, \"rating\": 3}, {\"usefulCount\": 7, \"count\": 102, \"rating\": 3}, {\"usefulCount\": 6, \"count\": 100, \"rating\": 3}, {\"usefulCount\": 9, \"count\": 78, \"rating\": 3}, {\"usefulCount\": 8, \"count\": 74, \"rating\": 3}, {\"usefulCount\": 11, \"count\": 67, \"rating\": 3}, {\"usefulCount\": 10, \"count\": 59, \"rating\": 3}, {\"usefulCount\": 13, \"count\": 56, \"rating\": 3}, {\"usefulCount\": 12, \"count\": 55, \"rating\": 3}, {\"usefulCount\": 15, \"count\": 51, \"rating\": 3}, {\"usefulCount\": 17, \"count\": 45, \"rating\": 3}, {\"usefulCount\": 14, \"count\": 45, \"rating\": 3}, {\"usefulCount\": 16, \"count\": 36, \"rating\": 3}, {\"usefulCount\": 18, \"count\": 34, \"rating\": 3}, {\"usefulCount\": 27, \"count\": 31, \"rating\": 3}, {\"usefulCount\": 19, \"count\": 28, \"rating\": 3}, {\"usefulCount\": 23, \"count\": 27, \"rating\": 3}, {\"usefulCount\": 21, \"count\": 27, \"rating\": 3}, {\"usefulCount\": 25, \"count\": 26, \"rating\": 3}, {\"usefulCount\": 20, \"count\": 25, \"rating\": 3}, {\"usefulCount\": 24, \"count\": 25, \"rating\": 3}, {\"usefulCount\": 22, \"count\": 23, \"rating\": 3}, {\"usefulCount\": 28, \"count\": 23, \"rating\": 3}, {\"usefulCount\": 26, \"count\": 20, \"rating\": 3}, {\"usefulCount\": 36, \"count\": 20, \"rating\": 3}, {\"usefulCount\": 43, \"count\": 17, \"rating\": 3}, {\"usefulCount\": 35, \"count\": 17, \"rating\": 3}, {\"usefulCount\": 29, \"count\": 16, \"rating\": 3}, {\"usefulCount\": 31, \"count\": 15, \"rating\": 3}, {\"usefulCount\": 30, \"count\": 14, \"rating\": 3}, {\"usefulCount\": 33, \"count\": 14, \"rating\": 3}, {\"usefulCount\": 34, \"count\": 13, \"rating\": 3}, {\"usefulCount\": 42, \"count\": 12, \"rating\": 3}, {\"usefulCount\": 47, \"count\": 11, \"rating\": 3}, {\"usefulCount\": 39, \"count\": 10, \"rating\": 3}, {\"usefulCount\": 37, \"count\": 9, \"rating\": 3}, {\"usefulCount\": 32, \"count\": 9, \"rating\": 3}, {\"usefulCount\": 54, \"count\": 8, \"rating\": 3}, {\"usefulCount\": 51, \"count\": 8, \"rating\": 3}, {\"usefulCount\": 67, \"count\": 8, \"rating\": 3}, {\"usefulCount\": 44, \"count\": 7, \"rating\": 3}, {\"usefulCount\": 40, \"count\": 7, \"rating\": 3}, {\"usefulCount\": 41, \"count\": 7, \"rating\": 3}, {\"usefulCount\": 38, \"count\": 7, \"rating\": 3}, {\"usefulCount\": 46, \"count\": 6, \"rating\": 3}, {\"usefulCount\": 59, \"count\": 5, \"rating\": 3}, {\"usefulCount\": 57, \"count\": 5, \"rating\": 3}, {\"usefulCount\": 48, \"count\": 5, \"rating\": 3}, {\"usefulCount\": 50, \"count\": 5, \"rating\": 3}, {\"usefulCount\": 66, \"count\": 5, \"rating\": 3}, {\"usefulCount\": 58, \"count\": 5, \"rating\": 3}, {\"usefulCount\": 56, \"count\": 5, \"rating\": 3}, {\"usefulCount\": 45, \"count\": 4, \"rating\": 3}, {\"usefulCount\": 75, \"count\": 4, \"rating\": 3}, {\"usefulCount\": 68, \"count\": 3, \"rating\": 3}, {\"usefulCount\": 64, \"count\": 3, \"rating\": 3}, {\"usefulCount\": 49, \"count\": 3, \"rating\": 3}, {\"usefulCount\": 86, \"count\": 3, \"rating\": 3}, {\"usefulCount\": 52, \"count\": 3, \"rating\": 3}, {\"usefulCount\": 55, \"count\": 3, \"rating\": 3}, {\"usefulCount\": 65, \"count\": 3, \"rating\": 3}, {\"usefulCount\": 73, \"count\": 3, \"rating\": 3}, {\"usefulCount\": 85, \"count\": 3, \"rating\": 3}, {\"usefulCount\": 89, \"count\": 3, \"rating\": 3}, {\"usefulCount\": 63, \"count\": 3, \"rating\": 3}, {\"usefulCount\": 61, \"count\": 2, \"rating\": 3}, {\"usefulCount\": 69, \"count\": 2, \"rating\": 3}, {\"usefulCount\": 71, \"count\": 2, \"rating\": 3}, {\"usefulCount\": 60, \"count\": 2, \"rating\": 3}, {\"usefulCount\": 53, \"count\": 2, \"rating\": 3}, {\"usefulCount\": 77, \"count\": 2, \"rating\": 3}, {\"usefulCount\": 204, \"count\": 2, \"rating\": 3}, {\"usefulCount\": 70, \"count\": 2, \"rating\": 3}, {\"usefulCount\": 104, \"count\": 2, \"rating\": 3}, {\"usefulCount\": 74, \"count\": 2, \"rating\": 3}, {\"usefulCount\": 76, \"count\": 2, \"rating\": 3}, {\"usefulCount\": 72, \"count\": 2, \"rating\": 3}, {\"usefulCount\": 97, \"count\": 1, \"rating\": 3}, {\"usefulCount\": 101, \"count\": 1, \"rating\": 3}, {\"usefulCount\": 103, \"count\": 1, \"rating\": 3}, {\"usefulCount\": 105, \"count\": 1, \"rating\": 3}, {\"usefulCount\": 113, \"count\": 1, \"rating\": 3}, {\"usefulCount\": 121, \"count\": 1, \"rating\": 3}, {\"usefulCount\": 115, \"count\": 1, \"rating\": 3}, {\"usefulCount\": 200, \"count\": 1, \"rating\": 3}, {\"usefulCount\": 125, \"count\": 1, \"rating\": 3}, {\"usefulCount\": 141, \"count\": 1, \"rating\": 3}, {\"usefulCount\": 151, \"count\": 1, \"rating\": 3}, {\"usefulCount\": 159, \"count\": 1, \"rating\": 3}, {\"usefulCount\": 163, \"count\": 1, \"rating\": 3}, {\"usefulCount\": 93, \"count\": 1, \"rating\": 3}, {\"usefulCount\": 152, \"count\": 1, \"rating\": 3}, {\"usefulCount\": 190, \"count\": 1, \"rating\": 3}, {\"usefulCount\": 81, \"count\": 1, \"rating\": 3}, {\"usefulCount\": 150, \"count\": 1, \"rating\": 3}, {\"usefulCount\": 142, \"count\": 1, \"rating\": 3}, {\"usefulCount\": 140, \"count\": 1, \"rating\": 3}, {\"usefulCount\": 128, \"count\": 1, \"rating\": 3}, {\"usefulCount\": 106, \"count\": 1, \"rating\": 3}, {\"usefulCount\": 96, \"count\": 1, \"rating\": 3}, {\"usefulCount\": 90, \"count\": 1, \"rating\": 3}, {\"usefulCount\": 88, \"count\": 1, \"rating\": 3}, {\"usefulCount\": 84, \"count\": 1, \"rating\": 3}, {\"usefulCount\": 308, \"count\": 1, \"rating\": 3}, {\"usefulCount\": 82, \"count\": 1, \"rating\": 3}, {\"usefulCount\": 62, \"count\": 1, \"rating\": 3}, {\"usefulCount\": 183, \"count\": 1, \"rating\": 3}, {\"usefulCount\": 3, \"count\": 110, \"rating\": 4}, {\"usefulCount\": 2, \"count\": 107, \"rating\": 4}, {\"usefulCount\": 0, \"count\": 106, \"rating\": 4}, {\"usefulCount\": 1, \"count\": 101, \"rating\": 4}, {\"usefulCount\": 5, \"count\": 85, \"rating\": 4}, {\"usefulCount\": 4, \"count\": 82, \"rating\": 4}, {\"usefulCount\": 6, \"count\": 77, \"rating\": 4}, {\"usefulCount\": 8, \"count\": 72, \"rating\": 4}, {\"usefulCount\": 7, \"count\": 65, \"rating\": 4}, {\"usefulCount\": 9, \"count\": 49, \"rating\": 4}, {\"usefulCount\": 10, \"count\": 46, \"rating\": 4}, {\"usefulCount\": 11, \"count\": 45, \"rating\": 4}, {\"usefulCount\": 12, \"count\": 37, \"rating\": 4}, {\"usefulCount\": 18, \"count\": 34, \"rating\": 4}, {\"usefulCount\": 14, \"count\": 34, \"rating\": 4}, {\"usefulCount\": 15, \"count\": 32, \"rating\": 4}, {\"usefulCount\": 17, \"count\": 31, \"rating\": 4}, {\"usefulCount\": 16, \"count\": 31, \"rating\": 4}, {\"usefulCount\": 27, \"count\": 29, \"rating\": 4}, {\"usefulCount\": 13, \"count\": 26, \"rating\": 4}, {\"usefulCount\": 23, \"count\": 26, \"rating\": 4}, {\"usefulCount\": 22, \"count\": 25, \"rating\": 4}, {\"usefulCount\": 20, \"count\": 24, \"rating\": 4}, {\"usefulCount\": 31, \"count\": 23, \"rating\": 4}, {\"usefulCount\": 21, \"count\": 21, \"rating\": 4}, {\"usefulCount\": 19, \"count\": 19, \"rating\": 4}, {\"usefulCount\": 33, \"count\": 14, \"rating\": 4}, {\"usefulCount\": 26, \"count\": 14, \"rating\": 4}, {\"usefulCount\": 28, \"count\": 13, \"rating\": 4}, {\"usefulCount\": 29, \"count\": 13, \"rating\": 4}, {\"usefulCount\": 24, \"count\": 13, \"rating\": 4}, {\"usefulCount\": 30, \"count\": 12, \"rating\": 4}, {\"usefulCount\": 34, \"count\": 12, \"rating\": 4}, {\"usefulCount\": 32, \"count\": 10, \"rating\": 4}, {\"usefulCount\": 35, \"count\": 10, \"rating\": 4}, {\"usefulCount\": 45, \"count\": 10, \"rating\": 4}, {\"usefulCount\": 37, \"count\": 9, \"rating\": 4}, {\"usefulCount\": 25, \"count\": 8, \"rating\": 4}, {\"usefulCount\": 44, \"count\": 8, \"rating\": 4}, {\"usefulCount\": 46, \"count\": 7, \"rating\": 4}, {\"usefulCount\": 40, \"count\": 7, \"rating\": 4}, {\"usefulCount\": 39, \"count\": 7, \"rating\": 4}, {\"usefulCount\": 43, \"count\": 6, \"rating\": 4}, {\"usefulCount\": 36, \"count\": 6, \"rating\": 4}, {\"usefulCount\": 65, \"count\": 6, \"rating\": 4}, {\"usefulCount\": 57, \"count\": 6, \"rating\": 4}, {\"usefulCount\": 81, \"count\": 5, \"rating\": 4}, {\"usefulCount\": 38, \"count\": 5, \"rating\": 4}, {\"usefulCount\": 48, \"count\": 5, \"rating\": 4}, {\"usefulCount\": 61, \"count\": 5, \"rating\": 4}, {\"usefulCount\": 90, \"count\": 4, \"rating\": 4}, {\"usefulCount\": 58, \"count\": 4, \"rating\": 4}, {\"usefulCount\": 51, \"count\": 4, \"rating\": 4}, {\"usefulCount\": 42, \"count\": 4, \"rating\": 4}, {\"usefulCount\": 41, \"count\": 4, \"rating\": 4}, {\"usefulCount\": 49, \"count\": 4, \"rating\": 4}, {\"usefulCount\": 47, \"count\": 4, \"rating\": 4}, {\"usefulCount\": 152, \"count\": 3, \"rating\": 4}, {\"usefulCount\": 59, \"count\": 3, \"rating\": 4}, {\"usefulCount\": 85, \"count\": 3, \"rating\": 4}, {\"usefulCount\": 70, \"count\": 3, \"rating\": 4}, {\"usefulCount\": 67, \"count\": 2, \"rating\": 4}, {\"usefulCount\": 186, \"count\": 2, \"rating\": 4}, {\"usefulCount\": 112, \"count\": 2, \"rating\": 4}, {\"usefulCount\": 54, \"count\": 2, \"rating\": 4}, {\"usefulCount\": 75, \"count\": 2, \"rating\": 4}, {\"usefulCount\": 68, \"count\": 2, \"rating\": 4}, {\"usefulCount\": 371, \"count\": 2, \"rating\": 4}, {\"usefulCount\": 66, \"count\": 2, \"rating\": 4}, {\"usefulCount\": 62, \"count\": 2, \"rating\": 4}, {\"usefulCount\": 55, \"count\": 2, \"rating\": 4}, {\"usefulCount\": 50, \"count\": 2, \"rating\": 4}, {\"usefulCount\": 56, \"count\": 2, \"rating\": 4}, {\"usefulCount\": 103, \"count\": 1, \"rating\": 4}, {\"usefulCount\": 52, \"count\": 1, \"rating\": 4}, {\"usefulCount\": 113, \"count\": 1, \"rating\": 4}, {\"usefulCount\": 118, \"count\": 1, \"rating\": 4}, {\"usefulCount\": 122, \"count\": 1, \"rating\": 4}, {\"usefulCount\": 125, \"count\": 1, \"rating\": 4}, {\"usefulCount\": 95, \"count\": 1, \"rating\": 4}, {\"usefulCount\": 129, \"count\": 1, \"rating\": 4}, {\"usefulCount\": 133, \"count\": 1, \"rating\": 4}, {\"usefulCount\": 158, \"count\": 1, \"rating\": 4}, {\"usefulCount\": 165, \"count\": 1, \"rating\": 4}, {\"usefulCount\": 184, \"count\": 1, \"rating\": 4}, {\"usefulCount\": 98, \"count\": 1, \"rating\": 4}, {\"usefulCount\": 91, \"count\": 1, \"rating\": 4}, {\"usefulCount\": 92, \"count\": 1, \"rating\": 4}, {\"usefulCount\": 69, \"count\": 1, \"rating\": 4}, {\"usefulCount\": 87, \"count\": 1, \"rating\": 4}, {\"usefulCount\": 60, \"count\": 1, \"rating\": 4}, {\"usefulCount\": 84, \"count\": 1, \"rating\": 4}, {\"usefulCount\": 83, \"count\": 1, \"rating\": 4}, {\"usefulCount\": 82, \"count\": 1, \"rating\": 4}, {\"usefulCount\": 80, \"count\": 1, \"rating\": 4}, {\"usefulCount\": 77, \"count\": 1, \"rating\": 4}, {\"usefulCount\": 76, \"count\": 1, \"rating\": 4}, {\"usefulCount\": 63, \"count\": 1, \"rating\": 4}, {\"usefulCount\": 73, \"count\": 1, \"rating\": 4}, {\"usefulCount\": 72, \"count\": 1, \"rating\": 4}, {\"usefulCount\": 71, \"count\": 1, \"rating\": 4}, {\"usefulCount\": 64, \"count\": 1, \"rating\": 4}, {\"usefulCount\": 53, \"count\": 1, \"rating\": 4}, {\"usefulCount\": 1, \"count\": 191, \"rating\": 5}, {\"usefulCount\": 0, \"count\": 186, \"rating\": 5}, {\"usefulCount\": 2, \"count\": 153, \"rating\": 5}, {\"usefulCount\": 3, \"count\": 146, \"rating\": 5}, {\"usefulCount\": 4, \"count\": 141, \"rating\": 5}, {\"usefulCount\": 5, \"count\": 129, \"rating\": 5}, {\"usefulCount\": 6, \"count\": 122, \"rating\": 5}, {\"usefulCount\": 7, \"count\": 114, \"rating\": 5}, {\"usefulCount\": 10, \"count\": 101, \"rating\": 5}, {\"usefulCount\": 8, \"count\": 95, \"rating\": 5}, {\"usefulCount\": 9, \"count\": 78, \"rating\": 5}, {\"usefulCount\": 12, \"count\": 75, \"rating\": 5}, {\"usefulCount\": 15, \"count\": 65, \"rating\": 5}, {\"usefulCount\": 14, \"count\": 63, \"rating\": 5}, {\"usefulCount\": 11, \"count\": 58, \"rating\": 5}, {\"usefulCount\": 16, \"count\": 58, \"rating\": 5}, {\"usefulCount\": 19, \"count\": 57, \"rating\": 5}, {\"usefulCount\": 13, \"count\": 56, \"rating\": 5}, {\"usefulCount\": 27, \"count\": 41, \"rating\": 5}, {\"usefulCount\": 22, \"count\": 41, \"rating\": 5}, {\"usefulCount\": 17, \"count\": 38, \"rating\": 5}, {\"usefulCount\": 24, \"count\": 37, \"rating\": 5}, {\"usefulCount\": 18, \"count\": 36, \"rating\": 5}, {\"usefulCount\": 23, \"count\": 33, \"rating\": 5}, {\"usefulCount\": 28, \"count\": 30, \"rating\": 5}, {\"usefulCount\": 20, \"count\": 30, \"rating\": 5}, {\"usefulCount\": 21, \"count\": 28, \"rating\": 5}, {\"usefulCount\": 26, \"count\": 24, \"rating\": 5}, {\"usefulCount\": 38, \"count\": 23, \"rating\": 5}, {\"usefulCount\": 33, \"count\": 23, \"rating\": 5}, {\"usefulCount\": 36, \"count\": 21, \"rating\": 5}, {\"usefulCount\": 41, \"count\": 20, \"rating\": 5}, {\"usefulCount\": 25, \"count\": 20, \"rating\": 5}, {\"usefulCount\": 39, \"count\": 17, \"rating\": 5}, {\"usefulCount\": 46, \"count\": 17, \"rating\": 5}, {\"usefulCount\": 29, \"count\": 16, \"rating\": 5}, {\"usefulCount\": 34, \"count\": 15, \"rating\": 5}, {\"usefulCount\": 31, \"count\": 13, \"rating\": 5}, {\"usefulCount\": 35, \"count\": 13, \"rating\": 5}, {\"usefulCount\": 47, \"count\": 11, \"rating\": 5}, {\"usefulCount\": 37, \"count\": 11, \"rating\": 5}, {\"usefulCount\": 32, \"count\": 10, \"rating\": 5}, {\"usefulCount\": 43, \"count\": 10, \"rating\": 5}, {\"usefulCount\": 30, \"count\": 9, \"rating\": 5}, {\"usefulCount\": 42, \"count\": 9, \"rating\": 5}, {\"usefulCount\": 44, \"count\": 9, \"rating\": 5}, {\"usefulCount\": 61, \"count\": 9, \"rating\": 5}, {\"usefulCount\": 40, \"count\": 8, \"rating\": 5}, {\"usefulCount\": 45, \"count\": 7, \"rating\": 5}, {\"usefulCount\": 64, \"count\": 7, \"rating\": 5}, {\"usefulCount\": 48, \"count\": 7, \"rating\": 5}, {\"usefulCount\": 77, \"count\": 7, \"rating\": 5}, {\"usefulCount\": 58, \"count\": 6, \"rating\": 5}, {\"usefulCount\": 53, \"count\": 6, \"rating\": 5}, {\"usefulCount\": 62, \"count\": 5, \"rating\": 5}, {\"usefulCount\": 63, \"count\": 5, \"rating\": 5}, {\"usefulCount\": 85, \"count\": 5, \"rating\": 5}, {\"usefulCount\": 56, \"count\": 5, \"rating\": 5}, {\"usefulCount\": 54, \"count\": 5, \"rating\": 5}, {\"usefulCount\": 59, \"count\": 5, \"rating\": 5}, {\"usefulCount\": 57, \"count\": 5, \"rating\": 5}, {\"usefulCount\": 73, \"count\": 5, \"rating\": 5}, {\"usefulCount\": 55, \"count\": 5, \"rating\": 5}, {\"usefulCount\": 66, \"count\": 5, \"rating\": 5}, {\"usefulCount\": 51, \"count\": 4, \"rating\": 5}, {\"usefulCount\": 65, \"count\": 4, \"rating\": 5}, {\"usefulCount\": 71, \"count\": 4, \"rating\": 5}, {\"usefulCount\": 50, \"count\": 4, \"rating\": 5}, {\"usefulCount\": 52, \"count\": 4, \"rating\": 5}, {\"usefulCount\": 80, \"count\": 4, \"rating\": 5}, {\"usefulCount\": 69, \"count\": 3, \"rating\": 5}, {\"usefulCount\": 101, \"count\": 3, \"rating\": 5}, {\"usefulCount\": 78, \"count\": 3, \"rating\": 5}, {\"usefulCount\": 79, \"count\": 3, \"rating\": 5}, {\"usefulCount\": 72, \"count\": 3, \"rating\": 5}, {\"usefulCount\": 83, \"count\": 3, \"rating\": 5}, {\"usefulCount\": 70, \"count\": 3, \"rating\": 5}, {\"usefulCount\": 86, \"count\": 2, \"rating\": 5}, {\"usefulCount\": 88, \"count\": 2, \"rating\": 5}, {\"usefulCount\": 98, \"count\": 2, \"rating\": 5}, {\"usefulCount\": 90, \"count\": 2, \"rating\": 5}, {\"usefulCount\": 74, \"count\": 2, \"rating\": 5}, {\"usefulCount\": 102, \"count\": 2, \"rating\": 5}, {\"usefulCount\": 68, \"count\": 2, \"rating\": 5}, {\"usefulCount\": 103, \"count\": 2, \"rating\": 5}, {\"usefulCount\": 76, \"count\": 2, \"rating\": 5}, {\"usefulCount\": 193, \"count\": 1, \"rating\": 5}, {\"usefulCount\": 81, \"count\": 1, \"rating\": 5}, {\"usefulCount\": 191, \"count\": 1, \"rating\": 5}, {\"usefulCount\": 165, \"count\": 1, \"rating\": 5}, {\"usefulCount\": 115, \"count\": 1, \"rating\": 5}, {\"usefulCount\": 111, \"count\": 1, \"rating\": 5}, {\"usefulCount\": 107, \"count\": 1, \"rating\": 5}, {\"usefulCount\": 105, \"count\": 1, \"rating\": 5}, {\"usefulCount\": 99, \"count\": 1, \"rating\": 5}, {\"usefulCount\": 141, \"count\": 1, \"rating\": 5}, {\"usefulCount\": 142, \"count\": 1, \"rating\": 5}, {\"usefulCount\": 67, \"count\": 1, \"rating\": 5}, {\"usefulCount\": 110, \"count\": 1, \"rating\": 5}, {\"usefulCount\": 60, \"count\": 1, \"rating\": 5}, {\"usefulCount\": 82, \"count\": 1, \"rating\": 5}, {\"usefulCount\": 92, \"count\": 1, \"rating\": 5}, {\"usefulCount\": 104, \"count\": 1, \"rating\": 5}, {\"usefulCount\": 106, \"count\": 1, \"rating\": 5}, {\"usefulCount\": 108, \"count\": 1, \"rating\": 5}, {\"usefulCount\": 114, \"count\": 1, \"rating\": 5}, {\"usefulCount\": 49, \"count\": 1, \"rating\": 5}, {\"usefulCount\": 118, \"count\": 1, \"rating\": 5}, {\"usefulCount\": 120, \"count\": 1, \"rating\": 5}, {\"usefulCount\": 126, \"count\": 1, \"rating\": 5}, {\"usefulCount\": 136, \"count\": 1, \"rating\": 5}, {\"usefulCount\": 228, \"count\": 1, \"rating\": 5}, {\"usefulCount\": 246, \"count\": 1, \"rating\": 5}, {\"usefulCount\": 283, \"count\": 1, \"rating\": 5}, {\"usefulCount\": 4, \"count\": 118, \"rating\": 6}, {\"usefulCount\": 0, \"count\": 115, \"rating\": 6}, {\"usefulCount\": 1, \"count\": 115, \"rating\": 6}, {\"usefulCount\": 2, \"count\": 107, \"rating\": 6}, {\"usefulCount\": 3, \"count\": 94, \"rating\": 6}, {\"usefulCount\": 5, \"count\": 75, \"rating\": 6}, {\"usefulCount\": 6, \"count\": 71, \"rating\": 6}, {\"usefulCount\": 7, \"count\": 69, \"rating\": 6}, {\"usefulCount\": 11, \"count\": 66, \"rating\": 6}, {\"usefulCount\": 8, \"count\": 66, \"rating\": 6}, {\"usefulCount\": 13, \"count\": 59, \"rating\": 6}, {\"usefulCount\": 9, \"count\": 59, \"rating\": 6}, {\"usefulCount\": 12, \"count\": 57, \"rating\": 6}, {\"usefulCount\": 10, \"count\": 51, \"rating\": 6}, {\"usefulCount\": 15, \"count\": 51, \"rating\": 6}, {\"usefulCount\": 14, \"count\": 44, \"rating\": 6}, {\"usefulCount\": 18, \"count\": 43, \"rating\": 6}, {\"usefulCount\": 16, \"count\": 42, \"rating\": 6}, {\"usefulCount\": 19, \"count\": 38, \"rating\": 6}, {\"usefulCount\": 21, \"count\": 38, \"rating\": 6}, {\"usefulCount\": 17, \"count\": 37, \"rating\": 6}, {\"usefulCount\": 26, \"count\": 34, \"rating\": 6}, {\"usefulCount\": 22, \"count\": 32, \"rating\": 6}, {\"usefulCount\": 20, \"count\": 28, \"rating\": 6}, {\"usefulCount\": 30, \"count\": 27, \"rating\": 6}, {\"usefulCount\": 25, \"count\": 25, \"rating\": 6}, {\"usefulCount\": 23, \"count\": 25, \"rating\": 6}, {\"usefulCount\": 33, \"count\": 24, \"rating\": 6}, {\"usefulCount\": 32, \"count\": 24, \"rating\": 6}, {\"usefulCount\": 24, \"count\": 22, \"rating\": 6}, {\"usefulCount\": 29, \"count\": 21, \"rating\": 6}, {\"usefulCount\": 27, \"count\": 20, \"rating\": 6}, {\"usefulCount\": 28, \"count\": 17, \"rating\": 6}, {\"usefulCount\": 38, \"count\": 17, \"rating\": 6}, {\"usefulCount\": 43, \"count\": 16, \"rating\": 6}, {\"usefulCount\": 37, \"count\": 16, \"rating\": 6}, {\"usefulCount\": 40, \"count\": 16, \"rating\": 6}, {\"usefulCount\": 31, \"count\": 15, \"rating\": 6}, {\"usefulCount\": 44, \"count\": 14, \"rating\": 6}, {\"usefulCount\": 35, \"count\": 13, \"rating\": 6}, {\"usefulCount\": 59, \"count\": 12, \"rating\": 6}, {\"usefulCount\": 34, \"count\": 11, \"rating\": 6}, {\"usefulCount\": 51, \"count\": 10, \"rating\": 6}, {\"usefulCount\": 45, \"count\": 10, \"rating\": 6}, {\"usefulCount\": 39, \"count\": 9, \"rating\": 6}, {\"usefulCount\": 49, \"count\": 9, \"rating\": 6}, {\"usefulCount\": 55, \"count\": 9, \"rating\": 6}, {\"usefulCount\": 72, \"count\": 9, \"rating\": 6}, {\"usefulCount\": 58, \"count\": 9, \"rating\": 6}, {\"usefulCount\": 62, \"count\": 8, \"rating\": 6}, {\"usefulCount\": 56, \"count\": 8, \"rating\": 6}, {\"usefulCount\": 36, \"count\": 8, \"rating\": 6}, {\"usefulCount\": 41, \"count\": 7, \"rating\": 6}, {\"usefulCount\": 52, \"count\": 7, \"rating\": 6}, {\"usefulCount\": 42, \"count\": 7, \"rating\": 6}, {\"usefulCount\": 46, \"count\": 6, \"rating\": 6}, {\"usefulCount\": 48, \"count\": 6, \"rating\": 6}, {\"usefulCount\": 69, \"count\": 6, \"rating\": 6}, {\"usefulCount\": 50, \"count\": 6, \"rating\": 6}, {\"usefulCount\": 57, \"count\": 5, \"rating\": 6}, {\"usefulCount\": 47, \"count\": 5, \"rating\": 6}, {\"usefulCount\": 105, \"count\": 5, \"rating\": 6}, {\"usefulCount\": 74, \"count\": 4, \"rating\": 6}, {\"usefulCount\": 67, \"count\": 4, \"rating\": 6}, {\"usefulCount\": 102, \"count\": 4, \"rating\": 6}, {\"usefulCount\": 75, \"count\": 4, \"rating\": 6}, {\"usefulCount\": 88, \"count\": 3, \"rating\": 6}, {\"usefulCount\": 54, \"count\": 3, \"rating\": 6}, {\"usefulCount\": 53, \"count\": 3, \"rating\": 6}, {\"usefulCount\": 66, \"count\": 3, \"rating\": 6}, {\"usefulCount\": 60, \"count\": 3, \"rating\": 6}, {\"usefulCount\": 81, \"count\": 3, \"rating\": 6}, {\"usefulCount\": 61, \"count\": 3, \"rating\": 6}, {\"usefulCount\": 70, \"count\": 3, \"rating\": 6}, {\"usefulCount\": 113, \"count\": 3, \"rating\": 6}, {\"usefulCount\": 97, \"count\": 3, \"rating\": 6}, {\"usefulCount\": 65, \"count\": 3, \"rating\": 6}, {\"usefulCount\": 87, \"count\": 3, \"rating\": 6}, {\"usefulCount\": 121, \"count\": 2, \"rating\": 6}, {\"usefulCount\": 115, \"count\": 2, \"rating\": 6}, {\"usefulCount\": 79, \"count\": 2, \"rating\": 6}, {\"usefulCount\": 63, \"count\": 2, \"rating\": 6}, {\"usefulCount\": 77, \"count\": 2, \"rating\": 6}, {\"usefulCount\": 71, \"count\": 2, \"rating\": 6}, {\"usefulCount\": 149, \"count\": 2, \"rating\": 6}, {\"usefulCount\": 141, \"count\": 2, \"rating\": 6}, {\"usefulCount\": 131, \"count\": 2, \"rating\": 6}, {\"usefulCount\": 80, \"count\": 2, \"rating\": 6}, {\"usefulCount\": 108, \"count\": 2, \"rating\": 6}, {\"usefulCount\": 68, \"count\": 2, \"rating\": 6}, {\"usefulCount\": 64, \"count\": 2, \"rating\": 6}, {\"usefulCount\": 118, \"count\": 2, \"rating\": 6}, {\"usefulCount\": 98, \"count\": 2, \"rating\": 6}, {\"usefulCount\": 104, \"count\": 2, \"rating\": 6}, {\"usefulCount\": 125, \"count\": 1, \"rating\": 6}, {\"usefulCount\": 117, \"count\": 1, \"rating\": 6}, {\"usefulCount\": 123, \"count\": 1, \"rating\": 6}, {\"usefulCount\": 86, \"count\": 1, \"rating\": 6}, {\"usefulCount\": 127, \"count\": 1, \"rating\": 6}, {\"usefulCount\": 114, \"count\": 1, \"rating\": 6}, {\"usefulCount\": 139, \"count\": 1, \"rating\": 6}, {\"usefulCount\": 143, \"count\": 1, \"rating\": 6}, {\"usefulCount\": 92, \"count\": 1, \"rating\": 6}, {\"usefulCount\": 185, \"count\": 1, \"rating\": 6}, {\"usefulCount\": 100, \"count\": 1, \"rating\": 6}, {\"usefulCount\": 116, \"count\": 1, \"rating\": 6}, {\"usefulCount\": 107, \"count\": 1, \"rating\": 6}, {\"usefulCount\": 101, \"count\": 1, \"rating\": 6}, {\"usefulCount\": 89, \"count\": 1, \"rating\": 6}, {\"usefulCount\": 120, \"count\": 1, \"rating\": 6}, {\"usefulCount\": 85, \"count\": 1, \"rating\": 6}, {\"usefulCount\": 83, \"count\": 1, \"rating\": 6}, {\"usefulCount\": 122, \"count\": 1, \"rating\": 6}, {\"usefulCount\": 124, \"count\": 1, \"rating\": 6}, {\"usefulCount\": 128, \"count\": 1, \"rating\": 6}, {\"usefulCount\": 132, \"count\": 1, \"rating\": 6}, {\"usefulCount\": 146, \"count\": 1, \"rating\": 6}, {\"usefulCount\": 76, \"count\": 1, \"rating\": 6}, {\"usefulCount\": 203, \"count\": 1, \"rating\": 6}, {\"usefulCount\": 2, \"count\": 162, \"rating\": 7}, {\"usefulCount\": 3, \"count\": 150, \"rating\": 7}, {\"usefulCount\": 0, \"count\": 146, \"rating\": 7}, {\"usefulCount\": 5, \"count\": 124, \"rating\": 7}, {\"usefulCount\": 4, \"count\": 119, \"rating\": 7}, {\"usefulCount\": 1, \"count\": 111, \"rating\": 7}, {\"usefulCount\": 8, \"count\": 106, \"rating\": 7}, {\"usefulCount\": 6, \"count\": 102, \"rating\": 7}, {\"usefulCount\": 10, \"count\": 90, \"rating\": 7}, {\"usefulCount\": 12, \"count\": 90, \"rating\": 7}, {\"usefulCount\": 9, \"count\": 87, \"rating\": 7}, {\"usefulCount\": 7, \"count\": 87, \"rating\": 7}, {\"usefulCount\": 14, \"count\": 73, \"rating\": 7}, {\"usefulCount\": 11, \"count\": 72, \"rating\": 7}, {\"usefulCount\": 16, \"count\": 64, \"rating\": 7}, {\"usefulCount\": 21, \"count\": 58, \"rating\": 7}, {\"usefulCount\": 15, \"count\": 57, \"rating\": 7}, {\"usefulCount\": 19, \"count\": 56, \"rating\": 7}, {\"usefulCount\": 22, \"count\": 53, \"rating\": 7}, {\"usefulCount\": 18, \"count\": 52, \"rating\": 7}, {\"usefulCount\": 13, \"count\": 49, \"rating\": 7}, {\"usefulCount\": 24, \"count\": 48, \"rating\": 7}, {\"usefulCount\": 25, \"count\": 44, \"rating\": 7}, {\"usefulCount\": 23, \"count\": 42, \"rating\": 7}, {\"usefulCount\": 17, \"count\": 42, \"rating\": 7}, {\"usefulCount\": 33, \"count\": 39, \"rating\": 7}, {\"usefulCount\": 32, \"count\": 37, \"rating\": 7}, {\"usefulCount\": 20, \"count\": 37, \"rating\": 7}, {\"usefulCount\": 28, \"count\": 36, \"rating\": 7}, {\"usefulCount\": 29, \"count\": 35, \"rating\": 7}, {\"usefulCount\": 26, \"count\": 35, \"rating\": 7}, {\"usefulCount\": 31, \"count\": 34, \"rating\": 7}, {\"usefulCount\": 35, \"count\": 32, \"rating\": 7}, {\"usefulCount\": 34, \"count\": 31, \"rating\": 7}, {\"usefulCount\": 30, \"count\": 30, \"rating\": 7}, {\"usefulCount\": 27, \"count\": 28, \"rating\": 7}, {\"usefulCount\": 39, \"count\": 27, \"rating\": 7}, {\"usefulCount\": 37, \"count\": 27, \"rating\": 7}, {\"usefulCount\": 36, \"count\": 23, \"rating\": 7}, {\"usefulCount\": 44, \"count\": 20, \"rating\": 7}, {\"usefulCount\": 42, \"count\": 20, \"rating\": 7}, {\"usefulCount\": 40, \"count\": 20, \"rating\": 7}, {\"usefulCount\": 38, \"count\": 18, \"rating\": 7}, {\"usefulCount\": 48, \"count\": 18, \"rating\": 7}, {\"usefulCount\": 59, \"count\": 15, \"rating\": 7}, {\"usefulCount\": 46, \"count\": 15, \"rating\": 7}, {\"usefulCount\": 50, \"count\": 15, \"rating\": 7}, {\"usefulCount\": 49, \"count\": 14, \"rating\": 7}, {\"usefulCount\": 41, \"count\": 13, \"rating\": 7}, {\"usefulCount\": 45, \"count\": 12, \"rating\": 7}, {\"usefulCount\": 62, \"count\": 12, \"rating\": 7}, {\"usefulCount\": 52, \"count\": 12, \"rating\": 7}, {\"usefulCount\": 63, \"count\": 11, \"rating\": 7}, {\"usefulCount\": 56, \"count\": 11, \"rating\": 7}, {\"usefulCount\": 60, \"count\": 10, \"rating\": 7}, {\"usefulCount\": 43, \"count\": 10, \"rating\": 7}, {\"usefulCount\": 55, \"count\": 10, \"rating\": 7}, {\"usefulCount\": 61, \"count\": 9, \"rating\": 7}, {\"usefulCount\": 58, \"count\": 9, \"rating\": 7}, {\"usefulCount\": 75, \"count\": 8, \"rating\": 7}, {\"usefulCount\": 51, \"count\": 8, \"rating\": 7}, {\"usefulCount\": 70, \"count\": 8, \"rating\": 7}, {\"usefulCount\": 79, \"count\": 7, \"rating\": 7}, {\"usefulCount\": 47, \"count\": 7, \"rating\": 7}, {\"usefulCount\": 72, \"count\": 7, \"rating\": 7}, {\"usefulCount\": 64, \"count\": 7, \"rating\": 7}, {\"usefulCount\": 57, \"count\": 7, \"rating\": 7}, {\"usefulCount\": 106, \"count\": 6, \"rating\": 7}, {\"usefulCount\": 54, \"count\": 6, \"rating\": 7}, {\"usefulCount\": 53, \"count\": 6, \"rating\": 7}, {\"usefulCount\": 67, \"count\": 6, \"rating\": 7}, {\"usefulCount\": 73, \"count\": 6, \"rating\": 7}, {\"usefulCount\": 84, \"count\": 6, \"rating\": 7}, {\"usefulCount\": 77, \"count\": 5, \"rating\": 7}, {\"usefulCount\": 66, \"count\": 5, \"rating\": 7}, {\"usefulCount\": 65, \"count\": 5, \"rating\": 7}, {\"usefulCount\": 74, \"count\": 5, \"rating\": 7}, {\"usefulCount\": 80, \"count\": 5, \"rating\": 7}, {\"usefulCount\": 81, \"count\": 5, \"rating\": 7}, {\"usefulCount\": 120, \"count\": 5, \"rating\": 7}, {\"usefulCount\": 105, \"count\": 5, \"rating\": 7}, {\"usefulCount\": 85, \"count\": 4, \"rating\": 7}, {\"usefulCount\": 99, \"count\": 4, \"rating\": 7}, {\"usefulCount\": 91, \"count\": 4, \"rating\": 7}, {\"usefulCount\": 88, \"count\": 4, \"rating\": 7}, {\"usefulCount\": 69, \"count\": 4, \"rating\": 7}, {\"usefulCount\": 68, \"count\": 4, \"rating\": 7}, {\"usefulCount\": 76, \"count\": 4, \"rating\": 7}, {\"usefulCount\": 103, \"count\": 4, \"rating\": 7}, {\"usefulCount\": 96, \"count\": 4, \"rating\": 7}, {\"usefulCount\": 153, \"count\": 3, \"rating\": 7}, {\"usefulCount\": 131, \"count\": 3, \"rating\": 7}, {\"usefulCount\": 117, \"count\": 3, \"rating\": 7}, {\"usefulCount\": 115, \"count\": 3, \"rating\": 7}, {\"usefulCount\": 97, \"count\": 3, \"rating\": 7}, {\"usefulCount\": 112, \"count\": 3, \"rating\": 7}, {\"usefulCount\": 78, \"count\": 3, \"rating\": 7}, {\"usefulCount\": 108, \"count\": 3, \"rating\": 7}, {\"usefulCount\": 104, \"count\": 3, \"rating\": 7}, {\"usefulCount\": 102, \"count\": 3, \"rating\": 7}, {\"usefulCount\": 86, \"count\": 3, \"rating\": 7}, {\"usefulCount\": 100, \"count\": 3, \"rating\": 7}, {\"usefulCount\": 95, \"count\": 2, \"rating\": 7}, {\"usefulCount\": 109, \"count\": 2, \"rating\": 7}, {\"usefulCount\": 129, \"count\": 2, \"rating\": 7}, {\"usefulCount\": 151, \"count\": 2, \"rating\": 7}, {\"usefulCount\": 93, \"count\": 2, \"rating\": 7}, {\"usefulCount\": 71, \"count\": 2, \"rating\": 7}, {\"usefulCount\": 233, \"count\": 2, \"rating\": 7}, {\"usefulCount\": 134, \"count\": 2, \"rating\": 7}, {\"usefulCount\": 90, \"count\": 2, \"rating\": 7}, {\"usefulCount\": 82, \"count\": 2, \"rating\": 7}, {\"usefulCount\": 94, \"count\": 2, \"rating\": 7}, {\"usefulCount\": 116, \"count\": 2, \"rating\": 7}, {\"usefulCount\": 133, \"count\": 1, \"rating\": 7}, {\"usefulCount\": 135, \"count\": 1, \"rating\": 7}, {\"usefulCount\": 137, \"count\": 1, \"rating\": 7}, {\"usefulCount\": 145, \"count\": 1, \"rating\": 7}, {\"usefulCount\": 147, \"count\": 1, \"rating\": 7}, {\"usefulCount\": 149, \"count\": 1, \"rating\": 7}, {\"usefulCount\": 155, \"count\": 1, \"rating\": 7}, {\"usefulCount\": 132, \"count\": 1, \"rating\": 7}, {\"usefulCount\": 142, \"count\": 1, \"rating\": 7}, {\"usefulCount\": 157, \"count\": 1, \"rating\": 7}, {\"usefulCount\": 167, \"count\": 1, \"rating\": 7}, {\"usefulCount\": 175, \"count\": 1, \"rating\": 7}, {\"usefulCount\": 177, \"count\": 1, \"rating\": 7}, {\"usefulCount\": 191, \"count\": 1, \"rating\": 7}, {\"usefulCount\": 193, \"count\": 1, \"rating\": 7}, {\"usefulCount\": 140, \"count\": 1, \"rating\": 7}, {\"usefulCount\": 124, \"count\": 1, \"rating\": 7}, {\"usefulCount\": 127, \"count\": 1, \"rating\": 7}, {\"usefulCount\": 125, \"count\": 1, \"rating\": 7}, {\"usefulCount\": 87, \"count\": 1, \"rating\": 7}, {\"usefulCount\": 89, \"count\": 1, \"rating\": 7}, {\"usefulCount\": 98, \"count\": 1, \"rating\": 7}, {\"usefulCount\": 110, \"count\": 1, \"rating\": 7}, {\"usefulCount\": 114, \"count\": 1, \"rating\": 7}, {\"usefulCount\": 101, \"count\": 1, \"rating\": 7}, {\"usefulCount\": 118, \"count\": 1, \"rating\": 7}, {\"usefulCount\": 220, \"count\": 1, \"rating\": 7}, {\"usefulCount\": 107, \"count\": 1, \"rating\": 7}, {\"usefulCount\": 186, \"count\": 1, \"rating\": 7}, {\"usefulCount\": 111, \"count\": 1, \"rating\": 7}, {\"usefulCount\": 113, \"count\": 1, \"rating\": 7}, {\"usefulCount\": 148, \"count\": 1, \"rating\": 7}, {\"usefulCount\": 144, \"count\": 1, \"rating\": 7}, {\"usefulCount\": 121, \"count\": 1, \"rating\": 7}, {\"usefulCount\": 123, \"count\": 1, \"rating\": 7}, {\"usefulCount\": 1, \"count\": 231, \"rating\": 8}, {\"usefulCount\": 0, \"count\": 217, \"rating\": 8}, {\"usefulCount\": 2, \"count\": 213, \"rating\": 8}, {\"usefulCount\": 4, \"count\": 199, \"rating\": 8}, {\"usefulCount\": 6, \"count\": 181, \"rating\": 8}, {\"usefulCount\": 7, \"count\": 179, \"rating\": 8}, {\"usefulCount\": 8, \"count\": 178, \"rating\": 8}, {\"usefulCount\": 3, \"count\": 178, \"rating\": 8}, {\"usefulCount\": 5, \"count\": 173, \"rating\": 8}, {\"usefulCount\": 9, \"count\": 169, \"rating\": 8}, {\"usefulCount\": 13, \"count\": 142, \"rating\": 8}, {\"usefulCount\": 12, \"count\": 140, \"rating\": 8}, {\"usefulCount\": 17, \"count\": 135, \"rating\": 8}, {\"usefulCount\": 11, \"count\": 134, \"rating\": 8}, {\"usefulCount\": 10, \"count\": 124, \"rating\": 8}, {\"usefulCount\": 14, \"count\": 120, \"rating\": 8}, {\"usefulCount\": 15, \"count\": 118, \"rating\": 8}, {\"usefulCount\": 16, \"count\": 111, \"rating\": 8}, {\"usefulCount\": 21, \"count\": 104, \"rating\": 8}, {\"usefulCount\": 20, \"count\": 99, \"rating\": 8}, {\"usefulCount\": 27, \"count\": 99, \"rating\": 8}, {\"usefulCount\": 19, \"count\": 95, \"rating\": 8}, {\"usefulCount\": 23, \"count\": 94, \"rating\": 8}, {\"usefulCount\": 18, \"count\": 93, \"rating\": 8}, {\"usefulCount\": 22, \"count\": 89, \"rating\": 8}, {\"usefulCount\": 25, \"count\": 88, \"rating\": 8}, {\"usefulCount\": 26, \"count\": 82, \"rating\": 8}, {\"usefulCount\": 28, \"count\": 78, \"rating\": 8}, {\"usefulCount\": 32, \"count\": 76, \"rating\": 8}, {\"usefulCount\": 24, \"count\": 74, \"rating\": 8}, {\"usefulCount\": 29, \"count\": 68, \"rating\": 8}, {\"usefulCount\": 33, \"count\": 66, \"rating\": 8}, {\"usefulCount\": 31, \"count\": 62, \"rating\": 8}, {\"usefulCount\": 30, \"count\": 61, \"rating\": 8}, {\"usefulCount\": 38, \"count\": 55, \"rating\": 8}, {\"usefulCount\": 36, \"count\": 55, \"rating\": 8}, {\"usefulCount\": 49, \"count\": 53, \"rating\": 8}, {\"usefulCount\": 42, \"count\": 52, \"rating\": 8}, {\"usefulCount\": 34, \"count\": 51, \"rating\": 8}, {\"usefulCount\": 43, \"count\": 51, \"rating\": 8}, {\"usefulCount\": 37, \"count\": 49, \"rating\": 8}, {\"usefulCount\": 35, \"count\": 49, \"rating\": 8}, {\"usefulCount\": 39, \"count\": 49, \"rating\": 8}, {\"usefulCount\": 41, \"count\": 47, \"rating\": 8}, {\"usefulCount\": 40, \"count\": 44, \"rating\": 8}, {\"usefulCount\": 47, \"count\": 40, \"rating\": 8}, {\"usefulCount\": 51, \"count\": 38, \"rating\": 8}, {\"usefulCount\": 52, \"count\": 36, \"rating\": 8}, {\"usefulCount\": 50, \"count\": 35, \"rating\": 8}, {\"usefulCount\": 59, \"count\": 34, \"rating\": 8}, {\"usefulCount\": 53, \"count\": 34, \"rating\": 8}, {\"usefulCount\": 45, \"count\": 34, \"rating\": 8}, {\"usefulCount\": 55, \"count\": 31, \"rating\": 8}, {\"usefulCount\": 44, \"count\": 30, \"rating\": 8}, {\"usefulCount\": 46, \"count\": 30, \"rating\": 8}, {\"usefulCount\": 48, \"count\": 29, \"rating\": 8}, {\"usefulCount\": 62, \"count\": 27, \"rating\": 8}, {\"usefulCount\": 61, \"count\": 26, \"rating\": 8}, {\"usefulCount\": 54, \"count\": 26, \"rating\": 8}, {\"usefulCount\": 56, \"count\": 24, \"rating\": 8}, {\"usefulCount\": 70, \"count\": 23, \"rating\": 8}, {\"usefulCount\": 58, \"count\": 23, \"rating\": 8}, {\"usefulCount\": 69, \"count\": 23, \"rating\": 8}, {\"usefulCount\": 77, \"count\": 21, \"rating\": 8}, {\"usefulCount\": 72, \"count\": 21, \"rating\": 8}, {\"usefulCount\": 81, \"count\": 20, \"rating\": 8}, {\"usefulCount\": 65, \"count\": 19, \"rating\": 8}, {\"usefulCount\": 68, \"count\": 19, \"rating\": 8}, {\"usefulCount\": 74, \"count\": 18, \"rating\": 8}, {\"usefulCount\": 64, \"count\": 18, \"rating\": 8}, {\"usefulCount\": 71, \"count\": 18, \"rating\": 8}, {\"usefulCount\": 80, \"count\": 16, \"rating\": 8}, {\"usefulCount\": 83, \"count\": 16, \"rating\": 8}, {\"usefulCount\": 57, \"count\": 16, \"rating\": 8}, {\"usefulCount\": 73, \"count\": 16, \"rating\": 8}, {\"usefulCount\": 63, \"count\": 14, \"rating\": 8}, {\"usefulCount\": 67, \"count\": 14, \"rating\": 8}, {\"usefulCount\": 75, \"count\": 14, \"rating\": 8}, {\"usefulCount\": 60, \"count\": 13, \"rating\": 8}, {\"usefulCount\": 105, \"count\": 12, \"rating\": 8}, {\"usefulCount\": 102, \"count\": 12, \"rating\": 8}, {\"usefulCount\": 78, \"count\": 11, \"rating\": 8}, {\"usefulCount\": 79, \"count\": 11, \"rating\": 8}, {\"usefulCount\": 117, \"count\": 11, \"rating\": 8}, {\"usefulCount\": 86, \"count\": 11, \"rating\": 8}, {\"usefulCount\": 91, \"count\": 10, \"rating\": 8}, {\"usefulCount\": 95, \"count\": 10, \"rating\": 8}, {\"usefulCount\": 99, \"count\": 10, \"rating\": 8}, {\"usefulCount\": 104, \"count\": 10, \"rating\": 8}, {\"usefulCount\": 85, \"count\": 10, \"rating\": 8}, {\"usefulCount\": 93, \"count\": 10, \"rating\": 8}, {\"usefulCount\": 82, \"count\": 10, \"rating\": 8}, {\"usefulCount\": 84, \"count\": 9, \"rating\": 8}, {\"usefulCount\": 94, \"count\": 9, \"rating\": 8}, {\"usefulCount\": 92, \"count\": 9, \"rating\": 8}, {\"usefulCount\": 88, \"count\": 9, \"rating\": 8}, {\"usefulCount\": 109, \"count\": 9, \"rating\": 8}, {\"usefulCount\": 76, \"count\": 9, \"rating\": 8}, {\"usefulCount\": 89, \"count\": 9, \"rating\": 8}, {\"usefulCount\": 111, \"count\": 8, \"rating\": 8}, {\"usefulCount\": 113, \"count\": 8, \"rating\": 8}, {\"usefulCount\": 101, \"count\": 8, \"rating\": 8}, {\"usefulCount\": 97, \"count\": 8, \"rating\": 8}, {\"usefulCount\": 107, \"count\": 8, \"rating\": 8}, {\"usefulCount\": 98, \"count\": 8, \"rating\": 8}, {\"usefulCount\": 66, \"count\": 8, \"rating\": 8}, {\"usefulCount\": 90, \"count\": 7, \"rating\": 8}, {\"usefulCount\": 96, \"count\": 7, \"rating\": 8}, {\"usefulCount\": 123, \"count\": 7, \"rating\": 8}, {\"usefulCount\": 131, \"count\": 6, \"rating\": 8}, {\"usefulCount\": 87, \"count\": 6, \"rating\": 8}, {\"usefulCount\": 126, \"count\": 6, \"rating\": 8}, {\"usefulCount\": 142, \"count\": 6, \"rating\": 8}, {\"usefulCount\": 106, \"count\": 5, \"rating\": 8}, {\"usefulCount\": 110, \"count\": 5, \"rating\": 8}, {\"usefulCount\": 114, \"count\": 5, \"rating\": 8}, {\"usefulCount\": 119, \"count\": 5, \"rating\": 8}, {\"usefulCount\": 121, \"count\": 5, \"rating\": 8}, {\"usefulCount\": 139, \"count\": 5, \"rating\": 8}, {\"usefulCount\": 127, \"count\": 5, \"rating\": 8}, {\"usefulCount\": 168, \"count\": 5, \"rating\": 8}, {\"usefulCount\": 155, \"count\": 4, \"rating\": 8}, {\"usefulCount\": 100, \"count\": 4, \"rating\": 8}, {\"usefulCount\": 135, \"count\": 4, \"rating\": 8}, {\"usefulCount\": 187, \"count\": 4, \"rating\": 8}, {\"usefulCount\": 116, \"count\": 4, \"rating\": 8}, {\"usefulCount\": 124, \"count\": 4, \"rating\": 8}, {\"usefulCount\": 128, \"count\": 4, \"rating\": 8}, {\"usefulCount\": 118, \"count\": 4, \"rating\": 8}, {\"usefulCount\": 138, \"count\": 3, \"rating\": 8}, {\"usefulCount\": 210, \"count\": 3, \"rating\": 8}, {\"usefulCount\": 108, \"count\": 3, \"rating\": 8}, {\"usefulCount\": 120, \"count\": 3, \"rating\": 8}, {\"usefulCount\": 144, \"count\": 3, \"rating\": 8}, {\"usefulCount\": 213, \"count\": 3, \"rating\": 8}, {\"usefulCount\": 151, \"count\": 3, \"rating\": 8}, {\"usefulCount\": 163, \"count\": 3, \"rating\": 8}, {\"usefulCount\": 145, \"count\": 3, \"rating\": 8}, {\"usefulCount\": 125, \"count\": 3, \"rating\": 8}, {\"usefulCount\": 192, \"count\": 3, \"rating\": 8}, {\"usefulCount\": 368, \"count\": 2, \"rating\": 8}, {\"usefulCount\": 137, \"count\": 2, \"rating\": 8}, {\"usefulCount\": 186, \"count\": 2, \"rating\": 8}, {\"usefulCount\": 253, \"count\": 2, \"rating\": 8}, {\"usefulCount\": 228, \"count\": 2, \"rating\": 8}, {\"usefulCount\": 216, \"count\": 2, \"rating\": 8}, {\"usefulCount\": 212, \"count\": 2, \"rating\": 8}, {\"usefulCount\": 143, \"count\": 2, \"rating\": 8}, {\"usefulCount\": 178, \"count\": 2, \"rating\": 8}, {\"usefulCount\": 205, \"count\": 2, \"rating\": 8}, {\"usefulCount\": 115, \"count\": 2, \"rating\": 8}, {\"usefulCount\": 148, \"count\": 2, \"rating\": 8}, {\"usefulCount\": 136, \"count\": 2, \"rating\": 8}, {\"usefulCount\": 132, \"count\": 2, \"rating\": 8}, {\"usefulCount\": 280, \"count\": 2, \"rating\": 8}, {\"usefulCount\": 199, \"count\": 1, \"rating\": 8}, {\"usefulCount\": 147, \"count\": 1, \"rating\": 8}, {\"usefulCount\": 183, \"count\": 1, \"rating\": 8}, {\"usefulCount\": 103, \"count\": 1, \"rating\": 8}, {\"usefulCount\": 175, \"count\": 1, \"rating\": 8}, {\"usefulCount\": 167, \"count\": 1, \"rating\": 8}, {\"usefulCount\": 211, \"count\": 1, \"rating\": 8}, {\"usefulCount\": 285, \"count\": 1, \"rating\": 8}, {\"usefulCount\": 282, \"count\": 1, \"rating\": 8}, {\"usefulCount\": 266, \"count\": 1, \"rating\": 8}, {\"usefulCount\": 112, \"count\": 1, \"rating\": 8}, {\"usefulCount\": 156, \"count\": 1, \"rating\": 8}, {\"usefulCount\": 172, \"count\": 1, \"rating\": 8}, {\"usefulCount\": 196, \"count\": 1, \"rating\": 8}, {\"usefulCount\": 236, \"count\": 1, \"rating\": 8}, {\"usefulCount\": 248, \"count\": 1, \"rating\": 8}, {\"usefulCount\": 149, \"count\": 1, \"rating\": 8}, {\"usefulCount\": 153, \"count\": 1, \"rating\": 8}, {\"usefulCount\": 157, \"count\": 1, \"rating\": 8}, {\"usefulCount\": 161, \"count\": 1, \"rating\": 8}, {\"usefulCount\": 165, \"count\": 1, \"rating\": 8}, {\"usefulCount\": 177, \"count\": 1, \"rating\": 8}, {\"usefulCount\": 181, \"count\": 1, \"rating\": 8}, {\"usefulCount\": 185, \"count\": 1, \"rating\": 8}, {\"usefulCount\": 221, \"count\": 1, \"rating\": 8}, {\"usefulCount\": 237, \"count\": 1, \"rating\": 8}, {\"usefulCount\": 269, \"count\": 1, \"rating\": 8}, {\"usefulCount\": 289, \"count\": 1, \"rating\": 8}, {\"usefulCount\": 122, \"count\": 1, \"rating\": 8}, {\"usefulCount\": 130, \"count\": 1, \"rating\": 8}, {\"usefulCount\": 134, \"count\": 1, \"rating\": 8}, {\"usefulCount\": 158, \"count\": 1, \"rating\": 8}, {\"usefulCount\": 162, \"count\": 1, \"rating\": 8}, {\"usefulCount\": 166, \"count\": 1, \"rating\": 8}, {\"usefulCount\": 182, \"count\": 1, \"rating\": 8}, {\"usefulCount\": 194, \"count\": 1, \"rating\": 8}, {\"usefulCount\": 222, \"count\": 1, \"rating\": 8}, {\"usefulCount\": 226, \"count\": 1, \"rating\": 8}, {\"usefulCount\": 246, \"count\": 1, \"rating\": 8}, {\"usefulCount\": 239, \"count\": 1, \"rating\": 8}, {\"usefulCount\": 5, \"count\": 283, \"rating\": 9}, {\"usefulCount\": 4, \"count\": 282, \"rating\": 9}, {\"usefulCount\": 2, \"count\": 252, \"rating\": 9}, {\"usefulCount\": 8, \"count\": 250, \"rating\": 9}, {\"usefulCount\": 3, \"count\": 246, \"rating\": 9}, {\"usefulCount\": 1, \"count\": 245, \"rating\": 9}, {\"usefulCount\": 9, \"count\": 245, \"rating\": 9}, {\"usefulCount\": 7, \"count\": 234, \"rating\": 9}, {\"usefulCount\": 6, \"count\": 234, \"rating\": 9}, {\"usefulCount\": 0, \"count\": 230, \"rating\": 9}, {\"usefulCount\": 13, \"count\": 222, \"rating\": 9}, {\"usefulCount\": 12, \"count\": 209, \"rating\": 9}, {\"usefulCount\": 11, \"count\": 195, \"rating\": 9}, {\"usefulCount\": 14, \"count\": 193, \"rating\": 9}, {\"usefulCount\": 10, \"count\": 187, \"rating\": 9}, {\"usefulCount\": 16, \"count\": 166, \"rating\": 9}, {\"usefulCount\": 17, \"count\": 164, \"rating\": 9}, {\"usefulCount\": 15, \"count\": 153, \"rating\": 9}, {\"usefulCount\": 22, \"count\": 152, \"rating\": 9}, {\"usefulCount\": 19, \"count\": 152, \"rating\": 9}, {\"usefulCount\": 24, \"count\": 149, \"rating\": 9}, {\"usefulCount\": 18, \"count\": 143, \"rating\": 9}, {\"usefulCount\": 20, \"count\": 133, \"rating\": 9}, {\"usefulCount\": 21, \"count\": 125, \"rating\": 9}, {\"usefulCount\": 23, \"count\": 121, \"rating\": 9}, {\"usefulCount\": 28, \"count\": 114, \"rating\": 9}, {\"usefulCount\": 25, \"count\": 110, \"rating\": 9}, {\"usefulCount\": 27, \"count\": 109, \"rating\": 9}, {\"usefulCount\": 33, \"count\": 101, \"rating\": 9}, {\"usefulCount\": 29, \"count\": 101, \"rating\": 9}, {\"usefulCount\": 30, \"count\": 100, \"rating\": 9}, {\"usefulCount\": 26, \"count\": 98, \"rating\": 9}, {\"usefulCount\": 37, \"count\": 95, \"rating\": 9}, {\"usefulCount\": 31, \"count\": 91, \"rating\": 9}, {\"usefulCount\": 40, \"count\": 89, \"rating\": 9}, {\"usefulCount\": 34, \"count\": 88, \"rating\": 9}, {\"usefulCount\": 39, \"count\": 88, \"rating\": 9}, {\"usefulCount\": 38, \"count\": 86, \"rating\": 9}, {\"usefulCount\": 35, \"count\": 86, \"rating\": 9}, {\"usefulCount\": 43, \"count\": 85, \"rating\": 9}, {\"usefulCount\": 32, \"count\": 85, \"rating\": 9}, {\"usefulCount\": 42, \"count\": 76, \"rating\": 9}, {\"usefulCount\": 45, \"count\": 75, \"rating\": 9}, {\"usefulCount\": 36, \"count\": 71, \"rating\": 9}, {\"usefulCount\": 44, \"count\": 65, \"rating\": 9}, {\"usefulCount\": 46, \"count\": 63, \"rating\": 9}, {\"usefulCount\": 47, \"count\": 62, \"rating\": 9}, {\"usefulCount\": 41, \"count\": 60, \"rating\": 9}, {\"usefulCount\": 48, \"count\": 60, \"rating\": 9}, {\"usefulCount\": 53, \"count\": 59, \"rating\": 9}, {\"usefulCount\": 51, \"count\": 57, \"rating\": 9}, {\"usefulCount\": 55, \"count\": 57, \"rating\": 9}, {\"usefulCount\": 50, \"count\": 55, \"rating\": 9}, {\"usefulCount\": 52, \"count\": 53, \"rating\": 9}, {\"usefulCount\": 64, \"count\": 52, \"rating\": 9}, {\"usefulCount\": 59, \"count\": 47, \"rating\": 9}, {\"usefulCount\": 49, \"count\": 47, \"rating\": 9}, {\"usefulCount\": 58, \"count\": 46, \"rating\": 9}, {\"usefulCount\": 57, \"count\": 45, \"rating\": 9}, {\"usefulCount\": 62, \"count\": 39, \"rating\": 9}, {\"usefulCount\": 56, \"count\": 38, \"rating\": 9}, {\"usefulCount\": 72, \"count\": 37, \"rating\": 9}, {\"usefulCount\": 63, \"count\": 37, \"rating\": 9}, {\"usefulCount\": 69, \"count\": 37, \"rating\": 9}, {\"usefulCount\": 61, \"count\": 36, \"rating\": 9}, {\"usefulCount\": 54, \"count\": 36, \"rating\": 9}, {\"usefulCount\": 73, \"count\": 34, \"rating\": 9}, {\"usefulCount\": 70, \"count\": 34, \"rating\": 9}, {\"usefulCount\": 60, \"count\": 33, \"rating\": 9}, {\"usefulCount\": 68, \"count\": 33, \"rating\": 9}, {\"usefulCount\": 66, \"count\": 33, \"rating\": 9}, {\"usefulCount\": 65, \"count\": 32, \"rating\": 9}, {\"usefulCount\": 67, \"count\": 31, \"rating\": 9}, {\"usefulCount\": 79, \"count\": 31, \"rating\": 9}, {\"usefulCount\": 80, \"count\": 31, \"rating\": 9}, {\"usefulCount\": 76, \"count\": 29, \"rating\": 9}, {\"usefulCount\": 74, \"count\": 28, \"rating\": 9}, {\"usefulCount\": 75, \"count\": 27, \"rating\": 9}, {\"usefulCount\": 88, \"count\": 25, \"rating\": 9}, {\"usefulCount\": 77, \"count\": 24, \"rating\": 9}, {\"usefulCount\": 71, \"count\": 24, \"rating\": 9}, {\"usefulCount\": 78, \"count\": 23, \"rating\": 9}, {\"usefulCount\": 84, \"count\": 22, \"rating\": 9}, {\"usefulCount\": 83, \"count\": 20, \"rating\": 9}, {\"usefulCount\": 95, \"count\": 20, \"rating\": 9}, {\"usefulCount\": 93, \"count\": 18, \"rating\": 9}, {\"usefulCount\": 85, \"count\": 18, \"rating\": 9}, {\"usefulCount\": 86, \"count\": 18, \"rating\": 9}, {\"usefulCount\": 81, \"count\": 17, \"rating\": 9}, {\"usefulCount\": 113, \"count\": 17, \"rating\": 9}, {\"usefulCount\": 105, \"count\": 17, \"rating\": 9}, {\"usefulCount\": 101, \"count\": 17, \"rating\": 9}, {\"usefulCount\": 89, \"count\": 16, \"rating\": 9}, {\"usefulCount\": 87, \"count\": 16, \"rating\": 9}, {\"usefulCount\": 82, \"count\": 16, \"rating\": 9}, {\"usefulCount\": 109, \"count\": 16, \"rating\": 9}, {\"usefulCount\": 116, \"count\": 15, \"rating\": 9}, {\"usefulCount\": 90, \"count\": 14, \"rating\": 9}, {\"usefulCount\": 94, \"count\": 14, \"rating\": 9}, {\"usefulCount\": 130, \"count\": 14, \"rating\": 9}, {\"usefulCount\": 92, \"count\": 14, \"rating\": 9}, {\"usefulCount\": 106, \"count\": 13, \"rating\": 9}, {\"usefulCount\": 91, \"count\": 13, \"rating\": 9}, {\"usefulCount\": 110, \"count\": 13, \"rating\": 9}, {\"usefulCount\": 102, \"count\": 13, \"rating\": 9}, {\"usefulCount\": 104, \"count\": 12, \"rating\": 9}, {\"usefulCount\": 97, \"count\": 12, \"rating\": 9}, {\"usefulCount\": 103, \"count\": 11, \"rating\": 9}, {\"usefulCount\": 124, \"count\": 11, \"rating\": 9}, {\"usefulCount\": 111, \"count\": 10, \"rating\": 9}, {\"usefulCount\": 107, \"count\": 10, \"rating\": 9}, {\"usefulCount\": 156, \"count\": 10, \"rating\": 9}, {\"usefulCount\": 134, \"count\": 9, \"rating\": 9}, {\"usefulCount\": 118, \"count\": 9, \"rating\": 9}, {\"usefulCount\": 98, \"count\": 9, \"rating\": 9}, {\"usefulCount\": 99, \"count\": 9, \"rating\": 9}, {\"usefulCount\": 112, \"count\": 9, \"rating\": 9}, {\"usefulCount\": 122, \"count\": 9, \"rating\": 9}, {\"usefulCount\": 117, \"count\": 8, \"rating\": 9}, {\"usefulCount\": 129, \"count\": 8, \"rating\": 9}, {\"usefulCount\": 96, \"count\": 8, \"rating\": 9}, {\"usefulCount\": 114, \"count\": 8, \"rating\": 9}, {\"usefulCount\": 152, \"count\": 8, \"rating\": 9}, {\"usefulCount\": 126, \"count\": 8, \"rating\": 9}, {\"usefulCount\": 133, \"count\": 7, \"rating\": 9}, {\"usefulCount\": 119, \"count\": 7, \"rating\": 9}, {\"usefulCount\": 135, \"count\": 7, \"rating\": 9}, {\"usefulCount\": 159, \"count\": 7, \"rating\": 9}, {\"usefulCount\": 108, \"count\": 6, \"rating\": 9}, {\"usefulCount\": 100, \"count\": 6, \"rating\": 9}, {\"usefulCount\": 157, \"count\": 6, \"rating\": 9}, {\"usefulCount\": 132, \"count\": 6, \"rating\": 9}, {\"usefulCount\": 163, \"count\": 6, \"rating\": 9}, {\"usefulCount\": 154, \"count\": 6, \"rating\": 9}, {\"usefulCount\": 125, \"count\": 6, \"rating\": 9}, {\"usefulCount\": 120, \"count\": 5, \"rating\": 9}, {\"usefulCount\": 127, \"count\": 5, \"rating\": 9}, {\"usefulCount\": 182, \"count\": 5, \"rating\": 9}, {\"usefulCount\": 160, \"count\": 5, \"rating\": 9}, {\"usefulCount\": 144, \"count\": 5, \"rating\": 9}, {\"usefulCount\": 172, \"count\": 5, \"rating\": 9}, {\"usefulCount\": 169, \"count\": 4, \"rating\": 9}, {\"usefulCount\": 139, \"count\": 4, \"rating\": 9}, {\"usefulCount\": 223, \"count\": 4, \"rating\": 9}, {\"usefulCount\": 143, \"count\": 4, \"rating\": 9}, {\"usefulCount\": 138, \"count\": 4, \"rating\": 9}, {\"usefulCount\": 190, \"count\": 4, \"rating\": 9}, {\"usefulCount\": 128, \"count\": 4, \"rating\": 9}, {\"usefulCount\": 140, \"count\": 4, \"rating\": 9}, {\"usefulCount\": 164, \"count\": 3, \"rating\": 9}, {\"usefulCount\": 247, \"count\": 3, \"rating\": 9}, {\"usefulCount\": 186, \"count\": 3, \"rating\": 9}, {\"usefulCount\": 175, \"count\": 3, \"rating\": 9}, {\"usefulCount\": 167, \"count\": 3, \"rating\": 9}, {\"usefulCount\": 193, \"count\": 3, \"rating\": 9}, {\"usefulCount\": 216, \"count\": 3, \"rating\": 9}, {\"usefulCount\": 115, \"count\": 3, \"rating\": 9}, {\"usefulCount\": 184, \"count\": 3, \"rating\": 9}, {\"usefulCount\": 203, \"count\": 3, \"rating\": 9}, {\"usefulCount\": 179, \"count\": 3, \"rating\": 9}, {\"usefulCount\": 136, \"count\": 3, \"rating\": 9}, {\"usefulCount\": 149, \"count\": 3, \"rating\": 9}, {\"usefulCount\": 158, \"count\": 3, \"rating\": 9}, {\"usefulCount\": 165, \"count\": 3, \"rating\": 9}, {\"usefulCount\": 161, \"count\": 3, \"rating\": 9}, {\"usefulCount\": 204, \"count\": 3, \"rating\": 9}, {\"usefulCount\": 145, \"count\": 3, \"rating\": 9}, {\"usefulCount\": 188, \"count\": 3, \"rating\": 9}, {\"usefulCount\": 121, \"count\": 3, \"rating\": 9}, {\"usefulCount\": 146, \"count\": 3, \"rating\": 9}, {\"usefulCount\": 269, \"count\": 2, \"rating\": 9}, {\"usefulCount\": 176, \"count\": 2, \"rating\": 9}, {\"usefulCount\": 168, \"count\": 2, \"rating\": 9}, {\"usefulCount\": 174, \"count\": 2, \"rating\": 9}, {\"usefulCount\": 213, \"count\": 2, \"rating\": 9}, {\"usefulCount\": 229, \"count\": 2, \"rating\": 9}, {\"usefulCount\": 695, \"count\": 2, \"rating\": 9}, {\"usefulCount\": 275, \"count\": 2, \"rating\": 9}, {\"usefulCount\": 196, \"count\": 2, \"rating\": 9}, {\"usefulCount\": 137, \"count\": 2, \"rating\": 9}, {\"usefulCount\": 291, \"count\": 2, \"rating\": 9}, {\"usefulCount\": 209, \"count\": 2, \"rating\": 9}, {\"usefulCount\": 226, \"count\": 2, \"rating\": 9}, {\"usefulCount\": 201, \"count\": 2, \"rating\": 9}, {\"usefulCount\": 123, \"count\": 2, \"rating\": 9}, {\"usefulCount\": 202, \"count\": 2, \"rating\": 9}, {\"usefulCount\": 194, \"count\": 2, \"rating\": 9}, {\"usefulCount\": 185, \"count\": 2, \"rating\": 9}, {\"usefulCount\": 178, \"count\": 2, \"rating\": 9}, {\"usefulCount\": 131, \"count\": 2, \"rating\": 9}, {\"usefulCount\": 170, \"count\": 2, \"rating\": 9}, {\"usefulCount\": 147, \"count\": 2, \"rating\": 9}, {\"usefulCount\": 155, \"count\": 2, \"rating\": 9}, {\"usefulCount\": 141, \"count\": 2, \"rating\": 9}, {\"usefulCount\": 173, \"count\": 2, \"rating\": 9}, {\"usefulCount\": 180, \"count\": 2, \"rating\": 9}, {\"usefulCount\": 211, \"count\": 1, \"rating\": 9}, {\"usefulCount\": 219, \"count\": 1, \"rating\": 9}, {\"usefulCount\": 305, \"count\": 1, \"rating\": 9}, {\"usefulCount\": 235, \"count\": 1, \"rating\": 9}, {\"usefulCount\": 197, \"count\": 1, \"rating\": 9}, {\"usefulCount\": 513, \"count\": 1, \"rating\": 9}, {\"usefulCount\": 585, \"count\": 1, \"rating\": 9}, {\"usefulCount\": 266, \"count\": 1, \"rating\": 9}, {\"usefulCount\": 234, \"count\": 1, \"rating\": 9}, {\"usefulCount\": 151, \"count\": 1, \"rating\": 9}, {\"usefulCount\": 218, \"count\": 1, \"rating\": 9}, {\"usefulCount\": 191, \"count\": 1, \"rating\": 9}, {\"usefulCount\": 239, \"count\": 1, \"rating\": 9}, {\"usefulCount\": 255, \"count\": 1, \"rating\": 9}, {\"usefulCount\": 295, \"count\": 1, \"rating\": 9}, {\"usefulCount\": 303, \"count\": 1, \"rating\": 9}, {\"usefulCount\": 359, \"count\": 1, \"rating\": 9}, {\"usefulCount\": 559, \"count\": 1, \"rating\": 9}, {\"usefulCount\": 250, \"count\": 1, \"rating\": 9}, {\"usefulCount\": 262, \"count\": 1, \"rating\": 9}, {\"usefulCount\": 286, \"count\": 1, \"rating\": 9}, {\"usefulCount\": 644, \"count\": 1, \"rating\": 9}, {\"usefulCount\": 221, \"count\": 1, \"rating\": 9}, {\"usefulCount\": 245, \"count\": 1, \"rating\": 9}, {\"usefulCount\": 253, \"count\": 1, \"rating\": 9}, {\"usefulCount\": 389, \"count\": 1, \"rating\": 9}, {\"usefulCount\": 949, \"count\": 1, \"rating\": 9}, {\"usefulCount\": 272, \"count\": 1, \"rating\": 9}, {\"usefulCount\": 264, \"count\": 1, \"rating\": 9}, {\"usefulCount\": 256, \"count\": 1, \"rating\": 9}, {\"usefulCount\": 248, \"count\": 1, \"rating\": 9}, {\"usefulCount\": 296, \"count\": 1, \"rating\": 9}, {\"usefulCount\": 192, \"count\": 1, \"rating\": 9}, {\"usefulCount\": 440, \"count\": 1, \"rating\": 9}, {\"usefulCount\": 448, \"count\": 1, \"rating\": 9}, {\"usefulCount\": 316, \"count\": 1, \"rating\": 9}, {\"usefulCount\": 270, \"count\": 1, \"rating\": 9}, {\"usefulCount\": 268, \"count\": 1, \"rating\": 9}, {\"usefulCount\": 252, \"count\": 1, \"rating\": 9}, {\"usefulCount\": 236, \"count\": 1, \"rating\": 9}, {\"usefulCount\": 220, \"count\": 1, \"rating\": 9}, {\"usefulCount\": 142, \"count\": 1, \"rating\": 9}, {\"usefulCount\": 150, \"count\": 1, \"rating\": 9}, {\"usefulCount\": 177, \"count\": 1, \"rating\": 9}, {\"usefulCount\": 166, \"count\": 1, \"rating\": 9}, {\"usefulCount\": 315, \"count\": 1, \"rating\": 9}, {\"usefulCount\": 299, \"count\": 1, \"rating\": 9}, {\"usefulCount\": 198, \"count\": 1, \"rating\": 9}, {\"usefulCount\": 230, \"count\": 1, \"rating\": 9}, {\"usefulCount\": 189, \"count\": 1, \"rating\": 9}, {\"usefulCount\": 312, \"count\": 1, \"rating\": 9}, {\"usefulCount\": 3, \"count\": 491, \"rating\": 10}, {\"usefulCount\": 5, \"count\": 474, \"rating\": 10}, {\"usefulCount\": 6, \"count\": 446, \"rating\": 10}, {\"usefulCount\": 4, \"count\": 413, \"rating\": 10}, {\"usefulCount\": 10, \"count\": 410, \"rating\": 10}, {\"usefulCount\": 0, \"count\": 408, \"rating\": 10}, {\"usefulCount\": 9, \"count\": 408, \"rating\": 10}, {\"usefulCount\": 7, \"count\": 399, \"rating\": 10}, {\"usefulCount\": 2, \"count\": 385, \"rating\": 10}, {\"usefulCount\": 12, \"count\": 375, \"rating\": 10}, {\"usefulCount\": 1, \"count\": 373, \"rating\": 10}, {\"usefulCount\": 8, \"count\": 373, \"rating\": 10}, {\"usefulCount\": 11, \"count\": 366, \"rating\": 10}, {\"usefulCount\": 13, \"count\": 364, \"rating\": 10}, {\"usefulCount\": 16, \"count\": 318, \"rating\": 10}, {\"usefulCount\": 15, \"count\": 307, \"rating\": 10}, {\"usefulCount\": 14, \"count\": 295, \"rating\": 10}, {\"usefulCount\": 18, \"count\": 289, \"rating\": 10}, {\"usefulCount\": 17, \"count\": 284, \"rating\": 10}, {\"usefulCount\": 19, \"count\": 277, \"rating\": 10}, {\"usefulCount\": 20, \"count\": 264, \"rating\": 10}, {\"usefulCount\": 21, \"count\": 262, \"rating\": 10}, {\"usefulCount\": 22, \"count\": 256, \"rating\": 10}, {\"usefulCount\": 23, \"count\": 250, \"rating\": 10}, {\"usefulCount\": 26, \"count\": 238, \"rating\": 10}, {\"usefulCount\": 25, \"count\": 223, \"rating\": 10}, {\"usefulCount\": 28, \"count\": 216, \"rating\": 10}, {\"usefulCount\": 24, \"count\": 215, \"rating\": 10}, {\"usefulCount\": 27, \"count\": 201, \"rating\": 10}, {\"usefulCount\": 34, \"count\": 200, \"rating\": 10}, {\"usefulCount\": 29, \"count\": 192, \"rating\": 10}, {\"usefulCount\": 32, \"count\": 186, \"rating\": 10}, {\"usefulCount\": 31, \"count\": 182, \"rating\": 10}, {\"usefulCount\": 33, \"count\": 176, \"rating\": 10}, {\"usefulCount\": 30, \"count\": 172, \"rating\": 10}, {\"usefulCount\": 35, \"count\": 163, \"rating\": 10}, {\"usefulCount\": 38, \"count\": 157, \"rating\": 10}, {\"usefulCount\": 36, \"count\": 156, \"rating\": 10}, {\"usefulCount\": 37, \"count\": 154, \"rating\": 10}, {\"usefulCount\": 41, \"count\": 151, \"rating\": 10}, {\"usefulCount\": 46, \"count\": 137, \"rating\": 10}, {\"usefulCount\": 42, \"count\": 137, \"rating\": 10}, {\"usefulCount\": 43, \"count\": 136, \"rating\": 10}, {\"usefulCount\": 45, \"count\": 135, \"rating\": 10}, {\"usefulCount\": 40, \"count\": 129, \"rating\": 10}, {\"usefulCount\": 39, \"count\": 129, \"rating\": 10}, {\"usefulCount\": 44, \"count\": 123, \"rating\": 10}, {\"usefulCount\": 55, \"count\": 116, \"rating\": 10}, {\"usefulCount\": 47, \"count\": 114, \"rating\": 10}, {\"usefulCount\": 54, \"count\": 112, \"rating\": 10}, {\"usefulCount\": 50, \"count\": 106, \"rating\": 10}, {\"usefulCount\": 48, \"count\": 104, \"rating\": 10}, {\"usefulCount\": 61, \"count\": 95, \"rating\": 10}, {\"usefulCount\": 53, \"count\": 93, \"rating\": 10}, {\"usefulCount\": 49, \"count\": 91, \"rating\": 10}, {\"usefulCount\": 51, \"count\": 90, \"rating\": 10}, {\"usefulCount\": 62, \"count\": 85, \"rating\": 10}, {\"usefulCount\": 58, \"count\": 85, \"rating\": 10}, {\"usefulCount\": 52, \"count\": 85, \"rating\": 10}, {\"usefulCount\": 65, \"count\": 84, \"rating\": 10}, {\"usefulCount\": 56, \"count\": 81, \"rating\": 10}, {\"usefulCount\": 57, \"count\": 80, \"rating\": 10}, {\"usefulCount\": 60, \"count\": 79, \"rating\": 10}, {\"usefulCount\": 59, \"count\": 74, \"rating\": 10}, {\"usefulCount\": 68, \"count\": 73, \"rating\": 10}, {\"usefulCount\": 66, \"count\": 71, \"rating\": 10}, {\"usefulCount\": 64, \"count\": 70, \"rating\": 10}, {\"usefulCount\": 69, \"count\": 67, \"rating\": 10}, {\"usefulCount\": 70, \"count\": 66, \"rating\": 10}, {\"usefulCount\": 75, \"count\": 66, \"rating\": 10}, {\"usefulCount\": 67, \"count\": 59, \"rating\": 10}, {\"usefulCount\": 77, \"count\": 58, \"rating\": 10}, {\"usefulCount\": 63, \"count\": 58, \"rating\": 10}, {\"usefulCount\": 78, \"count\": 57, \"rating\": 10}, {\"usefulCount\": 73, \"count\": 55, \"rating\": 10}, {\"usefulCount\": 80, \"count\": 54, \"rating\": 10}, {\"usefulCount\": 79, \"count\": 54, \"rating\": 10}, {\"usefulCount\": 74, \"count\": 52, \"rating\": 10}, {\"usefulCount\": 76, \"count\": 52, \"rating\": 10}, {\"usefulCount\": 71, \"count\": 48, \"rating\": 10}, {\"usefulCount\": 72, \"count\": 47, \"rating\": 10}, {\"usefulCount\": 82, \"count\": 42, \"rating\": 10}, {\"usefulCount\": 86, \"count\": 42, \"rating\": 10}, {\"usefulCount\": 85, \"count\": 42, \"rating\": 10}, {\"usefulCount\": 95, \"count\": 41, \"rating\": 10}, {\"usefulCount\": 93, \"count\": 40, \"rating\": 10}, {\"usefulCount\": 97, \"count\": 39, \"rating\": 10}, {\"usefulCount\": 87, \"count\": 39, \"rating\": 10}, {\"usefulCount\": 96, \"count\": 39, \"rating\": 10}, {\"usefulCount\": 84, \"count\": 39, \"rating\": 10}, {\"usefulCount\": 88, \"count\": 37, \"rating\": 10}, {\"usefulCount\": 101, \"count\": 36, \"rating\": 10}, {\"usefulCount\": 83, \"count\": 36, \"rating\": 10}, {\"usefulCount\": 103, \"count\": 34, \"rating\": 10}, {\"usefulCount\": 92, \"count\": 33, \"rating\": 10}, {\"usefulCount\": 81, \"count\": 33, \"rating\": 10}, {\"usefulCount\": 98, \"count\": 31, \"rating\": 10}, {\"usefulCount\": 100, \"count\": 30, \"rating\": 10}, {\"usefulCount\": 102, \"count\": 29, \"rating\": 10}, {\"usefulCount\": 89, \"count\": 29, \"rating\": 10}, {\"usefulCount\": 90, \"count\": 28, \"rating\": 10}, {\"usefulCount\": 109, \"count\": 27, \"rating\": 10}, {\"usefulCount\": 94, \"count\": 25, \"rating\": 10}, {\"usefulCount\": 118, \"count\": 25, \"rating\": 10}, {\"usefulCount\": 99, \"count\": 24, \"rating\": 10}, {\"usefulCount\": 117, \"count\": 24, \"rating\": 10}, {\"usefulCount\": 110, \"count\": 23, \"rating\": 10}, {\"usefulCount\": 124, \"count\": 23, \"rating\": 10}, {\"usefulCount\": 104, \"count\": 23, \"rating\": 10}, {\"usefulCount\": 113, \"count\": 22, \"rating\": 10}, {\"usefulCount\": 91, \"count\": 22, \"rating\": 10}, {\"usefulCount\": 107, \"count\": 22, \"rating\": 10}, {\"usefulCount\": 115, \"count\": 21, \"rating\": 10}, {\"usefulCount\": 114, \"count\": 21, \"rating\": 10}, {\"usefulCount\": 106, \"count\": 21, \"rating\": 10}, {\"usefulCount\": 134, \"count\": 21, \"rating\": 10}, {\"usefulCount\": 123, \"count\": 20, \"rating\": 10}, {\"usefulCount\": 121, \"count\": 20, \"rating\": 10}, {\"usefulCount\": 111, \"count\": 20, \"rating\": 10}, {\"usefulCount\": 108, \"count\": 19, \"rating\": 10}, {\"usefulCount\": 120, \"count\": 19, \"rating\": 10}, {\"usefulCount\": 126, \"count\": 18, \"rating\": 10}, {\"usefulCount\": 116, \"count\": 17, \"rating\": 10}, {\"usefulCount\": 122, \"count\": 17, \"rating\": 10}, {\"usefulCount\": 119, \"count\": 17, \"rating\": 10}, {\"usefulCount\": 141, \"count\": 16, \"rating\": 10}, {\"usefulCount\": 132, \"count\": 16, \"rating\": 10}, {\"usefulCount\": 140, \"count\": 15, \"rating\": 10}, {\"usefulCount\": 147, \"count\": 15, \"rating\": 10}, {\"usefulCount\": 105, \"count\": 14, \"rating\": 10}, {\"usefulCount\": 131, \"count\": 14, \"rating\": 10}, {\"usefulCount\": 151, \"count\": 12, \"rating\": 10}, {\"usefulCount\": 146, \"count\": 12, \"rating\": 10}, {\"usefulCount\": 128, \"count\": 12, \"rating\": 10}, {\"usefulCount\": 137, \"count\": 12, \"rating\": 10}, {\"usefulCount\": 133, \"count\": 12, \"rating\": 10}, {\"usefulCount\": 125, \"count\": 12, \"rating\": 10}, {\"usefulCount\": 130, \"count\": 12, \"rating\": 10}, {\"usefulCount\": 138, \"count\": 11, \"rating\": 10}, {\"usefulCount\": 145, \"count\": 11, \"rating\": 10}, {\"usefulCount\": 144, \"count\": 11, \"rating\": 10}, {\"usefulCount\": 149, \"count\": 11, \"rating\": 10}, {\"usefulCount\": 142, \"count\": 11, \"rating\": 10}, {\"usefulCount\": 139, \"count\": 10, \"rating\": 10}, {\"usefulCount\": 127, \"count\": 10, \"rating\": 10}, {\"usefulCount\": 161, \"count\": 10, \"rating\": 10}, {\"usefulCount\": 129, \"count\": 10, \"rating\": 10}, {\"usefulCount\": 154, \"count\": 10, \"rating\": 10}, {\"usefulCount\": 112, \"count\": 10, \"rating\": 10}, {\"usefulCount\": 135, \"count\": 9, \"rating\": 10}, {\"usefulCount\": 185, \"count\": 9, \"rating\": 10}, {\"usefulCount\": 153, \"count\": 9, \"rating\": 10}, {\"usefulCount\": 184, \"count\": 8, \"rating\": 10}, {\"usefulCount\": 165, \"count\": 8, \"rating\": 10}, {\"usefulCount\": 157, \"count\": 8, \"rating\": 10}, {\"usefulCount\": 176, \"count\": 8, \"rating\": 10}, {\"usefulCount\": 168, \"count\": 8, \"rating\": 10}, {\"usefulCount\": 174, \"count\": 8, \"rating\": 10}, {\"usefulCount\": 187, \"count\": 8, \"rating\": 10}, {\"usefulCount\": 150, \"count\": 8, \"rating\": 10}, {\"usefulCount\": 180, \"count\": 8, \"rating\": 10}, {\"usefulCount\": 175, \"count\": 7, \"rating\": 10}, {\"usefulCount\": 159, \"count\": 7, \"rating\": 10}, {\"usefulCount\": 155, \"count\": 7, \"rating\": 10}, {\"usefulCount\": 172, \"count\": 7, \"rating\": 10}, {\"usefulCount\": 158, \"count\": 7, \"rating\": 10}, {\"usefulCount\": 148, \"count\": 7, \"rating\": 10}, {\"usefulCount\": 152, \"count\": 7, \"rating\": 10}, {\"usefulCount\": 183, \"count\": 6, \"rating\": 10}, {\"usefulCount\": 162, \"count\": 6, \"rating\": 10}, {\"usefulCount\": 181, \"count\": 6, \"rating\": 10}, {\"usefulCount\": 136, \"count\": 6, \"rating\": 10}, {\"usefulCount\": 182, \"count\": 6, \"rating\": 10}, {\"usefulCount\": 190, \"count\": 6, \"rating\": 10}, {\"usefulCount\": 201, \"count\": 6, \"rating\": 10}, {\"usefulCount\": 194, \"count\": 6, \"rating\": 10}, {\"usefulCount\": 199, \"count\": 6, \"rating\": 10}, {\"usefulCount\": 173, \"count\": 6, \"rating\": 10}, {\"usefulCount\": 160, \"count\": 5, \"rating\": 10}, {\"usefulCount\": 170, \"count\": 5, \"rating\": 10}, {\"usefulCount\": 189, \"count\": 5, \"rating\": 10}, {\"usefulCount\": 164, \"count\": 5, \"rating\": 10}, {\"usefulCount\": 197, \"count\": 5, \"rating\": 10}, {\"usefulCount\": 213, \"count\": 5, \"rating\": 10}, {\"usefulCount\": 218, \"count\": 5, \"rating\": 10}, {\"usefulCount\": 167, \"count\": 5, \"rating\": 10}, {\"usefulCount\": 163, \"count\": 5, \"rating\": 10}, {\"usefulCount\": 202, \"count\": 4, \"rating\": 10}, {\"usefulCount\": 234, \"count\": 4, \"rating\": 10}, {\"usefulCount\": 166, \"count\": 4, \"rating\": 10}, {\"usefulCount\": 171, \"count\": 4, \"rating\": 10}, {\"usefulCount\": 209, \"count\": 4, \"rating\": 10}, {\"usefulCount\": 169, \"count\": 4, \"rating\": 10}, {\"usefulCount\": 208, \"count\": 4, \"rating\": 10}, {\"usefulCount\": 214, \"count\": 3, \"rating\": 10}, {\"usefulCount\": 198, \"count\": 3, \"rating\": 10}, {\"usefulCount\": 308, \"count\": 3, \"rating\": 10}, {\"usefulCount\": 219, \"count\": 3, \"rating\": 10}, {\"usefulCount\": 207, \"count\": 3, \"rating\": 10}, {\"usefulCount\": 206, \"count\": 3, \"rating\": 10}, {\"usefulCount\": 254, \"count\": 3, \"rating\": 10}, {\"usefulCount\": 261, \"count\": 3, \"rating\": 10}, {\"usefulCount\": 220, \"count\": 3, \"rating\": 10}, {\"usefulCount\": 212, \"count\": 3, \"rating\": 10}, {\"usefulCount\": 196, \"count\": 3, \"rating\": 10}, {\"usefulCount\": 205, \"count\": 3, \"rating\": 10}, {\"usefulCount\": 177, \"count\": 3, \"rating\": 10}, {\"usefulCount\": 193, \"count\": 3, \"rating\": 10}, {\"usefulCount\": 143, \"count\": 3, \"rating\": 10}, {\"usefulCount\": 179, \"count\": 3, \"rating\": 10}, {\"usefulCount\": 211, \"count\": 3, \"rating\": 10}, {\"usefulCount\": 195, \"count\": 3, \"rating\": 10}, {\"usefulCount\": 191, \"count\": 2, \"rating\": 10}, {\"usefulCount\": 239, \"count\": 2, \"rating\": 10}, {\"usefulCount\": 223, \"count\": 2, \"rating\": 10}, {\"usefulCount\": 414, \"count\": 2, \"rating\": 10}, {\"usefulCount\": 332, \"count\": 2, \"rating\": 10}, {\"usefulCount\": 270, \"count\": 2, \"rating\": 10}, {\"usefulCount\": 156, \"count\": 2, \"rating\": 10}, {\"usefulCount\": 188, \"count\": 2, \"rating\": 10}, {\"usefulCount\": 192, \"count\": 2, \"rating\": 10}, {\"usefulCount\": 315, \"count\": 2, \"rating\": 10}, {\"usefulCount\": 226, \"count\": 2, \"rating\": 10}, {\"usefulCount\": 310, \"count\": 2, \"rating\": 10}, {\"usefulCount\": 294, \"count\": 2, \"rating\": 10}, {\"usefulCount\": 245, \"count\": 2, \"rating\": 10}, {\"usefulCount\": 484, \"count\": 2, \"rating\": 10}, {\"usefulCount\": 200, \"count\": 2, \"rating\": 10}, {\"usefulCount\": 324, \"count\": 2, \"rating\": 10}, {\"usefulCount\": 292, \"count\": 2, \"rating\": 10}, {\"usefulCount\": 228, \"count\": 2, \"rating\": 10}, {\"usefulCount\": 217, \"count\": 2, \"rating\": 10}, {\"usefulCount\": 227, \"count\": 2, \"rating\": 10}, {\"usefulCount\": 249, \"count\": 2, \"rating\": 10}, {\"usefulCount\": 358, \"count\": 2, \"rating\": 10}, {\"usefulCount\": 178, \"count\": 2, \"rating\": 10}, {\"usefulCount\": 224, \"count\": 2, \"rating\": 10}, {\"usefulCount\": 240, \"count\": 2, \"rating\": 10}, {\"usefulCount\": 282, \"count\": 2, \"rating\": 10}, {\"usefulCount\": 235, \"count\": 2, \"rating\": 10}, {\"usefulCount\": 304, \"count\": 1, \"rating\": 10}, {\"usefulCount\": 262, \"count\": 1, \"rating\": 10}, {\"usefulCount\": 246, \"count\": 1, \"rating\": 10}, {\"usefulCount\": 485, \"count\": 1, \"rating\": 10}, {\"usefulCount\": 256, \"count\": 1, \"rating\": 10}, {\"usefulCount\": 229, \"count\": 1, \"rating\": 10}, {\"usefulCount\": 238, \"count\": 1, \"rating\": 10}, {\"usefulCount\": 210, \"count\": 1, \"rating\": 10}, {\"usefulCount\": 322, \"count\": 1, \"rating\": 10}, {\"usefulCount\": 384, \"count\": 1, \"rating\": 10}, {\"usefulCount\": 286, \"count\": 1, \"rating\": 10}, {\"usefulCount\": 302, \"count\": 1, \"rating\": 10}, {\"usefulCount\": 225, \"count\": 1, \"rating\": 10}, {\"usefulCount\": 273, \"count\": 1, \"rating\": 10}, {\"usefulCount\": 406, \"count\": 1, \"rating\": 10}, {\"usefulCount\": 307, \"count\": 1, \"rating\": 10}, {\"usefulCount\": 243, \"count\": 1, \"rating\": 10}, {\"usefulCount\": 340, \"count\": 1, \"rating\": 10}, {\"usefulCount\": 231, \"count\": 1, \"rating\": 10}, {\"usefulCount\": 486, \"count\": 1, \"rating\": 10}, {\"usefulCount\": 215, \"count\": 1, \"rating\": 10}, {\"usefulCount\": 283, \"count\": 1, \"rating\": 10}, {\"usefulCount\": 267, \"count\": 1, \"rating\": 10}, {\"usefulCount\": 251, \"count\": 1, \"rating\": 10}, {\"usefulCount\": 203, \"count\": 1, \"rating\": 10}, {\"usefulCount\": 730, \"count\": 1, \"rating\": 10}, {\"usefulCount\": 250, \"count\": 1, \"rating\": 10}, {\"usefulCount\": 186, \"count\": 1, \"rating\": 10}, {\"usefulCount\": 204, \"count\": 1, \"rating\": 10}, {\"usefulCount\": 345, \"count\": 1, \"rating\": 10}, {\"usefulCount\": 236, \"count\": 1, \"rating\": 10}, {\"usefulCount\": 268, \"count\": 1, \"rating\": 10}, {\"usefulCount\": 316, \"count\": 1, \"rating\": 10}, {\"usefulCount\": 313, \"count\": 1, \"rating\": 10}, {\"usefulCount\": 281, \"count\": 1, \"rating\": 10}, {\"usefulCount\": 680, \"count\": 1, \"rating\": 10}, {\"usefulCount\": 424, \"count\": 1, \"rating\": 10}, {\"usefulCount\": 344, \"count\": 1, \"rating\": 10}, {\"usefulCount\": 328, \"count\": 1, \"rating\": 10}, {\"usefulCount\": 232, \"count\": 1, \"rating\": 10}, {\"usefulCount\": 216, \"count\": 1, \"rating\": 10}, {\"usefulCount\": 327, \"count\": 1, \"rating\": 10}, {\"usefulCount\": 279, \"count\": 1, \"rating\": 10}, {\"usefulCount\": 247, \"count\": 1, \"rating\": 10}, {\"usefulCount\": 221, \"count\": 1, \"rating\": 10}, {\"usefulCount\": 237, \"count\": 1, \"rating\": 10}, {\"usefulCount\": 253, \"count\": 1, \"rating\": 10}, {\"usefulCount\": 381, \"count\": 1, \"rating\": 10}, {\"usefulCount\": 621, \"count\": 1, \"rating\": 10}, {\"usefulCount\": 299, \"count\": 1, \"rating\": 10}, {\"usefulCount\": 287, \"count\": 1, \"rating\": 10}]}}, {\"mode\": \"vega-lite\"});\n",
       "</script>"
      ],
      "text/plain": [
       "alt.HConcatChart(...)"
      ]
     },
     "execution_count": 42,
     "metadata": {},
     "output_type": "execute_result"
    }
   ],
   "source": [
    "#Check the change of top conditions across rating\n",
    "click = alt.selection_multi(encodings=['color'])\n",
    "\n",
    "scatter = alt.Chart(usefulCount_count_rating).mark_point().encode(\n",
    "    x='usefulCount',\n",
    "    y='count',\n",
    "    tooltip=('usefulCount', 'count')\n",
    ").transform_filter(\n",
    "    click\n",
    ")\n",
    "\n",
    "hist = alt.Chart(usefulCount_count_rating).mark_point().encode(\n",
    "    y='rating:N',\n",
    "    color=alt.condition(click, 'rating:N', alt.value('lightgray'), legend=None)\n",
    ").add_selection(\n",
    "    click\n",
    ")\n",
    "\n",
    "scatter.interactive() | hist"
   ]
  },
  {
   "cell_type": "markdown",
   "metadata": {},
   "source": [
    "<span style='color:blue'>Using this interactive plot, we can see reviews with high rating doesn't necessary have high usefulCount. Rating is given by the reviewer who used the drug. usefulCounts are determined by other reviewers except the one who write the review. A good resonable review should be a review with high usefulCount.</span>"
   ]
  },
  {
   "cell_type": "markdown",
   "metadata": {},
   "source": [
    "### 6. review\n",
    "\n",
    "We will explore EDA analysis for 'review' column individually in section 2."
   ]
  },
  {
   "cell_type": "code",
   "execution_count": 43,
   "metadata": {},
   "outputs": [],
   "source": [
    "df_new.to_csv('data/df_new.csv')"
   ]
  }
 ],
 "metadata": {
  "kernelspec": {
   "display_name": "Python 3",
   "language": "python",
   "name": "python3"
  },
  "language_info": {
   "codemirror_mode": {
    "name": "ipython",
    "version": 3
   },
   "file_extension": ".py",
   "mimetype": "text/x-python",
   "name": "python",
   "nbconvert_exporter": "python",
   "pygments_lexer": "ipython3",
   "version": "3.8.8"
  }
 },
 "nbformat": 4,
 "nbformat_minor": 4
}
