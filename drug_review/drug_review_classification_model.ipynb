{
 "cells": [
  {
   "cell_type": "code",
   "execution_count": 1,
   "id": "b9c256b1",
   "metadata": {},
   "outputs": [],
   "source": [
    "import re\n",
    "import nltk\n",
    "import numpy as np\n",
    "import pandas as pd\n",
    "import matplotlib.pyplot as plt\n",
    "import seaborn as sns\n",
    "from sklearn.model_selection import train_test_split, cross_validate\n",
    "from sklearn.pipeline import Pipeline\n",
    "from sklearn.metrics import classification_report, roc_curve, roc_auc_score, confusion_matrix, accuracy_score, precision_score, recall_score, f1_score\n",
    "from sklearn.model_selection import RandomizedSearchCV\n",
    "from sklearn.linear_model import LogisticRegression\n",
    "from sklearn.tree import DecisionTreeClassifier\n",
    "from sklearn.neighbors import KNeighborsClassifier\n",
    "from sklearn.ensemble import RandomForestClassifier, GradientBoostingClassifier\n",
    "from xgboost import XGBClassifier\n",
    "import warnings\n",
    "warnings.filterwarnings(\"ignore\")"
   ]
  },
  {
   "cell_type": "code",
   "execution_count": 2,
   "id": "c83fbbcd",
   "metadata": {},
   "outputs": [],
   "source": [
    "#load data and scale data\n",
    "X_train=pd.read_csv('data/tfidf_train_X.csv')\n",
    "X_test=pd.read_csv('data/tfidf_test_X.csv')\n",
    "y_train=pd.read_csv('data/y_train.csv')\n",
    "y_test=pd.read_csv('data/y_test.csv')"
   ]
  },
  {
   "cell_type": "code",
   "execution_count": 3,
   "id": "e11acec9",
   "metadata": {},
   "outputs": [],
   "source": [
    "y_test.loc[(y_test['rating'] >= 5), 'rating_class'] = 1\n",
    "y_test.loc[(y_test['rating'] < 5), 'rating_class'] = 0\n",
    "y_train.loc[(y_train['rating'] >= 5), 'rating_class'] = 1\n",
    "y_train.loc[(y_train['rating'] < 5), 'rating_class'] = 0\n",
    "y_train_c=y_train.drop(columns=['rating'])\n",
    "y_test_c=y_test.drop(columns=['rating'])"
   ]
  },
  {
   "cell_type": "markdown",
   "id": "dc893cbb",
   "metadata": {},
   "source": [
    "## Part V. develop review classification model\n",
    "Previously, we tried to develop npl regression model for rating prediction. The results are not good based on the results using regularized linear regression and decision tree regression. We also tried support vector machine, random forest and gradient boosting. But we were not patient enough to get the data. It is very time-consuming. Thus, in this section, we decide to develop classification model by converting rating level into a binary variable, positive or negative. If rating >=5, positive. Otherwise, negative. \n",
    "\n",
    "Let's begin the journey and keep our finger crossed. \n",
    "\n",
    "### 5.1 classification model using tfidf transformed data"
   ]
  },
  {
   "cell_type": "code",
   "execution_count": 4,
   "id": "92da1a63",
   "metadata": {},
   "outputs": [],
   "source": [
    "from sklearn.preprocessing import StandardScaler\n",
    "from sklearn.model_selection import cross_validate\n",
    "st_scaler=StandardScaler()\n",
    "X_train_s=st_scaler.fit_transform(X_train)\n",
    "X_test_s=st_scaler.transform(X_test)"
   ]
  },
  {
   "cell_type": "code",
   "execution_count": 5,
   "id": "f237ea19",
   "metadata": {},
   "outputs": [],
   "source": [
    "#convert pandas dataframe into scipy sparse matrix, refer to https://towardsdatascience.com/working-with-sparse-data-sets-in-pandas-and-sklearn-d26c1cfbe067\n",
    "from scipy.sparse import lil_matrix\n",
    "import numpy as np\n",
    "def data_frame_to_scipy_sparse_matrix(df):\n",
    "    \"\"\"\n",
    "    Converts a sparse pandas data frame to sparse scipy csr_matrix.\n",
    "    :param df: pandas data frame\n",
    "    :return: csr_matrix\n",
    "    \"\"\"\n",
    "    arr = lil_matrix(df.shape, dtype=np.float32)\n",
    "    for i, col in enumerate(df.columns):\n",
    "        ix = df[col] != 0\n",
    "        arr[np.where(ix), i] = 1\n",
    "\n",
    "    return arr.tocsr()\n",
    "BYTES_TO_MB_DIV = 0.000001\n",
    "def get_csr_memory_usage(matrix):\n",
    "    mem = (matrix.data.nbytes + matrix.indptr.nbytes + matrix.indices.nbytes) * BYTES_TO_MB_DIV\n",
    "    print(\"Memory usage is \" + str(mem) + \" MB\")"
   ]
  },
  {
   "cell_type": "code",
   "execution_count": 6,
   "id": "416deb1b",
   "metadata": {},
   "outputs": [
    {
     "name": "stdout",
     "output_type": "stream",
     "text": [
      "Memory usage is 98.36411199999999 MB\n",
      "Memory usage is 42.157756 MB\n"
     ]
    }
   ],
   "source": [
    "X_train_s_df=pd.DataFrame(X_train_s, columns=X_train.columns, index=X_train.index)\n",
    "X_test_s_df=pd.DataFrame(X_test_s, columns=X_test.columns, index=X_test.index)\n",
    "X_csr_train_s = data_frame_to_scipy_sparse_matrix(X_train_s_df)\n",
    "get_csr_memory_usage(X_csr_train_s)\n",
    "X_csr_test_s = data_frame_to_scipy_sparse_matrix(X_test_s_df)\n",
    "get_csr_memory_usage(X_csr_test_s)"
   ]
  },
  {
   "cell_type": "code",
   "execution_count": 7,
   "id": "800da7d5",
   "metadata": {},
   "outputs": [
    {
     "data": {
      "text/plain": [
       "numpy.ndarray"
      ]
     },
     "execution_count": 7,
     "metadata": {},
     "output_type": "execute_result"
    }
   ],
   "source": [
    "type(X_train_s)"
   ]
  },
  {
   "cell_type": "code",
   "execution_count": 8,
   "id": "f14c6f5d",
   "metadata": {},
   "outputs": [
    {
     "name": "stdout",
     "output_type": "stream",
     "text": [
      "Memory usage of X_train_s is 98.199344 MB\n",
      "Memory usage of X_test_s is 42.087136 MB\n"
     ]
    }
   ],
   "source": [
    "print(\"Memory usage of X_train_s is \" + str(X_train_s.nbytes* BYTES_TO_MB_DIV) + \" MB\")\n",
    "print(\"Memory usage of X_test_s is \" + str(X_test_s.nbytes* BYTES_TO_MB_DIV) + \" MB\")"
   ]
  },
  {
   "cell_type": "markdown",
   "id": "c37e30ad",
   "metadata": {},
   "source": [
    "So we don't need to convert the numpy array into the scipy sparse form. Or maybe in sklearn, the data preprocessing can help us to convert dataframe into the sparse matrix?! That's why they have the same memory usage."
   ]
  },
  {
   "cell_type": "code",
   "execution_count": 9,
   "id": "e3491e50",
   "metadata": {},
   "outputs": [],
   "source": [
    "#optimize the hyperparameters in classification algorithms\n",
    "def classification_tune(clf_estimator, param_grid, X_train, y_train, X_test, y_test):\n",
    "    ##find the best model\n",
    "    clf_random = RandomizedSearchCV(estimator = clf_estimator, param_distributions=param_grid, cv = 5, verbose=2, random_state=42, n_jobs = -1)\n",
    "    clf_random.fit(X_train, y_train)\n",
    "    best_clf=clf_random.best_estimator_\n",
    "    y_pred=best_clf.predict(X_test)\n",
    "    y_pred_proba = best_clf.predict_proba(X_test_s)[::,1]\n",
    "    print(\"BEST PARAMS\", clf_random.best_params_)\n",
    "    return best_clf, y_pred, y_pred_proba \n",
    "#evaluation of the classification models\n",
    "def classification_eval(best_clf, y_test, y_pred, y_pred_proba):\n",
    "    cnf_matrix = confusion_matrix(y_test, y_pred)\n",
    "    fig, (ax1, ax2) = plt.subplots(1, 2, figsize=(10,5))\n",
    "    sns.heatmap(pd.DataFrame(cnf_matrix), annot=True, cmap=\"YlGnBu\" ,fmt='g', ax=ax1)\n",
    "    plt.tight_layout()\n",
    "    ax1.set_title('Confusion matrix')\n",
    "    ax1.set_ylabel('Actual label')\n",
    "    ax1.set_xlabel('Predicted label')\n",
    "    print(\"Accuracy:\",accuracy_score(y_test, y_pred).round(3))\n",
    "    print(\"Precision:\",precision_score(y_test, y_pred).round(3))\n",
    "    print(\"Recall:\", recall_score(y_test, y_pred).round(3))\n",
    "    print(\"f1 score:\", f1_score(y_test, y_pred).round(3))\n",
    "    fpr, tpr, _ = roc_curve(y_test,  y_pred_proba)\n",
    "    auc = roc_auc_score(y_test, y_pred_proba).round(3)\n",
    "    ax2.plot(fpr,tpr,label=\"data 1, auc=\"+str(auc))\n",
    "    plt.legend(loc=4)\n",
    "    return ax1, ax2 "
   ]
  },
  {
   "cell_type": "markdown",
   "id": "b03aa1e2",
   "metadata": {},
   "source": [
    "#### 5.1.1 logistic regression"
   ]
  },
  {
   "cell_type": "code",
   "execution_count": 10,
   "id": "d2c33e64",
   "metadata": {},
   "outputs": [
    {
     "name": "stdout",
     "output_type": "stream",
     "text": [
      "Fitting 5 folds for each of 10 candidates, totalling 50 fits\n"
     ]
    },
    {
     "name": "stderr",
     "output_type": "stream",
     "text": [
      "[Parallel(n_jobs=-1)]: Using backend LokyBackend with 4 concurrent workers.\n",
      "[Parallel(n_jobs=-1)]: Done  33 tasks      | elapsed:   30.3s\n",
      "[Parallel(n_jobs=-1)]: Done  50 out of  50 | elapsed:   44.5s finished\n"
     ]
    },
    {
     "name": "stdout",
     "output_type": "stream",
     "text": [
      "BEST PARAMS {'C': 50}\n"
     ]
    }
   ],
   "source": [
    "#let's start journey with the traditional regularized logistic regression model\n",
    "param_grid = {'C': [0.001, 0.005, 0.01, 0.05, 0.1, 0.5, 1, 5, 10, 50, 100]}\n",
    "clf_estimator = LogisticRegression()\n",
    "best_clf, y_pred, y_pred_proba=classification_tune(clf_estimator, param_grid, X_train_s, y_train_c, X_test_s, y_test_c)"
   ]
  },
  {
   "cell_type": "code",
   "execution_count": 11,
   "id": "56d049d4",
   "metadata": {
    "scrolled": true
   },
   "outputs": [
    {
     "name": "stdout",
     "output_type": "stream",
     "text": [
      "Accuracy: 0.809\n",
      "Precision: 0.837\n",
      "Recall: 0.903\n",
      "f1 score: 0.869\n"
     ]
    },
    {
     "data": {
      "text/plain": [
       "(<AxesSubplot:title={'center':'Confusion matrix'}, xlabel='Predicted label', ylabel='Actual label'>,\n",
       " <AxesSubplot:>)"
      ]
     },
     "execution_count": 11,
     "metadata": {},
     "output_type": "execute_result"
    },
    {
     "data": {
      "image/png": "[encoded data removed]",
      "text/plain": [
       "<Figure size 720x360 with 3 Axes>"
      ]
     },
     "metadata": {
      "needs_background": "light"
     },
     "output_type": "display_data"
    }
   ],
   "source": [
    "classification_eval(best_clf, y_test_c, y_pred, y_pred_proba)"
   ]
  },
  {
   "cell_type": "markdown",
   "id": "31a0884d",
   "metadata": {},
   "source": [
    "Based on f1 score and auc value, the result is not bad. Because the data is imbalanced and the positive rating is the majority, we cannot solely use accuracy to evaluate the model. "
   ]
  },
  {
   "cell_type": "markdown",
   "id": "e837ac0e",
   "metadata": {},
   "source": [
    "#### 5.1.2 decision tree"
   ]
  },
  {
   "cell_type": "code",
   "execution_count": 12,
   "id": "d42552aa",
   "metadata": {},
   "outputs": [
    {
     "name": "stdout",
     "output_type": "stream",
     "text": [
      "Fitting 5 folds for each of 10 candidates, totalling 50 fits\n"
     ]
    },
    {
     "name": "stderr",
     "output_type": "stream",
     "text": [
      "[Parallel(n_jobs=-1)]: Using backend LokyBackend with 4 concurrent workers.\n",
      "[Parallel(n_jobs=-1)]: Done  33 tasks      | elapsed:   31.0s\n",
      "[Parallel(n_jobs=-1)]: Done  50 out of  50 | elapsed:   47.5s finished\n"
     ]
    },
    {
     "name": "stdout",
     "output_type": "stream",
     "text": [
      "BEST PARAMS {'max_depth': 12, 'criterion': 'gini'}\n"
     ]
    }
   ],
   "source": [
    "param_grid = {'criterion': ['gini', 'entropy'], 'max_depth':[2,4,6,8,10,12]}\n",
    "clf_estimator = DecisionTreeClassifier()\n",
    "best_clf, y_pred, y_pred_proba=classification_tune(clf_estimator, param_grid, X_train_s, y_train_c, X_test_s, y_test_c)"
   ]
  },
  {
   "cell_type": "code",
   "execution_count": 13,
   "id": "25f019dc",
   "metadata": {},
   "outputs": [
    {
     "name": "stdout",
     "output_type": "stream",
     "text": [
      "Accuracy: 0.788\n",
      "Precision: 0.82\n",
      "Recall: 0.894\n",
      "f1 score: 0.855\n"
     ]
    },
    {
     "data": {
      "text/plain": [
       "(<AxesSubplot:title={'center':'Confusion matrix'}, xlabel='Predicted label', ylabel='Actual label'>,\n",
       " <AxesSubplot:>)"
      ]
     },
     "execution_count": 13,
     "metadata": {},
     "output_type": "execute_result"
    },
    {
     "data": {
      "image/png": "[encoded data removed]",
      "text/plain": [
       "<Figure size 720x360 with 3 Axes>"
      ]
     },
     "metadata": {
      "needs_background": "light"
     },
     "output_type": "display_data"
    }
   ],
   "source": [
    "classification_eval(best_clf, y_test_c, y_pred, y_pred_proba)"
   ]
  },
  {
   "cell_type": "markdown",
   "id": "6ef31a95",
   "metadata": {},
   "source": [
    "Decision tree gave us comparable results to regularized logistic classification with slightly lower AUC and f1 score than logistic classification."
   ]
  },
  {
   "cell_type": "markdown",
   "id": "5451edca",
   "metadata": {},
   "source": [
    "#### 5.1.3 xgb classification"
   ]
  },
  {
   "cell_type": "code",
   "execution_count": 14,
   "id": "198c5b06",
   "metadata": {},
   "outputs": [
    {
     "name": "stdout",
     "output_type": "stream",
     "text": [
      "Fitting 5 folds for each of 10 candidates, totalling 50 fits\n"
     ]
    },
    {
     "name": "stderr",
     "output_type": "stream",
     "text": [
      "[Parallel(n_jobs=-1)]: Using backend LokyBackend with 4 concurrent workers.\n",
      "[Parallel(n_jobs=-1)]: Done  33 tasks      | elapsed: 30.1min\n",
      "[Parallel(n_jobs=-1)]: Done  50 out of  50 | elapsed: 41.6min finished\n"
     ]
    },
    {
     "name": "stdout",
     "output_type": "stream",
     "text": [
      "[22:28:55] WARNING: ..\\src\\learner.cc:1095: Starting in XGBoost 1.3.0, the default evaluation metric used with the objective 'binary:logistic' was changed from 'error' to 'logloss'. Explicitly set eval_metric if you'd like to restore the old behavior.\n",
      "BEST PARAMS {'subsample': 0.6, 'n_estimators': 350, 'max_depth': 7, 'learning_rate': 0.5, 'gamma': 0.3}\n"
     ]
    }
   ],
   "source": [
    "gammas=[0.1, 0.2, 0.3, 0.4, 0.5]\n",
    "subsamples=[0.5, 0.6, 0.7, 0.8]\n",
    "n_estimators=[int(x) for x in np.linspace(start = 50, stop = 500, num = 10)]\n",
    "max_depths=[int(x) for x in np.linspace(1, 10, num = 10)]\n",
    "learning_rates = [0.05, 0.1, 0.25, 0.5, 0.75, 1]\n",
    "param_grid = {'gamma':gammas, 'subsample': subsamples, 'n_estimators': n_estimators, 'max_depth':max_depths, 'learning_rate': learning_rates}\n",
    "clf_estimator=XGBClassifier(use_label_encoder=False)\n",
    "best_clf, y_pred, y_pred_proba=classification_tune(clf_estimator, param_grid, X_train_s, y_train_c, X_test_s, y_test_c)"
   ]
  },
  {
   "cell_type": "code",
   "execution_count": 15,
   "id": "74c177aa",
   "metadata": {},
   "outputs": [
    {
     "name": "stdout",
     "output_type": "stream",
     "text": [
      "Accuracy: 0.919\n",
      "Precision: 0.934\n",
      "Recall: 0.953\n",
      "f1 score: 0.943\n"
     ]
    },
    {
     "data": {
      "text/plain": [
       "(<AxesSubplot:title={'center':'Confusion matrix'}, xlabel='Predicted label', ylabel='Actual label'>,\n",
       " <AxesSubplot:>)"
      ]
     },
     "execution_count": 15,
     "metadata": {},
     "output_type": "execute_result"
    },
    {
     "data": {
      "image/png": "[encoded data removed]",
      "text/plain": [
       "<Figure size 720x360 with 3 Axes>"
      ]
     },
     "metadata": {
      "needs_background": "light"
     },
     "output_type": "display_data"
    }
   ],
   "source": [
    "classification_eval(best_clf, y_test_c, y_pred, y_pred_proba)"
   ]
  },
  {
   "cell_type": "markdown",
   "id": "e56f576c",
   "metadata": {},
   "source": [
    "#### 5.1.4 deep learning model"
   ]
  },
  {
   "cell_type": "markdown",
   "id": "b24d6d4c",
   "metadata": {},
   "source": [
    "As a deep learning newbie, I decided to develop the simple RNN model for this project. Just wonder whether I am lucky enough to experience the magic of neural network. A deeper understanding of all parameters in ANN is necessary to develop the complicated system and optimize the relevant hyperparameters. "
   ]
  },
  {
   "cell_type": "code",
   "execution_count": 16,
   "id": "fdcd0bf3",
   "metadata": {},
   "outputs": [
    {
     "name": "stdout",
     "output_type": "stream",
     "text": [
      "Model: \"sequential\"\n",
      "_________________________________________________________________\n",
      "Layer (type)                 Output Shape              Param #   \n",
      "=================================================================\n",
      "dense (Dense)                (None, 50)                14950     \n",
      "_________________________________________________________________\n",
      "dense_1 (Dense)              (None, 20)                1020      \n",
      "_________________________________________________________________\n",
      "dense_2 (Dense)              (None, 1)                 21        \n",
      "=================================================================\n",
      "Total params: 15,991\n",
      "Trainable params: 15,991\n",
      "Non-trainable params: 0\n",
      "_________________________________________________________________\n"
     ]
    }
   ],
   "source": [
    "# importing the libraries for deep learning model\n",
    "# simple RNN, also called Vanilla RNN\n",
    "#Create a sequential model including Dense layers\n",
    "import keras \n",
    "from keras.models import Sequential\n",
    "from keras.layers import Dense\n",
    "# Model Structure\n",
    "model = Sequential()\n",
    "model.add(Dense(50, input_dim=298, activation='relu'))\n",
    "model.add(Dense(20, activation='relu'))\n",
    "model.add(Dense(1, activation='sigmoid'))\n",
    "model.compile(loss='binary_crossentropy', optimizer='adam', metrics=['accuracy'])\n",
    "model.summary()"
   ]
  },
  {
   "cell_type": "code",
   "execution_count": 17,
   "id": "1107ec27",
   "metadata": {},
   "outputs": [
    {
     "name": "stdout",
     "output_type": "stream",
     "text": [
      "Epoch 1/30\n",
      "206/206 [==============================] - 0s 2ms/step - loss: 0.5123 - accuracy: 0.7419\n",
      "Epoch 2/30\n",
      "206/206 [==============================] - 0s 1ms/step - loss: 0.3831 - accuracy: 0.8252\n",
      "Epoch 3/30\n",
      "206/206 [==============================] - 0s 1ms/step - loss: 0.3511 - accuracy: 0.8431\n",
      "Epoch 4/30\n",
      "206/206 [==============================] - 0s 1ms/step - loss: 0.3243 - accuracy: 0.8577\n",
      "Epoch 5/30\n",
      "206/206 [==============================] - 0s 1ms/step - loss: 0.2984 - accuracy: 0.8735\n",
      "Epoch 6/30\n",
      "206/206 [==============================] - 0s 1ms/step - loss: 0.2720 - accuracy: 0.8879\n",
      "Epoch 7/30\n",
      "206/206 [==============================] - 0s 1ms/step - loss: 0.2464 - accuracy: 0.9002\n",
      "Epoch 8/30\n",
      "206/206 [==============================] - 0s 1ms/step - loss: 0.2216 - accuracy: 0.9150\n",
      "Epoch 9/30\n",
      "206/206 [==============================] - 0s 1ms/step - loss: 0.1992 - accuracy: 0.9249\n",
      "Epoch 10/30\n",
      "206/206 [==============================] - 0s 1ms/step - loss: 0.1774 - accuracy: 0.9350\n",
      "Epoch 11/30\n",
      "206/206 [==============================] - 0s 1ms/step - loss: 0.1599 - accuracy: 0.9422\n",
      "Epoch 12/30\n",
      "206/206 [==============================] - 0s 1ms/step - loss: 0.1418 - accuracy: 0.9511\n",
      "Epoch 13/30\n",
      "206/206 [==============================] - 0s 1ms/step - loss: 0.1279 - accuracy: 0.9573\n",
      "Epoch 14/30\n",
      "206/206 [==============================] - 0s 1ms/step - loss: 0.1135 - accuracy: 0.9630\n",
      "Epoch 15/30\n",
      "206/206 [==============================] - 0s 1ms/step - loss: 0.1011 - accuracy: 0.9680\n",
      "Epoch 16/30\n",
      "206/206 [==============================] - 0s 1ms/step - loss: 0.0897 - accuracy: 0.9729\n",
      "Epoch 17/30\n",
      "206/206 [==============================] - 0s 1ms/step - loss: 0.0795 - accuracy: 0.9764\n",
      "Epoch 18/30\n",
      "206/206 [==============================] - 0s 1ms/step - loss: 0.0718 - accuracy: 0.9794\n",
      "Epoch 19/30\n",
      "206/206 [==============================] - 0s 1ms/step - loss: 0.0639 - accuracy: 0.9825\n",
      "Epoch 20/30\n",
      "206/206 [==============================] - 0s 1ms/step - loss: 0.0550 - accuracy: 0.9865\n",
      "Epoch 21/30\n",
      "206/206 [==============================] - 0s 1ms/step - loss: 0.0499 - accuracy: 0.9878\n",
      "Epoch 22/30\n",
      "206/206 [==============================] - 0s 1ms/step - loss: 0.0435 - accuracy: 0.9895\n",
      "Epoch 23/30\n",
      "206/206 [==============================] - 0s 1ms/step - loss: 0.0390 - accuracy: 0.9917\n",
      "Epoch 24/30\n",
      "206/206 [==============================] - 0s 1ms/step - loss: 0.0352 - accuracy: 0.9923\n",
      "Epoch 25/30\n",
      "206/206 [==============================] - 0s 1ms/step - loss: 0.0317 - accuracy: 0.9940\n",
      "Epoch 26/30\n",
      "206/206 [==============================] - 0s 1ms/step - loss: 0.0276 - accuracy: 0.9951\n",
      "Epoch 27/30\n",
      "206/206 [==============================] - 0s 1ms/step - loss: 0.0234 - accuracy: 0.9959\n",
      "Epoch 28/30\n",
      "206/206 [==============================] - 0s 1ms/step - loss: 0.0216 - accuracy: 0.9958\n",
      "Epoch 29/30\n",
      "206/206 [==============================] - 0s 1ms/step - loss: 0.0195 - accuracy: 0.9965\n",
      "Epoch 30/30\n",
      "206/206 [==============================] - 0s 1ms/step - loss: 0.0191 - accuracy: 0.9964\n"
     ]
    },
    {
     "data": {
      "image/png": "[encoded data removed]",
      "text/plain": [
       "<Figure size 432x288 with 2 Axes>"
      ]
     },
     "metadata": {
      "needs_background": "light"
     },
     "output_type": "display_data"
    }
   ],
   "source": [
    "#plot model performance\n",
    "#The batch size is a hyperparameter to controls the size of data each step.\n",
    "#The number of epochs is a hyperparameter of gradient descent that controls how many weight updates should be done in the model.\n",
    "history = model.fit(X_train_s, y_train_c, epochs=30, batch_size=200)\n",
    "fig, loss_ax = plt.subplots()\n",
    "acc_ax = loss_ax.twinx()\n",
    "loss_ax.set_ylim([0.0, 1.0])\n",
    "acc_ax.set_ylim([0.0, 1.0])\n",
    "loss_ax.plot(history.history['loss'], 'y', label='train loss')\n",
    "acc_ax.plot(history.history['accuracy'], 'b', label='train accuracy')\n",
    "loss_ax.set_xlabel('epoch')\n",
    "loss_ax.set_ylabel('loss')\n",
    "acc_ax.set_ylabel('accuray')\n",
    "loss_ax.legend(loc='upper left')\n",
    "acc_ax.legend(loc='lower left')\n",
    "plt.show()\n",
    "#refer to https://github.com/sharmaroshan/Drugs-Recommendation-using-Reviews/blob/master/DrugsAnalysis.ipynb"
   ]
  },
  {
   "cell_type": "code",
   "execution_count": 18,
   "id": "d1fad753",
   "metadata": {},
   "outputs": [
    {
     "name": "stdout",
     "output_type": "stream",
     "text": [
      "WARNING:tensorflow:From <ipython-input-18-975fd7bbffb1>:1: Sequential.predict_classes (from tensorflow.python.keras.engine.sequential) is deprecated and will be removed after 2021-01-01.\n",
      "Instructions for updating:\n",
      "Please use instead:* `np.argmax(model.predict(x), axis=-1)`,   if your model does multi-class classification   (e.g. if it uses a `softmax` last-layer activation).* `(model.predict(x) > 0.5).astype(\"int32\")`,   if your model does binary classification   (e.g. if it uses a `sigmoid` last-layer activation).\n",
      "Accuracy: 0.907\n",
      "Precision: 0.935\n",
      "Recall: 0.932\n",
      "f1 score: 0.933\n"
     ]
    }
   ],
   "source": [
    "y_pred = model.predict_classes(X_test_s)\n",
    "print(\"Accuracy:\",accuracy_score(y_test_c, y_pred).round(3))\n",
    "print(\"Precision:\",precision_score(y_test_c, y_pred).round(3))\n",
    "print(\"Recall:\", recall_score(y_test_c, y_pred).round(3))\n",
    "print(\"f1 score:\", f1_score(y_test_c, y_pred).round(3))"
   ]
  },
  {
   "cell_type": "markdown",
   "id": "7979b36c",
   "metadata": {},
   "source": [
    "The neural network model gave comparable results to xgb model."
   ]
  },
  {
   "cell_type": "markdown",
   "id": "54d79a11",
   "metadata": {},
   "source": [
    "### 5.2 classification model using tfidf LSA transformed data"
   ]
  },
  {
   "cell_type": "markdown",
   "id": "a99f0539",
   "metadata": {},
   "source": [
    "#### 5.2.1  logistic regression"
   ]
  },
  {
   "cell_type": "code",
   "execution_count": 19,
   "id": "b76c83e0",
   "metadata": {},
   "outputs": [],
   "source": [
    "#load data and scale data\n",
    "X_train=pd.read_csv('data/tfidf_lsa_train_X.csv')\n",
    "X_test=pd.read_csv('data/tfidf_lsa_test_X.csv')\n",
    "y_train=pd.read_csv('data/y_train.csv')\n",
    "y_test=pd.read_csv('data/y_test.csv')\n",
    "X_train_s=st_scaler.fit_transform(X_train)\n",
    "X_test_s=st_scaler.transform(X_test)"
   ]
  },
  {
   "cell_type": "code",
   "execution_count": 20,
   "id": "4747483d",
   "metadata": {},
   "outputs": [
    {
     "name": "stdout",
     "output_type": "stream",
     "text": [
      "Fitting 5 folds for each of 10 candidates, totalling 50 fits\n"
     ]
    },
    {
     "name": "stderr",
     "output_type": "stream",
     "text": [
      "[Parallel(n_jobs=-1)]: Using backend LokyBackend with 4 concurrent workers.\n",
      "[Parallel(n_jobs=-1)]: Done  33 tasks      | elapsed:    5.3s\n",
      "[Parallel(n_jobs=-1)]: Done  50 out of  50 | elapsed:    8.0s finished\n"
     ]
    },
    {
     "name": "stdout",
     "output_type": "stream",
     "text": [
      "BEST PARAMS {'C': 0.5}\n"
     ]
    }
   ],
   "source": [
    "#let's start with the traditional regularized logistic regression model\n",
    "param_grid = {'C': [0.001, 0.005, 0.01, 0.05, 0.1, 0.5, 1, 5, 10, 50, 100]}\n",
    "clf_estimator = LogisticRegression()\n",
    "best_clf, y_pred, y_pred_proba=classification_tune(clf_estimator, param_grid, X_train_s, y_train_c, X_test_s, y_test_c)"
   ]
  },
  {
   "cell_type": "code",
   "execution_count": 21,
   "id": "3d54a737",
   "metadata": {},
   "outputs": [
    {
     "name": "stdout",
     "output_type": "stream",
     "text": [
      "Accuracy: 0.806\n",
      "Precision: 0.832\n",
      "Recall: 0.905\n",
      "f1 score: 0.867\n"
     ]
    },
    {
     "data": {
      "text/plain": [
       "(<AxesSubplot:title={'center':'Confusion matrix'}, xlabel='Predicted label', ylabel='Actual label'>,\n",
       " <AxesSubplot:>)"
      ]
     },
     "execution_count": 21,
     "metadata": {},
     "output_type": "execute_result"
    },
    {
     "data": {
      "image/png": "[encoded data removed]",
      "text/plain": [
       "<Figure size 720x360 with 3 Axes>"
      ]
     },
     "metadata": {
      "needs_background": "light"
     },
     "output_type": "display_data"
    }
   ],
   "source": [
    "classification_eval(best_clf, y_test_c, y_pred, y_pred_proba)"
   ]
  },
  {
   "cell_type": "markdown",
   "id": "0ac4e332",
   "metadata": {},
   "source": [
    "#### 5.2.2 decision tree"
   ]
  },
  {
   "cell_type": "code",
   "execution_count": 22,
   "id": "cc0ac0e9",
   "metadata": {},
   "outputs": [
    {
     "name": "stdout",
     "output_type": "stream",
     "text": [
      "Fitting 5 folds for each of 10 candidates, totalling 50 fits\n"
     ]
    },
    {
     "name": "stderr",
     "output_type": "stream",
     "text": [
      "[Parallel(n_jobs=-1)]: Using backend LokyBackend with 4 concurrent workers.\n",
      "[Parallel(n_jobs=-1)]: Done  33 tasks      | elapsed:   46.8s\n",
      "[Parallel(n_jobs=-1)]: Done  50 out of  50 | elapsed:  1.2min finished\n"
     ]
    },
    {
     "name": "stdout",
     "output_type": "stream",
     "text": [
      "BEST PARAMS {'max_depth': 12, 'criterion': 'gini'}\n"
     ]
    }
   ],
   "source": [
    "param_grid = {'criterion': ['gini', 'entropy'], 'max_depth':[2,4,6,8,10,12]}\n",
    "clf_estimator = DecisionTreeClassifier()\n",
    "best_clf, y_pred, y_pred_proba=classification_tune(clf_estimator, param_grid, X_train_s, y_train_c, X_test_s, y_test_c)"
   ]
  },
  {
   "cell_type": "code",
   "execution_count": 23,
   "id": "de9a8315",
   "metadata": {},
   "outputs": [
    {
     "name": "stdout",
     "output_type": "stream",
     "text": [
      "Accuracy: 0.809\n",
      "Precision: 0.842\n",
      "Recall: 0.896\n",
      "f1 score: 0.868\n"
     ]
    },
    {
     "data": {
      "text/plain": [
       "(<AxesSubplot:title={'center':'Confusion matrix'}, xlabel='Predicted label', ylabel='Actual label'>,\n",
       " <AxesSubplot:>)"
      ]
     },
     "execution_count": 23,
     "metadata": {},
     "output_type": "execute_result"
    },
    {
     "data": {
      "image/png": "[encoded data removed]",
      "text/plain": [
       "<Figure size 720x360 with 3 Axes>"
      ]
     },
     "metadata": {
      "needs_background": "light"
     },
     "output_type": "display_data"
    }
   ],
   "source": [
    "classification_eval(best_clf, y_test_c, y_pred, y_pred_proba)"
   ]
  },
  {
   "cell_type": "markdown",
   "id": "1716e11d",
   "metadata": {},
   "source": [
    "tfidf LSA produced features and tfidf directly produced features get us similar performance when we use logistic and decision tree models."
   ]
  },
  {
   "cell_type": "markdown",
   "id": "22857f13",
   "metadata": {},
   "source": [
    "#### 5.2.3 xgb classification"
   ]
  },
  {
   "cell_type": "code",
   "execution_count": 24,
   "id": "433858fa",
   "metadata": {},
   "outputs": [
    {
     "name": "stdout",
     "output_type": "stream",
     "text": [
      "Fitting 5 folds for each of 10 candidates, totalling 50 fits\n"
     ]
    },
    {
     "name": "stderr",
     "output_type": "stream",
     "text": [
      "[Parallel(n_jobs=-1)]: Using backend LokyBackend with 4 concurrent workers.\n",
      "[Parallel(n_jobs=-1)]: Done  33 tasks      | elapsed: 37.3min\n",
      "[Parallel(n_jobs=-1)]: Done  50 out of  50 | elapsed: 51.5min finished\n"
     ]
    },
    {
     "name": "stdout",
     "output_type": "stream",
     "text": [
      "[23:24:09] WARNING: ..\\src\\learner.cc:1095: Starting in XGBoost 1.3.0, the default evaluation metric used with the objective 'binary:logistic' was changed from 'error' to 'logloss'. Explicitly set eval_metric if you'd like to restore the old behavior.\n",
      "BEST PARAMS {'subsample': 0.8, 'n_estimators': 400, 'max_depth': 10, 'learning_rate': 0.05, 'gamma': 0.3}\n"
     ]
    }
   ],
   "source": [
    "gammas=[0.1, 0.2, 0.3, 0.4, 0.5]\n",
    "subsamples=[0.5, 0.6, 0.7, 0.8]\n",
    "n_estimators=[int(x) for x in np.linspace(start = 50, stop = 500, num = 10)]\n",
    "max_depths=[int(x) for x in np.linspace(1, 10, num = 10)]\n",
    "learning_rates = [0.05, 0.1, 0.25, 0.5, 0.75, 1]\n",
    "param_grid = {'gamma':gammas, 'subsample': subsamples, 'n_estimators': n_estimators, 'max_depth':max_depths, 'learning_rate': learning_rates}\n",
    "clf_estimator=XGBClassifier(use_label_encoder=False)\n",
    "best_clf, y_pred, y_pred_proba=classification_tune(clf_estimator, param_grid, X_train_s, y_train_c, X_test_s, y_test_c)"
   ]
  },
  {
   "cell_type": "code",
   "execution_count": 25,
   "id": "b09ca05b",
   "metadata": {},
   "outputs": [
    {
     "name": "stdout",
     "output_type": "stream",
     "text": [
      "Accuracy: 0.926\n",
      "Precision: 0.933\n",
      "Recall: 0.964\n",
      "f1 score: 0.948\n"
     ]
    },
    {
     "data": {
      "text/plain": [
       "(<AxesSubplot:title={'center':'Confusion matrix'}, xlabel='Predicted label', ylabel='Actual label'>,\n",
       " <AxesSubplot:>)"
      ]
     },
     "execution_count": 25,
     "metadata": {},
     "output_type": "execute_result"
    },
    {
     "data": {
      "image/png": "[encoded data removed]",
      "text/plain": [
       "<Figure size 720x360 with 3 Axes>"
      ]
     },
     "metadata": {
      "needs_background": "light"
     },
     "output_type": "display_data"
    }
   ],
   "source": [
    "classification_eval(best_clf, y_test_c, y_pred, y_pred_proba)"
   ]
  },
  {
   "cell_type": "markdown",
   "id": "c26dedb4",
   "metadata": {},
   "source": [
    "#### 5.2.4 deep learning model (artificial neural network (ANN) with the recurrent neural network (RNN) architecture)"
   ]
  },
  {
   "cell_type": "code",
   "execution_count": 26,
   "id": "654f0cec",
   "metadata": {},
   "outputs": [
    {
     "name": "stdout",
     "output_type": "stream",
     "text": [
      "Model: \"sequential_1\"\n",
      "_________________________________________________________________\n",
      "Layer (type)                 Output Shape              Param #   \n",
      "=================================================================\n",
      "dense_3 (Dense)              (None, 50)                5550      \n",
      "_________________________________________________________________\n",
      "dense_4 (Dense)              (None, 20)                1020      \n",
      "_________________________________________________________________\n",
      "dropout (Dropout)            (None, 20)                0         \n",
      "_________________________________________________________________\n",
      "dense_5 (Dense)              (None, 1)                 21        \n",
      "=================================================================\n",
      "Total params: 6,591\n",
      "Trainable params: 6,591\n",
      "Non-trainable params: 0\n",
      "_________________________________________________________________\n"
     ]
    }
   ],
   "source": [
    "# importing the libraries for deep learning model\n",
    "# simple RNN, also called Vanilla RNN\n",
    "#Create a sequential model\n",
    "import keras \n",
    "from keras.models import Sequential\n",
    "from keras.layers import Dense\n",
    "from keras.layers import Dropout\n",
    "# Model Structure\n",
    "model = Sequential()\n",
    "model.add(Dense(50, input_dim=110, activation='relu'))\n",
    "model.add(Dense(20, activation='relu'))\n",
    "model.add(Dropout(0.1))\n",
    "model.add(Dense(1, activation='sigmoid'))\n",
    "model.compile(loss='binary_crossentropy', optimizer='adam', metrics=['accuracy'])\n",
    "model.summary()"
   ]
  },
  {
   "cell_type": "code",
   "execution_count": 27,
   "id": "a6796e6a",
   "metadata": {},
   "outputs": [
    {
     "name": "stdout",
     "output_type": "stream",
     "text": [
      "Epoch 1/30\n",
      "206/206 [==============================] - 0s 2ms/step - loss: 0.4902 - accuracy: 0.7637\n",
      "Epoch 2/30\n",
      "206/206 [==============================] - 0s 2ms/step - loss: 0.4218 - accuracy: 0.8050\n",
      "Epoch 3/30\n",
      "206/206 [==============================] - 0s 2ms/step - loss: 0.4033 - accuracy: 0.8139\n",
      "Epoch 4/30\n",
      "206/206 [==============================] - 0s 1ms/step - loss: 0.3909 - accuracy: 0.8202\n",
      "Epoch 5/30\n",
      "206/206 [==============================] - 0s 2ms/step - loss: 0.3802 - accuracy: 0.8255\n",
      "Epoch 6/30\n",
      "206/206 [==============================] - 0s 2ms/step - loss: 0.3704 - accuracy: 0.8330\n",
      "Epoch 7/30\n",
      "206/206 [==============================] - 0s 2ms/step - loss: 0.3603 - accuracy: 0.8381\n",
      "Epoch 8/30\n",
      "206/206 [==============================] - 0s 2ms/step - loss: 0.3517 - accuracy: 0.8431\n",
      "Epoch 9/30\n",
      "206/206 [==============================] - 0s 2ms/step - loss: 0.3435 - accuracy: 0.8476\n",
      "Epoch 10/30\n",
      "206/206 [==============================] - 0s 2ms/step - loss: 0.3362 - accuracy: 0.8516\n",
      "Epoch 11/30\n",
      "206/206 [==============================] - 0s 2ms/step - loss: 0.3283 - accuracy: 0.8562\n",
      "Epoch 12/30\n",
      "206/206 [==============================] - 0s 2ms/step - loss: 0.3218 - accuracy: 0.8579\n",
      "Epoch 13/30\n",
      "206/206 [==============================] - 0s 2ms/step - loss: 0.3148 - accuracy: 0.8607\n",
      "Epoch 14/30\n",
      "206/206 [==============================] - 0s 1ms/step - loss: 0.3094 - accuracy: 0.8646\n",
      "Epoch 15/30\n",
      "206/206 [==============================] - 0s 1ms/step - loss: 0.3041 - accuracy: 0.8682\n",
      "Epoch 16/30\n",
      "206/206 [==============================] - 0s 2ms/step - loss: 0.2992 - accuracy: 0.8690\n",
      "Epoch 17/30\n",
      "206/206 [==============================] - 0s 2ms/step - loss: 0.2940 - accuracy: 0.8724\n",
      "Epoch 18/30\n",
      "206/206 [==============================] - 0s 1ms/step - loss: 0.2893 - accuracy: 0.8732\n",
      "Epoch 19/30\n",
      "206/206 [==============================] - 0s 2ms/step - loss: 0.2844 - accuracy: 0.8777\n",
      "Epoch 20/30\n",
      "206/206 [==============================] - 0s 1ms/step - loss: 0.2816 - accuracy: 0.8782\n",
      "Epoch 21/30\n",
      "206/206 [==============================] - 0s 1ms/step - loss: 0.2767 - accuracy: 0.8793\n",
      "Epoch 22/30\n",
      "206/206 [==============================] - 0s 1ms/step - loss: 0.2755 - accuracy: 0.8823\n",
      "Epoch 23/30\n",
      "206/206 [==============================] - 0s 1ms/step - loss: 0.2718 - accuracy: 0.8831\n",
      "Epoch 24/30\n",
      "206/206 [==============================] - 0s 1ms/step - loss: 0.2674 - accuracy: 0.8857\n",
      "Epoch 25/30\n",
      "206/206 [==============================] - 0s 1ms/step - loss: 0.2658 - accuracy: 0.8856\n",
      "Epoch 26/30\n",
      "206/206 [==============================] - 0s 2ms/step - loss: 0.2606 - accuracy: 0.8887\n",
      "Epoch 27/30\n",
      "206/206 [==============================] - 0s 2ms/step - loss: 0.2589 - accuracy: 0.8901\n",
      "Epoch 28/30\n",
      "206/206 [==============================] - 0s 2ms/step - loss: 0.2576 - accuracy: 0.8899\n",
      "Epoch 29/30\n",
      "206/206 [==============================] - 0s 2ms/step - loss: 0.2546 - accuracy: 0.8919\n",
      "Epoch 30/30\n",
      "206/206 [==============================] - 0s 2ms/step - loss: 0.2509 - accuracy: 0.8950\n"
     ]
    },
    {
     "data": {
      "image/png": "[encoded data removed]",
      "text/plain": [
       "<Figure size 432x288 with 2 Axes>"
      ]
     },
     "metadata": {
      "needs_background": "light"
     },
     "output_type": "display_data"
    }
   ],
   "source": [
    "history = model.fit(X_train_s, y_train_c, epochs=30, batch_size=200)\n",
    "fig, loss_ax = plt.subplots()\n",
    "acc_ax = loss_ax.twinx()\n",
    "loss_ax.set_ylim([0.0, 1.0])\n",
    "acc_ax.set_ylim([0.0, 1.0])\n",
    "loss_ax.plot(history.history['loss'], 'y', label='train loss')\n",
    "acc_ax.plot(history.history['accuracy'], 'b', label='train accuracy')\n",
    "loss_ax.set_xlabel('epoch')\n",
    "loss_ax.set_ylabel('loss')\n",
    "acc_ax.set_ylabel('accuray')\n",
    "loss_ax.legend(loc='upper left')\n",
    "acc_ax.legend(loc='lower left')\n",
    "plt.show()"
   ]
  },
  {
   "cell_type": "code",
   "execution_count": 28,
   "id": "0b1a534c",
   "metadata": {},
   "outputs": [
    {
     "name": "stdout",
     "output_type": "stream",
     "text": [
      "Accuracy: 0.837\n",
      "Precision: 0.875\n",
      "Recall: 0.896\n",
      "f1 score: 0.885\n"
     ]
    }
   ],
   "source": [
    "y_pred = model.predict_classes(X_test_s)\n",
    "print(\"Accuracy:\",accuracy_score(y_test_c, y_pred).round(3))\n",
    "print(\"Precision:\",precision_score(y_test_c, y_pred).round(3))\n",
    "print(\"Recall:\", recall_score(y_test_c, y_pred).round(3))\n",
    "print(\"f1 score:\", f1_score(y_test_c, y_pred).round(3))"
   ]
  },
  {
   "cell_type": "markdown",
   "id": "29a2f43f",
   "metadata": {},
   "source": [
    "Well, this deep learning model didn't give us much better results compared with xgb. xgb is the best performer using tfidf lsa produced features."
   ]
  },
  {
   "cell_type": "markdown",
   "id": "f66f74f5",
   "metadata": {},
   "source": [
    "Good references for deep learning beginners:\n",
    "https://machinelearningmastery.com/tutorial-first-neural-network-python-keras/\n",
    "https://machinelearningmastery.com/difference-between-a-batch-and-an-epoch/\n",
    "https://machinelearningmastery.com/learning-curves-for-diagnosing-machine-learning-model-performance/\n",
    "https://machinelearningmastery.com/binary-classification-tutorial-with-the-keras-deep-learning-library/"
   ]
  }
 ],
 "metadata": {
  "kernelspec": {
   "display_name": "Python 3",
   "language": "python",
   "name": "python3"
  },
  "language_info": {
   "codemirror_mode": {
    "name": "ipython",
    "version": 3
   },
   "file_extension": ".py",
   "mimetype": "text/x-python",
   "name": "python",
   "nbconvert_exporter": "python",
   "pygments_lexer": "ipython3",
   "version": "3.8.8"
  }
 },
 "nbformat": 4,
 "nbformat_minor": 5
}
