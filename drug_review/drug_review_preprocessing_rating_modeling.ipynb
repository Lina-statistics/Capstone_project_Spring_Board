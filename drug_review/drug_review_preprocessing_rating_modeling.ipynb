{
 "cells": [
  {
   "cell_type": "markdown",
   "id": "3e856356",
   "metadata": {},
   "source": [
    "## Part III: feature engineering and rating model development\n",
    "\n",
    "#### In this section, we will pre-processing the review data and perform feature engineering for the rating model development. Because there are totally 916 conditions covered in this set, we will select the top 3 of them as our study dataset, birth control, pain and depression. \n",
    "\n",
    "### 3.1 data pre-processing"
   ]
  },
  {
   "cell_type": "code",
   "execution_count": 64,
   "id": "ddf1befd",
   "metadata": {},
   "outputs": [],
   "source": [
    "import re\n",
    "import nltk\n",
    "import numpy as np\n",
    "import pandas as pd\n",
    "from bs4 import BeautifulSoup\n",
    "import matplotlib.pyplot as plt"
   ]
  },
  {
   "cell_type": "code",
   "execution_count": 65,
   "id": "bb584211",
   "metadata": {},
   "outputs": [
    {
     "data": {
      "text/html": [
       "<div>\n",
       "<style scoped>\n",
       "    .dataframe tbody tr th:only-of-type {\n",
       "        vertical-align: middle;\n",
       "    }\n",
       "\n",
       "    .dataframe tbody tr th {\n",
       "        vertical-align: top;\n",
       "    }\n",
       "\n",
       "    .dataframe thead th {\n",
       "        text-align: right;\n",
       "    }\n",
       "</style>\n",
       "<table border=\"1\" class=\"dataframe\">\n",
       "  <thead>\n",
       "    <tr style=\"text-align: right;\">\n",
       "      <th></th>\n",
       "      <th>drugName</th>\n",
       "      <th>condition</th>\n",
       "      <th>review</th>\n",
       "      <th>rating</th>\n",
       "      <th>date</th>\n",
       "      <th>usefulCount</th>\n",
       "      <th>year</th>\n",
       "      <th>month</th>\n",
       "      <th>weekday</th>\n",
       "      <th>clean_re</th>\n",
       "      <th>sent_len</th>\n",
       "      <th>word_len</th>\n",
       "    </tr>\n",
       "  </thead>\n",
       "  <tbody>\n",
       "    <tr>\n",
       "      <th>163740</th>\n",
       "      <td>Mirtazapine</td>\n",
       "      <td>Depression</td>\n",
       "      <td>\"I&amp;#039;ve tried a few antidepressants over th...</td>\n",
       "      <td>10.0</td>\n",
       "      <td>2012-02-28</td>\n",
       "      <td>22</td>\n",
       "      <td>2012</td>\n",
       "      <td>2</td>\n",
       "      <td>1</td>\n",
       "      <td>ve antidepressants years citalopram fluoxetine...</td>\n",
       "      <td>4</td>\n",
       "      <td>81</td>\n",
       "    </tr>\n",
       "    <tr>\n",
       "      <th>206473</th>\n",
       "      <td>Mesalamine</td>\n",
       "      <td>Crohn's Disease, Maintenance</td>\n",
       "      <td>\"My son has Crohn&amp;#039;s disease and has done ...</td>\n",
       "      <td>8.0</td>\n",
       "      <td>2009-05-17</td>\n",
       "      <td>17</td>\n",
       "      <td>2009</td>\n",
       "      <td>5</td>\n",
       "      <td>6</td>\n",
       "      <td>son crohn disease asacol complaints show side ...</td>\n",
       "      <td>4</td>\n",
       "      <td>55</td>\n",
       "    </tr>\n",
       "    <tr>\n",
       "      <th>159672</th>\n",
       "      <td>Bactrim</td>\n",
       "      <td>Urinary Tract Infection</td>\n",
       "      <td>\"Quick reduction of symptoms\"</td>\n",
       "      <td>9.0</td>\n",
       "      <td>2017-09-29</td>\n",
       "      <td>3</td>\n",
       "      <td>2017</td>\n",
       "      <td>9</td>\n",
       "      <td>4</td>\n",
       "      <td>quick reduction symptoms</td>\n",
       "      <td>1</td>\n",
       "      <td>6</td>\n",
       "    </tr>\n",
       "  </tbody>\n",
       "</table>\n",
       "</div>"
      ],
      "text/plain": [
       "           drugName                     condition  \\\n",
       "163740  Mirtazapine                    Depression   \n",
       "206473   Mesalamine  Crohn's Disease, Maintenance   \n",
       "159672      Bactrim       Urinary Tract Infection   \n",
       "\n",
       "                                                   review  rating        date  \\\n",
       "163740  \"I&#039;ve tried a few antidepressants over th...    10.0  2012-02-28   \n",
       "206473  \"My son has Crohn&#039;s disease and has done ...     8.0  2009-05-17   \n",
       "159672                      \"Quick reduction of symptoms\"     9.0  2017-09-29   \n",
       "\n",
       "        usefulCount  year  month  weekday  \\\n",
       "163740           22  2012      2        1   \n",
       "206473           17  2009      5        6   \n",
       "159672            3  2017      9        4   \n",
       "\n",
       "                                                 clean_re  sent_len  word_len  \n",
       "163740  ve antidepressants years citalopram fluoxetine...         4        81  \n",
       "206473  son crohn disease asacol complaints show side ...         4        55  \n",
       "159672                           quick reduction symptoms         1         6  "
      ]
     },
     "execution_count": 65,
     "metadata": {},
     "output_type": "execute_result"
    }
   ],
   "source": [
    "df=pd.read_csv('data/df_EDA.csv', index_col=0)\n",
    "df.head(3)"
   ]
  },
  {
   "cell_type": "code",
   "execution_count": 66,
   "id": "65a8b7e3",
   "metadata": {},
   "outputs": [],
   "source": [
    "df1=df.drop(['clean_re', 'sent_len'], axis=1)\n",
    "df1=df1[df1.condition.isin(['Birth Control', 'Depression', 'Pain'])]"
   ]
  },
  {
   "cell_type": "code",
   "execution_count": 67,
   "id": "2b24ca70",
   "metadata": {},
   "outputs": [
    {
     "data": {
      "text/plain": [
       "(213869, 12)"
      ]
     },
     "execution_count": 67,
     "metadata": {},
     "output_type": "execute_result"
    }
   ],
   "source": [
    "df.shape"
   ]
  },
  {
   "cell_type": "code",
   "execution_count": 68,
   "id": "5ba5b8a1",
   "metadata": {},
   "outputs": [
    {
     "data": {
      "text/plain": [
       "(58845, 10)"
      ]
     },
     "execution_count": 68,
     "metadata": {},
     "output_type": "execute_result"
    }
   ],
   "source": [
    "df1.shape\n",
    "#We will use df1 to develop the sentiment analysis model"
   ]
  },
  {
   "cell_type": "code",
   "execution_count": 69,
   "id": "bbdaf2ed",
   "metadata": {},
   "outputs": [
    {
     "data": {
      "text/plain": [
       "570"
      ]
     },
     "execution_count": 69,
     "metadata": {},
     "output_type": "execute_result"
    }
   ],
   "source": [
    "#we will use the same stopwords for text data normalization as in EDA analysis\n",
    "import requests\n",
    "url = 'http://members.unine.ch/jacques.savoy/clef/englishST.txt'\n",
    "r = requests.get(url)\n",
    "with open('./data/englishST.txt', 'wb') as f:\n",
    "    f.write(r.content)\n",
    "stop_words = []\n",
    "with open('data/englishST.txt', 'r') as f:\n",
    "    [stop_words.append(word) for line in f for word in line.split()]\n",
    "stopwords=set(stop_words)\n",
    "len(stopwords)"
   ]
  },
  {
   "cell_type": "code",
   "execution_count": 70,
   "id": "440ed9c2",
   "metadata": {},
   "outputs": [],
   "source": [
    "#We will evaluate which stemmer is the best using several reviews\n",
    "from nltk.stem import PorterStemmer\n",
    "from nltk.stem import LancasterStemmer\n",
    "from nltk.stem import SnowballStemmer\n",
    "stemmer = SnowballStemmer('english')\n",
    "porter = PorterStemmer()\n",
    "lancaster = LancasterStemmer()\n",
    "from nltk.stem.wordnet import WordNetLemmatizer \n",
    "lemmatizer = WordNetLemmatizer()"
   ]
  },
  {
   "cell_type": "markdown",
   "id": "2a9032b2",
   "metadata": {},
   "source": [
    "PorterStemmer being the oldest one originally developed in 1979. \n",
    "LancasterStemmer was developed in 1990 and uses a more aggressive approach than Porter Stemming Algorithm.The LancasterStemmer (Paice-Husk stemmer) is an iterative algorithm with rules saved externally. LancasterStemmer is simple, but heavy stemming due to iterations and over-stemming may occur. Over-stemming causes the stems to be not linguistic, or they may have no meaning."
   ]
  },
  {
   "cell_type": "code",
   "execution_count": 71,
   "id": "231070ef",
   "metadata": {},
   "outputs": [],
   "source": [
    "#For sentiment analysis, we will use stemmer to progressively reduce the number of words\n",
    "def clean_review_sentiment(review):\n",
    "    review_text = BeautifulSoup(review, 'html.parser').get_text() #remove html tags\n",
    "    letters_only = re.sub('[^a-zA-Z]', ' ', review_text) #substitute all non-letter symbols with space\n",
    "    words = letters_only.lower().split() #convert all element in the string into lower case\n",
    "    useful_w=[w for w in words if not w in stopwords] #remove the most common stop words\n",
    "    stem_w=[stemmer.stem(w) for w in useful_w] #we decided to use stemmer instead of lemmatizer because it is fast\n",
    "    return( ' '.join(stem_w)) #join the stemming_words use space"
   ]
  },
  {
   "cell_type": "code",
   "execution_count": 72,
   "id": "7fc9ed61",
   "metadata": {},
   "outputs": [],
   "source": [
    "df1['cl_review']=[clean_review_sentiment(i) for i in df1.review]"
   ]
  },
  {
   "cell_type": "code",
   "execution_count": 73,
   "id": "58f16d37",
   "metadata": {},
   "outputs": [
    {
     "data": {
      "text/html": [
       "<div>\n",
       "<style scoped>\n",
       "    .dataframe tbody tr th:only-of-type {\n",
       "        vertical-align: middle;\n",
       "    }\n",
       "\n",
       "    .dataframe tbody tr th {\n",
       "        vertical-align: top;\n",
       "    }\n",
       "\n",
       "    .dataframe thead th {\n",
       "        text-align: right;\n",
       "    }\n",
       "</style>\n",
       "<table border=\"1\" class=\"dataframe\">\n",
       "  <thead>\n",
       "    <tr style=\"text-align: right;\">\n",
       "      <th></th>\n",
       "      <th>drugName</th>\n",
       "      <th>condition</th>\n",
       "      <th>review</th>\n",
       "      <th>rating</th>\n",
       "      <th>date</th>\n",
       "      <th>usefulCount</th>\n",
       "      <th>year</th>\n",
       "      <th>month</th>\n",
       "      <th>weekday</th>\n",
       "      <th>word_len</th>\n",
       "      <th>cl_review</th>\n",
       "    </tr>\n",
       "  </thead>\n",
       "  <tbody>\n",
       "    <tr>\n",
       "      <th>163740</th>\n",
       "      <td>Mirtazapine</td>\n",
       "      <td>Depression</td>\n",
       "      <td>\"I&amp;#039;ve tried a few antidepressants over th...</td>\n",
       "      <td>10.0</td>\n",
       "      <td>2012-02-28</td>\n",
       "      <td>22</td>\n",
       "      <td>2012</td>\n",
       "      <td>2</td>\n",
       "      <td>1</td>\n",
       "      <td>81</td>\n",
       "      <td>ve antidepress year citalopram fluoxetin amitr...</td>\n",
       "    </tr>\n",
       "    <tr>\n",
       "      <th>97768</th>\n",
       "      <td>Cyclafem 1 / 35</td>\n",
       "      <td>Birth Control</td>\n",
       "      <td>\"I have been on this birth control for one cyc...</td>\n",
       "      <td>9.0</td>\n",
       "      <td>2015-10-22</td>\n",
       "      <td>4</td>\n",
       "      <td>2015</td>\n",
       "      <td>10</td>\n",
       "      <td>3</td>\n",
       "      <td>157</td>\n",
       "      <td>birth control cycl read review type similar bi...</td>\n",
       "    </tr>\n",
       "    <tr>\n",
       "      <th>215892</th>\n",
       "      <td>Copper</td>\n",
       "      <td>Birth Control</td>\n",
       "      <td>\"I&amp;#039;ve had the copper coil for about 3 mon...</td>\n",
       "      <td>6.0</td>\n",
       "      <td>2016-06-06</td>\n",
       "      <td>1</td>\n",
       "      <td>2016</td>\n",
       "      <td>6</td>\n",
       "      <td>0</td>\n",
       "      <td>114</td>\n",
       "      <td>ve copper coil month excit thought take hormon...</td>\n",
       "    </tr>\n",
       "    <tr>\n",
       "      <th>71428</th>\n",
       "      <td>Levora</td>\n",
       "      <td>Birth Control</td>\n",
       "      <td>\"I was on this pill for almost two years. It d...</td>\n",
       "      <td>2.0</td>\n",
       "      <td>2011-04-16</td>\n",
       "      <td>3</td>\n",
       "      <td>2011</td>\n",
       "      <td>4</td>\n",
       "      <td>5</td>\n",
       "      <td>101</td>\n",
       "      <td>pill year work pregnant experi didn make huge ...</td>\n",
       "    </tr>\n",
       "    <tr>\n",
       "      <th>79865</th>\n",
       "      <td>Blisovi Fe 1 / 20</td>\n",
       "      <td>Birth Control</td>\n",
       "      <td>\"I absolutely love this product and recommend ...</td>\n",
       "      <td>10.0</td>\n",
       "      <td>2017-11-03</td>\n",
       "      <td>4</td>\n",
       "      <td>2017</td>\n",
       "      <td>11</td>\n",
       "      <td>4</td>\n",
       "      <td>95</td>\n",
       "      <td>absolut love product recommend bodi medicin fa...</td>\n",
       "    </tr>\n",
       "  </tbody>\n",
       "</table>\n",
       "</div>"
      ],
      "text/plain": [
       "                 drugName      condition  \\\n",
       "163740        Mirtazapine     Depression   \n",
       "97768     Cyclafem 1 / 35  Birth Control   \n",
       "215892             Copper  Birth Control   \n",
       "71428              Levora  Birth Control   \n",
       "79865   Blisovi Fe 1 / 20  Birth Control   \n",
       "\n",
       "                                                   review  rating        date  \\\n",
       "163740  \"I&#039;ve tried a few antidepressants over th...    10.0  2012-02-28   \n",
       "97768   \"I have been on this birth control for one cyc...     9.0  2015-10-22   \n",
       "215892  \"I&#039;ve had the copper coil for about 3 mon...     6.0  2016-06-06   \n",
       "71428   \"I was on this pill for almost two years. It d...     2.0  2011-04-16   \n",
       "79865   \"I absolutely love this product and recommend ...    10.0  2017-11-03   \n",
       "\n",
       "        usefulCount  year  month  weekday  word_len  \\\n",
       "163740           22  2012      2        1        81   \n",
       "97768             4  2015     10        3       157   \n",
       "215892            1  2016      6        0       114   \n",
       "71428             3  2011      4        5       101   \n",
       "79865             4  2017     11        4        95   \n",
       "\n",
       "                                                cl_review  \n",
       "163740  ve antidepress year citalopram fluoxetin amitr...  \n",
       "97768   birth control cycl read review type similar bi...  \n",
       "215892  ve copper coil month excit thought take hormon...  \n",
       "71428   pill year work pregnant experi didn make huge ...  \n",
       "79865   absolut love product recommend bodi medicin fa...  "
      ]
     },
     "execution_count": 73,
     "metadata": {},
     "output_type": "execute_result"
    }
   ],
   "source": [
    "df1.head()"
   ]
  },
  {
   "cell_type": "code",
   "execution_count": 74,
   "id": "2712181d",
   "metadata": {},
   "outputs": [
    {
     "data": {
      "text/plain": [
       "<AxesSubplot:>"
      ]
     },
     "execution_count": 74,
     "metadata": {},
     "output_type": "execute_result"
    },
    {
     "data": {
      "image/png": "[encoded data removed]",
      "text/plain": [
       "<Figure size 432x288 with 1 Axes>"
      ]
     },
     "metadata": {
      "needs_background": "light"
     },
     "output_type": "display_data"
    }
   ],
   "source": [
    "df1.rating.hist()"
   ]
  },
  {
   "cell_type": "markdown",
   "id": "51faf7d0",
   "metadata": {},
   "source": [
    "Most reviews have high ratings in this dataset. "
   ]
  },
  {
   "cell_type": "markdown",
   "id": "083e4462",
   "metadata": {},
   "source": [
    "## 3.2 feature engineering and rating model development\n",
    "\n",
    "### 3.2.1 use NLTK pre-trained sentiment analyzer, VADER, to get the sentiment indicator as predictor"
   ]
  },
  {
   "cell_type": "markdown",
   "id": "ba078ae9",
   "metadata": {},
   "source": [
    "NLTK has a built-in sentiment analyzer called VADER (Valence Aware Dictionary and sEntiment Reasoner).We can use it to extract the sentiment information in the review"
   ]
  },
  {
   "cell_type": "code",
   "execution_count": 75,
   "id": "c651e46d",
   "metadata": {},
   "outputs": [
    {
     "name": "stderr",
     "output_type": "stream",
     "text": [
      "[nltk_data] Downloading package vader_lexicon to\n",
      "[nltk_data]     C:\\Users\\gln_d\\AppData\\Roaming\\nltk_data...\n",
      "[nltk_data]   Package vader_lexicon is already up-to-date!\n"
     ]
    }
   ],
   "source": [
    "#Using NLTK’s Pre-Trained Sentiment Analyzer, VADER (Valence Aware Dictionary and sEntiment Reasoner)\n",
    "import nltk\n",
    "nltk.download([\"vader_lexicon\"])\n",
    "from nltk.sentiment.vader import SentimentIntensityAnalyzer\n",
    "sid_analyzer = SentimentIntensityAnalyzer()"
   ]
  },
  {
   "cell_type": "code",
   "execution_count": 76,
   "id": "45fd9559",
   "metadata": {
    "scrolled": true
   },
   "outputs": [
    {
     "data": {
      "text/plain": [
       "'\"I&#039;ve tried a few antidepressants over the years (citalopram, fluoxetine, amitriptyline), but none of those helped with my depression, insomnia &amp; anxiety. My doctor suggested and changed me onto 45mg mirtazapine and this medicine has saved my life. Thankfully I have had no side effects especially the most common - weight gain, I&#039;ve actually lost alot of weight. I still have suicidal thoughts but mirtazapine has saved me.\"'"
      ]
     },
     "execution_count": 76,
     "metadata": {},
     "output_type": "execute_result"
    }
   ],
   "source": [
    "#Let's test dis_analyzer using nltk.sentiment.vader\n",
    "df1.review.iloc[0]"
   ]
  },
  {
   "cell_type": "code",
   "execution_count": 77,
   "id": "7825e100",
   "metadata": {},
   "outputs": [
    {
     "data": {
      "text/plain": [
       "{'neg': 0.212, 'neu': 0.61, 'pos': 0.178, 'compound': -0.4596}"
      ]
     },
     "execution_count": 77,
     "metadata": {},
     "output_type": "execute_result"
    }
   ],
   "source": [
    "sid_analyzer.polarity_scores(df1.review.iloc[0])"
   ]
  },
  {
   "cell_type": "code",
   "execution_count": 78,
   "id": "c9ae63af",
   "metadata": {},
   "outputs": [],
   "source": [
    "#use compound score as sentiment indicator\n",
    "def sentiment_vader(review):\n",
    "    c=sid_analyzer.polarity_scores(review).get('compound')\n",
    "    return c   "
   ]
  },
  {
   "cell_type": "code",
   "execution_count": 79,
   "id": "6625c528",
   "metadata": {},
   "outputs": [
    {
     "data": {
      "text/plain": [
       "0.9559"
      ]
     },
     "execution_count": 79,
     "metadata": {},
     "output_type": "execute_result"
    }
   ],
   "source": [
    "sentiment_vader(df1.review.iloc[1])"
   ]
  },
  {
   "cell_type": "code",
   "execution_count": 80,
   "id": "4a3f1f83",
   "metadata": {
    "scrolled": true
   },
   "outputs": [],
   "source": [
    "df1['vader_compound']=[sentiment_vader(i) for i in df1.review]"
   ]
  },
  {
   "cell_type": "code",
   "execution_count": 81,
   "id": "5c52294d",
   "metadata": {},
   "outputs": [
    {
     "data": {
      "text/html": [
       "<div>\n",
       "<style scoped>\n",
       "    .dataframe tbody tr th:only-of-type {\n",
       "        vertical-align: middle;\n",
       "    }\n",
       "\n",
       "    .dataframe tbody tr th {\n",
       "        vertical-align: top;\n",
       "    }\n",
       "\n",
       "    .dataframe thead th {\n",
       "        text-align: right;\n",
       "    }\n",
       "</style>\n",
       "<table border=\"1\" class=\"dataframe\">\n",
       "  <thead>\n",
       "    <tr style=\"text-align: right;\">\n",
       "      <th></th>\n",
       "      <th>drugName</th>\n",
       "      <th>condition</th>\n",
       "      <th>review</th>\n",
       "      <th>rating</th>\n",
       "      <th>date</th>\n",
       "      <th>usefulCount</th>\n",
       "      <th>year</th>\n",
       "      <th>month</th>\n",
       "      <th>weekday</th>\n",
       "      <th>word_len</th>\n",
       "      <th>cl_review</th>\n",
       "      <th>vader_compound</th>\n",
       "    </tr>\n",
       "  </thead>\n",
       "  <tbody>\n",
       "    <tr>\n",
       "      <th>163740</th>\n",
       "      <td>Mirtazapine</td>\n",
       "      <td>Depression</td>\n",
       "      <td>\"I&amp;#039;ve tried a few antidepressants over th...</td>\n",
       "      <td>10.0</td>\n",
       "      <td>2012-02-28</td>\n",
       "      <td>22</td>\n",
       "      <td>2012</td>\n",
       "      <td>2</td>\n",
       "      <td>1</td>\n",
       "      <td>81</td>\n",
       "      <td>ve antidepress year citalopram fluoxetin amitr...</td>\n",
       "      <td>-0.4596</td>\n",
       "    </tr>\n",
       "    <tr>\n",
       "      <th>97768</th>\n",
       "      <td>Cyclafem 1 / 35</td>\n",
       "      <td>Birth Control</td>\n",
       "      <td>\"I have been on this birth control for one cyc...</td>\n",
       "      <td>9.0</td>\n",
       "      <td>2015-10-22</td>\n",
       "      <td>4</td>\n",
       "      <td>2015</td>\n",
       "      <td>10</td>\n",
       "      <td>3</td>\n",
       "      <td>157</td>\n",
       "      <td>birth control cycl read review type similar bi...</td>\n",
       "      <td>0.9559</td>\n",
       "    </tr>\n",
       "    <tr>\n",
       "      <th>215892</th>\n",
       "      <td>Copper</td>\n",
       "      <td>Birth Control</td>\n",
       "      <td>\"I&amp;#039;ve had the copper coil for about 3 mon...</td>\n",
       "      <td>6.0</td>\n",
       "      <td>2016-06-06</td>\n",
       "      <td>1</td>\n",
       "      <td>2016</td>\n",
       "      <td>6</td>\n",
       "      <td>0</td>\n",
       "      <td>114</td>\n",
       "      <td>ve copper coil month excit thought take hormon...</td>\n",
       "      <td>-0.5998</td>\n",
       "    </tr>\n",
       "    <tr>\n",
       "      <th>71428</th>\n",
       "      <td>Levora</td>\n",
       "      <td>Birth Control</td>\n",
       "      <td>\"I was on this pill for almost two years. It d...</td>\n",
       "      <td>2.0</td>\n",
       "      <td>2011-04-16</td>\n",
       "      <td>3</td>\n",
       "      <td>2011</td>\n",
       "      <td>4</td>\n",
       "      <td>5</td>\n",
       "      <td>101</td>\n",
       "      <td>pill year work pregnant experi didn make huge ...</td>\n",
       "      <td>-0.8901</td>\n",
       "    </tr>\n",
       "    <tr>\n",
       "      <th>79865</th>\n",
       "      <td>Blisovi Fe 1 / 20</td>\n",
       "      <td>Birth Control</td>\n",
       "      <td>\"I absolutely love this product and recommend ...</td>\n",
       "      <td>10.0</td>\n",
       "      <td>2017-11-03</td>\n",
       "      <td>4</td>\n",
       "      <td>2017</td>\n",
       "      <td>11</td>\n",
       "      <td>4</td>\n",
       "      <td>95</td>\n",
       "      <td>absolut love product recommend bodi medicin fa...</td>\n",
       "      <td>0.4468</td>\n",
       "    </tr>\n",
       "  </tbody>\n",
       "</table>\n",
       "</div>"
      ],
      "text/plain": [
       "                 drugName      condition  \\\n",
       "163740        Mirtazapine     Depression   \n",
       "97768     Cyclafem 1 / 35  Birth Control   \n",
       "215892             Copper  Birth Control   \n",
       "71428              Levora  Birth Control   \n",
       "79865   Blisovi Fe 1 / 20  Birth Control   \n",
       "\n",
       "                                                   review  rating        date  \\\n",
       "163740  \"I&#039;ve tried a few antidepressants over th...    10.0  2012-02-28   \n",
       "97768   \"I have been on this birth control for one cyc...     9.0  2015-10-22   \n",
       "215892  \"I&#039;ve had the copper coil for about 3 mon...     6.0  2016-06-06   \n",
       "71428   \"I was on this pill for almost two years. It d...     2.0  2011-04-16   \n",
       "79865   \"I absolutely love this product and recommend ...    10.0  2017-11-03   \n",
       "\n",
       "        usefulCount  year  month  weekday  word_len  \\\n",
       "163740           22  2012      2        1        81   \n",
       "97768             4  2015     10        3       157   \n",
       "215892            1  2016      6        0       114   \n",
       "71428             3  2011      4        5       101   \n",
       "79865             4  2017     11        4        95   \n",
       "\n",
       "                                                cl_review  vader_compound  \n",
       "163740  ve antidepress year citalopram fluoxetin amitr...         -0.4596  \n",
       "97768   birth control cycl read review type similar bi...          0.9559  \n",
       "215892  ve copper coil month excit thought take hormon...         -0.5998  \n",
       "71428   pill year work pregnant experi didn make huge ...         -0.8901  \n",
       "79865   absolut love product recommend bodi medicin fa...          0.4468  "
      ]
     },
     "execution_count": 81,
     "metadata": {},
     "output_type": "execute_result"
    }
   ],
   "source": [
    "df1.head()"
   ]
  },
  {
   "cell_type": "markdown",
   "id": "f87a599f",
   "metadata": {},
   "source": [
    "### 3.2.2 use textblob pre-trained sentiment analyzer, TextBlob, to extract sentiment information as candidate features\n",
    "\n",
    "Polarity is float which lies in the range of [-1,1]. where 1 means positive statement and -1 means a negative statement. Subjective sentences generally refer to personal opinion, emotion or judgment whereas objective refers to factual information. Subjectivity is also a float which lies in the range of [0,1]. The detail can be found https://www.analyticsvidhya.com/blog/2018/02/natural-language-processing-for-beginners-using-textblob/"
   ]
  },
  {
   "cell_type": "code",
   "execution_count": 82,
   "id": "0c9d9872",
   "metadata": {},
   "outputs": [
    {
     "data": {
      "text/plain": [
       "Sentiment(polarity=0.275, subjectivity=0.8194444444444444)"
      ]
     },
     "execution_count": 82,
     "metadata": {},
     "output_type": "execute_result"
    }
   ],
   "source": [
    "from textblob import TextBlob\n",
    "blob = TextBlob(\"This restaurant was great, but I'm not sure if I'll go there again.\")\n",
    "blob.sentiment"
   ]
  },
  {
   "cell_type": "code",
   "execution_count": 83,
   "id": "4619865b",
   "metadata": {},
   "outputs": [
    {
     "data": {
      "text/plain": [
       "0.275"
      ]
     },
     "execution_count": 83,
     "metadata": {},
     "output_type": "execute_result"
    }
   ],
   "source": [
    "blob.sentiment.polarity"
   ]
  },
  {
   "cell_type": "code",
   "execution_count": 84,
   "id": "047b1f8f",
   "metadata": {},
   "outputs": [],
   "source": [
    "df1['textblob_polarity']=[TextBlob(i).sentiment.polarity for i in df1.review]"
   ]
  },
  {
   "cell_type": "code",
   "execution_count": 85,
   "id": "634b7589",
   "metadata": {},
   "outputs": [],
   "source": [
    "df1['textblob.subjectivity']=[TextBlob(i).sentiment.subjectivity for i in df1.review]"
   ]
  },
  {
   "cell_type": "code",
   "execution_count": 86,
   "id": "8e965de4",
   "metadata": {},
   "outputs": [
    {
     "data": {
      "text/plain": [
       "507"
      ]
     },
     "execution_count": 86,
     "metadata": {},
     "output_type": "execute_result"
    }
   ],
   "source": [
    "#convert categorical variables into dummy variables\n",
    "df1.drugName.nunique()"
   ]
  },
  {
   "cell_type": "code",
   "execution_count": 87,
   "id": "01bbb0ed",
   "metadata": {},
   "outputs": [],
   "source": [
    "y=df1.rating\n",
    "X=df1.drop(columns=['review', 'cl_review', 'date', 'rating', 'drugName'])"
   ]
  },
  {
   "cell_type": "code",
   "execution_count": 88,
   "id": "a014b153",
   "metadata": {},
   "outputs": [
    {
     "data": {
      "text/html": [
       "<div>\n",
       "<style scoped>\n",
       "    .dataframe tbody tr th:only-of-type {\n",
       "        vertical-align: middle;\n",
       "    }\n",
       "\n",
       "    .dataframe tbody tr th {\n",
       "        vertical-align: top;\n",
       "    }\n",
       "\n",
       "    .dataframe thead th {\n",
       "        text-align: right;\n",
       "    }\n",
       "</style>\n",
       "<table border=\"1\" class=\"dataframe\">\n",
       "  <thead>\n",
       "    <tr style=\"text-align: right;\">\n",
       "      <th></th>\n",
       "      <th>condition</th>\n",
       "      <th>usefulCount</th>\n",
       "      <th>year</th>\n",
       "      <th>month</th>\n",
       "      <th>weekday</th>\n",
       "      <th>word_len</th>\n",
       "      <th>vader_compound</th>\n",
       "      <th>textblob_polarity</th>\n",
       "      <th>textblob.subjectivity</th>\n",
       "    </tr>\n",
       "  </thead>\n",
       "  <tbody>\n",
       "    <tr>\n",
       "      <th>163740</th>\n",
       "      <td>Depression</td>\n",
       "      <td>22</td>\n",
       "      <td>2012</td>\n",
       "      <td>2</td>\n",
       "      <td>1</td>\n",
       "      <td>81</td>\n",
       "      <td>-0.4596</td>\n",
       "      <td>0.000000</td>\n",
       "      <td>0.440000</td>\n",
       "    </tr>\n",
       "    <tr>\n",
       "      <th>97768</th>\n",
       "      <td>Birth Control</td>\n",
       "      <td>4</td>\n",
       "      <td>2015</td>\n",
       "      <td>10</td>\n",
       "      <td>3</td>\n",
       "      <td>157</td>\n",
       "      <td>0.9559</td>\n",
       "      <td>0.260926</td>\n",
       "      <td>0.550463</td>\n",
       "    </tr>\n",
       "    <tr>\n",
       "      <th>215892</th>\n",
       "      <td>Birth Control</td>\n",
       "      <td>1</td>\n",
       "      <td>2016</td>\n",
       "      <td>6</td>\n",
       "      <td>0</td>\n",
       "      <td>114</td>\n",
       "      <td>-0.5998</td>\n",
       "      <td>-0.110663</td>\n",
       "      <td>0.618027</td>\n",
       "    </tr>\n",
       "    <tr>\n",
       "      <th>71428</th>\n",
       "      <td>Birth Control</td>\n",
       "      <td>3</td>\n",
       "      <td>2011</td>\n",
       "      <td>4</td>\n",
       "      <td>5</td>\n",
       "      <td>101</td>\n",
       "      <td>-0.8901</td>\n",
       "      <td>-0.005889</td>\n",
       "      <td>0.546889</td>\n",
       "    </tr>\n",
       "    <tr>\n",
       "      <th>79865</th>\n",
       "      <td>Birth Control</td>\n",
       "      <td>4</td>\n",
       "      <td>2017</td>\n",
       "      <td>11</td>\n",
       "      <td>4</td>\n",
       "      <td>95</td>\n",
       "      <td>0.4468</td>\n",
       "      <td>0.071667</td>\n",
       "      <td>0.578333</td>\n",
       "    </tr>\n",
       "  </tbody>\n",
       "</table>\n",
       "</div>"
      ],
      "text/plain": [
       "            condition  usefulCount  year  month  weekday  word_len  \\\n",
       "163740     Depression           22  2012      2        1        81   \n",
       "97768   Birth Control            4  2015     10        3       157   \n",
       "215892  Birth Control            1  2016      6        0       114   \n",
       "71428   Birth Control            3  2011      4        5       101   \n",
       "79865   Birth Control            4  2017     11        4        95   \n",
       "\n",
       "        vader_compound  textblob_polarity  textblob.subjectivity  \n",
       "163740         -0.4596           0.000000               0.440000  \n",
       "97768           0.9559           0.260926               0.550463  \n",
       "215892         -0.5998          -0.110663               0.618027  \n",
       "71428          -0.8901          -0.005889               0.546889  \n",
       "79865           0.4468           0.071667               0.578333  "
      ]
     },
     "execution_count": 88,
     "metadata": {},
     "output_type": "execute_result"
    }
   ],
   "source": [
    "X.head()"
   ]
  },
  {
   "cell_type": "markdown",
   "id": "f78abf66",
   "metadata": {},
   "source": [
    "### 3.2.3 data preparation for modeling "
   ]
  },
  {
   "cell_type": "code",
   "execution_count": 89,
   "id": "ded53dc9",
   "metadata": {},
   "outputs": [
    {
     "data": {
      "text/plain": [
       "dtype('float64')"
      ]
     },
     "execution_count": 89,
     "metadata": {},
     "output_type": "execute_result"
    }
   ],
   "source": [
    "y.dtypes"
   ]
  },
  {
   "cell_type": "code",
   "execution_count": 90,
   "id": "89b8d3fb",
   "metadata": {},
   "outputs": [
    {
     "data": {
      "text/plain": [
       "condition                 object\n",
       "usefulCount                int64\n",
       "year                       int64\n",
       "month                      int64\n",
       "weekday                    int64\n",
       "word_len                   int64\n",
       "vader_compound           float64\n",
       "textblob_polarity        float64\n",
       "textblob.subjectivity    float64\n",
       "dtype: object"
      ]
     },
     "execution_count": 90,
     "metadata": {},
     "output_type": "execute_result"
    }
   ],
   "source": [
    "X.dtypes"
   ]
  },
  {
   "cell_type": "code",
   "execution_count": 91,
   "id": "de6efc1b",
   "metadata": {},
   "outputs": [
    {
     "data": {
      "text/html": [
       "<div>\n",
       "<style scoped>\n",
       "    .dataframe tbody tr th:only-of-type {\n",
       "        vertical-align: middle;\n",
       "    }\n",
       "\n",
       "    .dataframe tbody tr th {\n",
       "        vertical-align: top;\n",
       "    }\n",
       "\n",
       "    .dataframe thead th {\n",
       "        text-align: right;\n",
       "    }\n",
       "</style>\n",
       "<table border=\"1\" class=\"dataframe\">\n",
       "  <thead>\n",
       "    <tr style=\"text-align: right;\">\n",
       "      <th></th>\n",
       "      <th>con_1</th>\n",
       "      <th>con_2</th>\n",
       "    </tr>\n",
       "  </thead>\n",
       "  <tbody>\n",
       "    <tr>\n",
       "      <th>163740</th>\n",
       "      <td>1</td>\n",
       "      <td>0</td>\n",
       "    </tr>\n",
       "    <tr>\n",
       "      <th>97768</th>\n",
       "      <td>0</td>\n",
       "      <td>0</td>\n",
       "    </tr>\n",
       "    <tr>\n",
       "      <th>215892</th>\n",
       "      <td>0</td>\n",
       "      <td>0</td>\n",
       "    </tr>\n",
       "    <tr>\n",
       "      <th>71428</th>\n",
       "      <td>0</td>\n",
       "      <td>0</td>\n",
       "    </tr>\n",
       "    <tr>\n",
       "      <th>79865</th>\n",
       "      <td>0</td>\n",
       "      <td>0</td>\n",
       "    </tr>\n",
       "  </tbody>\n",
       "</table>\n",
       "</div>"
      ],
      "text/plain": [
       "        con_1  con_2\n",
       "163740      1      0\n",
       "97768       0      0\n",
       "215892      0      0\n",
       "71428       0      0\n",
       "79865       0      0"
      ]
     },
     "execution_count": 91,
     "metadata": {},
     "output_type": "execute_result"
    }
   ],
   "source": [
    "con_dummy=pd.get_dummies(X.condition, drop_first=True)\n",
    "con_dummy.rename(columns={'Depression':'con_1', 'Pain':'con_2'}, inplace=True)\n",
    "con_dummy.head()"
   ]
  },
  {
   "cell_type": "code",
   "execution_count": 92,
   "id": "a885e350",
   "metadata": {},
   "outputs": [
    {
     "data": {
      "text/html": [
       "<div>\n",
       "<style scoped>\n",
       "    .dataframe tbody tr th:only-of-type {\n",
       "        vertical-align: middle;\n",
       "    }\n",
       "\n",
       "    .dataframe tbody tr th {\n",
       "        vertical-align: top;\n",
       "    }\n",
       "\n",
       "    .dataframe thead th {\n",
       "        text-align: right;\n",
       "    }\n",
       "</style>\n",
       "<table border=\"1\" class=\"dataframe\">\n",
       "  <thead>\n",
       "    <tr style=\"text-align: right;\">\n",
       "      <th></th>\n",
       "      <th>condition</th>\n",
       "      <th>usefulCount</th>\n",
       "      <th>year</th>\n",
       "      <th>month</th>\n",
       "      <th>weekday</th>\n",
       "      <th>word_len</th>\n",
       "      <th>vader_compound</th>\n",
       "      <th>textblob_polarity</th>\n",
       "      <th>textblob.subjectivity</th>\n",
       "      <th>con_1</th>\n",
       "      <th>con_2</th>\n",
       "    </tr>\n",
       "  </thead>\n",
       "  <tbody>\n",
       "    <tr>\n",
       "      <th>163740</th>\n",
       "      <td>Depression</td>\n",
       "      <td>22</td>\n",
       "      <td>2012</td>\n",
       "      <td>2</td>\n",
       "      <td>1</td>\n",
       "      <td>81</td>\n",
       "      <td>-0.4596</td>\n",
       "      <td>0.000000</td>\n",
       "      <td>0.440000</td>\n",
       "      <td>1</td>\n",
       "      <td>0</td>\n",
       "    </tr>\n",
       "    <tr>\n",
       "      <th>97768</th>\n",
       "      <td>Birth Control</td>\n",
       "      <td>4</td>\n",
       "      <td>2015</td>\n",
       "      <td>10</td>\n",
       "      <td>3</td>\n",
       "      <td>157</td>\n",
       "      <td>0.9559</td>\n",
       "      <td>0.260926</td>\n",
       "      <td>0.550463</td>\n",
       "      <td>0</td>\n",
       "      <td>0</td>\n",
       "    </tr>\n",
       "    <tr>\n",
       "      <th>215892</th>\n",
       "      <td>Birth Control</td>\n",
       "      <td>1</td>\n",
       "      <td>2016</td>\n",
       "      <td>6</td>\n",
       "      <td>0</td>\n",
       "      <td>114</td>\n",
       "      <td>-0.5998</td>\n",
       "      <td>-0.110663</td>\n",
       "      <td>0.618027</td>\n",
       "      <td>0</td>\n",
       "      <td>0</td>\n",
       "    </tr>\n",
       "    <tr>\n",
       "      <th>71428</th>\n",
       "      <td>Birth Control</td>\n",
       "      <td>3</td>\n",
       "      <td>2011</td>\n",
       "      <td>4</td>\n",
       "      <td>5</td>\n",
       "      <td>101</td>\n",
       "      <td>-0.8901</td>\n",
       "      <td>-0.005889</td>\n",
       "      <td>0.546889</td>\n",
       "      <td>0</td>\n",
       "      <td>0</td>\n",
       "    </tr>\n",
       "    <tr>\n",
       "      <th>79865</th>\n",
       "      <td>Birth Control</td>\n",
       "      <td>4</td>\n",
       "      <td>2017</td>\n",
       "      <td>11</td>\n",
       "      <td>4</td>\n",
       "      <td>95</td>\n",
       "      <td>0.4468</td>\n",
       "      <td>0.071667</td>\n",
       "      <td>0.578333</td>\n",
       "      <td>0</td>\n",
       "      <td>0</td>\n",
       "    </tr>\n",
       "  </tbody>\n",
       "</table>\n",
       "</div>"
      ],
      "text/plain": [
       "            condition  usefulCount  year  month  weekday  word_len  \\\n",
       "163740     Depression           22  2012      2        1        81   \n",
       "97768   Birth Control            4  2015     10        3       157   \n",
       "215892  Birth Control            1  2016      6        0       114   \n",
       "71428   Birth Control            3  2011      4        5       101   \n",
       "79865   Birth Control            4  2017     11        4        95   \n",
       "\n",
       "        vader_compound  textblob_polarity  textblob.subjectivity  con_1  con_2  \n",
       "163740         -0.4596           0.000000               0.440000      1      0  \n",
       "97768           0.9559           0.260926               0.550463      0      0  \n",
       "215892         -0.5998          -0.110663               0.618027      0      0  \n",
       "71428          -0.8901          -0.005889               0.546889      0      0  \n",
       "79865           0.4468           0.071667               0.578333      0      0  "
      ]
     },
     "execution_count": 92,
     "metadata": {},
     "output_type": "execute_result"
    }
   ],
   "source": [
    "X=pd.concat([X, con_dummy], axis=1)\n",
    "X.head()"
   ]
  },
  {
   "cell_type": "code",
   "execution_count": 93,
   "id": "d7fb3c79",
   "metadata": {},
   "outputs": [
    {
     "data": {
      "text/html": [
       "<div>\n",
       "<style scoped>\n",
       "    .dataframe tbody tr th:only-of-type {\n",
       "        vertical-align: middle;\n",
       "    }\n",
       "\n",
       "    .dataframe tbody tr th {\n",
       "        vertical-align: top;\n",
       "    }\n",
       "\n",
       "    .dataframe thead th {\n",
       "        text-align: right;\n",
       "    }\n",
       "</style>\n",
       "<table border=\"1\" class=\"dataframe\">\n",
       "  <thead>\n",
       "    <tr style=\"text-align: right;\">\n",
       "      <th></th>\n",
       "      <th>usefulCount</th>\n",
       "      <th>year</th>\n",
       "      <th>month</th>\n",
       "      <th>weekday</th>\n",
       "      <th>word_len</th>\n",
       "      <th>vader_compound</th>\n",
       "      <th>textblob_polarity</th>\n",
       "      <th>textblob.subjectivity</th>\n",
       "      <th>con_1</th>\n",
       "      <th>con_2</th>\n",
       "    </tr>\n",
       "  </thead>\n",
       "  <tbody>\n",
       "    <tr>\n",
       "      <th>163740</th>\n",
       "      <td>22</td>\n",
       "      <td>2012</td>\n",
       "      <td>2</td>\n",
       "      <td>1</td>\n",
       "      <td>81</td>\n",
       "      <td>-0.4596</td>\n",
       "      <td>0.000000</td>\n",
       "      <td>0.440000</td>\n",
       "      <td>1</td>\n",
       "      <td>0</td>\n",
       "    </tr>\n",
       "    <tr>\n",
       "      <th>97768</th>\n",
       "      <td>4</td>\n",
       "      <td>2015</td>\n",
       "      <td>10</td>\n",
       "      <td>3</td>\n",
       "      <td>157</td>\n",
       "      <td>0.9559</td>\n",
       "      <td>0.260926</td>\n",
       "      <td>0.550463</td>\n",
       "      <td>0</td>\n",
       "      <td>0</td>\n",
       "    </tr>\n",
       "    <tr>\n",
       "      <th>215892</th>\n",
       "      <td>1</td>\n",
       "      <td>2016</td>\n",
       "      <td>6</td>\n",
       "      <td>0</td>\n",
       "      <td>114</td>\n",
       "      <td>-0.5998</td>\n",
       "      <td>-0.110663</td>\n",
       "      <td>0.618027</td>\n",
       "      <td>0</td>\n",
       "      <td>0</td>\n",
       "    </tr>\n",
       "    <tr>\n",
       "      <th>71428</th>\n",
       "      <td>3</td>\n",
       "      <td>2011</td>\n",
       "      <td>4</td>\n",
       "      <td>5</td>\n",
       "      <td>101</td>\n",
       "      <td>-0.8901</td>\n",
       "      <td>-0.005889</td>\n",
       "      <td>0.546889</td>\n",
       "      <td>0</td>\n",
       "      <td>0</td>\n",
       "    </tr>\n",
       "    <tr>\n",
       "      <th>79865</th>\n",
       "      <td>4</td>\n",
       "      <td>2017</td>\n",
       "      <td>11</td>\n",
       "      <td>4</td>\n",
       "      <td>95</td>\n",
       "      <td>0.4468</td>\n",
       "      <td>0.071667</td>\n",
       "      <td>0.578333</td>\n",
       "      <td>0</td>\n",
       "      <td>0</td>\n",
       "    </tr>\n",
       "  </tbody>\n",
       "</table>\n",
       "</div>"
      ],
      "text/plain": [
       "        usefulCount  year  month  weekday  word_len  vader_compound  \\\n",
       "163740           22  2012      2        1        81         -0.4596   \n",
       "97768             4  2015     10        3       157          0.9559   \n",
       "215892            1  2016      6        0       114         -0.5998   \n",
       "71428             3  2011      4        5       101         -0.8901   \n",
       "79865             4  2017     11        4        95          0.4468   \n",
       "\n",
       "        textblob_polarity  textblob.subjectivity  con_1  con_2  \n",
       "163740           0.000000               0.440000      1      0  \n",
       "97768            0.260926               0.550463      0      0  \n",
       "215892          -0.110663               0.618027      0      0  \n",
       "71428           -0.005889               0.546889      0      0  \n",
       "79865            0.071667               0.578333      0      0  "
      ]
     },
     "execution_count": 93,
     "metadata": {},
     "output_type": "execute_result"
    }
   ],
   "source": [
    "X=X.drop(columns=['condition'])\n",
    "#depression if con_1=1, pain if con_2=1, birth control if con_1 and con_2 both =0\n",
    "X.head()"
   ]
  },
  {
   "cell_type": "code",
   "execution_count": 94,
   "id": "d3652772",
   "metadata": {},
   "outputs": [
    {
     "data": {
      "text/plain": [
       "usefulCount                int64\n",
       "year                       int64\n",
       "month                      int64\n",
       "weekday                    int64\n",
       "word_len                   int64\n",
       "vader_compound           float64\n",
       "textblob_polarity        float64\n",
       "textblob.subjectivity    float64\n",
       "con_1                      uint8\n",
       "con_2                      uint8\n",
       "dtype: object"
      ]
     },
     "execution_count": 94,
     "metadata": {},
     "output_type": "execute_result"
    }
   ],
   "source": [
    "X.dtypes"
   ]
  },
  {
   "cell_type": "code",
   "execution_count": 95,
   "id": "eb0a8b20",
   "metadata": {},
   "outputs": [
    {
     "data": {
      "text/plain": [
       "usefulCount              0\n",
       "year                     0\n",
       "month                    0\n",
       "weekday                  0\n",
       "word_len                 0\n",
       "vader_compound           0\n",
       "textblob_polarity        0\n",
       "textblob.subjectivity    0\n",
       "con_1                    0\n",
       "con_2                    0\n",
       "dtype: int64"
      ]
     },
     "execution_count": 95,
     "metadata": {},
     "output_type": "execute_result"
    }
   ],
   "source": [
    "X.isna().sum()"
   ]
  },
  {
   "cell_type": "code",
   "execution_count": 96,
   "id": "3aad5ea4",
   "metadata": {},
   "outputs": [],
   "source": [
    "#Although many people just transform timestamp data into dummy variables before using sklearn modeling, what if I just leave them alone here?\n",
    "from sklearn.preprocessing import StandardScaler\n",
    "from sklearn.model_selection import train_test_split, cross_validate\n",
    "X_train, X_test, y_train, y_test = train_test_split(X, y, test_size=0.3, random_state=42, stratify=y)\n",
    "#use stratified sampling to make sure the imbalance of DEFAULT will not have an effect on modeling\n",
    "st_scaler=StandardScaler()\n",
    "X_train_s=st_scaler.fit_transform(X_train)\n",
    "X_test_s=st_scaler.transform(X_test)"
   ]
  },
  {
   "cell_type": "markdown",
   "id": "5153308b",
   "metadata": {},
   "source": [
    "### 3.2.4 model development"
   ]
  },
  {
   "cell_type": "code",
   "execution_count": 97,
   "id": "0e3822f5",
   "metadata": {},
   "outputs": [
    {
     "data": {
      "text/plain": [
       "<AxesSubplot:>"
      ]
     },
     "execution_count": 97,
     "metadata": {},
     "output_type": "execute_result"
    },
    {
     "data": {
      "image/png": "[encoded data removed]",
      "text/plain": [
       "<Figure size 792x648 with 2 Axes>"
      ]
     },
     "metadata": {
      "needs_background": "light"
     },
     "output_type": "display_data"
    }
   ],
   "source": [
    "#let's check the correlation between predictors\n",
    "import seaborn as sns\n",
    "corr=pd.concat([X, y], axis=1).corr()\n",
    "mask = np.triu(np.ones_like(corr, dtype=bool))\n",
    "f, ax = plt.subplots(figsize=(11, 9))\n",
    "cmap = sns.diverging_palette(230, 20, as_cmap=True)\n",
    "sns.heatmap(corr, mask=mask, cmap=cmap, vmax=.3, center=0, square=True, linewidths=.5, cbar_kws={\"shrink\": .5})\n",
    "#There is no obvious correlation between features in this study"
   ]
  },
  {
   "cell_type": "code",
   "execution_count": 98,
   "id": "c5ad93dc",
   "metadata": {},
   "outputs": [],
   "source": [
    "from sklearn.linear_model import LinearRegression\n",
    "from sklearn.linear_model import Lasso\n",
    "from sklearn.neighbors import KNeighborsRegressor\n",
    "from sklearn.tree import DecisionTreeRegressor\n",
    "from sklearn.ensemble import RandomForestRegressor, GradientBoostingRegressor\n",
    "from xgboost import XGBRegressor\n",
    "from sklearn.metrics import mean_squared_error, mean_absolute_error, r2_score\n",
    "from sklearn.model_selection import GridSearchCV, RandomizedSearchCV"
   ]
  },
  {
   "cell_type": "markdown",
   "id": "af562eb6",
   "metadata": {},
   "source": [
    "#### 3.2.4.1 Linear regression model"
   ]
  },
  {
   "cell_type": "code",
   "execution_count": 99,
   "id": "8d764d39",
   "metadata": {},
   "outputs": [],
   "source": [
    "def LinearRegression_R(train_x, train_y, test_x, test_y):\n",
    "    linear_reg = LinearRegression()\n",
    "    linear_reg.fit(train_x, train_y)\n",
    "    train_pred = linear_reg.predict(train_x)\n",
    "    test_pred = linear_reg.predict(test_x)\n",
    "    \n",
    "    test_mse = mean_squared_error(test_y, test_pred)\n",
    "    test_mae = mean_absolute_error(test_y, test_pred)\n",
    "    test_r2 = r2_score(test_y, test_pred)\n",
    "    \n",
    "    train_mse = mean_squared_error(train_y, train_pred)\n",
    "    train_mae = mean_absolute_error(train_y, train_pred)\n",
    "    train_r2 = r2_score(train_y, train_pred)\n",
    "    \n",
    "    print(\"traning set results: MSE: %f, MAE: %f, R^2: %f\" % (train_mse, train_mae, train_r2))\n",
    "    print(\"test set results: MSE: %f, MAE: %f, R^2: %f\" % (test_mse, test_mae, test_r2))"
   ]
  },
  {
   "cell_type": "code",
   "execution_count": 100,
   "id": "cb6136f4",
   "metadata": {},
   "outputs": [
    {
     "name": "stdout",
     "output_type": "stream",
     "text": [
      "traning set results: MSE: 8.179864, MAE: 2.401596, R^2: 0.237217\n",
      "test set results: MSE: 8.211634, MAE: 2.401629, R^2: 0.234289\n"
     ]
    }
   ],
   "source": [
    "#Let's evaluate the simple linear regression first. \n",
    "LinearRegression_R(X_train_s, y_train, X_test_s, y_test)"
   ]
  },
  {
   "cell_type": "markdown",
   "id": "426d21e8",
   "metadata": {},
   "source": [
    "#### 3.2.4.2 KNN model"
   ]
  },
  {
   "cell_type": "code",
   "execution_count": 101,
   "id": "fa8cc639",
   "metadata": {},
   "outputs": [
    {
     "name": "stdout",
     "output_type": "stream",
     "text": [
      "Fitting 5 folds for each of 10 candidates, totalling 50 fits\n"
     ]
    },
    {
     "name": "stderr",
     "output_type": "stream",
     "text": [
      "[Parallel(n_jobs=-1)]: Using backend LokyBackend with 4 concurrent workers.\n",
      "[Parallel(n_jobs=-1)]: Done  33 tasks      | elapsed:  2.5min\n",
      "[Parallel(n_jobs=-1)]: Done  50 out of  50 | elapsed:  3.6min finished\n"
     ]
    },
    {
     "name": "stdout",
     "output_type": "stream",
     "text": [
      "BEST PARAMS {'p': 1, 'n_neighbors': 100}\n"
     ]
    }
   ],
   "source": [
    "#We will tune two hyperparameters in knn, n_neighbors and p. When p = 1, this is equivalent to using manhattan_distance (l1),\n",
    "#and euclidean_distance (l2) for p = 2.\n",
    "#In general practice, people choose the value of n_neighbors by calculating sqrt(N), \n",
    "#where N stands for the number of samples in the training set.\n",
    "\n",
    "n_neighbors = [2, 10, 20, 50, 100, 200, 500, 1000]\n",
    "p=[1,2]\n",
    "param_grid ={'n_neighbors':n_neighbors, 'p':p}\n",
    "knn = KNeighborsRegressor()\n",
    "knn_random = RandomizedSearchCV(estimator = knn, param_distributions=param_grid, cv = 5, verbose=2, random_state=42, n_jobs = -1)\n",
    "knn_random.fit(X_train_s, y_train)\n",
    "print(\"BEST PARAMS\", knn_random.best_params_)  "
   ]
  },
  {
   "cell_type": "code",
   "execution_count": 102,
   "id": "5a8ee095",
   "metadata": {},
   "outputs": [],
   "source": [
    "def NeighborsRegressor_R(train_x, train_y, test_x, test_y, n, p):\n",
    "    knn_reg = KNeighborsRegressor(n_neighbors=n, p=p)\n",
    "    knn_reg.fit(train_x, train_y)\n",
    "    train_pred = knn_reg.predict(train_x)\n",
    "    test_pred = knn_reg.predict(test_x)\n",
    "    test_mse = mean_squared_error(test_y, test_pred)\n",
    "    test_mae = mean_absolute_error(test_y, test_pred)\n",
    "    test_r2 = r2_score(test_y, test_pred)\n",
    "    train_mse = mean_squared_error(train_y, train_pred)\n",
    "    train_mae = mean_absolute_error(train_y, train_pred)\n",
    "    train_r2 = r2_score(train_y, train_pred)\n",
    "    \n",
    "    print(\"traning set results: MSE: %f, MAE: %f, R^2: %f\" % (train_mse, train_mae, train_r2))\n",
    "    print(\"test set results: MSE: %f, MAE: %f, R^2: %f\" % (test_mse, test_mae, test_r2))  "
   ]
  },
  {
   "cell_type": "code",
   "execution_count": 103,
   "id": "05f2eb33",
   "metadata": {},
   "outputs": [
    {
     "name": "stdout",
     "output_type": "stream",
     "text": [
      "traning set results: MSE: 0.000000, MAE: 0.000000, R^2: 1.000000\n",
      "test set results: MSE: 5.809788, MAE: 1.074091, R^2: 0.458254\n"
     ]
    }
   ],
   "source": [
    "NeighborsRegressor_R(X_train_s, y_train, X_test_s, y_test, 1, 100)\n",
    "#This is an over-fit model because of the small n value"
   ]
  },
  {
   "cell_type": "markdown",
   "id": "30fd0f12",
   "metadata": {},
   "source": [
    "#### 3.2.4.3 Decision tree model"
   ]
  },
  {
   "cell_type": "code",
   "execution_count": 106,
   "id": "9eafb743",
   "metadata": {},
   "outputs": [
    {
     "name": "stderr",
     "output_type": "stream",
     "text": [
      "C:\\Users\\gln_d\\anaconda3\\envs\\drug_env\\lib\\site-packages\\sklearn\\model_selection\\_search.py:278: UserWarning: The total space of parameters 6 is smaller than n_iter=10. Running 6 iterations. For exhaustive searches, use GridSearchCV.\n",
      "  warnings.warn(\n"
     ]
    },
    {
     "name": "stdout",
     "output_type": "stream",
     "text": [
      "BEST PARAMS {'max_depth': 8}\n"
     ]
    }
   ],
   "source": [
    "param_grid = {'max_depth':[2,4,6,8,10,12]}\n",
    "tree_cv = RandomizedSearchCV(DecisionTreeRegressor(criterion='mse'), param_grid , cv=5, random_state=42)\n",
    "tree_cv.fit(X_train_s,y_train)\n",
    "print(\"BEST PARAMS\", tree_cv.best_params_)"
   ]
  },
  {
   "cell_type": "code",
   "execution_count": 112,
   "id": "3c448157",
   "metadata": {},
   "outputs": [],
   "source": [
    "def DecisionTreeRegressor_R(train_x, train_y, test_x, test_y, max_depth):\n",
    "    decision = DecisionTreeRegressor(criterion='mse', max_depth=max_depth)\n",
    "    decision.fit(train_x, train_y)\n",
    "    train_pred = decision.predict(train_x)\n",
    "    test_pred = decision.predict(test_x)\n",
    "    test_mse = mean_squared_error(test_y, test_pred)\n",
    "    test_mae = mean_absolute_error(test_y, test_pred)\n",
    "    test_r2 = r2_score(test_y, test_pred)\n",
    "    train_mse = mean_squared_error(train_y, train_pred)\n",
    "    train_mae = mean_absolute_error(train_y, train_pred)\n",
    "    train_r2 = r2_score(train_y, train_pred)\n",
    "    \n",
    "    print(\"traning set results: MSE: %f, MAE: %f, R^2: %f\" % (train_mse, train_mae, train_r2))\n",
    "    print(\"test set results: MSE: %f, MAE: %f, R^2: %f\" % (test_mse, test_mae, test_r2))     "
   ]
  },
  {
   "cell_type": "code",
   "execution_count": 113,
   "id": "8220b356",
   "metadata": {},
   "outputs": [
    {
     "name": "stdout",
     "output_type": "stream",
     "text": [
      "traning set results: MSE: 7.333976, MAE: 2.185772, R^2: 0.316097\n",
      "test set results: MSE: 7.957528, MAE: 2.274612, R^2: 0.257984\n"
     ]
    }
   ],
   "source": [
    "DecisionTreeRegressor_R(X_train_s, y_train, X_test_s, y_test, 8)"
   ]
  },
  {
   "cell_type": "markdown",
   "id": "1ce3bc78",
   "metadata": {},
   "source": [
    "#### 3.2.4.4 Random forest model"
   ]
  },
  {
   "cell_type": "code",
   "execution_count": 114,
   "id": "f1bcd532",
   "metadata": {},
   "outputs": [
    {
     "name": "stdout",
     "output_type": "stream",
     "text": [
      "Fitting 5 folds for each of 10 candidates, totalling 50 fits\n"
     ]
    },
    {
     "name": "stderr",
     "output_type": "stream",
     "text": [
      "[Parallel(n_jobs=-1)]: Using backend LokyBackend with 4 concurrent workers.\n",
      "[Parallel(n_jobs=-1)]: Done  33 tasks      | elapsed:  4.3min\n",
      "[Parallel(n_jobs=-1)]: Done  50 out of  50 | elapsed:  4.9min finished\n"
     ]
    },
    {
     "name": "stdout",
     "output_type": "stream",
     "text": [
      "BEST PARAMS {'n_estimators': 200, 'max_depth': 9}\n"
     ]
    }
   ],
   "source": [
    "n_estimators=[int(x) for x in np.linspace(start = 50, stop = 500, num = 10)]\n",
    "max_depths=[int(x) for x in np.linspace(1, 10, num = 10)]\n",
    "param_grid = {'n_estimators': n_estimators, 'max_depth':max_depths}\n",
    "rf = RandomForestRegressor()\n",
    "rf_random = RandomizedSearchCV(estimator = rf, param_distributions=param_grid, cv = 5, verbose=2, random_state=42, n_jobs = -1)\n",
    "rf_random.fit(X_train_s, y_train)\n",
    "print(\"BEST PARAMS\", rf_random.best_params_)"
   ]
  },
  {
   "cell_type": "code",
   "execution_count": 118,
   "id": "142e5a03",
   "metadata": {},
   "outputs": [],
   "source": [
    "def RandomForestRegression_R(train_x, train_y, test_x, test_y, n_estimators, max_depth):\n",
    "    rfr = RandomForestRegressor(n_estimators=n_estimators, max_depth=max_depth, verbose = 10, n_jobs = 4)\n",
    "    rfr.fit(train_x, train_y)\n",
    "    train_pred = rfr.predict(train_x)\n",
    "    test_pred = rfr.predict(test_x)    \n",
    "    test_mse = mean_squared_error(test_y, test_pred)\n",
    "    test_mae = mean_absolute_error(test_y, test_pred)\n",
    "    test_r2 = r2_score(test_y, test_pred)\n",
    "    train_mse = mean_squared_error(train_y, train_pred)\n",
    "    train_mae = mean_absolute_error(train_y, train_pred)\n",
    "    train_r2 = r2_score(train_y, train_pred)\n",
    "    \n",
    "    print(\"TRAIN: MSE: %f, RMSE: %f, R^2: %f\" % (train_mse, train_mae, train_r2))\n",
    "    print(\"TEST: MSE: %f, RMSE: %f, R^2: %f\" % (test_mse, test_mae, test_r2))"
   ]
  },
  {
   "cell_type": "code",
   "execution_count": 119,
   "id": "5d039382",
   "metadata": {},
   "outputs": [
    {
     "name": "stderr",
     "output_type": "stream",
     "text": [
      "[Parallel(n_jobs=4)]: Using backend ThreadingBackend with 4 concurrent workers.\n"
     ]
    },
    {
     "name": "stdout",
     "output_type": "stream",
     "text": [
      "building tree 1 of 200building tree 2 of 200building tree 3 of 200\n",
      "\n",
      "building tree 4 of 200\n",
      "\n",
      "building tree 5 of 200\n",
      "building tree 6 of 200\n",
      "building tree 7 of 200\n",
      "building tree 8 of 200\n",
      "building tree 9 of 200"
     ]
    },
    {
     "name": "stderr",
     "output_type": "stream",
     "text": [
      "[Parallel(n_jobs=4)]: Done   5 tasks      | elapsed:    0.3s\n"
     ]
    },
    {
     "name": "stdout",
     "output_type": "stream",
     "text": [
      "\n",
      "building tree 10 of 200\n",
      "building tree 11 of 200\n",
      "building tree 12 of 200\n",
      "building tree 13 of 200\n"
     ]
    },
    {
     "name": "stderr",
     "output_type": "stream",
     "text": [
      "[Parallel(n_jobs=4)]: Done  10 tasks      | elapsed:    0.5s\n"
     ]
    },
    {
     "name": "stdout",
     "output_type": "stream",
     "text": [
      "building tree 14 of 200\n",
      "building tree 15 of 200\n",
      "building tree 16 of 200\n",
      "building tree 17 of 200\n",
      "building tree 18 of 200\n",
      "building tree 19 of 200\n",
      "building tree 20 of 200\n"
     ]
    },
    {
     "name": "stderr",
     "output_type": "stream",
     "text": [
      "[Parallel(n_jobs=4)]: Done  17 tasks      | elapsed:    1.1s\n"
     ]
    },
    {
     "name": "stdout",
     "output_type": "stream",
     "text": [
      "building tree 21 of 200\n",
      "building tree 22 of 200\n",
      "building tree 23 of 200\n",
      "building tree 24 of 200\n",
      "building tree 25 of 200building tree 26 of 200\n",
      "\n",
      "building tree 27 of 200\n",
      "building tree 28 of 200\n"
     ]
    },
    {
     "name": "stderr",
     "output_type": "stream",
     "text": [
      "[Parallel(n_jobs=4)]: Done  24 tasks      | elapsed:    1.4s\n"
     ]
    },
    {
     "name": "stdout",
     "output_type": "stream",
     "text": [
      "building tree 29 of 200\n",
      "building tree 30 of 200\n",
      "building tree 31 of 200\n",
      "building tree 32 of 200\n",
      "building tree 33 of 200\n",
      "building tree 34 of 200\n",
      "building tree 35 of 200\n",
      "building tree 36 of 200\n"
     ]
    },
    {
     "name": "stderr",
     "output_type": "stream",
     "text": [
      "[Parallel(n_jobs=4)]: Done  33 tasks      | elapsed:    2.3s\n"
     ]
    },
    {
     "name": "stdout",
     "output_type": "stream",
     "text": [
      "building tree 37 of 200\n",
      "building tree 38 of 200\n",
      "building tree 39 of 200\n",
      "building tree 40 of 200\n",
      "building tree 41 of 200\n",
      "building tree 42 of 200\n",
      "building tree 43 of 200\n",
      "building tree 44 of 200\n",
      "building tree 45 of 200\n",
      "building tree 46 of 200\n",
      "building tree 47 of 200\n",
      "building tree 48 of 200\n",
      "building tree 49 of 200\n",
      "building tree 50 of 200\n",
      "building tree 51 of 200"
     ]
    },
    {
     "name": "stderr",
     "output_type": "stream",
     "text": [
      "[Parallel(n_jobs=4)]: Done  42 tasks      | elapsed:    2.8s\n"
     ]
    },
    {
     "name": "stdout",
     "output_type": "stream",
     "text": [
      "building tree 52 of 200\n",
      "\n",
      "building tree 53 of 200\n",
      "building tree 54 of 200\n",
      "building tree 55 of 200\n",
      "building tree 56 of 200\n",
      "building tree 57 of 200\n",
      "building tree 58 of 200"
     ]
    },
    {
     "name": "stderr",
     "output_type": "stream",
     "text": [
      "[Parallel(n_jobs=4)]: Done  53 tasks      | elapsed:    3.4s\n"
     ]
    },
    {
     "name": "stdout",
     "output_type": "stream",
     "text": [
      "\n",
      "building tree 59 of 200\n",
      "building tree 60 of 200\n",
      "building tree 61 of 200\n",
      "building tree 62 of 200\n",
      "building tree 63 of 200\n",
      "building tree 64 of 200\n",
      "building tree 65 of 200\n",
      "building tree 66 of 200building tree 67 of 200\n",
      "\n",
      "building tree 68 of 200\n",
      "building tree 69 of 200\n",
      "building tree 70 of 200\n"
     ]
    },
    {
     "name": "stderr",
     "output_type": "stream",
     "text": [
      "[Parallel(n_jobs=4)]: Done  64 tasks      | elapsed:    3.8s\n"
     ]
    },
    {
     "name": "stdout",
     "output_type": "stream",
     "text": [
      "building tree 71 of 200\n",
      "building tree 72 of 200\n",
      "building tree 73 of 200\n",
      "building tree 74 of 200\n",
      "building tree 75 of 200\n",
      "building tree 76 of 200\n",
      "building tree 77 of 200\n",
      "building tree 78 of 200\n",
      "building tree 79 of 200\n",
      "building tree 80 of 200\n",
      "building tree 81 of 200"
     ]
    },
    {
     "name": "stderr",
     "output_type": "stream",
     "text": [
      "[Parallel(n_jobs=4)]: Done  77 tasks      | elapsed:    4.6s\n"
     ]
    },
    {
     "name": "stdout",
     "output_type": "stream",
     "text": [
      "\n",
      "building tree 82 of 200\n",
      "building tree 83 of 200\n",
      "building tree 84 of 200\n",
      "building tree 85 of 200\n",
      "building tree 86 of 200\n",
      "building tree 87 of 200\n",
      "building tree 88 of 200\n",
      "building tree 89 of 200\n",
      "building tree 90 of 200\n",
      "building tree 91 of 200\n",
      "building tree 92 of 200\n",
      "building tree 93 of 200\n"
     ]
    },
    {
     "name": "stderr",
     "output_type": "stream",
     "text": [
      "[Parallel(n_jobs=4)]: Done  90 tasks      | elapsed:    5.3s\n"
     ]
    },
    {
     "name": "stdout",
     "output_type": "stream",
     "text": [
      "building tree 94 of 200\n",
      "building tree 95 of 200\n",
      "building tree 96 of 200\n",
      "building tree 97 of 200\n",
      "building tree 98 of 200\n",
      "building tree 99 of 200\n",
      "building tree 100 of 200\n",
      "building tree 101 of 200\n",
      "building tree 102 of 200\n",
      "building tree 103 of 200\n",
      "building tree 104 of 200\n",
      "building tree 105 of 200\n",
      "building tree 106 of 200\n",
      "building tree 107 of 200\n",
      "building tree 108 of 200\n",
      "building tree 109 of 200\n"
     ]
    },
    {
     "name": "stderr",
     "output_type": "stream",
     "text": [
      "[Parallel(n_jobs=4)]: Done 105 tasks      | elapsed:    6.0s\n"
     ]
    },
    {
     "name": "stdout",
     "output_type": "stream",
     "text": [
      "building tree 110 of 200\n",
      "building tree 111 of 200\n",
      "building tree 112 of 200\n",
      "building tree 113 of 200\n",
      "building tree 114 of 200\n",
      "building tree 115 of 200\n",
      "building tree 116 of 200\n",
      "building tree 117 of 200\n",
      "building tree 118 of 200\n",
      "building tree 119 of 200\n",
      "building tree 120 of 200\n",
      "building tree 121 of 200\n",
      "building tree 122 of 200\n",
      "building tree 123 of 200\n",
      "building tree 124 of 200\n",
      "building tree 125 of 200\n"
     ]
    },
    {
     "name": "stderr",
     "output_type": "stream",
     "text": [
      "[Parallel(n_jobs=4)]: Done 120 tasks      | elapsed:    6.8s\n"
     ]
    },
    {
     "name": "stdout",
     "output_type": "stream",
     "text": [
      "building tree 126 of 200\n",
      "building tree 127 of 200\n",
      "building tree 128 of 200\n",
      "building tree 129 of 200\n",
      "building tree 130 of 200\n",
      "building tree 131 of 200\n",
      "building tree 132 of 200\n",
      "building tree 133 of 200building tree 134 of 200\n",
      "\n",
      "building tree 135 of 200\n",
      "building tree 136 of 200\n",
      "building tree 137 of 200\n",
      "building tree 138 of 200\n",
      "building tree 139 of 200\n",
      "building tree 140 of 200\n"
     ]
    },
    {
     "name": "stderr",
     "output_type": "stream",
     "text": [
      "[Parallel(n_jobs=4)]: Done 137 tasks      | elapsed:    8.1s\n"
     ]
    },
    {
     "name": "stdout",
     "output_type": "stream",
     "text": [
      "building tree 141 of 200\n",
      "building tree 142 of 200\n",
      "building tree 143 of 200\n",
      "building tree 144 of 200\n",
      "building tree 145 of 200\n",
      "building tree 146 of 200\n",
      "building tree 147 of 200\n",
      "building tree 148 of 200\n",
      "building tree 149 of 200\n",
      "building tree 150 of 200\n",
      "building tree 151 of 200\n",
      "building tree 152 of 200\n",
      "building tree 153 of 200\n",
      "building tree 154 of 200\n",
      "building tree 155 of 200\n",
      "building tree 156 of 200\n",
      "building tree 157 of 200\n",
      "building tree 158 of 200\n",
      "building tree 159 of 200\n",
      "building tree 160 of 200\n"
     ]
    },
    {
     "name": "stderr",
     "output_type": "stream",
     "text": [
      "[Parallel(n_jobs=4)]: Done 154 tasks      | elapsed:    9.2s\n"
     ]
    },
    {
     "name": "stdout",
     "output_type": "stream",
     "text": [
      "building tree 161 of 200\n",
      "building tree 162 of 200\n",
      "building tree 163 of 200\n",
      "building tree 164 of 200\n",
      "building tree 165 of 200\n",
      "building tree 166 of 200\n",
      "building tree 167 of 200\n",
      "building tree 168 of 200\n",
      "building tree 169 of 200\n",
      "building tree 170 of 200\n",
      "building tree 171 of 200\n",
      "building tree 172 of 200\n",
      "building tree 173 of 200\n",
      "building tree 174 of 200\n",
      "building tree 175 of 200\n",
      "building tree 176 of 200\n",
      "building tree 177 of 200\n"
     ]
    },
    {
     "name": "stderr",
     "output_type": "stream",
     "text": [
      "[Parallel(n_jobs=4)]: Done 173 tasks      | elapsed:   10.4s\n"
     ]
    },
    {
     "name": "stdout",
     "output_type": "stream",
     "text": [
      "building tree 178 of 200building tree 179 of 200\n",
      "\n",
      "building tree 180 of 200\n",
      "building tree 181 of 200\n",
      "building tree 182 of 200\n",
      "building tree 183 of 200\n",
      "building tree 184 of 200\n",
      "building tree 185 of 200\n",
      "building tree 186 of 200\n",
      "building tree 187 of 200\n",
      "building tree 188 of 200\n",
      "building tree 189 of 200\n",
      "building tree 190 of 200\n",
      "building tree 191 of 200\n",
      "building tree 192 of 200\n",
      "building tree 193 of 200\n",
      "building tree 194 of 200\n",
      "building tree 195 of 200\n",
      "building tree 196 of 200\n"
     ]
    },
    {
     "name": "stderr",
     "output_type": "stream",
     "text": [
      "[Parallel(n_jobs=4)]: Done 192 tasks      | elapsed:   11.5s\n"
     ]
    },
    {
     "name": "stdout",
     "output_type": "stream",
     "text": [
      "building tree 197 of 200\n",
      "building tree 198 of 200\n",
      "building tree 199 of 200\n",
      "building tree 200 of 200\n"
     ]
    },
    {
     "name": "stderr",
     "output_type": "stream",
     "text": [
      "[Parallel(n_jobs=4)]: Done 200 out of 200 | elapsed:   12.0s finished\n",
      "[Parallel(n_jobs=4)]: Using backend ThreadingBackend with 4 concurrent workers.\n",
      "[Parallel(n_jobs=4)]: Done   5 tasks      | elapsed:    0.0s\n",
      "[Parallel(n_jobs=4)]: Done  10 tasks      | elapsed:    0.0s\n",
      "[Parallel(n_jobs=4)]: Done  17 tasks      | elapsed:    0.0s\n",
      "[Parallel(n_jobs=4)]: Done  24 tasks      | elapsed:    0.0s\n",
      "[Parallel(n_jobs=4)]: Done  33 tasks      | elapsed:    0.0s\n",
      "[Parallel(n_jobs=4)]: Done  42 tasks      | elapsed:    0.0s\n",
      "[Parallel(n_jobs=4)]: Done  53 tasks      | elapsed:    0.0s\n",
      "[Parallel(n_jobs=4)]: Done  64 tasks      | elapsed:    0.0s\n",
      "[Parallel(n_jobs=4)]: Done  77 tasks      | elapsed:    0.1s\n",
      "[Parallel(n_jobs=4)]: Done  90 tasks      | elapsed:    0.1s\n",
      "[Parallel(n_jobs=4)]: Done 105 tasks      | elapsed:    0.1s\n",
      "[Parallel(n_jobs=4)]: Done 120 tasks      | elapsed:    0.1s\n",
      "[Parallel(n_jobs=4)]: Done 137 tasks      | elapsed:    0.2s\n",
      "[Parallel(n_jobs=4)]: Done 154 tasks      | elapsed:    0.2s\n",
      "[Parallel(n_jobs=4)]: Done 173 tasks      | elapsed:    0.3s\n",
      "[Parallel(n_jobs=4)]: Done 192 tasks      | elapsed:    0.3s\n",
      "[Parallel(n_jobs=4)]: Done 200 out of 200 | elapsed:    0.3s finished\n",
      "[Parallel(n_jobs=4)]: Using backend ThreadingBackend with 4 concurrent workers.\n",
      "[Parallel(n_jobs=4)]: Done   5 tasks      | elapsed:    0.0s\n",
      "[Parallel(n_jobs=4)]: Done  10 tasks      | elapsed:    0.0s\n",
      "[Parallel(n_jobs=4)]: Done  17 tasks      | elapsed:    0.0s\n",
      "[Parallel(n_jobs=4)]: Done  24 tasks      | elapsed:    0.0s\n",
      "[Parallel(n_jobs=4)]: Done  33 tasks      | elapsed:    0.0s\n",
      "[Parallel(n_jobs=4)]: Done  42 tasks      | elapsed:    0.0s\n",
      "[Parallel(n_jobs=4)]: Done  53 tasks      | elapsed:    0.0s\n",
      "[Parallel(n_jobs=4)]: Done  64 tasks      | elapsed:    0.0s\n",
      "[Parallel(n_jobs=4)]: Done  77 tasks      | elapsed:    0.0s\n",
      "[Parallel(n_jobs=4)]: Done  90 tasks      | elapsed:    0.0s\n",
      "[Parallel(n_jobs=4)]: Done 105 tasks      | elapsed:    0.0s\n",
      "[Parallel(n_jobs=4)]: Done 120 tasks      | elapsed:    0.0s\n",
      "[Parallel(n_jobs=4)]: Done 137 tasks      | elapsed:    0.1s\n",
      "[Parallel(n_jobs=4)]: Done 154 tasks      | elapsed:    0.1s\n"
     ]
    },
    {
     "name": "stdout",
     "output_type": "stream",
     "text": [
      "TRAIN: MSE: 6.543486, RMSE: 2.088592, R^2: 0.389812\n",
      "TEST: MSE: 7.292252, RMSE: 2.206741, R^2: 0.320019\n"
     ]
    },
    {
     "name": "stderr",
     "output_type": "stream",
     "text": [
      "[Parallel(n_jobs=4)]: Done 173 tasks      | elapsed:    0.1s\n",
      "[Parallel(n_jobs=4)]: Done 192 tasks      | elapsed:    0.1s\n",
      "[Parallel(n_jobs=4)]: Done 200 out of 200 | elapsed:    0.1s finished\n"
     ]
    }
   ],
   "source": [
    "RandomForestRegression_R(X_train_s, y_train, X_test_s, y_test, 200, 9)"
   ]
  },
  {
   "cell_type": "markdown",
   "id": "712602e3",
   "metadata": {},
   "source": [
    "### 3.3 Summary"
   ]
  },
  {
   "cell_type": "markdown",
   "id": "08dc4f21",
   "metadata": {},
   "source": [
    "We didn't get much impressive results for all the above models as indicated by r2 values. Can we improve them by including word of bags as predictors in the model? Or can deep learning model help us get better results? To be continued ..."
   ]
  }
 ],
 "metadata": {
  "kernelspec": {
   "display_name": "Python 3",
   "language": "python",
   "name": "python3"
  },
  "language_info": {
   "codemirror_mode": {
    "name": "ipython",
    "version": 3
   },
   "file_extension": ".py",
   "mimetype": "text/x-python",
   "name": "python",
   "nbconvert_exporter": "python",
   "pygments_lexer": "ipython3",
   "version": "3.8.8"
  }
 },
 "nbformat": 4,
 "nbformat_minor": 5
}
