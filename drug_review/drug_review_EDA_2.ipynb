{
 "cells": [
  {
   "cell_type": "code",
   "execution_count": null,
   "id": "a9453c28",
   "metadata": {},
   "outputs": [],
   "source": [
    "import re\n",
    "import nltk\n",
    "from bs4 import BeautifulSoup\n",
    "import numpy as np\n",
    "import pandas as pd"
   ]
  },
  {
   "cell_type": "code",
   "execution_count": null,
   "id": "06fcc7cf",
   "metadata": {},
   "outputs": [],
   "source": [
    "#different tokenizer\n",
    "from nltk.tokenize import RegexpTokenizer\n",
    "from nltk.tokenize import TreebankWordTokenizer\n",
    "from nltk.tokenize.casual import casual_tokenize\n",
    "from nltk import ngrams, bigrams\n",
    "import nltk\n",
    "nltk.download('stopwords')\n",
    "stop_words = nltk.corpus.stopwords.words('english')"
   ]
  },
  {
   "cell_type": "code",
   "execution_count": null,
   "id": "bf7df757",
   "metadata": {},
   "outputs": [],
   "source": [
    "#tokenizer normalization\n",
    "normalized_tokens = [x.lower() for x in tokens]\n",
    "#stemmer vs lemmatizer\n",
    "#Two of the most popular stemming algorithms are the Porter and Snowball stemmers\n",
    "from nltk.stem.porter import PorterStemmer\n",
    "from nltk.stem import SnowballStemmer\n",
    "stemmer = SnowballStemmer('english')"
   ]
  },
  {
   "cell_type": "markdown",
   "id": "2bcd6794",
   "metadata": {},
   "source": [
    "Lemmatization is a potentially more accurate way to normalize a word than stemming or case normalization because it takes into account a word’s meaning. A lemmatizer uses a knowledge base of word synonyms and word endings to ensure that only words that mean similar things are consolidated into a single token."
   ]
  },
  {
   "cell_type": "markdown",
   "id": "c59a7a3d",
   "metadata": {},
   "source": [
    "difference between stemmer and lemmatizer\n",
    "1. Stemmers are generally faster to compute and require less-complex code and datasets. But stemmers will make more errors and stem a far greater number of words, reducing the information content or meaning of your text much more than a lemmatizer would. \n",
    "2. Both stemmers and lemmatizers will reduce your vocabulary size and increase the ambiguity of the text.\n",
    "3. Lemmatizers do a better job retaining as much of the information content as possible based on how the word was used within the text and its intended meaning. "
   ]
  },
  {
   "cell_type": "code",
   "execution_count": null,
   "id": "d1a36da4",
   "metadata": {},
   "outputs": [],
   "source": [
    "nltk.download('wordnet')\n",
    "from nltk.stem import WordNetLemmatizer\n",
    "lemmatizer = WordNetLemmatizer()\n"
   ]
  },
  {
   "cell_type": "markdown",
   "id": "20fb774c",
   "metadata": {},
   "source": [
    "## Part II: EDA for 'review' column in the training data set\n",
    "\n",
    "### 1. review ..."
   ]
  },
  {
   "cell_type": "code",
   "execution_count": null,
   "id": "48f6336d",
   "metadata": {},
   "outputs": [],
   "source": [
    "nltk.download(['punkt','stopwords'])\n",
    "stops = set(stopwords.words('english'))\n",
    "not_stop = [\"aren't\",\"couldn't\",\"didn't\",\"doesn't\",\"don't\",\"hadn't\",\"hasn't\",\"haven't\",\"isn't\",\"mightn't\",\"mustn't\",\"needn't\",\"no\",\"nor\",\"not\",\"shan't\",\"shouldn't\",\"wasn't\",\"weren't\",\"wouldn't\"]\n",
    "for i in not_stop:\n",
    "    stops.remove(i)"
   ]
  },
  {
   "cell_type": "code",
   "execution_count": null,
   "id": "606750fa",
   "metadata": {},
   "outputs": [],
   "source": [
    "stemmer = SnowballStemmer('english')\n",
    "\n",
    "def review_to_words(raw_review):\n",
    "    # 1. Delete HTML \n",
    "    review_text = BeautifulSoup(raw_review, 'html.parser').get_text()\n",
    "    # 2. Make a space\n",
    "    letters_only = re.sub('[^a-zA-Z]', ' ', review_text)\n",
    "    # 3. lower letters\n",
    "    words = letters_only.lower().split()\n",
    "    # 5. Stopwords \n",
    "    meaningful_words = [w for w in words if not w in stops]\n",
    "    # 6. Stemming\n",
    "    stemming_words = [stemmer.stem(w) for w in meaningful_words]\n",
    "    # 7. space join words\n",
    "    return( ' '.join(stemming_words))"
   ]
  },
  {
   "cell_type": "code",
   "execution_count": null,
   "id": "fe2c2eff",
   "metadata": {},
   "outputs": [],
   "source": [
    "df_all['review_clean'] = df_all['review'].apply(review_to_words)"
   ]
  },
  {
   "cell_type": "code",
   "execution_count": null,
   "id": "35efd72e",
   "metadata": {},
   "outputs": [],
   "source": [
    "#wordcloud analysis for the reviews,\n",
    "#positive review, negative review, \n",
    "#positive high usefulCount review, negative high usefulCount review\n",
    "#birth control positive high usefulCount review, birthcontrol negative high usefulcount review\n",
    "#pain\n",
    "#depression\n",
    "#anxiety\n",
    "#single word cloud\n",
    "#bigram wordcloud\n",
    "#ngram wordcloud"
   ]
  },
  {
   "cell_type": "code",
   "execution_count": null,
   "id": "e4ff7c32",
   "metadata": {},
   "outputs": [],
   "source": []
  },
  {
   "cell_type": "markdown",
   "id": "87b9e725",
   "metadata": {},
   "source": [
    "## Part II: subset data to better serve question-driven data analysis\n",
    "\n",
    "### 1. reliable_reviews\n",
    "\n",
    "   **Qs:**\n",
    "   Can we find the good drugs based on high quality reviews for customers with different conditions?\n",
    "   \n",
    "   reliable_reviews with usefulCount > 100"
   ]
  },
  {
   "cell_type": "code",
   "execution_count": 282,
   "id": "d21a610d",
   "metadata": {},
   "outputs": [
    {
     "data": {
      "text/plain": [
       "usefulCount    21\n",
       "dtype: int64"
      ]
     },
     "execution_count": 282,
     "metadata": {},
     "output_type": "execute_result"
    }
   ],
   "source": [
    "usefulCount_count=pd.DataFrame(df_new.usefulCount.value_counts())\n",
    "usefulCount_count.loc[usefulCount_count.index>400].sum()\n",
    "#Is this the proper way to find the best drug? filter high quality reviews and use them to find the answer"
   ]
  },
  {
   "cell_type": "code",
   "execution_count": 283,
   "id": "af1a405e",
   "metadata": {},
   "outputs": [
    {
     "data": {
      "text/plain": [
       "usefulCount    39\n",
       "dtype: int64"
      ]
     },
     "execution_count": 283,
     "metadata": {},
     "output_type": "execute_result"
    }
   ],
   "source": [
    "usefulCount_count.loc[(usefulCount_count.index>300) & (usefulCount_count.index<400)].sum()"
   ]
  },
  {
   "cell_type": "code",
   "execution_count": 284,
   "id": "8d5f3c87",
   "metadata": {},
   "outputs": [
    {
     "data": {
      "text/plain": [
       "usefulCount    228\n",
       "dtype: int64"
      ]
     },
     "execution_count": 284,
     "metadata": {},
     "output_type": "execute_result"
    }
   ],
   "source": [
    "usefulCount_count.loc[(usefulCount_count.index>200) & (usefulCount_count.index<300)].sum()"
   ]
  },
  {
   "cell_type": "code",
   "execution_count": 285,
   "id": "54bbeadc",
   "metadata": {},
   "outputs": [
    {
     "data": {
      "text/plain": [
       "usefulCount    2118\n",
       "dtype: int64"
      ]
     },
     "execution_count": 285,
     "metadata": {},
     "output_type": "execute_result"
    }
   ],
   "source": [
    "usefulCount_count.loc[(usefulCount_count.index>100) & (usefulCount_count.index<200)].sum()"
   ]
  },
  {
   "cell_type": "code",
   "execution_count": 286,
   "id": "bbf251b6",
   "metadata": {},
   "outputs": [
    {
     "data": {
      "text/plain": [
       "usefulCount    51309\n",
       "dtype: int64"
      ]
     },
     "execution_count": 286,
     "metadata": {},
     "output_type": "execute_result"
    }
   ],
   "source": [
    "usefulCount_count.loc[usefulCount_count.index<100].sum()"
   ]
  },
  {
   "cell_type": "code",
   "execution_count": 287,
   "id": "473e0aaa",
   "metadata": {},
   "outputs": [
    {
     "data": {
      "text/plain": [
       "949"
      ]
     },
     "execution_count": 287,
     "metadata": {},
     "output_type": "execute_result"
    }
   ],
   "source": [
    "usefulCount=df_new.usefulCount.unique()\n",
    "usefulCount.max()"
   ]
  },
  {
   "cell_type": "markdown",
   "id": "27c0ee77",
   "metadata": {},
   "source": [
    "   <span style='color:Blue'>Therefore, we choose reviews with usefulCount >= 100. </span>"
   ]
  },
  {
   "cell_type": "code",
   "execution_count": 288,
   "id": "887a525a",
   "metadata": {},
   "outputs": [
    {
     "data": {
      "text/plain": [
       "(2457, 9)"
      ]
     },
     "execution_count": 288,
     "metadata": {},
     "output_type": "execute_result"
    }
   ],
   "source": [
    "reliable_review=df_new[df_new.usefulCount >= 100]\n",
    "reliable_review.shape"
   ]
  },
  {
   "cell_type": "code",
   "execution_count": 289,
   "id": "0082fe9e",
   "metadata": {},
   "outputs": [
    {
     "data": {
      "text/plain": [
       "Depression                                      422\n",
       "Anxiety                                         230\n",
       "Pain                                            131\n",
       "Weight Loss                                     106\n",
       "Anxiety and Stress                              106\n",
       "                                               ... \n",
       "Tinnitus                                          1\n",
       "105</span> users found this comment helpful.      1\n",
       "lic Acid Deficiency                               1\n",
       "Psoriasis                                         1\n",
       "Obstructive Sleep Apnea/Hypopnea Syndrome         1\n",
       "Name: condition, Length: 161, dtype: int64"
      ]
     },
     "execution_count": 289,
     "metadata": {},
     "output_type": "execute_result"
    }
   ],
   "source": [
    "reliable_review.condition.value_counts()\n",
    "# We will study depression, anxiety and pain in this data set."
   ]
  },
  {
   "cell_type": "markdown",
   "id": "911c1263",
   "metadata": {},
   "source": [
    "### 2. top_4_condition data\n",
    "\n",
    "    \n",
    "   "
   ]
  },
  {
   "cell_type": "code",
   "execution_count": 290,
   "id": "53d6b63f",
   "metadata": {},
   "outputs": [],
   "source": [
    "top_4_condition=df_new[df_new.condition.isin(top_4_con.index)]"
   ]
  },
  {
   "cell_type": "code",
   "execution_count": 291,
   "id": "8c4ee684",
   "metadata": {},
   "outputs": [
    {
     "data": {
      "text/plain": [
       "(16751, 9)"
      ]
     },
     "execution_count": 291,
     "metadata": {},
     "output_type": "execute_result"
    }
   ],
   "source": [
    "top_4_condition.shape\n",
    "#we will use this data set to do the sentiment analysis"
   ]
  },
  {
   "cell_type": "code",
   "execution_count": 292,
   "id": "f9f22ac6",
   "metadata": {},
   "outputs": [
    {
     "data": {
      "text/plain": [
       "446"
      ]
     },
     "execution_count": 292,
     "metadata": {},
     "output_type": "execute_result"
    }
   ],
   "source": [
    "#Let's check top_4_condition data first\n",
    "top_4_condition.drugName.nunique()"
   ]
  },
  {
   "cell_type": "code",
   "execution_count": 293,
   "id": "daaf74de",
   "metadata": {},
   "outputs": [
    {
     "data": {
      "text/plain": [
       "Etonogestrel                          1080\n",
       "Levonorgestrel                         755\n",
       "Ethinyl estradiol / norethindrone      744\n",
       "Nexplanon                              734\n",
       "Ethinyl estradiol / norgestimate       517\n",
       "Ethinyl estradiol / levonorgestrel     507\n",
       "Implanon                               401\n",
       "Mirena                                 355\n",
       "Escitalopram                           320\n",
       "Skyla                                  252\n",
       "Lo Loestrin Fe                         229\n",
       "Bupropion                              218\n",
       "Lexapro                                213\n",
       "NuvaRing                               204\n",
       "Sertraline                             204\n",
       "Ethinyl estradiol / etonogestrel       196\n",
       "Copper                                 193\n",
       "Tramadol                               185\n",
       "Venlafaxine                            183\n",
       "Desvenlafaxine                         179\n",
       "Name: drugName, dtype: int64"
      ]
     },
     "execution_count": 293,
     "metadata": {},
     "output_type": "execute_result"
    }
   ],
   "source": [
    "#The top 20 drugs with most reviews for birth control, depression, pain and anxiety\n",
    "top_4_condition.drugName.value_counts().head(20)"
   ]
  },
  {
   "cell_type": "markdown",
   "id": "49c7c107",
   "metadata": {},
   "source": [
    "#### 2.1 birth control drugs in top_4_condition data \n",
    "\n",
    "   **Qs:**\n",
    "   <span style='color:Blue'>What's the top 10 birth control drugs with most reviews? Are all of them hormone related? Are those drugs always the popular one from 2008 to 2019? How about their ratings? </span>"
   ]
  },
  {
   "cell_type": "code",
   "execution_count": 294,
   "id": "183d21a2",
   "metadata": {},
   "outputs": [
    {
     "data": {
      "text/plain": [
       "Etonogestrel                          1080\n",
       "Levonorgestrel                         755\n",
       "Ethinyl estradiol / norethindrone      744\n",
       "Nexplanon                              734\n",
       "Ethinyl estradiol / norgestimate       517\n",
       "Ethinyl estradiol / levonorgestrel     507\n",
       "Implanon                               401\n",
       "Mirena                                 355\n",
       "Skyla                                  252\n",
       "Lo Loestrin Fe                         229\n",
       "Name: drugName, dtype: int64"
      ]
     },
     "execution_count": 294,
     "metadata": {},
     "output_type": "execute_result"
    }
   ],
   "source": [
    "#top 10 drugs for birth control with most reviews\n",
    "top_10_birth_control=top_4_condition[top_4_condition.condition=='Birth Control'].drugName.value_counts().head(10)\n",
    "top_10_birth_control"
   ]
  },
  {
   "cell_type": "markdown",
   "id": "319b4eff",
   "metadata": {},
   "source": [
    "According to the Food and Drug Administration (FDA), the effects of continuously raised estrogen levels in the female body due to taking birth control pills may include an increased risk of breast cancer, blood clotting, migraines, liver problems, increased blood pressure, weight gain, and spotting between periods.\n",
    "\n",
    "different birth control pills and their mode of action and side effects"
   ]
  },
  {
   "cell_type": "code",
   "execution_count": 295,
   "id": "c1ff757e",
   "metadata": {},
   "outputs": [],
   "source": [
    "#rating, usefulCount, and review time for the top_10_most reviewed drugs for birth control\n",
    "top_10_birth_control_reviews=top_4_condition[top_4_condition.drugName.isin(top_10_birth_control.index)]"
   ]
  },
  {
   "cell_type": "code",
   "execution_count": 296,
   "id": "904a0350",
   "metadata": {},
   "outputs": [
    {
     "data": {
      "text/plain": [
       "2016    1511\n",
       "2015    1206\n",
       "2017    1116\n",
       "2014     380\n",
       "2012     349\n",
       "2011     330\n",
       "2013     320\n",
       "2010     211\n",
       "2009     135\n",
       "2008      16\n",
       "Name: year, dtype: int64"
      ]
     },
     "execution_count": 296,
     "metadata": {},
     "output_type": "execute_result"
    }
   ],
   "source": [
    "top_10_birth_control_reviews.year.value_counts()"
   ]
  },
  {
   "cell_type": "code",
   "execution_count": 297,
   "id": "750de94e",
   "metadata": {},
   "outputs": [],
   "source": [
    "birth_control_review=top_4_condition[top_4_condition.condition=='Birth Control']"
   ]
  },
  {
   "cell_type": "code",
   "execution_count": 298,
   "id": "91b18471",
   "metadata": {},
   "outputs": [
    {
     "data": {
      "text/plain": [
       "{2008, 2009, 2010, 2011, 2012, 2013, 2014, 2015, 2016, 2017}"
      ]
     },
     "execution_count": 298,
     "metadata": {},
     "output_type": "execute_result"
    }
   ],
   "source": [
    "set(birth_control_review.year)"
   ]
  },
  {
   "cell_type": "code",
   "execution_count": 299,
   "id": "7c323508",
   "metadata": {},
   "outputs": [
    {
     "data": {
      "text/plain": [
       "<bound method IndexOpsMixin.value_counts of 97768     2015\n",
       "215892    2016\n",
       "71428     2011\n",
       "79865     2017\n",
       "60341     2011\n",
       "          ... \n",
       "227273    2013\n",
       "131040    2010\n",
       "33495     2014\n",
       "123432    2010\n",
       "130945    2010\n",
       "Name: year, Length: 9648, dtype: int64>"
      ]
     },
     "execution_count": 299,
     "metadata": {},
     "output_type": "execute_result"
    }
   ],
   "source": [
    "birth_control_review.year.value_counts"
   ]
  },
  {
   "cell_type": "code",
   "execution_count": 300,
   "id": "a6992d95",
   "metadata": {},
   "outputs": [
    {
     "data": {
      "text/plain": [
       "Levonorgestrel                        217\n",
       "Etonogestrel                          189\n",
       "Nexplanon                             173\n",
       "Ethinyl estradiol / norethindrone     158\n",
       "Ethinyl estradiol / norgestimate      118\n",
       "Ethinyl estradiol / levonorgestrel     90\n",
       "Copper                                 68\n",
       "Skyla                                  64\n",
       "Kyleena                                54\n",
       "ParaGard                               50\n",
       "Name: drugName, dtype: int64"
      ]
     },
     "execution_count": 300,
     "metadata": {},
     "output_type": "execute_result"
    }
   ],
   "source": [
    "birth_control_review[birth_control_review.year==2017].drugName.value_counts().head(10)"
   ]
  },
  {
   "cell_type": "code",
   "execution_count": 301,
   "id": "d5d268a1",
   "metadata": {},
   "outputs": [
    {
     "data": {
      "text/plain": [
       "Etonogestrel                          258\n",
       "Nexplanon                             209\n",
       "Levonorgestrel                        160\n",
       "Ethinyl estradiol / norethindrone     152\n",
       "Ethinyl estradiol / levonorgestrel     86\n",
       "Ethinyl estradiol / norgestimate       80\n",
       "Mirena                                 76\n",
       "Implanon                               70\n",
       "Skyla                                  68\n",
       "Copper                                 53\n",
       "Name: drugName, dtype: int64"
      ]
     },
     "execution_count": 301,
     "metadata": {},
     "output_type": "execute_result"
    }
   ],
   "source": [
    "birth_control_review[birth_control_review.year==2015].drugName.value_counts().head(10)"
   ]
  },
  {
   "cell_type": "code",
   "execution_count": 302,
   "id": "b007c7c3",
   "metadata": {},
   "outputs": [
    {
     "data": {
      "text/plain": [
       "Implanon                              53\n",
       "Etonogestrel                          47\n",
       "Ethinyl estradiol / levonorgestrel    32\n",
       "Ethinyl estradiol / norgestimate      28\n",
       "Loestrin 24 Fe                        20\n",
       "Ethinyl estradiol / norethindrone     19\n",
       "Sprintec                              18\n",
       "Levonorgestrel                        18\n",
       "Mirena                                14\n",
       "Drospirenone / ethinyl estradiol      10\n",
       "Name: drugName, dtype: int64"
      ]
     },
     "execution_count": 302,
     "metadata": {},
     "output_type": "execute_result"
    }
   ],
   "source": [
    "birth_control_review[birth_control_review.year==2010].drugName.value_counts().head(10)"
   ]
  },
  {
   "cell_type": "code",
   "execution_count": 303,
   "id": "74306e2a",
   "metadata": {},
   "outputs": [
    {
     "data": {
      "text/plain": [
       "Levonorgestrel                        6\n",
       "Ethinyl estradiol / levonorgestrel    3\n",
       "Desogestrel / ethinyl estradiol       3\n",
       "Drospirenone / ethinyl estradiol      2\n",
       "Aviane                                2\n",
       "Ethinyl estradiol / norelgestromin    2\n",
       "Implanon                              2\n",
       "Ethinyl estradiol / norgestimate      2\n",
       "Apri                                  2\n",
       "Ethinyl estradiol / norgestrel        1\n",
       "Name: drugName, dtype: int64"
      ]
     },
     "execution_count": 303,
     "metadata": {},
     "output_type": "execute_result"
    }
   ],
   "source": [
    "birth_control_review[birth_control_review.year==2008].drugName.value_counts().head(10)"
   ]
  },
  {
   "cell_type": "markdown",
   "id": "7439b97e",
   "metadata": {},
   "source": [
    "Can we use altair draw time window for the change of top drugs in differnt year?????"
   ]
  },
  {
   "cell_type": "markdown",
   "id": "fc87a212",
   "metadata": {},
   "source": [
    "#### 2.2. anti-depression drugs in top_4_condition data \n",
    "\n",
    "   **Qs:**\n",
    "<span style='color:Blue'>What are the top anti-depression drugs from 2008 to 2017? Can we find any trends? Are the top drugs with good rating?</span>\n",
    "   \n",
    " There are different kinds of medicine for depression.\n",
    " Selective Serotonin Reuptake Inhibitors (SSRIs)\n",
    " Serotonin and Norepinephrine Reuptake Inhibitors (SNRIs)\n",
    " Tricyclic and Tetracyclic Antidepressants\n",
    " Atypical Antidepressants\n",
    " Monoamine Oxidase Inhibitors (MAOIs)\n",
    " N-methyl D-aspartate (NMDA) Antagonist\n",
    " Neuroactive Steroid Gamma-Aminobutyric Acid (GABA)-A Receptor Positive Modulator"
   ]
  },
  {
   "cell_type": "code",
   "execution_count": 304,
   "id": "279eaf90",
   "metadata": {},
   "outputs": [
    {
     "data": {
      "text/plain": [
       "Sertraline        204\n",
       "Bupropion         198\n",
       "Desvenlafaxine    159\n",
       "Venlafaxine       137\n",
       "Pristiq           136\n",
       "Escitalopram      135\n",
       "Citalopram        125\n",
       "Vortioxetine      113\n",
       "Viibryd           112\n",
       "Duloxetine        109\n",
       "Name: drugName, dtype: int64"
      ]
     },
     "execution_count": 304,
     "metadata": {},
     "output_type": "execute_result"
    }
   ],
   "source": [
    "#top 10 drugs for depression with most reviews\n",
    "top_10_depression=top_4_condition[top_4_condition.condition=='Depression'].drugName.value_counts().head(10)\n",
    "top_10_depression"
   ]
  },
  {
   "cell_type": "code",
   "execution_count": 305,
   "id": "716a85b7",
   "metadata": {},
   "outputs": [
    {
     "data": {
      "text/plain": [
       "(3095, 9)"
      ]
     },
     "execution_count": 305,
     "metadata": {},
     "output_type": "execute_result"
    }
   ],
   "source": [
    "antidepressant_review=top_4_condition[top_4_condition.condition=='Depression']\n",
    "antidepressant_review.shape"
   ]
  },
  {
   "cell_type": "code",
   "execution_count": 306,
   "id": "86489cb2",
   "metadata": {},
   "outputs": [
    {
     "data": {
      "text/plain": [
       "Sertraline        39\n",
       "Vortioxetine      36\n",
       "Zoloft            20\n",
       "Venlafaxine       19\n",
       "Escitalopram      19\n",
       "Pristiq           17\n",
       "Bupropion         17\n",
       "Desvenlafaxine    16\n",
       "Mirtazapine       13\n",
       "Duloxetine        12\n",
       "Name: drugName, dtype: int64"
      ]
     },
     "execution_count": 306,
     "metadata": {},
     "output_type": "execute_result"
    }
   ],
   "source": [
    "antidepressant_review[antidepressant_review.year==2017].drugName.value_counts().head(10)"
   ]
  },
  {
   "cell_type": "code",
   "execution_count": 307,
   "id": "4ea50a8c",
   "metadata": {},
   "outputs": [
    {
     "data": {
      "text/plain": [
       "Desvenlafaxine    20\n",
       "Pristiq           19\n",
       "Bupropion         15\n",
       "Sertraline        11\n",
       "Cymbalta          11\n",
       "Duloxetine        10\n",
       "Escitalopram       9\n",
       "Lexapro            8\n",
       "Venlafaxine        8\n",
       "Wellbutrin         6\n",
       "Name: drugName, dtype: int64"
      ]
     },
     "execution_count": 307,
     "metadata": {},
     "output_type": "execute_result"
    }
   ],
   "source": [
    "antidepressant_review[antidepressant_review.year==2010].drugName.value_counts().head(10)"
   ]
  },
  {
   "cell_type": "code",
   "execution_count": 308,
   "id": "473491f0",
   "metadata": {},
   "outputs": [
    {
     "data": {
      "text/plain": [
       "2016    523\n",
       "2015    413\n",
       "2017    379\n",
       "2013    324\n",
       "2011    302\n",
       "2012    295\n",
       "2009    288\n",
       "2014    262\n",
       "2010    198\n",
       "2008    111\n",
       "Name: year, dtype: int64"
      ]
     },
     "execution_count": 308,
     "metadata": {},
     "output_type": "execute_result"
    }
   ],
   "source": [
    "antidepressant_review.year.value_counts()"
   ]
  },
  {
   "cell_type": "markdown",
   "id": "07ffda6c",
   "metadata": {},
   "source": [
    "#### 2.3 pain relieve drugs\n",
    "\n",
    "   **Qs:**\n",
    "   \n",
    "   \n",
    "The most common drugs involved in prescription opioid overdose deaths include:\n",
    "1. Methadone\n",
    "2. Oxycodone (such as OxyContin®)\n",
    "3. Hydrocodone (such as Vicodin®)3\n",
    "4. Tramadol \n",
    "and more\n",
    "Are all these top 10 pain killer drugs all nacostic???"
   ]
  },
  {
   "cell_type": "code",
   "execution_count": 309,
   "id": "b5a4aa7d",
   "metadata": {},
   "outputs": [
    {
     "data": {
      "text/plain": [
       "Tramadol                       144\n",
       "Acetaminophen / hydrocodone    120\n",
       "Acetaminophen / oxycodone      114\n",
       "Oxycodone                       99\n",
       "Tapentadol                      69\n",
       "Hydromorphone                   66\n",
       "Gabapentin                      63\n",
       "Diclofenac                      59\n",
       "Dilaudid                        53\n",
       "Ketorolac                       53\n",
       "Name: drugName, dtype: int64"
      ]
     },
     "execution_count": 309,
     "metadata": {},
     "output_type": "execute_result"
    }
   ],
   "source": [
    "#top 10 drugs for pain with most reviews\n",
    "top_10_pain=top_4_condition[top_4_condition.condition=='Pain'].drugName.value_counts().head(10)\n",
    "top_10_pain"
   ]
  },
  {
   "cell_type": "code",
   "execution_count": 310,
   "id": "a7391edd",
   "metadata": {},
   "outputs": [
    {
     "data": {
      "text/plain": [
       "(2100, 9)"
      ]
     },
     "execution_count": 310,
     "metadata": {},
     "output_type": "execute_result"
    }
   ],
   "source": [
    "pain_relif_review=top_4_condition[top_4_condition.condition=='Pain']\n",
    "pain_relif_review.shape"
   ]
  },
  {
   "cell_type": "code",
   "execution_count": 311,
   "id": "a9194c3f",
   "metadata": {
    "scrolled": true
   },
   "outputs": [
    {
     "data": {
      "text/plain": [
       "10.0    714\n",
       "9.0     449\n",
       "8.0     312\n",
       "1.0     212\n",
       "7.0     124\n",
       "3.0      64\n",
       "6.0      63\n",
       "5.0      59\n",
       "2.0      55\n",
       "4.0      48\n",
       "Name: rating, dtype: int64"
      ]
     },
     "execution_count": 311,
     "metadata": {},
     "output_type": "execute_result"
    }
   ],
   "source": [
    "#top_10_pain_rating\n",
    "pain_relif_review.rating.value_counts()"
   ]
  },
  {
   "cell_type": "code",
   "execution_count": 312,
   "id": "1c696d6b",
   "metadata": {},
   "outputs": [
    {
     "data": {
      "text/plain": [
       "Tramadol                       144\n",
       "Acetaminophen / hydrocodone    120\n",
       "Acetaminophen / oxycodone      114\n",
       "Oxycodone                       99\n",
       "Tapentadol                      69\n",
       "Hydromorphone                   66\n",
       "Gabapentin                      63\n",
       "Diclofenac                      59\n",
       "Dilaudid                        53\n",
       "Ketorolac                       53\n",
       "Name: drugName, dtype: int64"
      ]
     },
     "execution_count": 312,
     "metadata": {},
     "output_type": "execute_result"
    }
   ],
   "source": [
    "pain_relif_review.drugName.value_counts().head(10)"
   ]
  },
  {
   "cell_type": "code",
   "execution_count": 313,
   "id": "bbbd60c1",
   "metadata": {
    "scrolled": true
   },
   "outputs": [
    {
     "data": {
      "text/plain": [
       "2009    425\n",
       "2016    259\n",
       "2011    253\n",
       "2008    229\n",
       "2010    208\n",
       "2015    178\n",
       "2017    168\n",
       "2012    147\n",
       "2013    139\n",
       "2014     94\n",
       "Name: year, dtype: int64"
      ]
     },
     "execution_count": 313,
     "metadata": {},
     "output_type": "execute_result"
    }
   ],
   "source": [
    "#review time for the top_10_most reviewed drugs for pain\n",
    "pain_relif_review.year.value_counts()"
   ]
  },
  {
   "cell_type": "markdown",
   "id": "5bf6293a",
   "metadata": {},
   "source": [
    "#### 2.4. anxiety control drugs \n",
    "\n",
    "   **questions:**"
   ]
  },
  {
   "cell_type": "code",
   "execution_count": 314,
   "id": "f3116337",
   "metadata": {},
   "outputs": [
    {
     "data": {
      "text/plain": [
       "Escitalopram    185\n",
       "Clonazepam      136\n",
       "Alprazolam      132\n",
       "Buspirone       131\n",
       "Lorazepam       118\n",
       "Lexapro         111\n",
       "Hydroxyzine     107\n",
       "Xanax            92\n",
       "BuSpar           70\n",
       "Gabapentin       67\n",
       "Name: drugName, dtype: int64"
      ]
     },
     "execution_count": 314,
     "metadata": {},
     "output_type": "execute_result"
    }
   ],
   "source": [
    "#top 10 drugs for anxiety with most reviews\n",
    "top_10_anxiety=top_4_condition[top_4_condition.condition=='Anxiety'].drugName.value_counts().head(10)\n",
    "top_10_anxiety"
   ]
  },
  {
   "cell_type": "code",
   "execution_count": 315,
   "id": "a44528e3",
   "metadata": {},
   "outputs": [
    {
     "data": {
      "text/plain": [
       "(1908, 9)"
      ]
     },
     "execution_count": 315,
     "metadata": {},
     "output_type": "execute_result"
    }
   ],
   "source": [
    "anxiety_relif_review=top_4_condition[top_4_condition.condition=='Anxiety']\n",
    "anxiety_relif_review.shape"
   ]
  },
  {
   "cell_type": "code",
   "execution_count": 316,
   "id": "834406fc",
   "metadata": {},
   "outputs": [
    {
     "data": {
      "text/plain": [
       "2016    378\n",
       "2015    290\n",
       "2017    253\n",
       "2014    170\n",
       "2011    169\n",
       "2013    166\n",
       "2009    160\n",
       "2012    142\n",
       "2010    111\n",
       "2008     69\n",
       "Name: year, dtype: int64"
      ]
     },
     "execution_count": 316,
     "metadata": {},
     "output_type": "execute_result"
    }
   ],
   "source": [
    "anxiety_relif_review.year.value_counts()"
   ]
  },
  {
   "cell_type": "code",
   "execution_count": 317,
   "id": "395a9f7b",
   "metadata": {},
   "outputs": [
    {
     "data": {
      "text/plain": [
       "Index(['anxiety', 'pain', 'depression', 'birth_control'], dtype='object')"
      ]
     },
     "execution_count": 317,
     "metadata": {},
     "output_type": "execute_result"
    }
   ],
   "source": [
    "import altair as alt\n",
    "import numpy as np\n",
    "anxiety=anxiety_relif_review.year.value_counts()\n",
    "pain=pain_relif_review.year.value_counts()\n",
    "depression=antidepressant_review.year.value_counts()\n",
    "birth_control=birth_control_review.year.value_counts()\n",
    "source=pd.DataFrame({'anxiety':anxiety, 'pain':pain, 'depression':depression, 'birth_control':birth_control})\n",
    "source.columns"
   ]
  },
  {
   "cell_type": "code",
   "execution_count": 318,
   "id": "6e0ec943",
   "metadata": {},
   "outputs": [
    {
     "data": {
      "text/html": [
       "<div>\n",
       "<style scoped>\n",
       "    .dataframe tbody tr th:only-of-type {\n",
       "        vertical-align: middle;\n",
       "    }\n",
       "\n",
       "    .dataframe tbody tr th {\n",
       "        vertical-align: top;\n",
       "    }\n",
       "\n",
       "    .dataframe thead th {\n",
       "        text-align: right;\n",
       "    }\n",
       "</style>\n",
       "<table border=\"1\" class=\"dataframe\">\n",
       "  <thead>\n",
       "    <tr style=\"text-align: right;\">\n",
       "      <th></th>\n",
       "      <th>anxiety</th>\n",
       "      <th>pain</th>\n",
       "      <th>depression</th>\n",
       "      <th>birth_control</th>\n",
       "    </tr>\n",
       "    <tr>\n",
       "      <th>year</th>\n",
       "      <th></th>\n",
       "      <th></th>\n",
       "      <th></th>\n",
       "      <th></th>\n",
       "    </tr>\n",
       "  </thead>\n",
       "  <tbody>\n",
       "    <tr>\n",
       "      <th>2008</th>\n",
       "      <td>69</td>\n",
       "      <td>229</td>\n",
       "      <td>111</td>\n",
       "      <td>38</td>\n",
       "    </tr>\n",
       "    <tr>\n",
       "      <th>2009</th>\n",
       "      <td>160</td>\n",
       "      <td>425</td>\n",
       "      <td>288</td>\n",
       "      <td>298</td>\n",
       "    </tr>\n",
       "    <tr>\n",
       "      <th>2010</th>\n",
       "      <td>111</td>\n",
       "      <td>208</td>\n",
       "      <td>198</td>\n",
       "      <td>369</td>\n",
       "    </tr>\n",
       "    <tr>\n",
       "      <th>2011</th>\n",
       "      <td>169</td>\n",
       "      <td>253</td>\n",
       "      <td>302</td>\n",
       "      <td>625</td>\n",
       "    </tr>\n",
       "    <tr>\n",
       "      <th>2012</th>\n",
       "      <td>142</td>\n",
       "      <td>147</td>\n",
       "      <td>295</td>\n",
       "      <td>655</td>\n",
       "    </tr>\n",
       "  </tbody>\n",
       "</table>\n",
       "</div>"
      ],
      "text/plain": [
       "      anxiety  pain  depression  birth_control\n",
       "year                                          \n",
       "2008       69   229         111             38\n",
       "2009      160   425         288            298\n",
       "2010      111   208         198            369\n",
       "2011      169   253         302            625\n",
       "2012      142   147         295            655"
      ]
     },
     "execution_count": 318,
     "metadata": {},
     "output_type": "execute_result"
    }
   ],
   "source": [
    "source.index.name='year'\n",
    "source.head()"
   ]
  },
  {
   "cell_type": "code",
   "execution_count": 319,
   "id": "278b4815",
   "metadata": {},
   "outputs": [
    {
     "data": {
      "text/html": [
       "\n",
       "<div id=\"altair-viz-1e7a1af7a3104afe99117b25220956b5\"></div>\n",
       "<script type=\"text/javascript\">\n",
       "  (function(spec, embedOpt){\n",
       "    let outputDiv = document.currentScript.previousElementSibling;\n",
       "    if (outputDiv.id !== \"altair-viz-1e7a1af7a3104afe99117b25220956b5\") {\n",
       "      outputDiv = document.getElementById(\"altair-viz-1e7a1af7a3104afe99117b25220956b5\");\n",
       "    }\n",
       "    const paths = {\n",
       "      \"vega\": \"https://cdn.jsdelivr.net/npm//vega@5?noext\",\n",
       "      \"vega-lib\": \"https://cdn.jsdelivr.net/npm//vega-lib?noext\",\n",
       "      \"vega-lite\": \"https://cdn.jsdelivr.net/npm//vega-lite@4.8.1?noext\",\n",
       "      \"vega-embed\": \"https://cdn.jsdelivr.net/npm//vega-embed@6?noext\",\n",
       "    };\n",
       "\n",
       "    function loadScript(lib) {\n",
       "      return new Promise(function(resolve, reject) {\n",
       "        var s = document.createElement('script');\n",
       "        s.src = paths[lib];\n",
       "        s.async = true;\n",
       "        s.onload = () => resolve(paths[lib]);\n",
       "        s.onerror = () => reject(`Error loading script: ${paths[lib]}`);\n",
       "        document.getElementsByTagName(\"head\")[0].appendChild(s);\n",
       "      });\n",
       "    }\n",
       "\n",
       "    function showError(err) {\n",
       "      outputDiv.innerHTML = `<div class=\"error\" style=\"color:red;\">${err}</div>`;\n",
       "      throw err;\n",
       "    }\n",
       "\n",
       "    function displayChart(vegaEmbed) {\n",
       "      vegaEmbed(outputDiv, spec, embedOpt)\n",
       "        .catch(err => showError(`Javascript Error: ${err.message}<br>This usually means there's a typo in your chart specification. See the javascript console for the full traceback.`));\n",
       "    }\n",
       "\n",
       "    if(typeof define === \"function\" && define.amd) {\n",
       "      requirejs.config({paths});\n",
       "      require([\"vega-embed\"], displayChart, err => showError(`Error loading script: ${err.message}`));\n",
       "    } else if (typeof vegaEmbed === \"function\") {\n",
       "      displayChart(vegaEmbed);\n",
       "    } else {\n",
       "      loadScript(\"vega\")\n",
       "        .then(() => loadScript(\"vega-lite\"))\n",
       "        .then(() => loadScript(\"vega-embed\"))\n",
       "        .catch(showError)\n",
       "        .then(() => displayChart(vegaEmbed));\n",
       "    }\n",
       "  })({\"config\": {\"view\": {\"continuousWidth\": 400, \"continuousHeight\": 300}}, \"layer\": [{\"mark\": {\"type\": \"line\", \"interpolate\": \"basis\"}, \"encoding\": {\"color\": {\"type\": \"nominal\", \"field\": \"condition\"}, \"x\": {\"type\": \"temporal\", \"field\": \"year\"}, \"y\": {\"type\": \"quantitative\", \"field\": \"count\"}}}, {\"mark\": \"point\", \"encoding\": {\"opacity\": {\"value\": 0}, \"x\": {\"type\": \"temporal\", \"field\": \"year\"}}, \"selection\": {\"selector006\": {\"type\": \"single\", \"nearest\": true, \"on\": \"mouseover\", \"fields\": [\"year\"], \"empty\": \"none\"}}}, {\"mark\": \"point\", \"encoding\": {\"color\": {\"type\": \"nominal\", \"field\": \"condition\"}, \"opacity\": {\"condition\": {\"value\": 1, \"selection\": \"selector006\"}, \"value\": 0}, \"x\": {\"type\": \"temporal\", \"field\": \"year\"}, \"y\": {\"type\": \"quantitative\", \"field\": \"count\"}}}, {\"mark\": {\"type\": \"rule\", \"color\": \"gray\"}, \"encoding\": {\"x\": {\"type\": \"temporal\", \"field\": \"year\"}}, \"transform\": [{\"filter\": {\"selection\": \"selector006\"}}]}, {\"mark\": {\"type\": \"text\", \"align\": \"left\", \"dx\": 5, \"dy\": -5}, \"encoding\": {\"color\": {\"type\": \"nominal\", \"field\": \"condition\"}, \"text\": {\"condition\": {\"type\": \"quantitative\", \"field\": \"count\", \"selection\": \"selector006\"}, \"value\": \" \"}, \"x\": {\"type\": \"temporal\", \"field\": \"year\"}, \"y\": {\"type\": \"quantitative\", \"field\": \"count\"}}}], \"data\": {\"name\": \"data-cb9bcb8960fcd6766929ff2a2908da67\"}, \"height\": 300, \"width\": 600, \"$schema\": \"https://vega.github.io/schema/vega-lite/v4.8.1.json\", \"datasets\": {\"data-cb9bcb8960fcd6766929ff2a2908da67\": [{\"year\": 2008, \"condition\": \"anxiety\", \"count\": 69}, {\"year\": 2009, \"condition\": \"anxiety\", \"count\": 160}, {\"year\": 2010, \"condition\": \"anxiety\", \"count\": 111}, {\"year\": 2011, \"condition\": \"anxiety\", \"count\": 169}, {\"year\": 2012, \"condition\": \"anxiety\", \"count\": 142}, {\"year\": 2013, \"condition\": \"anxiety\", \"count\": 166}, {\"year\": 2014, \"condition\": \"anxiety\", \"count\": 170}, {\"year\": 2015, \"condition\": \"anxiety\", \"count\": 290}, {\"year\": 2016, \"condition\": \"anxiety\", \"count\": 378}, {\"year\": 2017, \"condition\": \"anxiety\", \"count\": 253}, {\"year\": 2008, \"condition\": \"pain\", \"count\": 229}, {\"year\": 2009, \"condition\": \"pain\", \"count\": 425}, {\"year\": 2010, \"condition\": \"pain\", \"count\": 208}, {\"year\": 2011, \"condition\": \"pain\", \"count\": 253}, {\"year\": 2012, \"condition\": \"pain\", \"count\": 147}, {\"year\": 2013, \"condition\": \"pain\", \"count\": 139}, {\"year\": 2014, \"condition\": \"pain\", \"count\": 94}, {\"year\": 2015, \"condition\": \"pain\", \"count\": 178}, {\"year\": 2016, \"condition\": \"pain\", \"count\": 259}, {\"year\": 2017, \"condition\": \"pain\", \"count\": 168}, {\"year\": 2008, \"condition\": \"depression\", \"count\": 111}, {\"year\": 2009, \"condition\": \"depression\", \"count\": 288}, {\"year\": 2010, \"condition\": \"depression\", \"count\": 198}, {\"year\": 2011, \"condition\": \"depression\", \"count\": 302}, {\"year\": 2012, \"condition\": \"depression\", \"count\": 295}, {\"year\": 2013, \"condition\": \"depression\", \"count\": 324}, {\"year\": 2014, \"condition\": \"depression\", \"count\": 262}, {\"year\": 2015, \"condition\": \"depression\", \"count\": 413}, {\"year\": 2016, \"condition\": \"depression\", \"count\": 523}, {\"year\": 2017, \"condition\": \"depression\", \"count\": 379}, {\"year\": 2008, \"condition\": \"birth_control\", \"count\": 38}, {\"year\": 2009, \"condition\": \"birth_control\", \"count\": 298}, {\"year\": 2010, \"condition\": \"birth_control\", \"count\": 369}, {\"year\": 2011, \"condition\": \"birth_control\", \"count\": 625}, {\"year\": 2012, \"condition\": \"birth_control\", \"count\": 655}, {\"year\": 2013, \"condition\": \"birth_control\", \"count\": 605}, {\"year\": 2014, \"condition\": \"birth_control\", \"count\": 646}, {\"year\": 2015, \"condition\": \"birth_control\", \"count\": 1904}, {\"year\": 2016, \"condition\": \"birth_control\", \"count\": 2499}, {\"year\": 2017, \"condition\": \"birth_control\", \"count\": 2009}]}}, {\"mode\": \"vega-lite\"});\n",
       "</script>"
      ],
      "text/plain": [
       "alt.LayerChart(...)"
      ]
     },
     "execution_count": 319,
     "metadata": {},
     "output_type": "execute_result"
    }
   ],
   "source": [
    "source = source.reset_index().melt('year', var_name='condition', value_name='count')"
   ]
  },
  {
   "cell_type": "code",
   "execution_count": 323,
   "id": "f1c27414",
   "metadata": {},
   "outputs": [
    {
     "data": {
      "text/html": [
       "\n",
       "<div id=\"altair-viz-502a94c8455d433a975d78e140248bb3\"></div>\n",
       "<script type=\"text/javascript\">\n",
       "  (function(spec, embedOpt){\n",
       "    let outputDiv = document.currentScript.previousElementSibling;\n",
       "    if (outputDiv.id !== \"altair-viz-502a94c8455d433a975d78e140248bb3\") {\n",
       "      outputDiv = document.getElementById(\"altair-viz-502a94c8455d433a975d78e140248bb3\");\n",
       "    }\n",
       "    const paths = {\n",
       "      \"vega\": \"https://cdn.jsdelivr.net/npm//vega@5?noext\",\n",
       "      \"vega-lib\": \"https://cdn.jsdelivr.net/npm//vega-lib?noext\",\n",
       "      \"vega-lite\": \"https://cdn.jsdelivr.net/npm//vega-lite@4.8.1?noext\",\n",
       "      \"vega-embed\": \"https://cdn.jsdelivr.net/npm//vega-embed@6?noext\",\n",
       "    };\n",
       "\n",
       "    function loadScript(lib) {\n",
       "      return new Promise(function(resolve, reject) {\n",
       "        var s = document.createElement('script');\n",
       "        s.src = paths[lib];\n",
       "        s.async = true;\n",
       "        s.onload = () => resolve(paths[lib]);\n",
       "        s.onerror = () => reject(`Error loading script: ${paths[lib]}`);\n",
       "        document.getElementsByTagName(\"head\")[0].appendChild(s);\n",
       "      });\n",
       "    }\n",
       "\n",
       "    function showError(err) {\n",
       "      outputDiv.innerHTML = `<div class=\"error\" style=\"color:red;\">${err}</div>`;\n",
       "      throw err;\n",
       "    }\n",
       "\n",
       "    function displayChart(vegaEmbed) {\n",
       "      vegaEmbed(outputDiv, spec, embedOpt)\n",
       "        .catch(err => showError(`Javascript Error: ${err.message}<br>This usually means there's a typo in your chart specification. See the javascript console for the full traceback.`));\n",
       "    }\n",
       "\n",
       "    if(typeof define === \"function\" && define.amd) {\n",
       "      requirejs.config({paths});\n",
       "      require([\"vega-embed\"], displayChart, err => showError(`Error loading script: ${err.message}`));\n",
       "    } else if (typeof vegaEmbed === \"function\") {\n",
       "      displayChart(vegaEmbed);\n",
       "    } else {\n",
       "      loadScript(\"vega\")\n",
       "        .then(() => loadScript(\"vega-lite\"))\n",
       "        .then(() => loadScript(\"vega-embed\"))\n",
       "        .catch(showError)\n",
       "        .then(() => displayChart(vegaEmbed));\n",
       "    }\n",
       "  })({\"config\": {\"view\": {\"continuousWidth\": 400, \"continuousHeight\": 300}}, \"layer\": [{\"mark\": {\"type\": \"line\", \"interpolate\": \"basis\"}, \"encoding\": {\"color\": {\"type\": \"nominal\", \"field\": \"condition\"}, \"x\": {\"type\": \"nominal\", \"field\": \"year\"}, \"y\": {\"type\": \"quantitative\", \"field\": \"count\"}}}, {\"mark\": \"point\", \"encoding\": {\"opacity\": {\"value\": 0}, \"x\": {\"type\": \"nominal\", \"field\": \"year\"}}, \"selection\": {\"selector010\": {\"type\": \"single\", \"nearest\": true, \"on\": \"mouseover\", \"fields\": [\"year\"], \"empty\": \"none\"}}}, {\"mark\": \"point\", \"encoding\": {\"color\": {\"type\": \"nominal\", \"field\": \"condition\"}, \"opacity\": {\"condition\": {\"value\": 1, \"selection\": \"selector010\"}, \"value\": 0}, \"x\": {\"type\": \"nominal\", \"field\": \"year\"}, \"y\": {\"type\": \"quantitative\", \"field\": \"count\"}}}, {\"mark\": {\"type\": \"rule\", \"color\": \"gray\"}, \"encoding\": {\"x\": {\"type\": \"nominal\", \"field\": \"year\"}}, \"transform\": [{\"filter\": {\"selection\": \"selector010\"}}]}, {\"mark\": {\"type\": \"text\", \"align\": \"left\", \"dx\": 5, \"dy\": -5}, \"encoding\": {\"color\": {\"type\": \"nominal\", \"field\": \"condition\"}, \"text\": {\"condition\": {\"type\": \"quantitative\", \"field\": \"count\", \"selection\": \"selector010\"}, \"value\": \" \"}, \"x\": {\"type\": \"nominal\", \"field\": \"year\"}, \"y\": {\"type\": \"quantitative\", \"field\": \"count\"}}}], \"data\": {\"name\": \"data-cb9bcb8960fcd6766929ff2a2908da67\"}, \"height\": 500, \"width\": 800, \"$schema\": \"https://vega.github.io/schema/vega-lite/v4.8.1.json\", \"datasets\": {\"data-cb9bcb8960fcd6766929ff2a2908da67\": [{\"year\": 2008, \"condition\": \"anxiety\", \"count\": 69}, {\"year\": 2009, \"condition\": \"anxiety\", \"count\": 160}, {\"year\": 2010, \"condition\": \"anxiety\", \"count\": 111}, {\"year\": 2011, \"condition\": \"anxiety\", \"count\": 169}, {\"year\": 2012, \"condition\": \"anxiety\", \"count\": 142}, {\"year\": 2013, \"condition\": \"anxiety\", \"count\": 166}, {\"year\": 2014, \"condition\": \"anxiety\", \"count\": 170}, {\"year\": 2015, \"condition\": \"anxiety\", \"count\": 290}, {\"year\": 2016, \"condition\": \"anxiety\", \"count\": 378}, {\"year\": 2017, \"condition\": \"anxiety\", \"count\": 253}, {\"year\": 2008, \"condition\": \"pain\", \"count\": 229}, {\"year\": 2009, \"condition\": \"pain\", \"count\": 425}, {\"year\": 2010, \"condition\": \"pain\", \"count\": 208}, {\"year\": 2011, \"condition\": \"pain\", \"count\": 253}, {\"year\": 2012, \"condition\": \"pain\", \"count\": 147}, {\"year\": 2013, \"condition\": \"pain\", \"count\": 139}, {\"year\": 2014, \"condition\": \"pain\", \"count\": 94}, {\"year\": 2015, \"condition\": \"pain\", \"count\": 178}, {\"year\": 2016, \"condition\": \"pain\", \"count\": 259}, {\"year\": 2017, \"condition\": \"pain\", \"count\": 168}, {\"year\": 2008, \"condition\": \"depression\", \"count\": 111}, {\"year\": 2009, \"condition\": \"depression\", \"count\": 288}, {\"year\": 2010, \"condition\": \"depression\", \"count\": 198}, {\"year\": 2011, \"condition\": \"depression\", \"count\": 302}, {\"year\": 2012, \"condition\": \"depression\", \"count\": 295}, {\"year\": 2013, \"condition\": \"depression\", \"count\": 324}, {\"year\": 2014, \"condition\": \"depression\", \"count\": 262}, {\"year\": 2015, \"condition\": \"depression\", \"count\": 413}, {\"year\": 2016, \"condition\": \"depression\", \"count\": 523}, {\"year\": 2017, \"condition\": \"depression\", \"count\": 379}, {\"year\": 2008, \"condition\": \"birth_control\", \"count\": 38}, {\"year\": 2009, \"condition\": \"birth_control\", \"count\": 298}, {\"year\": 2010, \"condition\": \"birth_control\", \"count\": 369}, {\"year\": 2011, \"condition\": \"birth_control\", \"count\": 625}, {\"year\": 2012, \"condition\": \"birth_control\", \"count\": 655}, {\"year\": 2013, \"condition\": \"birth_control\", \"count\": 605}, {\"year\": 2014, \"condition\": \"birth_control\", \"count\": 646}, {\"year\": 2015, \"condition\": \"birth_control\", \"count\": 1904}, {\"year\": 2016, \"condition\": \"birth_control\", \"count\": 2499}, {\"year\": 2017, \"condition\": \"birth_control\", \"count\": 2009}]}}, {\"mode\": \"vega-lite\"});\n",
       "</script>"
      ],
      "text/plain": [
       "alt.LayerChart(...)"
      ]
     },
     "execution_count": 323,
     "metadata": {},
     "output_type": "execute_result"
    }
   ],
   "source": [
    "nearest = alt.selection(type='single', nearest=True, on='mouseover',\n",
    "                        fields=['year'], empty='none')\n",
    "line = alt.Chart(source).mark_line(interpolate='basis').encode(\n",
    "    x='year:N',\n",
    "    y='count:Q',\n",
    "    color='condition:N'\n",
    ")\n",
    "selectors = alt.Chart(source).mark_point().encode(\n",
    "    x='year:N',\n",
    "    opacity=alt.value(0),\n",
    ").add_selection(\n",
    "    nearest\n",
    ")\n",
    "points = line.mark_point().encode(\n",
    "    opacity=alt.condition(nearest, alt.value(1), alt.value(0))\n",
    ")\n",
    "text = line.mark_text(align='left', dx=5, dy=-5).encode(\n",
    "    text=alt.condition(nearest, 'count:Q', alt.value(' '))\n",
    ")\n",
    "rules = alt.Chart(source).mark_rule(color='gray').encode(\n",
    "    x='year:N',\n",
    ").transform_filter(\n",
    "    nearest\n",
    ")\n",
    "\n",
    "# Put the five layers into a chart and bind the data\n",
    "alt.layer(\n",
    "    line, selectors, points, rules, text\n",
    ").properties(\n",
    "    width=800, height=500\n",
    ")"
   ]
  },
  {
   "cell_type": "code",
   "execution_count": 245,
   "id": "f9ad9b7b",
   "metadata": {},
   "outputs": [
    {
     "data": {
      "text/html": [
       "<div>\n",
       "<style scoped>\n",
       "    .dataframe tbody tr th:only-of-type {\n",
       "        vertical-align: middle;\n",
       "    }\n",
       "\n",
       "    .dataframe tbody tr th {\n",
       "        vertical-align: top;\n",
       "    }\n",
       "\n",
       "    .dataframe thead th {\n",
       "        text-align: right;\n",
       "    }\n",
       "</style>\n",
       "<table border=\"1\" class=\"dataframe\">\n",
       "  <thead>\n",
       "    <tr style=\"text-align: right;\">\n",
       "      <th></th>\n",
       "      <th>anxiety</th>\n",
       "      <th>pain</th>\n",
       "      <th>depression</th>\n",
       "      <th>birth_control</th>\n",
       "    </tr>\n",
       "  </thead>\n",
       "  <tbody>\n",
       "    <tr>\n",
       "      <th>2008</th>\n",
       "      <td>69</td>\n",
       "      <td>229</td>\n",
       "      <td>111</td>\n",
       "      <td>38</td>\n",
       "    </tr>\n",
       "    <tr>\n",
       "      <th>2009</th>\n",
       "      <td>160</td>\n",
       "      <td>425</td>\n",
       "      <td>288</td>\n",
       "      <td>298</td>\n",
       "    </tr>\n",
       "    <tr>\n",
       "      <th>2010</th>\n",
       "      <td>111</td>\n",
       "      <td>208</td>\n",
       "      <td>198</td>\n",
       "      <td>369</td>\n",
       "    </tr>\n",
       "    <tr>\n",
       "      <th>2011</th>\n",
       "      <td>169</td>\n",
       "      <td>253</td>\n",
       "      <td>302</td>\n",
       "      <td>625</td>\n",
       "    </tr>\n",
       "    <tr>\n",
       "      <th>2012</th>\n",
       "      <td>142</td>\n",
       "      <td>147</td>\n",
       "      <td>295</td>\n",
       "      <td>655</td>\n",
       "    </tr>\n",
       "  </tbody>\n",
       "</table>\n",
       "</div>"
      ],
      "text/plain": [
       "      anxiety  pain  depression  birth_control\n",
       "2008       69   229         111             38\n",
       "2009      160   425         288            298\n",
       "2010      111   208         198            369\n",
       "2011      169   253         302            625\n",
       "2012      142   147         295            655"
      ]
     },
     "execution_count": 245,
     "metadata": {},
     "output_type": "execute_result"
    }
   ],
   "source": [
    "\n"
   ]
  },
  {
   "cell_type": "markdown",
   "id": "47deba2a",
   "metadata": {},
   "source": []
  },
  {
   "cell_type": "code",
   "execution_count": null,
   "id": "0dba7763",
   "metadata": {},
   "outputs": [],
   "source": []
  },
  {
   "cell_type": "code",
   "execution_count": null,
   "id": "646735b9",
   "metadata": {},
   "outputs": [],
   "source": []
  },
  {
   "cell_type": "code",
   "execution_count": 9,
   "id": "255bab21",
   "metadata": {},
   "outputs": [
    {
     "data": {
      "text/plain": [
       "<bound method Chart.interactive of alt.Chart(...)>"
      ]
     },
     "execution_count": 9,
     "metadata": {},
     "output_type": "execute_result"
    }
   ],
   "source": [
    "#numerical features distribution\n",
    "import altair as alt\n",
    "alt.Chart(df).mark_point().encode(x='usefulCount', y='rating').interactive"
   ]
  },
  {
   "cell_type": "code",
   "execution_count": null,
   "id": "d8ff95bb",
   "metadata": {},
   "outputs": [],
   "source": [
    "#sentiment analysis for the review with rating, can sentiment analysis give us the same result as the rating customer provided\n",
    "#time scale analysis, the time trend for depression, pain and anxiety \n",
    "#drug review : birth control, depression, pain, If we use the sentiment results to classify the medicine or rating??"
   ]
  },
  {
   "cell_type": "code",
   "execution_count": null,
   "id": "f2823570",
   "metadata": {},
   "outputs": [],
   "source": []
  }
 ],
 "metadata": {
  "kernelspec": {
   "display_name": "Python 3",
   "language": "python",
   "name": "python3"
  },
  "language_info": {
   "codemirror_mode": {
    "name": "ipython",
    "version": 3
   },
   "file_extension": ".py",
   "mimetype": "text/x-python",
   "name": "python",
   "nbconvert_exporter": "python",
   "pygments_lexer": "ipython3",
   "version": "3.8.8"
  }
 },
 "nbformat": 4,
 "nbformat_minor": 5
}
