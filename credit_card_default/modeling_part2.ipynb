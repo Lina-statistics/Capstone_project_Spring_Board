{
 "cells": [
  {
   "cell_type": "markdown",
   "metadata": {},
   "source": [
    "## 4. modelling using constructed features\n",
    "\n",
    "### 4.1 develop function for classification model development, evaluation and parameter optimization"
   ]
  },
  {
   "cell_type": "code",
   "execution_count": 34,
   "metadata": {},
   "outputs": [],
   "source": [
    "import pandas as pd\n",
    "import numpy as np\n",
    "import matplotlib.pyplot as plt\n",
    "import seaborn as sns\n",
    "import time\n",
    "from sklearn.preprocessing import StandardScaler\n",
    "from sklearn.model_selection import train_test_split, cross_validate\n",
    "from sklearn.pipeline import Pipeline\n",
    "from sklearn.metrics import classification_report, roc_curve, roc_auc_score, confusion_matrix, accuracy_score, precision_score, recall_score, f1_score, plot_roc_curve\n",
    "from sklearn.model_selection import RandomizedSearchCV\n",
    "from sklearn.linear_model import LogisticRegression\n",
    "from sklearn.tree import DecisionTreeClassifier\n",
    "from sklearn.neighbors import KNeighborsClassifier\n",
    "from sklearn.ensemble import RandomForestClassifier, GradientBoostingClassifier, AdaBoostClassifier\n",
    "from xgboost import XGBClassifier"
   ]
  },
  {
   "cell_type": "code",
   "execution_count": 35,
   "metadata": {},
   "outputs": [],
   "source": [
    "#optimize the hyperparameters in classification algorithms\n",
    "def classification_tune(clf_estimator, param_grid, X_train, y_train, X_test, y_test):\n",
    "    ##find the best model\n",
    "    clf_random = RandomizedSearchCV(estimator = clf_estimator, param_distributions=param_grid, cv = 5, verbose=2, random_state=42, n_jobs = -1)\n",
    "    clf_random.fit(X_train, y_train)\n",
    "    best_clf=clf_random.best_estimator_\n",
    "    y_pred=best_clf.predict(X_test)\n",
    "    y_pred_proba = best_clf.predict_proba(X_test_s)[::,1]\n",
    "    print(\"BEST PARAMS\", clf_random.best_params_)\n",
    "    return best_clf, y_pred, y_pred_proba "
   ]
  },
  {
   "cell_type": "code",
   "execution_count": 36,
   "metadata": {},
   "outputs": [],
   "source": [
    "#evaluation of the classification models\n",
    "def classification_eval(best_clf, y_test, y_pred, y_pred_proba):\n",
    "    cnf_matrix = confusion_matrix(y_test, y_pred)\n",
    "    fig, (ax1, ax2) = plt.subplots(1, 2, figsize=(10,5))\n",
    "    sns.heatmap(pd.DataFrame(cnf_matrix), annot=True, cmap=\"YlGnBu\" ,fmt='g', ax=ax1)\n",
    "    plt.tight_layout()\n",
    "    ax1.set_title('Confusion matrix')\n",
    "    ax1.set_ylabel('Actual label')\n",
    "    ax1.set_xlabel('Predicted label')\n",
    "    print(\"Accuracy:\",accuracy_score(y_test, y_pred).round(3))\n",
    "    print(\"Precision:\",precision_score(y_test, y_pred).round(3))\n",
    "    print(\"Recall:\", recall_score(y_test, y_pred).round(3))\n",
    "    print(\"f1 score:\", f1_score(y_test, y_pred).round(3))\n",
    "    fpr, tpr, _ = roc_curve(y_test,  y_pred_proba)\n",
    "    auc = roc_auc_score(y_test, y_pred_proba).round(3)\n",
    "    ax2.plot(fpr,tpr,label=\"data 1, auc=\"+str(auc))\n",
    "    plt.legend(loc=4)\n",
    "    return ax1, ax2 \n",
    "    "
   ]
  },
  {
   "cell_type": "code",
   "execution_count": 37,
   "metadata": {},
   "outputs": [],
   "source": [
    "#find the importance of features\n",
    "def feature_importance(best_clf):\n",
    "    fea_importance=dict(zip(features_name, np.round(best_clf.feature_importances_, 2)))\n",
    "    sort_fea_importance={}\n",
    "    sorted_keys = sorted(fea_importance, key=fea_importance.get)\n",
    "    for i in sorted_keys:\n",
    "        sort_fea_importance[i]=fea_importance[i]\n",
    "    return sort_fea_importance"
   ]
  },
  {
   "cell_type": "markdown",
   "metadata": {},
   "source": [
    "### 4.2 import df_sum related files\n",
    "\n",
    "Q: Can we develop better model using df_sum instead of df_new??"
   ]
  },
  {
   "cell_type": "code",
   "execution_count": 38,
   "metadata": {},
   "outputs": [],
   "source": [
    "file='data/df_sum.csv'\n",
    "df=pd.read_csv(file)"
   ]
  },
  {
   "cell_type": "code",
   "execution_count": 39,
   "metadata": {},
   "outputs": [
    {
     "data": {
      "text/plain": [
       "Index(['LIMIT_BAL', 'SEX_2', 'EDUCATION_2', 'EDUCATION_3', 'EDUCATION_4',\n",
       "       'MARRIAGE_2', 'MARRIAGE_3', 'AGE', 'pay_sum', 'mean_utilization_ratio',\n",
       "       'bill_trend', 'bill_sum', 'pay_trend', 'payment_sum',\n",
       "       'mean_payment_ratio', '6_month_loss_given_default'],\n",
       "      dtype='object')"
      ]
     },
     "execution_count": 39,
     "metadata": {},
     "output_type": "execute_result"
    }
   ],
   "source": [
    "features_name=df.drop(columns=['DEFAULT', 'ID']).columns\n",
    "features_name"
   ]
  },
  {
   "cell_type": "code",
   "execution_count": 40,
   "metadata": {},
   "outputs": [],
   "source": [
    "from numpy import loadtxt\n",
    "X_train_s = loadtxt('data/X2_train_s.csv', delimiter=',')\n",
    "X_test_s = loadtxt('data/X2_test_s.csv', delimiter=',')\n",
    "y_train = loadtxt('data/y2_train.csv', delimiter=',')\n",
    "y_test = loadtxt('data/y2_test.csv', delimiter=',')"
   ]
  },
  {
   "cell_type": "markdown",
   "metadata": {},
   "source": [
    "### 4.3 Model development\n",
    "#### 4.3.1 Regularized logistic regression"
   ]
  },
  {
   "cell_type": "code",
   "execution_count": 41,
   "metadata": {},
   "outputs": [
    {
     "name": "stdout",
     "output_type": "stream",
     "text": [
      "Fitting 5 folds for each of 10 candidates, totalling 50 fits\n",
      "BEST PARAMS {'C': 50}\n"
     ]
    }
   ],
   "source": [
    "param_grid = {'C': [0.001, 0.005, 0.01, 0.05, 0.1, 0.5, 1, 5, 10, 50, 100]}\n",
    "clf_estimator = LogisticRegression()\n",
    "best_clf, y_pred, y_pred_proba=classification_tune(clf_estimator, param_grid, X_train_s, y_train, X_test_s, y_test)"
   ]
  },
  {
   "cell_type": "code",
   "execution_count": 42,
   "metadata": {},
   "outputs": [
    {
     "name": "stdout",
     "output_type": "stream",
     "text": [
      "Accuracy: 0.797\n",
      "Precision: 0.672\n",
      "Recall: 0.176\n",
      "f1 score: 0.279\n"
     ]
    },
    {
     "data": {
      "text/plain": [
       "(<AxesSubplot:title={'center':'Confusion matrix'}, xlabel='Predicted label', ylabel='Actual label'>,\n",
       " <AxesSubplot:>)"
      ]
     },
     "execution_count": 42,
     "metadata": {},
     "output_type": "execute_result"
    },
    {
     "data": {
      "image/png": "[encoded data removed]",
      "text/plain": [
       "<Figure size 720x360 with 3 Axes>"
      ]
     },
     "metadata": {
      "needs_background": "light"
     },
     "output_type": "display_data"
    }
   ],
   "source": [
    "classification_eval(best_clf, y_test, y_pred, y_pred_proba)"
   ]
  },
  {
   "cell_type": "code",
   "execution_count": 43,
   "metadata": {},
   "outputs": [
    {
     "data": {
      "text/plain": [
       "Index(['LIMIT_BAL', 'pay_sum', 'payment_sum'], dtype='object')"
      ]
     },
     "execution_count": 43,
     "metadata": {},
     "output_type": "execute_result"
    }
   ],
   "source": [
    "from sklearn.feature_selection import SelectFromModel\n",
    "sfm=SelectFromModel(best_clf, threshold=-np.inf, max_features=3)\n",
    "sfm.fit(X_train_s, y_train)\n",
    "feature_idx=sfm.get_support()\n",
    "feature_name=features_name[feature_idx]\n",
    "feature_name"
   ]
  },
  {
   "cell_type": "code",
   "execution_count": 44,
   "metadata": {},
   "outputs": [
    {
     "name": "stdout",
     "output_type": "stream",
     "text": [
      "Feature: 0, Score: -0.18343\n",
      "Feature: 1, Score: -0.04815\n",
      "Feature: 2, Score: -0.06649\n",
      "Feature: 3, Score: -0.04063\n",
      "Feature: 4, Score: -0.17026\n",
      "Feature: 5, Score: -0.08010\n",
      "Feature: 6, Score: -0.01621\n",
      "Feature: 7, Score: 0.04633\n",
      "Feature: 8, Score: 0.69473\n",
      "Feature: 9, Score: -0.11747\n",
      "Feature: 10, Score: -0.05041\n",
      "Feature: 11, Score: -0.02922\n",
      "Feature: 12, Score: -0.16393\n",
      "Feature: 13, Score: -0.44714\n",
      "Feature: 14, Score: -0.01652\n",
      "Feature: 15, Score: 0.04860\n"
     ]
    }
   ],
   "source": [
    "lg_coef=best_clf.coef_[0]\n",
    "for i,v in enumerate(lg_coef):\n",
    "    print('Feature: %0d, Score: %.5f' % (i,v))"
   ]
  },
  {
   "cell_type": "code",
   "execution_count": 45,
   "metadata": {},
   "outputs": [
    {
     "name": "stdout",
     "output_type": "stream",
     "text": [
      "pay_sum payment_sum LIMIT_BAL\n"
     ]
    }
   ],
   "source": [
    "print(features_name[8], features_name[13], features_name[0])"
   ]
  },
  {
   "cell_type": "markdown",
   "metadata": {},
   "source": [
    "pay_sum is far more important than the rest of the other features, as indicated by the high coefficent value, 0.69."
   ]
  },
  {
   "cell_type": "markdown",
   "metadata": {},
   "source": [
    "#### 4.3.2 Decision tree"
   ]
  },
  {
   "cell_type": "code",
   "execution_count": 46,
   "metadata": {},
   "outputs": [
    {
     "name": "stdout",
     "output_type": "stream",
     "text": [
      "Fitting 5 folds for each of 10 candidates, totalling 50 fits\n",
      "BEST PARAMS {'max_depth': 4, 'criterion': 'entropy'}\n"
     ]
    }
   ],
   "source": [
    "from sklearn.tree import export_graphviz\n",
    "import graphviz \n",
    "param_grid = {'criterion': ['gini', 'entropy'], 'max_depth':[2,4,6,8,10,12]}\n",
    "clf_estimator = DecisionTreeClassifier()\n",
    "best_clf, y_pred, y_pred_proba=classification_tune(clf_estimator, param_grid, X_train_s, y_train, X_test_s, y_test)"
   ]
  },
  {
   "cell_type": "code",
   "execution_count": 47,
   "metadata": {},
   "outputs": [
    {
     "name": "stdout",
     "output_type": "stream",
     "text": [
      "Accuracy: 0.801\n",
      "Precision: 0.625\n",
      "Recall: 0.276\n",
      "f1 score: 0.383\n"
     ]
    },
    {
     "data": {
      "text/plain": [
       "(<AxesSubplot:title={'center':'Confusion matrix'}, xlabel='Predicted label', ylabel='Actual label'>,\n",
       " <AxesSubplot:>)"
      ]
     },
     "execution_count": 47,
     "metadata": {},
     "output_type": "execute_result"
    },
    {
     "data": {
      "image/png": "[encoded data removed]",
      "text/plain": [
       "<Figure size 720x360 with 3 Axes>"
      ]
     },
     "metadata": {
      "needs_background": "light"
     },
     "output_type": "display_data"
    }
   ],
   "source": [
    "classification_eval(best_clf, y_test, y_pred, y_pred_proba)"
   ]
  },
  {
   "cell_type": "code",
   "execution_count": 48,
   "metadata": {},
   "outputs": [
    {
     "data": {
      "text/plain": [
       "{'SEX_2': 0.0,\n",
       " 'EDUCATION_2': 0.0,\n",
       " 'EDUCATION_3': 0.0,\n",
       " 'EDUCATION_4': 0.0,\n",
       " 'MARRIAGE_2': 0.0,\n",
       " 'MARRIAGE_3': 0.0,\n",
       " 'mean_utilization_ratio': 0.0,\n",
       " 'bill_trend': 0.0,\n",
       " 'pay_trend': 0.0,\n",
       " 'mean_payment_ratio': 0.0,\n",
       " '6_month_loss_given_default': 0.0,\n",
       " 'AGE': 0.01,\n",
       " 'LIMIT_BAL': 0.03,\n",
       " 'bill_sum': 0.04,\n",
       " 'payment_sum': 0.11,\n",
       " 'pay_sum': 0.81}"
      ]
     },
     "execution_count": 48,
     "metadata": {},
     "output_type": "execute_result"
    }
   ],
   "source": [
    "feature_importance(best_clf)"
   ]
  },
  {
   "cell_type": "markdown",
   "metadata": {},
   "source": [
    "pay_sum is still the most important one. Its feature important score is much higher than the rest, 0.81."
   ]
  },
  {
   "cell_type": "code",
   "execution_count": 49,
   "metadata": {},
   "outputs": [
    {
     "data": {
      "image/svg+xml": [
       "<?xml version=\"1.0\" encoding=\"UTF-8\" standalone=\"no\"?>\r\n",
       "<!DOCTYPE svg PUBLIC \"-//W3C//DTD SVG 1.1//EN\"\r\n",
       " \"http://www.w3.org/Graphics/SVG/1.1/DTD/svg11.dtd\">\r\n",
       "<!-- Generated by graphviz version 2.38.0 (20140413.2041)\r\n",
       " -->\r\n",
       "<!-- Title: Tree Pages: 1 -->\r\n",
       "<svg width=\"2342pt\" height=\"477pt\"\r\n",
       " viewBox=\"0.00 0.00 2342.00 477.00\" xmlns=\"http://www.w3.org/2000/svg\" xmlns:xlink=\"http://www.w3.org/1999/xlink\">\r\n",
       "<g id=\"graph0\" class=\"graph\" transform=\"scale(1 1) rotate(0) translate(4 473)\">\r\n",
       "<title>Tree</title>\r\n",
       "<polygon fill=\"white\" stroke=\"none\" points=\"-4,4 -4,-473 2338,-473 2338,4 -4,4\"/>\r\n",
       "<!-- 0 -->\r\n",
       "<g id=\"node1\" class=\"node\"><title>0</title>\r\n",
       "<path fill=\"#eca571\" stroke=\"black\" d=\"M1248.5,-469C1248.5,-469 1117.5,-469 1117.5,-469 1111.5,-469 1105.5,-463 1105.5,-457 1105.5,-457 1105.5,-413 1105.5,-413 1105.5,-407 1111.5,-401 1117.5,-401 1117.5,-401 1248.5,-401 1248.5,-401 1254.5,-401 1260.5,-407 1260.5,-413 1260.5,-413 1260.5,-457 1260.5,-457 1260.5,-463 1254.5,-469 1248.5,-469\"/>\r\n",
       "<text text-anchor=\"start\" x=\"1128\" y=\"-453.8\" font-family=\"Helvetica,sans-Serif\" font-size=\"14.00\">pay_sum ≤ 0.278</text>\r\n",
       "<text text-anchor=\"start\" x=\"1133\" y=\"-438.8\" font-family=\"Helvetica,sans-Serif\" font-size=\"14.00\">entropy = 0.761</text>\r\n",
       "<text text-anchor=\"start\" x=\"1127\" y=\"-423.8\" font-family=\"Helvetica,sans-Serif\" font-size=\"14.00\">samples = 22500</text>\r\n",
       "<text text-anchor=\"start\" x=\"1113.5\" y=\"-408.8\" font-family=\"Helvetica,sans-Serif\" font-size=\"14.00\">value = [17539, 4961]</text>\r\n",
       "</g>\r\n",
       "<!-- 1 -->\r\n",
       "<g id=\"node2\" class=\"node\"><title>1</title>\r\n",
       "<path fill=\"#e99559\" stroke=\"black\" d=\"M936,-365C936,-365 798,-365 798,-365 792,-365 786,-359 786,-353 786,-353 786,-309 786,-309 786,-303 792,-297 798,-297 798,-297 936,-297 936,-297 942,-297 948,-303 948,-309 948,-309 948,-353 948,-353 948,-359 942,-365 936,-365\"/>\r\n",
       "<text text-anchor=\"start\" x=\"794\" y=\"-349.8\" font-family=\"Helvetica,sans-Serif\" font-size=\"14.00\">payment_sum ≤ &#45;0.398</text>\r\n",
       "<text text-anchor=\"start\" x=\"817\" y=\"-334.8\" font-family=\"Helvetica,sans-Serif\" font-size=\"14.00\">entropy = 0.578</text>\r\n",
       "<text text-anchor=\"start\" x=\"811\" y=\"-319.8\" font-family=\"Helvetica,sans-Serif\" font-size=\"14.00\">samples = 17223</text>\r\n",
       "<text text-anchor=\"start\" x=\"797.5\" y=\"-304.8\" font-family=\"Helvetica,sans-Serif\" font-size=\"14.00\">value = [14855, 2368]</text>\r\n",
       "</g>\r\n",
       "<!-- 0&#45;&gt;1 -->\r\n",
       "<g id=\"edge1\" class=\"edge\"><title>0&#45;&gt;1</title>\r\n",
       "<path fill=\"none\" stroke=\"black\" d=\"M1105.29,-408.917C1060.76,-394.544 1004.65,-376.43 958.058,-361.392\"/>\r\n",
       "<polygon fill=\"black\" stroke=\"black\" points=\"958.86,-357.973 948.268,-358.232 956.709,-364.635 958.86,-357.973\"/>\r\n",
       "<text text-anchor=\"middle\" x=\"959.661\" y=\"-376.785\" font-family=\"Helvetica,sans-Serif\" font-size=\"14.00\">True</text>\r\n",
       "</g>\r\n",
       "<!-- 16 -->\r\n",
       "<g id=\"node17\" class=\"node\"><title>16</title>\r\n",
       "<path fill=\"#fefbf8\" stroke=\"black\" d=\"M1542,-365C1542,-365 1420,-365 1420,-365 1414,-365 1408,-359 1408,-353 1408,-353 1408,-309 1408,-309 1408,-303 1414,-297 1420,-297 1420,-297 1542,-297 1542,-297 1548,-297 1554,-303 1554,-309 1554,-309 1554,-353 1554,-353 1554,-359 1548,-365 1542,-365\"/>\r\n",
       "<text text-anchor=\"start\" x=\"1426\" y=\"-349.8\" font-family=\"Helvetica,sans-Serif\" font-size=\"14.00\">pay_sum ≤ 1.131</text>\r\n",
       "<text text-anchor=\"start\" x=\"1439\" y=\"-334.8\" font-family=\"Helvetica,sans-Serif\" font-size=\"14.00\">entropy = 1.0</text>\r\n",
       "<text text-anchor=\"start\" x=\"1429.5\" y=\"-319.8\" font-family=\"Helvetica,sans-Serif\" font-size=\"14.00\">samples = 5277</text>\r\n",
       "<text text-anchor=\"start\" x=\"1416\" y=\"-304.8\" font-family=\"Helvetica,sans-Serif\" font-size=\"14.00\">value = [2684, 2593]</text>\r\n",
       "</g>\r\n",
       "<!-- 0&#45;&gt;16 -->\r\n",
       "<g id=\"edge16\" class=\"edge\"><title>0&#45;&gt;16</title>\r\n",
       "<path fill=\"none\" stroke=\"black\" d=\"M1260.52,-407.467C1302.84,-392.979 1355.26,-375.04 1398.36,-360.287\"/>\r\n",
       "<polygon fill=\"black\" stroke=\"black\" points=\"1399.64,-363.547 1407.97,-356.997 1397.38,-356.924 1399.64,-363.547\"/>\r\n",
       "<text text-anchor=\"middle\" x=\"1396.97\" y=\"-375.747\" font-family=\"Helvetica,sans-Serif\" font-size=\"14.00\">False</text>\r\n",
       "</g>\r\n",
       "<!-- 2 -->\r\n",
       "<g id=\"node3\" class=\"node\"><title>2</title>\r\n",
       "<path fill=\"#eda876\" stroke=\"black\" d=\"M486,-261C486,-261 372,-261 372,-261 366,-261 360,-255 360,-249 360,-249 360,-205 360,-205 360,-199 366,-193 372,-193 372,-193 486,-193 486,-193 492,-193 498,-199 498,-205 498,-205 498,-249 498,-249 498,-255 492,-261 486,-261\"/>\r\n",
       "<text text-anchor=\"start\" x=\"374.5\" y=\"-245.8\" font-family=\"Helvetica,sans-Serif\" font-size=\"14.00\">bill_sum ≤ &#45;0.713</text>\r\n",
       "<text text-anchor=\"start\" x=\"379\" y=\"-230.8\" font-family=\"Helvetica,sans-Serif\" font-size=\"14.00\">entropy = 0.788</text>\r\n",
       "<text text-anchor=\"start\" x=\"377.5\" y=\"-215.8\" font-family=\"Helvetica,sans-Serif\" font-size=\"14.00\">samples = 4176</text>\r\n",
       "<text text-anchor=\"start\" x=\"368\" y=\"-200.8\" font-family=\"Helvetica,sans-Serif\" font-size=\"14.00\">value = [3191, 985]</text>\r\n",
       "</g>\r\n",
       "<!-- 1&#45;&gt;2 -->\r\n",
       "<g id=\"edge2\" class=\"edge\"><title>1&#45;&gt;2</title>\r\n",
       "<path fill=\"none\" stroke=\"black\" d=\"M785.898,-311.113C706.572,-292.64 586.552,-264.69 507.966,-246.389\"/>\r\n",
       "<polygon fill=\"black\" stroke=\"black\" points=\"508.65,-242.955 498.117,-244.096 507.063,-249.773 508.65,-242.955\"/>\r\n",
       "</g>\r\n",
       "<!-- 9 -->\r\n",
       "<g id=\"node10\" class=\"node\"><title>9</title>\r\n",
       "<path fill=\"#e89050\" stroke=\"black\" d=\"M932.5,-261C932.5,-261 801.5,-261 801.5,-261 795.5,-261 789.5,-255 789.5,-249 789.5,-249 789.5,-205 789.5,-205 789.5,-199 795.5,-193 801.5,-193 801.5,-193 932.5,-193 932.5,-193 938.5,-193 944.5,-199 944.5,-205 944.5,-205 944.5,-249 944.5,-249 944.5,-255 938.5,-261 932.5,-261\"/>\r\n",
       "<text text-anchor=\"start\" x=\"802\" y=\"-245.8\" font-family=\"Helvetica,sans-Serif\" font-size=\"14.00\">LIMIT_BAL ≤ &#45;0.789</text>\r\n",
       "<text text-anchor=\"start\" x=\"817\" y=\"-230.8\" font-family=\"Helvetica,sans-Serif\" font-size=\"14.00\">entropy = 0.488</text>\r\n",
       "<text text-anchor=\"start\" x=\"811\" y=\"-215.8\" font-family=\"Helvetica,sans-Serif\" font-size=\"14.00\">samples = 13047</text>\r\n",
       "<text text-anchor=\"start\" x=\"797.5\" y=\"-200.8\" font-family=\"Helvetica,sans-Serif\" font-size=\"14.00\">value = [11664, 1383]</text>\r\n",
       "</g>\r\n",
       "<!-- 1&#45;&gt;9 -->\r\n",
       "<g id=\"edge9\" class=\"edge\"><title>1&#45;&gt;9</title>\r\n",
       "<path fill=\"none\" stroke=\"black\" d=\"M867,-296.884C867,-288.778 867,-279.982 867,-271.472\"/>\r\n",
       "<polygon fill=\"black\" stroke=\"black\" points=\"870.5,-271.299 867,-261.299 863.5,-271.299 870.5,-271.299\"/>\r\n",
       "</g>\r\n",
       "<!-- 3 -->\r\n",
       "<g id=\"node4\" class=\"node\"><title>3</title>\r\n",
       "<path fill=\"#f4c9ab\" stroke=\"black\" d=\"M259,-157C259,-157 153,-157 153,-157 147,-157 141,-151 141,-145 141,-145 141,-101 141,-101 141,-95 147,-89 153,-89 153,-89 259,-89 259,-89 265,-89 271,-95 271,-101 271,-101 271,-145 271,-145 271,-151 265,-157 259,-157\"/>\r\n",
       "<text text-anchor=\"start\" x=\"164.5\" y=\"-141.8\" font-family=\"Helvetica,sans-Serif\" font-size=\"14.00\">AGE ≤ 2.295</text>\r\n",
       "<text text-anchor=\"start\" x=\"156\" y=\"-126.8\" font-family=\"Helvetica,sans-Serif\" font-size=\"14.00\">entropy = 0.947</text>\r\n",
       "<text text-anchor=\"start\" x=\"158.5\" y=\"-111.8\" font-family=\"Helvetica,sans-Serif\" font-size=\"14.00\">samples = 762</text>\r\n",
       "<text text-anchor=\"start\" x=\"149\" y=\"-96.8\" font-family=\"Helvetica,sans-Serif\" font-size=\"14.00\">value = [484, 278]</text>\r\n",
       "</g>\r\n",
       "<!-- 2&#45;&gt;3 -->\r\n",
       "<g id=\"edge3\" class=\"edge\"><title>2&#45;&gt;3</title>\r\n",
       "<path fill=\"none\" stroke=\"black\" d=\"M359.969,-194.425C334.791,-182.909 306.217,-169.839 280.579,-158.112\"/>\r\n",
       "<polygon fill=\"black\" stroke=\"black\" points=\"281.828,-154.835 271.278,-153.858 278.916,-161.201 281.828,-154.835\"/>\r\n",
       "</g>\r\n",
       "<!-- 6 -->\r\n",
       "<g id=\"node7\" class=\"node\"><title>6</title>\r\n",
       "<path fill=\"#eca26d\" stroke=\"black\" d=\"M486,-157C486,-157 372,-157 372,-157 366,-157 360,-151 360,-145 360,-145 360,-101 360,-101 360,-95 366,-89 372,-89 372,-89 486,-89 486,-89 492,-89 498,-95 498,-101 498,-101 498,-145 498,-145 498,-151 492,-157 486,-157\"/>\r\n",
       "<text text-anchor=\"start\" x=\"371.5\" y=\"-141.8\" font-family=\"Helvetica,sans-Serif\" font-size=\"14.00\">pay_sum ≤ &#45;0.917</text>\r\n",
       "<text text-anchor=\"start\" x=\"379\" y=\"-126.8\" font-family=\"Helvetica,sans-Serif\" font-size=\"14.00\">entropy = 0.736</text>\r\n",
       "<text text-anchor=\"start\" x=\"377.5\" y=\"-111.8\" font-family=\"Helvetica,sans-Serif\" font-size=\"14.00\">samples = 3414</text>\r\n",
       "<text text-anchor=\"start\" x=\"368\" y=\"-96.8\" font-family=\"Helvetica,sans-Serif\" font-size=\"14.00\">value = [2707, 707]</text>\r\n",
       "</g>\r\n",
       "<!-- 2&#45;&gt;6 -->\r\n",
       "<g id=\"edge6\" class=\"edge\"><title>2&#45;&gt;6</title>\r\n",
       "<path fill=\"none\" stroke=\"black\" d=\"M429,-192.884C429,-184.778 429,-175.982 429,-167.472\"/>\r\n",
       "<polygon fill=\"black\" stroke=\"black\" points=\"432.5,-167.299 429,-157.299 425.5,-167.299 432.5,-167.299\"/>\r\n",
       "</g>\r\n",
       "<!-- 4 -->\r\n",
       "<g id=\"node5\" class=\"node\"><title>4</title>\r\n",
       "<path fill=\"#f3c4a3\" stroke=\"black\" d=\"M118,-53C118,-53 12,-53 12,-53 6,-53 0,-47 0,-41 0,-41 0,-12 0,-12 0,-6 6,-0 12,-0 12,-0 118,-0 118,-0 124,-0 130,-6 130,-12 130,-12 130,-41 130,-41 130,-47 124,-53 118,-53\"/>\r\n",
       "<text text-anchor=\"start\" x=\"15\" y=\"-37.8\" font-family=\"Helvetica,sans-Serif\" font-size=\"14.00\">entropy = 0.933</text>\r\n",
       "<text text-anchor=\"start\" x=\"17.5\" y=\"-22.8\" font-family=\"Helvetica,sans-Serif\" font-size=\"14.00\">samples = 732</text>\r\n",
       "<text text-anchor=\"start\" x=\"8\" y=\"-7.8\" font-family=\"Helvetica,sans-Serif\" font-size=\"14.00\">value = [477, 255]</text>\r\n",
       "</g>\r\n",
       "<!-- 3&#45;&gt;4 -->\r\n",
       "<g id=\"edge4\" class=\"edge\"><title>3&#45;&gt;4</title>\r\n",
       "<path fill=\"none\" stroke=\"black\" d=\"M156.685,-88.9485C142.217,-79.2516 126.436,-68.6752 112.109,-59.073\"/>\r\n",
       "<polygon fill=\"black\" stroke=\"black\" points=\"113.656,-55.8967 103.401,-53.2367 109.759,-61.7115 113.656,-55.8967\"/>\r\n",
       "</g>\r\n",
       "<!-- 5 -->\r\n",
       "<g id=\"node6\" class=\"node\"><title>5</title>\r\n",
       "<path fill=\"#75bbed\" stroke=\"black\" d=\"M252,-53C252,-53 160,-53 160,-53 154,-53 148,-47 148,-41 148,-41 148,-12 148,-12 148,-6 154,-0 160,-0 160,-0 252,-0 252,-0 258,-0 264,-6 264,-12 264,-12 264,-41 264,-41 264,-47 258,-53 252,-53\"/>\r\n",
       "<text text-anchor=\"start\" x=\"156\" y=\"-37.8\" font-family=\"Helvetica,sans-Serif\" font-size=\"14.00\">entropy = 0.784</text>\r\n",
       "<text text-anchor=\"start\" x=\"162.5\" y=\"-22.8\" font-family=\"Helvetica,sans-Serif\" font-size=\"14.00\">samples = 30</text>\r\n",
       "<text text-anchor=\"start\" x=\"161.5\" y=\"-7.8\" font-family=\"Helvetica,sans-Serif\" font-size=\"14.00\">value = [7, 23]</text>\r\n",
       "</g>\r\n",
       "<!-- 3&#45;&gt;5 -->\r\n",
       "<g id=\"edge5\" class=\"edge\"><title>3&#45;&gt;5</title>\r\n",
       "<path fill=\"none\" stroke=\"black\" d=\"M206,-88.9485C206,-80.7153 206,-71.848 206,-63.4814\"/>\r\n",
       "<polygon fill=\"black\" stroke=\"black\" points=\"209.5,-63.2367 206,-53.2367 202.5,-63.2367 209.5,-63.2367\"/>\r\n",
       "</g>\r\n",
       "<!-- 7 -->\r\n",
       "<g id=\"node8\" class=\"node\"><title>7</title>\r\n",
       "<path fill=\"#e9975b\" stroke=\"black\" d=\"M400,-53C400,-53 294,-53 294,-53 288,-53 282,-47 282,-41 282,-41 282,-12 282,-12 282,-6 288,-0 294,-0 294,-0 400,-0 400,-0 406,-0 412,-6 412,-12 412,-12 412,-41 412,-41 412,-47 406,-53 400,-53\"/>\r\n",
       "<text text-anchor=\"start\" x=\"297\" y=\"-37.8\" font-family=\"Helvetica,sans-Serif\" font-size=\"14.00\">entropy = 0.603</text>\r\n",
       "<text text-anchor=\"start\" x=\"295.5\" y=\"-22.8\" font-family=\"Helvetica,sans-Serif\" font-size=\"14.00\">samples = 1134</text>\r\n",
       "<text text-anchor=\"start\" x=\"290\" y=\"-7.8\" font-family=\"Helvetica,sans-Serif\" font-size=\"14.00\">value = [967, 167]</text>\r\n",
       "</g>\r\n",
       "<!-- 6&#45;&gt;7 -->\r\n",
       "<g id=\"edge7\" class=\"edge\"><title>6&#45;&gt;7</title>\r\n",
       "<path fill=\"none\" stroke=\"black\" d=\"M400.32,-88.9485C392.462,-79.892 383.938,-70.0682 376.058,-60.9875\"/>\r\n",
       "<polygon fill=\"black\" stroke=\"black\" points=\"378.53,-58.4958 369.332,-53.2367 373.243,-63.0835 378.53,-58.4958\"/>\r\n",
       "</g>\r\n",
       "<!-- 8 -->\r\n",
       "<g id=\"node9\" class=\"node\"><title>8</title>\r\n",
       "<path fill=\"#eda876\" stroke=\"black\" d=\"M556,-53C556,-53 442,-53 442,-53 436,-53 430,-47 430,-41 430,-41 430,-12 430,-12 430,-6 436,-0 442,-0 442,-0 556,-0 556,-0 562,-0 568,-6 568,-12 568,-12 568,-41 568,-41 568,-47 562,-53 556,-53\"/>\r\n",
       "<text text-anchor=\"start\" x=\"453\" y=\"-37.8\" font-family=\"Helvetica,sans-Serif\" font-size=\"14.00\">entropy = 0.79</text>\r\n",
       "<text text-anchor=\"start\" x=\"447.5\" y=\"-22.8\" font-family=\"Helvetica,sans-Serif\" font-size=\"14.00\">samples = 2280</text>\r\n",
       "<text text-anchor=\"start\" x=\"438\" y=\"-7.8\" font-family=\"Helvetica,sans-Serif\" font-size=\"14.00\">value = [1740, 540]</text>\r\n",
       "</g>\r\n",
       "<!-- 6&#45;&gt;8 -->\r\n",
       "<g id=\"edge8\" class=\"edge\"><title>6&#45;&gt;8</title>\r\n",
       "<path fill=\"none\" stroke=\"black\" d=\"M453.483,-88.9485C460.056,-80.0749 467.174,-70.4648 473.786,-61.5388\"/>\r\n",
       "<polygon fill=\"black\" stroke=\"black\" points=\"476.796,-63.3556 479.936,-53.2367 471.171,-59.189 476.796,-63.3556\"/>\r\n",
       "</g>\r\n",
       "<!-- 10 -->\r\n",
       "<g id=\"node11\" class=\"node\"><title>10</title>\r\n",
       "<path fill=\"#ea995f\" stroke=\"black\" d=\"M875,-157C875,-157 643,-157 643,-157 637,-157 631,-151 631,-145 631,-145 631,-101 631,-101 631,-95 637,-89 643,-89 643,-89 875,-89 875,-89 881,-89 887,-95 887,-101 887,-101 887,-145 887,-145 887,-151 881,-157 875,-157\"/>\r\n",
       "<text text-anchor=\"start\" x=\"639\" y=\"-141.8\" font-family=\"Helvetica,sans-Serif\" font-size=\"14.00\">6_month_loss_given_default ≤ &#45;0.671</text>\r\n",
       "<text text-anchor=\"start\" x=\"709\" y=\"-126.8\" font-family=\"Helvetica,sans-Serif\" font-size=\"14.00\">entropy = 0.634</text>\r\n",
       "<text text-anchor=\"start\" x=\"707.5\" y=\"-111.8\" font-family=\"Helvetica,sans-Serif\" font-size=\"14.00\">samples = 2524</text>\r\n",
       "<text text-anchor=\"start\" x=\"698\" y=\"-96.8\" font-family=\"Helvetica,sans-Serif\" font-size=\"14.00\">value = [2121, 403]</text>\r\n",
       "</g>\r\n",
       "<!-- 9&#45;&gt;10 -->\r\n",
       "<g id=\"edge10\" class=\"edge\"><title>9&#45;&gt;10</title>\r\n",
       "<path fill=\"none\" stroke=\"black\" d=\"M831.935,-192.884C822.316,-183.798 811.778,-173.845 801.777,-164.4\"/>\r\n",
       "<polygon fill=\"black\" stroke=\"black\" points=\"803.931,-161.621 794.258,-157.299 799.125,-166.71 803.931,-161.621\"/>\r\n",
       "</g>\r\n",
       "<!-- 13 -->\r\n",
       "<g id=\"node14\" class=\"node\"><title>13</title>\r\n",
       "<path fill=\"#e88e4d\" stroke=\"black\" d=\"M1031,-157C1031,-157 917,-157 917,-157 911,-157 905,-151 905,-145 905,-145 905,-101 905,-101 905,-95 911,-89 917,-89 917,-89 1031,-89 1031,-89 1037,-89 1043,-95 1043,-101 1043,-101 1043,-145 1043,-145 1043,-151 1037,-157 1031,-157\"/>\r\n",
       "<text text-anchor=\"start\" x=\"919.5\" y=\"-141.8\" font-family=\"Helvetica,sans-Serif\" font-size=\"14.00\">bill_sum ≤ &#45;0.578</text>\r\n",
       "<text text-anchor=\"start\" x=\"924\" y=\"-126.8\" font-family=\"Helvetica,sans-Serif\" font-size=\"14.00\">entropy = 0.447</text>\r\n",
       "<text text-anchor=\"start\" x=\"918\" y=\"-111.8\" font-family=\"Helvetica,sans-Serif\" font-size=\"14.00\">samples = 10523</text>\r\n",
       "<text text-anchor=\"start\" x=\"913\" y=\"-96.8\" font-family=\"Helvetica,sans-Serif\" font-size=\"14.00\">value = [9543, 980]</text>\r\n",
       "</g>\r\n",
       "<!-- 9&#45;&gt;13 -->\r\n",
       "<g id=\"edge13\" class=\"edge\"><title>9&#45;&gt;13</title>\r\n",
       "<path fill=\"none\" stroke=\"black\" d=\"M901.74,-192.884C911.271,-183.798 921.711,-173.845 931.619,-164.4\"/>\r\n",
       "<polygon fill=\"black\" stroke=\"black\" points=\"934.245,-166.733 939.068,-157.299 929.415,-161.666 934.245,-166.733\"/>\r\n",
       "</g>\r\n",
       "<!-- 11 -->\r\n",
       "<g id=\"node12\" class=\"node\"><title>11</title>\r\n",
       "<path fill=\"#f1bc95\" stroke=\"black\" d=\"M690,-53C690,-53 598,-53 598,-53 592,-53 586,-47 586,-41 586,-41 586,-12 586,-12 586,-6 592,-0 598,-0 598,-0 690,-0 690,-0 696,-0 702,-6 702,-12 702,-12 702,-41 702,-41 702,-47 696,-53 690,-53\"/>\r\n",
       "<text text-anchor=\"start\" x=\"594\" y=\"-37.8\" font-family=\"Helvetica,sans-Serif\" font-size=\"14.00\">entropy = 0.902</text>\r\n",
       "<text text-anchor=\"start\" x=\"600.5\" y=\"-22.8\" font-family=\"Helvetica,sans-Serif\" font-size=\"14.00\">samples = 63</text>\r\n",
       "<text text-anchor=\"start\" x=\"595.5\" y=\"-7.8\" font-family=\"Helvetica,sans-Serif\" font-size=\"14.00\">value = [43, 20]</text>\r\n",
       "</g>\r\n",
       "<!-- 10&#45;&gt;11 -->\r\n",
       "<g id=\"edge11\" class=\"edge\"><title>10&#45;&gt;11</title>\r\n",
       "<path fill=\"none\" stroke=\"black\" d=\"M718.779,-88.9485C707.201,-79.4346 694.593,-69.074 683.085,-59.6175\"/>\r\n",
       "<polygon fill=\"black\" stroke=\"black\" points=\"685.268,-56.8814 675.32,-53.2367 680.824,-62.2897 685.268,-56.8814\"/>\r\n",
       "</g>\r\n",
       "<!-- 12 -->\r\n",
       "<g id=\"node13\" class=\"node\"><title>12</title>\r\n",
       "<path fill=\"#ea985d\" stroke=\"black\" d=\"M846,-53C846,-53 732,-53 732,-53 726,-53 720,-47 720,-41 720,-41 720,-12 720,-12 720,-6 726,-0 732,-0 732,-0 846,-0 846,-0 852,-0 858,-6 858,-12 858,-12 858,-41 858,-41 858,-47 852,-53 846,-53\"/>\r\n",
       "<text text-anchor=\"start\" x=\"739\" y=\"-37.8\" font-family=\"Helvetica,sans-Serif\" font-size=\"14.00\">entropy = 0.624</text>\r\n",
       "<text text-anchor=\"start\" x=\"737.5\" y=\"-22.8\" font-family=\"Helvetica,sans-Serif\" font-size=\"14.00\">samples = 2461</text>\r\n",
       "<text text-anchor=\"start\" x=\"728\" y=\"-7.8\" font-family=\"Helvetica,sans-Serif\" font-size=\"14.00\">value = [2078, 383]</text>\r\n",
       "</g>\r\n",
       "<!-- 10&#45;&gt;12 -->\r\n",
       "<g id=\"edge12\" class=\"edge\"><title>10&#45;&gt;12</title>\r\n",
       "<path fill=\"none\" stroke=\"black\" d=\"M769.493,-88.9485C772.164,-80.5323 775.046,-71.4536 777.754,-62.9243\"/>\r\n",
       "<polygon fill=\"black\" stroke=\"black\" points=\"781.14,-63.827 780.83,-53.2367 774.468,-61.7089 781.14,-63.827\"/>\r\n",
       "</g>\r\n",
       "<!-- 14 -->\r\n",
       "<g id=\"node15\" class=\"node\"><title>14</title>\r\n",
       "<path fill=\"#e99458\" stroke=\"black\" d=\"M1002,-53C1002,-53 888,-53 888,-53 882,-53 876,-47 876,-41 876,-41 876,-12 876,-12 876,-6 882,-0 888,-0 888,-0 1002,-0 1002,-0 1008,-0 1014,-6 1014,-12 1014,-12 1014,-41 1014,-41 1014,-47 1008,-53 1002,-53\"/>\r\n",
       "<text text-anchor=\"start\" x=\"895\" y=\"-37.8\" font-family=\"Helvetica,sans-Serif\" font-size=\"14.00\">entropy = 0.568</text>\r\n",
       "<text text-anchor=\"start\" x=\"893.5\" y=\"-22.8\" font-family=\"Helvetica,sans-Serif\" font-size=\"14.00\">samples = 2750</text>\r\n",
       "<text text-anchor=\"start\" x=\"884\" y=\"-7.8\" font-family=\"Helvetica,sans-Serif\" font-size=\"14.00\">value = [2382, 368]</text>\r\n",
       "</g>\r\n",
       "<!-- 13&#45;&gt;14 -->\r\n",
       "<g id=\"edge14\" class=\"edge\"><title>13&#45;&gt;14</title>\r\n",
       "<path fill=\"none\" stroke=\"black\" d=\"M963.857,-88.9485C961.274,-80.5323 958.488,-71.4536 955.871,-62.9243\"/>\r\n",
       "<polygon fill=\"black\" stroke=\"black\" points=\"959.178,-61.7698 952.898,-53.2367 952.486,-63.8235 959.178,-61.7698\"/>\r\n",
       "</g>\r\n",
       "<!-- 15 -->\r\n",
       "<g id=\"node16\" class=\"node\"><title>15</title>\r\n",
       "<path fill=\"#e78c4a\" stroke=\"black\" d=\"M1158,-53C1158,-53 1044,-53 1044,-53 1038,-53 1032,-47 1032,-41 1032,-41 1032,-12 1032,-12 1032,-6 1038,-0 1044,-0 1044,-0 1158,-0 1158,-0 1164,-0 1170,-6 1170,-12 1170,-12 1170,-41 1170,-41 1170,-47 1164,-53 1158,-53\"/>\r\n",
       "<text text-anchor=\"start\" x=\"1051\" y=\"-37.8\" font-family=\"Helvetica,sans-Serif\" font-size=\"14.00\">entropy = 0.398</text>\r\n",
       "<text text-anchor=\"start\" x=\"1049.5\" y=\"-22.8\" font-family=\"Helvetica,sans-Serif\" font-size=\"14.00\">samples = 7773</text>\r\n",
       "<text text-anchor=\"start\" x=\"1040\" y=\"-7.8\" font-family=\"Helvetica,sans-Serif\" font-size=\"14.00\">value = [7161, 612]</text>\r\n",
       "</g>\r\n",
       "<!-- 13&#45;&gt;15 -->\r\n",
       "<g id=\"edge15\" class=\"edge\"><title>13&#45;&gt;15</title>\r\n",
       "<path fill=\"none\" stroke=\"black\" d=\"M1018.42,-88.9485C1031.33,-79.3431 1045.4,-68.8747 1058.2,-59.345\"/>\r\n",
       "<polygon fill=\"black\" stroke=\"black\" points=\"1060.48,-62.0143 1066.41,-53.2367 1056.3,-56.3984 1060.48,-62.0143\"/>\r\n",
       "</g>\r\n",
       "<!-- 17 -->\r\n",
       "<g id=\"node18\" class=\"node\"><title>17</title>\r\n",
       "<path fill=\"#f4ccae\" stroke=\"black\" d=\"M1542,-261C1542,-261 1420,-261 1420,-261 1414,-261 1408,-255 1408,-249 1408,-249 1408,-205 1408,-205 1408,-199 1414,-193 1420,-193 1420,-193 1542,-193 1542,-193 1548,-193 1554,-199 1554,-205 1554,-205 1554,-249 1554,-249 1554,-255 1548,-261 1542,-261\"/>\r\n",
       "<text text-anchor=\"start\" x=\"1430\" y=\"-245.8\" font-family=\"Helvetica,sans-Serif\" font-size=\"14.00\">pay_sum ≤ 0.79</text>\r\n",
       "<text text-anchor=\"start\" x=\"1431\" y=\"-230.8\" font-family=\"Helvetica,sans-Serif\" font-size=\"14.00\">entropy = 0.952</text>\r\n",
       "<text text-anchor=\"start\" x=\"1429.5\" y=\"-215.8\" font-family=\"Helvetica,sans-Serif\" font-size=\"14.00\">samples = 2924</text>\r\n",
       "<text text-anchor=\"start\" x=\"1416\" y=\"-200.8\" font-family=\"Helvetica,sans-Serif\" font-size=\"14.00\">value = [1837, 1087]</text>\r\n",
       "</g>\r\n",
       "<!-- 16&#45;&gt;17 -->\r\n",
       "<g id=\"edge17\" class=\"edge\"><title>16&#45;&gt;17</title>\r\n",
       "<path fill=\"none\" stroke=\"black\" d=\"M1481,-296.884C1481,-288.778 1481,-279.982 1481,-271.472\"/>\r\n",
       "<polygon fill=\"black\" stroke=\"black\" points=\"1484.5,-271.299 1481,-261.299 1477.5,-271.299 1484.5,-271.299\"/>\r\n",
       "</g>\r\n",
       "<!-- 24 -->\r\n",
       "<g id=\"node25\" class=\"node\"><title>24</title>\r\n",
       "<path fill=\"#a8d4f4\" stroke=\"black\" d=\"M1952,-261C1952,-261 1838,-261 1838,-261 1832,-261 1826,-255 1826,-249 1826,-249 1826,-205 1826,-205 1826,-199 1832,-193 1838,-193 1838,-193 1952,-193 1952,-193 1958,-193 1964,-199 1964,-205 1964,-205 1964,-249 1964,-249 1964,-255 1958,-261 1952,-261\"/>\r\n",
       "<text text-anchor=\"start\" x=\"1840\" y=\"-245.8\" font-family=\"Helvetica,sans-Serif\" font-size=\"14.00\">pay_sum ≤ 2.155</text>\r\n",
       "<text text-anchor=\"start\" x=\"1845\" y=\"-230.8\" font-family=\"Helvetica,sans-Serif\" font-size=\"14.00\">entropy = 0.943</text>\r\n",
       "<text text-anchor=\"start\" x=\"1843.5\" y=\"-215.8\" font-family=\"Helvetica,sans-Serif\" font-size=\"14.00\">samples = 2353</text>\r\n",
       "<text text-anchor=\"start\" x=\"1834\" y=\"-200.8\" font-family=\"Helvetica,sans-Serif\" font-size=\"14.00\">value = [847, 1506]</text>\r\n",
       "</g>\r\n",
       "<!-- 16&#45;&gt;24 -->\r\n",
       "<g id=\"edge24\" class=\"edge\"><title>16&#45;&gt;24</title>\r\n",
       "<path fill=\"none\" stroke=\"black\" d=\"M1554.06,-311.999C1627.48,-293.91 1740.31,-266.113 1815.83,-247.506\"/>\r\n",
       "<polygon fill=\"black\" stroke=\"black\" points=\"1816.89,-250.848 1825.77,-245.057 1815.22,-244.051 1816.89,-250.848\"/>\r\n",
       "</g>\r\n",
       "<!-- 18 -->\r\n",
       "<g id=\"node19\" class=\"node\"><title>18</title>\r\n",
       "<path fill=\"#f2c19e\" stroke=\"black\" d=\"M1464,-157C1464,-157 1326,-157 1326,-157 1320,-157 1314,-151 1314,-145 1314,-145 1314,-101 1314,-101 1314,-95 1320,-89 1326,-89 1326,-89 1464,-89 1464,-89 1470,-89 1476,-95 1476,-101 1476,-101 1476,-145 1476,-145 1476,-151 1470,-157 1464,-157\"/>\r\n",
       "<text text-anchor=\"start\" x=\"1322\" y=\"-141.8\" font-family=\"Helvetica,sans-Serif\" font-size=\"14.00\">payment_sum ≤ &#45;0.379</text>\r\n",
       "<text text-anchor=\"start\" x=\"1345\" y=\"-126.8\" font-family=\"Helvetica,sans-Serif\" font-size=\"14.00\">entropy = 0.923</text>\r\n",
       "<text text-anchor=\"start\" x=\"1343.5\" y=\"-111.8\" font-family=\"Helvetica,sans-Serif\" font-size=\"14.00\">samples = 2088</text>\r\n",
       "<text text-anchor=\"start\" x=\"1334\" y=\"-96.8\" font-family=\"Helvetica,sans-Serif\" font-size=\"14.00\">value = [1382, 706]</text>\r\n",
       "</g>\r\n",
       "<!-- 17&#45;&gt;18 -->\r\n",
       "<g id=\"edge18\" class=\"edge\"><title>17&#45;&gt;18</title>\r\n",
       "<path fill=\"none\" stroke=\"black\" d=\"M1453.08,-192.884C1445.57,-183.976 1437.36,-174.235 1429.53,-164.957\"/>\r\n",
       "<polygon fill=\"black\" stroke=\"black\" points=\"1432.2,-162.689 1423.08,-157.299 1426.85,-167.201 1432.2,-162.689\"/>\r\n",
       "</g>\r\n",
       "<!-- 21 -->\r\n",
       "<g id=\"node22\" class=\"node\"><title>21</title>\r\n",
       "<path fill=\"#fbebdf\" stroke=\"black\" d=\"M1628,-157C1628,-157 1506,-157 1506,-157 1500,-157 1494,-151 1494,-145 1494,-145 1494,-101 1494,-101 1494,-95 1500,-89 1506,-89 1506,-89 1628,-89 1628,-89 1634,-89 1640,-95 1640,-101 1640,-101 1640,-145 1640,-145 1640,-151 1634,-157 1628,-157\"/>\r\n",
       "<text text-anchor=\"start\" x=\"1502\" y=\"-141.8\" font-family=\"Helvetica,sans-Serif\" font-size=\"14.00\">LIMIT_BAL ≤ &#45;0.018</text>\r\n",
       "<text text-anchor=\"start\" x=\"1517\" y=\"-126.8\" font-family=\"Helvetica,sans-Serif\" font-size=\"14.00\">entropy = 0.994</text>\r\n",
       "<text text-anchor=\"start\" x=\"1519.5\" y=\"-111.8\" font-family=\"Helvetica,sans-Serif\" font-size=\"14.00\">samples = 836</text>\r\n",
       "<text text-anchor=\"start\" x=\"1510\" y=\"-96.8\" font-family=\"Helvetica,sans-Serif\" font-size=\"14.00\">value = [455, 381]</text>\r\n",
       "</g>\r\n",
       "<!-- 17&#45;&gt;21 -->\r\n",
       "<g id=\"edge21\" class=\"edge\"><title>17&#45;&gt;21</title>\r\n",
       "<path fill=\"none\" stroke=\"black\" d=\"M1508.92,-192.884C1516.43,-183.976 1524.64,-174.235 1532.47,-164.957\"/>\r\n",
       "<polygon fill=\"black\" stroke=\"black\" points=\"1535.15,-167.201 1538.92,-157.299 1529.8,-162.689 1535.15,-167.201\"/>\r\n",
       "</g>\r\n",
       "<!-- 19 -->\r\n",
       "<g id=\"node20\" class=\"node\"><title>19</title>\r\n",
       "<path fill=\"#f6d6be\" stroke=\"black\" d=\"M1306,-53C1306,-53 1200,-53 1200,-53 1194,-53 1188,-47 1188,-41 1188,-41 1188,-12 1188,-12 1188,-6 1194,-0 1200,-0 1200,-0 1306,-0 1306,-0 1312,-0 1318,-6 1318,-12 1318,-12 1318,-41 1318,-41 1318,-47 1312,-53 1306,-53\"/>\r\n",
       "<text text-anchor=\"start\" x=\"1203\" y=\"-37.8\" font-family=\"Helvetica,sans-Serif\" font-size=\"14.00\">entropy = 0.972</text>\r\n",
       "<text text-anchor=\"start\" x=\"1205.5\" y=\"-22.8\" font-family=\"Helvetica,sans-Serif\" font-size=\"14.00\">samples = 590</text>\r\n",
       "<text text-anchor=\"start\" x=\"1196\" y=\"-7.8\" font-family=\"Helvetica,sans-Serif\" font-size=\"14.00\">value = [353, 237]</text>\r\n",
       "</g>\r\n",
       "<!-- 18&#45;&gt;19 -->\r\n",
       "<g id=\"edge19\" class=\"edge\"><title>18&#45;&gt;19</title>\r\n",
       "<path fill=\"none\" stroke=\"black\" d=\"M1345.34,-88.9485C1330.63,-79.1601 1314.57,-68.4756 1300.04,-58.8015\"/>\r\n",
       "<polygon fill=\"black\" stroke=\"black\" points=\"1301.94,-55.8632 1291.67,-53.2367 1298.06,-61.6907 1301.94,-55.8632\"/>\r\n",
       "</g>\r\n",
       "<!-- 20 -->\r\n",
       "<g id=\"node21\" class=\"node\"><title>20</title>\r\n",
       "<path fill=\"#f1ba93\" stroke=\"black\" d=\"M1462,-53C1462,-53 1348,-53 1348,-53 1342,-53 1336,-47 1336,-41 1336,-41 1336,-12 1336,-12 1336,-6 1342,-0 1348,-0 1348,-0 1462,-0 1462,-0 1468,-0 1474,-6 1474,-12 1474,-12 1474,-41 1474,-41 1474,-47 1468,-53 1462,-53\"/>\r\n",
       "<text text-anchor=\"start\" x=\"1355\" y=\"-37.8\" font-family=\"Helvetica,sans-Serif\" font-size=\"14.00\">entropy = 0.897</text>\r\n",
       "<text text-anchor=\"start\" x=\"1353.5\" y=\"-22.8\" font-family=\"Helvetica,sans-Serif\" font-size=\"14.00\">samples = 1498</text>\r\n",
       "<text text-anchor=\"start\" x=\"1344\" y=\"-7.8\" font-family=\"Helvetica,sans-Serif\" font-size=\"14.00\">value = [1029, 469]</text>\r\n",
       "</g>\r\n",
       "<!-- 18&#45;&gt;20 -->\r\n",
       "<g id=\"edge20\" class=\"edge\"><title>18&#45;&gt;20</title>\r\n",
       "<path fill=\"none\" stroke=\"black\" d=\"M1398.5,-88.9485C1399.38,-80.6238 1400.33,-71.6509 1401.22,-63.2027\"/>\r\n",
       "<polygon fill=\"black\" stroke=\"black\" points=\"1404.7,-63.5495 1402.28,-53.2367 1397.74,-62.8128 1404.7,-63.5495\"/>\r\n",
       "</g>\r\n",
       "<!-- 22 -->\r\n",
       "<g id=\"node23\" class=\"node\"><title>22</title>\r\n",
       "<path fill=\"#fef8f4\" stroke=\"black\" d=\"M1610,-53C1610,-53 1504,-53 1504,-53 1498,-53 1492,-47 1492,-41 1492,-41 1492,-12 1492,-12 1492,-6 1498,-0 1504,-0 1504,-0 1610,-0 1610,-0 1616,-0 1622,-6 1622,-12 1622,-12 1622,-41 1622,-41 1622,-47 1616,-53 1610,-53\"/>\r\n",
       "<text text-anchor=\"start\" x=\"1507\" y=\"-37.8\" font-family=\"Helvetica,sans-Serif\" font-size=\"14.00\">entropy = 0.999</text>\r\n",
       "<text text-anchor=\"start\" x=\"1509.5\" y=\"-22.8\" font-family=\"Helvetica,sans-Serif\" font-size=\"14.00\">samples = 692</text>\r\n",
       "<text text-anchor=\"start\" x=\"1500\" y=\"-7.8\" font-family=\"Helvetica,sans-Serif\" font-size=\"14.00\">value = [356, 336]</text>\r\n",
       "</g>\r\n",
       "<!-- 21&#45;&gt;22 -->\r\n",
       "<g id=\"edge22\" class=\"edge\"><title>21&#45;&gt;22</title>\r\n",
       "<path fill=\"none\" stroke=\"black\" d=\"M1563.5,-88.9485C1562.62,-80.6238 1561.67,-71.6509 1560.78,-63.2027\"/>\r\n",
       "<polygon fill=\"black\" stroke=\"black\" points=\"1564.26,-62.8128 1559.72,-53.2367 1557.3,-63.5495 1564.26,-62.8128\"/>\r\n",
       "</g>\r\n",
       "<!-- 23 -->\r\n",
       "<g id=\"node24\" class=\"node\"><title>23</title>\r\n",
       "<path fill=\"#f1ba93\" stroke=\"black\" d=\"M1744,-53C1744,-53 1652,-53 1652,-53 1646,-53 1640,-47 1640,-41 1640,-41 1640,-12 1640,-12 1640,-6 1646,-0 1652,-0 1652,-0 1744,-0 1744,-0 1750,-0 1756,-6 1756,-12 1756,-12 1756,-41 1756,-41 1756,-47 1750,-53 1744,-53\"/>\r\n",
       "<text text-anchor=\"start\" x=\"1648\" y=\"-37.8\" font-family=\"Helvetica,sans-Serif\" font-size=\"14.00\">entropy = 0.896</text>\r\n",
       "<text text-anchor=\"start\" x=\"1650.5\" y=\"-22.8\" font-family=\"Helvetica,sans-Serif\" font-size=\"14.00\">samples = 144</text>\r\n",
       "<text text-anchor=\"start\" x=\"1649.5\" y=\"-7.8\" font-family=\"Helvetica,sans-Serif\" font-size=\"14.00\">value = [99, 45]</text>\r\n",
       "</g>\r\n",
       "<!-- 21&#45;&gt;23 -->\r\n",
       "<g id=\"edge23\" class=\"edge\"><title>21&#45;&gt;23</title>\r\n",
       "<path fill=\"none\" stroke=\"black\" d=\"M1612.82,-88.9485C1626.13,-79.3431 1640.64,-68.8747 1653.86,-59.345\"/>\r\n",
       "<polygon fill=\"black\" stroke=\"black\" points=\"1656.26,-61.9257 1662.32,-53.2367 1652.16,-56.2486 1656.26,-61.9257\"/>\r\n",
       "</g>\r\n",
       "<!-- 25 -->\r\n",
       "<g id=\"node26\" class=\"node\"><title>25</title>\r\n",
       "<path fill=\"#c6e3f7\" stroke=\"black\" d=\"M1948,-157C1948,-157 1842,-157 1842,-157 1836,-157 1830,-151 1830,-145 1830,-145 1830,-101 1830,-101 1830,-95 1836,-89 1842,-89 1842,-89 1948,-89 1948,-89 1954,-89 1960,-95 1960,-101 1960,-101 1960,-145 1960,-145 1960,-151 1954,-157 1948,-157\"/>\r\n",
       "<text text-anchor=\"start\" x=\"1841.5\" y=\"-141.8\" font-family=\"Helvetica,sans-Serif\" font-size=\"14.00\">pay_trend ≤ 0.05</text>\r\n",
       "<text text-anchor=\"start\" x=\"1845\" y=\"-126.8\" font-family=\"Helvetica,sans-Serif\" font-size=\"14.00\">entropy = 0.979</text>\r\n",
       "<text text-anchor=\"start\" x=\"1843.5\" y=\"-111.8\" font-family=\"Helvetica,sans-Serif\" font-size=\"14.00\">samples = 1524</text>\r\n",
       "<text text-anchor=\"start\" x=\"1838\" y=\"-96.8\" font-family=\"Helvetica,sans-Serif\" font-size=\"14.00\">value = [633, 891]</text>\r\n",
       "</g>\r\n",
       "<!-- 24&#45;&gt;25 -->\r\n",
       "<g id=\"edge25\" class=\"edge\"><title>24&#45;&gt;25</title>\r\n",
       "<path fill=\"none\" stroke=\"black\" d=\"M1895,-192.884C1895,-184.778 1895,-175.982 1895,-167.472\"/>\r\n",
       "<polygon fill=\"black\" stroke=\"black\" points=\"1898.5,-167.299 1895,-157.299 1891.5,-167.299 1898.5,-167.299\"/>\r\n",
       "</g>\r\n",
       "<!-- 28 -->\r\n",
       "<g id=\"node29\" class=\"node\"><title>28</title>\r\n",
       "<path fill=\"#7ebfee\" stroke=\"black\" d=\"M2223.5,-157C2223.5,-157 2046.5,-157 2046.5,-157 2040.5,-157 2034.5,-151 2034.5,-145 2034.5,-145 2034.5,-101 2034.5,-101 2034.5,-95 2040.5,-89 2046.5,-89 2046.5,-89 2223.5,-89 2223.5,-89 2229.5,-89 2235.5,-95 2235.5,-101 2235.5,-101 2235.5,-145 2235.5,-145 2235.5,-151 2229.5,-157 2223.5,-157\"/>\r\n",
       "<text text-anchor=\"start\" x=\"2042.5\" y=\"-141.8\" font-family=\"Helvetica,sans-Serif\" font-size=\"14.00\">mean_payment_ratio ≤ 0.068</text>\r\n",
       "<text text-anchor=\"start\" x=\"2085\" y=\"-126.8\" font-family=\"Helvetica,sans-Serif\" font-size=\"14.00\">entropy = 0.824</text>\r\n",
       "<text text-anchor=\"start\" x=\"2087.5\" y=\"-111.8\" font-family=\"Helvetica,sans-Serif\" font-size=\"14.00\">samples = 829</text>\r\n",
       "<text text-anchor=\"start\" x=\"2078\" y=\"-96.8\" font-family=\"Helvetica,sans-Serif\" font-size=\"14.00\">value = [214, 615]</text>\r\n",
       "</g>\r\n",
       "<!-- 24&#45;&gt;28 -->\r\n",
       "<g id=\"edge28\" class=\"edge\"><title>24&#45;&gt;28</title>\r\n",
       "<path fill=\"none\" stroke=\"black\" d=\"M1964.1,-196.634C1990.22,-185.53 2020.3,-172.747 2047.87,-161.029\"/>\r\n",
       "<polygon fill=\"black\" stroke=\"black\" points=\"2049.28,-164.233 2057.12,-157.101 2046.54,-157.791 2049.28,-164.233\"/>\r\n",
       "</g>\r\n",
       "<!-- 26 -->\r\n",
       "<g id=\"node27\" class=\"node\"><title>26</title>\r\n",
       "<path fill=\"#bddef6\" stroke=\"black\" d=\"M1892,-53C1892,-53 1786,-53 1786,-53 1780,-53 1774,-47 1774,-41 1774,-41 1774,-12 1774,-12 1774,-6 1780,-0 1786,-0 1786,-0 1892,-0 1892,-0 1898,-0 1904,-6 1904,-12 1904,-12 1904,-41 1904,-41 1904,-47 1898,-53 1892,-53\"/>\r\n",
       "<text text-anchor=\"start\" x=\"1789\" y=\"-37.8\" font-family=\"Helvetica,sans-Serif\" font-size=\"14.00\">entropy = 0.971</text>\r\n",
       "<text text-anchor=\"start\" x=\"1787.5\" y=\"-22.8\" font-family=\"Helvetica,sans-Serif\" font-size=\"14.00\">samples = 1292</text>\r\n",
       "<text text-anchor=\"start\" x=\"1782\" y=\"-7.8\" font-family=\"Helvetica,sans-Serif\" font-size=\"14.00\">value = [516, 776]</text>\r\n",
       "</g>\r\n",
       "<!-- 25&#45;&gt;26 -->\r\n",
       "<g id=\"edge26\" class=\"edge\"><title>25&#45;&gt;26</title>\r\n",
       "<path fill=\"none\" stroke=\"black\" d=\"M1875.41,-88.9485C1870.26,-80.2579 1864.7,-70.8608 1859.5,-62.0917\"/>\r\n",
       "<polygon fill=\"black\" stroke=\"black\" points=\"1862.36,-60.0553 1854.25,-53.2367 1856.34,-63.624 1862.36,-60.0553\"/>\r\n",
       "</g>\r\n",
       "<!-- 27 -->\r\n",
       "<g id=\"node28\" class=\"node\"><title>27</title>\r\n",
       "<path fill=\"#fffdfc\" stroke=\"black\" d=\"M2040,-53C2040,-53 1934,-53 1934,-53 1928,-53 1922,-47 1922,-41 1922,-41 1922,-12 1922,-12 1922,-6 1928,-0 1934,-0 1934,-0 2040,-0 2040,-0 2046,-0 2052,-6 2052,-12 2052,-12 2052,-41 2052,-41 2052,-47 2046,-53 2040,-53\"/>\r\n",
       "<text text-anchor=\"start\" x=\"1945\" y=\"-37.8\" font-family=\"Helvetica,sans-Serif\" font-size=\"14.00\">entropy = 1.0</text>\r\n",
       "<text text-anchor=\"start\" x=\"1939.5\" y=\"-22.8\" font-family=\"Helvetica,sans-Serif\" font-size=\"14.00\">samples = 232</text>\r\n",
       "<text text-anchor=\"start\" x=\"1930\" y=\"-7.8\" font-family=\"Helvetica,sans-Serif\" font-size=\"14.00\">value = [117, 115]</text>\r\n",
       "</g>\r\n",
       "<!-- 25&#45;&gt;27 -->\r\n",
       "<g id=\"edge27\" class=\"edge\"><title>25&#45;&gt;27</title>\r\n",
       "<path fill=\"none\" stroke=\"black\" d=\"M1927.18,-88.9485C1936.17,-79.709 1945.94,-69.671 1954.93,-60.4381\"/>\r\n",
       "<polygon fill=\"black\" stroke=\"black\" points=\"1957.48,-62.8434 1961.94,-53.2367 1952.46,-57.9605 1957.48,-62.8434\"/>\r\n",
       "</g>\r\n",
       "<!-- 29 -->\r\n",
       "<g id=\"node30\" class=\"node\"><title>29</title>\r\n",
       "<path fill=\"#75bbed\" stroke=\"black\" d=\"M2188,-53C2188,-53 2082,-53 2082,-53 2076,-53 2070,-47 2070,-41 2070,-41 2070,-12 2070,-12 2070,-6 2076,-0 2082,-0 2082,-0 2188,-0 2188,-0 2194,-0 2200,-6 2200,-12 2200,-12 2200,-41 2200,-41 2200,-47 2194,-53 2188,-53\"/>\r\n",
       "<text text-anchor=\"start\" x=\"2085\" y=\"-37.8\" font-family=\"Helvetica,sans-Serif\" font-size=\"14.00\">entropy = 0.782</text>\r\n",
       "<text text-anchor=\"start\" x=\"2087.5\" y=\"-22.8\" font-family=\"Helvetica,sans-Serif\" font-size=\"14.00\">samples = 702</text>\r\n",
       "<text text-anchor=\"start\" x=\"2078\" y=\"-7.8\" font-family=\"Helvetica,sans-Serif\" font-size=\"14.00\">value = [163, 539]</text>\r\n",
       "</g>\r\n",
       "<!-- 28&#45;&gt;29 -->\r\n",
       "<g id=\"edge29\" class=\"edge\"><title>28&#45;&gt;29</title>\r\n",
       "<path fill=\"none\" stroke=\"black\" d=\"M2135,-88.9485C2135,-80.7153 2135,-71.848 2135,-63.4814\"/>\r\n",
       "<polygon fill=\"black\" stroke=\"black\" points=\"2138.5,-63.2367 2135,-53.2367 2131.5,-63.2367 2138.5,-63.2367\"/>\r\n",
       "</g>\r\n",
       "<!-- 30 -->\r\n",
       "<g id=\"node31\" class=\"node\"><title>30</title>\r\n",
       "<path fill=\"#bedff6\" stroke=\"black\" d=\"M2322,-53C2322,-53 2230,-53 2230,-53 2224,-53 2218,-47 2218,-41 2218,-41 2218,-12 2218,-12 2218,-6 2224,-0 2230,-0 2230,-0 2322,-0 2322,-0 2328,-0 2334,-6 2334,-12 2334,-12 2334,-41 2334,-41 2334,-47 2328,-53 2322,-53\"/>\r\n",
       "<text text-anchor=\"start\" x=\"2226\" y=\"-37.8\" font-family=\"Helvetica,sans-Serif\" font-size=\"14.00\">entropy = 0.972</text>\r\n",
       "<text text-anchor=\"start\" x=\"2228.5\" y=\"-22.8\" font-family=\"Helvetica,sans-Serif\" font-size=\"14.00\">samples = 127</text>\r\n",
       "<text text-anchor=\"start\" x=\"2227.5\" y=\"-7.8\" font-family=\"Helvetica,sans-Serif\" font-size=\"14.00\">value = [51, 76]</text>\r\n",
       "</g>\r\n",
       "<!-- 28&#45;&gt;30 -->\r\n",
       "<g id=\"edge30\" class=\"edge\"><title>28&#45;&gt;30</title>\r\n",
       "<path fill=\"none\" stroke=\"black\" d=\"M2184.31,-88.9485C2198.78,-79.2516 2214.56,-68.6752 2228.89,-59.073\"/>\r\n",
       "<polygon fill=\"black\" stroke=\"black\" points=\"2231.24,-61.7115 2237.6,-53.2367 2227.34,-55.8967 2231.24,-61.7115\"/>\r\n",
       "</g>\r\n",
       "</g>\r\n",
       "</svg>\r\n"
      ],
      "text/plain": [
       "<graphviz.files.Source at 0x197d6e71640>"
      ]
     },
     "execution_count": 49,
     "metadata": {},
     "output_type": "execute_result"
    }
   ],
   "source": [
    "dot_data = export_graphviz(best_clf, out_file = None, feature_names = features_name, filled = True, rounded = True, special_characters=True)  \n",
    "graph = graphviz.Source(dot_data)  \n",
    "graph "
   ]
  },
  {
   "cell_type": "markdown",
   "metadata": {},
   "source": [
    "#### 4.3.3 Random forest"
   ]
  },
  {
   "cell_type": "code",
   "execution_count": 50,
   "metadata": {},
   "outputs": [
    {
     "name": "stdout",
     "output_type": "stream",
     "text": [
      "Fitting 5 folds for each of 10 candidates, totalling 50 fits\n",
      "BEST PARAMS {'n_estimators': 200, 'max_depth': 9}\n"
     ]
    }
   ],
   "source": [
    "n_estimators=[int(x) for x in np.linspace(start = 50, stop = 500, num = 10)]\n",
    "max_depths=[int(x) for x in np.linspace(1, 10, num = 10)]\n",
    "param_grid = {'n_estimators': n_estimators, 'max_depth':max_depths}\n",
    "clf_estimator = RandomForestClassifier()\n",
    "best_clf, y_pred, y_pred_proba=classification_tune(clf_estimator, param_grid, X_train_s, y_train, X_test_s, y_test)"
   ]
  },
  {
   "cell_type": "code",
   "execution_count": 51,
   "metadata": {},
   "outputs": [
    {
     "name": "stdout",
     "output_type": "stream",
     "text": [
      "Accuracy: 0.8\n",
      "Precision: 0.607\n",
      "Recall: 0.296\n",
      "f1 score: 0.398\n"
     ]
    },
    {
     "data": {
      "text/plain": [
       "(<AxesSubplot:title={'center':'Confusion matrix'}, xlabel='Predicted label', ylabel='Actual label'>,\n",
       " <AxesSubplot:>)"
      ]
     },
     "execution_count": 51,
     "metadata": {},
     "output_type": "execute_result"
    },
    {
     "data": {
      "image/png": "[encoded data removed]",
      "text/plain": [
       "<Figure size 720x360 with 3 Axes>"
      ]
     },
     "metadata": {
      "needs_background": "light"
     },
     "output_type": "display_data"
    }
   ],
   "source": [
    "classification_eval(best_clf, y_test, y_pred, y_pred_proba)"
   ]
  },
  {
   "cell_type": "code",
   "execution_count": 52,
   "metadata": {},
   "outputs": [
    {
     "data": {
      "text/plain": [
       "{'SEX_2': 0.0,\n",
       " 'EDUCATION_2': 0.0,\n",
       " 'EDUCATION_3': 0.0,\n",
       " 'EDUCATION_4': 0.0,\n",
       " 'MARRIAGE_3': 0.0,\n",
       " 'MARRIAGE_2': 0.01,\n",
       " 'AGE': 0.04,\n",
       " 'bill_sum': 0.05,\n",
       " 'pay_trend': 0.05,\n",
       " 'mean_payment_ratio': 0.05,\n",
       " '6_month_loss_given_default': 0.05,\n",
       " 'LIMIT_BAL': 0.06,\n",
       " 'mean_utilization_ratio': 0.07,\n",
       " 'bill_trend': 0.07,\n",
       " 'payment_sum': 0.09,\n",
       " 'pay_sum': 0.45}"
      ]
     },
     "execution_count": 52,
     "metadata": {},
     "output_type": "execute_result"
    }
   ],
   "source": [
    "feature_importance(best_clf)"
   ]
  },
  {
   "cell_type": "markdown",
   "metadata": {},
   "source": [
    "The same story for pay_sum repeated in random forest. "
   ]
  },
  {
   "cell_type": "markdown",
   "metadata": {},
   "source": [
    "#### 4.3.4 Gradient boosting"
   ]
  },
  {
   "cell_type": "code",
   "execution_count": 53,
   "metadata": {},
   "outputs": [
    {
     "name": "stdout",
     "output_type": "stream",
     "text": [
      "Fitting 5 folds for each of 10 candidates, totalling 50 fits\n",
      "BEST PARAMS {'n_estimators': 50, 'max_depth': 2, 'learning_rate': 0.1}\n"
     ]
    }
   ],
   "source": [
    "n_estimators=[int(x) for x in np.linspace(start = 50, stop = 500, num = 10)]\n",
    "max_depths=[int(x) for x in np.linspace(1, 10, num = 10)]\n",
    "learning_rates = [0.05, 0.1, 0.25, 0.5, 0.75, 1]\n",
    "param_grid = {'n_estimators': n_estimators, 'max_depth':max_depths, 'learning_rate': learning_rates}\n",
    "clf_estimator = GradientBoostingClassifier()\n",
    "best_clf, y_pred, y_pred_proba=classification_tune(clf_estimator, param_grid, X_train_s, y_train, X_test_s, y_test)"
   ]
  },
  {
   "cell_type": "code",
   "execution_count": 54,
   "metadata": {},
   "outputs": [
    {
     "name": "stdout",
     "output_type": "stream",
     "text": [
      "Accuracy: 0.802\n",
      "Precision: 0.616\n",
      "Recall: 0.299\n",
      "f1 score: 0.402\n"
     ]
    },
    {
     "data": {
      "text/plain": [
       "(<AxesSubplot:title={'center':'Confusion matrix'}, xlabel='Predicted label', ylabel='Actual label'>,\n",
       " <AxesSubplot:>)"
      ]
     },
     "execution_count": 54,
     "metadata": {},
     "output_type": "execute_result"
    },
    {
     "data": {
      "image/png": "[encoded data removed]",
      "text/plain": [
       "<Figure size 720x360 with 3 Axes>"
      ]
     },
     "metadata": {
      "needs_background": "light"
     },
     "output_type": "display_data"
    }
   ],
   "source": [
    "classification_eval(best_clf, y_test, y_pred, y_pred_proba)"
   ]
  },
  {
   "cell_type": "code",
   "execution_count": 55,
   "metadata": {},
   "outputs": [
    {
     "data": {
      "text/plain": [
       "{'SEX_2': 0.0,\n",
       " 'EDUCATION_2': 0.0,\n",
       " 'EDUCATION_3': 0.0,\n",
       " 'EDUCATION_4': 0.0,\n",
       " 'MARRIAGE_2': 0.0,\n",
       " 'MARRIAGE_3': 0.0,\n",
       " 'AGE': 0.0,\n",
       " '6_month_loss_given_default': 0.0,\n",
       " 'mean_utilization_ratio': 0.01,\n",
       " 'bill_trend': 0.01,\n",
       " 'pay_trend': 0.01,\n",
       " 'mean_payment_ratio': 0.01,\n",
       " 'LIMIT_BAL': 0.02,\n",
       " 'bill_sum': 0.05,\n",
       " 'payment_sum': 0.07,\n",
       " 'pay_sum': 0.83}"
      ]
     },
     "execution_count": 55,
     "metadata": {},
     "output_type": "execute_result"
    }
   ],
   "source": [
    "feature_importance(best_clf)"
   ]
  },
  {
   "cell_type": "markdown",
   "metadata": {},
   "source": [
    "pay_sum is the winner again."
   ]
  },
  {
   "cell_type": "markdown",
   "metadata": {},
   "source": [
    "#### 4.3.5 Extreme Gradient Boosting (XGBoost)"
   ]
  },
  {
   "cell_type": "code",
   "execution_count": 56,
   "metadata": {},
   "outputs": [
    {
     "name": "stdout",
     "output_type": "stream",
     "text": [
      "Fitting 5 folds for each of 10 candidates, totalling 50 fits\n",
      "[01:41:28] WARNING: ..\\src\\learner.cc:1095: Starting in XGBoost 1.3.0, the default evaluation metric used with the objective 'binary:logistic' was changed from 'error' to 'logloss'. Explicitly set eval_metric if you'd like to restore the old behavior.\n",
      "BEST PARAMS {'subsample': 0.7, 'reg_alpha': 0.05, 'n_estimators': 400, 'max_depth': 1, 'learning_rate': 0.1, 'gamma': 0.4}\n"
     ]
    }
   ],
   "source": [
    "reg_alphas=[0, 0.001, 0.005, 0.01, 0.05]\n",
    "gammas=[0.1, 0.2, 0.3, 0.4, 0.5]\n",
    "subsamples=[0.5, 0.6, 0.7, 0.8]\n",
    "n_estimators=[int(x) for x in np.linspace(start = 50, stop = 500, num = 10)]\n",
    "max_depths=[int(x) for x in np.linspace(1, 10, num = 10)]\n",
    "learning_rates = [0.05, 0.1, 0.25, 0.5, 0.75, 1]\n",
    "param_grid = {'reg_alpha':reg_alphas,'gamma':gammas, 'subsample': subsamples, 'n_estimators': n_estimators, 'max_depth':max_depths, 'learning_rate': learning_rates}\n",
    "clf_estimator=XGBClassifier(use_label_encoder=False)\n",
    "best_clf, y_pred, y_pred_proba=classification_tune(clf_estimator, param_grid, X_train_s, y_train, X_test_s, y_test)"
   ]
  },
  {
   "cell_type": "code",
   "execution_count": 57,
   "metadata": {},
   "outputs": [
    {
     "name": "stdout",
     "output_type": "stream",
     "text": [
      "Accuracy: 0.803\n",
      "Precision: 0.614\n",
      "Recall: 0.322\n",
      "f1 score: 0.422\n"
     ]
    },
    {
     "data": {
      "text/plain": [
       "(<AxesSubplot:title={'center':'Confusion matrix'}, xlabel='Predicted label', ylabel='Actual label'>,\n",
       " <AxesSubplot:>)"
      ]
     },
     "execution_count": 57,
     "metadata": {},
     "output_type": "execute_result"
    },
    {
     "data": {
      "image/png": "[encoded data removed]",
      "text/plain": [
       "<Figure size 720x360 with 3 Axes>"
      ]
     },
     "metadata": {
      "needs_background": "light"
     },
     "output_type": "display_data"
    }
   ],
   "source": [
    "classification_eval(best_clf, y_test, y_pred, y_pred_proba)"
   ]
  },
  {
   "cell_type": "code",
   "execution_count": 58,
   "metadata": {},
   "outputs": [
    {
     "data": {
      "text/plain": [
       "{'EDUCATION_2': 0.0,\n",
       " 'EDUCATION_3': 0.0,\n",
       " 'MARRIAGE_3': 0.0,\n",
       " 'SEX_2': 0.03,\n",
       " 'MARRIAGE_2': 0.03,\n",
       " 'AGE': 0.03,\n",
       " 'bill_trend': 0.03,\n",
       " 'pay_trend': 0.03,\n",
       " '6_month_loss_given_default': 0.03,\n",
       " 'EDUCATION_4': 0.04,\n",
       " 'mean_payment_ratio': 0.04,\n",
       " 'mean_utilization_ratio': 0.05,\n",
       " 'LIMIT_BAL': 0.06,\n",
       " 'bill_sum': 0.06,\n",
       " 'payment_sum': 0.15,\n",
       " 'pay_sum': 0.41}"
      ]
     },
     "execution_count": 58,
     "metadata": {},
     "output_type": "execute_result"
    }
   ],
   "source": [
    "feature_importance(best_clf)"
   ]
  },
  {
   "cell_type": "markdown",
   "metadata": {},
   "source": [
    "#### 4.3.6 KNN"
   ]
  },
  {
   "cell_type": "code",
   "execution_count": 59,
   "metadata": {},
   "outputs": [
    {
     "name": "stdout",
     "output_type": "stream",
     "text": [
      "Fitting 5 folds for each of 10 candidates, totalling 50 fits\n",
      "BEST PARAMS {'p': 2, 'n_neighbors': 50}\n"
     ]
    }
   ],
   "source": [
    "n_neighbors = [50, 100, 500, 1000, 5000]\n",
    "p=[1,2]\n",
    "param_grid ={'n_neighbors':n_neighbors, 'p':p}\n",
    "clf_estimator=KNeighborsClassifier()\n",
    "best_clf, y_pred, y_pred_proba=classification_tune(clf_estimator, param_grid, X_train_s, y_train, X_test_s, y_test)"
   ]
  },
  {
   "cell_type": "code",
   "execution_count": 60,
   "metadata": {},
   "outputs": [
    {
     "name": "stdout",
     "output_type": "stream",
     "text": [
      "Accuracy: 0.796\n",
      "Precision: 0.636\n",
      "Recall: 0.204\n",
      "f1 score: 0.309\n"
     ]
    },
    {
     "data": {
      "text/plain": [
       "(<AxesSubplot:title={'center':'Confusion matrix'}, xlabel='Predicted label', ylabel='Actual label'>,\n",
       " <AxesSubplot:>)"
      ]
     },
     "execution_count": 60,
     "metadata": {},
     "output_type": "execute_result"
    },
    {
     "data": {
      "image/png": "[encoded data removed]",
      "text/plain": [
       "<Figure size 720x360 with 3 Axes>"
      ]
     },
     "metadata": {
      "needs_background": "light"
     },
     "output_type": "display_data"
    }
   ],
   "source": [
    "classification_eval(best_clf, y_test, y_pred, y_pred_proba)"
   ]
  },
  {
   "cell_type": "code",
   "execution_count": 61,
   "metadata": {},
   "outputs": [
    {
     "name": "stdout",
     "output_type": "stream",
     "text": [
      "Feature  Accuracy\n",
      "0        0.779511\n",
      "1        0.779511\n",
      "2        0.779511\n",
      "3        0.779511\n",
      "4        0.779511\n",
      "5        0.779511\n",
      "6        0.779511\n",
      "7        0.779511\n",
      "8        0.806356\n",
      "9        0.779511\n",
      "10        0.777956\n",
      "11        0.779378\n",
      "12        0.779467\n",
      "13        0.779556\n",
      "14        0.779511\n",
      "15        0.779289\n"
     ]
    }
   ],
   "source": [
    "from sklearn.model_selection import cross_val_score\n",
    "n_feats = X_train_s.shape[1]\n",
    "print('Feature  Accuracy')\n",
    "for i in range(n_feats):\n",
    "    X = X_train_s[:, i].reshape(-1, 1)\n",
    "    scores = cross_val_score(best_clf, X, y_train, cv=5)\n",
    "    print(f'{i}        {scores.mean():g}')"
   ]
  },
  {
   "cell_type": "code",
   "execution_count": 62,
   "metadata": {},
   "outputs": [
    {
     "name": "stdout",
     "output_type": "stream",
     "text": [
      "pay_sum payment_sum\n"
     ]
    }
   ],
   "source": [
    "print(features_name[8], features_name[13])"
   ]
  },
  {
   "cell_type": "markdown",
   "metadata": {},
   "source": [
    "### 4.4 summary"
   ]
  },
  {
   "cell_type": "markdown",
   "metadata": {},
   "source": [
    "1. We get pretty comparable model results using the smaller data set, df_sum, with our engineered features\n",
    "2. XGBoost gave us the best model with AUC value 0.759 and f1 score 0.422, followed by random forest and gradient boosting, and then the other more traditional algorithms.\n",
    "3. The most critical feature in these models is pay_sum. As a matter of fact, it is far more important than the rest of the features in df_sum data set regardless of which algorithm we applied. It is an index to show the accumulated payment behavior, on time, or delay. Besides pay_sum, payment_sum, bill_sum, limit_bal are also listed as the most critical features in most of the algorithms. Generally speaking, transaction-related data showed more contribution in these models than socioeconomic features."
   ]
  }
 ],
 "metadata": {
  "kernelspec": {
   "display_name": "Python 3",
   "language": "python",
   "name": "python3"
  },
  "language_info": {
   "codemirror_mode": {
    "name": "ipython",
    "version": 3
   },
   "file_extension": ".py",
   "mimetype": "text/x-python",
   "name": "python",
   "nbconvert_exporter": "python",
   "pygments_lexer": "ipython3",
   "version": "3.9.4"
  }
 },
 "nbformat": 4,
 "nbformat_minor": 4
}
