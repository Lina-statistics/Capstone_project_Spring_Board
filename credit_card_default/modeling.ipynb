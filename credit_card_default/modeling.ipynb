{
 "cells": [
  {
   "cell_type": "markdown",
   "metadata": {},
   "source": [
    "## 3. data pre-processing and modelling\n",
    "We will experiment different classification algorithms in this section, evaluate their performance and give a summary report.\n",
    "\n",
    "Q1: Which algorithm is our best choice for this dataset?\n",
    "\n",
    "Big data can be divided into two categories, the super long data or the super wide data. The wide data is also called high-dimensional data. Some algorithms are really good at handling such data set, for instance, support vector machine and naive bayes. Since our data set is long, we will not test these two algorithms in this experiment. Instead, we will try logistic regression, decision tree, random forest, gradient boosting, \n",
    "\n",
    "### 3.1 model development using df_dummy\n",
    "#### 3.1.1 data pre-processing"
   ]
  },
  {
   "cell_type": "code",
   "execution_count": 45,
   "metadata": {},
   "outputs": [],
   "source": [
    "import pandas as pd\n",
    "import numpy as np\n",
    "import matplotlib.pyplot as plt\n",
    "import seaborn as sns\n",
    "from sklearn import preprocessing\n",
    "from sklearn.model_selection import train_test_split"
   ]
  },
  {
   "cell_type": "code",
   "execution_count": 46,
   "metadata": {},
   "outputs": [
    {
     "data": {
      "text/plain": [
       "Index(['LIMIT', 'AGE', 'PAY_1', 'PAY_2', 'PAY_3', 'PAY_4', 'PAY_5', 'PAY_6',\n",
       "       'BILL_AMT1', 'BILL_AMT2', 'BILL_AMT3', 'BILL_AMT4', 'BILL_AMT5',\n",
       "       'BILL_AMT6', 'PAY_AMT1', 'PAY_AMT2', 'PAY_AMT3', 'PAY_AMT4', 'PAY_AMT5',\n",
       "       'PAY_AMT6', 'DEFAULT', 'MARRIAGE_1', 'MARRIAGE_2', 'MARRIAGE_3',\n",
       "       'SEX_1', 'SEX_2', 'EDUCATION_1', 'EDUCATION_2', 'EDUCATION_3',\n",
       "       'EDUCATION_4'],\n",
       "      dtype='object')"
      ]
     },
     "execution_count": 46,
     "metadata": {},
     "output_type": "execute_result"
    }
   ],
   "source": [
    "dataPath='data/df_dummy.csv'\n",
    "df_dummy=pd.read_csv(dataPath,index_col='ID')\n",
    "df_dummy.columns"
   ]
  },
  {
   "cell_type": "code",
   "execution_count": 47,
   "metadata": {},
   "outputs": [
    {
     "data": {
      "text/html": [
       "<div>\n",
       "<style scoped>\n",
       "    .dataframe tbody tr th:only-of-type {\n",
       "        vertical-align: middle;\n",
       "    }\n",
       "\n",
       "    .dataframe tbody tr th {\n",
       "        vertical-align: top;\n",
       "    }\n",
       "\n",
       "    .dataframe thead th {\n",
       "        text-align: right;\n",
       "    }\n",
       "</style>\n",
       "<table border=\"1\" class=\"dataframe\">\n",
       "  <thead>\n",
       "    <tr style=\"text-align: right;\">\n",
       "      <th></th>\n",
       "      <th>LIMIT</th>\n",
       "      <th>AGE</th>\n",
       "      <th>PAY_1</th>\n",
       "      <th>PAY_2</th>\n",
       "      <th>PAY_3</th>\n",
       "      <th>PAY_4</th>\n",
       "      <th>PAY_5</th>\n",
       "      <th>PAY_6</th>\n",
       "      <th>BILL_AMT1</th>\n",
       "      <th>BILL_AMT2</th>\n",
       "      <th>...</th>\n",
       "      <th>PAY_AMT6</th>\n",
       "      <th>MARRIAGE_1</th>\n",
       "      <th>MARRIAGE_2</th>\n",
       "      <th>MARRIAGE_3</th>\n",
       "      <th>SEX_1</th>\n",
       "      <th>SEX_2</th>\n",
       "      <th>EDUCATION_1</th>\n",
       "      <th>EDUCATION_2</th>\n",
       "      <th>EDUCATION_3</th>\n",
       "      <th>EDUCATION_4</th>\n",
       "    </tr>\n",
       "    <tr>\n",
       "      <th>ID</th>\n",
       "      <th></th>\n",
       "      <th></th>\n",
       "      <th></th>\n",
       "      <th></th>\n",
       "      <th></th>\n",
       "      <th></th>\n",
       "      <th></th>\n",
       "      <th></th>\n",
       "      <th></th>\n",
       "      <th></th>\n",
       "      <th></th>\n",
       "      <th></th>\n",
       "      <th></th>\n",
       "      <th></th>\n",
       "      <th></th>\n",
       "      <th></th>\n",
       "      <th></th>\n",
       "      <th></th>\n",
       "      <th></th>\n",
       "      <th></th>\n",
       "      <th></th>\n",
       "    </tr>\n",
       "  </thead>\n",
       "  <tbody>\n",
       "    <tr>\n",
       "      <th>1</th>\n",
       "      <td>20000</td>\n",
       "      <td>24</td>\n",
       "      <td>2</td>\n",
       "      <td>2</td>\n",
       "      <td>-1</td>\n",
       "      <td>-1</td>\n",
       "      <td>-2</td>\n",
       "      <td>-2</td>\n",
       "      <td>3913</td>\n",
       "      <td>3102</td>\n",
       "      <td>...</td>\n",
       "      <td>0</td>\n",
       "      <td>1</td>\n",
       "      <td>0</td>\n",
       "      <td>0</td>\n",
       "      <td>0</td>\n",
       "      <td>1</td>\n",
       "      <td>0</td>\n",
       "      <td>1</td>\n",
       "      <td>0</td>\n",
       "      <td>0</td>\n",
       "    </tr>\n",
       "    <tr>\n",
       "      <th>2</th>\n",
       "      <td>120000</td>\n",
       "      <td>26</td>\n",
       "      <td>-1</td>\n",
       "      <td>2</td>\n",
       "      <td>0</td>\n",
       "      <td>0</td>\n",
       "      <td>0</td>\n",
       "      <td>2</td>\n",
       "      <td>2682</td>\n",
       "      <td>1725</td>\n",
       "      <td>...</td>\n",
       "      <td>2000</td>\n",
       "      <td>0</td>\n",
       "      <td>1</td>\n",
       "      <td>0</td>\n",
       "      <td>0</td>\n",
       "      <td>1</td>\n",
       "      <td>0</td>\n",
       "      <td>1</td>\n",
       "      <td>0</td>\n",
       "      <td>0</td>\n",
       "    </tr>\n",
       "    <tr>\n",
       "      <th>3</th>\n",
       "      <td>90000</td>\n",
       "      <td>34</td>\n",
       "      <td>0</td>\n",
       "      <td>0</td>\n",
       "      <td>0</td>\n",
       "      <td>0</td>\n",
       "      <td>0</td>\n",
       "      <td>0</td>\n",
       "      <td>29239</td>\n",
       "      <td>14027</td>\n",
       "      <td>...</td>\n",
       "      <td>5000</td>\n",
       "      <td>0</td>\n",
       "      <td>1</td>\n",
       "      <td>0</td>\n",
       "      <td>0</td>\n",
       "      <td>1</td>\n",
       "      <td>0</td>\n",
       "      <td>1</td>\n",
       "      <td>0</td>\n",
       "      <td>0</td>\n",
       "    </tr>\n",
       "    <tr>\n",
       "      <th>4</th>\n",
       "      <td>50000</td>\n",
       "      <td>37</td>\n",
       "      <td>0</td>\n",
       "      <td>0</td>\n",
       "      <td>0</td>\n",
       "      <td>0</td>\n",
       "      <td>0</td>\n",
       "      <td>0</td>\n",
       "      <td>46990</td>\n",
       "      <td>48233</td>\n",
       "      <td>...</td>\n",
       "      <td>1000</td>\n",
       "      <td>1</td>\n",
       "      <td>0</td>\n",
       "      <td>0</td>\n",
       "      <td>0</td>\n",
       "      <td>1</td>\n",
       "      <td>0</td>\n",
       "      <td>1</td>\n",
       "      <td>0</td>\n",
       "      <td>0</td>\n",
       "    </tr>\n",
       "    <tr>\n",
       "      <th>5</th>\n",
       "      <td>50000</td>\n",
       "      <td>57</td>\n",
       "      <td>-1</td>\n",
       "      <td>0</td>\n",
       "      <td>-1</td>\n",
       "      <td>0</td>\n",
       "      <td>0</td>\n",
       "      <td>0</td>\n",
       "      <td>8617</td>\n",
       "      <td>5670</td>\n",
       "      <td>...</td>\n",
       "      <td>679</td>\n",
       "      <td>1</td>\n",
       "      <td>0</td>\n",
       "      <td>0</td>\n",
       "      <td>1</td>\n",
       "      <td>0</td>\n",
       "      <td>0</td>\n",
       "      <td>1</td>\n",
       "      <td>0</td>\n",
       "      <td>0</td>\n",
       "    </tr>\n",
       "  </tbody>\n",
       "</table>\n",
       "<p>5 rows × 29 columns</p>\n",
       "</div>"
      ],
      "text/plain": [
       "     LIMIT  AGE  PAY_1  PAY_2  PAY_3  PAY_4  PAY_5  PAY_6  BILL_AMT1  \\\n",
       "ID                                                                     \n",
       "1    20000   24      2      2     -1     -1     -2     -2       3913   \n",
       "2   120000   26     -1      2      0      0      0      2       2682   \n",
       "3    90000   34      0      0      0      0      0      0      29239   \n",
       "4    50000   37      0      0      0      0      0      0      46990   \n",
       "5    50000   57     -1      0     -1      0      0      0       8617   \n",
       "\n",
       "    BILL_AMT2  ...  PAY_AMT6  MARRIAGE_1  MARRIAGE_2  MARRIAGE_3  SEX_1  \\\n",
       "ID             ...                                                        \n",
       "1        3102  ...         0           1           0           0      0   \n",
       "2        1725  ...      2000           0           1           0      0   \n",
       "3       14027  ...      5000           0           1           0      0   \n",
       "4       48233  ...      1000           1           0           0      0   \n",
       "5        5670  ...       679           1           0           0      1   \n",
       "\n",
       "    SEX_2  EDUCATION_1  EDUCATION_2  EDUCATION_3  EDUCATION_4  \n",
       "ID                                                             \n",
       "1       1            0            1            0            0  \n",
       "2       1            0            1            0            0  \n",
       "3       1            0            1            0            0  \n",
       "4       1            0            1            0            0  \n",
       "5       0            0            1            0            0  \n",
       "\n",
       "[5 rows x 29 columns]"
      ]
     },
     "execution_count": 47,
     "metadata": {},
     "output_type": "execute_result"
    }
   ],
   "source": [
    "X= df_dummy.drop(columns=['DEFAULT'], axis=1)\n",
    "X.head()"
   ]
  },
  {
   "cell_type": "code",
   "execution_count": 48,
   "metadata": {},
   "outputs": [
    {
     "data": {
      "text/plain": [
       "Index(['LIMIT', 'AGE', 'PAY_1', 'PAY_2', 'PAY_3', 'PAY_4', 'PAY_5', 'PAY_6',\n",
       "       'BILL_AMT1', 'BILL_AMT2', 'BILL_AMT3', 'BILL_AMT4', 'BILL_AMT5',\n",
       "       'BILL_AMT6', 'PAY_AMT1', 'PAY_AMT2', 'PAY_AMT3', 'PAY_AMT4', 'PAY_AMT5',\n",
       "       'PAY_AMT6', 'MARRIAGE_1', 'MARRIAGE_2', 'MARRIAGE_3', 'SEX_1', 'SEX_2',\n",
       "       'EDUCATION_1', 'EDUCATION_2', 'EDUCATION_3', 'EDUCATION_4'],\n",
       "      dtype='object')"
      ]
     },
     "execution_count": 48,
     "metadata": {},
     "output_type": "execute_result"
    }
   ],
   "source": [
    "X.columns"
   ]
  },
  {
   "cell_type": "code",
   "execution_count": 49,
   "metadata": {},
   "outputs": [
    {
     "data": {
      "text/plain": [
       "ID\n",
       "1    1\n",
       "2    1\n",
       "3    0\n",
       "4    0\n",
       "5    0\n",
       "Name: DEFAULT, dtype: int64"
      ]
     },
     "execution_count": 49,
     "metadata": {},
     "output_type": "execute_result"
    }
   ],
   "source": [
    "y=df_dummy.DEFAULT\n",
    "y.head()"
   ]
  },
  {
   "cell_type": "code",
   "execution_count": 50,
   "metadata": {},
   "outputs": [],
   "source": [
    "X_train,X_test,y_train,y_test=train_test_split(X, y, test_size=0.3, stratify= y, random_state=42)"
   ]
  },
  {
   "cell_type": "code",
   "execution_count": 51,
   "metadata": {},
   "outputs": [],
   "source": [
    "scaler = preprocessing.StandardScaler()\n",
    "X_train_scaled = scaler.fit_transform(X_train)\n",
    "X_test_scaled = scaler.fit_transform(X_test)"
   ]
  },
  {
   "cell_type": "markdown",
   "metadata": {},
   "source": [
    "### 3.1.2 model development"
   ]
  },
  {
   "cell_type": "markdown",
   "metadata": {},
   "source": [
    "set up a function cv_optimize which takes a classifier clf, a grid of hyperparameters (such as a complexity parameter or regularization parameter) implemented as a dictionary parameters, a training set (as a samples x features array) Xtrain, and a set of labels ytrain. The code takes the traning set, splits it into n_folds parts, sets up n_folds folds, and carries out a cross-validation by splitting the training set into a training and validation section for each foldfor us. It prints the best value of the parameters, and retuens the best classifier to us."
   ]
  },
  {
   "cell_type": "markdown",
   "metadata": {},
   "source": [
    "We then use this best classifier to fit the entire training set. This is done inside the do_classify function which takes a dataframe indf as input. It takes the columns in the list featurenames as the features used to train the classifier. The column targetname sets the target. The classification is done by setting those samples for which targetname has value target1val to the value 1, and all others to 0. We split the dataframe into 80% training and 20% testing by default, standardizing the dataset if desired. (Standardizing a data set involves scaling the data so that it has 0 mean and is described in units of its standard deviation. We then train the model on the training set using cross-validation. Having obtained the best classifier using cv_optimize, we retrain on the entire training set and calculate the training and testing accuracy, which we print. We return the split data and the trained classifier."
   ]
  },
  {
   "cell_type": "markdown",
   "metadata": {},
   "source": [
    "#### 3.1.2.1 regularized logistic regression\n",
    "Binary logistic regression is the simplest classification algorithms. But it cannot perform very well when there are colinearity between predictors. It is also vulnerable to overfitting. As we explored the correlation between predictors in section1, there is some colinearity between predictor features in this data set. Hence, we decided to use regularized logistic regression and use RandomizedSearchCV( ) to find the best value of the hyperparameter, [C](https://scikit-learn.org/0.15/modules/generated/sklearn.linear_model.LogisticRegression.html)."
   ]
  },
  {
   "cell_type": "code",
   "execution_count": 52,
   "metadata": {},
   "outputs": [
    {
     "name": "stdout",
     "output_type": "stream",
     "text": [
      "BEST PARAMS {'C': 10}\n",
      "Runtime of the program is 5.437450408935547\n"
     ]
    }
   ],
   "source": [
    "from sklearn import metrics\n",
    "from sklearn.linear_model import LogisticRegression\n",
    "from sklearn.model_selection import RandomizedSearchCV\n",
    "import time\n",
    "start=time.time()\n",
    "logreg = LogisticRegression()\n",
    "param_grid = {'C': [0.001, 0.005, 0.01, 0.05, 0.1, 0.5, 1, 5, 10, 50, 100]} # C is the inverse of regularization strength; must be a positive float. Smaller values of C mean stronger regularization.\n",
    "logreg_cv = RandomizedSearchCV(logreg, param_grid , cv=5, random_state=42)\n",
    "logreg_cv.fit(X_train_scaled,y_train)\n",
    "end=time.time()\n",
    "print(\"BEST PARAMS\", logreg_cv.best_params_)\n",
    "print(f\"Runtime of the program is {end - start}\")"
   ]
  },
  {
   "cell_type": "code",
   "execution_count": 53,
   "metadata": {},
   "outputs": [
    {
     "data": {
      "text/plain": [
       "Text(0.5, 15.0, 'Predicted label')"
      ]
     },
     "execution_count": 53,
     "metadata": {},
     "output_type": "execute_result"
    },
    {
     "data": {
      "image/png": "[encoded data removed]",
      "text/plain": [
       "<Figure size 432x288 with 2 Axes>"
      ]
     },
     "metadata": {
      "needs_background": "light"
     },
     "output_type": "display_data"
    }
   ],
   "source": [
    "# use the best C value, 10, to develop regularized logistic regression model\n",
    "best_C_logreg=logreg_cv.best_estimator_\n",
    "y_pred=best_C_logreg.predict(X_test_scaled)\n",
    "cnf_matrix = metrics.confusion_matrix(y_test, y_pred)\n",
    "sns.heatmap(pd.DataFrame(cnf_matrix), annot=True, cmap=\"YlGnBu\" ,fmt='g')\n",
    "plt.tight_layout()\n",
    "plt.title('Confusion matrix')\n",
    "plt.ylabel('Actual label')\n",
    "plt.xlabel('Predicted label')"
   ]
  },
  {
   "cell_type": "code",
   "execution_count": 54,
   "metadata": {},
   "outputs": [
    {
     "name": "stdout",
     "output_type": "stream",
     "text": [
      "Accuracy: 0.8098888888888889\n",
      "Precision: 0.7095808383233533\n",
      "Recall: 0.23807132094424913\n"
     ]
    }
   ],
   "source": [
    "print(\"Accuracy:\",metrics.accuracy_score(y_test, y_pred))\n",
    "print(\"Precision:\",metrics.precision_score(y_test, y_pred))\n",
    "print(\"Recall:\",metrics.recall_score(y_test, y_pred))"
   ]
  },
  {
   "cell_type": "code",
   "execution_count": 55,
   "metadata": {},
   "outputs": [
    {
     "data": {
      "text/plain": [
       "<matplotlib.legend.Legend at 0x22841da1070>"
      ]
     },
     "execution_count": 55,
     "metadata": {},
     "output_type": "execute_result"
    },
    {
     "data": {
      "image/png": "[encoded data removed]",
      "text/plain": [
       "<Figure size 432x288 with 1 Axes>"
      ]
     },
     "metadata": {
      "needs_background": "light"
     },
     "output_type": "display_data"
    }
   ],
   "source": [
    "y_pred_proba = best_C_logreg.predict_proba(X_test_scaled)[::,1]\n",
    "fpr, tpr, _ = metrics.roc_curve(y_test,  y_pred_proba)\n",
    "auc = metrics.roc_auc_score(y_test, y_pred_proba)\n",
    "plt.plot(fpr,tpr,label=\"data 1, auc=\"+str(auc))\n",
    "plt.legend(loc=4)"
   ]
  },
  {
   "cell_type": "markdown",
   "metadata": {},
   "source": [
    "There are [three ways](https://towardsdatascience.com/a-look-into-feature-importance-in-logistic-regression-models-a4aa970f9b0f) to rank features in a Logistic Regression model. They are by coefficient values, recursive feature elimination (RFE) and sci-kit Learn’s SelectFromModels (SFM). Here, we only try two of them.\n",
    "1. First, coefficients. The higher the coefficient, the higher the “importance” of a feature. "
   ]
  },
  {
   "cell_type": "code",
   "execution_count": 56,
   "metadata": {},
   "outputs": [
    {
     "data": {
      "text/plain": [
       "array([[-0.11077078,  0.03616903,  0.65381198,  0.10295481,  0.08424131,\n",
       "         0.05654514,  0.01586842,  0.02120401, -0.31996178,  0.01411706,\n",
       "         0.10674377,  0.03745503,  0.01144339,  0.03250345, -0.15387537,\n",
       "        -0.25470201, -0.02335611, -0.04620155, -0.02239685, -0.03847854,\n",
       "         0.0492499 , -0.05028647,  0.00507227,  0.02726772, -0.02726772,\n",
       "         0.05390547, -0.00424052, -0.01639234, -0.13748926]])"
      ]
     },
     "execution_count": 56,
     "metadata": {},
     "output_type": "execute_result"
    }
   ],
   "source": [
    "best_C_logreg.coef_"
   ]
  },
  {
   "cell_type": "code",
   "execution_count": 57,
   "metadata": {},
   "outputs": [
    {
     "data": {
      "text/plain": [
       "Index(['LIMIT', 'AGE', 'PAY_1', 'PAY_2', 'PAY_3', 'PAY_4', 'PAY_5', 'PAY_6',\n",
       "       'BILL_AMT1', 'BILL_AMT2', 'BILL_AMT3', 'BILL_AMT4', 'BILL_AMT5',\n",
       "       'BILL_AMT6', 'PAY_AMT1', 'PAY_AMT2', 'PAY_AMT3', 'PAY_AMT4', 'PAY_AMT5',\n",
       "       'PAY_AMT6', 'MARRIAGE_1', 'MARRIAGE_2', 'MARRIAGE_3', 'SEX_1', 'SEX_2',\n",
       "       'EDUCATION_1', 'EDUCATION_2', 'EDUCATION_3', 'EDUCATION_4'],\n",
       "      dtype='object')"
      ]
     },
     "execution_count": 57,
     "metadata": {},
     "output_type": "execute_result"
    }
   ],
   "source": [
    "X.columns"
   ]
  },
  {
   "cell_type": "markdown",
   "metadata": {},
   "source": [
    "2. select the most important features from the model"
   ]
  },
  {
   "cell_type": "code",
   "execution_count": 58,
   "metadata": {},
   "outputs": [
    {
     "data": {
      "text/plain": [
       "Index(['PAY_1', 'BILL_AMT1', 'PAY_AMT1', 'PAY_AMT2', 'EDUCATION_4'], dtype='object')"
      ]
     },
     "execution_count": 58,
     "metadata": {},
     "output_type": "execute_result"
    }
   ],
   "source": [
    "from sklearn.feature_selection import SelectFromModel\n",
    "sfm=SelectFromModel(best_C_logreg, threshold=-np.inf, max_features=5)\n",
    "sfm.fit(X_train_scaled, y_train)\n",
    "feature_idx=sfm.get_support()\n",
    "feature_name=X.columns[feature_idx]\n",
    "feature_name"
   ]
  },
  {
   "cell_type": "markdown",
   "metadata": {},
   "source": [
    "#### 3.1.2.2 decision tree"
   ]
  },
  {
   "cell_type": "markdown",
   "metadata": {},
   "source": [
    "Usually, the tree complexity is measured by one of the following metrics: the number of nodes, the number of leaves, tree depth and attributes used. It is a little bit complicated to tune [all hyperparameters in decision tree](https://towardsdatascience.com/how-to-tune-a-decision-tree-f03721801680). Here we only experiment criterion and max_depth"
   ]
  },
  {
   "cell_type": "code",
   "execution_count": 59,
   "metadata": {},
   "outputs": [],
   "source": [
    "from sklearn.tree import DecisionTreeClassifier, export_graphviz\n",
    "import graphviz \n",
    "param_grid = {'criterion': ['gini', 'entropy'], 'max_depth':[3, 5]}"
   ]
  },
  {
   "cell_type": "code",
   "execution_count": 60,
   "metadata": {},
   "outputs": [],
   "source": [
    "def tree_optimization(cri, max_d):\n",
    "    model = DecisionTreeClassifier(criterion=cri, max_depth = max_d, random_state = 42)\n",
    "    model.fit(X_train_scaled, y_train)\n",
    "    y_pred=model.predict(X_test_scaled)\n",
    "    Accuracy=np.round(metrics.accuracy_score(y_test, y_pred),2)\n",
    "    Precision=np.round(metrics.precision_score(y_test, y_pred),2)\n",
    "    Recall=np.round(metrics.recall_score(y_test, y_pred),2)\n",
    "    return cri, max_d, Accuracy, Precision, Recall"
   ]
  },
  {
   "cell_type": "code",
   "execution_count": 61,
   "metadata": {},
   "outputs": [
    {
     "data": {
      "text/plain": [
       "('gini', 3, 0.82, 0.66, 0.36)"
      ]
     },
     "execution_count": 61,
     "metadata": {},
     "output_type": "execute_result"
    }
   ],
   "source": [
    "tree_optimization('gini', 3)"
   ]
  },
  {
   "cell_type": "code",
   "execution_count": 62,
   "metadata": {},
   "outputs": [
    {
     "data": {
      "text/plain": [
       "('gini', 5, 0.82, 0.66, 0.34)"
      ]
     },
     "execution_count": 62,
     "metadata": {},
     "output_type": "execute_result"
    }
   ],
   "source": [
    "tree_optimization('gini', 5)"
   ]
  },
  {
   "cell_type": "code",
   "execution_count": 63,
   "metadata": {},
   "outputs": [
    {
     "data": {
      "text/plain": [
       "('entropy', 3, 0.82, 0.66, 0.36)"
      ]
     },
     "execution_count": 63,
     "metadata": {},
     "output_type": "execute_result"
    }
   ],
   "source": [
    "tree_optimization('entropy', 3)"
   ]
  },
  {
   "cell_type": "code",
   "execution_count": 64,
   "metadata": {},
   "outputs": [
    {
     "data": {
      "text/plain": [
       "('entropy', 5, 0.82, 0.67, 0.35)"
      ]
     },
     "execution_count": 64,
     "metadata": {},
     "output_type": "execute_result"
    }
   ],
   "source": [
    "tree_optimization('entropy', 5)"
   ]
  },
  {
   "cell_type": "code",
   "execution_count": 65,
   "metadata": {},
   "outputs": [
    {
     "data": {
      "text/plain": [
       "Text(0.5, 15.0, 'Predicted label')"
      ]
     },
     "execution_count": 65,
     "metadata": {},
     "output_type": "execute_result"
    },
    {
     "data": {
      "image/png": "[encoded data removed]",
      "text/plain": [
       "<Figure size 432x288 with 2 Axes>"
      ]
     },
     "metadata": {
      "needs_background": "light"
     },
     "output_type": "display_data"
    }
   ],
   "source": [
    "#These models gave us similar results. We will use gini with max_depth=3 to check our decision tree model.\n",
    "model = DecisionTreeClassifier(criterion='gini', max_depth = 3, random_state = 42)\n",
    "model.fit(X_train_scaled, y_train)\n",
    "y_pred=model.predict(X_test_scaled)\n",
    "y_pred_proba = model.predict_proba(X_test_scaled)[::,1]\n",
    "cnf_matrix = metrics.confusion_matrix(y_test, y_pred)\n",
    "sns.heatmap(pd.DataFrame(cnf_matrix), annot=True, cmap=\"YlGnBu\" ,fmt='g')\n",
    "plt.tight_layout()\n",
    "plt.title('Confusion matrix')\n",
    "plt.ylabel('Actual label')\n",
    "plt.xlabel('Predicted label')"
   ]
  },
  {
   "cell_type": "code",
   "execution_count": 66,
   "metadata": {},
   "outputs": [
    {
     "name": "stdout",
     "output_type": "stream",
     "text": [
      "Accuracy: 0.8173333333333334\n",
      "Precision: 0.6613953488372093\n",
      "Recall: 0.3571069814163737\n"
     ]
    }
   ],
   "source": [
    "print(\"Accuracy:\",metrics.accuracy_score(y_test, y_pred))\n",
    "print(\"Precision:\",metrics.precision_score(y_test, y_pred))\n",
    "print(\"Recall:\",metrics.recall_score(y_test, y_pred))"
   ]
  },
  {
   "cell_type": "code",
   "execution_count": 67,
   "metadata": {},
   "outputs": [
    {
     "data": {
      "text/plain": [
       "<matplotlib.legend.Legend at 0x22841d7cc40>"
      ]
     },
     "execution_count": 67,
     "metadata": {},
     "output_type": "execute_result"
    },
    {
     "data": {
      "image/png": "[encoded data removed]",
      "text/plain": [
       "<Figure size 432x288 with 1 Axes>"
      ]
     },
     "metadata": {
      "needs_background": "light"
     },
     "output_type": "display_data"
    }
   ],
   "source": [
    "fpr, tpr, _ = metrics.roc_curve(y_test,  y_pred_proba)\n",
    "auc = metrics.roc_auc_score(y_test, y_pred_proba)\n",
    "plt.plot(fpr,tpr,label=\"data 1, auc=\"+str(auc))\n",
    "plt.legend(loc=4)"
   ]
  },
  {
   "cell_type": "code",
   "execution_count": 68,
   "metadata": {},
   "outputs": [
    {
     "data": {
      "image/svg+xml": [
       "<?xml version=\"1.0\" encoding=\"UTF-8\" standalone=\"no\"?>\r\n",
       "<!DOCTYPE svg PUBLIC \"-//W3C//DTD SVG 1.1//EN\"\r\n",
       " \"http://www.w3.org/Graphics/SVG/1.1/DTD/svg11.dtd\">\r\n",
       "<!-- Generated by graphviz version 2.46.0 (20210118.1747)\r\n",
       " -->\r\n",
       "<!-- Title: Tree Pages: 1 -->\r\n",
       "<svg width=\"1159pt\" height=\"373pt\"\r\n",
       " viewBox=\"0.00 0.00 1158.50 373.00\" xmlns=\"http://www.w3.org/2000/svg\" xmlns:xlink=\"http://www.w3.org/1999/xlink\">\r\n",
       "<g id=\"graph0\" class=\"graph\" transform=\"scale(1 1) rotate(0) translate(4 369)\">\r\n",
       "<title>Tree</title>\r\n",
       "<polygon fill=\"white\" stroke=\"transparent\" points=\"-4,4 -4,-369 1154.5,-369 1154.5,4 -4,4\"/>\r\n",
       "<!-- 0 -->\r\n",
       "<g id=\"node1\" class=\"node\">\r\n",
       "<title>0</title>\r\n",
       "<path fill=\"#eca571\" stroke=\"black\" d=\"M665.5,-365C665.5,-365 534.5,-365 534.5,-365 528.5,-365 522.5,-359 522.5,-353 522.5,-353 522.5,-309 522.5,-309 522.5,-303 528.5,-297 534.5,-297 534.5,-297 665.5,-297 665.5,-297 671.5,-297 677.5,-303 677.5,-309 677.5,-309 677.5,-353 677.5,-353 677.5,-359 671.5,-365 665.5,-365\"/>\r\n",
       "<text text-anchor=\"start\" x=\"551.5\" y=\"-349.8\" font-family=\"Helvetica,sans-Serif\" font-size=\"14.00\">PAY_1 ≤ 1.349</text>\r\n",
       "<text text-anchor=\"start\" x=\"562.5\" y=\"-334.8\" font-family=\"Helvetica,sans-Serif\" font-size=\"14.00\">gini = 0.345</text>\r\n",
       "<text text-anchor=\"start\" x=\"544\" y=\"-319.8\" font-family=\"Helvetica,sans-Serif\" font-size=\"14.00\">samples = 21000</text>\r\n",
       "<text text-anchor=\"start\" x=\"530.5\" y=\"-304.8\" font-family=\"Helvetica,sans-Serif\" font-size=\"14.00\">value = [16355, 4645]</text>\r\n",
       "</g>\r\n",
       "<!-- 1 -->\r\n",
       "<g id=\"node2\" class=\"node\">\r\n",
       "<title>1</title>\r\n",
       "<path fill=\"#ea9a60\" stroke=\"black\" d=\"M521.5,-261C521.5,-261 390.5,-261 390.5,-261 384.5,-261 378.5,-255 378.5,-249 378.5,-249 378.5,-205 378.5,-205 378.5,-199 384.5,-193 390.5,-193 390.5,-193 521.5,-193 521.5,-193 527.5,-193 533.5,-199 533.5,-205 533.5,-205 533.5,-249 533.5,-249 533.5,-255 527.5,-261 521.5,-261\"/>\r\n",
       "<text text-anchor=\"start\" x=\"407.5\" y=\"-245.8\" font-family=\"Helvetica,sans-Serif\" font-size=\"14.00\">PAY_2 ≤ 1.362</text>\r\n",
       "<text text-anchor=\"start\" x=\"418.5\" y=\"-230.8\" font-family=\"Helvetica,sans-Serif\" font-size=\"14.00\">gini = 0.276</text>\r\n",
       "<text text-anchor=\"start\" x=\"400\" y=\"-215.8\" font-family=\"Helvetica,sans-Serif\" font-size=\"14.00\">samples = 18805</text>\r\n",
       "<text text-anchor=\"start\" x=\"386.5\" y=\"-200.8\" font-family=\"Helvetica,sans-Serif\" font-size=\"14.00\">value = [15692, 3113]</text>\r\n",
       "</g>\r\n",
       "<!-- 0&#45;&gt;1 -->\r\n",
       "<g id=\"edge1\" class=\"edge\">\r\n",
       "<title>0&#45;&gt;1</title>\r\n",
       "<path fill=\"none\" stroke=\"black\" d=\"M553.25,-296.88C539.92,-287.44 525.27,-277.06 511.47,-267.29\"/>\r\n",
       "<polygon fill=\"black\" stroke=\"black\" points=\"513.19,-264.22 503.01,-261.3 509.15,-269.94 513.19,-264.22\"/>\r\n",
       "<text text-anchor=\"middle\" x=\"507.22\" y=\"-282.24\" font-family=\"Helvetica,sans-Serif\" font-size=\"14.00\">True</text>\r\n",
       "</g>\r\n",
       "<!-- 8 -->\r\n",
       "<g id=\"node9\" class=\"node\">\r\n",
       "<title>8</title>\r\n",
       "<path fill=\"#8fc7f0\" stroke=\"black\" d=\"M788,-261C788,-261 674,-261 674,-261 668,-261 662,-255 662,-249 662,-249 662,-205 662,-205 662,-199 668,-193 674,-193 674,-193 788,-193 788,-193 794,-193 800,-199 800,-205 800,-205 800,-249 800,-249 800,-255 794,-261 788,-261\"/>\r\n",
       "<text text-anchor=\"start\" x=\"684\" y=\"-245.8\" font-family=\"Helvetica,sans-Serif\" font-size=\"14.00\">PAY_3 ≤ &#45;0.28</text>\r\n",
       "<text text-anchor=\"start\" x=\"693.5\" y=\"-230.8\" font-family=\"Helvetica,sans-Serif\" font-size=\"14.00\">gini = 0.422</text>\r\n",
       "<text text-anchor=\"start\" x=\"679.5\" y=\"-215.8\" font-family=\"Helvetica,sans-Serif\" font-size=\"14.00\">samples = 2195</text>\r\n",
       "<text text-anchor=\"start\" x=\"670\" y=\"-200.8\" font-family=\"Helvetica,sans-Serif\" font-size=\"14.00\">value = [663, 1532]</text>\r\n",
       "</g>\r\n",
       "<!-- 0&#45;&gt;8 -->\r\n",
       "<g id=\"edge8\" class=\"edge\">\r\n",
       "<title>0&#45;&gt;8</title>\r\n",
       "<path fill=\"none\" stroke=\"black\" d=\"M642.53,-296.88C654.54,-287.53 667.74,-277.26 680.18,-267.57\"/>\r\n",
       "<polygon fill=\"black\" stroke=\"black\" points=\"682.49,-270.2 688.23,-261.3 678.19,-264.68 682.49,-270.2\"/>\r\n",
       "<text text-anchor=\"middle\" x=\"685.15\" y=\"-282.41\" font-family=\"Helvetica,sans-Serif\" font-size=\"14.00\">False</text>\r\n",
       "</g>\r\n",
       "<!-- 2 -->\r\n",
       "<g id=\"node3\" class=\"node\">\r\n",
       "<title>2</title>\r\n",
       "<path fill=\"#e9965a\" stroke=\"black\" d=\"M299.5,-157C299.5,-157 168.5,-157 168.5,-157 162.5,-157 156.5,-151 156.5,-145 156.5,-145 156.5,-101 156.5,-101 156.5,-95 162.5,-89 168.5,-89 168.5,-89 299.5,-89 299.5,-89 305.5,-89 311.5,-95 311.5,-101 311.5,-101 311.5,-145 311.5,-145 311.5,-151 305.5,-157 299.5,-157\"/>\r\n",
       "<text text-anchor=\"start\" x=\"172\" y=\"-141.8\" font-family=\"Helvetica,sans-Serif\" font-size=\"14.00\">PAY_AMT3 ≤ &#45;0.26</text>\r\n",
       "<text text-anchor=\"start\" x=\"196.5\" y=\"-126.8\" font-family=\"Helvetica,sans-Serif\" font-size=\"14.00\">gini = 0.243</text>\r\n",
       "<text text-anchor=\"start\" x=\"178\" y=\"-111.8\" font-family=\"Helvetica,sans-Serif\" font-size=\"14.00\">samples = 17209</text>\r\n",
       "<text text-anchor=\"start\" x=\"164.5\" y=\"-96.8\" font-family=\"Helvetica,sans-Serif\" font-size=\"14.00\">value = [14769, 2440]</text>\r\n",
       "</g>\r\n",
       "<!-- 1&#45;&gt;2 -->\r\n",
       "<g id=\"edge2\" class=\"edge\">\r\n",
       "<title>1&#45;&gt;2</title>\r\n",
       "<path fill=\"none\" stroke=\"black\" d=\"M383.92,-192.88C362,-182.81 337.76,-171.67 315.28,-161.34\"/>\r\n",
       "<polygon fill=\"black\" stroke=\"black\" points=\"316.64,-158.12 306.1,-157.12 313.72,-164.48 316.64,-158.12\"/>\r\n",
       "</g>\r\n",
       "<!-- 5 -->\r\n",
       "<g id=\"node6\" class=\"node\">\r\n",
       "<title>5</title>\r\n",
       "<path fill=\"#f8ddc9\" stroke=\"black\" d=\"M509,-157C509,-157 403,-157 403,-157 397,-157 391,-151 391,-145 391,-145 391,-101 391,-101 391,-95 397,-89 403,-89 403,-89 509,-89 509,-89 515,-89 521,-95 521,-101 521,-101 521,-145 521,-145 521,-151 515,-157 509,-157\"/>\r\n",
       "<text text-anchor=\"start\" x=\"407.5\" y=\"-141.8\" font-family=\"Helvetica,sans-Serif\" font-size=\"14.00\">PAY_6 ≤ 1.127</text>\r\n",
       "<text text-anchor=\"start\" x=\"418.5\" y=\"-126.8\" font-family=\"Helvetica,sans-Serif\" font-size=\"14.00\">gini = 0.488</text>\r\n",
       "<text text-anchor=\"start\" x=\"404.5\" y=\"-111.8\" font-family=\"Helvetica,sans-Serif\" font-size=\"14.00\">samples = 1596</text>\r\n",
       "<text text-anchor=\"start\" x=\"399\" y=\"-96.8\" font-family=\"Helvetica,sans-Serif\" font-size=\"14.00\">value = [923, 673]</text>\r\n",
       "</g>\r\n",
       "<!-- 1&#45;&gt;5 -->\r\n",
       "<g id=\"edge5\" class=\"edge\">\r\n",
       "<title>1&#45;&gt;5</title>\r\n",
       "<path fill=\"none\" stroke=\"black\" d=\"M456,-192.88C456,-184.78 456,-175.98 456,-167.47\"/>\r\n",
       "<polygon fill=\"black\" stroke=\"black\" points=\"459.5,-167.3 456,-157.3 452.5,-167.3 459.5,-167.3\"/>\r\n",
       "</g>\r\n",
       "<!-- 3 -->\r\n",
       "<g id=\"node4\" class=\"node\">\r\n",
       "<title>3</title>\r\n",
       "<path fill=\"#eca470\" stroke=\"black\" d=\"M126,-53C126,-53 12,-53 12,-53 6,-53 0,-47 0,-41 0,-41 0,-12 0,-12 0,-6 6,0 12,0 12,0 126,0 126,0 132,0 138,-6 138,-12 138,-12 138,-41 138,-41 138,-47 132,-53 126,-53\"/>\r\n",
       "<text text-anchor=\"start\" x=\"31.5\" y=\"-37.8\" font-family=\"Helvetica,sans-Serif\" font-size=\"14.00\">gini = 0.339</text>\r\n",
       "<text text-anchor=\"start\" x=\"17.5\" y=\"-22.8\" font-family=\"Helvetica,sans-Serif\" font-size=\"14.00\">samples = 4516</text>\r\n",
       "<text text-anchor=\"start\" x=\"8\" y=\"-7.8\" font-family=\"Helvetica,sans-Serif\" font-size=\"14.00\">value = [3540, 976]</text>\r\n",
       "</g>\r\n",
       "<!-- 2&#45;&gt;3 -->\r\n",
       "<g id=\"edge3\" class=\"edge\">\r\n",
       "<title>2&#45;&gt;3</title>\r\n",
       "<path fill=\"none\" stroke=\"black\" d=\"M176.29,-88.95C158.8,-78.93 139.67,-67.98 122.47,-58.13\"/>\r\n",
       "<polygon fill=\"black\" stroke=\"black\" points=\"124.09,-55.02 113.68,-53.09 120.61,-61.09 124.09,-55.02\"/>\r\n",
       "</g>\r\n",
       "<!-- 4 -->\r\n",
       "<g id=\"node5\" class=\"node\">\r\n",
       "<title>4</title>\r\n",
       "<path fill=\"#e89153\" stroke=\"black\" d=\"M299.5,-53C299.5,-53 168.5,-53 168.5,-53 162.5,-53 156.5,-47 156.5,-41 156.5,-41 156.5,-12 156.5,-12 156.5,-6 162.5,0 168.5,0 168.5,0 299.5,0 299.5,0 305.5,0 311.5,-6 311.5,-12 311.5,-12 311.5,-41 311.5,-41 311.5,-47 305.5,-53 299.5,-53\"/>\r\n",
       "<text text-anchor=\"start\" x=\"196.5\" y=\"-37.8\" font-family=\"Helvetica,sans-Serif\" font-size=\"14.00\">gini = 0.204</text>\r\n",
       "<text text-anchor=\"start\" x=\"178\" y=\"-22.8\" font-family=\"Helvetica,sans-Serif\" font-size=\"14.00\">samples = 12693</text>\r\n",
       "<text text-anchor=\"start\" x=\"164.5\" y=\"-7.8\" font-family=\"Helvetica,sans-Serif\" font-size=\"14.00\">value = [11229, 1464]</text>\r\n",
       "</g>\r\n",
       "<!-- 2&#45;&gt;4 -->\r\n",
       "<g id=\"edge4\" class=\"edge\">\r\n",
       "<title>2&#45;&gt;4</title>\r\n",
       "<path fill=\"none\" stroke=\"black\" d=\"M234,-88.95C234,-80.72 234,-71.85 234,-63.48\"/>\r\n",
       "<polygon fill=\"black\" stroke=\"black\" points=\"237.5,-63.24 234,-53.24 230.5,-63.24 237.5,-63.24\"/>\r\n",
       "</g>\r\n",
       "<!-- 6 -->\r\n",
       "<g id=\"node7\" class=\"node\">\r\n",
       "<title>6</title>\r\n",
       "<path fill=\"#f4cbad\" stroke=\"black\" d=\"M448,-53C448,-53 342,-53 342,-53 336,-53 330,-47 330,-41 330,-41 330,-12 330,-12 330,-6 336,0 342,0 342,0 448,0 448,0 454,0 460,-6 460,-12 460,-12 460,-41 460,-41 460,-47 454,-53 448,-53\"/>\r\n",
       "<text text-anchor=\"start\" x=\"357.5\" y=\"-37.8\" font-family=\"Helvetica,sans-Serif\" font-size=\"14.00\">gini = 0.466</text>\r\n",
       "<text text-anchor=\"start\" x=\"343.5\" y=\"-22.8\" font-family=\"Helvetica,sans-Serif\" font-size=\"14.00\">samples = 1122</text>\r\n",
       "<text text-anchor=\"start\" x=\"338\" y=\"-7.8\" font-family=\"Helvetica,sans-Serif\" font-size=\"14.00\">value = [707, 415]</text>\r\n",
       "</g>\r\n",
       "<!-- 5&#45;&gt;6 -->\r\n",
       "<g id=\"edge6\" class=\"edge\">\r\n",
       "<title>5&#45;&gt;6</title>\r\n",
       "<path fill=\"none\" stroke=\"black\" d=\"M434.67,-88.95C429,-80.17 422.86,-70.66 417.15,-61.82\"/>\r\n",
       "<polygon fill=\"black\" stroke=\"black\" points=\"419.98,-59.74 411.61,-53.24 414.1,-63.54 419.98,-59.74\"/>\r\n",
       "</g>\r\n",
       "<!-- 7 -->\r\n",
       "<g id=\"node8\" class=\"node\">\r\n",
       "<title>7</title>\r\n",
       "<path fill=\"#dfeffb\" stroke=\"black\" d=\"M596,-53C596,-53 490,-53 490,-53 484,-53 478,-47 478,-41 478,-41 478,-12 478,-12 478,-6 484,0 490,0 490,0 596,0 596,0 602,0 608,-6 608,-12 608,-12 608,-41 608,-41 608,-47 602,-53 596,-53\"/>\r\n",
       "<text text-anchor=\"start\" x=\"505.5\" y=\"-37.8\" font-family=\"Helvetica,sans-Serif\" font-size=\"14.00\">gini = 0.496</text>\r\n",
       "<text text-anchor=\"start\" x=\"495.5\" y=\"-22.8\" font-family=\"Helvetica,sans-Serif\" font-size=\"14.00\">samples = 474</text>\r\n",
       "<text text-anchor=\"start\" x=\"486\" y=\"-7.8\" font-family=\"Helvetica,sans-Serif\" font-size=\"14.00\">value = [216, 258]</text>\r\n",
       "</g>\r\n",
       "<!-- 5&#45;&gt;7 -->\r\n",
       "<g id=\"edge7\" class=\"edge\">\r\n",
       "<title>5&#45;&gt;7</title>\r\n",
       "<path fill=\"none\" stroke=\"black\" d=\"M486.43,-88.95C494.85,-79.8 503.99,-69.87 512.42,-60.71\"/>\r\n",
       "<polygon fill=\"black\" stroke=\"black\" points=\"515.11,-62.96 519.31,-53.24 509.96,-58.22 515.11,-62.96\"/>\r\n",
       "</g>\r\n",
       "<!-- 9 -->\r\n",
       "<g id=\"node10\" class=\"node\">\r\n",
       "<title>9</title>\r\n",
       "<path fill=\"#f8decb\" stroke=\"black\" d=\"M794,-157C794,-157 668,-157 668,-157 662,-157 656,-151 656,-145 656,-145 656,-101 656,-101 656,-95 662,-89 668,-89 668,-89 794,-89 794,-89 800,-89 806,-95 806,-101 806,-101 806,-145 806,-145 806,-151 800,-157 794,-157\"/>\r\n",
       "<text text-anchor=\"start\" x=\"664\" y=\"-141.8\" font-family=\"Helvetica,sans-Serif\" font-size=\"14.00\">BILL_AMT5 ≤ &#45;0.658</text>\r\n",
       "<text text-anchor=\"start\" x=\"693.5\" y=\"-126.8\" font-family=\"Helvetica,sans-Serif\" font-size=\"14.00\">gini = 0.489</text>\r\n",
       "<text text-anchor=\"start\" x=\"683.5\" y=\"-111.8\" font-family=\"Helvetica,sans-Serif\" font-size=\"14.00\">samples = 139</text>\r\n",
       "<text text-anchor=\"start\" x=\"682.5\" y=\"-96.8\" font-family=\"Helvetica,sans-Serif\" font-size=\"14.00\">value = [80, 59]</text>\r\n",
       "</g>\r\n",
       "<!-- 8&#45;&gt;9 -->\r\n",
       "<g id=\"edge9\" class=\"edge\">\r\n",
       "<title>8&#45;&gt;9</title>\r\n",
       "<path fill=\"none\" stroke=\"black\" d=\"M731,-192.88C731,-184.78 731,-175.98 731,-167.47\"/>\r\n",
       "<polygon fill=\"black\" stroke=\"black\" points=\"734.5,-167.3 731,-157.3 727.5,-167.3 734.5,-167.3\"/>\r\n",
       "</g>\r\n",
       "<!-- 12 -->\r\n",
       "<g id=\"node13\" class=\"node\">\r\n",
       "<title>12</title>\r\n",
       "<path fill=\"#87c4ef\" stroke=\"black\" d=\"M1031,-157C1031,-157 885,-157 885,-157 879,-157 873,-151 873,-145 873,-145 873,-101 873,-101 873,-95 879,-89 885,-89 885,-89 1031,-89 1031,-89 1037,-89 1043,-95 1043,-101 1043,-101 1043,-145 1043,-145 1043,-151 1037,-157 1031,-157\"/>\r\n",
       "<text text-anchor=\"start\" x=\"881\" y=\"-141.8\" font-family=\"Helvetica,sans-Serif\" font-size=\"14.00\">EDUCATION_4 ≤ 3.787</text>\r\n",
       "<text text-anchor=\"start\" x=\"920.5\" y=\"-126.8\" font-family=\"Helvetica,sans-Serif\" font-size=\"14.00\">gini = 0.406</text>\r\n",
       "<text text-anchor=\"start\" x=\"906.5\" y=\"-111.8\" font-family=\"Helvetica,sans-Serif\" font-size=\"14.00\">samples = 2056</text>\r\n",
       "<text text-anchor=\"start\" x=\"897\" y=\"-96.8\" font-family=\"Helvetica,sans-Serif\" font-size=\"14.00\">value = [583, 1473]</text>\r\n",
       "</g>\r\n",
       "<!-- 8&#45;&gt;12 -->\r\n",
       "<g id=\"edge12\" class=\"edge\">\r\n",
       "<title>8&#45;&gt;12</title>\r\n",
       "<path fill=\"none\" stroke=\"black\" d=\"M800.03,-194.98C823.63,-184.38 850.27,-172.41 874.86,-161.36\"/>\r\n",
       "<polygon fill=\"black\" stroke=\"black\" points=\"876.48,-164.47 884.17,-157.17 873.61,-158.08 876.48,-164.47\"/>\r\n",
       "</g>\r\n",
       "<!-- 10 -->\r\n",
       "<g id=\"node11\" class=\"node\">\r\n",
       "<title>10</title>\r\n",
       "<path fill=\"#a8d4f4\" stroke=\"black\" d=\"M727.5,-53C727.5,-53 638.5,-53 638.5,-53 632.5,-53 626.5,-47 626.5,-41 626.5,-41 626.5,-12 626.5,-12 626.5,-6 632.5,0 638.5,0 638.5,0 727.5,0 727.5,0 733.5,0 739.5,-6 739.5,-12 739.5,-12 739.5,-41 739.5,-41 739.5,-47 733.5,-53 727.5,-53\"/>\r\n",
       "<text text-anchor=\"start\" x=\"649.5\" y=\"-37.8\" font-family=\"Helvetica,sans-Serif\" font-size=\"14.00\">gini = 0.46</text>\r\n",
       "<text text-anchor=\"start\" x=\"639.5\" y=\"-22.8\" font-family=\"Helvetica,sans-Serif\" font-size=\"14.00\">samples = 53</text>\r\n",
       "<text text-anchor=\"start\" x=\"634.5\" y=\"-7.8\" font-family=\"Helvetica,sans-Serif\" font-size=\"14.00\">value = [19, 34]</text>\r\n",
       "</g>\r\n",
       "<!-- 9&#45;&gt;10 -->\r\n",
       "<g id=\"edge10\" class=\"edge\">\r\n",
       "<title>9&#45;&gt;10</title>\r\n",
       "<path fill=\"none\" stroke=\"black\" d=\"M714.21,-88.95C709.84,-80.35 705.12,-71.06 700.71,-62.37\"/>\r\n",
       "<polygon fill=\"black\" stroke=\"black\" points=\"703.72,-60.57 696.07,-53.24 697.48,-63.74 703.72,-60.57\"/>\r\n",
       "</g>\r\n",
       "<!-- 11 -->\r\n",
       "<g id=\"node12\" class=\"node\">\r\n",
       "<title>11</title>\r\n",
       "<path fill=\"#f0b58a\" stroke=\"black\" d=\"M858.5,-53C858.5,-53 769.5,-53 769.5,-53 763.5,-53 757.5,-47 757.5,-41 757.5,-41 757.5,-12 757.5,-12 757.5,-6 763.5,0 769.5,0 769.5,0 858.5,0 858.5,0 864.5,0 870.5,-6 870.5,-12 870.5,-12 870.5,-41 870.5,-41 870.5,-47 864.5,-53 858.5,-53\"/>\r\n",
       "<text text-anchor=\"start\" x=\"776.5\" y=\"-37.8\" font-family=\"Helvetica,sans-Serif\" font-size=\"14.00\">gini = 0.412</text>\r\n",
       "<text text-anchor=\"start\" x=\"770.5\" y=\"-22.8\" font-family=\"Helvetica,sans-Serif\" font-size=\"14.00\">samples = 86</text>\r\n",
       "<text text-anchor=\"start\" x=\"765.5\" y=\"-7.8\" font-family=\"Helvetica,sans-Serif\" font-size=\"14.00\">value = [61, 25]</text>\r\n",
       "</g>\r\n",
       "<!-- 9&#45;&gt;11 -->\r\n",
       "<g id=\"edge11\" class=\"edge\">\r\n",
       "<title>9&#45;&gt;11</title>\r\n",
       "<path fill=\"none\" stroke=\"black\" d=\"M760.03,-88.95C767.98,-79.89 776.61,-70.07 784.59,-60.99\"/>\r\n",
       "<polygon fill=\"black\" stroke=\"black\" points=\"787.43,-63.06 791.4,-53.24 782.17,-58.44 787.43,-63.06\"/>\r\n",
       "</g>\r\n",
       "<!-- 13 -->\r\n",
       "<g id=\"node14\" class=\"node\">\r\n",
       "<title>13</title>\r\n",
       "<path fill=\"#86c3ef\" stroke=\"black\" d=\"M1015,-53C1015,-53 901,-53 901,-53 895,-53 889,-47 889,-41 889,-41 889,-12 889,-12 889,-6 895,0 901,0 901,0 1015,0 1015,0 1021,0 1027,-6 1027,-12 1027,-12 1027,-41 1027,-41 1027,-47 1021,-53 1015,-53\"/>\r\n",
       "<text text-anchor=\"start\" x=\"920.5\" y=\"-37.8\" font-family=\"Helvetica,sans-Serif\" font-size=\"14.00\">gini = 0.402</text>\r\n",
       "<text text-anchor=\"start\" x=\"906.5\" y=\"-22.8\" font-family=\"Helvetica,sans-Serif\" font-size=\"14.00\">samples = 2036</text>\r\n",
       "<text text-anchor=\"start\" x=\"897\" y=\"-7.8\" font-family=\"Helvetica,sans-Serif\" font-size=\"14.00\">value = [568, 1468]</text>\r\n",
       "</g>\r\n",
       "<!-- 12&#45;&gt;13 -->\r\n",
       "<g id=\"edge13\" class=\"edge\">\r\n",
       "<title>12&#45;&gt;13</title>\r\n",
       "<path fill=\"none\" stroke=\"black\" d=\"M958,-88.95C958,-80.72 958,-71.85 958,-63.48\"/>\r\n",
       "<polygon fill=\"black\" stroke=\"black\" points=\"961.5,-63.24 958,-53.24 954.5,-63.24 961.5,-63.24\"/>\r\n",
       "</g>\r\n",
       "<!-- 14 -->\r\n",
       "<g id=\"node15\" class=\"node\">\r\n",
       "<title>14</title>\r\n",
       "<path fill=\"#eeab7b\" stroke=\"black\" d=\"M1138.5,-53C1138.5,-53 1057.5,-53 1057.5,-53 1051.5,-53 1045.5,-47 1045.5,-41 1045.5,-41 1045.5,-12 1045.5,-12 1045.5,-6 1051.5,0 1057.5,0 1057.5,0 1138.5,0 1138.5,0 1144.5,0 1150.5,-6 1150.5,-12 1150.5,-12 1150.5,-41 1150.5,-41 1150.5,-47 1144.5,-53 1138.5,-53\"/>\r\n",
       "<text text-anchor=\"start\" x=\"1060.5\" y=\"-37.8\" font-family=\"Helvetica,sans-Serif\" font-size=\"14.00\">gini = 0.375</text>\r\n",
       "<text text-anchor=\"start\" x=\"1054.5\" y=\"-22.8\" font-family=\"Helvetica,sans-Serif\" font-size=\"14.00\">samples = 20</text>\r\n",
       "<text text-anchor=\"start\" x=\"1053.5\" y=\"-7.8\" font-family=\"Helvetica,sans-Serif\" font-size=\"14.00\">value = [15, 5]</text>\r\n",
       "</g>\r\n",
       "<!-- 12&#45;&gt;14 -->\r\n",
       "<g id=\"edge14\" class=\"edge\">\r\n",
       "<title>12&#45;&gt;14</title>\r\n",
       "<path fill=\"none\" stroke=\"black\" d=\"M1006.97,-88.95C1021.33,-79.25 1037,-68.68 1051.23,-59.07\"/>\r\n",
       "<polygon fill=\"black\" stroke=\"black\" points=\"1053.54,-61.73 1059.87,-53.24 1049.62,-55.93 1053.54,-61.73\"/>\r\n",
       "</g>\r\n",
       "</g>\r\n",
       "</svg>\r\n"
      ],
      "text/plain": [
       "<graphviz.files.Source at 0x22841b02c10>"
      ]
     },
     "execution_count": 68,
     "metadata": {},
     "output_type": "execute_result"
    }
   ],
   "source": [
    "#Let's check the importance of features in this model\n",
    "dot_data = export_graphviz(model, out_file = None, feature_names = X.columns, filled = True, rounded = True, special_characters=True)  \n",
    "graph = graphviz.Source(dot_data)  \n",
    "graph "
   ]
  },
  {
   "cell_type": "code",
   "execution_count": 69,
   "metadata": {},
   "outputs": [
    {
     "name": "stdout",
     "output_type": "stream",
     "text": [
      "{'LIMIT': 0.0, 'AGE': 0.0, 'PAY_4': 0.0, 'PAY_5': 0.0, 'BILL_AMT1': 0.0, 'BILL_AMT2': 0.0, 'BILL_AMT3': 0.0, 'BILL_AMT4': 0.0, 'BILL_AMT6': 0.0, 'PAY_AMT1': 0.0, 'PAY_AMT2': 0.0, 'PAY_AMT4': 0.0, 'PAY_AMT5': 0.0, 'PAY_AMT6': 0.0, 'MARRIAGE_1': 0.0, 'MARRIAGE_2': 0.0, 'MARRIAGE_3': 0.0, 'SEX_1': 0.0, 'SEX_2': 0.0, 'EDUCATION_1': 0.0, 'EDUCATION_2': 0.0, 'EDUCATION_3': 0.0, 'PAY_6': 0.01, 'BILL_AMT5': 0.01, 'EDUCATION_4': 0.01, 'PAY_3': 0.02, 'PAY_AMT3': 0.05, 'PAY_2': 0.16, 'PAY_1': 0.76}\n"
     ]
    }
   ],
   "source": [
    "fea_importance=dict(zip(X.columns, np.round(model.feature_importances_, 2)))\n",
    "sort_fea_importance={}\n",
    "sorted_keys = sorted(fea_importance, key=fea_importance.get)\n",
    "for i in sorted_keys:\n",
    "    sort_fea_importance[i]=fea_importance[i]\n",
    "print(sort_fea_importance)"
   ]
  },
  {
   "cell_type": "markdown",
   "metadata": {},
   "source": [
    "Based on the tree plot above and feature importance attribute, we can say PAY_1, PAY_2, PAY_AMT3, and PAY_3 are the most important features."
   ]
  },
  {
   "cell_type": "markdown",
   "metadata": {},
   "source": [
    "#### 3.1.2.3 random forest"
   ]
  },
  {
   "cell_type": "markdown",
   "metadata": {},
   "source": [
    "random forest = many decison trees + many bagging. Because random forest is an ensemble of desion trees, it has all the hyperparameters of DecisionTreeClassifier and BaggingClassifers. Also as an ensemble algorithms, random forest can greatly improve the accuracy of prediction compared with a SINGLE decision tree."
   ]
  },
  {
   "cell_type": "markdown",
   "metadata": {},
   "source": [
    "We will optimize the following hyperparameters in the random forest model: \n",
    "* n_estimators = number of trees in the random forest model\n",
    "* max_depth = max_depth in each decision tree"
   ]
  },
  {
   "cell_type": "code",
   "execution_count": 70,
   "metadata": {},
   "outputs": [
    {
     "name": "stdout",
     "output_type": "stream",
     "text": [
      "Fitting 5 folds for each of 10 candidates, totalling 50 fits\n"
     ]
    },
    {
     "name": "stderr",
     "output_type": "stream",
     "text": [
      "[Parallel(n_jobs=-1)]: Using backend LokyBackend with 4 concurrent workers.\n",
      "[Parallel(n_jobs=-1)]: Done  33 tasks      | elapsed:  1.2min\n",
      "[Parallel(n_jobs=-1)]: Done  50 out of  50 | elapsed:  1.3min finished\n"
     ]
    },
    {
     "name": "stdout",
     "output_type": "stream",
     "text": [
      "BEST PARAMS {'n_estimators': 200, 'max_depth': 9}\n",
      "Runtime of the program is 83.23094153404236\n"
     ]
    }
   ],
   "source": [
    "from sklearn.ensemble import RandomForestClassifier\n",
    "n_estimators=[int(x) for x in np.linspace(start = 50, stop = 500, num = 10)]\n",
    "max_depths=[int(x) for x in np.linspace(1, 10, num = 10)]\n",
    "param_grid = {'n_estimators': n_estimators, 'max_depth':max_depths}\n",
    "start=time.time()\n",
    "rf = RandomForestClassifier()\n",
    "rf_random = RandomizedSearchCV(estimator = rf, param_distributions=param_grid, cv = 5, verbose=2, random_state=42, n_jobs = -1)\n",
    "rf_random.fit(X_train_scaled, y_train)\n",
    "end=time.time()\n",
    "print(\"BEST PARAMS\", rf_random.best_params_)\n",
    "print(f\"Runtime of the program is {end - start}\")"
   ]
  },
  {
   "cell_type": "code",
   "execution_count": 71,
   "metadata": {},
   "outputs": [
    {
     "data": {
      "text/plain": [
       "Text(0.5, 15.0, 'Predicted label')"
      ]
     },
     "execution_count": 71,
     "metadata": {},
     "output_type": "execute_result"
    },
    {
     "data": {
      "image/png": "[encoded data removed]",
      "text/plain": [
       "<Figure size 432x288 with 2 Axes>"
      ]
     },
     "metadata": {
      "needs_background": "light"
     },
     "output_type": "display_data"
    }
   ],
   "source": [
    "best_rf=rf_random.best_estimator_\n",
    "y_pred=best_rf.predict(X_test_scaled)\n",
    "cnf_matrix = metrics.confusion_matrix(y_test, y_pred)\n",
    "sns.heatmap(pd.DataFrame(cnf_matrix), annot=True, cmap=\"YlGnBu\" ,fmt='g')\n",
    "plt.tight_layout()\n",
    "plt.title('Confusion matrix')\n",
    "plt.ylabel('Actual label')\n",
    "plt.xlabel('Predicted label')"
   ]
  },
  {
   "cell_type": "code",
   "execution_count": 72,
   "metadata": {},
   "outputs": [
    {
     "name": "stdout",
     "output_type": "stream",
     "text": [
      "Accuracy: 0.8164444444444444\n",
      "Precision: 0.6713852376137512\n",
      "Recall: 0.33350075339025614\n"
     ]
    }
   ],
   "source": [
    "print(\"Accuracy:\",metrics.accuracy_score(y_test, y_pred))\n",
    "print(\"Precision:\",metrics.precision_score(y_test, y_pred))\n",
    "print(\"Recall:\",metrics.recall_score(y_test, y_pred))"
   ]
  },
  {
   "cell_type": "code",
   "execution_count": 73,
   "metadata": {},
   "outputs": [
    {
     "data": {
      "text/plain": [
       "<matplotlib.legend.Legend at 0x2283e4ca2e0>"
      ]
     },
     "execution_count": 73,
     "metadata": {},
     "output_type": "execute_result"
    },
    {
     "data": {
      "image/png": "[encoded data removed]",
      "text/plain": [
       "<Figure size 432x288 with 1 Axes>"
      ]
     },
     "metadata": {
      "needs_background": "light"
     },
     "output_type": "display_data"
    }
   ],
   "source": [
    "y_pred_proba = best_rf.predict_proba(X_test_scaled)[::,1]\n",
    "fpr, tpr, _ = metrics.roc_curve(y_test,  y_pred_proba)\n",
    "auc = metrics.roc_auc_score(y_test, y_pred_proba)\n",
    "plt.plot(fpr,tpr,label=\"data 1, auc=\"+str(auc))\n",
    "plt.legend(loc=4)"
   ]
  },
  {
   "cell_type": "code",
   "execution_count": 74,
   "metadata": {},
   "outputs": [
    {
     "name": "stdout",
     "output_type": "stream",
     "text": [
      "{'MARRIAGE_1': 0.0, 'MARRIAGE_2': 0.0, 'MARRIAGE_3': 0.0, 'SEX_1': 0.0, 'SEX_2': 0.0, 'EDUCATION_1': 0.0, 'EDUCATION_2': 0.0, 'EDUCATION_3': 0.0, 'EDUCATION_4': 0.0, 'AGE': 0.02, 'BILL_AMT3': 0.02, 'BILL_AMT4': 0.02, 'BILL_AMT5': 0.02, 'BILL_AMT6': 0.02, 'PAY_AMT4': 0.02, 'PAY_AMT5': 0.02, 'PAY_AMT6': 0.02, 'BILL_AMT1': 0.03, 'BILL_AMT2': 0.03, 'PAY_AMT2': 0.03, 'PAY_AMT3': 0.03, 'LIMIT': 0.04, 'PAY_6': 0.04, 'PAY_AMT1': 0.04, 'PAY_5': 0.05, 'PAY_4': 0.06, 'PAY_3': 0.08, 'PAY_2': 0.12, 'PAY_1': 0.27}\n"
     ]
    }
   ],
   "source": [
    "fea_importance=dict(zip(X.columns, np.round(best_rf.feature_importances_, 2)))\n",
    "sort_fea_importance={}\n",
    "sorted_keys = sorted(fea_importance, key=fea_importance.get)\n",
    "for i in sorted_keys:\n",
    "    sort_fea_importance[i]=fea_importance[i]\n",
    "print(sort_fea_importance)"
   ]
  },
  {
   "cell_type": "markdown",
   "metadata": {},
   "source": [
    "The top 5 important features are PAY_1, PAY_2, PAY_3, PAY_4 and PAY_5."
   ]
  },
  {
   "cell_type": "markdown",
   "metadata": {},
   "source": [
    "#### 3.1.2.4 gradient boosting"
   ]
  },
  {
   "cell_type": "markdown",
   "metadata": {},
   "source": [
    "gradient boosting = decision tree + boosting. Just like random forest, [the parameters of gradient boosting](https://www.analyticsvidhya.com/blog/2016/02/complete-guide-parameter-tuning-gradient-boosting-gbm-python/) includes both decision tree specific parameters and boosting parameters. Compared with random forest, gradient boosting not only controls for high variance in a model, but also control the bias. Therefore, it is regarded as a more effective algorithms. The disadvantage of this algorithms is its time-consuming.\n",
    "\n",
    "We choose three important hyperparameters to tune this model:\n",
    "* learning_rate\n",
    "* n_estimator\n",
    "* max_depth"
   ]
  },
  {
   "cell_type": "code",
   "execution_count": 75,
   "metadata": {},
   "outputs": [
    {
     "name": "stdout",
     "output_type": "stream",
     "text": [
      "Fitting 5 folds for each of 10 candidates, totalling 50 fits\n"
     ]
    },
    {
     "name": "stderr",
     "output_type": "stream",
     "text": [
      "[Parallel(n_jobs=-1)]: Using backend LokyBackend with 4 concurrent workers.\n",
      "[Parallel(n_jobs=-1)]: Done  33 tasks      | elapsed:  7.7min\n",
      "[Parallel(n_jobs=-1)]: Done  50 out of  50 | elapsed: 16.4min finished\n"
     ]
    },
    {
     "name": "stdout",
     "output_type": "stream",
     "text": [
      "BEST PARAMS {'n_estimators': 50, 'max_depth': 2, 'learning_rate': 0.1}\n",
      "Runtime of the program is 988.605076789856\n"
     ]
    }
   ],
   "source": [
    "from sklearn.ensemble import GradientBoostingClassifier\n",
    "gbm = GradientBoostingClassifier()\n",
    "n_estimators=[int(x) for x in np.linspace(start = 50, stop = 500, num = 10)]\n",
    "max_depths=[int(x) for x in np.linspace(1, 10, num = 10)]\n",
    "learning_rates = [0.05, 0.1, 0.25, 0.5, 0.75, 1]\n",
    "start=time.time()\n",
    "param_grid = {'n_estimators': n_estimators, 'max_depth':max_depths, 'learning_rate': learning_rates}\n",
    "gbm_random = RandomizedSearchCV(estimator = gbm, param_distributions=param_grid, cv = 5, verbose=2, random_state=42, n_jobs = -1)\n",
    "gbm_random.fit(X_train_scaled, y_train)\n",
    "end=time.time()\n",
    "print(\"BEST PARAMS\", gbm_random.best_params_)\n",
    "print(f\"Runtime of the program is {end - start}\")"
   ]
  },
  {
   "cell_type": "code",
   "execution_count": 76,
   "metadata": {},
   "outputs": [
    {
     "data": {
      "text/plain": [
       "Text(0.5, 15.0, 'Predicted label')"
      ]
     },
     "execution_count": 76,
     "metadata": {},
     "output_type": "execute_result"
    },
    {
     "data": {
      "image/png": "[encoded data removed]",
      "text/plain": [
       "<Figure size 432x288 with 2 Axes>"
      ]
     },
     "metadata": {
      "needs_background": "light"
     },
     "output_type": "display_data"
    }
   ],
   "source": [
    "best_gbm=gbm_random.best_estimator_\n",
    "y_pred=best_gbm.predict(X_test_scaled)\n",
    "cnf_matrix = metrics.confusion_matrix(y_test, y_pred)\n",
    "sns.heatmap(pd.DataFrame(cnf_matrix), annot=True, cmap=\"YlGnBu\" ,fmt='g')\n",
    "plt.tight_layout()\n",
    "plt.title('Confusion matrix')\n",
    "plt.ylabel('Actual label')\n",
    "plt.xlabel('Predicted label')"
   ]
  },
  {
   "cell_type": "code",
   "execution_count": 77,
   "metadata": {},
   "outputs": [
    {
     "name": "stdout",
     "output_type": "stream",
     "text": [
      "Accuracy: 0.8187777777777778\n",
      "Precision: 0.6754385964912281\n",
      "Recall: 0.34806629834254144\n"
     ]
    }
   ],
   "source": [
    "print(\"Accuracy:\",metrics.accuracy_score(y_test, y_pred))\n",
    "print(\"Precision:\",metrics.precision_score(y_test, y_pred))\n",
    "print(\"Recall:\",metrics.recall_score(y_test, y_pred))"
   ]
  },
  {
   "cell_type": "code",
   "execution_count": 78,
   "metadata": {},
   "outputs": [
    {
     "data": {
      "text/plain": [
       "<matplotlib.legend.Legend at 0x2283facecd0>"
      ]
     },
     "execution_count": 78,
     "metadata": {},
     "output_type": "execute_result"
    },
    {
     "data": {
      "image/png": "[encoded data removed]",
      "text/plain": [
       "<Figure size 432x288 with 1 Axes>"
      ]
     },
     "metadata": {
      "needs_background": "light"
     },
     "output_type": "display_data"
    }
   ],
   "source": [
    "y_pred_proba = best_gbm.predict_proba(X_test_scaled)[::,1]\n",
    "fpr, tpr, _ = metrics.roc_curve(y_test,  y_pred_proba)\n",
    "auc = metrics.roc_auc_score(y_test, y_pred_proba)\n",
    "plt.plot(fpr,tpr,label=\"data 1, auc=\"+str(auc))\n",
    "plt.legend(loc=4)"
   ]
  },
  {
   "cell_type": "code",
   "execution_count": 79,
   "metadata": {},
   "outputs": [
    {
     "name": "stdout",
     "output_type": "stream",
     "text": [
      "{'AGE': 0.0, 'BILL_AMT2': 0.0, 'BILL_AMT3': 0.0, 'BILL_AMT4': 0.0, 'BILL_AMT5': 0.0, 'BILL_AMT6': 0.0, 'PAY_AMT4': 0.0, 'PAY_AMT5': 0.0, 'MARRIAGE_1': 0.0, 'MARRIAGE_2': 0.0, 'MARRIAGE_3': 0.0, 'SEX_1': 0.0, 'SEX_2': 0.0, 'EDUCATION_1': 0.0, 'EDUCATION_2': 0.0, 'EDUCATION_3': 0.0, 'EDUCATION_4': 0.0, 'BILL_AMT1': 0.01, 'PAY_AMT1': 0.01, 'PAY_AMT6': 0.01, 'LIMIT': 0.02, 'PAY_4': 0.02, 'PAY_6': 0.02, 'PAY_AMT2': 0.02, 'PAY_AMT3': 0.02, 'PAY_3': 0.04, 'PAY_5': 0.04, 'PAY_2': 0.07, 'PAY_1': 0.71}\n"
     ]
    }
   ],
   "source": [
    "fea_importance=dict(zip(X.columns, np.round(best_gbm.feature_importances_, 2)))\n",
    "sort_fea_importance={}\n",
    "sorted_keys = sorted(fea_importance, key=fea_importance.get)\n",
    "for i in sorted_keys:\n",
    "    sort_fea_importance[i]=fea_importance[i]\n",
    "print(sort_fea_importance)"
   ]
  },
  {
   "cell_type": "markdown",
   "metadata": {},
   "source": [
    "The top five important features are PAY_1, PAY_2, PAY_5, PAY_3 and PAY_AMT3"
   ]
  },
  {
   "cell_type": "markdown",
   "metadata": {},
   "source": [
    "#### 3.1.2.5 Extreme Gradient Boosting (XGBoost)"
   ]
  },
  {
   "cell_type": "markdown",
   "metadata": {},
   "source": [
    "XGBoost is short for “eXtreme Gradient Boosting.” The “eXtreme” refers to speed enhancements such as parallel computing and cache awareness that makes XGBoost approximately 10 times faster than traditional Gradient Boosting. In addition, XGBoost includes a unique split-finding algorithm to optimize trees, along with built-in regularization that reduces overfitting. Generally speaking, XGBoost is a faster, more accurate version of Gradient Boosting"
   ]
  },
  {
   "cell_type": "code",
   "execution_count": null,
   "metadata": {},
   "outputs": [],
   "source": [
    "import xgboost as xgb\n",
    "#check datacamp training course for more information before model development"
   ]
  },
  {
   "cell_type": "markdown",
   "metadata": {},
   "source": [
    "#### 3.1.2.6 KNN\n",
    "\n",
    "The k-nearest neighbors algorithm (KNN) is a non-parametric method used for classification. To calculate distances, 3 distance metrics that are often used are Euclidean Distance, Manhattan Distance, and Minkowski Distance. Here, we will test euclidean distance and manhattan distance.\n",
    "\n",
    "We will tune two hyperparameters in knn, n_neighbors and p. When p = 1, this is equivalent to using manhattan_distance (l1), and euclidean_distance (l2) for p = 2. "
   ]
  },
  {
   "cell_type": "code",
   "execution_count": 80,
   "metadata": {},
   "outputs": [
    {
     "ename": "NameError",
     "evalue": "name 'reg_knn' is not defined",
     "output_type": "error",
     "traceback": [
      "\u001b[1;31m---------------------------------------------------------------------------\u001b[0m",
      "\u001b[1;31mNameError\u001b[0m                                 Traceback (most recent call last)",
      "\u001b[1;32m<ipython-input-80-6f575e857182>\u001b[0m in \u001b[0;36m<module>\u001b[1;34m\u001b[0m\n\u001b[0;32m      6\u001b[0m \u001b[0mknn\u001b[0m \u001b[1;33m=\u001b[0m \u001b[0mKNeighborsClassifier\u001b[0m\u001b[1;33m(\u001b[0m\u001b[1;33m)\u001b[0m\u001b[1;33m\u001b[0m\u001b[1;33m\u001b[0m\u001b[0m\n\u001b[0;32m      7\u001b[0m \u001b[0mknn\u001b[0m\u001b[1;33m.\u001b[0m\u001b[0mfit\u001b[0m\u001b[1;33m(\u001b[0m\u001b[0mX_train\u001b[0m\u001b[1;33m,\u001b[0m \u001b[0my_train\u001b[0m\u001b[1;33m)\u001b[0m\u001b[1;33m\u001b[0m\u001b[1;33m\u001b[0m\u001b[0m\n\u001b[1;32m----> 8\u001b[1;33m \u001b[0my_pred\u001b[0m \u001b[1;33m=\u001b[0m \u001b[0mreg_knn\u001b[0m\u001b[1;33m.\u001b[0m\u001b[0mpredict\u001b[0m\u001b[1;33m(\u001b[0m\u001b[0mX_test\u001b[0m\u001b[1;33m)\u001b[0m\u001b[1;33m\u001b[0m\u001b[1;33m\u001b[0m\u001b[0m\n\u001b[0m",
      "\u001b[1;31mNameError\u001b[0m: name 'reg_knn' is not defined"
     ]
    }
   ],
   "source": [
    "from sklearn.neighbors import KNeighborsClassifier\n",
    "n_neighbors = list(range(2,30))\n",
    "p=[1,2]\n",
    "param_grid ={'leaf_size':leaf_size, 'n_neighbors':n_neighbors, 'p':p}\n",
    "knn = KNeighborsClassifier()\n",
    "start=time.time()\n",
    "knn_random = RandomizedSearchCV(estimator = knn, param_distributions=param_grid, cv = 5, verbose=2, random_state=42, n_jobs = -1)\n",
    "knn_random.fit(X_train_scaled, y_train)\n",
    "end=time.time()\n",
    "print(\"BEST PARAMS\", knn_random.best_params_)\n",
    "print(f\"Runtime of the program is {end - start}\")"
   ]
  },
  {
   "cell_type": "code",
   "execution_count": null,
   "metadata": {},
   "outputs": [],
   "source": [
    "#what if I try gridsearch?\n",
    "grid_search_KNN = GridSearchCV(\n",
    "    estimator=estimator_KNN,\n",
    "    param_grid=parameters_KNN,\n",
    "    scoring = 'accuracy',\n",
    "    n_jobs = -1,\n",
    "    cv = 5\n",
    ")"
   ]
  },
  {
   "cell_type": "markdown",
   "metadata": {},
   "source": [
    "### 3.2 define functions for tuning hyperparameters in classification model and evaluate model performance"
   ]
  },
  {
   "cell_type": "code",
   "execution_count": 8,
   "metadata": {},
   "outputs": [],
   "source": [
    "def cv_optimize(clf, parameters, Xtrain, ytrain, n_folds=5):\n",
    "    gs = sklearn.model_selection.GridSearchCV(clf, param_grid=parameters, cv=n_folds)\n",
    "    gs.fit(Xtrain, ytrain)\n",
    "    print(\"BEST PARAMS\", gs.best_params_)\n",
    "    best = gs.best_estimator_\n",
    "    return best"
   ]
  },
  {
   "cell_type": "code",
   "execution_count": 9,
   "metadata": {},
   "outputs": [],
   "source": [
    "from sklearn.model_selection import train_test_split\n",
    "\n",
    "def do_classify(clf, parameters, indf, featurenames, targetname, target1val, standardize=False, train_size=0.8):\n",
    "    subdf=indf[featurenames]\n",
    "    if standardize:\n",
    "        subdfstd=(subdf - subdf.mean())/subdf.std()\n",
    "    else:\n",
    "        subdfstd=subdf\n",
    "    X=subdfstd.values\n",
    "    y=(indf[targetname].values==target1val)*1\n",
    "    Xtrain, Xtest, ytrain, ytest = train_test_split(X, y, train_size=train_size, random_state=1)\n",
    "    clf = cv_optimize(clf, parameters, Xtrain, ytrain)\n",
    "    clf=clf.fit(Xtrain, ytrain)\n",
    "    training_accuracy = clf.score(Xtrain, ytrain)\n",
    "    test_accuracy = clf.score(Xtest, ytest)\n",
    "    print(\"Accuracy on training data: {:0.2f}\".format(training_accuracy))\n",
    "    print(\"Accuracy on test data:     {:0.2f}\".format(test_accuracy))\n",
    "    return clf, Xtrain, ytrain, Xtest, ytest\n",
    "\n",
    "#check the training course from datacamp about hyperparameter tuning in machine learning"
   ]
  },
  {
   "cell_type": "markdown",
   "metadata": {},
   "source": [
    "### 3.3 summary"
   ]
  },
  {
   "cell_type": "code",
   "execution_count": null,
   "metadata": {},
   "outputs": [],
   "source": []
  }
 ],
 "metadata": {
  "kernelspec": {
   "display_name": "Python 3",
   "language": "python",
   "name": "python3"
  },
  "language_info": {
   "codemirror_mode": {
    "name": "ipython",
    "version": 3
   },
   "file_extension": ".py",
   "mimetype": "text/x-python",
   "name": "python",
   "nbconvert_exporter": "python",
   "pygments_lexer": "ipython3",
   "version": "3.8.6"
  }
 },
 "nbformat": 4,
 "nbformat_minor": 4
}
