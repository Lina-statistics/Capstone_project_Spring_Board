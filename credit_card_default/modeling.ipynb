{
 "cells": [
  {
   "cell_type": "markdown",
   "metadata": {},
   "source": [
    "## 3. data pre-processing and modelling\n",
    "We will experiment different classification algorithms in this section, evaluate their performance and give a summary report.\n",
    "\n",
    "Q1: Which algorithm is our best choice for this dataset?\n",
    "\n",
    "Big data can be divided into two categories, the super long data or the super wide data. The wide data is also called high-dimensional data. Some algorithms are really good at handling such data set, for instance, support vector machine and naive bayes. Since our data set is long, we will not test these two algorithms in this experiment. Instead, we will try logistic regression, decision tree, random forest, gradient boosting, etc.\n",
    "\n",
    "### 3.1 model development using df_new\n",
    "#### 3.1.1 data pre-processing"
   ]
  },
  {
   "cell_type": "code",
   "execution_count": 1,
   "metadata": {},
   "outputs": [],
   "source": [
    "import pandas as pd\n",
    "import numpy as np\n",
    "import matplotlib.pyplot as plt\n",
    "import seaborn as sns\n",
    "import time\n",
    "from sklearn.preprocessing import StandardScaler\n",
    "from sklearn.model_selection import train_test_split, cross_validate\n",
    "from sklearn.pipeline import Pipeline\n",
    "from sklearn.metrics import classification_report, roc_curve, roc_auc_score, confusion_matrix, accuracy_score, precision_score, recall_score, f1_score\n",
    "from sklearn.model_selection import GridSearchCV, RandomizedSearchCV\n",
    "from sklearn.linear_model import LogisticRegression\n",
    "from sklearn.tree import DecisionTreeClassifier\n",
    "from sklearn.neighbors import KNeighborsClassifier\n",
    "from sklearn.ensemble import RandomForestClassifier, GradientBoostingClassifier, AdaBoostClassifier"
   ]
  },
  {
   "cell_type": "code",
   "execution_count": 2,
   "metadata": {},
   "outputs": [],
   "source": [
    "file='data/df_new2.csv'\n",
    "df=pd.read_csv(file)"
   ]
  },
  {
   "cell_type": "code",
   "execution_count": 3,
   "metadata": {},
   "outputs": [],
   "source": [
    "features_name=df.drop(columns=['DEFAULT', 'ID']).columns"
   ]
  },
  {
   "cell_type": "code",
   "execution_count": 4,
   "metadata": {},
   "outputs": [
    {
     "data": {
      "text/plain": [
       "Index(['LIMIT_BAL', 'AGE', 'PAY_1', 'PAY_2', 'PAY_3', 'PAY_4', 'PAY_5',\n",
       "       'PAY_6', 'BILL_AMT1', 'BILL_AMT2', 'BILL_AMT3', 'BILL_AMT4',\n",
       "       'BILL_AMT5', 'BILL_AMT6', 'PAY_AMT1', 'PAY_AMT2', 'PAY_AMT3',\n",
       "       'PAY_AMT4', 'PAY_AMT5', 'PAY_AMT6', 'MARRIAGE_2', 'MARRIAGE_3', 'SEX_2',\n",
       "       'EDUCATION_2', 'EDUCATION_3', 'EDUCATION_4'],\n",
       "      dtype='object')"
      ]
     },
     "execution_count": 4,
     "metadata": {},
     "output_type": "execute_result"
    }
   ],
   "source": [
    "features_name"
   ]
  },
  {
   "cell_type": "code",
   "execution_count": 5,
   "metadata": {},
   "outputs": [],
   "source": [
    "from numpy import loadtxt\n",
    "X_train_s = loadtxt('data/X1_train_s.csv', delimiter=',')\n",
    "X_test_s = loadtxt('data/X1_test_s.csv', delimiter=',')\n",
    "y_train = loadtxt('data/y1_train.csv', delimiter=',')\n",
    "y_test = loadtxt('data/y1_test.csv', delimiter=',')"
   ]
  },
  {
   "cell_type": "markdown",
   "metadata": {},
   "source": [
    "### 3.1.2 model development"
   ]
  },
  {
   "cell_type": "markdown",
   "metadata": {},
   "source": [
    "#### 3.1.2.1 regularized logistic regression\n",
    "Binary logistic regression is the simplest classification algorithms. But it cannot perform very well when there are colinearity between predictors. It is also vulnerable to overfitting. As we explored the correlation between predictors in section1, we found some colinearity between them. Hence, we decided to use regularized logistic regression and use GridSearchCV( ) to find the best value of the hyperparameter, [C](https://scikit-learn.org/0.15/modules/generated/sklearn.linear_model.LogisticRegression.html).\n",
    "\n",
    "Because gridSearchCV is very time-consuming for some algorithms, here we choose RandomizedSearchCV."
   ]
  },
  {
   "cell_type": "code",
   "execution_count": 6,
   "metadata": {},
   "outputs": [
    {
     "name": "stdout",
     "output_type": "stream",
     "text": [
      "BEST PARAMS {'C': 50}\n",
      "Runtime of the program is 6.210426092147827\n"
     ]
    }
   ],
   "source": [
    "start=time.time()\n",
    "logreg = LogisticRegression()\n",
    "param_grid = {'C': [0.001, 0.005, 0.01, 0.05, 0.1, 0.5, 1, 5, 10, 50, 100]} # C is the inverse of regularization strength; must be a positive float. Smaller values of C mean stronger regularization.\n",
    "logreg_cv = RandomizedSearchCV(logreg, param_grid , cv=5, random_state=42)\n",
    "logreg_cv.fit(X_train_s,y_train)\n",
    "end=time.time()\n",
    "print(\"BEST PARAMS\", logreg_cv.best_params_)\n",
    "print(f\"Runtime of the program is {end - start}\")"
   ]
  },
  {
   "cell_type": "code",
   "execution_count": 7,
   "metadata": {},
   "outputs": [
    {
     "data": {
      "text/plain": [
       "Text(0.5, 15.0, 'Predicted label')"
      ]
     },
     "execution_count": 7,
     "metadata": {},
     "output_type": "execute_result"
    },
    {
     "data": {
      "image/png": "[encoded data removed]",
      "text/plain": [
       "<Figure size 432x288 with 2 Axes>"
      ]
     },
     "metadata": {
      "needs_background": "light"
     },
     "output_type": "display_data"
    }
   ],
   "source": [
    "# use the best C value, 0.01, to develop regularized logistic regression model\n",
    "best_C_logreg=logreg_cv.best_estimator_\n",
    "y_pred=best_C_logreg.predict(X_test_s)\n",
    "cnf_matrix = confusion_matrix(y_test, y_pred)\n",
    "sns.heatmap(pd.DataFrame(cnf_matrix), annot=True, cmap=\"YlGnBu\" ,fmt='g')\n",
    "plt.tight_layout()\n",
    "plt.title('Confusion matrix')\n",
    "plt.ylabel('Actual label')\n",
    "plt.xlabel('Predicted label')"
   ]
  },
  {
   "cell_type": "code",
   "execution_count": 8,
   "metadata": {},
   "outputs": [
    {
     "name": "stdout",
     "output_type": "stream",
     "text": [
      "Accuracy: 0.809\n",
      "Precision: 0.68\n",
      "Recall: 0.234\n",
      "f1 score: 0.348\n"
     ]
    }
   ],
   "source": [
    "print(\"Accuracy:\",accuracy_score(y_test, y_pred).round(3))\n",
    "print(\"Precision:\",precision_score(y_test, y_pred).round(3))\n",
    "print(\"Recall:\",recall_score(y_test, y_pred).round(3))\n",
    "print(\"f1 score:\", f1_score(y_test, y_pred).round(3))"
   ]
  },
  {
   "cell_type": "code",
   "execution_count": 9,
   "metadata": {},
   "outputs": [
    {
     "data": {
      "text/plain": [
       "<matplotlib.legend.Legend at 0x27d042ce520>"
      ]
     },
     "execution_count": 9,
     "metadata": {},
     "output_type": "execute_result"
    },
    {
     "data": {
      "image/png": "[encoded data removed]",
      "text/plain": [
       "<Figure size 432x288 with 1 Axes>"
      ]
     },
     "metadata": {
      "needs_background": "light"
     },
     "output_type": "display_data"
    }
   ],
   "source": [
    "y_pred_proba = best_C_logreg.predict_proba(X_test_s)[::,1]\n",
    "fpr, tpr, _ = roc_curve(y_test,  y_pred_proba)\n",
    "auc = roc_auc_score(y_test, y_pred_proba).round(3)\n",
    "plt.plot(fpr,tpr,label=\"data 1, auc=\"+str(auc))\n",
    "plt.legend(loc=4)"
   ]
  },
  {
   "cell_type": "markdown",
   "metadata": {},
   "source": [
    "There are [three ways](https://towardsdatascience.com/a-look-into-feature-importance-in-logistic-regression-models-a4aa970f9b0f) to rank features in a Logistic Regression model. They are by coefficient values, recursive feature elimination (RFE) and sci-kit Learn’s SelectFromModels (SFM). Here, we use SFM."
   ]
  },
  {
   "cell_type": "code",
   "execution_count": 10,
   "metadata": {},
   "outputs": [
    {
     "data": {
      "text/plain": [
       "Index(['PAY_1', 'BILL_AMT1', 'BILL_AMT2', 'PAY_AMT1', 'PAY_AMT2'], dtype='object')"
      ]
     },
     "execution_count": 10,
     "metadata": {},
     "output_type": "execute_result"
    }
   ],
   "source": [
    "from sklearn.feature_selection import SelectFromModel\n",
    "sfm=SelectFromModel(best_C_logreg, threshold=-np.inf, max_features=5)\n",
    "sfm.fit(X_train_s, y_train)\n",
    "feature_idx=sfm.get_support()\n",
    "feature_name=features_name[feature_idx]\n",
    "feature_name"
   ]
  },
  {
   "cell_type": "markdown",
   "metadata": {},
   "source": [
    "#### 3.1.2.2 decision tree"
   ]
  },
  {
   "cell_type": "markdown",
   "metadata": {},
   "source": [
    "Usually, the tree complexity is measured by one of the following metrics: the number of nodes, the number of leaves, tree depth and attributes used. It is a little bit complicated to tune [all hyperparameters in decision tree](https://towardsdatascience.com/how-to-tune-a-decision-tree-f03721801680). Here we only experiment criterion and max_depth"
   ]
  },
  {
   "cell_type": "code",
   "execution_count": 11,
   "metadata": {},
   "outputs": [
    {
     "name": "stdout",
     "output_type": "stream",
     "text": [
      "BEST PARAMS {'max_depth': 4, 'criterion': 'gini'}\n",
      "Runtime of the program is 19.517503261566162\n"
     ]
    }
   ],
   "source": [
    "from sklearn.tree import export_graphviz\n",
    "import graphviz \n",
    "param_grid = {'criterion': ['gini', 'entropy'], 'max_depth':[2,4,6,8,10,12]}\n",
    "tree_cv = RandomizedSearchCV(DecisionTreeClassifier(), param_grid , cv=5, random_state=42)\n",
    "tree_cv.fit(X_train_s,y_train)\n",
    "end=time.time()\n",
    "print(\"BEST PARAMS\", tree_cv.best_params_)\n",
    "print(f\"Runtime of the program is {end - start}\")"
   ]
  },
  {
   "cell_type": "code",
   "execution_count": 12,
   "metadata": {},
   "outputs": [
    {
     "data": {
      "text/plain": [
       "Text(0.5, 15.0, 'Predicted label')"
      ]
     },
     "execution_count": 12,
     "metadata": {},
     "output_type": "execute_result"
    },
    {
     "data": {
      "image/png": "[encoded data removed]",
      "text/plain": [
       "<Figure size 432x288 with 2 Axes>"
      ]
     },
     "metadata": {
      "needs_background": "light"
     },
     "output_type": "display_data"
    }
   ],
   "source": [
    "# use the best parameter value, 'max_depth': 10, 'criterion': 'gini', to develop tree model\n",
    "best_tree=tree_cv.best_estimator_\n",
    "y_pred=best_tree.predict(X_test_s)\n",
    "cnf_matrix = confusion_matrix(y_test, y_pred)\n",
    "sns.heatmap(pd.DataFrame(cnf_matrix), annot=True, cmap=\"YlGnBu\" ,fmt='g')\n",
    "plt.tight_layout()\n",
    "plt.title('Confusion matrix')\n",
    "plt.ylabel('Actual label')\n",
    "plt.xlabel('Predicted label')"
   ]
  },
  {
   "cell_type": "code",
   "execution_count": 13,
   "metadata": {},
   "outputs": [
    {
     "name": "stdout",
     "output_type": "stream",
     "text": [
      "Accuracy: 0.819\n",
      "Precision: 0.66\n",
      "Recall: 0.349\n",
      "f1 score: 0.457\n"
     ]
    }
   ],
   "source": [
    "print(\"Accuracy:\",accuracy_score(y_test, y_pred).round(3))\n",
    "print(\"Precision:\",precision_score(y_test, y_pred).round(3))\n",
    "print(\"Recall:\",recall_score(y_test, y_pred).round(3))\n",
    "print(\"f1 score:\", f1_score(y_test, y_pred).round(3))"
   ]
  },
  {
   "cell_type": "code",
   "execution_count": 14,
   "metadata": {},
   "outputs": [
    {
     "data": {
      "text/plain": [
       "<matplotlib.legend.Legend at 0x27d09b31f70>"
      ]
     },
     "execution_count": 14,
     "metadata": {},
     "output_type": "execute_result"
    },
    {
     "data": {
      "image/png": "[encoded data removed]",
      "text/plain": [
       "<Figure size 432x288 with 1 Axes>"
      ]
     },
     "metadata": {
      "needs_background": "light"
     },
     "output_type": "display_data"
    }
   ],
   "source": [
    "fpr, tpr, _ = roc_curve(y_test,  y_pred_proba)\n",
    "auc = roc_auc_score(y_test, y_pred_proba).round(3)\n",
    "plt.plot(fpr,tpr,label=\"data 1, auc=\"+str(auc))\n",
    "plt.legend(loc=4)"
   ]
  },
  {
   "cell_type": "code",
   "execution_count": 15,
   "metadata": {},
   "outputs": [
    {
     "data": {
      "image/svg+xml": [
       "<?xml version=\"1.0\" encoding=\"UTF-8\" standalone=\"no\"?>\r\n",
       "<!DOCTYPE svg PUBLIC \"-//W3C//DTD SVG 1.1//EN\"\r\n",
       " \"http://www.w3.org/Graphics/SVG/1.1/DTD/svg11.dtd\">\r\n",
       "<!-- Generated by graphviz version 2.38.0 (20140413.2041)\r\n",
       " -->\r\n",
       "<!-- Title: Tree Pages: 1 -->\r\n",
       "<svg width=\"2253pt\" height=\"477pt\"\r\n",
       " viewBox=\"0.00 0.00 2252.50 477.00\" xmlns=\"http://www.w3.org/2000/svg\" xmlns:xlink=\"http://www.w3.org/1999/xlink\">\r\n",
       "<g id=\"graph0\" class=\"graph\" transform=\"scale(1 1) rotate(0) translate(4 473)\">\r\n",
       "<title>Tree</title>\r\n",
       "<polygon fill=\"white\" stroke=\"none\" points=\"-4,4 -4,-473 2248.5,-473 2248.5,4 -4,4\"/>\r\n",
       "<!-- 0 -->\r\n",
       "<g id=\"node1\" class=\"node\"><title>0</title>\r\n",
       "<path fill=\"#eca572\" stroke=\"black\" d=\"M1244.5,-469C1244.5,-469 1113.5,-469 1113.5,-469 1107.5,-469 1101.5,-463 1101.5,-457 1101.5,-457 1101.5,-413 1101.5,-413 1101.5,-407 1107.5,-401 1113.5,-401 1113.5,-401 1244.5,-401 1244.5,-401 1250.5,-401 1256.5,-407 1256.5,-413 1256.5,-413 1256.5,-457 1256.5,-457 1256.5,-463 1250.5,-469 1244.5,-469\"/>\r\n",
       "<text text-anchor=\"start\" x=\"1130.5\" y=\"-453.8\" font-family=\"Helvetica,sans-Serif\" font-size=\"14.00\">PAY_1 ≤ 1.344</text>\r\n",
       "<text text-anchor=\"start\" x=\"1141.5\" y=\"-438.8\" font-family=\"Helvetica,sans-Serif\" font-size=\"14.00\">gini = 0.346</text>\r\n",
       "<text text-anchor=\"start\" x=\"1123\" y=\"-423.8\" font-family=\"Helvetica,sans-Serif\" font-size=\"14.00\">samples = 21000</text>\r\n",
       "<text text-anchor=\"start\" x=\"1109.5\" y=\"-408.8\" font-family=\"Helvetica,sans-Serif\" font-size=\"14.00\">value = [16324, 4676]</text>\r\n",
       "</g>\r\n",
       "<!-- 1 -->\r\n",
       "<g id=\"node2\" class=\"node\"><title>1</title>\r\n",
       "<path fill=\"#ea9a61\" stroke=\"black\" d=\"M972.5,-365C972.5,-365 841.5,-365 841.5,-365 835.5,-365 829.5,-359 829.5,-353 829.5,-353 829.5,-309 829.5,-309 829.5,-303 835.5,-297 841.5,-297 841.5,-297 972.5,-297 972.5,-297 978.5,-297 984.5,-303 984.5,-309 984.5,-309 984.5,-353 984.5,-353 984.5,-359 978.5,-365 972.5,-365\"/>\r\n",
       "<text text-anchor=\"start\" x=\"858.5\" y=\"-349.8\" font-family=\"Helvetica,sans-Serif\" font-size=\"14.00\">PAY_2 ≤ 1.358</text>\r\n",
       "<text text-anchor=\"start\" x=\"869.5\" y=\"-334.8\" font-family=\"Helvetica,sans-Serif\" font-size=\"14.00\">gini = 0.277</text>\r\n",
       "<text text-anchor=\"start\" x=\"851\" y=\"-319.8\" font-family=\"Helvetica,sans-Serif\" font-size=\"14.00\">samples = 18780</text>\r\n",
       "<text text-anchor=\"start\" x=\"837.5\" y=\"-304.8\" font-family=\"Helvetica,sans-Serif\" font-size=\"14.00\">value = [15656, 3124]</text>\r\n",
       "</g>\r\n",
       "<!-- 0&#45;&gt;1 -->\r\n",
       "<g id=\"edge1\" class=\"edge\"><title>0&#45;&gt;1</title>\r\n",
       "<path fill=\"none\" stroke=\"black\" d=\"M1101.42,-404.907C1067.98,-392.367 1028.72,-377.644 994.264,-364.724\"/>\r\n",
       "<polygon fill=\"black\" stroke=\"black\" points=\"995.276,-361.365 984.683,-361.131 992.818,-367.92 995.276,-361.365\"/>\r\n",
       "<text text-anchor=\"middle\" x=\"995.028\" y=\"-380.19\" font-family=\"Helvetica,sans-Serif\" font-size=\"14.00\">True</text>\r\n",
       "</g>\r\n",
       "<!-- 16 -->\r\n",
       "<g id=\"node17\" class=\"node\"><title>16</title>\r\n",
       "<path fill=\"#8ec7f0\" stroke=\"black\" d=\"M1520,-365C1520,-365 1406,-365 1406,-365 1400,-365 1394,-359 1394,-353 1394,-353 1394,-309 1394,-309 1394,-303 1400,-297 1406,-297 1406,-297 1520,-297 1520,-297 1526,-297 1532,-303 1532,-309 1532,-309 1532,-353 1532,-353 1532,-359 1526,-365 1520,-365\"/>\r\n",
       "<text text-anchor=\"start\" x=\"1412\" y=\"-349.8\" font-family=\"Helvetica,sans-Serif\" font-size=\"14.00\">PAY_3 ≤ &#45;0.278</text>\r\n",
       "<text text-anchor=\"start\" x=\"1425.5\" y=\"-334.8\" font-family=\"Helvetica,sans-Serif\" font-size=\"14.00\">gini = 0.421</text>\r\n",
       "<text text-anchor=\"start\" x=\"1411.5\" y=\"-319.8\" font-family=\"Helvetica,sans-Serif\" font-size=\"14.00\">samples = 2220</text>\r\n",
       "<text text-anchor=\"start\" x=\"1402\" y=\"-304.8\" font-family=\"Helvetica,sans-Serif\" font-size=\"14.00\">value = [668, 1552]</text>\r\n",
       "</g>\r\n",
       "<!-- 0&#45;&gt;16 -->\r\n",
       "<g id=\"edge16\" class=\"edge\"><title>0&#45;&gt;16</title>\r\n",
       "<path fill=\"none\" stroke=\"black\" d=\"M1256.6,-406.128C1296.2,-391.906 1344.28,-374.639 1384.07,-360.349\"/>\r\n",
       "<polygon fill=\"black\" stroke=\"black\" points=\"1385.5,-363.553 1393.73,-356.879 1383.14,-356.965 1385.5,-363.553\"/>\r\n",
       "<text text-anchor=\"middle\" x=\"1383.07\" y=\"-375.791\" font-family=\"Helvetica,sans-Serif\" font-size=\"14.00\">False</text>\r\n",
       "</g>\r\n",
       "<!-- 2 -->\r\n",
       "<g id=\"node3\" class=\"node\"><title>2</title>\r\n",
       "<path fill=\"#e9965a\" stroke=\"black\" d=\"M537.5,-261C537.5,-261 406.5,-261 406.5,-261 400.5,-261 394.5,-255 394.5,-249 394.5,-249 394.5,-205 394.5,-205 394.5,-199 400.5,-193 406.5,-193 406.5,-193 537.5,-193 537.5,-193 543.5,-193 549.5,-199 549.5,-205 549.5,-205 549.5,-249 549.5,-249 549.5,-255 543.5,-261 537.5,-261\"/>\r\n",
       "<text text-anchor=\"start\" x=\"406\" y=\"-245.8\" font-family=\"Helvetica,sans-Serif\" font-size=\"14.00\">PAY_AMT3 ≤ &#45;0.255</text>\r\n",
       "<text text-anchor=\"start\" x=\"434.5\" y=\"-230.8\" font-family=\"Helvetica,sans-Serif\" font-size=\"14.00\">gini = 0.245</text>\r\n",
       "<text text-anchor=\"start\" x=\"416\" y=\"-215.8\" font-family=\"Helvetica,sans-Serif\" font-size=\"14.00\">samples = 17198</text>\r\n",
       "<text text-anchor=\"start\" x=\"402.5\" y=\"-200.8\" font-family=\"Helvetica,sans-Serif\" font-size=\"14.00\">value = [14744, 2454]</text>\r\n",
       "</g>\r\n",
       "<!-- 1&#45;&gt;2 -->\r\n",
       "<g id=\"edge2\" class=\"edge\"><title>1&#45;&gt;2</title>\r\n",
       "<path fill=\"none\" stroke=\"black\" d=\"M829.481,-311.823C753.704,-294.055 638.511,-267.044 559.489,-248.515\"/>\r\n",
       "<polygon fill=\"black\" stroke=\"black\" points=\"560.089,-245.06 549.554,-246.185 558.491,-251.876 560.089,-245.06\"/>\r\n",
       "</g>\r\n",
       "<!-- 9 -->\r\n",
       "<g id=\"node10\" class=\"node\"><title>9</title>\r\n",
       "<path fill=\"#f8deca\" stroke=\"black\" d=\"M960,-261C960,-261 854,-261 854,-261 848,-261 842,-255 842,-249 842,-249 842,-205 842,-205 842,-199 848,-193 854,-193 854,-193 960,-193 960,-193 966,-193 972,-199 972,-205 972,-205 972,-249 972,-249 972,-255 966,-261 960,-261\"/>\r\n",
       "<text text-anchor=\"start\" x=\"858.5\" y=\"-245.8\" font-family=\"Helvetica,sans-Serif\" font-size=\"14.00\">PAY_3 ≤ 0.978</text>\r\n",
       "<text text-anchor=\"start\" x=\"869.5\" y=\"-230.8\" font-family=\"Helvetica,sans-Serif\" font-size=\"14.00\">gini = 0.488</text>\r\n",
       "<text text-anchor=\"start\" x=\"855.5\" y=\"-215.8\" font-family=\"Helvetica,sans-Serif\" font-size=\"14.00\">samples = 1582</text>\r\n",
       "<text text-anchor=\"start\" x=\"850\" y=\"-200.8\" font-family=\"Helvetica,sans-Serif\" font-size=\"14.00\">value = [912, 670]</text>\r\n",
       "</g>\r\n",
       "<!-- 1&#45;&gt;9 -->\r\n",
       "<g id=\"edge9\" class=\"edge\"><title>1&#45;&gt;9</title>\r\n",
       "<path fill=\"none\" stroke=\"black\" d=\"M907,-296.884C907,-288.778 907,-279.982 907,-271.472\"/>\r\n",
       "<polygon fill=\"black\" stroke=\"black\" points=\"910.5,-271.299 907,-261.299 903.5,-271.299 910.5,-271.299\"/>\r\n",
       "</g>\r\n",
       "<!-- 3 -->\r\n",
       "<g id=\"node4\" class=\"node\"><title>3</title>\r\n",
       "<path fill=\"#eca470\" stroke=\"black\" d=\"M288,-157C288,-157 162,-157 162,-157 156,-157 150,-151 150,-145 150,-145 150,-101 150,-101 150,-95 156,-89 162,-89 162,-89 288,-89 288,-89 294,-89 300,-95 300,-101 300,-101 300,-145 300,-145 300,-151 294,-157 288,-157\"/>\r\n",
       "<text text-anchor=\"start\" x=\"158\" y=\"-141.8\" font-family=\"Helvetica,sans-Serif\" font-size=\"14.00\">BILL_AMT1 ≤ &#45;0.689</text>\r\n",
       "<text text-anchor=\"start\" x=\"187.5\" y=\"-126.8\" font-family=\"Helvetica,sans-Serif\" font-size=\"14.00\">gini = 0.341</text>\r\n",
       "<text text-anchor=\"start\" x=\"173.5\" y=\"-111.8\" font-family=\"Helvetica,sans-Serif\" font-size=\"14.00\">samples = 4550</text>\r\n",
       "<text text-anchor=\"start\" x=\"164\" y=\"-96.8\" font-family=\"Helvetica,sans-Serif\" font-size=\"14.00\">value = [3556, 994]</text>\r\n",
       "</g>\r\n",
       "<!-- 2&#45;&gt;3 -->\r\n",
       "<g id=\"edge3\" class=\"edge\"><title>2&#45;&gt;3</title>\r\n",
       "<path fill=\"none\" stroke=\"black\" d=\"M394.187,-193.867C367.37,-182.793 337.208,-170.337 309.858,-159.042\"/>\r\n",
       "<polygon fill=\"black\" stroke=\"black\" points=\"310.89,-155.682 300.311,-155.1 308.218,-162.152 310.89,-155.682\"/>\r\n",
       "</g>\r\n",
       "<!-- 6 -->\r\n",
       "<g id=\"node7\" class=\"node\"><title>6</title>\r\n",
       "<path fill=\"#e89153\" stroke=\"black\" d=\"M537.5,-157C537.5,-157 406.5,-157 406.5,-157 400.5,-157 394.5,-151 394.5,-145 394.5,-145 394.5,-101 394.5,-101 394.5,-95 400.5,-89 406.5,-89 406.5,-89 537.5,-89 537.5,-89 543.5,-89 549.5,-95 549.5,-101 549.5,-101 549.5,-145 549.5,-145 549.5,-151 543.5,-157 537.5,-157\"/>\r\n",
       "<text text-anchor=\"start\" x=\"423.5\" y=\"-141.8\" font-family=\"Helvetica,sans-Serif\" font-size=\"14.00\">PAY_4 ≤ 1.469</text>\r\n",
       "<text text-anchor=\"start\" x=\"434.5\" y=\"-126.8\" font-family=\"Helvetica,sans-Serif\" font-size=\"14.00\">gini = 0.204</text>\r\n",
       "<text text-anchor=\"start\" x=\"416\" y=\"-111.8\" font-family=\"Helvetica,sans-Serif\" font-size=\"14.00\">samples = 12648</text>\r\n",
       "<text text-anchor=\"start\" x=\"402.5\" y=\"-96.8\" font-family=\"Helvetica,sans-Serif\" font-size=\"14.00\">value = [11188, 1460]</text>\r\n",
       "</g>\r\n",
       "<!-- 2&#45;&gt;6 -->\r\n",
       "<g id=\"edge6\" class=\"edge\"><title>2&#45;&gt;6</title>\r\n",
       "<path fill=\"none\" stroke=\"black\" d=\"M472,-192.884C472,-184.778 472,-175.982 472,-167.472\"/>\r\n",
       "<polygon fill=\"black\" stroke=\"black\" points=\"475.5,-167.299 472,-157.299 468.5,-167.299 475.5,-167.299\"/>\r\n",
       "</g>\r\n",
       "<!-- 4 -->\r\n",
       "<g id=\"node5\" class=\"node\"><title>4</title>\r\n",
       "<path fill=\"#efb287\" stroke=\"black\" d=\"M126,-53C126,-53 12,-53 12,-53 6,-53 0,-47 0,-41 0,-41 0,-12 0,-12 0,-6 6,-0 12,-0 12,-0 126,-0 126,-0 132,-0 138,-6 138,-12 138,-12 138,-41 138,-41 138,-47 132,-53 126,-53\"/>\r\n",
       "<text text-anchor=\"start\" x=\"31.5\" y=\"-37.8\" font-family=\"Helvetica,sans-Serif\" font-size=\"14.00\">gini = 0.405</text>\r\n",
       "<text text-anchor=\"start\" x=\"17.5\" y=\"-22.8\" font-family=\"Helvetica,sans-Serif\" font-size=\"14.00\">samples = 1794</text>\r\n",
       "<text text-anchor=\"start\" x=\"8\" y=\"-7.8\" font-family=\"Helvetica,sans-Serif\" font-size=\"14.00\">value = [1289, 505]</text>\r\n",
       "</g>\r\n",
       "<!-- 3&#45;&gt;4 -->\r\n",
       "<g id=\"edge4\" class=\"edge\"><title>3&#45;&gt;4</title>\r\n",
       "<path fill=\"none\" stroke=\"black\" d=\"M170.439,-88.9485C154.129,-79.0686 136.312,-68.2758 120.225,-58.5305\"/>\r\n",
       "<polygon fill=\"black\" stroke=\"black\" points=\"121.853,-55.4244 111.486,-53.2367 118.226,-61.4115 121.853,-55.4244\"/>\r\n",
       "</g>\r\n",
       "<!-- 5 -->\r\n",
       "<g id=\"node6\" class=\"node\"><title>5</title>\r\n",
       "<path fill=\"#eb9c64\" stroke=\"black\" d=\"M282,-53C282,-53 168,-53 168,-53 162,-53 156,-47 156,-41 156,-41 156,-12 156,-12 156,-6 162,-0 168,-0 168,-0 282,-0 282,-0 288,-0 294,-6 294,-12 294,-12 294,-41 294,-41 294,-47 288,-53 282,-53\"/>\r\n",
       "<text text-anchor=\"start\" x=\"187.5\" y=\"-37.8\" font-family=\"Helvetica,sans-Serif\" font-size=\"14.00\">gini = 0.292</text>\r\n",
       "<text text-anchor=\"start\" x=\"173.5\" y=\"-22.8\" font-family=\"Helvetica,sans-Serif\" font-size=\"14.00\">samples = 2756</text>\r\n",
       "<text text-anchor=\"start\" x=\"164\" y=\"-7.8\" font-family=\"Helvetica,sans-Serif\" font-size=\"14.00\">value = [2267, 489]</text>\r\n",
       "</g>\r\n",
       "<!-- 3&#45;&gt;5 -->\r\n",
       "<g id=\"edge5\" class=\"edge\"><title>3&#45;&gt;5</title>\r\n",
       "<path fill=\"none\" stroke=\"black\" d=\"M225,-88.9485C225,-80.7153 225,-71.848 225,-63.4814\"/>\r\n",
       "<polygon fill=\"black\" stroke=\"black\" points=\"228.5,-63.2367 225,-53.2367 221.5,-63.2367 228.5,-63.2367\"/>\r\n",
       "</g>\r\n",
       "<!-- 7 -->\r\n",
       "<g id=\"node8\" class=\"node\"><title>7</title>\r\n",
       "<path fill=\"#e89152\" stroke=\"black\" d=\"M455.5,-53C455.5,-53 324.5,-53 324.5,-53 318.5,-53 312.5,-47 312.5,-41 312.5,-41 312.5,-12 312.5,-12 312.5,-6 318.5,-0 324.5,-0 324.5,-0 455.5,-0 455.5,-0 461.5,-0 467.5,-6 467.5,-12 467.5,-12 467.5,-41 467.5,-41 467.5,-47 461.5,-53 455.5,-53\"/>\r\n",
       "<text text-anchor=\"start\" x=\"352.5\" y=\"-37.8\" font-family=\"Helvetica,sans-Serif\" font-size=\"14.00\">gini = 0.196</text>\r\n",
       "<text text-anchor=\"start\" x=\"334\" y=\"-22.8\" font-family=\"Helvetica,sans-Serif\" font-size=\"14.00\">samples = 12401</text>\r\n",
       "<text text-anchor=\"start\" x=\"320.5\" y=\"-7.8\" font-family=\"Helvetica,sans-Serif\" font-size=\"14.00\">value = [11033, 1368]</text>\r\n",
       "</g>\r\n",
       "<!-- 6&#45;&gt;7 -->\r\n",
       "<g id=\"edge7\" class=\"edge\"><title>6&#45;&gt;7</title>\r\n",
       "<path fill=\"none\" stroke=\"black\" d=\"M443.32,-88.9485C435.462,-79.892 426.938,-70.0682 419.058,-60.9875\"/>\r\n",
       "<polygon fill=\"black\" stroke=\"black\" points=\"421.53,-58.4958 412.332,-53.2367 416.243,-63.0835 421.53,-58.4958\"/>\r\n",
       "</g>\r\n",
       "<!-- 8 -->\r\n",
       "<g id=\"node9\" class=\"node\"><title>8</title>\r\n",
       "<path fill=\"#f4ccaf\" stroke=\"black\" d=\"M596,-53C596,-53 498,-53 498,-53 492,-53 486,-47 486,-41 486,-41 486,-12 486,-12 486,-6 492,-0 498,-0 498,-0 596,-0 596,-0 602,-0 608,-6 608,-12 608,-12 608,-41 608,-41 608,-47 602,-53 596,-53\"/>\r\n",
       "<text text-anchor=\"start\" x=\"509.5\" y=\"-37.8\" font-family=\"Helvetica,sans-Serif\" font-size=\"14.00\">gini = 0.467</text>\r\n",
       "<text text-anchor=\"start\" x=\"499.5\" y=\"-22.8\" font-family=\"Helvetica,sans-Serif\" font-size=\"14.00\">samples = 247</text>\r\n",
       "<text text-anchor=\"start\" x=\"494\" y=\"-7.8\" font-family=\"Helvetica,sans-Serif\" font-size=\"14.00\">value = [155, 92]</text>\r\n",
       "</g>\r\n",
       "<!-- 6&#45;&gt;8 -->\r\n",
       "<g id=\"edge8\" class=\"edge\"><title>6&#45;&gt;8</title>\r\n",
       "<path fill=\"none\" stroke=\"black\" d=\"M498.231,-88.9485C505.346,-79.9834 513.058,-70.2666 520.204,-61.2629\"/>\r\n",
       "<polygon fill=\"black\" stroke=\"black\" points=\"523.099,-63.2454 526.574,-53.2367 517.616,-58.8938 523.099,-63.2454\"/>\r\n",
       "</g>\r\n",
       "<!-- 10 -->\r\n",
       "<g id=\"node11\" class=\"node\"><title>10</title>\r\n",
       "<path fill=\"#f3c5a5\" stroke=\"black\" d=\"M890,-157C890,-157 766,-157 766,-157 760,-157 754,-151 754,-145 754,-145 754,-101 754,-101 754,-95 760,-89 766,-89 766,-89 890,-89 890,-89 896,-89 902,-95 902,-101 902,-101 902,-145 902,-145 902,-151 896,-157 890,-157\"/>\r\n",
       "<text text-anchor=\"start\" x=\"762\" y=\"-141.8\" font-family=\"Helvetica,sans-Serif\" font-size=\"14.00\">PAY_AMT2 ≤ &#45;0.149</text>\r\n",
       "<text text-anchor=\"start\" x=\"790.5\" y=\"-126.8\" font-family=\"Helvetica,sans-Serif\" font-size=\"14.00\">gini = 0.456</text>\r\n",
       "<text text-anchor=\"start\" x=\"780.5\" y=\"-111.8\" font-family=\"Helvetica,sans-Serif\" font-size=\"14.00\">samples = 750</text>\r\n",
       "<text text-anchor=\"start\" x=\"771\" y=\"-96.8\" font-family=\"Helvetica,sans-Serif\" font-size=\"14.00\">value = [486, 264]</text>\r\n",
       "</g>\r\n",
       "<!-- 9&#45;&gt;10 -->\r\n",
       "<g id=\"edge10\" class=\"edge\"><title>9&#45;&gt;10</title>\r\n",
       "<path fill=\"none\" stroke=\"black\" d=\"M881.351,-192.884C874.521,-184.065 867.059,-174.43 859.937,-165.235\"/>\r\n",
       "<polygon fill=\"black\" stroke=\"black\" points=\"862.681,-163.062 853.791,-157.299 857.147,-167.349 862.681,-163.062\"/>\r\n",
       "</g>\r\n",
       "<!-- 13 -->\r\n",
       "<g id=\"node14\" class=\"node\"><title>13</title>\r\n",
       "<path fill=\"#fef9f6\" stroke=\"black\" d=\"M1038,-157C1038,-157 932,-157 932,-157 926,-157 920,-151 920,-145 920,-145 920,-101 920,-101 920,-95 926,-89 932,-89 932,-89 1038,-89 1038,-89 1044,-89 1050,-95 1050,-101 1050,-101 1050,-145 1050,-145 1050,-151 1044,-157 1038,-157\"/>\r\n",
       "<text text-anchor=\"start\" x=\"933.5\" y=\"-141.8\" font-family=\"Helvetica,sans-Serif\" font-size=\"14.00\">SEX_2 ≤ &#45;0.217</text>\r\n",
       "<text text-anchor=\"start\" x=\"956\" y=\"-126.8\" font-family=\"Helvetica,sans-Serif\" font-size=\"14.00\">gini = 0.5</text>\r\n",
       "<text text-anchor=\"start\" x=\"937.5\" y=\"-111.8\" font-family=\"Helvetica,sans-Serif\" font-size=\"14.00\">samples = 832</text>\r\n",
       "<text text-anchor=\"start\" x=\"928\" y=\"-96.8\" font-family=\"Helvetica,sans-Serif\" font-size=\"14.00\">value = [426, 406]</text>\r\n",
       "</g>\r\n",
       "<!-- 9&#45;&gt;13 -->\r\n",
       "<g id=\"edge13\" class=\"edge\"><title>9&#45;&gt;13</title>\r\n",
       "<path fill=\"none\" stroke=\"black\" d=\"M932.324,-192.884C939,-184.154 946.287,-174.625 953.254,-165.514\"/>\r\n",
       "<polygon fill=\"black\" stroke=\"black\" points=\"956.242,-167.369 959.536,-157.299 950.681,-163.117 956.242,-167.369\"/>\r\n",
       "</g>\r\n",
       "<!-- 11 -->\r\n",
       "<g id=\"node12\" class=\"node\"><title>11</title>\r\n",
       "<path fill=\"#f7dac5\" stroke=\"black\" d=\"M744,-53C744,-53 638,-53 638,-53 632,-53 626,-47 626,-41 626,-41 626,-12 626,-12 626,-6 632,-0 638,-0 638,-0 744,-0 744,-0 750,-0 756,-6 756,-12 756,-12 756,-41 756,-41 756,-47 750,-53 744,-53\"/>\r\n",
       "<text text-anchor=\"start\" x=\"653.5\" y=\"-37.8\" font-family=\"Helvetica,sans-Serif\" font-size=\"14.00\">gini = 0.485</text>\r\n",
       "<text text-anchor=\"start\" x=\"643.5\" y=\"-22.8\" font-family=\"Helvetica,sans-Serif\" font-size=\"14.00\">samples = 445</text>\r\n",
       "<text text-anchor=\"start\" x=\"634\" y=\"-7.8\" font-family=\"Helvetica,sans-Serif\" font-size=\"14.00\">value = [261, 184]</text>\r\n",
       "</g>\r\n",
       "<!-- 10&#45;&gt;11 -->\r\n",
       "<g id=\"edge11\" class=\"edge\"><title>10&#45;&gt;11</title>\r\n",
       "<path fill=\"none\" stroke=\"black\" d=\"M780.084,-88.9485C766.026,-79.2516 750.693,-68.6752 736.772,-59.073\"/>\r\n",
       "<polygon fill=\"black\" stroke=\"black\" points=\"738.53,-56.0337 728.311,-53.2367 734.556,-61.7959 738.53,-56.0337\"/>\r\n",
       "</g>\r\n",
       "<!-- 12 -->\r\n",
       "<g id=\"node13\" class=\"node\"><title>12</title>\r\n",
       "<path fill=\"#eeae7f\" stroke=\"black\" d=\"M884,-53C884,-53 786,-53 786,-53 780,-53 774,-47 774,-41 774,-41 774,-12 774,-12 774,-6 780,-0 786,-0 786,-0 884,-0 884,-0 890,-0 896,-6 896,-12 896,-12 896,-41 896,-41 896,-47 890,-53 884,-53\"/>\r\n",
       "<text text-anchor=\"start\" x=\"797.5\" y=\"-37.8\" font-family=\"Helvetica,sans-Serif\" font-size=\"14.00\">gini = 0.387</text>\r\n",
       "<text text-anchor=\"start\" x=\"787.5\" y=\"-22.8\" font-family=\"Helvetica,sans-Serif\" font-size=\"14.00\">samples = 305</text>\r\n",
       "<text text-anchor=\"start\" x=\"782\" y=\"-7.8\" font-family=\"Helvetica,sans-Serif\" font-size=\"14.00\">value = [225, 80]</text>\r\n",
       "</g>\r\n",
       "<!-- 10&#45;&gt;12 -->\r\n",
       "<g id=\"edge12\" class=\"edge\"><title>10&#45;&gt;12</title>\r\n",
       "<path fill=\"none\" stroke=\"black\" d=\"M830.448,-88.9485C831.058,-80.7153 831.715,-71.848 832.335,-63.4814\"/>\r\n",
       "<polygon fill=\"black\" stroke=\"black\" points=\"835.845,-63.468 833.094,-53.2367 828.864,-62.9508 835.845,-63.468\"/>\r\n",
       "</g>\r\n",
       "<!-- 14 -->\r\n",
       "<g id=\"node15\" class=\"node\"><title>14</title>\r\n",
       "<path fill=\"#d9ecfa\" stroke=\"black\" d=\"M1032,-53C1032,-53 926,-53 926,-53 920,-53 914,-47 914,-41 914,-41 914,-12 914,-12 914,-6 920,-0 926,-0 926,-0 1032,-0 1032,-0 1038,-0 1044,-6 1044,-12 1044,-12 1044,-41 1044,-41 1044,-47 1038,-53 1032,-53\"/>\r\n",
       "<text text-anchor=\"start\" x=\"941.5\" y=\"-37.8\" font-family=\"Helvetica,sans-Serif\" font-size=\"14.00\">gini = 0.494</text>\r\n",
       "<text text-anchor=\"start\" x=\"931.5\" y=\"-22.8\" font-family=\"Helvetica,sans-Serif\" font-size=\"14.00\">samples = 380</text>\r\n",
       "<text text-anchor=\"start\" x=\"922\" y=\"-7.8\" font-family=\"Helvetica,sans-Serif\" font-size=\"14.00\">value = [170, 210]</text>\r\n",
       "</g>\r\n",
       "<!-- 13&#45;&gt;14 -->\r\n",
       "<g id=\"edge14\" class=\"edge\"><title>13&#45;&gt;14</title>\r\n",
       "<path fill=\"none\" stroke=\"black\" d=\"M982.901,-88.9485C982.379,-80.7153 981.816,-71.848 981.285,-63.4814\"/>\r\n",
       "<polygon fill=\"black\" stroke=\"black\" points=\"984.761,-62.9948 980.634,-53.2367 977.775,-63.4384 984.761,-62.9948\"/>\r\n",
       "</g>\r\n",
       "<!-- 15 -->\r\n",
       "<g id=\"node16\" class=\"node\"><title>15</title>\r\n",
       "<path fill=\"#f9e1d1\" stroke=\"black\" d=\"M1180,-53C1180,-53 1074,-53 1074,-53 1068,-53 1062,-47 1062,-41 1062,-41 1062,-12 1062,-12 1062,-6 1068,-0 1074,-0 1074,-0 1180,-0 1180,-0 1186,-0 1192,-6 1192,-12 1192,-12 1192,-41 1192,-41 1192,-47 1186,-53 1180,-53\"/>\r\n",
       "<text text-anchor=\"start\" x=\"1089.5\" y=\"-37.8\" font-family=\"Helvetica,sans-Serif\" font-size=\"14.00\">gini = 0.491</text>\r\n",
       "<text text-anchor=\"start\" x=\"1079.5\" y=\"-22.8\" font-family=\"Helvetica,sans-Serif\" font-size=\"14.00\">samples = 452</text>\r\n",
       "<text text-anchor=\"start\" x=\"1070\" y=\"-7.8\" font-family=\"Helvetica,sans-Serif\" font-size=\"14.00\">value = [256, 196]</text>\r\n",
       "</g>\r\n",
       "<!-- 13&#45;&gt;15 -->\r\n",
       "<g id=\"edge15\" class=\"edge\"><title>13&#45;&gt;15</title>\r\n",
       "<path fill=\"none\" stroke=\"black\" d=\"M1034.66,-88.9485C1049.37,-79.1601 1065.43,-68.4756 1079.96,-58.8015\"/>\r\n",
       "<polygon fill=\"black\" stroke=\"black\" points=\"1081.94,-61.6907 1088.33,-53.2367 1078.06,-55.8632 1081.94,-61.6907\"/>\r\n",
       "</g>\r\n",
       "<!-- 17 -->\r\n",
       "<g id=\"node18\" class=\"node\"><title>17</title>\r\n",
       "<path fill=\"#fae4d5\" stroke=\"black\" d=\"M1526,-261C1526,-261 1400,-261 1400,-261 1394,-261 1388,-255 1388,-249 1388,-249 1388,-205 1388,-205 1388,-199 1394,-193 1400,-193 1400,-193 1526,-193 1526,-193 1532,-193 1538,-199 1538,-205 1538,-205 1538,-249 1538,-249 1538,-255 1532,-261 1526,-261\"/>\r\n",
       "<text text-anchor=\"start\" x=\"1396\" y=\"-245.8\" font-family=\"Helvetica,sans-Serif\" font-size=\"14.00\">BILL_AMT1 ≤ &#45;0.663</text>\r\n",
       "<text text-anchor=\"start\" x=\"1425.5\" y=\"-230.8\" font-family=\"Helvetica,sans-Serif\" font-size=\"14.00\">gini = 0.493</text>\r\n",
       "<text text-anchor=\"start\" x=\"1415.5\" y=\"-215.8\" font-family=\"Helvetica,sans-Serif\" font-size=\"14.00\">samples = 136</text>\r\n",
       "<text text-anchor=\"start\" x=\"1414.5\" y=\"-200.8\" font-family=\"Helvetica,sans-Serif\" font-size=\"14.00\">value = [76, 60]</text>\r\n",
       "</g>\r\n",
       "<!-- 16&#45;&gt;17 -->\r\n",
       "<g id=\"edge17\" class=\"edge\"><title>16&#45;&gt;17</title>\r\n",
       "<path fill=\"none\" stroke=\"black\" d=\"M1463,-296.884C1463,-288.778 1463,-279.982 1463,-271.472\"/>\r\n",
       "<polygon fill=\"black\" stroke=\"black\" points=\"1466.5,-271.299 1463,-261.299 1459.5,-271.299 1466.5,-271.299\"/>\r\n",
       "</g>\r\n",
       "<!-- 24 -->\r\n",
       "<g id=\"node25\" class=\"node\"><title>24</title>\r\n",
       "<path fill=\"#88c4ef\" stroke=\"black\" d=\"M1889,-261C1889,-261 1775,-261 1775,-261 1769,-261 1763,-255 1763,-249 1763,-249 1763,-205 1763,-205 1763,-199 1769,-193 1775,-193 1775,-193 1889,-193 1889,-193 1895,-193 1901,-199 1901,-205 1901,-205 1901,-249 1901,-249 1901,-255 1895,-261 1889,-261\"/>\r\n",
       "<text text-anchor=\"start\" x=\"1783.5\" y=\"-245.8\" font-family=\"Helvetica,sans-Serif\" font-size=\"14.00\">PAY_5 ≤ 1.117</text>\r\n",
       "<text text-anchor=\"start\" x=\"1794.5\" y=\"-230.8\" font-family=\"Helvetica,sans-Serif\" font-size=\"14.00\">gini = 0.407</text>\r\n",
       "<text text-anchor=\"start\" x=\"1780.5\" y=\"-215.8\" font-family=\"Helvetica,sans-Serif\" font-size=\"14.00\">samples = 2084</text>\r\n",
       "<text text-anchor=\"start\" x=\"1771\" y=\"-200.8\" font-family=\"Helvetica,sans-Serif\" font-size=\"14.00\">value = [592, 1492]</text>\r\n",
       "</g>\r\n",
       "<!-- 16&#45;&gt;24 -->\r\n",
       "<g id=\"edge24\" class=\"edge\"><title>16&#45;&gt;24</title>\r\n",
       "<path fill=\"none\" stroke=\"black\" d=\"M1532.41,-310.815C1595.16,-293.469 1687.48,-267.949 1753.03,-249.829\"/>\r\n",
       "<polygon fill=\"black\" stroke=\"black\" points=\"1754.2,-253.137 1762.91,-247.099 1752.33,-246.39 1754.2,-253.137\"/>\r\n",
       "</g>\r\n",
       "<!-- 18 -->\r\n",
       "<g id=\"node19\" class=\"node\"><title>18</title>\r\n",
       "<path fill=\"#f1bc95\" stroke=\"black\" d=\"M1443,-157C1443,-157 1319,-157 1319,-157 1313,-157 1307,-151 1307,-145 1307,-145 1307,-101 1307,-101 1307,-95 1313,-89 1319,-89 1319,-89 1443,-89 1443,-89 1449,-89 1455,-95 1455,-101 1455,-101 1455,-145 1455,-145 1455,-151 1449,-157 1443,-157\"/>\r\n",
       "<text text-anchor=\"start\" x=\"1315\" y=\"-141.8\" font-family=\"Helvetica,sans-Serif\" font-size=\"14.00\">PAY_AMT4 ≤ &#45;0.292</text>\r\n",
       "<text text-anchor=\"start\" x=\"1343.5\" y=\"-126.8\" font-family=\"Helvetica,sans-Serif\" font-size=\"14.00\">gini = 0.433</text>\r\n",
       "<text text-anchor=\"start\" x=\"1337.5\" y=\"-111.8\" font-family=\"Helvetica,sans-Serif\" font-size=\"14.00\">samples = 85</text>\r\n",
       "<text text-anchor=\"start\" x=\"1332.5\" y=\"-96.8\" font-family=\"Helvetica,sans-Serif\" font-size=\"14.00\">value = [58, 27]</text>\r\n",
       "</g>\r\n",
       "<!-- 17&#45;&gt;18 -->\r\n",
       "<g id=\"edge18\" class=\"edge\"><title>17&#45;&gt;18</title>\r\n",
       "<path fill=\"none\" stroke=\"black\" d=\"M1436.38,-192.884C1429.29,-184.065 1421.54,-174.43 1414.15,-165.235\"/>\r\n",
       "<polygon fill=\"black\" stroke=\"black\" points=\"1416.76,-162.9 1407.77,-157.299 1411.31,-167.286 1416.76,-162.9\"/>\r\n",
       "</g>\r\n",
       "<!-- 21 -->\r\n",
       "<g id=\"node22\" class=\"node\"><title>21</title>\r\n",
       "<path fill=\"#a5d2f3\" stroke=\"black\" d=\"M1607,-157C1607,-157 1485,-157 1485,-157 1479,-157 1473,-151 1473,-145 1473,-145 1473,-101 1473,-101 1473,-95 1479,-89 1485,-89 1485,-89 1607,-89 1607,-89 1613,-89 1619,-95 1619,-101 1619,-101 1619,-145 1619,-145 1619,-151 1613,-157 1607,-157\"/>\r\n",
       "<text text-anchor=\"start\" x=\"1481\" y=\"-141.8\" font-family=\"Helvetica,sans-Serif\" font-size=\"14.00\">BILL_AMT1 ≤ 0.605</text>\r\n",
       "<text text-anchor=\"start\" x=\"1508.5\" y=\"-126.8\" font-family=\"Helvetica,sans-Serif\" font-size=\"14.00\">gini = 0.457</text>\r\n",
       "<text text-anchor=\"start\" x=\"1502.5\" y=\"-111.8\" font-family=\"Helvetica,sans-Serif\" font-size=\"14.00\">samples = 51</text>\r\n",
       "<text text-anchor=\"start\" x=\"1497.5\" y=\"-96.8\" font-family=\"Helvetica,sans-Serif\" font-size=\"14.00\">value = [18, 33]</text>\r\n",
       "</g>\r\n",
       "<!-- 17&#45;&gt;21 -->\r\n",
       "<g id=\"edge21\" class=\"edge\"><title>17&#45;&gt;21</title>\r\n",
       "<path fill=\"none\" stroke=\"black\" d=\"M1489.95,-192.884C1497.12,-184.065 1504.96,-174.43 1512.45,-165.235\"/>\r\n",
       "<polygon fill=\"black\" stroke=\"black\" points=\"1515.31,-167.265 1518.9,-157.299 1509.88,-162.847 1515.31,-167.265\"/>\r\n",
       "</g>\r\n",
       "<!-- 19 -->\r\n",
       "<g id=\"node20\" class=\"node\"><title>19</title>\r\n",
       "<path fill=\"#fbece1\" stroke=\"black\" d=\"M1311.5,-53C1311.5,-53 1222.5,-53 1222.5,-53 1216.5,-53 1210.5,-47 1210.5,-41 1210.5,-41 1210.5,-12 1210.5,-12 1210.5,-6 1216.5,-0 1222.5,-0 1222.5,-0 1311.5,-0 1311.5,-0 1317.5,-0 1323.5,-6 1323.5,-12 1323.5,-12 1323.5,-41 1323.5,-41 1323.5,-47 1317.5,-53 1311.5,-53\"/>\r\n",
       "<text text-anchor=\"start\" x=\"1229.5\" y=\"-37.8\" font-family=\"Helvetica,sans-Serif\" font-size=\"14.00\">gini = 0.497</text>\r\n",
       "<text text-anchor=\"start\" x=\"1223.5\" y=\"-22.8\" font-family=\"Helvetica,sans-Serif\" font-size=\"14.00\">samples = 37</text>\r\n",
       "<text text-anchor=\"start\" x=\"1218.5\" y=\"-7.8\" font-family=\"Helvetica,sans-Serif\" font-size=\"14.00\">value = [20, 17]</text>\r\n",
       "</g>\r\n",
       "<!-- 18&#45;&gt;19 -->\r\n",
       "<g id=\"edge19\" class=\"edge\"><title>18&#45;&gt;19</title>\r\n",
       "<path fill=\"none\" stroke=\"black\" d=\"M1341.13,-88.9485C1329.76,-79.526 1317.39,-69.2731 1306.07,-59.8906\"/>\r\n",
       "<polygon fill=\"black\" stroke=\"black\" points=\"1307.98,-56.924 1298.05,-53.2367 1303.51,-62.3132 1307.98,-56.924\"/>\r\n",
       "</g>\r\n",
       "<!-- 20 -->\r\n",
       "<g id=\"node21\" class=\"node\"><title>20</title>\r\n",
       "<path fill=\"#eca26d\" stroke=\"black\" d=\"M1442.5,-53C1442.5,-53 1353.5,-53 1353.5,-53 1347.5,-53 1341.5,-47 1341.5,-41 1341.5,-41 1341.5,-12 1341.5,-12 1341.5,-6 1347.5,-0 1353.5,-0 1353.5,-0 1442.5,-0 1442.5,-0 1448.5,-0 1454.5,-6 1454.5,-12 1454.5,-12 1454.5,-41 1454.5,-41 1454.5,-47 1448.5,-53 1442.5,-53\"/>\r\n",
       "<text text-anchor=\"start\" x=\"1364.5\" y=\"-37.8\" font-family=\"Helvetica,sans-Serif\" font-size=\"14.00\">gini = 0.33</text>\r\n",
       "<text text-anchor=\"start\" x=\"1354.5\" y=\"-22.8\" font-family=\"Helvetica,sans-Serif\" font-size=\"14.00\">samples = 48</text>\r\n",
       "<text text-anchor=\"start\" x=\"1349.5\" y=\"-7.8\" font-family=\"Helvetica,sans-Serif\" font-size=\"14.00\">value = [38, 10]</text>\r\n",
       "</g>\r\n",
       "<!-- 18&#45;&gt;20 -->\r\n",
       "<g id=\"edge20\" class=\"edge\"><title>18&#45;&gt;20</title>\r\n",
       "<path fill=\"none\" stroke=\"black\" d=\"M1386.95,-88.9485C1388.44,-80.6238 1390.06,-71.6509 1391.58,-63.2027\"/>\r\n",
       "<polygon fill=\"black\" stroke=\"black\" points=\"1395.04,-63.6984 1393.37,-53.2367 1388.15,-62.459 1395.04,-63.6984\"/>\r\n",
       "</g>\r\n",
       "<!-- 22 -->\r\n",
       "<g id=\"node23\" class=\"node\"><title>22</title>\r\n",
       "<path fill=\"#87c4ef\" stroke=\"black\" d=\"M1573.5,-53C1573.5,-53 1484.5,-53 1484.5,-53 1478.5,-53 1472.5,-47 1472.5,-41 1472.5,-41 1472.5,-12 1472.5,-12 1472.5,-6 1478.5,-0 1484.5,-0 1484.5,-0 1573.5,-0 1573.5,-0 1579.5,-0 1585.5,-6 1585.5,-12 1585.5,-12 1585.5,-41 1585.5,-41 1585.5,-47 1579.5,-53 1573.5,-53\"/>\r\n",
       "<text text-anchor=\"start\" x=\"1491.5\" y=\"-37.8\" font-family=\"Helvetica,sans-Serif\" font-size=\"14.00\">gini = 0.405</text>\r\n",
       "<text text-anchor=\"start\" x=\"1485.5\" y=\"-22.8\" font-family=\"Helvetica,sans-Serif\" font-size=\"14.00\">samples = 46</text>\r\n",
       "<text text-anchor=\"start\" x=\"1480.5\" y=\"-7.8\" font-family=\"Helvetica,sans-Serif\" font-size=\"14.00\">value = [13, 33]</text>\r\n",
       "</g>\r\n",
       "<!-- 21&#45;&gt;22 -->\r\n",
       "<g id=\"edge22\" class=\"edge\"><title>21&#45;&gt;22</title>\r\n",
       "<path fill=\"none\" stroke=\"black\" d=\"M1540.05,-88.9485C1538.56,-80.6238 1536.94,-71.6509 1535.42,-63.2027\"/>\r\n",
       "<polygon fill=\"black\" stroke=\"black\" points=\"1538.85,-62.459 1533.63,-53.2367 1531.96,-63.6984 1538.85,-62.459\"/>\r\n",
       "</g>\r\n",
       "<!-- 23 -->\r\n",
       "<g id=\"node24\" class=\"node\"><title>23</title>\r\n",
       "<path fill=\"#e58139\" stroke=\"black\" d=\"M1688.5,-53C1688.5,-53 1615.5,-53 1615.5,-53 1609.5,-53 1603.5,-47 1603.5,-41 1603.5,-41 1603.5,-12 1603.5,-12 1603.5,-6 1609.5,-0 1615.5,-0 1615.5,-0 1688.5,-0 1688.5,-0 1694.5,-0 1700.5,-6 1700.5,-12 1700.5,-12 1700.5,-41 1700.5,-41 1700.5,-47 1694.5,-53 1688.5,-53\"/>\r\n",
       "<text text-anchor=\"start\" x=\"1623\" y=\"-37.8\" font-family=\"Helvetica,sans-Serif\" font-size=\"14.00\">gini = 0.0</text>\r\n",
       "<text text-anchor=\"start\" x=\"1612.5\" y=\"-22.8\" font-family=\"Helvetica,sans-Serif\" font-size=\"14.00\">samples = 5</text>\r\n",
       "<text text-anchor=\"start\" x=\"1611.5\" y=\"-7.8\" font-family=\"Helvetica,sans-Serif\" font-size=\"14.00\">value = [5, 0]</text>\r\n",
       "</g>\r\n",
       "<!-- 21&#45;&gt;23 -->\r\n",
       "<g id=\"edge23\" class=\"edge\"><title>21&#45;&gt;23</title>\r\n",
       "<path fill=\"none\" stroke=\"black\" d=\"M1583.07,-88.9485C1593.54,-79.6175 1604.92,-69.4722 1615.36,-60.1641\"/>\r\n",
       "<polygon fill=\"black\" stroke=\"black\" points=\"1618,-62.5038 1623.13,-53.2367 1613.34,-57.2788 1618,-62.5038\"/>\r\n",
       "</g>\r\n",
       "<!-- 25 -->\r\n",
       "<g id=\"node26\" class=\"node\"><title>25</title>\r\n",
       "<path fill=\"#9bcdf2\" stroke=\"black\" d=\"M1905,-157C1905,-157 1759,-157 1759,-157 1753,-157 1747,-151 1747,-145 1747,-145 1747,-101 1747,-101 1747,-95 1753,-89 1759,-89 1759,-89 1905,-89 1905,-89 1911,-89 1917,-95 1917,-101 1917,-101 1917,-145 1917,-145 1917,-151 1911,-157 1905,-157\"/>\r\n",
       "<text text-anchor=\"start\" x=\"1755\" y=\"-141.8\" font-family=\"Helvetica,sans-Serif\" font-size=\"14.00\">EDUCATION_4 ≤ 3.913</text>\r\n",
       "<text text-anchor=\"start\" x=\"1794.5\" y=\"-126.8\" font-family=\"Helvetica,sans-Serif\" font-size=\"14.00\">gini = 0.443</text>\r\n",
       "<text text-anchor=\"start\" x=\"1780.5\" y=\"-111.8\" font-family=\"Helvetica,sans-Serif\" font-size=\"14.00\">samples = 1162</text>\r\n",
       "<text text-anchor=\"start\" x=\"1775\" y=\"-96.8\" font-family=\"Helvetica,sans-Serif\" font-size=\"14.00\">value = [384, 778]</text>\r\n",
       "</g>\r\n",
       "<!-- 24&#45;&gt;25 -->\r\n",
       "<g id=\"edge25\" class=\"edge\"><title>24&#45;&gt;25</title>\r\n",
       "<path fill=\"none\" stroke=\"black\" d=\"M1832,-192.884C1832,-184.778 1832,-175.982 1832,-167.472\"/>\r\n",
       "<polygon fill=\"black\" stroke=\"black\" points=\"1835.5,-167.299 1832,-157.299 1828.5,-167.299 1835.5,-167.299\"/>\r\n",
       "</g>\r\n",
       "<!-- 28 -->\r\n",
       "<g id=\"node29\" class=\"node\"><title>28</title>\r\n",
       "<path fill=\"#73baed\" stroke=\"black\" d=\"M2115.5,-157C2115.5,-157 1996.5,-157 1996.5,-157 1990.5,-157 1984.5,-151 1984.5,-145 1984.5,-145 1984.5,-101 1984.5,-101 1984.5,-95 1990.5,-89 1996.5,-89 1996.5,-89 2115.5,-89 2115.5,-89 2121.5,-89 2127.5,-95 2127.5,-101 2127.5,-101 2127.5,-145 2127.5,-145 2127.5,-151 2121.5,-157 2115.5,-157\"/>\r\n",
       "<text text-anchor=\"start\" x=\"1992.5\" y=\"-141.8\" font-family=\"Helvetica,sans-Serif\" font-size=\"14.00\">PAY_AMT3 ≤ 0.381</text>\r\n",
       "<text text-anchor=\"start\" x=\"2018.5\" y=\"-126.8\" font-family=\"Helvetica,sans-Serif\" font-size=\"14.00\">gini = 0.349</text>\r\n",
       "<text text-anchor=\"start\" x=\"2008.5\" y=\"-111.8\" font-family=\"Helvetica,sans-Serif\" font-size=\"14.00\">samples = 922</text>\r\n",
       "<text text-anchor=\"start\" x=\"1999\" y=\"-96.8\" font-family=\"Helvetica,sans-Serif\" font-size=\"14.00\">value = [208, 714]</text>\r\n",
       "</g>\r\n",
       "<!-- 24&#45;&gt;28 -->\r\n",
       "<g id=\"edge28\" class=\"edge\"><title>24&#45;&gt;28</title>\r\n",
       "<path fill=\"none\" stroke=\"black\" d=\"M1901.04,-194.564C1924.52,-183.872 1950.97,-171.828 1975.28,-160.757\"/>\r\n",
       "<polygon fill=\"black\" stroke=\"black\" points=\"1976.83,-163.895 1984.48,-156.566 1973.93,-157.525 1976.83,-163.895\"/>\r\n",
       "</g>\r\n",
       "<!-- 26 -->\r\n",
       "<g id=\"node27\" class=\"node\"><title>26</title>\r\n",
       "<path fill=\"#97ccf1\" stroke=\"black\" d=\"M1837,-53C1837,-53 1731,-53 1731,-53 1725,-53 1719,-47 1719,-41 1719,-41 1719,-12 1719,-12 1719,-6 1725,-0 1731,-0 1731,-0 1837,-0 1837,-0 1843,-0 1849,-6 1849,-12 1849,-12 1849,-41 1849,-41 1849,-47 1843,-53 1837,-53\"/>\r\n",
       "<text text-anchor=\"start\" x=\"1746.5\" y=\"-37.8\" font-family=\"Helvetica,sans-Serif\" font-size=\"14.00\">gini = 0.437</text>\r\n",
       "<text text-anchor=\"start\" x=\"1732.5\" y=\"-22.8\" font-family=\"Helvetica,sans-Serif\" font-size=\"14.00\">samples = 1143</text>\r\n",
       "<text text-anchor=\"start\" x=\"1727\" y=\"-7.8\" font-family=\"Helvetica,sans-Serif\" font-size=\"14.00\">value = [369, 774]</text>\r\n",
       "</g>\r\n",
       "<!-- 25&#45;&gt;26 -->\r\n",
       "<g id=\"edge26\" class=\"edge\"><title>25&#45;&gt;26</title>\r\n",
       "<path fill=\"none\" stroke=\"black\" d=\"M1815.21,-88.9485C1810.84,-80.3494 1806.12,-71.0586 1801.71,-62.3689\"/>\r\n",
       "<polygon fill=\"black\" stroke=\"black\" points=\"1804.72,-60.5675 1797.07,-53.2367 1798.48,-63.7376 1804.72,-60.5675\"/>\r\n",
       "</g>\r\n",
       "<!-- 27 -->\r\n",
       "<g id=\"node28\" class=\"node\"><title>27</title>\r\n",
       "<path fill=\"#eca36e\" stroke=\"black\" d=\"M1960.5,-53C1960.5,-53 1879.5,-53 1879.5,-53 1873.5,-53 1867.5,-47 1867.5,-41 1867.5,-41 1867.5,-12 1867.5,-12 1867.5,-6 1873.5,-0 1879.5,-0 1879.5,-0 1960.5,-0 1960.5,-0 1966.5,-0 1972.5,-6 1972.5,-12 1972.5,-12 1972.5,-41 1972.5,-41 1972.5,-47 1966.5,-53 1960.5,-53\"/>\r\n",
       "<text text-anchor=\"start\" x=\"1882.5\" y=\"-37.8\" font-family=\"Helvetica,sans-Serif\" font-size=\"14.00\">gini = 0.332</text>\r\n",
       "<text text-anchor=\"start\" x=\"1876.5\" y=\"-22.8\" font-family=\"Helvetica,sans-Serif\" font-size=\"14.00\">samples = 19</text>\r\n",
       "<text text-anchor=\"start\" x=\"1875.5\" y=\"-7.8\" font-family=\"Helvetica,sans-Serif\" font-size=\"14.00\">value = [15, 4]</text>\r\n",
       "</g>\r\n",
       "<!-- 25&#45;&gt;27 -->\r\n",
       "<g id=\"edge27\" class=\"edge\"><title>25&#45;&gt;27</title>\r\n",
       "<path fill=\"none\" stroke=\"black\" d=\"M1862.78,-88.9485C1871.3,-79.8005 1880.54,-69.8697 1889.07,-60.7126\"/>\r\n",
       "<polygon fill=\"black\" stroke=\"black\" points=\"1891.78,-62.9402 1896.03,-53.2367 1886.66,-58.1698 1891.78,-62.9402\"/>\r\n",
       "</g>\r\n",
       "<!-- 29 -->\r\n",
       "<g id=\"node30\" class=\"node\"><title>29</title>\r\n",
       "<path fill=\"#6fb8ec\" stroke=\"black\" d=\"M2109,-53C2109,-53 2003,-53 2003,-53 1997,-53 1991,-47 1991,-41 1991,-41 1991,-12 1991,-12 1991,-6 1997,-0 2003,-0 2003,-0 2109,-0 2109,-0 2115,-0 2121,-6 2121,-12 2121,-12 2121,-41 2121,-41 2121,-47 2115,-53 2109,-53\"/>\r\n",
       "<text text-anchor=\"start\" x=\"2018.5\" y=\"-37.8\" font-family=\"Helvetica,sans-Serif\" font-size=\"14.00\">gini = 0.336</text>\r\n",
       "<text text-anchor=\"start\" x=\"2008.5\" y=\"-22.8\" font-family=\"Helvetica,sans-Serif\" font-size=\"14.00\">samples = 898</text>\r\n",
       "<text text-anchor=\"start\" x=\"1999\" y=\"-7.8\" font-family=\"Helvetica,sans-Serif\" font-size=\"14.00\">value = [192, 706]</text>\r\n",
       "</g>\r\n",
       "<!-- 28&#45;&gt;29 -->\r\n",
       "<g id=\"edge29\" class=\"edge\"><title>28&#45;&gt;29</title>\r\n",
       "<path fill=\"none\" stroke=\"black\" d=\"M2056,-88.9485C2056,-80.7153 2056,-71.848 2056,-63.4814\"/>\r\n",
       "<polygon fill=\"black\" stroke=\"black\" points=\"2059.5,-63.2367 2056,-53.2367 2052.5,-63.2367 2059.5,-63.2367\"/>\r\n",
       "</g>\r\n",
       "<!-- 30 -->\r\n",
       "<g id=\"node31\" class=\"node\"><title>30</title>\r\n",
       "<path fill=\"#f2c09c\" stroke=\"black\" d=\"M2232.5,-53C2232.5,-53 2151.5,-53 2151.5,-53 2145.5,-53 2139.5,-47 2139.5,-41 2139.5,-41 2139.5,-12 2139.5,-12 2139.5,-6 2145.5,-0 2151.5,-0 2151.5,-0 2232.5,-0 2232.5,-0 2238.5,-0 2244.5,-6 2244.5,-12 2244.5,-12 2244.5,-41 2244.5,-41 2244.5,-47 2238.5,-53 2232.5,-53\"/>\r\n",
       "<text text-anchor=\"start\" x=\"2154.5\" y=\"-37.8\" font-family=\"Helvetica,sans-Serif\" font-size=\"14.00\">gini = 0.444</text>\r\n",
       "<text text-anchor=\"start\" x=\"2148.5\" y=\"-22.8\" font-family=\"Helvetica,sans-Serif\" font-size=\"14.00\">samples = 24</text>\r\n",
       "<text text-anchor=\"start\" x=\"2147.5\" y=\"-7.8\" font-family=\"Helvetica,sans-Serif\" font-size=\"14.00\">value = [16, 8]</text>\r\n",
       "</g>\r\n",
       "<!-- 28&#45;&gt;30 -->\r\n",
       "<g id=\"edge30\" class=\"edge\"><title>28&#45;&gt;30</title>\r\n",
       "<path fill=\"none\" stroke=\"black\" d=\"M2103.57,-88.9485C2117.52,-79.2516 2132.74,-68.6752 2146.56,-59.073\"/>\r\n",
       "<polygon fill=\"black\" stroke=\"black\" points=\"2148.75,-61.8172 2154.96,-53.2367 2144.75,-56.0687 2148.75,-61.8172\"/>\r\n",
       "</g>\r\n",
       "</g>\r\n",
       "</svg>\r\n"
      ],
      "text/plain": [
       "<graphviz.files.Source at 0x27d0b543760>"
      ]
     },
     "execution_count": 15,
     "metadata": {},
     "output_type": "execute_result"
    }
   ],
   "source": [
    "#Let's check the importance of features in this model\n",
    "dot_data = export_graphviz(best_tree, out_file = None, feature_names = features_name, filled = True, rounded = True, special_characters=True)  \n",
    "graph = graphviz.Source(dot_data)  \n",
    "graph "
   ]
  },
  {
   "cell_type": "code",
   "execution_count": 16,
   "metadata": {},
   "outputs": [
    {
     "name": "stdout",
     "output_type": "stream",
     "text": [
      "{'LIMIT_BAL': 0.0, 'AGE': 0.0, 'PAY_6': 0.0, 'BILL_AMT2': 0.0, 'BILL_AMT3': 0.0, 'BILL_AMT4': 0.0, 'BILL_AMT5': 0.0, 'BILL_AMT6': 0.0, 'PAY_AMT1': 0.0, 'PAY_AMT4': 0.0, 'PAY_AMT5': 0.0, 'PAY_AMT6': 0.0, 'MARRIAGE_2': 0.0, 'MARRIAGE_3': 0.0, 'SEX_2': 0.0, 'EDUCATION_2': 0.0, 'EDUCATION_3': 0.0, 'PAY_5': 0.01, 'PAY_AMT2': 0.01, 'EDUCATION_4': 0.01, 'PAY_3': 0.02, 'PAY_4': 0.02, 'BILL_AMT1': 0.02, 'PAY_AMT3': 0.05, 'PAY_2': 0.15, 'PAY_1': 0.72}\n"
     ]
    }
   ],
   "source": [
    "fea_importance=dict(zip(features_name, np.round(best_tree.feature_importances_, 2)))\n",
    "sort_fea_importance={}\n",
    "sorted_keys = sorted(fea_importance, key=fea_importance.get)\n",
    "for i in sorted_keys:\n",
    "    sort_fea_importance[i]=fea_importance[i]\n",
    "print(sort_fea_importance)"
   ]
  },
  {
   "cell_type": "markdown",
   "metadata": {},
   "source": [
    "Based on the tree plot above and feature importance attribute, we can say PAY_1, PAY_2, PAY_AMT3, and BILL_AMT1 are the most important features."
   ]
  },
  {
   "cell_type": "markdown",
   "metadata": {},
   "source": [
    "#### 3.1.2.3 random forest"
   ]
  },
  {
   "cell_type": "markdown",
   "metadata": {},
   "source": [
    "random forest = many decison trees + many bagging. Because random forest is an ensemble of desion trees, it has all the hyperparameters of DecisionTreeClassifier and BaggingClassifers. Also as an ensemble algorithms, random forest can greatly improve the accuracy of prediction compared with a SINGLE decision tree."
   ]
  },
  {
   "cell_type": "markdown",
   "metadata": {},
   "source": [
    "We will optimize the following hyperparameters in the random forest model: \n",
    "* n_estimators = number of trees in the random forest model\n",
    "* max_depth = max_depth in each decision tree"
   ]
  },
  {
   "cell_type": "code",
   "execution_count": 17,
   "metadata": {},
   "outputs": [
    {
     "name": "stdout",
     "output_type": "stream",
     "text": [
      "Fitting 5 folds for each of 10 candidates, totalling 50 fits\n",
      "BEST PARAMS {'n_estimators': 200, 'max_depth': 9}\n",
      "Runtime of the program is 91.05543971061707\n"
     ]
    }
   ],
   "source": [
    "n_estimators=[int(x) for x in np.linspace(start = 50, stop = 500, num = 10)]\n",
    "max_depths=[int(x) for x in np.linspace(1, 10, num = 10)]\n",
    "param_grid = {'n_estimators': n_estimators, 'max_depth':max_depths}\n",
    "start=time.time()\n",
    "rf = RandomForestClassifier()\n",
    "rf_random = RandomizedSearchCV(estimator = rf, param_distributions=param_grid, cv = 5, verbose=2, random_state=42, n_jobs = -1)\n",
    "rf_random.fit(X_train_s, y_train)\n",
    "end=time.time()\n",
    "print(\"BEST PARAMS\", rf_random.best_params_)\n",
    "print(f\"Runtime of the program is {end - start}\")"
   ]
  },
  {
   "cell_type": "code",
   "execution_count": 18,
   "metadata": {},
   "outputs": [
    {
     "data": {
      "text/plain": [
       "Text(0.5, 15.0, 'Predicted label')"
      ]
     },
     "execution_count": 18,
     "metadata": {},
     "output_type": "execute_result"
    },
    {
     "data": {
      "image/png": "[encoded data removed]",
      "text/plain": [
       "<Figure size 432x288 with 2 Axes>"
      ]
     },
     "metadata": {
      "needs_background": "light"
     },
     "output_type": "display_data"
    }
   ],
   "source": [
    "best_rf=rf_random.best_estimator_\n",
    "y_pred=best_rf.predict(X_test_s)\n",
    "cnf_matrix = confusion_matrix(y_test, y_pred)\n",
    "sns.heatmap(pd.DataFrame(cnf_matrix), annot=True, cmap=\"YlGnBu\" ,fmt='g')\n",
    "plt.tight_layout()\n",
    "plt.title('Confusion matrix')\n",
    "plt.ylabel('Actual label')\n",
    "plt.xlabel('Predicted label')"
   ]
  },
  {
   "cell_type": "code",
   "execution_count": 19,
   "metadata": {},
   "outputs": [
    {
     "name": "stdout",
     "output_type": "stream",
     "text": [
      "Accuracy: 0.82\n",
      "Precision: 0.663\n",
      "Recall: 0.358\n",
      "f1 score: 0.465\n"
     ]
    }
   ],
   "source": [
    "print(\"Accuracy:\",accuracy_score(y_test, y_pred).round(3))\n",
    "print(\"Precision:\",precision_score(y_test, y_pred).round(3))\n",
    "print(\"Recall:\",recall_score(y_test, y_pred).round(3))\n",
    "print(\"f1 score:\", f1_score(y_test, y_pred).round(3))"
   ]
  },
  {
   "cell_type": "code",
   "execution_count": 20,
   "metadata": {},
   "outputs": [
    {
     "data": {
      "text/plain": [
       "<matplotlib.legend.Legend at 0x27d09b31ee0>"
      ]
     },
     "execution_count": 20,
     "metadata": {},
     "output_type": "execute_result"
    },
    {
     "data": {
      "image/png": "[encoded data removed]",
      "text/plain": [
       "<Figure size 432x288 with 1 Axes>"
      ]
     },
     "metadata": {
      "needs_background": "light"
     },
     "output_type": "display_data"
    }
   ],
   "source": [
    "y_pred_proba = best_rf.predict_proba(X_test_s)[::,1]\n",
    "fpr, tpr, _ = roc_curve(y_test,  y_pred_proba)\n",
    "auc = roc_auc_score(y_test, y_pred_proba).round(3)\n",
    "plt.plot(fpr,tpr,label=\"data 1, auc=\"+str(auc))\n",
    "plt.legend(loc=4)"
   ]
  },
  {
   "cell_type": "code",
   "execution_count": 21,
   "metadata": {},
   "outputs": [
    {
     "name": "stdout",
     "output_type": "stream",
     "text": [
      "{'MARRIAGE_2': 0.0, 'MARRIAGE_3': 0.0, 'SEX_2': 0.0, 'EDUCATION_2': 0.0, 'EDUCATION_3': 0.0, 'EDUCATION_4': 0.0, 'AGE': 0.02, 'BILL_AMT3': 0.02, 'BILL_AMT4': 0.02, 'BILL_AMT5': 0.02, 'BILL_AMT6': 0.02, 'PAY_AMT4': 0.02, 'PAY_AMT5': 0.02, 'PAY_AMT6': 0.02, 'LIMIT_BAL': 0.03, 'PAY_6': 0.03, 'BILL_AMT1': 0.03, 'BILL_AMT2': 0.03, 'PAY_AMT2': 0.03, 'PAY_AMT3': 0.03, 'PAY_5': 0.04, 'PAY_AMT1': 0.04, 'PAY_4': 0.05, 'PAY_3': 0.08, 'PAY_2': 0.15, 'PAY_1': 0.26}\n"
     ]
    }
   ],
   "source": [
    "fea_importance=dict(zip(features_name, np.round(best_rf.feature_importances_, 2)))\n",
    "sort_fea_importance={}\n",
    "sorted_keys = sorted(fea_importance, key=fea_importance.get)\n",
    "for i in sorted_keys:\n",
    "    sort_fea_importance[i]=fea_importance[i]\n",
    "print(sort_fea_importance)"
   ]
  },
  {
   "cell_type": "markdown",
   "metadata": {},
   "source": [
    "The top 5 important features are PAY_1, PAY_2, PAY_3, PAY_4, and PAY_AMT1."
   ]
  },
  {
   "cell_type": "markdown",
   "metadata": {},
   "source": [
    "#### 3.1.2.4 gradient boosting"
   ]
  },
  {
   "cell_type": "markdown",
   "metadata": {},
   "source": [
    "gradient boosting = decision tree + boosting. Just like random forest, [the parameters of gradient boosting](https://www.analyticsvidhya.com/blog/2016/02/complete-guide-parameter-tuning-gradient-boosting-gbm-python/) includes both decision tree specific parameters and boosting parameters. Compared with random forest, gradient boosting not only controls for high variance in a model, but also control the bias. Therefore, it is regarded as a more effective algorithms. The disadvantage of this algorithms is its time-consuming.\n",
    "\n",
    "We choose three important hyperparameters to tune this model:\n",
    "* learning_rate\n",
    "* n_estimator\n",
    "* max_depth"
   ]
  },
  {
   "cell_type": "code",
   "execution_count": 22,
   "metadata": {},
   "outputs": [
    {
     "name": "stdout",
     "output_type": "stream",
     "text": [
      "Fitting 5 folds for each of 10 candidates, totalling 50 fits\n",
      "BEST PARAMS {'n_estimators': 50, 'max_depth': 2, 'learning_rate': 0.1}\n",
      "Runtime of the program is 972.5860357284546\n"
     ]
    }
   ],
   "source": [
    "from sklearn.ensemble import GradientBoostingClassifier\n",
    "gbm = GradientBoostingClassifier()\n",
    "n_estimators=[int(x) for x in np.linspace(start = 50, stop = 500, num = 10)]\n",
    "max_depths=[int(x) for x in np.linspace(1, 10, num = 10)]\n",
    "learning_rates = [0.05, 0.1, 0.25, 0.5, 0.75, 1]\n",
    "start=time.time()\n",
    "param_grid = {'n_estimators': n_estimators, 'max_depth':max_depths, 'learning_rate': learning_rates}\n",
    "gbm_random = RandomizedSearchCV(estimator = gbm, param_distributions=param_grid, cv = 5, verbose=2, random_state=42, n_jobs = -1)\n",
    "gbm_random.fit(X_train_s, y_train)\n",
    "end=time.time()\n",
    "print(\"BEST PARAMS\", gbm_random.best_params_)\n",
    "print(f\"Runtime of the program is {end - start}\")"
   ]
  },
  {
   "cell_type": "code",
   "execution_count": 23,
   "metadata": {},
   "outputs": [
    {
     "data": {
      "text/plain": [
       "Text(0.5, 15.0, 'Predicted label')"
      ]
     },
     "execution_count": 23,
     "metadata": {},
     "output_type": "execute_result"
    },
    {
     "data": {
      "image/png": "[encoded data removed]",
      "text/plain": [
       "<Figure size 432x288 with 2 Axes>"
      ]
     },
     "metadata": {
      "needs_background": "light"
     },
     "output_type": "display_data"
    }
   ],
   "source": [
    "best_gbm=gbm_random.best_estimator_\n",
    "y_pred=best_gbm.predict(X_test_s)\n",
    "cnf_matrix = confusion_matrix(y_test, y_pred)\n",
    "sns.heatmap(pd.DataFrame(cnf_matrix), annot=True, cmap=\"YlGnBu\" ,fmt='g')\n",
    "plt.tight_layout()\n",
    "plt.title('Confusion matrix')\n",
    "plt.ylabel('Actual label')\n",
    "plt.xlabel('Predicted label')"
   ]
  },
  {
   "cell_type": "code",
   "execution_count": 24,
   "metadata": {},
   "outputs": [
    {
     "name": "stdout",
     "output_type": "stream",
     "text": [
      "Accuracy: 0.822\n",
      "Precision: 0.675\n",
      "Recall: 0.349\n",
      "f1 score: 0.46\n"
     ]
    }
   ],
   "source": [
    "print(\"Accuracy:\",accuracy_score(y_test, y_pred).round(3))\n",
    "print(\"Precision:\",precision_score(y_test, y_pred).round(3))\n",
    "print(\"Recall:\",recall_score(y_test, y_pred).round(3))\n",
    "print(\"f1 score:\", f1_score(y_test, y_pred).round(3))"
   ]
  },
  {
   "cell_type": "code",
   "execution_count": 25,
   "metadata": {},
   "outputs": [
    {
     "data": {
      "text/plain": [
       "<matplotlib.legend.Legend at 0x27d0b543700>"
      ]
     },
     "execution_count": 25,
     "metadata": {},
     "output_type": "execute_result"
    },
    {
     "data": {
      "image/png": "[encoded data removed]",
      "text/plain": [
       "<Figure size 432x288 with 1 Axes>"
      ]
     },
     "metadata": {
      "needs_background": "light"
     },
     "output_type": "display_data"
    }
   ],
   "source": [
    "y_pred_proba = best_gbm.predict_proba(X_test_s)[::,1]\n",
    "fpr, tpr, _ = roc_curve(y_test,  y_pred_proba)\n",
    "auc = roc_auc_score(y_test, y_pred_proba).round(3)\n",
    "plt.plot(fpr,tpr,label=\"data 1, auc=\"+str(auc))\n",
    "plt.legend(loc=4)"
   ]
  },
  {
   "cell_type": "code",
   "execution_count": 26,
   "metadata": {},
   "outputs": [
    {
     "name": "stdout",
     "output_type": "stream",
     "text": [
      "{'AGE': 0.0, 'BILL_AMT2': 0.0, 'BILL_AMT3': 0.0, 'BILL_AMT4': 0.0, 'BILL_AMT5': 0.0, 'BILL_AMT6': 0.0, 'PAY_AMT5': 0.0, 'MARRIAGE_2': 0.0, 'MARRIAGE_3': 0.0, 'SEX_2': 0.0, 'EDUCATION_2': 0.0, 'EDUCATION_3': 0.0, 'EDUCATION_4': 0.0, 'BILL_AMT1': 0.01, 'PAY_AMT4': 0.01, 'PAY_AMT6': 0.01, 'LIMIT_BAL': 0.02, 'PAY_4': 0.02, 'PAY_5': 0.02, 'PAY_6': 0.02, 'PAY_AMT1': 0.02, 'PAY_AMT2': 0.02, 'PAY_AMT3': 0.02, 'PAY_3': 0.05, 'PAY_2': 0.07, 'PAY_1': 0.7}\n"
     ]
    }
   ],
   "source": [
    "fea_importance=dict(zip(features_name, np.round(best_gbm.feature_importances_, 2)))\n",
    "sort_fea_importance={}\n",
    "sorted_keys = sorted(fea_importance, key=fea_importance.get)\n",
    "for i in sorted_keys:\n",
    "    sort_fea_importance[i]=fea_importance[i]\n",
    "print(sort_fea_importance)"
   ]
  },
  {
   "cell_type": "markdown",
   "metadata": {},
   "source": [
    "The top five important features are PAY_1, PAY_2, PAY_3, PAY_AMT3 and PAY_AMT2"
   ]
  },
  {
   "cell_type": "markdown",
   "metadata": {},
   "source": [
    "#### 3.1.2.5 Extreme Gradient Boosting (XGBoost)"
   ]
  },
  {
   "cell_type": "markdown",
   "metadata": {},
   "source": [
    "XGBoost is short for “eXtreme Gradient Boosting.” The “eXtreme” refers to speed enhancements such as parallel computing and cache awareness that makes XGBoost approximately 10 times faster than traditional Gradient Boosting. In addition, XGBoost includes a unique split-finding algorithm to optimize trees, along with built-in regularization that reduces overfitting. Generally speaking, XGBoost is a faster, more accurate version of Gradient Boosting\n",
    "\n",
    "subsample is the same as the one in GBM. It means the fraction of observations to be randomly sampled for tree model. The lower the value, the more conservative the model. Typically, we choose the value between 0.5 and 1.\n",
    "\n",
    "reg_alpha is the regularization parameters to avoid overfitting of the model. It adds L1 regularization term on weight."
   ]
  },
  {
   "cell_type": "code",
   "execution_count": 27,
   "metadata": {},
   "outputs": [
    {
     "name": "stdout",
     "output_type": "stream",
     "text": [
      "Fitting 5 folds for each of 10 candidates, totalling 50 fits\n",
      "[09:10:53] WARNING: ..\\src\\learner.cc:1095: Starting in XGBoost 1.3.0, the default evaluation metric used with the objective 'binary:logistic' was changed from 'error' to 'logloss'. Explicitly set eval_metric if you'd like to restore the old behavior.\n",
      "BEST PARAMS {'subsample': 0.5, 'reg_alpha': 0, 'n_estimators': 200, 'max_depth': 5, 'learning_rate': 0.05, 'gamma': 0.1}\n",
      "Runtime of the program is 224.6514277458191\n"
     ]
    }
   ],
   "source": [
    "from xgboost import XGBClassifier\n",
    "xgb=XGBClassifier(use_label_encoder=False)\n",
    "reg_alphas=[0, 0.001, 0.005, 0.01, 0.05]\n",
    "gammas=[0.1, 0.2, 0.3, 0.4, 0.5]\n",
    "subsamples=[0.5, 0.6, 0.7, 0.8]\n",
    "n_estimators=[int(x) for x in np.linspace(start = 50, stop = 500, num = 10)]\n",
    "max_depths=[int(x) for x in np.linspace(1, 10, num = 10)]\n",
    "learning_rates = [0.05, 0.1, 0.25, 0.5, 0.75, 1]\n",
    "start=time.time()\n",
    "param_grid = {'reg_alpha':reg_alphas, 'gamma':gammas, 'subsample': subsamples, 'n_estimators': n_estimators, 'max_depth':max_depths, 'learning_rate': learning_rates}\n",
    "xgb_random = RandomizedSearchCV(estimator = xgb, param_distributions=param_grid, cv = 5, verbose=2, random_state=42, n_jobs = -1)\n",
    "xgb_random.fit(X_train_s, y_train)\n",
    "end=time.time()\n",
    "print(\"BEST PARAMS\", xgb_random.best_params_)\n",
    "print(f\"Runtime of the program is {end - start}\")"
   ]
  },
  {
   "cell_type": "code",
   "execution_count": 28,
   "metadata": {},
   "outputs": [
    {
     "data": {
      "text/plain": [
       "Text(0.5, 15.0, 'Predicted label')"
      ]
     },
     "execution_count": 28,
     "metadata": {},
     "output_type": "execute_result"
    },
    {
     "data": {
      "image/png": "[encoded data removed]",
      "text/plain": [
       "<Figure size 432x288 with 2 Axes>"
      ]
     },
     "metadata": {
      "needs_background": "light"
     },
     "output_type": "display_data"
    }
   ],
   "source": [
    "best_xgb=xgb_random.best_estimator_\n",
    "y_pred=best_xgb.predict(X_test_s)\n",
    "cnf_matrix = confusion_matrix(y_test, y_pred)\n",
    "sns.heatmap(pd.DataFrame(cnf_matrix), annot=True, cmap=\"YlGnBu\" ,fmt='g')\n",
    "plt.tight_layout()\n",
    "plt.title('Confusion matrix')\n",
    "plt.ylabel('Actual label')\n",
    "plt.xlabel('Predicted label')"
   ]
  },
  {
   "cell_type": "code",
   "execution_count": 29,
   "metadata": {},
   "outputs": [
    {
     "name": "stdout",
     "output_type": "stream",
     "text": [
      "Accuracy: 0.819\n",
      "Precision: 0.657\n",
      "Recall: 0.358\n",
      "f1 score: 0.463\n"
     ]
    }
   ],
   "source": [
    "print(\"Accuracy:\",accuracy_score(y_test, y_pred).round(3))\n",
    "print(\"Precision:\",precision_score(y_test, y_pred).round(3))\n",
    "print(\"Recall:\",recall_score(y_test, y_pred).round(3))\n",
    "print(\"f1 score:\",f1_score(y_test, y_pred).round(3))"
   ]
  },
  {
   "cell_type": "code",
   "execution_count": 30,
   "metadata": {},
   "outputs": [
    {
     "data": {
      "text/plain": [
       "<matplotlib.legend.Legend at 0x27d0a083df0>"
      ]
     },
     "execution_count": 30,
     "metadata": {},
     "output_type": "execute_result"
    },
    {
     "data": {
      "image/png": "[encoded data removed]",
      "text/plain": [
       "<Figure size 432x288 with 1 Axes>"
      ]
     },
     "metadata": {
      "needs_background": "light"
     },
     "output_type": "display_data"
    }
   ],
   "source": [
    "y_pred_proba = best_xgb.predict_proba(X_test_s)[::,1]\n",
    "fpr, tpr, _ = roc_curve(y_test,  y_pred_proba)\n",
    "auc = roc_auc_score(y_test, y_pred_proba).round(3)\n",
    "plt.plot(fpr,tpr,label=\"data 1, auc=\"+str(auc))\n",
    "plt.legend(loc=4)"
   ]
  },
  {
   "cell_type": "code",
   "execution_count": 31,
   "metadata": {},
   "outputs": [
    {
     "name": "stdout",
     "output_type": "stream",
     "text": [
      "{'LIMIT_BAL': 0.02, 'AGE': 0.02, 'BILL_AMT1': 0.02, 'BILL_AMT2': 0.02, 'BILL_AMT3': 0.02, 'BILL_AMT4': 0.02, 'BILL_AMT5': 0.02, 'BILL_AMT6': 0.02, 'PAY_AMT1': 0.02, 'PAY_AMT2': 0.02, 'PAY_AMT3': 0.02, 'PAY_AMT4': 0.02, 'PAY_AMT5': 0.02, 'PAY_AMT6': 0.02, 'MARRIAGE_2': 0.02, 'MARRIAGE_3': 0.02, 'SEX_2': 0.02, 'EDUCATION_2': 0.02, 'EDUCATION_3': 0.02, 'EDUCATION_4': 0.02, 'PAY_4': 0.03, 'PAY_5': 0.03, 'PAY_6': 0.03, 'PAY_3': 0.05, 'PAY_2': 0.13, 'PAY_1': 0.32}\n"
     ]
    }
   ],
   "source": [
    "fea_importance=dict(zip(features_name, np.round(best_xgb.feature_importances_, 2)))\n",
    "sort_fea_importance={}\n",
    "sorted_keys = sorted(fea_importance, key=fea_importance.get)\n",
    "for i in sorted_keys:\n",
    "    sort_fea_importance[i]=fea_importance[i]\n",
    "print(sort_fea_importance)"
   ]
  },
  {
   "cell_type": "markdown",
   "metadata": {},
   "source": [
    "The most important features are still PAY_1, PAY_2, PAY_3, PAY_5 and PAY_6. It included almost all PAY_n features."
   ]
  },
  {
   "cell_type": "markdown",
   "metadata": {},
   "source": [
    "#### 3.1.2.6 KNN\n",
    "\n",
    "The k-nearest neighbors algorithm (KNN) is a non-parametric method used for classification. To calculate distances, 3 distance metrics that are often used are Euclidean Distance, Manhattan Distance, and Minkowski Distance. Here, we will test euclidean distance and manhattan distance.\n",
    "\n",
    "We will tune two hyperparameters in knn, n_neighbors and p. When p = 1, this is equivalent to using manhattan_distance (l1), and euclidean_distance (l2) for p = 2. \n",
    "\n",
    "In general practice, people choose the value of n_neighbors by calculating sqrt(N), where N stands for the number of samples in the training set."
   ]
  },
  {
   "cell_type": "code",
   "execution_count": 32,
   "metadata": {},
   "outputs": [
    {
     "name": "stdout",
     "output_type": "stream",
     "text": [
      "Fitting 5 folds for each of 10 candidates, totalling 50 fits\n",
      "BEST PARAMS {'p': 2, 'n_neighbors': 50}\n",
      "Runtime of the program is 134.15059518814087\n"
     ]
    }
   ],
   "source": [
    "n_neighbors = [50, 100, 500, 1000, 5000]\n",
    "p=[1,2]\n",
    "param_grid ={'n_neighbors':n_neighbors, 'p':p}\n",
    "knn = KNeighborsClassifier()\n",
    "start=time.time()\n",
    "knn_random = RandomizedSearchCV(estimator = knn, param_distributions=param_grid, cv = 5, verbose=2, random_state=42, n_jobs = -1)\n",
    "knn_random.fit(X_train_s, y_train)\n",
    "end=time.time()\n",
    "print(\"BEST PARAMS\", knn_random.best_params_)\n",
    "print(f\"Runtime of the program is {end - start}\")"
   ]
  },
  {
   "cell_type": "code",
   "execution_count": 33,
   "metadata": {},
   "outputs": [
    {
     "data": {
      "text/plain": [
       "Text(0.5, 15.0, 'Predicted label')"
      ]
     },
     "execution_count": 33,
     "metadata": {},
     "output_type": "execute_result"
    },
    {
     "data": {
      "image/png": "[encoded data removed]",
      "text/plain": [
       "<Figure size 432x288 with 2 Axes>"
      ]
     },
     "metadata": {
      "needs_background": "light"
     },
     "output_type": "display_data"
    }
   ],
   "source": [
    "best_knn=knn_random.best_estimator_\n",
    "y_pred=best_knn.predict(X_test_s)\n",
    "cnf_matrix = confusion_matrix(y_test, y_pred)\n",
    "sns.heatmap(pd.DataFrame(cnf_matrix), annot=True, cmap=\"YlGnBu\" ,fmt='g')\n",
    "plt.tight_layout()\n",
    "plt.title('Confusion matrix')\n",
    "plt.ylabel('Actual label')\n",
    "plt.xlabel('Predicted label')"
   ]
  },
  {
   "cell_type": "code",
   "execution_count": 34,
   "metadata": {},
   "outputs": [
    {
     "name": "stdout",
     "output_type": "stream",
     "text": [
      "Accuracy: 0.808\n",
      "Precision: 0.646\n",
      "Recall: 0.258\n",
      "f1 score: 0.368\n"
     ]
    }
   ],
   "source": [
    "print(\"Accuracy:\",accuracy_score(y_test, y_pred).round(3))\n",
    "print(\"Precision:\",precision_score(y_test, y_pred).round(3))\n",
    "print(\"Recall:\",recall_score(y_test, y_pred).round(3))\n",
    "print(\"f1 score:\",f1_score(y_test, y_pred).round(3))"
   ]
  },
  {
   "cell_type": "code",
   "execution_count": 35,
   "metadata": {},
   "outputs": [
    {
     "data": {
      "text/plain": [
       "<matplotlib.legend.Legend at 0x27d09c5e8e0>"
      ]
     },
     "execution_count": 35,
     "metadata": {},
     "output_type": "execute_result"
    },
    {
     "data": {
      "image/png": "[encoded data removed]",
      "text/plain": [
       "<Figure size 432x288 with 1 Axes>"
      ]
     },
     "metadata": {
      "needs_background": "light"
     },
     "output_type": "display_data"
    }
   ],
   "source": [
    "y_pred_proba = best_knn.predict_proba(X_test_s)[::,1]\n",
    "fpr, tpr, _ = roc_curve(y_test,  y_pred_proba)\n",
    "auc = roc_auc_score(y_test, y_pred_proba).round(3)\n",
    "plt.plot(fpr,tpr,label=\"data 1, auc=\"+str(auc))\n",
    "plt.legend(loc=4)"
   ]
  },
  {
   "cell_type": "markdown",
   "metadata": {},
   "source": [
    "In knn algorithms, there is no available function about feature importance.But just like linear regression, we can evaluate the importance of each individual feature by performing classification using one single feature at a time. "
   ]
  },
  {
   "cell_type": "code",
   "execution_count": 36,
   "metadata": {},
   "outputs": [
    {
     "name": "stdout",
     "output_type": "stream",
     "text": [
      "Feature  Accuracy\n",
      "0        0.776952\n",
      "1        0.777333\n",
      "2        0.819429\n",
      "3        0.793857\n",
      "4        0.785238\n",
      "5        0.786143\n",
      "6        0.788667\n",
      "7        0.78219\n",
      "8        0.776524\n",
      "9        0.776333\n",
      "10        0.777095\n",
      "11        0.77781\n",
      "12        0.777381\n",
      "13        0.776952\n",
      "14        0.777333\n",
      "15        0.777333\n",
      "16        0.777333\n",
      "17        0.777333\n",
      "18        0.777333\n",
      "19        0.777333\n",
      "20        0.777333\n",
      "21        0.777333\n",
      "22        0.777333\n",
      "23        0.777333\n",
      "24        0.777333\n",
      "25        0.777333\n"
     ]
    }
   ],
   "source": [
    "from sklearn.model_selection import cross_val_score\n",
    "clf = KNeighborsClassifier(p=1, n_neighbors=50)\n",
    "n_feats = X_train_s.shape[1]\n",
    "print('Feature  Accuracy')\n",
    "for i in range(n_feats):\n",
    "    X = X_train_s[:, i].reshape(-1, 1)\n",
    "    scores = cross_val_score(clf, X, y_train, cv=5)\n",
    "    print(f'{i}        {scores.mean():g}')"
   ]
  },
  {
   "cell_type": "code",
   "execution_count": 37,
   "metadata": {},
   "outputs": [
    {
     "name": "stdout",
     "output_type": "stream",
     "text": [
      "Index(['PAY_1', 'PAY_2', 'PAY_3', 'PAY_4', 'PAY_5'], dtype='object')\n"
     ]
    }
   ],
   "source": [
    "print(features_name[2:7])"
   ]
  },
  {
   "cell_type": "markdown",
   "metadata": {},
   "source": [
    "Well, it seems feature 2 to 7 are more important than the other predictors. They are corresponding to PAY_1, PAY_2, PAY_3, PAY_4 and PAY_5"
   ]
  },
  {
   "cell_type": "markdown",
   "metadata": {},
   "source": [
    "### 3.3 summary"
   ]
  },
  {
   "cell_type": "code",
   "execution_count": 38,
   "metadata": {},
   "outputs": [
    {
     "data": {
      "text/plain": [
       "<sklearn.metrics._plot.roc_curve.RocCurveDisplay at 0x27d0b1647c0>"
      ]
     },
     "execution_count": 38,
     "metadata": {},
     "output_type": "execute_result"
    },
    {
     "data": {
      "image/png": "[encoded data removed]",
      "text/plain": [
       "<Figure size 720x720 with 1 Axes>"
      ]
     },
     "metadata": {
      "needs_background": "light"
     },
     "output_type": "display_data"
    }
   ],
   "source": [
    "from sklearn.metrics import plot_roc_curve\n",
    "fig,ax=plt.subplots(figsize=(10,10))\n",
    "plot_roc_curve(best_C_logreg, X_test_s, y_test,ax=ax, color=\"blue\",label='Regularized Logistic Regression')\n",
    "plot_roc_curve(best_tree, X_test_s, y_test,ax=ax, color=\"red\",label='Decision Tree')\n",
    "plot_roc_curve(best_rf, X_test_s, y_test,ax=ax, color=\"black\",label='Random Forest')\n",
    "plot_roc_curve(best_gbm, X_test_s, y_test,ax=ax, color=\"yellow\",label='Gradient Boosting')\n",
    "plot_roc_curve(best_xgb, X_test_s, y_test,ax=ax, color=\"green\",label='Extreme Gradient Boosting')\n",
    "plot_roc_curve(best_knn, X_test_s, y_test,ax=ax, color=\"purple\",label='K Nearest Neighbour')"
   ]
  },
  {
   "cell_type": "markdown",
   "metadata": {},
   "source": [
    "XGB and gradient boosting gave us the best results, followed by random forest. The logistic regression and KNN are the worst among all these 6 algorithms\n",
    "\n",
    "Although different algorithms gave us slightly difference sequence of feature importance, PAY_1, PAY_2 and PAY_3 are consistently the most important ones.\n",
    "\n",
    "In the next section, we will develop a machine learning pipline to help us better optimize and select algorithms. We will also explore the reduced dataset df_sum to develop the prediction model for credit card default."
   ]
  }
 ],
 "metadata": {
  "kernelspec": {
   "display_name": "Python 3",
   "language": "python",
   "name": "python3"
  },
  "language_info": {
   "codemirror_mode": {
    "name": "ipython",
    "version": 3
   },
   "file_extension": ".py",
   "mimetype": "text/x-python",
   "name": "python",
   "nbconvert_exporter": "python",
   "pygments_lexer": "ipython3",
   "version": "3.9.4"
  }
 },
 "nbformat": 4,
 "nbformat_minor": 4
}
