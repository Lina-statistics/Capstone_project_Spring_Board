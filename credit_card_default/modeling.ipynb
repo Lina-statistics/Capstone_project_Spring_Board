{
 "cells": [
  {
   "cell_type": "markdown",
   "metadata": {},
   "source": [
    "## 3. data pre-processing and modelling\n",
    "We will experiment different classification algorithms in this section, evaluate their performance and give a summary report.\n",
    "\n",
    "Q1: Which algorithm is our best choice for this dataset?\n",
    "\n",
    "Big data can be divided into two categories, the super long data or the super wide data. The wide data is also called high-dimensional data. Some algorithms are really good at handling such data set, for instance, support vector machine and naive bayes. Since our data set is long, we will not test these two algorithms in this experiment. Instead, we will try logistic regression, decision tree, random forest, gradient boosting, etc.\n",
    "\n",
    "### 3.1 model development using df_new\n",
    "#### 3.1.1 data pre-processing"
   ]
  },
  {
   "cell_type": "code",
   "execution_count": 56,
   "metadata": {},
   "outputs": [],
   "source": [
    "import pandas as pd\n",
    "import numpy as np\n",
    "import matplotlib.pyplot as plt\n",
    "import seaborn as sns\n",
    "import time\n",
    "from sklearn.preprocessing import StandardScaler\n",
    "from sklearn.model_selection import train_test_split, cross_validate\n",
    "from sklearn.pipeline import Pipeline\n",
    "from sklearn.metrics import classification_report, roc_curve, roc_auc_score, confusion_matrix, accuracy_score, precision_score, recall_score\n",
    "from sklearn.model_selection import GridSearchCV, RandomizedSearchCV\n",
    "from sklearn.linear_model import LogisticRegression\n",
    "from sklearn.tree import DecisionTreeClassifier\n",
    "from sklearn.neighbors import KNeighborsClassifier\n",
    "from sklearn.ensemble import RandomForestClassifier, GradientBoostingClassifier, AdaBoostClassifier"
   ]
  },
  {
   "cell_type": "code",
   "execution_count": 57,
   "metadata": {},
   "outputs": [
    {
     "data": {
      "text/plain": [
       "Index(['LIMIT_BAL', 'AGE', 'PAY_1', 'PAY_2', 'PAY_3', 'PAY_4', 'PAY_5',\n",
       "       'PAY_6', 'BILL_AMT1', 'BILL_AMT2', 'BILL_AMT3', 'BILL_AMT4',\n",
       "       'BILL_AMT5', 'BILL_AMT6', 'PAY_AMT1', 'PAY_AMT2', 'PAY_AMT3',\n",
       "       'PAY_AMT4', 'PAY_AMT5', 'PAY_AMT6', 'DEFAULT', 'MARRIAGE_2',\n",
       "       'MARRIAGE_3', 'SEX_2', 'EDUCATION_2', 'EDUCATION_3', 'EDUCATION_4'],\n",
       "      dtype='object')"
      ]
     },
     "execution_count": 57,
     "metadata": {},
     "output_type": "execute_result"
    }
   ],
   "source": [
    "dataPath='data/df_new2.csv'\n",
    "df=pd.read_csv(dataPath,index_col='ID')\n",
    "df.columns"
   ]
  },
  {
   "cell_type": "code",
   "execution_count": 58,
   "metadata": {},
   "outputs": [],
   "source": [
    "X=df.drop(['DEFAULT'], axis=1)\n",
    "y=df.DEFAULT"
   ]
  },
  {
   "cell_type": "code",
   "execution_count": 59,
   "metadata": {},
   "outputs": [
    {
     "data": {
      "text/plain": [
       "Index(['LIMIT_BAL', 'AGE', 'PAY_1', 'PAY_2', 'PAY_3', 'PAY_4', 'PAY_5',\n",
       "       'PAY_6', 'BILL_AMT1', 'BILL_AMT2', 'BILL_AMT3', 'BILL_AMT4',\n",
       "       'BILL_AMT5', 'BILL_AMT6', 'PAY_AMT1', 'PAY_AMT2', 'PAY_AMT3',\n",
       "       'PAY_AMT4', 'PAY_AMT5', 'PAY_AMT6', 'MARRIAGE_2', 'MARRIAGE_3', 'SEX_2',\n",
       "       'EDUCATION_2', 'EDUCATION_3', 'EDUCATION_4'],\n",
       "      dtype='object')"
      ]
     },
     "execution_count": 59,
     "metadata": {},
     "output_type": "execute_result"
    }
   ],
   "source": [
    "X.columns"
   ]
  },
  {
   "cell_type": "code",
   "execution_count": 60,
   "metadata": {},
   "outputs": [
    {
     "name": "stdout",
     "output_type": "stream",
     "text": [
      "(30000, 26) (30000,)\n"
     ]
    }
   ],
   "source": [
    "print(X.shape, y.shape)"
   ]
  },
  {
   "cell_type": "code",
   "execution_count": 61,
   "metadata": {},
   "outputs": [],
   "source": [
    "X_train, X_test, y_train, y_test = train_test_split(X, y, test_size=0.3, random_state=42, stratify=y)\n",
    "#use stratified sampling to make sure the imbalance of DEFAULT will not have an effect on modeling"
   ]
  },
  {
   "cell_type": "code",
   "execution_count": 62,
   "metadata": {},
   "outputs": [],
   "source": [
    "st_scaler=StandardScaler()\n",
    "X_train_s=st_scaler.fit_transform(X_train)\n",
    "X_test_s=st_scaler.transform(X_test)"
   ]
  },
  {
   "cell_type": "markdown",
   "metadata": {},
   "source": [
    "### 3.1.2 model development"
   ]
  },
  {
   "cell_type": "markdown",
   "metadata": {},
   "source": [
    "#### 3.1.2.1 regularized logistic regression\n",
    "Binary logistic regression is the simplest classification algorithms. But it cannot perform very well when there are colinearity between predictors. It is also vulnerable to overfitting. As we explored the correlation between predictors in section1, we found some colinearity between them. Hence, we decided to use regularized logistic regression and use GridSearchCV( ) to find the best value of the hyperparameter, [C](https://scikit-learn.org/0.15/modules/generated/sklearn.linear_model.LogisticRegression.html).\n",
    "\n",
    "Because gridSearchCV is very time-consuming for some algorithms, here we choose RandomizedSearchCV."
   ]
  },
  {
   "cell_type": "code",
   "execution_count": 63,
   "metadata": {},
   "outputs": [
    {
     "name": "stdout",
     "output_type": "stream",
     "text": [
      "BEST PARAMS {'C': 10}\n",
      "Runtime of the program is 5.150224685668945\n"
     ]
    }
   ],
   "source": [
    "start=time.time()\n",
    "logreg = LogisticRegression()\n",
    "param_grid = {'C': [0.001, 0.005, 0.01, 0.05, 0.1, 0.5, 1, 5, 10, 50, 100]} # C is the inverse of regularization strength; must be a positive float. Smaller values of C mean stronger regularization.\n",
    "logreg_cv = RandomizedSearchCV(logreg, param_grid , cv=5, random_state=42)\n",
    "logreg_cv.fit(X_train_s,y_train)\n",
    "end=time.time()\n",
    "print(\"BEST PARAMS\", logreg_cv.best_params_)\n",
    "print(f\"Runtime of the program is {end - start}\")"
   ]
  },
  {
   "cell_type": "code",
   "execution_count": 64,
   "metadata": {},
   "outputs": [
    {
     "data": {
      "text/plain": [
       "Text(0.5, 15.0, 'Predicted label')"
      ]
     },
     "execution_count": 64,
     "metadata": {},
     "output_type": "execute_result"
    },
    {
     "data": {
      "image/png": "[encoded data removed]",
      "text/plain": [
       "<Figure size 432x288 with 2 Axes>"
      ]
     },
     "metadata": {
      "needs_background": "light"
     },
     "output_type": "display_data"
    }
   ],
   "source": [
    "# use the best C value, 10, to develop regularized logistic regression model\n",
    "best_C_logreg=logreg_cv.best_estimator_\n",
    "y_pred=best_C_logreg.predict(X_test_s)\n",
    "cnf_matrix = confusion_matrix(y_test, y_pred)\n",
    "sns.heatmap(pd.DataFrame(cnf_matrix), annot=True, cmap=\"YlGnBu\" ,fmt='g')\n",
    "plt.tight_layout()\n",
    "plt.title('Confusion matrix')\n",
    "plt.ylabel('Actual label')\n",
    "plt.xlabel('Predicted label')"
   ]
  },
  {
   "cell_type": "code",
   "execution_count": 65,
   "metadata": {},
   "outputs": [
    {
     "name": "stdout",
     "output_type": "stream",
     "text": [
      "Accuracy: 0.809\n",
      "Precision: 0.701\n",
      "Recall: 0.239\n"
     ]
    }
   ],
   "source": [
    "print(\"Accuracy:\",accuracy_score(y_test, y_pred).round(3))\n",
    "print(\"Precision:\",precision_score(y_test, y_pred).round(3))\n",
    "print(\"Recall:\",recall_score(y_test, y_pred).round(3))"
   ]
  },
  {
   "cell_type": "code",
   "execution_count": 75,
   "metadata": {},
   "outputs": [
    {
     "data": {
      "text/plain": [
       "<matplotlib.legend.Legend at 0x1b5db003ca0>"
      ]
     },
     "execution_count": 75,
     "metadata": {},
     "output_type": "execute_result"
    },
    {
     "data": {
      "image/png": "[encoded data removed]",
      "text/plain": [
       "<Figure size 432x288 with 1 Axes>"
      ]
     },
     "metadata": {
      "needs_background": "light"
     },
     "output_type": "display_data"
    }
   ],
   "source": [
    "y_pred_proba = best_C_logreg.predict_proba(X_test_s)[::,1]\n",
    "fpr, tpr, _ = roc_curve(y_test,  y_pred_proba)\n",
    "auc = roc_auc_score(y_test, y_pred_proba).round(3)\n",
    "plt.plot(fpr,tpr,label=\"data 1, auc=\"+str(auc))\n",
    "plt.legend(loc=4)"
   ]
  },
  {
   "cell_type": "markdown",
   "metadata": {},
   "source": [
    "There are [three ways](https://towardsdatascience.com/a-look-into-feature-importance-in-logistic-regression-models-a4aa970f9b0f) to rank features in a Logistic Regression model. They are by coefficient values, recursive feature elimination (RFE) and sci-kit Learn’s SelectFromModels (SFM). Here, we use SFM."
   ]
  },
  {
   "cell_type": "code",
   "execution_count": 68,
   "metadata": {},
   "outputs": [
    {
     "data": {
      "text/plain": [
       "Index(['PAY_1', 'BILL_AMT1', 'PAY_AMT1', 'PAY_AMT2', 'EDUCATION_4'], dtype='object')"
      ]
     },
     "execution_count": 68,
     "metadata": {},
     "output_type": "execute_result"
    }
   ],
   "source": [
    "from sklearn.feature_selection import SelectFromModel\n",
    "sfm=SelectFromModel(best_C_logreg, threshold=-np.inf, max_features=5)\n",
    "sfm.fit(X_train_s, y_train)\n",
    "feature_idx=sfm.get_support()\n",
    "feature_name=X.columns[feature_idx]\n",
    "feature_name"
   ]
  },
  {
   "cell_type": "markdown",
   "metadata": {},
   "source": [
    "#### 3.1.2.2 decision tree"
   ]
  },
  {
   "cell_type": "markdown",
   "metadata": {},
   "source": [
    "Usually, the tree complexity is measured by one of the following metrics: the number of nodes, the number of leaves, tree depth and attributes used. It is a little bit complicated to tune [all hyperparameters in decision tree](https://towardsdatascience.com/how-to-tune-a-decision-tree-f03721801680). Here we only experiment criterion and max_depth"
   ]
  },
  {
   "cell_type": "code",
   "execution_count": 69,
   "metadata": {},
   "outputs": [
    {
     "name": "stdout",
     "output_type": "stream",
     "text": [
      "BEST PARAMS {'max_depth': 4, 'criterion': 'gini'}\n",
      "Runtime of the program is 1682.068442106247\n"
     ]
    }
   ],
   "source": [
    "from sklearn.tree import export_graphviz\n",
    "import graphviz \n",
    "param_grid = {'criterion': ['gini', 'entropy'], 'max_depth':[2,4,6,8,10,12]}\n",
    "tree_cv = RandomizedSearchCV(DecisionTreeClassifier(), param_grid , cv=5, random_state=42)\n",
    "tree_cv.fit(X_train_s,y_train)\n",
    "end=time.time()\n",
    "print(\"BEST PARAMS\", tree_cv.best_params_)\n",
    "print(f\"Runtime of the program is {end - start}\")"
   ]
  },
  {
   "cell_type": "code",
   "execution_count": 70,
   "metadata": {},
   "outputs": [
    {
     "data": {
      "text/plain": [
       "Text(0.5, 15.0, 'Predicted label')"
      ]
     },
     "execution_count": 70,
     "metadata": {},
     "output_type": "execute_result"
    },
    {
     "data": {
      "image/png": "[encoded data removed]",
      "text/plain": [
       "<Figure size 432x288 with 2 Axes>"
      ]
     },
     "metadata": {
      "needs_background": "light"
     },
     "output_type": "display_data"
    }
   ],
   "source": [
    "# use the best parameter value, 'max_depth': 4, 'criterion': 'gini', to develop tree model\n",
    "best_tree=tree_cv.best_estimator_\n",
    "y_pred=best_tree.predict(X_test_s)\n",
    "cnf_matrix = confusion_matrix(y_test, y_pred)\n",
    "sns.heatmap(pd.DataFrame(cnf_matrix), annot=True, cmap=\"YlGnBu\" ,fmt='g')\n",
    "plt.tight_layout()\n",
    "plt.title('Confusion matrix')\n",
    "plt.ylabel('Actual label')\n",
    "plt.xlabel('Predicted label')"
   ]
  },
  {
   "cell_type": "code",
   "execution_count": 72,
   "metadata": {},
   "outputs": [
    {
     "name": "stdout",
     "output_type": "stream",
     "text": [
      "Accuracy: 0.818\n",
      "Precision: 0.668\n",
      "Recall: 0.352\n"
     ]
    }
   ],
   "source": [
    "print(\"Accuracy:\",accuracy_score(y_test, y_pred).round(3))\n",
    "print(\"Precision:\",precision_score(y_test, y_pred).round(3))\n",
    "print(\"Recall:\",recall_score(y_test, y_pred).round(3))"
   ]
  },
  {
   "cell_type": "code",
   "execution_count": 74,
   "metadata": {},
   "outputs": [
    {
     "data": {
      "text/plain": [
       "<matplotlib.legend.Legend at 0x1b5dadd30a0>"
      ]
     },
     "execution_count": 74,
     "metadata": {},
     "output_type": "execute_result"
    },
    {
     "data": {
      "image/png": "[encoded data removed]",
      "text/plain": [
       "<Figure size 432x288 with 1 Axes>"
      ]
     },
     "metadata": {
      "needs_background": "light"
     },
     "output_type": "display_data"
    }
   ],
   "source": [
    "fpr, tpr, _ = roc_curve(y_test,  y_pred_proba)\n",
    "auc = roc_auc_score(y_test, y_pred_proba).round(3)\n",
    "plt.plot(fpr,tpr,label=\"data 1, auc=\"+str(auc))\n",
    "plt.legend(loc=4)"
   ]
  },
  {
   "cell_type": "code",
   "execution_count": 77,
   "metadata": {},
   "outputs": [
    {
     "data": {
      "image/svg+xml": [
       "<?xml version=\"1.0\" encoding=\"UTF-8\" standalone=\"no\"?>\r\n",
       "<!DOCTYPE svg PUBLIC \"-//W3C//DTD SVG 1.1//EN\"\r\n",
       " \"http://www.w3.org/Graphics/SVG/1.1/DTD/svg11.dtd\">\r\n",
       "<!-- Generated by graphviz version 2.46.0 (20210118.1747)\r\n",
       " -->\r\n",
       "<!-- Title: Tree Pages: 1 -->\r\n",
       "<svg width=\"2225pt\" height=\"477pt\"\r\n",
       " viewBox=\"0.00 0.00 2224.50 477.00\" xmlns=\"http://www.w3.org/2000/svg\" xmlns:xlink=\"http://www.w3.org/1999/xlink\">\r\n",
       "<g id=\"graph0\" class=\"graph\" transform=\"scale(1 1) rotate(0) translate(4 473)\">\r\n",
       "<title>Tree</title>\r\n",
       "<polygon fill=\"white\" stroke=\"transparent\" points=\"-4,4 -4,-473 2220.5,-473 2220.5,4 -4,4\"/>\r\n",
       "<!-- 0 -->\r\n",
       "<g id=\"node1\" class=\"node\">\r\n",
       "<title>0</title>\r\n",
       "<path fill=\"#eca571\" stroke=\"black\" d=\"M1233.5,-469C1233.5,-469 1102.5,-469 1102.5,-469 1096.5,-469 1090.5,-463 1090.5,-457 1090.5,-457 1090.5,-413 1090.5,-413 1090.5,-407 1096.5,-401 1102.5,-401 1102.5,-401 1233.5,-401 1233.5,-401 1239.5,-401 1245.5,-407 1245.5,-413 1245.5,-413 1245.5,-457 1245.5,-457 1245.5,-463 1239.5,-469 1233.5,-469\"/>\r\n",
       "<text text-anchor=\"start\" x=\"1119.5\" y=\"-453.8\" font-family=\"Helvetica,sans-Serif\" font-size=\"14.00\">PAY_1 ≤ 1.349</text>\r\n",
       "<text text-anchor=\"start\" x=\"1130.5\" y=\"-438.8\" font-family=\"Helvetica,sans-Serif\" font-size=\"14.00\">gini = 0.345</text>\r\n",
       "<text text-anchor=\"start\" x=\"1112\" y=\"-423.8\" font-family=\"Helvetica,sans-Serif\" font-size=\"14.00\">samples = 21000</text>\r\n",
       "<text text-anchor=\"start\" x=\"1098.5\" y=\"-408.8\" font-family=\"Helvetica,sans-Serif\" font-size=\"14.00\">value = [16355, 4645]</text>\r\n",
       "</g>\r\n",
       "<!-- 1 -->\r\n",
       "<g id=\"node2\" class=\"node\">\r\n",
       "<title>1</title>\r\n",
       "<path fill=\"#ea9a60\" stroke=\"black\" d=\"M974.5,-365C974.5,-365 843.5,-365 843.5,-365 837.5,-365 831.5,-359 831.5,-353 831.5,-353 831.5,-309 831.5,-309 831.5,-303 837.5,-297 843.5,-297 843.5,-297 974.5,-297 974.5,-297 980.5,-297 986.5,-303 986.5,-309 986.5,-309 986.5,-353 986.5,-353 986.5,-359 980.5,-365 974.5,-365\"/>\r\n",
       "<text text-anchor=\"start\" x=\"860.5\" y=\"-349.8\" font-family=\"Helvetica,sans-Serif\" font-size=\"14.00\">PAY_2 ≤ 1.362</text>\r\n",
       "<text text-anchor=\"start\" x=\"871.5\" y=\"-334.8\" font-family=\"Helvetica,sans-Serif\" font-size=\"14.00\">gini = 0.276</text>\r\n",
       "<text text-anchor=\"start\" x=\"853\" y=\"-319.8\" font-family=\"Helvetica,sans-Serif\" font-size=\"14.00\">samples = 18805</text>\r\n",
       "<text text-anchor=\"start\" x=\"839.5\" y=\"-304.8\" font-family=\"Helvetica,sans-Serif\" font-size=\"14.00\">value = [15692, 3113]</text>\r\n",
       "</g>\r\n",
       "<!-- 0&#45;&gt;1 -->\r\n",
       "<g id=\"edge1\" class=\"edge\">\r\n",
       "<title>0&#45;&gt;1</title>\r\n",
       "<path fill=\"none\" stroke=\"black\" d=\"M1090.29,-403.4C1060.58,-391.7 1026.52,-378.28 996,-366.26\"/>\r\n",
       "<polygon fill=\"black\" stroke=\"black\" points=\"997.24,-362.99 986.65,-362.58 994.68,-369.5 997.24,-362.99\"/>\r\n",
       "<text text-anchor=\"middle\" x=\"996.62\" y=\"-381.81\" font-family=\"Helvetica,sans-Serif\" font-size=\"14.00\">True</text>\r\n",
       "</g>\r\n",
       "<!-- 16 -->\r\n",
       "<g id=\"node17\" class=\"node\">\r\n",
       "<title>16</title>\r\n",
       "<path fill=\"#8fc7f0\" stroke=\"black\" d=\"M1493,-365C1493,-365 1379,-365 1379,-365 1373,-365 1367,-359 1367,-353 1367,-353 1367,-309 1367,-309 1367,-303 1373,-297 1379,-297 1379,-297 1493,-297 1493,-297 1499,-297 1505,-303 1505,-309 1505,-309 1505,-353 1505,-353 1505,-359 1499,-365 1493,-365\"/>\r\n",
       "<text text-anchor=\"start\" x=\"1389\" y=\"-349.8\" font-family=\"Helvetica,sans-Serif\" font-size=\"14.00\">PAY_3 ≤ &#45;0.28</text>\r\n",
       "<text text-anchor=\"start\" x=\"1398.5\" y=\"-334.8\" font-family=\"Helvetica,sans-Serif\" font-size=\"14.00\">gini = 0.422</text>\r\n",
       "<text text-anchor=\"start\" x=\"1384.5\" y=\"-319.8\" font-family=\"Helvetica,sans-Serif\" font-size=\"14.00\">samples = 2195</text>\r\n",
       "<text text-anchor=\"start\" x=\"1375\" y=\"-304.8\" font-family=\"Helvetica,sans-Serif\" font-size=\"14.00\">value = [663, 1532]</text>\r\n",
       "</g>\r\n",
       "<!-- 0&#45;&gt;16 -->\r\n",
       "<g id=\"edge16\" class=\"edge\">\r\n",
       "<title>0&#45;&gt;16</title>\r\n",
       "<path fill=\"none\" stroke=\"black\" d=\"M1245.52,-404.5C1280.56,-391.16 1321.91,-375.42 1357.12,-362.02\"/>\r\n",
       "<polygon fill=\"black\" stroke=\"black\" points=\"1358.77,-365.14 1366.87,-358.31 1356.28,-358.59 1358.77,-365.14\"/>\r\n",
       "<text text-anchor=\"middle\" x=\"1356.64\" y=\"-377.42\" font-family=\"Helvetica,sans-Serif\" font-size=\"14.00\">False</text>\r\n",
       "</g>\r\n",
       "<!-- 2 -->\r\n",
       "<g id=\"node3\" class=\"node\">\r\n",
       "<title>2</title>\r\n",
       "<path fill=\"#e9965a\" stroke=\"black\" d=\"M539.5,-261C539.5,-261 408.5,-261 408.5,-261 402.5,-261 396.5,-255 396.5,-249 396.5,-249 396.5,-205 396.5,-205 396.5,-199 402.5,-193 408.5,-193 408.5,-193 539.5,-193 539.5,-193 545.5,-193 551.5,-199 551.5,-205 551.5,-205 551.5,-249 551.5,-249 551.5,-255 545.5,-261 539.5,-261\"/>\r\n",
       "<text text-anchor=\"start\" x=\"412\" y=\"-245.8\" font-family=\"Helvetica,sans-Serif\" font-size=\"14.00\">PAY_AMT3 ≤ &#45;0.26</text>\r\n",
       "<text text-anchor=\"start\" x=\"436.5\" y=\"-230.8\" font-family=\"Helvetica,sans-Serif\" font-size=\"14.00\">gini = 0.243</text>\r\n",
       "<text text-anchor=\"start\" x=\"418\" y=\"-215.8\" font-family=\"Helvetica,sans-Serif\" font-size=\"14.00\">samples = 17209</text>\r\n",
       "<text text-anchor=\"start\" x=\"404.5\" y=\"-200.8\" font-family=\"Helvetica,sans-Serif\" font-size=\"14.00\">value = [14769, 2440]</text>\r\n",
       "</g>\r\n",
       "<!-- 1&#45;&gt;2 -->\r\n",
       "<g id=\"edge2\" class=\"edge\">\r\n",
       "<title>1&#45;&gt;2</title>\r\n",
       "<path fill=\"none\" stroke=\"black\" d=\"M831.48,-311.82C755.7,-294.05 640.51,-267.04 561.49,-248.51\"/>\r\n",
       "<polygon fill=\"black\" stroke=\"black\" points=\"562.09,-245.06 551.55,-246.19 560.49,-251.88 562.09,-245.06\"/>\r\n",
       "</g>\r\n",
       "<!-- 9 -->\r\n",
       "<g id=\"node10\" class=\"node\">\r\n",
       "<title>9</title>\r\n",
       "<path fill=\"#f8ddc9\" stroke=\"black\" d=\"M962,-261C962,-261 856,-261 856,-261 850,-261 844,-255 844,-249 844,-249 844,-205 844,-205 844,-199 850,-193 856,-193 856,-193 962,-193 962,-193 968,-193 974,-199 974,-205 974,-205 974,-249 974,-249 974,-255 968,-261 962,-261\"/>\r\n",
       "<text text-anchor=\"start\" x=\"860.5\" y=\"-245.8\" font-family=\"Helvetica,sans-Serif\" font-size=\"14.00\">PAY_6 ≤ 1.127</text>\r\n",
       "<text text-anchor=\"start\" x=\"871.5\" y=\"-230.8\" font-family=\"Helvetica,sans-Serif\" font-size=\"14.00\">gini = 0.488</text>\r\n",
       "<text text-anchor=\"start\" x=\"857.5\" y=\"-215.8\" font-family=\"Helvetica,sans-Serif\" font-size=\"14.00\">samples = 1596</text>\r\n",
       "<text text-anchor=\"start\" x=\"852\" y=\"-200.8\" font-family=\"Helvetica,sans-Serif\" font-size=\"14.00\">value = [923, 673]</text>\r\n",
       "</g>\r\n",
       "<!-- 1&#45;&gt;9 -->\r\n",
       "<g id=\"edge9\" class=\"edge\">\r\n",
       "<title>1&#45;&gt;9</title>\r\n",
       "<path fill=\"none\" stroke=\"black\" d=\"M909,-296.88C909,-288.78 909,-279.98 909,-271.47\"/>\r\n",
       "<polygon fill=\"black\" stroke=\"black\" points=\"912.5,-271.3 909,-261.3 905.5,-271.3 912.5,-271.3\"/>\r\n",
       "</g>\r\n",
       "<!-- 3 -->\r\n",
       "<g id=\"node4\" class=\"node\">\r\n",
       "<title>3</title>\r\n",
       "<path fill=\"#eca470\" stroke=\"black\" d=\"M288,-157C288,-157 162,-157 162,-157 156,-157 150,-151 150,-145 150,-145 150,-101 150,-101 150,-95 156,-89 162,-89 162,-89 288,-89 288,-89 294,-89 300,-95 300,-101 300,-101 300,-145 300,-145 300,-151 294,-157 288,-157\"/>\r\n",
       "<text text-anchor=\"start\" x=\"158\" y=\"-141.8\" font-family=\"Helvetica,sans-Serif\" font-size=\"14.00\">BILL_AMT1 ≤ &#45;0.688</text>\r\n",
       "<text text-anchor=\"start\" x=\"187.5\" y=\"-126.8\" font-family=\"Helvetica,sans-Serif\" font-size=\"14.00\">gini = 0.339</text>\r\n",
       "<text text-anchor=\"start\" x=\"173.5\" y=\"-111.8\" font-family=\"Helvetica,sans-Serif\" font-size=\"14.00\">samples = 4516</text>\r\n",
       "<text text-anchor=\"start\" x=\"164\" y=\"-96.8\" font-family=\"Helvetica,sans-Serif\" font-size=\"14.00\">value = [3540, 976]</text>\r\n",
       "</g>\r\n",
       "<!-- 2&#45;&gt;3 -->\r\n",
       "<g id=\"edge3\" class=\"edge\">\r\n",
       "<title>2&#45;&gt;3</title>\r\n",
       "<path fill=\"none\" stroke=\"black\" d=\"M396.24,-194.15C368.68,-182.86 337.54,-170.1 309.44,-158.59\"/>\r\n",
       "<polygon fill=\"black\" stroke=\"black\" points=\"310.62,-155.29 300.04,-154.74 307.97,-161.77 310.62,-155.29\"/>\r\n",
       "</g>\r\n",
       "<!-- 6 -->\r\n",
       "<g id=\"node7\" class=\"node\">\r\n",
       "<title>6</title>\r\n",
       "<path fill=\"#e89153\" stroke=\"black\" d=\"M539.5,-157C539.5,-157 408.5,-157 408.5,-157 402.5,-157 396.5,-151 396.5,-145 396.5,-145 396.5,-101 396.5,-101 396.5,-95 402.5,-89 408.5,-89 408.5,-89 539.5,-89 539.5,-89 545.5,-89 551.5,-95 551.5,-101 551.5,-101 551.5,-145 551.5,-145 551.5,-151 545.5,-157 539.5,-157\"/>\r\n",
       "<text text-anchor=\"start\" x=\"425.5\" y=\"-141.8\" font-family=\"Helvetica,sans-Serif\" font-size=\"14.00\">PAY_5 ≤ 1.131</text>\r\n",
       "<text text-anchor=\"start\" x=\"436.5\" y=\"-126.8\" font-family=\"Helvetica,sans-Serif\" font-size=\"14.00\">gini = 0.204</text>\r\n",
       "<text text-anchor=\"start\" x=\"418\" y=\"-111.8\" font-family=\"Helvetica,sans-Serif\" font-size=\"14.00\">samples = 12693</text>\r\n",
       "<text text-anchor=\"start\" x=\"404.5\" y=\"-96.8\" font-family=\"Helvetica,sans-Serif\" font-size=\"14.00\">value = [11229, 1464]</text>\r\n",
       "</g>\r\n",
       "<!-- 2&#45;&gt;6 -->\r\n",
       "<g id=\"edge6\" class=\"edge\">\r\n",
       "<title>2&#45;&gt;6</title>\r\n",
       "<path fill=\"none\" stroke=\"black\" d=\"M474,-192.88C474,-184.78 474,-175.98 474,-167.47\"/>\r\n",
       "<polygon fill=\"black\" stroke=\"black\" points=\"477.5,-167.3 474,-157.3 470.5,-167.3 477.5,-167.3\"/>\r\n",
       "</g>\r\n",
       "<!-- 4 -->\r\n",
       "<g id=\"node5\" class=\"node\">\r\n",
       "<title>4</title>\r\n",
       "<path fill=\"#efb184\" stroke=\"black\" d=\"M126,-53C126,-53 12,-53 12,-53 6,-53 0,-47 0,-41 0,-41 0,-12 0,-12 0,-6 6,0 12,0 12,0 126,0 126,0 132,0 138,-6 138,-12 138,-12 138,-41 138,-41 138,-47 132,-53 126,-53\"/>\r\n",
       "<text text-anchor=\"start\" x=\"31.5\" y=\"-37.8\" font-family=\"Helvetica,sans-Serif\" font-size=\"14.00\">gini = 0.398</text>\r\n",
       "<text text-anchor=\"start\" x=\"17.5\" y=\"-22.8\" font-family=\"Helvetica,sans-Serif\" font-size=\"14.00\">samples = 1810</text>\r\n",
       "<text text-anchor=\"start\" x=\"8\" y=\"-7.8\" font-family=\"Helvetica,sans-Serif\" font-size=\"14.00\">value = [1314, 496]</text>\r\n",
       "</g>\r\n",
       "<!-- 3&#45;&gt;4 -->\r\n",
       "<g id=\"edge4\" class=\"edge\">\r\n",
       "<title>3&#45;&gt;4</title>\r\n",
       "<path fill=\"none\" stroke=\"black\" d=\"M170.44,-88.95C154.13,-79.07 136.31,-68.28 120.22,-58.53\"/>\r\n",
       "<polygon fill=\"black\" stroke=\"black\" points=\"121.85,-55.42 111.49,-53.24 118.23,-61.41 121.85,-55.42\"/>\r\n",
       "</g>\r\n",
       "<!-- 5 -->\r\n",
       "<g id=\"node6\" class=\"node\">\r\n",
       "<title>5</title>\r\n",
       "<path fill=\"#eb9c64\" stroke=\"black\" d=\"M282,-53C282,-53 168,-53 168,-53 162,-53 156,-47 156,-41 156,-41 156,-12 156,-12 156,-6 162,0 168,0 168,0 282,0 282,0 288,0 294,-6 294,-12 294,-12 294,-41 294,-41 294,-47 288,-53 282,-53\"/>\r\n",
       "<text text-anchor=\"start\" x=\"187.5\" y=\"-37.8\" font-family=\"Helvetica,sans-Serif\" font-size=\"14.00\">gini = 0.292</text>\r\n",
       "<text text-anchor=\"start\" x=\"173.5\" y=\"-22.8\" font-family=\"Helvetica,sans-Serif\" font-size=\"14.00\">samples = 2706</text>\r\n",
       "<text text-anchor=\"start\" x=\"164\" y=\"-7.8\" font-family=\"Helvetica,sans-Serif\" font-size=\"14.00\">value = [2226, 480]</text>\r\n",
       "</g>\r\n",
       "<!-- 3&#45;&gt;5 -->\r\n",
       "<g id=\"edge5\" class=\"edge\">\r\n",
       "<title>3&#45;&gt;5</title>\r\n",
       "<path fill=\"none\" stroke=\"black\" d=\"M225,-88.95C225,-80.72 225,-71.85 225,-63.48\"/>\r\n",
       "<polygon fill=\"black\" stroke=\"black\" points=\"228.5,-63.24 225,-53.24 221.5,-63.24 228.5,-63.24\"/>\r\n",
       "</g>\r\n",
       "<!-- 7 -->\r\n",
       "<g id=\"node8\" class=\"node\">\r\n",
       "<title>7</title>\r\n",
       "<path fill=\"#e89051\" stroke=\"black\" d=\"M455.5,-53C455.5,-53 324.5,-53 324.5,-53 318.5,-53 312.5,-47 312.5,-41 312.5,-41 312.5,-12 312.5,-12 312.5,-6 318.5,0 324.5,0 324.5,0 455.5,0 455.5,0 461.5,0 467.5,-6 467.5,-12 467.5,-12 467.5,-41 467.5,-41 467.5,-47 461.5,-53 455.5,-53\"/>\r\n",
       "<text text-anchor=\"start\" x=\"352.5\" y=\"-37.8\" font-family=\"Helvetica,sans-Serif\" font-size=\"14.00\">gini = 0.192</text>\r\n",
       "<text text-anchor=\"start\" x=\"334\" y=\"-22.8\" font-family=\"Helvetica,sans-Serif\" font-size=\"14.00\">samples = 12204</text>\r\n",
       "<text text-anchor=\"start\" x=\"320.5\" y=\"-7.8\" font-family=\"Helvetica,sans-Serif\" font-size=\"14.00\">value = [10892, 1312]</text>\r\n",
       "</g>\r\n",
       "<!-- 6&#45;&gt;7 -->\r\n",
       "<g id=\"edge7\" class=\"edge\">\r\n",
       "<title>6&#45;&gt;7</title>\r\n",
       "<path fill=\"none\" stroke=\"black\" d=\"M444.62,-88.95C436.49,-79.8 427.66,-69.87 419.52,-60.71\"/>\r\n",
       "<polygon fill=\"black\" stroke=\"black\" points=\"422.14,-58.39 412.88,-53.24 416.9,-63.04 422.14,-58.39\"/>\r\n",
       "</g>\r\n",
       "<!-- 8 -->\r\n",
       "<g id=\"node9\" class=\"node\">\r\n",
       "<title>8</title>\r\n",
       "<path fill=\"#f1ba92\" stroke=\"black\" d=\"M604,-53C604,-53 498,-53 498,-53 492,-53 486,-47 486,-41 486,-41 486,-12 486,-12 486,-6 492,0 498,0 498,0 604,0 604,0 610,0 616,-6 616,-12 616,-12 616,-41 616,-41 616,-47 610,-53 604,-53\"/>\r\n",
       "<text text-anchor=\"start\" x=\"513.5\" y=\"-37.8\" font-family=\"Helvetica,sans-Serif\" font-size=\"14.00\">gini = 0.428</text>\r\n",
       "<text text-anchor=\"start\" x=\"503.5\" y=\"-22.8\" font-family=\"Helvetica,sans-Serif\" font-size=\"14.00\">samples = 489</text>\r\n",
       "<text text-anchor=\"start\" x=\"494\" y=\"-7.8\" font-family=\"Helvetica,sans-Serif\" font-size=\"14.00\">value = [337, 152]</text>\r\n",
       "</g>\r\n",
       "<!-- 6&#45;&gt;8 -->\r\n",
       "<g id=\"edge8\" class=\"edge\">\r\n",
       "<title>6&#45;&gt;8</title>\r\n",
       "<path fill=\"none\" stroke=\"black\" d=\"M500.93,-88.95C508.24,-79.98 516.15,-70.27 523.49,-61.26\"/>\r\n",
       "<polygon fill=\"black\" stroke=\"black\" points=\"526.43,-63.2 530.03,-53.24 521,-58.78 526.43,-63.2\"/>\r\n",
       "</g>\r\n",
       "<!-- 10 -->\r\n",
       "<g id=\"node11\" class=\"node\">\r\n",
       "<title>10</title>\r\n",
       "<path fill=\"#f4cbad\" stroke=\"black\" d=\"M886.5,-157C886.5,-157 767.5,-157 767.5,-157 761.5,-157 755.5,-151 755.5,-145 755.5,-145 755.5,-101 755.5,-101 755.5,-95 761.5,-89 767.5,-89 767.5,-89 886.5,-89 886.5,-89 892.5,-89 898.5,-95 898.5,-101 898.5,-101 898.5,-145 898.5,-145 898.5,-151 892.5,-157 886.5,-157\"/>\r\n",
       "<text text-anchor=\"start\" x=\"763.5\" y=\"-141.8\" font-family=\"Helvetica,sans-Serif\" font-size=\"14.00\">PAY_AMT6 ≤ 0.001</text>\r\n",
       "<text text-anchor=\"start\" x=\"789.5\" y=\"-126.8\" font-family=\"Helvetica,sans-Serif\" font-size=\"14.00\">gini = 0.466</text>\r\n",
       "<text text-anchor=\"start\" x=\"775.5\" y=\"-111.8\" font-family=\"Helvetica,sans-Serif\" font-size=\"14.00\">samples = 1122</text>\r\n",
       "<text text-anchor=\"start\" x=\"770\" y=\"-96.8\" font-family=\"Helvetica,sans-Serif\" font-size=\"14.00\">value = [707, 415]</text>\r\n",
       "</g>\r\n",
       "<!-- 9&#45;&gt;10 -->\r\n",
       "<g id=\"edge10\" class=\"edge\">\r\n",
       "<title>9&#45;&gt;10</title>\r\n",
       "<path fill=\"none\" stroke=\"black\" d=\"M882.38,-192.88C875.29,-184.07 867.54,-174.43 860.15,-165.24\"/>\r\n",
       "<polygon fill=\"black\" stroke=\"black\" points=\"862.76,-162.9 853.77,-157.3 857.31,-167.29 862.76,-162.9\"/>\r\n",
       "</g>\r\n",
       "<!-- 13 -->\r\n",
       "<g id=\"node14\" class=\"node\">\r\n",
       "<title>13</title>\r\n",
       "<path fill=\"#dfeffb\" stroke=\"black\" d=\"M1053,-157C1053,-157 929,-157 929,-157 923,-157 917,-151 917,-145 917,-145 917,-101 917,-101 917,-95 923,-89 929,-89 929,-89 1053,-89 1053,-89 1059,-89 1065,-95 1065,-101 1065,-101 1065,-145 1065,-145 1065,-151 1059,-157 1053,-157\"/>\r\n",
       "<text text-anchor=\"start\" x=\"925\" y=\"-141.8\" font-family=\"Helvetica,sans-Serif\" font-size=\"14.00\">PAY_AMT2 ≤ &#45;0.006</text>\r\n",
       "<text text-anchor=\"start\" x=\"953.5\" y=\"-126.8\" font-family=\"Helvetica,sans-Serif\" font-size=\"14.00\">gini = 0.496</text>\r\n",
       "<text text-anchor=\"start\" x=\"943.5\" y=\"-111.8\" font-family=\"Helvetica,sans-Serif\" font-size=\"14.00\">samples = 474</text>\r\n",
       "<text text-anchor=\"start\" x=\"934\" y=\"-96.8\" font-family=\"Helvetica,sans-Serif\" font-size=\"14.00\">value = [216, 258]</text>\r\n",
       "</g>\r\n",
       "<!-- 9&#45;&gt;13 -->\r\n",
       "<g id=\"edge13\" class=\"edge\">\r\n",
       "<title>9&#45;&gt;13</title>\r\n",
       "<path fill=\"none\" stroke=\"black\" d=\"M935.62,-192.88C942.71,-184.07 950.46,-174.43 957.85,-165.24\"/>\r\n",
       "<polygon fill=\"black\" stroke=\"black\" points=\"960.69,-167.29 964.23,-157.3 955.24,-162.9 960.69,-167.29\"/>\r\n",
       "</g>\r\n",
       "<!-- 11 -->\r\n",
       "<g id=\"node12\" class=\"node\">\r\n",
       "<title>11</title>\r\n",
       "<path fill=\"#f6d2b8\" stroke=\"black\" d=\"M752,-53C752,-53 646,-53 646,-53 640,-53 634,-47 634,-41 634,-41 634,-12 634,-12 634,-6 640,0 646,0 646,0 752,0 752,0 758,0 764,-6 764,-12 764,-12 764,-41 764,-41 764,-47 758,-53 752,-53\"/>\r\n",
       "<text text-anchor=\"start\" x=\"661.5\" y=\"-37.8\" font-family=\"Helvetica,sans-Serif\" font-size=\"14.00\">gini = 0.476</text>\r\n",
       "<text text-anchor=\"start\" x=\"647.5\" y=\"-22.8\" font-family=\"Helvetica,sans-Serif\" font-size=\"14.00\">samples = 1000</text>\r\n",
       "<text text-anchor=\"start\" x=\"642\" y=\"-7.8\" font-family=\"Helvetica,sans-Serif\" font-size=\"14.00\">value = [609, 391]</text>\r\n",
       "</g>\r\n",
       "<!-- 10&#45;&gt;11 -->\r\n",
       "<g id=\"edge11\" class=\"edge\">\r\n",
       "<title>10&#45;&gt;11</title>\r\n",
       "<path fill=\"none\" stroke=\"black\" d=\"M782.23,-88.95C769.22,-79.34 755.04,-68.87 742.13,-59.34\"/>\r\n",
       "<polygon fill=\"black\" stroke=\"black\" points=\"743.98,-56.36 733.86,-53.24 739.83,-61.99 743.98,-56.36\"/>\r\n",
       "</g>\r\n",
       "<!-- 12 -->\r\n",
       "<g id=\"node13\" class=\"node\">\r\n",
       "<title>12</title>\r\n",
       "<path fill=\"#eba069\" stroke=\"black\" d=\"M883.5,-53C883.5,-53 794.5,-53 794.5,-53 788.5,-53 782.5,-47 782.5,-41 782.5,-41 782.5,-12 782.5,-12 782.5,-6 788.5,0 794.5,0 794.5,0 883.5,0 883.5,0 889.5,0 895.5,-6 895.5,-12 895.5,-12 895.5,-41 895.5,-41 895.5,-47 889.5,-53 883.5,-53\"/>\r\n",
       "<text text-anchor=\"start\" x=\"801.5\" y=\"-37.8\" font-family=\"Helvetica,sans-Serif\" font-size=\"14.00\">gini = 0.316</text>\r\n",
       "<text text-anchor=\"start\" x=\"791.5\" y=\"-22.8\" font-family=\"Helvetica,sans-Serif\" font-size=\"14.00\">samples = 122</text>\r\n",
       "<text text-anchor=\"start\" x=\"790.5\" y=\"-7.8\" font-family=\"Helvetica,sans-Serif\" font-size=\"14.00\">value = [98, 24]</text>\r\n",
       "</g>\r\n",
       "<!-- 10&#45;&gt;12 -->\r\n",
       "<g id=\"edge12\" class=\"edge\">\r\n",
       "<title>10&#45;&gt;12</title>\r\n",
       "<path fill=\"none\" stroke=\"black\" d=\"M831.2,-88.95C832.25,-80.62 833.39,-71.65 834.47,-63.2\"/>\r\n",
       "<polygon fill=\"black\" stroke=\"black\" points=\"837.94,-63.6 835.73,-53.24 831,-62.72 837.94,-63.6\"/>\r\n",
       "</g>\r\n",
       "<!-- 14 -->\r\n",
       "<g id=\"node15\" class=\"node\">\r\n",
       "<title>14</title>\r\n",
       "<path fill=\"#d1e8f9\" stroke=\"black\" d=\"M1032,-53C1032,-53 926,-53 926,-53 920,-53 914,-47 914,-41 914,-41 914,-12 914,-12 914,-6 920,0 926,0 926,0 1032,0 1032,0 1038,0 1044,-6 1044,-12 1044,-12 1044,-41 1044,-41 1044,-47 1038,-53 1032,-53\"/>\r\n",
       "<text text-anchor=\"start\" x=\"941.5\" y=\"-37.8\" font-family=\"Helvetica,sans-Serif\" font-size=\"14.00\">gini = 0.491</text>\r\n",
       "<text text-anchor=\"start\" x=\"931.5\" y=\"-22.8\" font-family=\"Helvetica,sans-Serif\" font-size=\"14.00\">samples = 426</text>\r\n",
       "<text text-anchor=\"start\" x=\"922\" y=\"-7.8\" font-family=\"Helvetica,sans-Serif\" font-size=\"14.00\">value = [185, 241]</text>\r\n",
       "</g>\r\n",
       "<!-- 13&#45;&gt;14 -->\r\n",
       "<g id=\"edge14\" class=\"edge\">\r\n",
       "<title>13&#45;&gt;14</title>\r\n",
       "<path fill=\"none\" stroke=\"black\" d=\"M986.8,-88.95C985.75,-80.62 984.61,-71.65 983.53,-63.2\"/>\r\n",
       "<polygon fill=\"black\" stroke=\"black\" points=\"987,-62.72 982.27,-53.24 980.06,-63.6 987,-62.72\"/>\r\n",
       "</g>\r\n",
       "<!-- 15 -->\r\n",
       "<g id=\"node16\" class=\"node\">\r\n",
       "<title>15</title>\r\n",
       "<path fill=\"#f3c6a6\" stroke=\"black\" d=\"M1163.5,-53C1163.5,-53 1074.5,-53 1074.5,-53 1068.5,-53 1062.5,-47 1062.5,-41 1062.5,-41 1062.5,-12 1062.5,-12 1062.5,-6 1068.5,0 1074.5,0 1074.5,0 1163.5,0 1163.5,0 1169.5,0 1175.5,-6 1175.5,-12 1175.5,-12 1175.5,-41 1175.5,-41 1175.5,-47 1169.5,-53 1163.5,-53\"/>\r\n",
       "<text text-anchor=\"start\" x=\"1081.5\" y=\"-37.8\" font-family=\"Helvetica,sans-Serif\" font-size=\"14.00\">gini = 0.457</text>\r\n",
       "<text text-anchor=\"start\" x=\"1075.5\" y=\"-22.8\" font-family=\"Helvetica,sans-Serif\" font-size=\"14.00\">samples = 48</text>\r\n",
       "<text text-anchor=\"start\" x=\"1070.5\" y=\"-7.8\" font-family=\"Helvetica,sans-Serif\" font-size=\"14.00\">value = [31, 17]</text>\r\n",
       "</g>\r\n",
       "<!-- 13&#45;&gt;15 -->\r\n",
       "<g id=\"edge15\" class=\"edge\">\r\n",
       "<title>13&#45;&gt;15</title>\r\n",
       "<path fill=\"none\" stroke=\"black\" d=\"M1035.77,-88.95C1048.78,-79.34 1062.96,-68.87 1075.87,-59.34\"/>\r\n",
       "<polygon fill=\"black\" stroke=\"black\" points=\"1078.17,-61.99 1084.14,-53.24 1074.02,-56.36 1078.17,-61.99\"/>\r\n",
       "</g>\r\n",
       "<!-- 17 -->\r\n",
       "<g id=\"node18\" class=\"node\">\r\n",
       "<title>17</title>\r\n",
       "<path fill=\"#f8decb\" stroke=\"black\" d=\"M1499,-261C1499,-261 1373,-261 1373,-261 1367,-261 1361,-255 1361,-249 1361,-249 1361,-205 1361,-205 1361,-199 1367,-193 1373,-193 1373,-193 1499,-193 1499,-193 1505,-193 1511,-199 1511,-205 1511,-205 1511,-249 1511,-249 1511,-255 1505,-261 1499,-261\"/>\r\n",
       "<text text-anchor=\"start\" x=\"1369\" y=\"-245.8\" font-family=\"Helvetica,sans-Serif\" font-size=\"14.00\">BILL_AMT5 ≤ &#45;0.658</text>\r\n",
       "<text text-anchor=\"start\" x=\"1398.5\" y=\"-230.8\" font-family=\"Helvetica,sans-Serif\" font-size=\"14.00\">gini = 0.489</text>\r\n",
       "<text text-anchor=\"start\" x=\"1388.5\" y=\"-215.8\" font-family=\"Helvetica,sans-Serif\" font-size=\"14.00\">samples = 139</text>\r\n",
       "<text text-anchor=\"start\" x=\"1387.5\" y=\"-200.8\" font-family=\"Helvetica,sans-Serif\" font-size=\"14.00\">value = [80, 59]</text>\r\n",
       "</g>\r\n",
       "<!-- 16&#45;&gt;17 -->\r\n",
       "<g id=\"edge17\" class=\"edge\">\r\n",
       "<title>16&#45;&gt;17</title>\r\n",
       "<path fill=\"none\" stroke=\"black\" d=\"M1436,-296.88C1436,-288.78 1436,-279.98 1436,-271.47\"/>\r\n",
       "<polygon fill=\"black\" stroke=\"black\" points=\"1439.5,-271.3 1436,-261.3 1432.5,-271.3 1439.5,-271.3\"/>\r\n",
       "</g>\r\n",
       "<!-- 24 -->\r\n",
       "<g id=\"node25\" class=\"node\">\r\n",
       "<title>24</title>\r\n",
       "<path fill=\"#87c4ef\" stroke=\"black\" d=\"M1897,-261C1897,-261 1751,-261 1751,-261 1745,-261 1739,-255 1739,-249 1739,-249 1739,-205 1739,-205 1739,-199 1745,-193 1751,-193 1751,-193 1897,-193 1897,-193 1903,-193 1909,-199 1909,-205 1909,-205 1909,-249 1909,-249 1909,-255 1903,-261 1897,-261\"/>\r\n",
       "<text text-anchor=\"start\" x=\"1747\" y=\"-245.8\" font-family=\"Helvetica,sans-Serif\" font-size=\"14.00\">EDUCATION_4 ≤ 3.787</text>\r\n",
       "<text text-anchor=\"start\" x=\"1786.5\" y=\"-230.8\" font-family=\"Helvetica,sans-Serif\" font-size=\"14.00\">gini = 0.406</text>\r\n",
       "<text text-anchor=\"start\" x=\"1772.5\" y=\"-215.8\" font-family=\"Helvetica,sans-Serif\" font-size=\"14.00\">samples = 2056</text>\r\n",
       "<text text-anchor=\"start\" x=\"1763\" y=\"-200.8\" font-family=\"Helvetica,sans-Serif\" font-size=\"14.00\">value = [583, 1473]</text>\r\n",
       "</g>\r\n",
       "<!-- 16&#45;&gt;24 -->\r\n",
       "<g id=\"edge24\" class=\"edge\">\r\n",
       "<title>16&#45;&gt;24</title>\r\n",
       "<path fill=\"none\" stroke=\"black\" d=\"M1505.37,-311.76C1567.69,-295.38 1659.78,-271.17 1728.95,-252.99\"/>\r\n",
       "<polygon fill=\"black\" stroke=\"black\" points=\"1730.21,-256.28 1738.99,-250.35 1728.43,-249.51 1730.21,-256.28\"/>\r\n",
       "</g>\r\n",
       "<!-- 18 -->\r\n",
       "<g id=\"node19\" class=\"node\">\r\n",
       "<title>18</title>\r\n",
       "<path fill=\"#a8d4f4\" stroke=\"black\" d=\"M1415,-157C1415,-157 1289,-157 1289,-157 1283,-157 1277,-151 1277,-145 1277,-145 1277,-101 1277,-101 1277,-95 1283,-89 1289,-89 1289,-89 1415,-89 1415,-89 1421,-89 1427,-95 1427,-101 1427,-101 1427,-145 1427,-145 1427,-151 1421,-157 1415,-157\"/>\r\n",
       "<text text-anchor=\"start\" x=\"1285\" y=\"-141.8\" font-family=\"Helvetica,sans-Serif\" font-size=\"14.00\">BILL_AMT1 ≤ &#45;0.687</text>\r\n",
       "<text text-anchor=\"start\" x=\"1318.5\" y=\"-126.8\" font-family=\"Helvetica,sans-Serif\" font-size=\"14.00\">gini = 0.46</text>\r\n",
       "<text text-anchor=\"start\" x=\"1308.5\" y=\"-111.8\" font-family=\"Helvetica,sans-Serif\" font-size=\"14.00\">samples = 53</text>\r\n",
       "<text text-anchor=\"start\" x=\"1303.5\" y=\"-96.8\" font-family=\"Helvetica,sans-Serif\" font-size=\"14.00\">value = [19, 34]</text>\r\n",
       "</g>\r\n",
       "<!-- 17&#45;&gt;18 -->\r\n",
       "<g id=\"edge18\" class=\"edge\">\r\n",
       "<title>17&#45;&gt;18</title>\r\n",
       "<path fill=\"none\" stroke=\"black\" d=\"M1408.73,-192.88C1401.47,-184.07 1393.53,-174.43 1385.96,-165.24\"/>\r\n",
       "<polygon fill=\"black\" stroke=\"black\" points=\"1388.48,-162.79 1379.42,-157.3 1383.08,-167.24 1388.48,-162.79\"/>\r\n",
       "</g>\r\n",
       "<!-- 21 -->\r\n",
       "<g id=\"node22\" class=\"node\">\r\n",
       "<title>21</title>\r\n",
       "<path fill=\"#f0b58a\" stroke=\"black\" d=\"M1583,-157C1583,-157 1457,-157 1457,-157 1451,-157 1445,-151 1445,-145 1445,-145 1445,-101 1445,-101 1445,-95 1451,-89 1457,-89 1457,-89 1583,-89 1583,-89 1589,-89 1595,-95 1595,-101 1595,-101 1595,-145 1595,-145 1595,-151 1589,-157 1583,-157\"/>\r\n",
       "<text text-anchor=\"start\" x=\"1453\" y=\"-141.8\" font-family=\"Helvetica,sans-Serif\" font-size=\"14.00\">BILL_AMT6 ≤ &#45;0.225</text>\r\n",
       "<text text-anchor=\"start\" x=\"1482.5\" y=\"-126.8\" font-family=\"Helvetica,sans-Serif\" font-size=\"14.00\">gini = 0.412</text>\r\n",
       "<text text-anchor=\"start\" x=\"1476.5\" y=\"-111.8\" font-family=\"Helvetica,sans-Serif\" font-size=\"14.00\">samples = 86</text>\r\n",
       "<text text-anchor=\"start\" x=\"1471.5\" y=\"-96.8\" font-family=\"Helvetica,sans-Serif\" font-size=\"14.00\">value = [61, 25]</text>\r\n",
       "</g>\r\n",
       "<!-- 17&#45;&gt;21 -->\r\n",
       "<g id=\"edge21\" class=\"edge\">\r\n",
       "<title>17&#45;&gt;21</title>\r\n",
       "<path fill=\"none\" stroke=\"black\" d=\"M1463.27,-192.88C1470.53,-184.07 1478.47,-174.43 1486.04,-165.24\"/>\r\n",
       "<polygon fill=\"black\" stroke=\"black\" points=\"1488.92,-167.24 1492.58,-157.3 1483.52,-162.79 1488.92,-167.24\"/>\r\n",
       "</g>\r\n",
       "<!-- 19 -->\r\n",
       "<g id=\"node20\" class=\"node\">\r\n",
       "<title>19</title>\r\n",
       "<path fill=\"#f1b991\" stroke=\"black\" d=\"M1284.5,-53C1284.5,-53 1205.5,-53 1205.5,-53 1199.5,-53 1193.5,-47 1193.5,-41 1193.5,-41 1193.5,-12 1193.5,-12 1193.5,-6 1199.5,0 1205.5,0 1205.5,0 1284.5,0 1284.5,0 1290.5,0 1296.5,-6 1296.5,-12 1296.5,-12 1296.5,-41 1296.5,-41 1296.5,-47 1290.5,-53 1284.5,-53\"/>\r\n",
       "<text text-anchor=\"start\" x=\"1207.5\" y=\"-37.8\" font-family=\"Helvetica,sans-Serif\" font-size=\"14.00\">gini = 0.426</text>\r\n",
       "<text text-anchor=\"start\" x=\"1201.5\" y=\"-22.8\" font-family=\"Helvetica,sans-Serif\" font-size=\"14.00\">samples = 13</text>\r\n",
       "<text text-anchor=\"start\" x=\"1204.5\" y=\"-7.8\" font-family=\"Helvetica,sans-Serif\" font-size=\"14.00\">value = [9, 4]</text>\r\n",
       "</g>\r\n",
       "<!-- 18&#45;&gt;19 -->\r\n",
       "<g id=\"edge19\" class=\"edge\">\r\n",
       "<title>18&#45;&gt;19</title>\r\n",
       "<path fill=\"none\" stroke=\"black\" d=\"M1314.58,-88.95C1303.91,-79.53 1292.3,-69.27 1281.68,-59.89\"/>\r\n",
       "<polygon fill=\"black\" stroke=\"black\" points=\"1283.95,-57.23 1274.14,-53.24 1279.32,-62.48 1283.95,-57.23\"/>\r\n",
       "</g>\r\n",
       "<!-- 20 -->\r\n",
       "<g id=\"node21\" class=\"node\">\r\n",
       "<title>20</title>\r\n",
       "<path fill=\"#7bbeee\" stroke=\"black\" d=\"M1415.5,-53C1415.5,-53 1326.5,-53 1326.5,-53 1320.5,-53 1314.5,-47 1314.5,-41 1314.5,-41 1314.5,-12 1314.5,-12 1314.5,-6 1320.5,0 1326.5,0 1326.5,0 1415.5,0 1415.5,0 1421.5,0 1427.5,-6 1427.5,-12 1427.5,-12 1427.5,-41 1427.5,-41 1427.5,-47 1421.5,-53 1415.5,-53\"/>\r\n",
       "<text text-anchor=\"start\" x=\"1333.5\" y=\"-37.8\" font-family=\"Helvetica,sans-Serif\" font-size=\"14.00\">gini = 0.375</text>\r\n",
       "<text text-anchor=\"start\" x=\"1327.5\" y=\"-22.8\" font-family=\"Helvetica,sans-Serif\" font-size=\"14.00\">samples = 40</text>\r\n",
       "<text text-anchor=\"start\" x=\"1322.5\" y=\"-7.8\" font-family=\"Helvetica,sans-Serif\" font-size=\"14.00\">value = [10, 30]</text>\r\n",
       "</g>\r\n",
       "<!-- 18&#45;&gt;20 -->\r\n",
       "<g id=\"edge20\" class=\"edge\">\r\n",
       "<title>18&#45;&gt;20</title>\r\n",
       "<path fill=\"none\" stroke=\"black\" d=\"M1358.65,-88.95C1360.32,-80.62 1362.12,-71.65 1363.82,-63.2\"/>\r\n",
       "<polygon fill=\"black\" stroke=\"black\" points=\"1367.29,-63.73 1365.83,-53.24 1360.42,-62.35 1367.29,-63.73\"/>\r\n",
       "</g>\r\n",
       "<!-- 22 -->\r\n",
       "<g id=\"node23\" class=\"node\">\r\n",
       "<title>22</title>\r\n",
       "<path fill=\"#eca571\" stroke=\"black\" d=\"M1546.5,-53C1546.5,-53 1457.5,-53 1457.5,-53 1451.5,-53 1445.5,-47 1445.5,-41 1445.5,-41 1445.5,-12 1445.5,-12 1445.5,-6 1451.5,0 1457.5,0 1457.5,0 1546.5,0 1546.5,0 1552.5,0 1558.5,-6 1558.5,-12 1558.5,-12 1558.5,-41 1558.5,-41 1558.5,-47 1552.5,-53 1546.5,-53\"/>\r\n",
       "<text text-anchor=\"start\" x=\"1464.5\" y=\"-37.8\" font-family=\"Helvetica,sans-Serif\" font-size=\"14.00\">gini = 0.344</text>\r\n",
       "<text text-anchor=\"start\" x=\"1458.5\" y=\"-22.8\" font-family=\"Helvetica,sans-Serif\" font-size=\"14.00\">samples = 68</text>\r\n",
       "<text text-anchor=\"start\" x=\"1453.5\" y=\"-7.8\" font-family=\"Helvetica,sans-Serif\" font-size=\"14.00\">value = [53, 15]</text>\r\n",
       "</g>\r\n",
       "<!-- 21&#45;&gt;22 -->\r\n",
       "<g id=\"edge22\" class=\"edge\">\r\n",
       "<title>21&#45;&gt;22</title>\r\n",
       "<path fill=\"none\" stroke=\"black\" d=\"M1513.7,-88.95C1512.12,-80.62 1510.41,-71.65 1508.8,-63.2\"/>\r\n",
       "<polygon fill=\"black\" stroke=\"black\" points=\"1512.21,-62.41 1506.9,-53.24 1505.34,-63.72 1512.21,-62.41\"/>\r\n",
       "</g>\r\n",
       "<!-- 23 -->\r\n",
       "<g id=\"node24\" class=\"node\">\r\n",
       "<title>23</title>\r\n",
       "<path fill=\"#d7ebfa\" stroke=\"black\" d=\"M1669.5,-53C1669.5,-53 1588.5,-53 1588.5,-53 1582.5,-53 1576.5,-47 1576.5,-41 1576.5,-41 1576.5,-12 1576.5,-12 1576.5,-6 1582.5,0 1588.5,0 1588.5,0 1669.5,0 1669.5,0 1675.5,0 1681.5,-6 1681.5,-12 1681.5,-12 1681.5,-41 1681.5,-41 1681.5,-47 1675.5,-53 1669.5,-53\"/>\r\n",
       "<text text-anchor=\"start\" x=\"1591.5\" y=\"-37.8\" font-family=\"Helvetica,sans-Serif\" font-size=\"14.00\">gini = 0.494</text>\r\n",
       "<text text-anchor=\"start\" x=\"1585.5\" y=\"-22.8\" font-family=\"Helvetica,sans-Serif\" font-size=\"14.00\">samples = 18</text>\r\n",
       "<text text-anchor=\"start\" x=\"1584.5\" y=\"-7.8\" font-family=\"Helvetica,sans-Serif\" font-size=\"14.00\">value = [8, 10]</text>\r\n",
       "</g>\r\n",
       "<!-- 21&#45;&gt;23 -->\r\n",
       "<g id=\"edge23\" class=\"edge\">\r\n",
       "<title>21&#45;&gt;23</title>\r\n",
       "<path fill=\"none\" stroke=\"black\" d=\"M1558.12,-88.95C1568.99,-79.53 1580.82,-69.27 1591.64,-59.89\"/>\r\n",
       "<polygon fill=\"black\" stroke=\"black\" points=\"1594.05,-62.43 1599.31,-53.24 1589.47,-57.14 1594.05,-62.43\"/>\r\n",
       "</g>\r\n",
       "<!-- 25 -->\r\n",
       "<g id=\"node26\" class=\"node\">\r\n",
       "<title>25</title>\r\n",
       "<path fill=\"#86c3ef\" stroke=\"black\" d=\"M1881,-157C1881,-157 1767,-157 1767,-157 1761,-157 1755,-151 1755,-145 1755,-145 1755,-101 1755,-101 1755,-95 1761,-89 1767,-89 1767,-89 1881,-89 1881,-89 1887,-89 1893,-95 1893,-101 1893,-101 1893,-145 1893,-145 1893,-151 1887,-157 1881,-157\"/>\r\n",
       "<text text-anchor=\"start\" x=\"1775.5\" y=\"-141.8\" font-family=\"Helvetica,sans-Serif\" font-size=\"14.00\">PAY_5 ≤ 1.131</text>\r\n",
       "<text text-anchor=\"start\" x=\"1786.5\" y=\"-126.8\" font-family=\"Helvetica,sans-Serif\" font-size=\"14.00\">gini = 0.402</text>\r\n",
       "<text text-anchor=\"start\" x=\"1772.5\" y=\"-111.8\" font-family=\"Helvetica,sans-Serif\" font-size=\"14.00\">samples = 2036</text>\r\n",
       "<text text-anchor=\"start\" x=\"1763\" y=\"-96.8\" font-family=\"Helvetica,sans-Serif\" font-size=\"14.00\">value = [568, 1468]</text>\r\n",
       "</g>\r\n",
       "<!-- 24&#45;&gt;25 -->\r\n",
       "<g id=\"edge25\" class=\"edge\">\r\n",
       "<title>24&#45;&gt;25</title>\r\n",
       "<path fill=\"none\" stroke=\"black\" d=\"M1824,-192.88C1824,-184.78 1824,-175.98 1824,-167.47\"/>\r\n",
       "<polygon fill=\"black\" stroke=\"black\" points=\"1827.5,-167.3 1824,-157.3 1820.5,-167.3 1827.5,-167.3\"/>\r\n",
       "</g>\r\n",
       "<!-- 28 -->\r\n",
       "<g id=\"node29\" class=\"node\">\r\n",
       "<title>28</title>\r\n",
       "<path fill=\"#eeab7b\" stroke=\"black\" d=\"M2107,-157C2107,-157 1983,-157 1983,-157 1977,-157 1971,-151 1971,-145 1971,-145 1971,-101 1971,-101 1971,-95 1977,-89 1983,-89 1983,-89 2107,-89 2107,-89 2113,-89 2119,-95 2119,-101 2119,-101 2119,-145 2119,-145 2119,-151 2113,-157 2107,-157\"/>\r\n",
       "<text text-anchor=\"start\" x=\"1979\" y=\"-141.8\" font-family=\"Helvetica,sans-Serif\" font-size=\"14.00\">PAY_AMT3 ≤ &#45;0.144</text>\r\n",
       "<text text-anchor=\"start\" x=\"2007.5\" y=\"-126.8\" font-family=\"Helvetica,sans-Serif\" font-size=\"14.00\">gini = 0.375</text>\r\n",
       "<text text-anchor=\"start\" x=\"2001.5\" y=\"-111.8\" font-family=\"Helvetica,sans-Serif\" font-size=\"14.00\">samples = 20</text>\r\n",
       "<text text-anchor=\"start\" x=\"2000.5\" y=\"-96.8\" font-family=\"Helvetica,sans-Serif\" font-size=\"14.00\">value = [15, 5]</text>\r\n",
       "</g>\r\n",
       "<!-- 24&#45;&gt;28 -->\r\n",
       "<g id=\"edge28\" class=\"edge\">\r\n",
       "<title>24&#45;&gt;28</title>\r\n",
       "<path fill=\"none\" stroke=\"black\" d=\"M1895.75,-192.88C1917.57,-182.81 1941.71,-171.67 1964.09,-161.34\"/>\r\n",
       "<polygon fill=\"black\" stroke=\"black\" points=\"1965.62,-164.49 1973.23,-157.12 1962.68,-158.14 1965.62,-164.49\"/>\r\n",
       "</g>\r\n",
       "<!-- 26 -->\r\n",
       "<g id=\"node27\" class=\"node\">\r\n",
       "<title>26</title>\r\n",
       "<path fill=\"#94caf1\" stroke=\"black\" d=\"M1818,-53C1818,-53 1712,-53 1712,-53 1706,-53 1700,-47 1700,-41 1700,-41 1700,-12 1700,-12 1700,-6 1706,0 1712,0 1712,0 1818,0 1818,0 1824,0 1830,-6 1830,-12 1830,-12 1830,-41 1830,-41 1830,-47 1824,-53 1818,-53\"/>\r\n",
       "<text text-anchor=\"start\" x=\"1727.5\" y=\"-37.8\" font-family=\"Helvetica,sans-Serif\" font-size=\"14.00\">gini = 0.432</text>\r\n",
       "<text text-anchor=\"start\" x=\"1713.5\" y=\"-22.8\" font-family=\"Helvetica,sans-Serif\" font-size=\"14.00\">samples = 1141</text>\r\n",
       "<text text-anchor=\"start\" x=\"1708\" y=\"-7.8\" font-family=\"Helvetica,sans-Serif\" font-size=\"14.00\">value = [360, 781]</text>\r\n",
       "</g>\r\n",
       "<!-- 25&#45;&gt;26 -->\r\n",
       "<g id=\"edge26\" class=\"edge\">\r\n",
       "<title>25&#45;&gt;26</title>\r\n",
       "<path fill=\"none\" stroke=\"black\" d=\"M1803.36,-88.95C1797.88,-80.17 1791.95,-70.66 1786.42,-61.82\"/>\r\n",
       "<polygon fill=\"black\" stroke=\"black\" points=\"1789.33,-59.87 1781.07,-53.24 1783.4,-63.57 1789.33,-59.87\"/>\r\n",
       "</g>\r\n",
       "<!-- 27 -->\r\n",
       "<g id=\"node28\" class=\"node\">\r\n",
       "<title>27</title>\r\n",
       "<path fill=\"#75bbed\" stroke=\"black\" d=\"M1966,-53C1966,-53 1860,-53 1860,-53 1854,-53 1848,-47 1848,-41 1848,-41 1848,-12 1848,-12 1848,-6 1854,0 1860,0 1860,0 1966,0 1966,0 1972,0 1978,-6 1978,-12 1978,-12 1978,-41 1978,-41 1978,-47 1972,-53 1966,-53\"/>\r\n",
       "<text text-anchor=\"start\" x=\"1875.5\" y=\"-37.8\" font-family=\"Helvetica,sans-Serif\" font-size=\"14.00\">gini = 0.357</text>\r\n",
       "<text text-anchor=\"start\" x=\"1865.5\" y=\"-22.8\" font-family=\"Helvetica,sans-Serif\" font-size=\"14.00\">samples = 895</text>\r\n",
       "<text text-anchor=\"start\" x=\"1856\" y=\"-7.8\" font-family=\"Helvetica,sans-Serif\" font-size=\"14.00\">value = [208, 687]</text>\r\n",
       "</g>\r\n",
       "<!-- 25&#45;&gt;27 -->\r\n",
       "<g id=\"edge27\" class=\"edge\">\r\n",
       "<title>25&#45;&gt;27</title>\r\n",
       "<path fill=\"none\" stroke=\"black\" d=\"M1855.13,-88.95C1863.74,-79.8 1873.1,-69.87 1881.72,-60.71\"/>\r\n",
       "<polygon fill=\"black\" stroke=\"black\" points=\"1884.45,-62.92 1888.76,-53.24 1879.36,-58.12 1884.45,-62.92\"/>\r\n",
       "</g>\r\n",
       "<!-- 29 -->\r\n",
       "<g id=\"node30\" class=\"node\">\r\n",
       "<title>29</title>\r\n",
       "<path fill=\"#fae6d7\" stroke=\"black\" d=\"M2081.5,-53C2081.5,-53 2008.5,-53 2008.5,-53 2002.5,-53 1996.5,-47 1996.5,-41 1996.5,-41 1996.5,-12 1996.5,-12 1996.5,-6 2002.5,0 2008.5,0 2008.5,0 2081.5,0 2081.5,0 2087.5,0 2093.5,-6 2093.5,-12 2093.5,-12 2093.5,-41 2093.5,-41 2093.5,-47 2087.5,-53 2081.5,-53\"/>\r\n",
       "<text text-anchor=\"start\" x=\"2007.5\" y=\"-37.8\" font-family=\"Helvetica,sans-Serif\" font-size=\"14.00\">gini = 0.494</text>\r\n",
       "<text text-anchor=\"start\" x=\"2005.5\" y=\"-22.8\" font-family=\"Helvetica,sans-Serif\" font-size=\"14.00\">samples = 9</text>\r\n",
       "<text text-anchor=\"start\" x=\"2004.5\" y=\"-7.8\" font-family=\"Helvetica,sans-Serif\" font-size=\"14.00\">value = [5, 4]</text>\r\n",
       "</g>\r\n",
       "<!-- 28&#45;&gt;29 -->\r\n",
       "<g id=\"edge29\" class=\"edge\">\r\n",
       "<title>28&#45;&gt;29</title>\r\n",
       "<path fill=\"none\" stroke=\"black\" d=\"M2045,-88.95C2045,-80.72 2045,-71.85 2045,-63.48\"/>\r\n",
       "<polygon fill=\"black\" stroke=\"black\" points=\"2048.5,-63.24 2045,-53.24 2041.5,-63.24 2048.5,-63.24\"/>\r\n",
       "</g>\r\n",
       "<!-- 30 -->\r\n",
       "<g id=\"node31\" class=\"node\">\r\n",
       "<title>30</title>\r\n",
       "<path fill=\"#e88e4d\" stroke=\"black\" d=\"M2204.5,-53C2204.5,-53 2123.5,-53 2123.5,-53 2117.5,-53 2111.5,-47 2111.5,-41 2111.5,-41 2111.5,-12 2111.5,-12 2111.5,-6 2117.5,0 2123.5,0 2123.5,0 2204.5,0 2204.5,0 2210.5,0 2216.5,-6 2216.5,-12 2216.5,-12 2216.5,-41 2216.5,-41 2216.5,-47 2210.5,-53 2204.5,-53\"/>\r\n",
       "<text text-anchor=\"start\" x=\"2126.5\" y=\"-37.8\" font-family=\"Helvetica,sans-Serif\" font-size=\"14.00\">gini = 0.165</text>\r\n",
       "<text text-anchor=\"start\" x=\"2120.5\" y=\"-22.8\" font-family=\"Helvetica,sans-Serif\" font-size=\"14.00\">samples = 11</text>\r\n",
       "<text text-anchor=\"start\" x=\"2119.5\" y=\"-7.8\" font-family=\"Helvetica,sans-Serif\" font-size=\"14.00\">value = [10, 1]</text>\r\n",
       "</g>\r\n",
       "<!-- 28&#45;&gt;30 -->\r\n",
       "<g id=\"edge30\" class=\"edge\">\r\n",
       "<title>28&#45;&gt;30</title>\r\n",
       "<path fill=\"none\" stroke=\"black\" d=\"M2086.62,-88.95C2098.6,-79.43 2111.65,-69.07 2123.56,-59.62\"/>\r\n",
       "<polygon fill=\"black\" stroke=\"black\" points=\"2125.94,-62.2 2131.59,-53.24 2121.58,-56.71 2125.94,-62.2\"/>\r\n",
       "</g>\r\n",
       "</g>\r\n",
       "</svg>\r\n"
      ],
      "text/plain": [
       "<graphviz.files.Source at 0x1b5db252430>"
      ]
     },
     "execution_count": 77,
     "metadata": {},
     "output_type": "execute_result"
    }
   ],
   "source": [
    "#Let's check the importance of features in this model\n",
    "dot_data = export_graphviz(best_tree, out_file = None, feature_names = X.columns, filled = True, rounded = True, special_characters=True)  \n",
    "graph = graphviz.Source(dot_data)  \n",
    "graph "
   ]
  },
  {
   "cell_type": "code",
   "execution_count": 78,
   "metadata": {},
   "outputs": [
    {
     "name": "stdout",
     "output_type": "stream",
     "text": [
      "{'LIMIT_BAL': 0.0, 'AGE': 0.0, 'PAY_4': 0.0, 'BILL_AMT2': 0.0, 'BILL_AMT3': 0.0, 'BILL_AMT4': 0.0, 'BILL_AMT6': 0.0, 'PAY_AMT1': 0.0, 'PAY_AMT2': 0.0, 'PAY_AMT4': 0.0, 'PAY_AMT5': 0.0, 'MARRIAGE_2': 0.0, 'MARRIAGE_3': 0.0, 'SEX_2': 0.0, 'EDUCATION_2': 0.0, 'EDUCATION_3': 0.0, 'PAY_3': 0.01, 'PAY_6': 0.01, 'BILL_AMT5': 0.01, 'PAY_AMT6': 0.01, 'EDUCATION_4': 0.01, 'BILL_AMT1': 0.02, 'PAY_5': 0.03, 'PAY_AMT3': 0.04, 'PAY_2': 0.15, 'PAY_1': 0.72}\n"
     ]
    }
   ],
   "source": [
    "fea_importance=dict(zip(X.columns, np.round(best_tree.feature_importances_, 2)))\n",
    "sort_fea_importance={}\n",
    "sorted_keys = sorted(fea_importance, key=fea_importance.get)\n",
    "for i in sorted_keys:\n",
    "    sort_fea_importance[i]=fea_importance[i]\n",
    "print(sort_fea_importance)"
   ]
  },
  {
   "cell_type": "markdown",
   "metadata": {},
   "source": [
    "Based on the tree plot above and feature importance attribute, we can say PAY_1, PAY_2, PAY_AMT3, and PAY_5 are the most important features."
   ]
  },
  {
   "cell_type": "markdown",
   "metadata": {},
   "source": [
    "#### 3.1.2.3 random forest"
   ]
  },
  {
   "cell_type": "markdown",
   "metadata": {},
   "source": [
    "random forest = many decison trees + many bagging. Because random forest is an ensemble of desion trees, it has all the hyperparameters of DecisionTreeClassifier and BaggingClassifers. Also as an ensemble algorithms, random forest can greatly improve the accuracy of prediction compared with a SINGLE decision tree."
   ]
  },
  {
   "cell_type": "markdown",
   "metadata": {},
   "source": [
    "We will optimize the following hyperparameters in the random forest model: \n",
    "* n_estimators = number of trees in the random forest model\n",
    "* max_depth = max_depth in each decision tree"
   ]
  },
  {
   "cell_type": "code",
   "execution_count": 80,
   "metadata": {},
   "outputs": [
    {
     "name": "stdout",
     "output_type": "stream",
     "text": [
      "Fitting 5 folds for each of 10 candidates, totalling 50 fits\n"
     ]
    },
    {
     "name": "stderr",
     "output_type": "stream",
     "text": [
      "[Parallel(n_jobs=-1)]: Using backend LokyBackend with 4 concurrent workers.\n",
      "[Parallel(n_jobs=-1)]: Done  33 tasks      | elapsed:  1.1min\n",
      "[Parallel(n_jobs=-1)]: Done  50 out of  50 | elapsed:  1.2min finished\n"
     ]
    },
    {
     "name": "stdout",
     "output_type": "stream",
     "text": [
      "BEST PARAMS {'n_estimators': 200, 'max_depth': 9}\n",
      "Runtime of the program is 75.53651905059814\n"
     ]
    }
   ],
   "source": [
    "n_estimators=[int(x) for x in np.linspace(start = 50, stop = 500, num = 10)]\n",
    "max_depths=[int(x) for x in np.linspace(1, 10, num = 10)]\n",
    "param_grid = {'n_estimators': n_estimators, 'max_depth':max_depths}\n",
    "start=time.time()\n",
    "rf = RandomForestClassifier()\n",
    "rf_random = RandomizedSearchCV(estimator = rf, param_distributions=param_grid, cv = 5, verbose=2, random_state=42, n_jobs = -1)\n",
    "rf_random.fit(X_train_s, y_train)\n",
    "end=time.time()\n",
    "print(\"BEST PARAMS\", rf_random.best_params_)\n",
    "print(f\"Runtime of the program is {end - start}\")"
   ]
  },
  {
   "cell_type": "code",
   "execution_count": 83,
   "metadata": {},
   "outputs": [
    {
     "data": {
      "text/plain": [
       "Text(0.5, 15.0, 'Predicted label')"
      ]
     },
     "execution_count": 83,
     "metadata": {},
     "output_type": "execute_result"
    },
    {
     "data": {
      "image/png": "[encoded data removed]",
      "text/plain": [
       "<Figure size 432x288 with 2 Axes>"
      ]
     },
     "metadata": {
      "needs_background": "light"
     },
     "output_type": "display_data"
    }
   ],
   "source": [
    "best_rf=rf_random.best_estimator_\n",
    "y_pred=best_rf.predict(X_test_s)\n",
    "cnf_matrix = confusion_matrix(y_test, y_pred)\n",
    "sns.heatmap(pd.DataFrame(cnf_matrix), annot=True, cmap=\"YlGnBu\" ,fmt='g')\n",
    "plt.tight_layout()\n",
    "plt.title('Confusion matrix')\n",
    "plt.ylabel('Actual label')\n",
    "plt.xlabel('Predicted label')"
   ]
  },
  {
   "cell_type": "code",
   "execution_count": 84,
   "metadata": {},
   "outputs": [
    {
     "name": "stdout",
     "output_type": "stream",
     "text": [
      "Accuracy: 0.817\n",
      "Precision: 0.666\n",
      "Recall: 0.346\n"
     ]
    }
   ],
   "source": [
    "print(\"Accuracy:\",accuracy_score(y_test, y_pred).round(3))\n",
    "print(\"Precision:\",precision_score(y_test, y_pred).round(3))\n",
    "print(\"Recall:\",recall_score(y_test, y_pred).round(3))"
   ]
  },
  {
   "cell_type": "code",
   "execution_count": 88,
   "metadata": {},
   "outputs": [
    {
     "data": {
      "text/plain": [
       "<matplotlib.legend.Legend at 0x1b5db115760>"
      ]
     },
     "execution_count": 88,
     "metadata": {},
     "output_type": "execute_result"
    },
    {
     "data": {
      "image/png": "[encoded data removed]",
      "text/plain": [
       "<Figure size 432x288 with 1 Axes>"
      ]
     },
     "metadata": {
      "needs_background": "light"
     },
     "output_type": "display_data"
    }
   ],
   "source": [
    "y_pred_proba = best_rf.predict_proba(X_test_s)[::,1]\n",
    "fpr, tpr, _ = roc_curve(y_test,  y_pred_proba)\n",
    "auc = roc_auc_score(y_test, y_pred_proba).round(3)\n",
    "plt.plot(fpr,tpr,label=\"data 1, auc=\"+str(auc))\n",
    "plt.legend(loc=4)"
   ]
  },
  {
   "cell_type": "code",
   "execution_count": 89,
   "metadata": {},
   "outputs": [
    {
     "name": "stdout",
     "output_type": "stream",
     "text": [
      "{'MARRIAGE_2': 0.0, 'MARRIAGE_3': 0.0, 'SEX_2': 0.0, 'EDUCATION_2': 0.0, 'EDUCATION_3': 0.0, 'EDUCATION_4': 0.0, 'AGE': 0.01, 'LIMIT_BAL': 0.02, 'BILL_AMT4': 0.02, 'BILL_AMT5': 0.02, 'PAY_AMT4': 0.02, 'PAY_AMT5': 0.02, 'PAY_6': 0.03, 'BILL_AMT1': 0.03, 'BILL_AMT2': 0.03, 'BILL_AMT3': 0.03, 'BILL_AMT6': 0.03, 'PAY_AMT2': 0.03, 'PAY_AMT3': 0.03, 'PAY_AMT6': 0.03, 'PAY_AMT1': 0.04, 'PAY_5': 0.05, 'PAY_3': 0.06, 'PAY_4': 0.06, 'PAY_2': 0.14, 'PAY_1': 0.29}\n"
     ]
    }
   ],
   "source": [
    "fea_importance=dict(zip(X.columns, np.round(best_rf.feature_importances_, 2)))\n",
    "sort_fea_importance={}\n",
    "sorted_keys = sorted(fea_importance, key=fea_importance.get)\n",
    "for i in sorted_keys:\n",
    "    sort_fea_importance[i]=fea_importance[i]\n",
    "print(sort_fea_importance)"
   ]
  },
  {
   "cell_type": "markdown",
   "metadata": {},
   "source": [
    "The top 5 important features are PAY_1, PAY_2, PAY_3, PAY_4 and PAY_5."
   ]
  },
  {
   "cell_type": "markdown",
   "metadata": {},
   "source": [
    "#### 3.1.2.4 gradient boosting"
   ]
  },
  {
   "cell_type": "markdown",
   "metadata": {},
   "source": [
    "gradient boosting = decision tree + boosting. Just like random forest, [the parameters of gradient boosting](https://www.analyticsvidhya.com/blog/2016/02/complete-guide-parameter-tuning-gradient-boosting-gbm-python/) includes both decision tree specific parameters and boosting parameters. Compared with random forest, gradient boosting not only controls for high variance in a model, but also control the bias. Therefore, it is regarded as a more effective algorithms. The disadvantage of this algorithms is its time-consuming.\n",
    "\n",
    "We choose three important hyperparameters to tune this model:\n",
    "* learning_rate\n",
    "* n_estimator\n",
    "* max_depth"
   ]
  },
  {
   "cell_type": "code",
   "execution_count": 90,
   "metadata": {},
   "outputs": [
    {
     "name": "stdout",
     "output_type": "stream",
     "text": [
      "Fitting 5 folds for each of 10 candidates, totalling 50 fits\n"
     ]
    },
    {
     "name": "stderr",
     "output_type": "stream",
     "text": [
      "[Parallel(n_jobs=-1)]: Using backend LokyBackend with 4 concurrent workers.\n",
      "[Parallel(n_jobs=-1)]: Done  33 tasks      | elapsed:  7.0min\n",
      "[Parallel(n_jobs=-1)]: Done  50 out of  50 | elapsed: 14.4min finished\n"
     ]
    },
    {
     "name": "stdout",
     "output_type": "stream",
     "text": [
      "BEST PARAMS {'n_estimators': 50, 'max_depth': 2, 'learning_rate': 0.1}\n",
      "Runtime of the program is 867.6899065971375\n"
     ]
    }
   ],
   "source": [
    "from sklearn.ensemble import GradientBoostingClassifier\n",
    "gbm = GradientBoostingClassifier()\n",
    "n_estimators=[int(x) for x in np.linspace(start = 50, stop = 500, num = 10)]\n",
    "max_depths=[int(x) for x in np.linspace(1, 10, num = 10)]\n",
    "learning_rates = [0.05, 0.1, 0.25, 0.5, 0.75, 1]\n",
    "start=time.time()\n",
    "param_grid = {'n_estimators': n_estimators, 'max_depth':max_depths, 'learning_rate': learning_rates}\n",
    "gbm_random = RandomizedSearchCV(estimator = gbm, param_distributions=param_grid, cv = 5, verbose=2, random_state=42, n_jobs = -1)\n",
    "gbm_random.fit(X_train_s, y_train)\n",
    "end=time.time()\n",
    "print(\"BEST PARAMS\", gbm_random.best_params_)\n",
    "print(f\"Runtime of the program is {end - start}\")"
   ]
  },
  {
   "cell_type": "code",
   "execution_count": 91,
   "metadata": {},
   "outputs": [
    {
     "data": {
      "text/plain": [
       "Text(0.5, 15.0, 'Predicted label')"
      ]
     },
     "execution_count": 91,
     "metadata": {},
     "output_type": "execute_result"
    },
    {
     "data": {
      "image/png": "[encoded data removed]",
      "text/plain": [
       "<Figure size 432x288 with 2 Axes>"
      ]
     },
     "metadata": {
      "needs_background": "light"
     },
     "output_type": "display_data"
    }
   ],
   "source": [
    "best_gbm=gbm_random.best_estimator_\n",
    "y_pred=best_gbm.predict(X_test_s)\n",
    "cnf_matrix = confusion_matrix(y_test, y_pred)\n",
    "sns.heatmap(pd.DataFrame(cnf_matrix), annot=True, cmap=\"YlGnBu\" ,fmt='g')\n",
    "plt.tight_layout()\n",
    "plt.title('Confusion matrix')\n",
    "plt.ylabel('Actual label')\n",
    "plt.xlabel('Predicted label')"
   ]
  },
  {
   "cell_type": "code",
   "execution_count": 93,
   "metadata": {},
   "outputs": [
    {
     "name": "stdout",
     "output_type": "stream",
     "text": [
      "Accuracy: 0.819\n",
      "Precision: 0.671\n",
      "Recall: 0.353\n"
     ]
    }
   ],
   "source": [
    "print(\"Accuracy:\",accuracy_score(y_test, y_pred).round(3))\n",
    "print(\"Precision:\",precision_score(y_test, y_pred).round(3))\n",
    "print(\"Recall:\",recall_score(y_test, y_pred).round(3))"
   ]
  },
  {
   "cell_type": "code",
   "execution_count": 96,
   "metadata": {},
   "outputs": [
    {
     "data": {
      "text/plain": [
       "<matplotlib.legend.Legend at 0x1b5db5ee820>"
      ]
     },
     "execution_count": 96,
     "metadata": {},
     "output_type": "execute_result"
    },
    {
     "data": {
      "image/png": "[encoded data removed]",
      "text/plain": [
       "<Figure size 432x288 with 1 Axes>"
      ]
     },
     "metadata": {
      "needs_background": "light"
     },
     "output_type": "display_data"
    }
   ],
   "source": [
    "y_pred_proba = best_gbm.predict_proba(X_test_s)[::,1]\n",
    "fpr, tpr, _ = roc_curve(y_test,  y_pred_proba)\n",
    "auc = roc_auc_score(y_test, y_pred_proba).round(3)\n",
    "plt.plot(fpr,tpr,label=\"data 1, auc=\"+str(auc))\n",
    "plt.legend(loc=4)"
   ]
  },
  {
   "cell_type": "code",
   "execution_count": 97,
   "metadata": {},
   "outputs": [
    {
     "name": "stdout",
     "output_type": "stream",
     "text": [
      "{'AGE': 0.0, 'BILL_AMT2': 0.0, 'BILL_AMT3': 0.0, 'BILL_AMT4': 0.0, 'BILL_AMT5': 0.0, 'BILL_AMT6': 0.0, 'PAY_AMT4': 0.0, 'PAY_AMT5': 0.0, 'MARRIAGE_2': 0.0, 'MARRIAGE_3': 0.0, 'SEX_2': 0.0, 'EDUCATION_2': 0.0, 'EDUCATION_3': 0.0, 'EDUCATION_4': 0.0, 'LIMIT_BAL': 0.01, 'PAY_AMT1': 0.01, 'PAY_AMT6': 0.01, 'PAY_4': 0.02, 'PAY_6': 0.02, 'BILL_AMT1': 0.02, 'PAY_AMT2': 0.02, 'PAY_AMT3': 0.02, 'PAY_3': 0.04, 'PAY_5': 0.04, 'PAY_2': 0.07, 'PAY_1': 0.71}\n"
     ]
    }
   ],
   "source": [
    "fea_importance=dict(zip(X.columns, np.round(best_gbm.feature_importances_, 2)))\n",
    "sort_fea_importance={}\n",
    "sorted_keys = sorted(fea_importance, key=fea_importance.get)\n",
    "for i in sorted_keys:\n",
    "    sort_fea_importance[i]=fea_importance[i]\n",
    "print(sort_fea_importance)"
   ]
  },
  {
   "cell_type": "markdown",
   "metadata": {},
   "source": [
    "The top five important features are PAY_1, PAY_2, PAY_5, PAY_3 and PAY_AMT3"
   ]
  },
  {
   "cell_type": "markdown",
   "metadata": {},
   "source": [
    "#### 3.1.2.5 Extreme Gradient Boosting (XGBoost)"
   ]
  },
  {
   "cell_type": "markdown",
   "metadata": {},
   "source": [
    "XGBoost is short for “eXtreme Gradient Boosting.” The “eXtreme” refers to speed enhancements such as parallel computing and cache awareness that makes XGBoost approximately 10 times faster than traditional Gradient Boosting. In addition, XGBoost includes a unique split-finding algorithm to optimize trees, along with built-in regularization that reduces overfitting. Generally speaking, XGBoost is a faster, more accurate version of Gradient Boosting"
   ]
  },
  {
   "cell_type": "code",
   "execution_count": 100,
   "metadata": {},
   "outputs": [
    {
     "name": "stdout",
     "output_type": "stream",
     "text": [
      "Fitting 5 folds for each of 10 candidates, totalling 50 fits\n"
     ]
    },
    {
     "name": "stderr",
     "output_type": "stream",
     "text": [
      "[Parallel(n_jobs=-1)]: Using backend LokyBackend with 4 concurrent workers.\n",
      "[Parallel(n_jobs=-1)]: Done  33 tasks      | elapsed:  2.6min\n",
      "[Parallel(n_jobs=-1)]: Done  50 out of  50 | elapsed:  3.5min finished\n"
     ]
    },
    {
     "name": "stdout",
     "output_type": "stream",
     "text": [
      "[09:38:50] WARNING: C:/Users/Administrator/workspace/xgboost-win64_release_1.3.0/src/learner.cc:1061: Starting in XGBoost 1.3.0, the default evaluation metric used with the objective 'binary:logistic' was changed from 'error' to 'logloss'. Explicitly set eval_metric if you'd like to restore the old behavior.\n",
      "BEST PARAMS {'subsample': 0.7, 'n_estimators': 400, 'max_depth': 2, 'learning_rate': 0.05, 'gamma': 0.4}\n",
      "Runtime of the program is 214.92996883392334\n"
     ]
    }
   ],
   "source": [
    "from xgboost import XGBClassifier\n",
    "xgb=XGBClassifier(use_label_encoder=False)\n",
    "gammas=[0.1, 0.2, 0.3, 0.4, 0.5]\n",
    "subsamples=[0.5, 0.6, 0.7, 0.8]\n",
    "n_estimators=[int(x) for x in np.linspace(start = 50, stop = 500, num = 10)]\n",
    "max_depths=[int(x) for x in np.linspace(1, 10, num = 10)]\n",
    "learning_rates = [0.05, 0.1, 0.25, 0.5, 0.75, 1]\n",
    "start=time.time()\n",
    "param_grid = {'gamma':gammas, 'subsample': subsamples, 'n_estimators': n_estimators, 'max_depth':max_depths, 'learning_rate': learning_rates}\n",
    "xgb_random = RandomizedSearchCV(estimator = xgb, param_distributions=param_grid, cv = 5, verbose=2, random_state=42, n_jobs = -1)\n",
    "xgb_random.fit(X_train_s, y_train)\n",
    "end=time.time()\n",
    "print(\"BEST PARAMS\", xgb_random.best_params_)\n",
    "print(f\"Runtime of the program is {end - start}\")"
   ]
  },
  {
   "cell_type": "code",
   "execution_count": 101,
   "metadata": {},
   "outputs": [
    {
     "data": {
      "text/plain": [
       "Text(0.5, 15.0, 'Predicted label')"
      ]
     },
     "execution_count": 101,
     "metadata": {},
     "output_type": "execute_result"
    },
    {
     "data": {
      "image/png": "[encoded data removed]",
      "text/plain": [
       "<Figure size 432x288 with 2 Axes>"
      ]
     },
     "metadata": {
      "needs_background": "light"
     },
     "output_type": "display_data"
    }
   ],
   "source": [
    "best_xgb=xgb_random.best_estimator_\n",
    "y_pred=best_xgb.predict(X_test_s)\n",
    "cnf_matrix = confusion_matrix(y_test, y_pred)\n",
    "sns.heatmap(pd.DataFrame(cnf_matrix), annot=True, cmap=\"YlGnBu\" ,fmt='g')\n",
    "plt.tight_layout()\n",
    "plt.title('Confusion matrix')\n",
    "plt.ylabel('Actual label')\n",
    "plt.xlabel('Predicted label')"
   ]
  },
  {
   "cell_type": "code",
   "execution_count": 102,
   "metadata": {},
   "outputs": [
    {
     "name": "stdout",
     "output_type": "stream",
     "text": [
      "Accuracy: 0.817\n",
      "Precision: 0.661\n",
      "Recall: 0.352\n"
     ]
    }
   ],
   "source": [
    "print(\"Accuracy:\",accuracy_score(y_test, y_pred).round(3))\n",
    "print(\"Precision:\",precision_score(y_test, y_pred).round(3))\n",
    "print(\"Recall:\",recall_score(y_test, y_pred).round(3))"
   ]
  },
  {
   "cell_type": "code",
   "execution_count": 104,
   "metadata": {},
   "outputs": [
    {
     "data": {
      "text/plain": [
       "<matplotlib.legend.Legend at 0x1b5dadea5b0>"
      ]
     },
     "execution_count": 104,
     "metadata": {},
     "output_type": "execute_result"
    },
    {
     "data": {
      "image/png": "[encoded data removed]",
      "text/plain": [
       "<Figure size 432x288 with 1 Axes>"
      ]
     },
     "metadata": {
      "needs_background": "light"
     },
     "output_type": "display_data"
    }
   ],
   "source": [
    "y_pred_proba = best_xgb.predict_proba(X_test_s)[::,1]\n",
    "fpr, tpr, _ = roc_curve(y_test,  y_pred_proba)\n",
    "auc = roc_auc_score(y_test, y_pred_proba).round(3)\n",
    "plt.plot(fpr,tpr,label=\"data 1, auc=\"+str(auc))\n",
    "plt.legend(loc=4)"
   ]
  },
  {
   "cell_type": "code",
   "execution_count": 105,
   "metadata": {},
   "outputs": [
    {
     "name": "stdout",
     "output_type": "stream",
     "text": [
      "{'MARRIAGE_3': 0.0, 'EDUCATION_3': 0.0, 'AGE': 0.01, 'BILL_AMT2': 0.01, 'BILL_AMT3': 0.01, 'BILL_AMT4': 0.01, 'BILL_AMT5': 0.01, 'BILL_AMT6': 0.01, 'MARRIAGE_2': 0.01, 'SEX_2': 0.01, 'EDUCATION_2': 0.01, 'BILL_AMT1': 0.02, 'PAY_AMT4': 0.02, 'PAY_AMT5': 0.02, 'PAY_AMT6': 0.02, 'EDUCATION_4': 0.02, 'LIMIT_BAL': 0.03, 'PAY_AMT1': 0.03, 'PAY_AMT2': 0.03, 'PAY_AMT3': 0.03, 'PAY_4': 0.05, 'PAY_5': 0.06, 'PAY_6': 0.06, 'PAY_3': 0.08, 'PAY_2': 0.14, 'PAY_1': 0.31}\n"
     ]
    }
   ],
   "source": [
    "fea_importance=dict(zip(X.columns, np.round(best_xgb.feature_importances_, 2)))\n",
    "sort_fea_importance={}\n",
    "sorted_keys = sorted(fea_importance, key=fea_importance.get)\n",
    "for i in sorted_keys:\n",
    "    sort_fea_importance[i]=fea_importance[i]\n",
    "print(sort_fea_importance)"
   ]
  },
  {
   "cell_type": "markdown",
   "metadata": {},
   "source": [
    "The most important features are still PAY_1, PAY_2, PAY_3, PAY_6 and PAY_5."
   ]
  },
  {
   "cell_type": "markdown",
   "metadata": {},
   "source": [
    "#### 3.1.2.6 KNN\n",
    "\n",
    "The k-nearest neighbors algorithm (KNN) is a non-parametric method used for classification. To calculate distances, 3 distance metrics that are often used are Euclidean Distance, Manhattan Distance, and Minkowski Distance. Here, we will test euclidean distance and manhattan distance.\n",
    "\n",
    "We will tune two hyperparameters in knn, n_neighbors and p. When p = 1, this is equivalent to using manhattan_distance (l1), and euclidean_distance (l2) for p = 2. \n",
    "\n",
    "In general practice, people choose the value of n_neighbors by calculating sqrt(N), where N stands for the number of samples in the training set."
   ]
  },
  {
   "cell_type": "code",
   "execution_count": 107,
   "metadata": {},
   "outputs": [
    {
     "name": "stdout",
     "output_type": "stream",
     "text": [
      "Fitting 5 folds for each of 10 candidates, totalling 50 fits\n"
     ]
    },
    {
     "name": "stderr",
     "output_type": "stream",
     "text": [
      "[Parallel(n_jobs=-1)]: Using backend LokyBackend with 4 concurrent workers.\n",
      "[Parallel(n_jobs=-1)]: Done  33 tasks      | elapsed:  1.8min\n",
      "[Parallel(n_jobs=-1)]: Done  50 out of  50 | elapsed:  2.7min finished\n"
     ]
    },
    {
     "name": "stdout",
     "output_type": "stream",
     "text": [
      "BEST PARAMS {'p': 2, 'n_neighbors': 20}\n",
      "Runtime of the program is 161.0065565109253\n"
     ]
    }
   ],
   "source": [
    "from sklearn.neighbors import KNeighborsClassifier\n",
    "n_neighbors = [2, 10, 20, 50, 100, 200, 500, 1000]\n",
    "p=[1,2]\n",
    "param_grid ={'n_neighbors':n_neighbors, 'p':p}\n",
    "knn = KNeighborsClassifier()\n",
    "start=time.time()\n",
    "knn_random = RandomizedSearchCV(estimator = knn, param_distributions=param_grid, cv = 5, verbose=2, random_state=42, n_jobs = -1)\n",
    "knn_random.fit(X_train_s, y_train)\n",
    "end=time.time()\n",
    "print(\"BEST PARAMS\", knn_random.best_params_)\n",
    "print(f\"Runtime of the program is {end - start}\")"
   ]
  },
  {
   "cell_type": "code",
   "execution_count": 108,
   "metadata": {},
   "outputs": [
    {
     "data": {
      "text/plain": [
       "Text(0.5, 15.0, 'Predicted label')"
      ]
     },
     "execution_count": 108,
     "metadata": {},
     "output_type": "execute_result"
    },
    {
     "data": {
      "image/png": "[encoded data removed]",
      "text/plain": [
       "<Figure size 432x288 with 2 Axes>"
      ]
     },
     "metadata": {
      "needs_background": "light"
     },
     "output_type": "display_data"
    }
   ],
   "source": [
    "best_knn=knn_random.best_estimator_\n",
    "y_pred=best_knn.predict(X_test_s)\n",
    "cnf_matrix = confusion_matrix(y_test, y_pred)\n",
    "sns.heatmap(pd.DataFrame(cnf_matrix), annot=True, cmap=\"YlGnBu\" ,fmt='g')\n",
    "plt.tight_layout()\n",
    "plt.title('Confusion matrix')\n",
    "plt.ylabel('Actual label')\n",
    "plt.xlabel('Predicted label')"
   ]
  },
  {
   "cell_type": "code",
   "execution_count": 109,
   "metadata": {},
   "outputs": [
    {
     "name": "stdout",
     "output_type": "stream",
     "text": [
      "Accuracy: 0.807\n",
      "Precision: 0.647\n",
      "Recall: 0.281\n"
     ]
    }
   ],
   "source": [
    "print(\"Accuracy:\",accuracy_score(y_test, y_pred).round(3))\n",
    "print(\"Precision:\",precision_score(y_test, y_pred).round(3))\n",
    "print(\"Recall:\",recall_score(y_test, y_pred).round(3))"
   ]
  },
  {
   "cell_type": "code",
   "execution_count": 110,
   "metadata": {},
   "outputs": [
    {
     "data": {
      "text/plain": [
       "<matplotlib.legend.Legend at 0x1b5dd2ff3a0>"
      ]
     },
     "execution_count": 110,
     "metadata": {},
     "output_type": "execute_result"
    },
    {
     "data": {
      "image/png": "[encoded data removed]",
      "text/plain": [
       "<Figure size 432x288 with 1 Axes>"
      ]
     },
     "metadata": {
      "needs_background": "light"
     },
     "output_type": "display_data"
    }
   ],
   "source": [
    "y_pred_proba = best_knn.predict_proba(X_test_s)[::,1]\n",
    "fpr, tpr, _ = roc_curve(y_test,  y_pred_proba)\n",
    "auc = roc_auc_score(y_test, y_pred_proba).round(3)\n",
    "plt.plot(fpr,tpr,label=\"data 1, auc=\"+str(auc))\n",
    "plt.legend(loc=4)"
   ]
  },
  {
   "cell_type": "markdown",
   "metadata": {},
   "source": [
    "In knn algorithms, there is no available function about feature importance.But just like linear regression, we can evaluate the importance of each individual feature by performing classification using one single feature at a time. "
   ]
  },
  {
   "cell_type": "code",
   "execution_count": 115,
   "metadata": {},
   "outputs": [
    {
     "name": "stdout",
     "output_type": "stream",
     "text": [
      "Feature  Accuracy\n",
      "0        0.77881\n",
      "1        0.77881\n",
      "2        0.810952\n",
      "3        0.788667\n",
      "4        0.783143\n",
      "5        0.783\n",
      "6        0.784952\n",
      "7        0.783333\n",
      "8        0.78\n",
      "9        0.778381\n",
      "10        0.777905\n",
      "11        0.778429\n",
      "12        0.777619\n",
      "13        0.779095\n",
      "14        0.777571\n",
      "15        0.778143\n",
      "16        0.764952\n",
      "17        0.778476\n",
      "18        0.777762\n",
      "19        0.775524\n",
      "20        0.77881\n",
      "21        0.77881\n",
      "22        0.77881\n",
      "23        0.77881\n",
      "24        0.77881\n",
      "25        0.77881\n"
     ]
    }
   ],
   "source": [
    "from sklearn.model_selection import cross_val_score\n",
    "clf = KNeighborsClassifier(p=2, n_neighbors=20)\n",
    "n_feats = X_train_s.shape[1]\n",
    "print('Feature  Accuracy')\n",
    "for i in range(n_feats):\n",
    "    X = X_train_s[:, i].reshape(-1, 1)\n",
    "    scores = cross_val_score(clf, X, y_train, cv=5)\n",
    "    print(f'{i}        {scores.mean():g}')"
   ]
  },
  {
   "cell_type": "markdown",
   "metadata": {},
   "source": [
    "Well, it seems these predictors are pretty much similar to each other, considering the similar accuracy results we obtained above."
   ]
  },
  {
   "cell_type": "markdown",
   "metadata": {},
   "source": [
    "### 3.3 summary"
   ]
  },
  {
   "cell_type": "code",
   "execution_count": 119,
   "metadata": {},
   "outputs": [
    {
     "data": {
      "text/plain": [
       "Text(0.5, 1.0, 'the ROC/AUC curves of all studied models')"
      ]
     },
     "execution_count": 119,
     "metadata": {},
     "output_type": "execute_result"
    },
    {
     "data": {
      "image/png": "[encoded data removed]",
      "text/plain": [
       "<Figure size 1080x864 with 1 Axes>"
      ]
     },
     "metadata": {
      "needs_background": "light"
     },
     "output_type": "display_data"
    }
   ],
   "source": [
    "from sklearn.metrics import plot_roc_curve\n",
    "fig,ax=plt.subplots(figsize=(15,12))\n",
    "plot_roc_curve(best_C_logreg, X_test_s, y_test,ax=ax, color=\"blue\",label='Regularized Logistic Regression')\n",
    "plot_roc_curve(best_tree, X_test_s, y_test,ax=ax, color=\"red\",label='Decision Tree')\n",
    "plot_roc_curve(best_rf, X_test_s, y_test,ax=ax, color=\"black\",label='Random Forest')\n",
    "plot_roc_curve(best_gbm, X_test_s, y_test,ax=ax, color=\"yellow\",label='Gradient Boosting')\n",
    "plot_roc_curve(best_xgb, X_test_s, y_test,ax=ax, color=\"green\",label='Extreme Gradient Boosting')\n",
    "plot_roc_curve(best_knn, X_test_s, y_test,ax=ax, color=\"purple\",label='K Nearest Neighbour')\n",
    "plt.title('the ROC/AUC curves of all studied models')"
   ]
  },
  {
   "cell_type": "markdown",
   "metadata": {},
   "source": [
    "The three ensemble algorithms gave us comparable roc_auc results. If we compare their accuracy, extreme gradient boosing is 0.817, gradient boosting 0.819 and random forest 0.817. In summary, ensemble algorithms gave us better results than simple algorithms, like decision tree, logistic regression and knn.\n",
    "\n",
    "Although different algorithms gave us slightly difference sequence of feature importance, PAY_1, PAY_2 and PAY_3 are consistently the most important ones.\n",
    "\n",
    "In the next section, we will develop a machine learning pipline to help us better optimize and select algorithms. We will also explore the reduced dataset df_sum to develop the prediction model for credit card default."
   ]
  }
 ],
 "metadata": {
  "kernelspec": {
   "display_name": "Python 3",
   "language": "python",
   "name": "python3"
  },
  "language_info": {
   "codemirror_mode": {
    "name": "ipython",
    "version": 3
   },
   "file_extension": ".py",
   "mimetype": "text/x-python",
   "name": "python",
   "nbconvert_exporter": "python",
   "pygments_lexer": "ipython3",
   "version": "3.8.6"
  }
 },
 "nbformat": 4,
 "nbformat_minor": 4
}
